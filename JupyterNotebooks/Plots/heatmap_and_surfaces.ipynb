{
 "cells": [
  {
   "cell_type": "code",
   "execution_count": 1,
   "metadata": {},
   "outputs": [
    {
     "name": "stderr",
     "output_type": "stream",
     "text": [
      "┌ Info: Precompiling JLD [4138dd39-2aa7-5051-a626-17a0bb65d9c8]\n",
      "└ @ Base loading.jl:1273\n",
      "┌ Info: Precompiling Dierckx [39dd38d3-220a-591b-8e3c-4c3a8c710a94]\n",
      "└ @ Base loading.jl:1273\n",
      "┌ Info: Precompiling PyPlot [d330b81b-6aea-500a-939a-2ce795aea3ee]\n",
      "└ @ Base loading.jl:1273\n",
      "┌ Info: Precompiling Seaborn [d2ef9438-c967-53ab-8060-373fdd9e13eb]\n",
      "└ @ Base loading.jl:1273\n",
      "┌ Warning: No working GUI backend found for matplotlib\n",
      "└ @ PyPlot ~/.julia/packages/PyPlot/4wzW1/src/init.jl:165\n",
      "┌ Info: Precompiling ModelObj [top-level]\n",
      "└ @ Base loading.jl:1273\n",
      "┌ Info: Precompiling AnalyticFunctions [top-level]\n",
      "└ @ Base loading.jl:1273\n",
      "┌ Info: Precompiling BondPrInterp [top-level]\n",
      "└ @ Base loading.jl:1273\n",
      "┌ Info: Precompiling DSP [717857b8-e6f2-59f4-9121-6e50c889abd2]\n",
      "└ @ Base loading.jl:1273\n",
      "┌ Info: Precompiling EqFinDiff [top-level]\n",
      "└ @ Base loading.jl:1273\n",
      "┌ Info: Precompiling Batch [top-level]\n",
      "└ @ Base loading.jl:1273\n",
      "┌ Info: Precompiling JointEqStructs [top-level]\n",
      "└ @ Base loading.jl:1273\n",
      "┌ Info: Precompiling FullInfoEq [top-level]\n",
      "└ @ Base loading.jl:1273\n"
     ]
    },
    {
     "data": {
      "text/plain": [
       "Figure(PyObject <Figure size 400x100 with 1 Axes>)"
      ]
     },
     "metadata": {},
     "output_type": "display_data"
    },
    {
     "data": {
      "text/plain": [
       "1000"
      ]
     },
     "execution_count": 1,
     "metadata": {},
     "output_type": "execute_result"
    }
   ],
   "source": [
    "using Interpolations\n",
    "using Distributed\n",
    "using DataFrames\n",
    "using Printf\n",
    "using JLD\n",
    "using CSV\n",
    "using Dierckx\n",
    "using Dates\n",
    "using PyPlot\n",
    "# using PyCall\n",
    "using Seaborn\n",
    "using LaTeXStrings\n",
    "\n",
    "main_path = \"/home/artur/BondPricing\"\n",
    "module_path = string(main_path, \"/\", \"Julia/modules/\")\n",
    "# push!(LOAD_PATH, module_path)\n",
    "modls = [\"ModelObj\", \"AnalyticFunctions\", \"BondPrInterp\",\n",
    "         \"EqFinDiff\", \"Batch\", \"ModelPlots\", \n",
    "         \"JointEqStructs\", \"FullInfoEq\", \"JointEq\"]\n",
    "for modl in modls\n",
    "    include(string(joinpath(module_path, modl), \".jl\"))\n",
    "end\n",
    "ENV[\"LINES\"] = 750\n",
    "ENV[\"COLUMNS\"] = 1000"
   ]
  },
  {
   "cell_type": "markdown",
   "metadata": {},
   "source": [
    "# SVM - HeatMaps and Surfaces"
   ]
  },
  {
   "cell_type": "code",
   "execution_count": null,
   "metadata": {},
   "outputs": [
    {
     "name": "stdout",
     "output_type": "stream",
     "text": [
      "Loading optimal results dataframe...\n",
      "Setting parameter dictionary using (m, m_comb_num) ID pair...\n",
      "Loading optimal results dataframe...\n",
      "Setting SVM Slice Data\n"
     ]
    },
    {
     "name": "stderr",
     "output_type": "stream",
     "text": [
      "WARNING: replacing module Batch.\n",
      "WARNING: replacing module ModelObj.\n",
      "WARNING: replacing module AnalyticFunctions.\n",
      "WARNING: replacing module BondPrInterp.\n",
      "WARNING: replacing module EqFinDiff.\n",
      "WARNING: replacing module ModelPlots.\n"
     ]
    },
    {
     "name": "stdout",
     "output_type": "stream",
     "text": [
      "Loading optimal results dataframe...\n",
      "Setting parameter dictionary using (m, m_comb_num) ID pair...\n",
      "Loading optimal results dataframe...\n",
      "Setting SVM Slice Data\n"
     ]
    }
   ],
   "source": [
    "plot_script_path = string(main_path, \"/Julia/Batch/plot_scripts\")\n",
    "include(string(plot_script_path, \"/\", \"svm_plots_script.jl\"))"
   ]
  },
  {
   "cell_type": "code",
   "execution_count": null,
   "metadata": {},
   "outputs": [],
   "source": []
  }
 ],
 "metadata": {
  "kernelspec": {
   "display_name": "Julia 1.3.1",
   "language": "julia",
   "name": "julia-1.3"
  },
  "language_info": {
   "file_extension": ".jl",
   "mimetype": "application/julia",
   "name": "julia",
   "version": "1.3.1"
  }
 },
 "nbformat": 4,
 "nbformat_minor": 2
}
