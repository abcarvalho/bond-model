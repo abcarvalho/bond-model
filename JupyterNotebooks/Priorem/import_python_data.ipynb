{
 "cells": [
  {
   "cell_type": "code",
   "execution_count": 1,
   "metadata": {},
   "outputs": [
    {
     "name": "stderr",
     "output_type": "stream",
     "text": [
      "┌ Info: Recompiling stale cache file /home/artur/.julia/compiled/v1.0/DataFrames/AR9oZ.ji for DataFrames [a93c6f00-e57d-5684-b7b6-d8193f3e46c0]\n",
      "└ @ Base loading.jl:1184\n",
      "┌ Info: Recompiling stale cache file /home/artur/.julia/compiled/v1.0/CSV/HHBkp.ji for CSV [336ed68f-0bac-5ca0-87d4-7b16caf5d00b]\n",
      "└ @ Base loading.jl:1184\n"
     ]
    }
   ],
   "source": [
    "using DataFrames, CSV"
   ]
  },
  {
   "cell_type": "code",
   "execution_count": 2,
   "metadata": {},
   "outputs": [
    {
     "data": {
      "text/plain": [
       "\"/home/artur/BondPricing/Python/Results/ArturRM/m_1/processed_csv_julia\""
      ]
     },
     "execution_count": 2,
     "metadata": {},
     "output_type": "execute_result"
    }
   ],
   "source": [
    "file_path_name = \"/home/artur/BondPricing/Python/Results/ArturRM/m_1/processed_csv_julia\""
   ]
  },
  {
   "cell_type": "code",
   "execution_count": 3,
   "metadata": {},
   "outputs": [
    {
     "name": "stderr",
     "output_type": "stream",
     "text": [
      "┌ Warning: `Pkg.dir(pkgname, paths...)` is deprecated; instead, do `import DataFrames; joinpath(dirname(pathof(DataFrames)), \"..\", paths...)`.\n",
      "└ @ Pkg.API /buildworker/worker/package_linux64/build/usr/share/julia/stdlib/v1.0/Pkg/src/API.jl:454\n"
     ]
    },
    {
     "data": {
      "text/html": [
       "<table class=\"data-frame\"><thead><tr><th></th><th></th><th>folder_name</th><th>created</th><th>c_folder_count</th><th>V0</th><th>r</th><th>alpha</th><th>pi</th><th>xi</th><th>kappa</th><th>gross_delta</th><th>iota</th><th>delta</th><th>lambda</th><th>sigmal</th><th>sigmah</th><th>m</th><th>c</th><th>p</th><th>vb</th><th>debt</th><th>equity</th><th>firm_value</th><th>leverage</th><th>ROE</th></tr></thead><tbody><tr><th>1</th><td>0</td><td>xi_1.00__k_30__gross_delta_200__iota_0__lambda_0.30__sigmal_0.15__sigmah_0.23</td><td>True</td><td>10</td><td>100</td><td>0.08</td><td>0.6</td><td>0.27</td><td>1.0</td><td>0.003</td><td>0.02</td><td>0.0</td><td>0.02</td><td>0.3</td><td>0.15</td><td>0.225</td><td>1</td><td>3.39276</td><td>40.8624</td><td>45.2349</td><td>40.8626</td><td>66.7652</td><td>107.439</td><td>37.9614</td><td>13.007</td></tr><tr><th>2</th><td>1</td><td>xi_1.00__k_30__gross_delta_200__iota_0__lambda_0.75__sigmal_0.15__sigmah_0.28</td><td>True</td><td>10</td><td>100</td><td>0.08</td><td>0.6</td><td>0.27</td><td>1.0</td><td>0.003</td><td>0.02</td><td>0.0</td><td>0.02</td><td>0.75</td><td>0.15</td><td>0.275</td><td>1</td><td>2.67484</td><td>32.2151</td><td>36.4421</td><td>32.2153</td><td>72.8585</td><td>104.953</td><td>30.6466</td><td>7.55651</td></tr><tr><th>3</th><td>2</td><td>xi_1.00__k_40__gross_delta_200__iota_0__lambda_0.10__sigmal_0.15__sigmah_0.28</td><td>True</td><td>10</td><td>100</td><td>0.08</td><td>0.6</td><td>0.27</td><td>1.0</td><td>0.004</td><td>0.02</td><td>0.0</td><td>0.02</td><td>0.1</td><td>0.15</td><td>0.275</td><td>1</td><td>3.48771</td><td>41.5362</td><td>46.1599</td><td>41.5351</td><td>65.2975</td><td>106.703</td><td>38.8707</td><td>11.8869</td></tr><tr><th>4</th><td>3</td><td>xi_1.00__k_10__gross_delta_200__iota_0__lambda_0.30__sigmal_0.15__sigmah_0.25</td><td>True</td><td>10</td><td>100</td><td>0.08</td><td>0.6</td><td>0.27</td><td>1.0</td><td>0.001</td><td>0.02</td><td>0.0</td><td>0.02</td><td>0.3</td><td>0.15</td><td>0.25</td><td>1</td><td>3.22693</td><td>39.845</td><td>44.3032</td><td>39.8443</td><td>67.4601</td><td>107.187</td><td>37.1406</td><td>12.0769</td></tr><tr><th>5</th><td>4</td><td>xi_1.00__k_30__gross_delta_200__iota_0__lambda_0.30__sigmal_0.15__sigmah_0.35</td><td>True</td><td>10</td><td>100</td><td>0.08</td><td>0.6</td><td>0.27</td><td>1.0</td><td>0.003</td><td>0.02</td><td>0.0</td><td>0.02</td><td>0.3</td><td>0.15</td><td>0.35</td><td>1</td><td>2.69262</td><td>32.4328</td><td>37.1441</td><td>32.4328</td><td>71.0523</td><td>103.383</td><td>31.3332</td><td>5.04391</td></tr><tr><th>6</th><td>5</td><td>xi_1.00__k_25__gross_delta_200__iota_0__lambda_0.30__sigmal_0.15__sigmah_0.23</td><td>True</td><td>10</td><td>100</td><td>0.08</td><td>0.6</td><td>0.27</td><td>1.0</td><td>0.0025</td><td>0.02</td><td>0.0</td><td>0.02</td><td>0.3</td><td>0.15</td><td>0.225</td><td>1</td><td>3.36567</td><td>40.7846</td><td>45.1178</td><td>40.7846</td><td>67.0195</td><td>107.619</td><td>37.8289</td><td>13.2818</td></tr><tr><th>7</th><td>6</td><td>xi_1.00__k_30__gross_delta_200__iota_0__lambda_0.30__sigmal_0.15__sigmah_0.30</td><td>True</td><td>10</td><td>100</td><td>0.08</td><td>0.6</td><td>0.27</td><td>1.0</td><td>0.003</td><td>0.02</td><td>0.0</td><td>0.02</td><td>0.3</td><td>0.15</td><td>0.3</td><td>1</td><td>2.84333</td><td>34.248</td><td>38.8652</td><td>34.248</td><td>70.6313</td><td>104.83</td><td>32.6448</td><td>7.51367</td></tr><tr><th>8</th><td>7</td><td>xi_1.00__k_10__gross_delta_200__iota_0__lambda_0.50__sigmal_0.15__sigmah_0.23</td><td>True</td><td>10</td><td>100</td><td>0.08</td><td>0.6</td><td>0.27</td><td>1.0</td><td>0.001</td><td>0.02</td><td>0.0</td><td>0.02</td><td>0.5</td><td>0.15</td><td>0.225</td><td>1</td><td>3.30127</td><td>40.754</td><td>44.9768</td><td>40.7536</td><td>67.2758</td><td>107.812</td><td>37.7278</td><td>13.5437</td></tr><tr><th>9</th><td>8</td><td>xi_1.00__k_10__gross_delta_200__iota_0__lambda_0.10__sigmal_0.15__sigmah_0.35</td><td>True</td><td>10</td><td>100</td><td>0.08</td><td>0.6</td><td>0.27</td><td>1.0</td><td>0.001</td><td>0.02</td><td>0.0</td><td>0.02</td><td>0.1</td><td>0.15</td><td>0.35</td><td>1</td><td>3.18878</td><td>39.3561</td><td>43.8875</td><td>39.3563</td><td>66.5814</td><td>105.859</td><td>37.1542</td><td>9.76831</td></tr><tr><th>10</th><td>9</td><td>xi_1.00__k_30__gross_delta_200__iota_0__lambda_0.10__sigmal_0.15__sigmah_0.20</td><td>True</td><td>10</td><td>100</td><td>0.08</td><td>0.6</td><td>0.27</td><td>1.0</td><td>0.003</td><td>0.02</td><td>0.0</td><td>0.02</td><td>0.1</td><td>0.15</td><td>0.2</td><td>1</td><td>3.97003</td><td>47.82</td><td>51.8116</td><td>47.82</td><td>61.8926</td><td>109.724</td><td>43.5825</td><td>18.6372</td></tr><tr><th>11</th><td>10</td><td>xi_1.00__k_40__gross_delta_200__iota_0__lambda_0.20__sigmal_0.15__sigmah_0.28</td><td>True</td><td>10</td><td>100</td><td>0.08</td><td>0.6</td><td>0.27</td><td>1.0</td><td>0.004</td><td>0.02</td><td>0.0</td><td>0.02</td><td>0.2</td><td>0.15</td><td>0.275</td><td>1</td><td>3.15945</td><td>37.6041</td><td>42.3185</td><td>37.6041</td><td>68.2048</td><td>105.754</td><td>35.546</td><td>9.24287</td></tr><tr><th>12</th><td>11</td><td>xi_1.00__k_50__gross_delta_200__iota_0__lambda_0.30__sigmal_0.15__sigmah_0.35</td><td>True</td><td>10</td><td>100</td><td>0.08</td><td>0.6</td><td>0.27</td><td>1.0</td><td>0.005</td><td>0.02</td><td>0.0</td><td>0.02</td><td>0.3</td><td>0.15</td><td>0.35</td><td>1</td><td>2.65398</td><td>31.2162</td><td>35.9212</td><td>31.2161</td><td>71.8297</td><td>102.958</td><td>30.2877</td><td>4.2727</td></tr><tr><th>13</th><td>12</td><td>xi_1.00__k_30__gross_delta_200__iota_0__lambda_0.20__sigmal_0.15__sigmah_0.23</td><td>True</td><td>10</td><td>100</td><td>0.08</td><td>0.6</td><td>0.27</td><td>1.0</td><td>0.003</td><td>0.02</td><td>0.0</td><td>0.02</td><td>0.2</td><td>0.15</td><td>0.225</td><td>1</td><td>3.50176</td><td>42.1787</td><td>46.5055</td><td>42.1788</td><td>65.8217</td><td>107.863</td><td>39.0408</td><td>14.122</td></tr><tr><th>14</th><td>13</td><td>xi_1.00__k_40__gross_delta_200__iota_0__lambda_0.50__sigmal_0.15__sigmah_0.30</td><td>True</td><td>10</td><td>100</td><td>0.08</td><td>0.6</td><td>0.27</td><td>1.0</td><td>0.004</td><td>0.02</td><td>0.0</td><td>0.02</td><td>0.5</td><td>0.15</td><td>0.3</td><td>1</td><td>2.66336</td><td>31.6972</td><td>36.1699</td><td>31.6972</td><td>72.5186</td><td>104.046</td><td>30.4051</td><td>6.13577</td></tr><tr><th>15</th><td>14</td><td>xi_1.00__k_30__gross_delta_200__iota_0__lambda_0.50__sigmal_0.15__sigmah_0.35</td><td>True</td><td>10</td><td>100</td><td>0.08</td><td>0.6</td><td>0.27</td><td>1.0</td><td>0.003</td><td>0.02</td><td>0.0</td><td>0.02</td><td>0.5</td><td>0.15</td><td>0.35</td><td>1</td><td>2.48128</td><td>29.8876</td><td>34.2948</td><td>29.8876</td><td>73.201</td><td>103.024</td><td>28.9936</td><td>4.17496</td></tr><tr><th>16</th><td>15</td><td>xi_1.00__k_25__gross_delta_200__iota_0__lambda_0.10__sigmal_0.15__sigmah_0.28</td><td>True</td><td>10</td><td>100</td><td>0.08</td><td>0.6</td><td>0.27</td><td>1.0</td><td>0.0025</td><td>0.02</td><td>0.0</td><td>0.02</td><td>0.1</td><td>0.15</td><td>0.275</td><td>1</td><td>3.45909</td><td>41.9181</td><td>46.3406</td><td>41.9181</td><td>65.4765</td><td>107.253</td><td>39.022</td><td>12.9483</td></tr><tr><th>17</th><td>16</td><td>xi_1.00__k_40__gross_delta_200__iota_0__lambda_0.30__sigmal_0.15__sigmah_0.23</td><td>True</td><td>10</td><td>100</td><td>0.08</td><td>0.6</td><td>0.27</td><td>1.0</td><td>0.004</td><td>0.02</td><td>0.0</td><td>0.02</td><td>0.3</td><td>0.15</td><td>0.225</td><td>1</td><td>3.40023</td><td>40.4674</td><td>44.9927</td><td>40.4674</td><td>66.7809</td><td>107.067</td><td>37.7269</td><td>12.2711</td></tr><tr><th>18</th><td>17</td><td>xi_1.00__k_40__gross_delta_200__iota_0__lambda_0.30__sigmal_0.15__sigmah_0.20</td><td>True</td><td>10</td><td>100</td><td>0.08</td><td>0.6</td><td>0.27</td><td>1.0</td><td>0.004</td><td>0.02</td><td>0.0</td><td>0.02</td><td>0.3</td><td>0.15</td><td>0.2</td><td>1</td><td>3.69679</td><td>43.9998</td><td>48.3495</td><td>43.9997</td><td>64.3933</td><td>108.339</td><td>40.5723</td><td>15.2752</td></tr><tr><th>19</th><td>18</td><td>xi_1.00__k_10__gross_delta_200__iota_0__lambda_0.10__sigmal_0.15__sigmah_0.23</td><td>True</td><td>10</td><td>100</td><td>0.08</td><td>0.6</td><td>0.27</td><td>1.0</td><td>0.001</td><td>0.02</td><td>0.0</td><td>0.02</td><td>0.1</td><td>0.15</td><td>0.225</td><td>1</td><td>3.77626</td><td>46.6257</td><td>50.5971</td><td>46.6251</td><td>63.0965</td><td>109.705</td><td>42.4728</td><td>18.4061</td></tr><tr><th>20</th><td>19</td><td>xi_1.00__k_10__gross_delta_200__iota_0__lambda_0.75__sigmal_0.15__sigmah_0.30</td><td>True</td><td>10</td><td>100</td><td>0.08</td><td>0.6</td><td>0.27</td><td>1.0</td><td>0.001</td><td>0.02</td><td>0.0</td><td>0.02</td><td>0.75</td><td>0.15</td><td>0.3</td><td>1</td><td>2.71593</td><td>33.5056</td><td>37.9039</td><td>33.5062</td><td>71.2063</td><td>104.533</td><td>31.9847</td><td>7.01852</td></tr><tr><th>21</th><td>20</td><td>xi_1.00__k_25__gross_delta_200__iota_0__lambda_0.30__sigmal_0.15__sigmah_0.30</td><td>True</td><td>10</td><td>100</td><td>0.08</td><td>0.6</td><td>0.27</td><td>1.0</td><td>0.0025</td><td>0.02</td><td>0.0</td><td>0.02</td><td>0.3</td><td>0.15</td><td>0.3</td><td>1</td><td>2.84312</td><td>34.4508</td><td>39.0337</td><td>34.4509</td><td>70.5693</td><td>104.972</td><td>32.7938</td><td>7.75976</td></tr><tr><th>22</th><td>21</td><td>xi_1.00__k_40__gross_delta_200__iota_0__lambda_0.20__sigmal_0.15__sigmah_0.30</td><td>True</td><td>10</td><td>100</td><td>0.08</td><td>0.6</td><td>0.27</td><td>1.0</td><td>0.004</td><td>0.02</td><td>0.0</td><td>0.02</td><td>0.2</td><td>0.15</td><td>0.3</td><td>1</td><td>3.0037</td><td>35.7494</td><td>40.4654</td><td>35.7494</td><td>69.2998</td><td>105.049</td><td>34.0314</td><td>7.8554</td></tr><tr><th>23</th><td>22</td><td>xi_1.00__k_50__gross_delta_200__iota_0__lambda_0.75__sigmal_0.15__sigmah_0.25</td><td>True</td><td>10</td><td>100</td><td>0.08</td><td>0.6</td><td>0.27</td><td>1.0</td><td>0.005</td><td>0.02</td><td>0.0</td><td>0.02</td><td>0.75</td><td>0.15</td><td>0.25</td><td>1</td><td>3.00013</td><td>35.2871</td><td>39.8767</td><td>35.2871</td><td>70.1078</td><td>105.395</td><td>33.4808</td><td>8.33644</td></tr><tr><th>24</th><td>23</td><td>xi_1.00__k_10__gross_delta_200__iota_0__lambda_0.75__sigmal_0.15__sigmah_0.28</td><td>True</td><td>10</td><td>100</td><td>0.08</td><td>0.6</td><td>0.27</td><td>1.0</td><td>0.001</td><td>0.02</td><td>0.0</td><td>0.02</td><td>0.75</td><td>0.15</td><td>0.275</td><td>1</td><td>2.68457</td><td>33.1268</td><td>37.2432</td><td>33.127</td><td>72.5087</td><td>105.517</td><td>31.345</td><td>8.53792</td></tr><tr><th>25</th><td>24</td><td>xi_1.00__k_40__gross_delta_200__iota_0__lambda_0.10__sigmal_0.15__sigmah_0.23</td><td>True</td><td>10</td><td>100</td><td>0.08</td><td>0.6</td><td>0.27</td><td>1.0</td><td>0.004</td><td>0.02</td><td>0.0</td><td>0.02</td><td>0.1</td><td>0.15</td><td>0.225</td><td>1</td><td>3.7093</td><td>44.1479</td><td>48.4396</td><td>44.1479</td><td>64.205</td><td>108.334</td><td>40.7254</td><td>15.1525</td></tr><tr><th>26</th><td>25</td><td>xi_1.00__k_50__gross_delta_200__iota_0__lambda_0.30__sigmal_0.15__sigmah_0.20</td><td>True</td><td>10</td><td>100</td><td>0.08</td><td>0.6</td><td>0.27</td><td>1.0</td><td>0.005</td><td>0.02</td><td>0.0</td><td>0.02</td><td>0.3</td><td>0.15</td><td>0.2</td><td>1</td><td>3.69553</td><td>43.4678</td><td>47.8944</td><td>43.4677</td><td>64.5018</td><td>107.918</td><td>40.2399</td><td>14.3795</td></tr><tr><th>27</th><td>26</td><td>xi_1.00__k_25__gross_delta_200__iota_0__lambda_0.30__sigmal_0.15__sigmah_0.25</td><td>True</td><td>10</td><td>100</td><td>0.08</td><td>0.6</td><td>0.27</td><td>1.0</td><td>0.0025</td><td>0.02</td><td>0.0</td><td>0.02</td><td>0.3</td><td>0.15</td><td>0.25</td><td>1</td><td>3.21244</td><td>38.9295</td><td>43.474</td><td>38.9295</td><td>67.8488</td><td>106.675</td><td>36.4657</td><td>11.0275</td></tr><tr><th>28</th><td>27</td><td>xi_1.00__k_10__gross_delta_200__iota_0__lambda_0.50__sigmal_0.15__sigmah_0.20</td><td>True</td><td>10</td><td>100</td><td>0.08</td><td>0.6</td><td>0.27</td><td>1.0</td><td>0.001</td><td>0.02</td><td>0.0</td><td>0.02</td><td>0.5</td><td>0.15</td><td>0.2</td><td>1</td><td>3.56944</td><td>44.0588</td><td>47.9928</td><td>44.0587</td><td>65.293</td><td>109.217</td><td>40.2697</td><td>17.1769</td></tr><tr><th>29</th><td>28</td><td>xi_1.00__k_50__gross_delta_200__iota_0__lambda_0.20__sigmal_0.15__sigmah_0.30</td><td>True</td><td>10</td><td>100</td><td>0.08</td><td>0.6</td><td>0.27</td><td>1.0</td><td>0.005</td><td>0.02</td><td>0.0</td><td>0.02</td><td>0.2</td><td>0.15</td><td>0.3</td><td>1</td><td>2.99796</td><td>35.2619</td><td>40.034</td><td>35.2618</td><td>69.4918</td><td>104.754</td><td>33.6615</td><td>7.34472</td></tr><tr><th>30</th><td>29</td><td>xi_1.00__k_40__gross_delta_200__iota_0__lambda_0.20__sigmal_0.15__sigmah_0.25</td><td>True</td><td>10</td><td>100</td><td>0.08</td><td>0.6</td><td>0.27</td><td>1.0</td><td>0.004</td><td>0.02</td><td>0.0</td><td>0.02</td><td>0.2</td><td>0.15</td><td>0.25</td><td>1</td><td>3.36224</td><td>40.035</td><td>44.7289</td><td>40.0343</td><td>66.6329</td><td>106.471</td><td>37.5316</td><td>11.145</td></tr><tr><th>&vellip;</th><td>&vellip;</td><td>&vellip;</td><td>&vellip;</td><td>&vellip;</td><td>&vellip;</td><td>&vellip;</td><td>&vellip;</td><td>&vellip;</td><td>&vellip;</td><td>&vellip;</td><td>&vellip;</td><td>&vellip;</td><td>&vellip;</td><td>&vellip;</td><td>&vellip;</td><td>&vellip;</td><td>&vellip;</td><td>&vellip;</td><td>&vellip;</td><td>&vellip;</td><td>&vellip;</td><td>&vellip;</td><td>&vellip;</td><td>&vellip;</td><td>&vellip;</td></tr></tbody></table>"
      ],
      "text/plain": [
       "150×25 DataFrame. Omitted printing of 24 columns\n",
       "│ Row │     │\n",
       "├─────┼─────┤\n",
       "│ 1   │ 0   │\n",
       "│ 2   │ 1   │\n",
       "│ 3   │ 2   │\n",
       "│ 4   │ 3   │\n",
       "│ 5   │ 4   │\n",
       "│ 6   │ 5   │\n",
       "│ 7   │ 6   │\n",
       "│ 8   │ 7   │\n",
       "│ 9   │ 8   │\n",
       "│ 10  │ 9   │\n",
       "│ 11  │ 10  │\n",
       "⋮\n",
       "│ 139 │ 138 │\n",
       "│ 140 │ 139 │\n",
       "│ 141 │ 140 │\n",
       "│ 142 │ 141 │\n",
       "│ 143 │ 142 │\n",
       "│ 144 │ 143 │\n",
       "│ 145 │ 144 │\n",
       "│ 146 │ 145 │\n",
       "│ 147 │ 146 │\n",
       "│ 148 │ 147 │\n",
       "│ 149 │ 148 │\n",
       "│ 150 │ 149 │"
      ]
     },
     "execution_count": 3,
     "metadata": {},
     "output_type": "execute_result"
    }
   ],
   "source": [
    "dset = CSV.read(joinpath(Pkg.dir(\"DataFrames\"),file_path_name))"
   ]
  },
  {
   "cell_type": "code",
   "execution_count": null,
   "metadata": {
    "collapsed": true
   },
   "outputs": [],
   "source": []
  }
 ],
 "metadata": {
  "kernelspec": {
   "display_name": "Julia 1.0.3",
   "language": "julia",
   "name": "julia-1.0"
  },
  "language_info": {
   "file_extension": ".jl",
   "mimetype": "application/julia",
   "name": "julia",
   "version": "1.0.3"
  }
 },
 "nbformat": 4,
 "nbformat_minor": 2
}
