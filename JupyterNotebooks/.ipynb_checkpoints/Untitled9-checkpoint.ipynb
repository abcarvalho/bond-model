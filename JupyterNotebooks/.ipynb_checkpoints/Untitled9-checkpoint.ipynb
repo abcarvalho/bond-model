{
 "cells": [
  {
   "cell_type": "code",
   "execution_count": 1,
   "metadata": {
    "autoscroll": false,
    "ein.hycell": false,
    "ein.tags": "worksheet-0",
    "slideshow": {
     "slide_type": "-"
    }
   },
   "outputs": [],
   "source": [
    "using Revise \n",
    "\n",
    "module_path = \"/home/artur/BondPricing/Julia/modules/\"\n",
    "include(string(module_path, \"/\", \"ModelObj.jl\"))\n",
    "modnames = [\"AnalyticFunctions\", \"BondPrInterp\", \"EqFinDiff\"]\n",
    "for modl in modnames\n",
    "    include(string(joinpath(module_path, modl), \"/\", modl, \".jl\"))\n",
    "end"
   ]
  },
  {
   "cell_type": "code",
   "execution_count": 2,
   "metadata": {
    "autoscroll": false,
    "ein.hycell": false,
    "ein.tags": "worksheet-0",
    "slideshow": {
     "slide_type": "-"
    }
   },
   "outputs": [
    {
     "data": {
      "text/plain": [
       "Main.ModelObj.Firm\n",
       "  m: Float32 1.0f0\n",
       "  c: Float32 6.39f0\n",
       "  p: Float32 61.68f0\n",
       "  vbl: Float32 60.0f0\n",
       "  vbh: Float32 62.0f0\n",
       "  pm: Main.ModelObj.FirmParams\n"
      ]
     },
     "execution_count": 2,
     "metadata": {},
     "output_type": "execute_result"
    }
   ],
   "source": [
    "pardict = Dict(\"V0\" => 100, \n",
    "               \"vbl\" => 60, \n",
    "               \"vbh\" => 62, \n",
    "                \"m\" => 1.,\n",
    "                \"c\" => 6.39,\n",
    "                \"p\" => 61.68,\n",
    "                \"sigmal\" => .25,\n",
    "                \"sigmah\" => .25,\n",
    "                \"r\" => .08,\n",
    "                \"gross_delta\" => .02,\n",
    "                \"iota\" => .0,\n",
    "                \"xi\" => 1.,\n",
    "                \"kappa\" => .015,\n",
    "                \"alpha\" => .6,\n",
    "                \"pi\" => .27,\n",
    "                \"lambda\" => .3)\n",
    "\n",
    "svm = ModelObj.firm_constructor(pardict)"
   ]
  },
  {
   "cell_type": "code",
   "execution_count": 3,
   "metadata": {
    "autoscroll": false,
    "ein.hycell": false,
    "ein.tags": "worksheet-0",
    "slideshow": {
     "slide_type": "-"
    }
   },
   "outputs": [
    {
     "name": "stdout",
     "output_type": "stream",
     "text": [
      " 46.839325 seconds (22.01 M allocations: 1.891 GiB, 2.47% gc time)\n"
     ]
    },
    {
     "data": {
      "text/plain": [
       "Dict{String,AbstractArray{Float64,N} where N} with 7 entries:\n",
       "  \"vtgrid\"   => 0.08:0.08:0.8\n",
       "  \"f12\"      => [0.101968 0.0900789 … 0.0356983 0.0179562; 0.164741 0.151849 … …\n",
       "  \"f13\"      => [0.00451994 0.016928 … 0.035561 0.0178967; 0.00400585 0.0173554…\n",
       "  \"f22\"      => [1.79793e-7, 8.60424e-7, 3.64161e-6, 1.40637e-5, 4.96701e-5, 0.…\n",
       "  \"f21\"      => [1.03711e-7, 4.98978e-7, 2.12564e-6, 8.27191e-6, 2.94771e-5, 9.…\n",
       "  \"f11\"      => [0.112906, 0.178345, 0.214121, 0.23248, 0.241262, 0.245118, 0.2…\n",
       "  \"vbhlgrid\" => 0.75:0.125:1.25"
      ]
     },
     "execution_count": 3,
     "metadata": {},
     "output_type": "execute_result"
    }
   ],
   "source": [
    "bprd = @time BondPrInterp.fd_interp_inputs(svm, vtN=10, vbhlN=5)"
   ]
  },
  {
   "cell_type": "code",
   "execution_count": 6,
   "metadata": {},
   "outputs": [],
   "source": [
    "using JLD, HDF5"
   ]
  },
  {
   "cell_type": "code",
   "execution_count": 7,
   "metadata": {},
   "outputs": [
    {
     "data": {
      "text/plain": [
       "\"/home/artur/BondPricing/Python/JuliaFiles/test.h5\""
      ]
     },
     "execution_count": 7,
     "metadata": {},
     "output_type": "execute_result"
    }
   ],
   "source": [
    "fpath = \"/home/artur/BondPricing/Python/JuliaFiles\"\n",
    "fname = \"test.h5\"\n",
    "myfile = string(fpath,\"/\", fname)"
   ]
  },
  {
   "cell_type": "code",
   "execution_count": 10,
   "metadata": {},
   "outputs": [],
   "source": [
    "save(string(fpath,\"/\", \"test.jld\"), \"bprd\", bprd)"
   ]
  },
  {
   "cell_type": "code",
   "execution_count": null,
   "metadata": {},
   "outputs": [],
   "source": [
    "bprd = load(string(fpath,\"/\", \"test.jld\"))"
   ]
  },
  {
   "cell_type": "code",
   "execution_count": null,
   "metadata": {},
   "outputs": [],
   "source": [
    "h5open(myfile, \"w\") do file\n",
    "    write(file, \"vtgrid\", bprd[\"vtgrid\"])  # alternatively, say \"@write file A\"\n",
    "end"
   ]
  },
  {
   "cell_type": "code",
   "execution_count": 9,
   "metadata": {},
   "outputs": [
    {
     "ename": "MethodError",
     "evalue": "MethodError: no method matching strides(::StepRangeLen{Float64,Base.TwicePrecision{Float64},Base.TwicePrecision{Float64}})\nClosest candidates are:\n  strides(!Matched::SubArray) at subarray.jl:264\n  strides(!Matched::Base.CodeUnits) at strings/basic.jl:696\n  strides(!Matched::PermutedDimsArray{T,N,perm,iperm,AA} where AA<:AbstractArray where iperm) where {T, N, perm} at permuteddimsarray.jl:62\n  ...",
     "output_type": "error",
     "traceback": [
      "MethodError: no method matching strides(::StepRangeLen{Float64,Base.TwicePrecision{Float64},Base.TwicePrecision{Float64}})\nClosest candidates are:\n  strides(!Matched::SubArray) at subarray.jl:264\n  strides(!Matched::Base.CodeUnits) at strings/basic.jl:696\n  strides(!Matched::PermutedDimsArray{T,N,perm,iperm,AA} where AA<:AbstractArray where iperm) where {T, N, perm} at permuteddimsarray.jl:62\n  ...",
      "",
      "Stacktrace:",
      " [1] stride(::StepRangeLen{Float64,Base.TwicePrecision{Float64},Base.TwicePrecision{Float64}}, ::Int64) at ./abstractarray.jl:342",
      " [2] h5d_write(::Int32, ::Int32, ::StepRangeLen{Float64,Base.TwicePrecision{Float64},Base.TwicePrecision{Float64}}, ::Int32) at /home/artur/.julia/packages/HDF5/ZOkE7/src/HDF5.jl:1989",
      " [3] writearray(::HDF5Dataset, ::Int32, ::StepRangeLen{Float64,Base.TwicePrecision{Float64},Base.TwicePrecision{Float64}}) at /home/artur/.julia/packages/HDF5/ZOkE7/src/HDF5.jl:1875",
      " [4] _d_write(::HDF5File, ::String, ::StepRangeLen{Float64,Base.TwicePrecision{Float64},Base.TwicePrecision{Float64}}) at /home/artur/.julia/packages/HDF5/ZOkE7/src/HDF5.jl:1684",
      " [5] d_write(::HDF5File, ::String, ::StepRangeLen{Float64,Base.TwicePrecision{Float64},Base.TwicePrecision{Float64}}) at /home/artur/.julia/packages/HDF5/ZOkE7/src/HDF5.jl:1691",
      " [6] write(::HDF5File, ::String, ::StepRangeLen{Float64,Base.TwicePrecision{Float64},Base.TwicePrecision{Float64}}) at /home/artur/.julia/packages/HDF5/ZOkE7/src/HDF5.jl:1718",
      " [7] h5write(::String, ::String, ::StepRangeLen{Float64,Base.TwicePrecision{Float64},Base.TwicePrecision{Float64}}) at /home/artur/.julia/packages/HDF5/ZOkE7/src/HDF5.jl:720",
      " [8] top-level scope at In[9]:1"
     ]
    }
   ],
   "source": [
    "h5write(string(fpath,\"/\", fname), \"vtgrid\", bprd[\"vtgrid\"])"
   ]
  },
  {
   "cell_type": "code",
   "execution_count": null,
   "metadata": {},
   "outputs": [],
   "source": []
  },
  {
   "cell_type": "code",
   "execution_count": null,
   "metadata": {},
   "outputs": [],
   "source": []
  },
  {
   "cell_type": "code",
   "execution_count": null,
   "metadata": {},
   "outputs": [],
   "source": []
  },
  {
   "cell_type": "code",
   "execution_count": 44,
   "metadata": {},
   "outputs": [
    {
     "name": "stdout",
     "output_type": "stream",
     "text": [
      "  1.823133 seconds (6.86 M allocations: 323.489 MiB, 6.02% gc time)\n"
     ]
    },
    {
     "data": {
      "text/plain": [
       "Dict{String,Interpolations.ScaledInterpolation{Float64,N,ITPT,Interpolations.BSpline{Interpolations.Cubic{Interpolations.Line{Interpolations.OnGrid}}},RT} where RT where ITPT where N} with 5 entries:\n",
       "  \"f12\" => [0.101968 0.0900789 … 0.0356983 0.0179562; 0.164741 0.151849 … 0.075…\n",
       "  \"f13\" => [0.00451994 0.016928 … 0.035561 0.0178967; 0.00400585 0.0173554 … 0.…\n",
       "  \"f22\" => [1.79793e-7, 8.60424e-7, 3.64161e-6, 1.40637e-5, 4.96701e-5, 0.00016…\n",
       "  \"f21\" => [1.03711e-7, 4.98978e-7, 2.12564e-6, 8.27191e-6, 2.94771e-5, 9.63561…\n",
       "  \"f11\" => [0.112906, 0.178345, 0.214121, 0.23248, 0.241262, 0.245118, 0.246543…"
      ]
     },
     "execution_count": 44,
     "metadata": {},
     "output_type": "execute_result"
    }
   ],
   "source": [
    "fdf = @time BondPrInterp.fd_input_interp(bprd)"
   ]
  },
  {
   "cell_type": "code",
   "execution_count": 35,
   "metadata": {},
   "outputs": [
    {
     "name": "stdout",
     "output_type": "stream",
     "text": [
      " 38.814138 seconds (3.04 M allocations: 1.279 GiB, 0.86% gc time)\n"
     ]
    },
    {
     "data": {
      "text/plain": [
       "Dict{String,AbstractArray{Float64,N} where N} with 7 entries:\n",
       "  \"f12\"      => [0.0262371 0.00389506 … 1.3898e-7 3.41844e-11; 0.0471068 0.0112…\n",
       "  \"f13\"      => [5.43319e-74 4.25071e-71 … 5.13405e-71 5.50795e-73; 1.48019e-38…\n",
       "  \"f22\"      => [0.00321236 0.0261217 … 0.0301071 0.0301072; 0.0109343 0.048565…\n",
       "  \"f21\"      => [0.003093 0.0255107 … 0.0293551 0.0293552; 0.0101985 0.0463545 …\n",
       "  \"f11\"      => [0.026368 0.00390794 … 1.39096e-7 3.42014e-11; 0.0475884 0.0113…\n",
       "  \"vbhlgrid\" => 0.75:0.125:1.25\n",
       "  \"ttmgrid\"  => 0.1:0.1:1.0"
      ]
     },
     "execution_count": 35,
     "metadata": {},
     "output_type": "execute_result"
    }
   ],
   "source": [
    "bmat = @time BondPrInterp.mat_interp_inputs(svm, ttmN=10, vbhlN=5)"
   ]
  },
  {
   "cell_type": "code",
   "execution_count": 197,
   "metadata": {},
   "outputs": [
    {
     "name": "stdout",
     "output_type": "stream",
     "text": [
      "here\n",
      "  0.050691 seconds (38.63 k allocations: 2.058 MiB)\n"
     ]
    },
    {
     "data": {
      "text/plain": [
       "Dict{String,ScaledInterpolation{Float64,N,ITPT,BSpline{Cubic{Line{OnGrid}}},RT} where RT where ITPT where N} with 5 entries:\n",
       "  \"f12\" => [0.0292746 0.0292746 … 0.0292743 0.0292112; 0.0571376 0.0571376 … 0.…\n",
       "  \"f13\" => [1.76422e-23 8.28171e-16 … 3.11806e-7 5.87569e-5; 4.84984e-13 3.1852…\n",
       "  \"f22\" => [4.76679e-24, 7.47474e-14, 2.83146e-10, 2.12383e-8, 3.18091e-7, 2.08…\n",
       "  \"f21\" => [4.49376e-24, 6.66498e-14, 2.3916e-10, 1.70203e-8, 2.4219e-7, 1.5104…\n",
       "  \"f11\" => [0.0294146, 0.0576888, 0.0848608, 0.110945, 0.135936, 0.159823, 0.18…"
      ]
     },
     "execution_count": 197,
     "metadata": {},
     "output_type": "execute_result"
    }
   ],
   "source": [
    "matf = @time BondPrInterp.mat_input_interp(bmat)"
   ]
  },
  {
   "cell_type": "code",
   "execution_count": 46,
   "metadata": {},
   "outputs": [
    {
     "name": "stderr",
     "output_type": "stream",
     "text": [
      "┌ Info: Precompiling JLD [4138dd39-2aa7-5051-a626-17a0bb65d9c8]\n",
      "└ @ Base loading.jl:1186\n",
      "┌ Warning: Module Compat with build ID 7094110003843402 is missing from the cache.\n",
      "│ This may mean Compat [34da2185-b29b-5c13-b0c7-acf172513d20] does not support precompilation but is imported by a module that does.\n",
      "└ @ Base loading.jl:941\n",
      "┌ Warning: Module Compat with build ID 7094110003843402 is missing from the cache.\n",
      "│ This may mean Compat [34da2185-b29b-5c13-b0c7-acf172513d20] does not support precompilation but is imported by a module that does.\n",
      "└ @ Base loading.jl:941\n",
      "┌ Warning: Module Compat with build ID 7094110003843402 is missing from the cache.\n",
      "│ This may mean Compat [34da2185-b29b-5c13-b0c7-acf172513d20] does not support precompilation but is imported by a module that does.\n",
      "└ @ Base loading.jl:941\n",
      "┌ Warning: Module Compat with build ID 7094110003843402 is missing from the cache.\n",
      "│ This may mean Compat [34da2185-b29b-5c13-b0c7-acf172513d20] does not support precompilation but is imported by a module that does.\n",
      "└ @ Base loading.jl:941\n",
      "┌ Info: Precompiling HDF5 [f67ccb44-e63f-5c2f-98bd-6dc0ccc4ba2f]\n",
      "└ @ Base loading.jl:1186\n",
      "┌ Warning: Module Compat with build ID 7094110003843402 is missing from the cache.\n",
      "│ This may mean Compat [34da2185-b29b-5c13-b0c7-acf172513d20] does not support precompilation but is imported by a module that does.\n",
      "└ @ Base loading.jl:941\n",
      "┌ Warning: Module Compat with build ID 7094110003843402 is missing from the cache.\n",
      "│ This may mean Compat [34da2185-b29b-5c13-b0c7-acf172513d20] does not support precompilation but is imported by a module that does.\n",
      "└ @ Base loading.jl:941\n",
      "┌ Info: Precompiling Blosc [a74b3585-a348-5f62-a45c-50e91977d574]\n",
      "└ @ Base loading.jl:1186\n",
      "┌ Warning: Module Compat with build ID 7094110003843402 is missing from the cache.\n",
      "│ This may mean Compat [34da2185-b29b-5c13-b0c7-acf172513d20] does not support precompilation but is imported by a module that does.\n",
      "└ @ Base loading.jl:941\n",
      "┌ Info: Recompiling stale cache file /home/artur/.julia/compiled/v1.0/FileIO/6iKRU.ji for FileIO [5789e2e9-d7fb-5bc7-8068-2c6fae9b9549]\n",
      "└ @ Base loading.jl:1184\n",
      "┌ Info: Precompiling LegacyStrings [1b4a561d-cfcb-5daf-8433-43fcf8b4bea3]\n",
      "└ @ Base loading.jl:1186\n",
      "┌ Warning: Module Compat with build ID 7094110003843402 is missing from the cache.\n",
      "│ This may mean Compat [34da2185-b29b-5c13-b0c7-acf172513d20] does not support precompilation but is imported by a module that does.\n",
      "└ @ Base loading.jl:941\n",
      "┌ Warning: Error evaluating expression in Base.__toplevel__:\n",
      "│ module LegacyStrings\n",
      "│ #= /home/artur/.julia/packages/LegacyStrings/5G0vt/src/LegacyStrings.jl:5 =#\n",
      "│ #= /home/artur/.julia/packages/LegacyStrings/5G0vt/src/LegacyStrings.jl:7 =#\n",
      "│ export DirectIndexString, ByteString, ASCIIString, RepString, RevString, UTF8String, UTF16String, UTF32String, WString, ascii, utf8, utf16, utf32, wstring\n",
      "│ #= /home/artur/.julia/packages/LegacyStrings/5G0vt/src/LegacyStrings.jl:23 =#\n",
      "│ import Base: containsnul, convert, getindex, isvalid, length, lowercase, map, nextind, pointer, prevind, reverse, reverseind, show, sizeof, string, unsafe_convert, uppercase, write\n",
      "│ #= /home/artur/.julia/packages/LegacyStrings/5G0vt/src/LegacyStrings.jl:43 =#\n",
      "│ using Compat\n",
      "│ #= /home/artur/.julia/packages/LegacyStrings/5G0vt/src/LegacyStrings.jl:44 =#\n",
      "│ using Compat: IOBuffer\n",
      "│ #= /home/artur/.julia/packages/LegacyStrings/5G0vt/src/LegacyStrings.jl:45 =#\n",
      "│ import Compat: lastindex, codeunit, ncodeunits\n",
      "│ #= /home/artur/.julia/packages/LegacyStrings/5G0vt/src/LegacyStrings.jl:51 =#\n",
      "│ if VERSION < #= /home/artur/.julia/packages/LegacyStrings/5G0vt/src/LegacyStrings.jl:51 =# @v_str(\"0.7-\")\n",
      "│     #= /home/artur/.julia/packages/LegacyStrings/5G0vt/src/LegacyStrings.jl:52 =#\n",
      "│     import Base: lcfirst\n",
      "│     #= /home/artur/.julia/packages/LegacyStrings/5G0vt/src/LegacyStrings.jl:53 =#\n",
      "│     import Base: next\n",
      "│     #= /home/artur/.julia/packages/LegacyStrings/5G0vt/src/LegacyStrings.jl:54 =#\n",
      "│     import Base: rsearch\n",
      "│     #= /home/artur/.julia/packages/LegacyStrings/5G0vt/src/LegacyStrings.jl:55 =#\n",
      "│     import Base: search\n",
      "│     #= /home/artur/.julia/packages/LegacyStrings/5G0vt/src/LegacyStrings.jl:56 =#\n",
      "│     import Base: ucfirst\n",
      "│     #= /home/artur/.julia/packages/LegacyStrings/5G0vt/src/LegacyStrings.jl:57 =#\n",
      "│     import Base: UnicodeError\n",
      "│     #= /home/artur/.julia/packages/LegacyStrings/5G0vt/src/LegacyStrings.jl:58 =#\n",
      "│     using Base: DirectIndexString\n",
      "│ else\n",
      "│     #= /home/artur/.julia/packages/LegacyStrings/5G0vt/src/LegacyStrings.jl:60 =#\n",
      "│     import Base: iterate\n",
      "│     #= /home/artur/.julia/packages/LegacyStrings/5G0vt/src/LegacyStrings.jl:61 =#\n",
      "│     include(\"unicodeerror.jl\")\n",
      "│     #= /home/artur/.julia/packages/LegacyStrings/5G0vt/src/LegacyStrings.jl:62 =#\n",
      "│     include(\"directindex.jl\")\n",
      "│ end\n",
      "│ #= /home/artur/.julia/packages/LegacyStrings/5G0vt/src/LegacyStrings.jl:66 =#\n",
      "│ struct ASCIIString <: DirectIndexString\n",
      "│     #= /home/artur/.julia/packages/LegacyStrings/5G0vt/src/LegacyStrings.jl:67 =#\n",
      "│     data::Vector{UInt8}\n",
      "│     #= /home/artur/.julia/packages/LegacyStrings/5G0vt/src/LegacyStrings.jl:68 =#\n",
      "│     ASCIIString(data::String) = begin\n",
      "│             #= /home/artur/.julia/packages/LegacyStrings/5G0vt/src/LegacyStrings.jl:68 =#\n",
      "│             new(Vector{UInt8}(codeunits(data)))\n",
      "│         end\n",
      "│     #= /home/artur/.julia/packages/LegacyStrings/5G0vt/src/LegacyStrings.jl:69 =#\n",
      "│     ASCIIString(data) = begin\n",
      "│             #= /home/artur/.julia/packages/LegacyStrings/5G0vt/src/LegacyStrings.jl:69 =#\n",
      "│             new(data)\n",
      "│         end\n",
      "│ end\n",
      "│ #= /home/artur/.julia/packages/LegacyStrings/5G0vt/src/LegacyStrings.jl:72 =#\n",
      "│ struct UTF8String <: AbstractString\n",
      "│     #= /home/artur/.julia/packages/LegacyStrings/5G0vt/src/LegacyStrings.jl:73 =#\n",
      "│     data::Vector{UInt8}\n",
      "│     #= /home/artur/.julia/packages/LegacyStrings/5G0vt/src/LegacyStrings.jl:74 =#\n",
      "│     UTF8String(data::String) = begin\n",
      "│             #= /home/artur/.julia/packages/LegacyStrings/5G0vt/src/LegacyStrings.jl:74 =#\n",
      "│             new(Vector{UInt8}(codeunits(data)))\n",
      "│         end\n",
      "│     #= /home/artur/.julia/packages/LegacyStrings/5G0vt/src/LegacyStrings.jl:75 =#\n",
      "│     UTF8String(data) = begin\n",
      "│             #= /home/artur/.julia/packages/LegacyStrings/5G0vt/src/LegacyStrings.jl:75 =#\n",
      "│             new(data)\n",
      "│         end\n",
      "│ end\n",
      "│ #= /home/artur/.julia/packages/LegacyStrings/5G0vt/src/LegacyStrings.jl:78 =#\n",
      "│ struct UTF16String <: AbstractString\n",
      "│     #= /home/artur/.julia/packages/LegacyStrings/5G0vt/src/LegacyStrings.jl:79 =#\n",
      "│     data::Vector{UInt16}\n",
      "│     #= /home/artur/.julia/packages/LegacyStrings/5G0vt/src/LegacyStrings.jl:80 =#\n",
      "│     function UTF16String(data::Vector{UInt16})\n",
      "│         #= /home/artur/.julia/packages/LegacyStrings/5G0vt/src/LegacyStrings.jl:81 =#\n",
      "│         if length(data) < 1 || data[end] != 0\n",
      "│             #= /home/artur/.julia/packages/LegacyStrings/5G0vt/src/LegacyStrings.jl:82 =#\n",
      "│             throw(UnicodeError(UTF_ERR_NULL_16_TERMINATE, 0, 0))\n",
      "│         end\n",
      "│         #= /home/artur/.julia/packages/LegacyStrings/5G0vt/src/LegacyStrings.jl:84 =#\n",
      "│         new(data)\n",
      "│     end\n",
      "│ end\n",
      "│ #= /home/artur/.julia/packages/LegacyStrings/5G0vt/src/LegacyStrings.jl:88 =#\n",
      "│ struct UTF32String <: DirectIndexString\n",
      "│     #= /home/artur/.julia/packages/LegacyStrings/5G0vt/src/LegacyStrings.jl:89 =#\n",
      "│     data::Vector{UInt32}\n",
      "│     #= /home/artur/.julia/packages/LegacyStrings/5G0vt/src/LegacyStrings.jl:90 =#\n",
      "│     function UTF32String(data::Vector{UInt32})\n",
      "│         #= /home/artur/.julia/packages/LegacyStrings/5G0vt/src/LegacyStrings.jl:91 =#\n",
      "│         if length(data) < 1 || data[end] != 0\n",
      "│             #= /home/artur/.julia/packages/LegacyStrings/5G0vt/src/LegacyStrings.jl:92 =#\n",
      "│             throw(UnicodeError(UTF_ERR_NULL_32_TERMINATE, 0, 0))\n",
      "│         end\n",
      "│         #= /home/artur/.julia/packages/LegacyStrings/5G0vt/src/LegacyStrings.jl:94 =#\n",
      "│         new(data)\n",
      "│     end\n",
      "│ end\n",
      "│ #= /home/artur/.julia/packages/LegacyStrings/5G0vt/src/LegacyStrings.jl:98 =#\n",
      "│ const ByteString = Union{ASCIIString, UTF8String}\n",
      "│ #= /home/artur/.julia/packages/LegacyStrings/5G0vt/src/LegacyStrings.jl:100 =#\n",
      "│ include(\"support.jl\")\n",
      "│ #= /home/artur/.julia/packages/LegacyStrings/5G0vt/src/LegacyStrings.jl:101 =#\n",
      "│ include(\"ascii.jl\")\n",
      "│ #= /home/artur/.julia/packages/LegacyStrings/5G0vt/src/LegacyStrings.jl:102 =#\n",
      "│ include(\"utf8.jl\")\n",
      "│ #= /home/artur/.julia/packages/LegacyStrings/5G0vt/src/LegacyStrings.jl:103 =#\n",
      "│ include(\"utf16.jl\")\n",
      "│ #= /home/artur/.julia/packages/LegacyStrings/5G0vt/src/LegacyStrings.jl:104 =#\n",
      "│ include(\"utf32.jl\")\n",
      "│ #= /home/artur/.julia/packages/LegacyStrings/5G0vt/src/LegacyStrings.jl:105 =#\n",
      "│ include(\"rep.jl\")\n",
      "│ #= /home/artur/.julia/packages/LegacyStrings/5G0vt/src/LegacyStrings.jl:107 =#\n",
      "│ if isdefined(Base, :RevString)\n",
      "│     #= /home/artur/.julia/packages/LegacyStrings/5G0vt/src/LegacyStrings.jl:108 =#\n",
      "│     using Base: RevString\n",
      "│ else\n",
      "│     #= /home/artur/.julia/packages/LegacyStrings/5G0vt/src/LegacyStrings.jl:110 =#\n",
      "│     include(\"rev.jl\")\n",
      "│ end\n",
      "│ #= /home/artur/.julia/packages/LegacyStrings/5G0vt/src/LegacyStrings.jl:113 =#\n",
      "│ const AllLegacyStringTypes = Union{ASCIIString, UTF8String, UTF16String, UTF32String, RepString, RevString}\n",
      "│ #= /home/artur/.julia/packages/LegacyStrings/5G0vt/src/LegacyStrings.jl:115 =#\n",
      "│ codeunit(s::SubString{<:AllLegacyStringTypes}) = begin\n",
      "│         #= /home/artur/.julia/packages/LegacyStrings/5G0vt/src/LegacyStrings.jl:115 =#\n",
      "│         codeunit(s.string)\n",
      "│     end\n",
      "│ #= /home/artur/.julia/packages/LegacyStrings/5G0vt/src/LegacyStrings.jl:116 =#\n",
      "│ ncodeunits(s::SubString{<:AllLegacyStringTypes}) = begin\n",
      "│         #= /home/artur/.julia/packages/LegacyStrings/5G0vt/src/LegacyStrings.jl:116 =#\n",
      "│         if isdefined(s, :ncodeunits)\n",
      "│             s.ncodeunits\n",
      "│         else\n",
      "│             s.endof\n",
      "│         end\n",
      "│     end\n",
      "│ #= /home/artur/.julia/packages/LegacyStrings/5G0vt/src/LegacyStrings.jl:118 =#\n",
      "│ if !(isdefined(Base, :iterate))\n",
      "│     #= /home/artur/.julia/packages/LegacyStrings/5G0vt/src/LegacyStrings.jl:119 =#\n",
      "│     iterate(s::Union{String, SubString, AllLegacyStringTypes}, i::Int) = begin\n",
      "│             #= /home/artur/.julia/packages/LegacyStrings/5G0vt/src/LegacyStrings.jl:119 =#\n",
      "│             next(s, i)\n",
      "│         end\n",
      "│ end\n",
      "│ end\n",
      "└ @ Revise /home/artur/.julia/packages/Revise/gStbk/src/parsing.jl:230\n"
     ]
    }
   ],
   "source": [
    "using JLD"
   ]
  },
  {
   "cell_type": "code",
   "execution_count": 47,
   "metadata": {},
   "outputs": [],
   "source": [
    "save(\"/home/artur/BondPricing/Python/JupyterNotebooks/test.jld\", \"fdf\", fdf)"
   ]
  },
  {
   "cell_type": "code",
   "execution_count": 48,
   "metadata": {},
   "outputs": [
    {
     "name": "stderr",
     "output_type": "stream",
     "text": [
      "┌ Warning: type JLD.AssociativeWrapper{Core.String,@where(@where(@where(Interpolations.ScaledInterpolation{Core.Float64,N,ITPT,Interpolations.BSpline{Interpolations.Cubic{Interpolations.Line{Interpolations.OnGrid}}},RT},RT),ITPT),N),Base.Dict{Core.String,@where(@where(@where(Interpolations.ScaledInterpolation{Core.Float64,N,ITPT,Interpolations.BSpline{Interpolations.Cubic{Interpolations.Line{Interpolations.OnGrid}}},RT},RT),ITPT),N)}} not present in workspace; reconstructing\n",
      "└ @ JLD /home/artur/.julia/packages/JLD/1BoSz/src/jld_types.jl:703\n",
      "┌ Warning: type @where(@where(@where(Interpolations.ScaledInterpolation{Core.Float64,N,ITPT,Interpolations.BSpline{Interpolations.Cubic{Interpolations.Line{Interpolations.OnGrid}}},RT},RT),ITPT),N) not present in workspace; interpreting array as Array{Any}\n",
      "└ @ JLD /home/artur/.julia/packages/JLD/1BoSz/src/JLD.jl:486\n",
      "┌ Warning: type Interpolations.ScaledInterpolation{Core.Float64,2,Interpolations.BSplineInterpolation{Core.Float64,2,OffsetArrays.OffsetArray{Core.Float64,2,Core.Array{Core.Float64,2}},Interpolations.BSpline{Interpolations.Cubic{Interpolations.Line{Interpolations.OnGrid}}},Core.Tuple{Base.OneTo{Core.Int64},Base.OneTo{Core.Int64}}},Interpolations.BSpline{Interpolations.Cubic{Interpolations.Line{Interpolations.OnGrid}}},Core.Tuple{Base.StepRangeLen{Core.Float64,Base.TwicePrecision{Core.Float64},Base.TwicePrecision{Core.Float64}},Base.StepRangeLen{Core.Float64,Base.TwicePrecision{Core.Float64},Base.TwicePrecision{Core.Float64}}}} not present in workspace; reconstructing\n",
      "└ @ JLD /home/artur/.julia/packages/JLD/1BoSz/src/jld_types.jl:703\n",
      "┌ Warning: type Interpolations.BSplineInterpolation{Core.Float64,2,OffsetArrays.OffsetArray{Core.Float64,2,Core.Array{Core.Float64,2}},Interpolations.BSpline{Interpolations.Cubic{Interpolations.Line{Interpolations.OnGrid}}},Core.Tuple{Base.OneTo{Core.Int64},Base.OneTo{Core.Int64}}} not present in workspace; reconstructing\n",
      "└ @ JLD /home/artur/.julia/packages/JLD/1BoSz/src/jld_types.jl:703\n",
      "┌ Warning: type Interpolations.BSpline{Interpolations.Cubic{Interpolations.Line{Interpolations.OnGrid}}} not present in workspace; reconstructing\n",
      "└ @ JLD /home/artur/.julia/packages/JLD/1BoSz/src/jld_types.jl:703\n",
      "┌ Warning: type Interpolations.Cubic{Interpolations.Line{Interpolations.OnGrid}} not present in workspace; reconstructing\n",
      "└ @ JLD /home/artur/.julia/packages/JLD/1BoSz/src/jld_types.jl:703\n",
      "┌ Warning: type Interpolations.Line{Interpolations.OnGrid} not present in workspace; reconstructing\n",
      "└ @ JLD /home/artur/.julia/packages/JLD/1BoSz/src/jld_types.jl:703\n",
      "┌ Warning: type Interpolations.OnGrid not present in workspace; reconstructing\n",
      "└ @ JLD /home/artur/.julia/packages/JLD/1BoSz/src/jld_types.jl:703\n",
      "┌ Warning: type OffsetArrays.OffsetArray{Core.Float64,2,Core.Array{Core.Float64,2}} not present in workspace; reconstructing\n",
      "└ @ JLD /home/artur/.julia/packages/JLD/1BoSz/src/jld_types.jl:703\n",
      "┌ Warning: type Interpolations.ScaledInterpolation{Core.Float64,1,Interpolations.BSplineInterpolation{Core.Float64,1,OffsetArrays.OffsetArray{Core.Float64,1,Core.Array{Core.Float64,1}},Interpolations.BSpline{Interpolations.Cubic{Interpolations.Line{Interpolations.OnGrid}}},Core.Tuple{Base.OneTo{Core.Int64}}},Interpolations.BSpline{Interpolations.Cubic{Interpolations.Line{Interpolations.OnGrid}}},Core.Tuple{Base.StepRangeLen{Core.Float64,Base.TwicePrecision{Core.Float64},Base.TwicePrecision{Core.Float64}}}} not present in workspace; reconstructing\n",
      "└ @ JLD /home/artur/.julia/packages/JLD/1BoSz/src/jld_types.jl:703\n",
      "┌ Warning: type Interpolations.BSplineInterpolation{Core.Float64,1,OffsetArrays.OffsetArray{Core.Float64,1,Core.Array{Core.Float64,1}},Interpolations.BSpline{Interpolations.Cubic{Interpolations.Line{Interpolations.OnGrid}}},Core.Tuple{Base.OneTo{Core.Int64}}} not present in workspace; reconstructing\n",
      "└ @ JLD /home/artur/.julia/packages/JLD/1BoSz/src/jld_types.jl:703\n",
      "┌ Warning: type OffsetArrays.OffsetArray{Core.Float64,1,Core.Array{Core.Float64,1}} not present in workspace; reconstructing\n",
      "└ @ JLD /home/artur/.julia/packages/JLD/1BoSz/src/jld_types.jl:703\n"
     ]
    },
    {
     "data": {
      "text/plain": [
       "Dict{String,Any} with 1 entry:\n",
       "  \"fdf\" => ##JLD.AssociativeWrapper{Core.String,@where(@where(@where(Interpolat…"
      ]
     },
     "execution_count": 48,
     "metadata": {},
     "output_type": "execute_result"
    }
   ],
   "source": [
    "fdf2 = load(\"/home/artur/BondPricing/Python/JupyterNotebooks/test.jld\")"
   ]
  },
  {
   "cell_type": "code",
   "execution_count": 51,
   "metadata": {},
   "outputs": [
    {
     "data": {
      "text/plain": [
       "0.22895551214686474"
      ]
     },
     "execution_count": 51,
     "metadata": {},
     "output_type": "execute_result"
    }
   ],
   "source": [
    "fdf[\"f11\"](.3)"
   ]
  },
  {
   "cell_type": "code",
   "execution_count": null,
   "metadata": {},
   "outputs": [],
   "source": []
  },
  {
   "cell_type": "code",
   "execution_count": 121,
   "metadata": {},
   "outputs": [],
   "source": [
    "using Interpolations"
   ]
  },
  {
   "cell_type": "code",
   "execution_count": 36,
   "metadata": {
    "autoscroll": false,
    "ein.hycell": false,
    "ein.tags": "worksheet-0",
    "slideshow": {
     "slide_type": "-"
    }
   },
   "outputs": [
    {
     "data": {
      "text/plain": [
       "1000"
      ]
     },
     "execution_count": 36,
     "metadata": {},
     "output_type": "execute_result"
    }
   ],
   "source": [
    "vtmax=.8 \n",
    "vtN=20\n",
    "_, vtgrid=BondPrInterp.grid_creator(0.0, vtmax, vtN)\n",
    "vbhlmin=.75\n",
    "vbhlmax=1.25\n",
    "vbhlN=5\n",
    "_, vbhlgrid=BondPrInterp.grid_creator(vbhlmin, vbhlmax, vbhlN)\n",
    "vmax=1.2\n",
    "vN=10^3\n",
    "uN=10^3"
   ]
  },
  {
   "cell_type": "code",
   "execution_count": 64,
   "metadata": {
    "autoscroll": false,
    "ein.hycell": false,
    "ein.tags": "worksheet-0",
    "slideshow": {
     "slide_type": "-"
    }
   },
   "outputs": [
    {
     "data": {
      "text/plain": [
       "0.24455625310486812"
      ]
     },
     "execution_count": 64,
     "metadata": {},
     "output_type": "execute_result"
    }
   ],
   "source": [
    "ttm_max=svm.m\n",
    "\n",
    "dv, vgrid = BondPrInterp.grid_creator(0.0, vmax, vN)\n",
    "du, ugrid = BondPrInterp.grid_creator(0.0, ttm_max, uN) \n",
    "vt = log(100/63)\n",
    "\n",
    "\n",
    "tmp = BondPrInterp.f11v_int(vt, ugrid, vgrid, svm.pm.lambda, svm.pm.sigmal, \n",
    "                            svm.pm.r, svm.pm.gross_delta, svm.pm.xi, svm.pm.kappa)\n",
    "\n",
    "tmp"
   ]
  },
  {
   "cell_type": "code",
   "execution_count": 65,
   "metadata": {
    "autoscroll": false,
    "ein.hycell": false,
    "ein.tags": "worksheet-0",
    "slideshow": {
     "slide_type": "-"
    }
   },
   "outputs": [
    {
     "data": {
      "text/plain": [
       "0.00012785480104962"
      ]
     },
     "execution_count": 65,
     "metadata": {},
     "output_type": "execute_result"
    }
   ],
   "source": [
    "tmp = BondPrInterp.f21_int(.5, vmax, svm.pm.lambda, svm.pm.sigmal, \n",
    "                svm.pm.r, svm.pm.gross_delta, svm.pm.xi, svm.pm.kappa; \n",
    "\t\tttm=1.0, N=10^2, ugrid=nothing)"
   ]
  },
  {
   "cell_type": "code",
   "execution_count": 68,
   "metadata": {},
   "outputs": [
    {
     "data": {
      "text/plain": [
       "9-element Array{Float64,1}:\n",
       " 0.028304130733514957\n",
       " 0.05550619990435978 \n",
       " 0.08162072228358676 \n",
       " 0.10664083573910031 \n",
       " 0.13055831362700548 \n",
       " 0.1533751903636168  \n",
       " 0.17510564889255914 \n",
       " 0.19577392146281192 \n",
       " 0.2154114567775562  "
      ]
     },
     "execution_count": 68,
     "metadata": {},
     "output_type": "execute_result"
    }
   ],
   "source": [
    "ttmN = 10\n",
    "_, ttmgrid = BondPrInterp.grid_creator(0.0, ttm_max, ttmN)\n",
    "\n",
    "BondPrInterp.f11_mat_inputs(vt, ttmgrid, \n",
    "                            svm.pm.lambda, svm.pm.sigmal, \n",
    "                            svm.pm.r, svm.pm.gross_delta, svm.pm.xi, svm.pm.kappa;\n",
    "                            vmax=vmax)\n",
    "\t\t\n"
   ]
  },
  {
   "cell_type": "code",
   "execution_count": null,
   "metadata": {
    "autoscroll": false,
    "ein.hycell": false,
    "ein.tags": "worksheet-0",
    "slideshow": {
     "slide_type": "-"
    }
   },
   "outputs": [],
   "source": []
  },
  {
   "cell_type": "code",
   "execution_count": null,
   "metadata": {
    "autoscroll": false,
    "ein.hycell": false,
    "ein.tags": "worksheet-0",
    "slideshow": {
     "slide_type": "-"
    }
   },
   "outputs": [],
   "source": []
  },
  {
   "cell_type": "code",
   "execution_count": null,
   "metadata": {
    "autoscroll": false,
    "ein.hycell": false,
    "ein.tags": "worksheet-0",
    "slideshow": {
     "slide_type": "-"
    }
   },
   "outputs": [],
   "source": []
  },
  {
   "cell_type": "code",
   "execution_count": null,
   "metadata": {
    "autoscroll": false,
    "ein.hycell": false,
    "ein.tags": "worksheet-0",
    "slideshow": {
     "slide_type": "-"
    }
   },
   "outputs": [],
   "source": []
  },
  {
   "cell_type": "code",
   "execution_count": null,
   "metadata": {
    "autoscroll": false,
    "ein.hycell": false,
    "ein.tags": "worksheet-0",
    "slideshow": {
     "slide_type": "-"
    }
   },
   "outputs": [],
   "source": []
  }
 ],
 "metadata": {
  "kernelspec": {
   "display_name": "Julia 1.0.2",
   "language": "julia",
   "name": "julia-1.0"
  },
  "language_info": {
   "file_extension": ".jl",
   "mimetype": "application/julia",
   "name": "julia",
   "version": "1.0.2"
  },
  "name": "Untitled9.ipynb"
 },
 "nbformat": 4,
 "nbformat_minor": 2
}
