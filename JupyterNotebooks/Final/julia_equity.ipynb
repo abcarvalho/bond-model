{
 "cells": [
  {
   "cell_type": "code",
   "execution_count": 1,
   "metadata": {},
   "outputs": [
    {
     "data": {
      "text/plain": [
       "3-element Array{Any,1}:\n",
       " \"/usr/local/julia/0.6.0/local/share/julia/site/v0.6\"\n",
       " \"/usr/local/julia/0.6.0/share/julia/site/v0.6\"      \n",
       " \"/home/artur/BondPricing/Julia/modules/\"            "
      ]
     },
     "execution_count": 1,
     "metadata": {},
     "output_type": "execute_result"
    }
   ],
   "source": [
    "# push!(LOAD_PATH, \"/home/artur/BondPricing/Julia/modules/\")"
   ]
  },
  {
   "cell_type": "code",
   "execution_count": null,
   "metadata": {},
   "outputs": [
    {
     "name": "stderr",
     "output_type": "stream",
     "text": [
      "WARNING: replacing module ModelObj\n",
      "\u001b[1m\u001b[36mINFO: \u001b[39m\u001b[22m\u001b[36mPrecompiling module Distributions.\n",
      "\u001b[39m"
     ]
    }
   ],
   "source": [
    "module_path = \"/home/artur/BondPricing/Julia/modules/\"\n",
    "modnames = [\"AnalyticFunctions\", \"BondPrInterp\", \"Eq]\n",
    "for mod in modnames\n",
    "    include(string(joinpath(module_path, mod), \"/\", mod, \".jl\"))\n",
    "end\n",
    "\n",
    "\n",
    "\n",
    "include(string(LOAD_PATH[end], \"ModelObj.jl\"))\n",
    "include(string(LOAD_PATH[end], \"AnalyticFunctions/AnalyticFunctions.jl\"))\n",
    "include(string(LOAD_PATH[end], \"BondPrInterp/BondPrInterp.jl\"))"
   ]
  },
  {
   "cell_type": "code",
   "execution_count": 10,
   "metadata": {},
   "outputs": [
    {
     "data": {
      "text/plain": [
       "ModelObj.Firm\n",
       "  V0: Float32 100.0\n",
       "  c: Float32 6.39\n",
       "  p: Float32 61.68\n",
       "  vbl: Float32 60.0\n",
       "  vbh: Float32 62.0\n",
       "  pm: ModelObj.FirmParams\n"
      ]
     },
     "execution_count": 10,
     "metadata": {},
     "output_type": "execute_result"
    }
   ],
   "source": [
    "pardict = Dict(\"V0\" => 100, \n",
    "               \"vbl\" => 60, \n",
    "               \"vbh\" => 62, \n",
    "                \"m\" => 1.,\n",
    "                \"c\" => 6.39,\n",
    "                \"p\" => 61.68,\n",
    "                \"sigmal\" => .25,\n",
    "                \"sigmah\" => .25,\n",
    "                \"r\" => .08,\n",
    "                \"gross_delta\" => .02,\n",
    "                \"iota\" => .0,\n",
    "                \"xi\" => 1.,\n",
    "                \"kappa\" => .015,\n",
    "                \"alpha\" => .6,\n",
    "                \"pi\" => .27,\n",
    "                \"lambda\" => .3)\n",
    "\n",
    "svm = ModelObj.firm_constructor(pardict)"
   ]
  },
  {
   "cell_type": "code",
   "execution_count": 1,
   "metadata": {},
   "outputs": [
    {
     "ename": "ErrorException",
     "evalue": "could not open file /home/artur/BondPricing/Julia/modules/AnalyticFunctions.jl",
     "output_type": "error",
     "traceback": [
      "could not open file /home/artur/BondPricing/Julia/modules/AnalyticFunctions.jl",
      "",
      "Stacktrace:",
      " [1] include at ./boot.jl:317 [inlined]",
      " [2] include_relative(::Module, ::String) at ./loading.jl:1038",
      " [3] include(::Module, ::String) at ./sysimg.jl:29",
      " [4] include(::String) at ./client.jl:388",
      " [5] top-level scope at In[1]:2"
     ]
    }
   ],
   "source": [
    "module_path = \"/home/artur/BondPricing/Julia/modules/\"\n",
    "include(string(module_path, \"AnalyticFunctions.jl\"))"
   ]
  },
  {
   "cell_type": "code",
   "execution_count": 5,
   "metadata": {},
   "outputs": [
    {
     "data": {
      "text/plain": [
       "BondPrInterp"
      ]
     },
     "execution_count": 5,
     "metadata": {},
     "output_type": "execute_result"
    },
    {
     "name": "stderr",
     "output_type": "stream",
     "text": [
      "WARNING: replacing module BondPrInterp\n"
     ]
    }
   ],
   "source": [
    "include(string(LOAD_PATH[end], \"BondPrInterp.jl\"))"
   ]
  },
  {
   "cell_type": "code",
   "execution_count": 6,
   "metadata": {},
   "outputs": [
    {
     "data": {
      "text/plain": [
       "([-0.0788772, -197.597, -1233.51, -3806.47, -8615.14, -16358.2, -27734.3, -43442.0, -64180.1, -90647.3, -1.23542e5, -1.63563e5, -2.11409e5, -2.67779e5, -3.33371e5, -4.08884e5, -4.95017e5, -5.92468e5, -7.01936e5, -8.24119e5], [0.249562, 3.52829, 20.7161, 63.4038, 143.182, 271.643, 460.376, 720.972, 1065.02, 1504.12, 2049.85, 2713.81, 3507.59, 4442.77, 5530.96, 6783.74, 8212.69, 9829.42, 11645.5, 13672.6], [0.239906 -0.0102545 … -17.7145 -45.7497; 3.89063 -36.9827 … -2974.69 -7628.06; … ; 12934.5 -1.27125e5 … -1.02112e7 -2.61852e7; 15185.8 -1.49251e5 … -1.19885e7 -3.07427e7], [-0.0026339 0.16935 … 13.1455 33.7193; -0.476998 26.4376 … 2118.97 5438.55; … ; -1651.47 90137.6 … 7.25132e6 1.86125e7; -1938.92 1.05826e5 … 8.51339e6 2.1852e7])"
      ]
     },
     "execution_count": 6,
     "metadata": {},
     "output_type": "execute_result"
    },
    {
     "name": "stdout",
     "output_type": "stream",
     "text": [
      " 83.642335 seconds (16.11 M allocations: 2.414 GiB, 0.75% gc time)\n"
     ]
    }
   ],
   "source": [
    "f0fd, f1fd, f2fd, f3fd = @time BondPrInterp.fd_interp(svm)"
   ]
  },
  {
   "cell_type": "code",
   "execution_count": 8,
   "metadata": {},
   "outputs": [
    {
     "data": {
      "text/plain": [
       "0.0003952157908284026"
      ]
     },
     "execution_count": 8,
     "metadata": {},
     "output_type": "execute_result"
    }
   ],
   "source": [
    "f3fd[.5, .8]"
   ]
  },
  {
   "cell_type": "code",
   "execution_count": 7,
   "metadata": {},
   "outputs": [
    {
     "data": {
      "text/plain": [
       "0.0003952824842836157"
      ]
     },
     "execution_count": 7,
     "metadata": {},
     "output_type": "execute_result"
    }
   ],
   "source": [
    "f3fd[.5, .8]"
   ]
  },
  {
   "cell_type": "code",
   "execution_count": 11,
   "metadata": {},
   "outputs": [
    {
     "data": {
      "text/plain": [
       "1.0836709442108965"
      ]
     },
     "execution_count": 11,
     "metadata": {},
     "output_type": "execute_result"
    }
   ],
   "source": [
    "vbl = float(63)\n",
    "vbh = AnalyticFunctions.zhi_vb(svm.pm.m, svm.c, svm.p, svm.pm.sigmah, svm.pm.r, \n",
    "                               svm.pm.gross_delta, svm.pm.iota, svm.pm.xi, \n",
    "                               svm.pm.kappa, svm.pm.alpha, svm.pm.pi)\n",
    "vt = log(svm.V0/vbl)\n",
    "vbhl = vbh/vbl"
   ]
  },
  {
   "cell_type": "code",
   "execution_count": null,
   "metadata": {
    "collapsed": true
   },
   "outputs": [],
   "source": [
    "include(string(LOAD_PATH[end], \"AnalyticFunctions.jl\"))\n",
    "include(string(LOAD_PATH[end], \"BondPrInterp.jl\"))"
   ]
  },
  {
   "cell_type": "code",
   "execution_count": 5,
   "metadata": {},
   "outputs": [
    {
     "data": {
      "text/plain": [
       "([0.00459511, -0.241659, -3.29796, -12.6722, -31.8744, -64.4144, -113.802, -183.548, -277.161, -398.153, -550.032, -736.308, -960.493, -1226.09, -1536.62, -1895.59, -2306.51, -2772.88, -3298.22, -3886.03], [0.24464, 8.66708, 94.5459, 354.416, 884.939, 1782.78, 3144.59, 5067.04, 7646.79, 10980.5  …  1.56223e10, 1.56697e10, 1.57172e10, 1.57648e10, 1.58125e10, 1.58603e10, 1.59081e10, 1.59561e10, 1.60042e10, 1.60524e10], [0.212317, 0.512789, 2.62599, 8.81531, 21.3453, 42.4804, 74.4851, 119.624, 180.162, 258.363, 356.491, 476.812, 621.589, 793.088, 993.573, 1225.31, 1490.56, 1791.59, 2130.66], [0.0194289, 0.0462335, -0.0859069, -0.575506, -1.62115, -3.42143, -6.17493, -10.0802, -15.336, -22.1407, -30.6929, -41.1914, -53.8345, -68.8211, -86.3495, -106.618, -129.827, -156.172, -185.854])"
      ]
     },
     "execution_count": 5,
     "metadata": {},
     "output_type": "execute_result"
    },
    {
     "name": "stdout",
     "output_type": "stream",
     "text": [
      " 44.990217 seconds (6.38 M allocations: 694.333 MiB, 0.48% gc time)\n"
     ]
    }
   ],
   "source": [
    "f0mat, f1mat, f2mat, f3mat = @time BondPrInterp.mat_interp(vt, vbhl, svm)"
   ]
  },
  {
   "cell_type": "code",
   "execution_count": null,
   "metadata": {
    "collapsed": true
   },
   "outputs": [],
   "source": [
    "include(string(LOAD_PATH[end], \"BondPrInterp.jl\"))"
   ]
  },
  {
   "cell_type": "code",
   "execution_count": 9,
   "metadata": {},
   "outputs": [
    {
     "data": {
      "text/plain": [
       "60.85281593062574"
      ]
     },
     "execution_count": 9,
     "metadata": {},
     "output_type": "execute_result"
    }
   ],
   "source": [
    "BondPrInterp.bondpr(svm, svm.V0, vbl, svm.pm.m, .8, f0fd, f1fd, f2fd, f3fd)"
   ]
  },
  {
   "cell_type": "code",
   "execution_count": 8,
   "metadata": {},
   "outputs": [
    {
     "ename": "LoadError",
     "evalue": "\u001b[91mUndefVarError: f0mat not defined\u001b[39m",
     "output_type": "error",
     "traceback": [
      "\u001b[91mUndefVarError: f0mat not defined\u001b[39m",
      ""
     ]
    },
    {
     "name": "stderr",
     "output_type": "stream",
     "text": [
      "WARNING: replacing module BondPrInterp\n"
     ]
    }
   ],
   "source": [
    "include(string(LOAD_PATH[end], \"BondPrInterp.jl\"))\n",
    "\n",
    "vmax = .8\n",
    "Vt = svm.V0\n",
    "vbl = float(63)\n",
    "\n",
    "# Here, Vt and vbl should default to the ones used to \n",
    "# compute the f functions!\n",
    "# vmax can be either the value used to compute the f functions \n",
    "# or the value given by get_bond_vmax function, if smaller.\n",
    "\n",
    "BondPrInterp.get_svm_debt_price(svm, vbl, f0mat, f1mat, f2mat, f3mat)"
   ]
  },
  {
   "cell_type": "code",
   "execution_count": 11,
   "metadata": {},
   "outputs": [
    {
     "data": {
      "text/plain": [
       "148.58571920852654"
      ]
     },
     "execution_count": 11,
     "metadata": {},
     "output_type": "execute_result"
    },
    {
     "name": "stdout",
     "output_type": "stream",
     "text": [
      "Bond Percentage Difference: 0.0003390239237384991\n"
     ]
    },
    {
     "name": "stderr",
     "output_type": "stream",
     "text": [
      "WARNING: replacing module BondPrInterp\n"
     ]
    }
   ],
   "source": [
    "include(string(LOAD_PATH[end], \"BondPrInterp.jl\"))\n",
    "BondPrInterp.get_bond_Vmax(svm; print=true)"
   ]
  },
  {
   "cell_type": "code",
   "execution_count": null,
   "metadata": {
    "collapsed": true
   },
   "outputs": [],
   "source": []
  },
  {
   "cell_type": "code",
   "execution_count": 12,
   "metadata": {},
   "outputs": [
    {
     "data": {
      "text/plain": [
       "61.23505088968668"
      ]
     },
     "execution_count": 12,
     "metadata": {},
     "output_type": "execute_result"
    },
    {
     "name": "stdout",
     "output_type": "stream",
     "text": [
      "  0.269547 seconds (247.39 k allocations: 11.429 MiB, 3.35% gc time)\n"
     ]
    },
    {
     "name": "stderr",
     "output_type": "stream",
     "text": [
      "WARNING: replacing module BondPrInterp\n"
     ]
    }
   ],
   "source": [
    "include(string(LOAD_PATH[end], \"BondPrInterp.jl\"))\n",
    "@time BondPrInterp.get_cvm_debt_price(svm, svm.pm.sigmah, N1=30)"
   ]
  },
  {
   "cell_type": "code",
   "execution_count": 10,
   "metadata": {},
   "outputs": [
    {
     "data": {
      "text/plain": [
       "61.23504955365282"
      ]
     },
     "execution_count": 10,
     "metadata": {},
     "output_type": "execute_result"
    },
    {
     "name": "stdout",
     "output_type": "stream",
     "text": [
      "  0.237629 seconds (242.44 k allocations: 11.162 MiB, 3.70% gc time)\n"
     ]
    },
    {
     "name": "stderr",
     "output_type": "stream",
     "text": [
      "WARNING: replacing module BondPrInterp\n"
     ]
    }
   ],
   "source": [
    "include(string(LOAD_PATH[end], \"BondPrInterp.jl\"))\n",
    "@time BondPrInterp.get_cvm_debt_price(svm, svm.pm.sigmah)"
   ]
  },
  {
   "cell_type": "code",
   "execution_count": 17,
   "metadata": {},
   "outputs": [
    {
     "data": {
      "text/plain": [
       "144.0350002814001"
      ]
     },
     "execution_count": 17,
     "metadata": {},
     "output_type": "execute_result"
    },
    {
     "name": "stderr",
     "output_type": "stream",
     "text": [
      "WARNING: replacing module EqFinDiff\n"
     ]
    }
   ],
   "source": [
    "include(string(LOAD_PATH[end], \"EqFinDiff.jl\"))\n",
    "\n",
    "EqFinDiff.get_cvm_eq(200, svm.pm.sigmah, svm)"
   ]
  },
  {
   "cell_type": "code",
   "execution_count": 26,
   "metadata": {},
   "outputs": [
    {
     "name": "stdout",
     "output_type": "stream",
     "text": [
      "Vmax: 125.0\n",
      "phi0: -51.94\n",
      "phi1: 0.999\n",
      "pv_rfdebt: 61.94\n"
     ]
    },
    {
     "name": "stderr",
     "output_type": "stream",
     "text": [
      "WARNING: replacing module BondPrInterp\n",
      "WARNING: replacing module EqFinDiff\n"
     ]
    },
    {
     "data": {
      "text/plain": [
       "567.254936738525"
      ]
     },
     "execution_count": 26,
     "metadata": {},
     "output_type": "execute_result"
    },
    {
     "name": "stdout",
     "output_type": "stream",
     "text": [
      "debt_abs_per_diff: 9.937494816440229e-5\n",
      "eq_abs_per_diff:0.0009047503298416057\n",
      "  0.401377 seconds (1.85 M allocations: 39.678 MiB, 2.59% gc time)\n"
     ]
    }
   ],
   "source": [
    "include(string(LOAD_PATH[end], \"BondPrInterp.jl\"))\n",
    "include(string(LOAD_PATH[end], \"EqFinDiff.jl\"))\n",
    "\n",
    "@time EqFinDiff.get_eq_Vmax(svm)"
   ]
  },
  {
   "cell_type": "code",
   "execution_count": null,
   "metadata": {},
   "outputs": [],
   "source": [
    "?EqFinDiff.get_cvm_eq()"
   ]
  },
  {
   "cell_type": "code",
   "execution_count": null,
   "metadata": {
    "collapsed": true
   },
   "outputs": [],
   "source": [
    "reload(AnalyticFunctions)"
   ]
  },
  {
   "cell_type": "code",
   "execution_count": 28,
   "metadata": {},
   "outputs": [
    {
     "data": {
      "text/plain": [
       "Float16(0.02)"
      ]
     },
     "execution_count": 28,
     "metadata": {},
     "output_type": "execute_result"
    }
   ],
   "source": [
    "svm.pm.gross_delta"
   ]
  },
  {
   "cell_type": "code",
   "execution_count": null,
   "metadata": {
    "collapsed": true
   },
   "outputs": [],
   "source": [
    "# Need to write the following functions:\n",
    "# get_bond_vmax!\n",
    "# get_eq_vmax!"
   ]
  },
  {
   "cell_type": "code",
   "execution_count": 37,
   "metadata": {},
   "outputs": [
    {
     "data": {
      "text/markdown": [
       "No documentation found.\n",
       "\n",
       "`EqFinDiff.get_eq_Vmax` is a `Function`.\n",
       "\n",
       "```\n",
       "# 1 method for generic function \"get_eq_Vmax\":\n",
       "get_eq_Vmax(svm; initV, print_diffs) in EqFinDiff at /home/artur/BondPricing/Julia/modules/../functions/EqFinDiff/eq_get_methods.jl:16\n",
       "```\n"
      ],
      "text/plain": [
       "No documentation found.\n",
       "\n",
       "`EqFinDiff.get_eq_Vmax` is a `Function`.\n",
       "\n",
       "```\n",
       "# 1 method for generic function \"get_eq_Vmax\":\n",
       "get_eq_Vmax(svm; initV, print_diffs) in EqFinDiff at /home/artur/BondPricing/Julia/modules/../functions/EqFinDiff/eq_get_methods.jl:16\n",
       "```\n"
      ]
     },
     "execution_count": 37,
     "metadata": {},
     "output_type": "execute_result"
    }
   ],
   "source": [
    "?EqFinDiff.get_eq_Vmax()"
   ]
  },
  {
   "cell_type": "code",
   "execution_count": 34,
   "metadata": {},
   "outputs": [
    {
     "ename": "LoadError",
     "evalue": "\u001b[91msyntax: extra token \"BondPrInterpd\" after end of expression\u001b[39m",
     "output_type": "error",
     "traceback": [
      "\u001b[91msyntax: extra token \"BondPrInterpd\" after end of expression\u001b[39m",
      ""
     ]
    },
    {
     "name": "stderr",
     "output_type": "stream",
     "text": [
      "WARNING: replacing module BondPrInterp\n"
     ]
    }
   ],
   "source": [
    "include(string(LOAD_PATH[end], \"BondPrInterp.jl\"))\n",
    "? BondPrInterpd.get_bond_Vmax()"
   ]
  },
  {
   "cell_type": "code",
   "execution_count": 22,
   "metadata": {},
   "outputs": [
    {
     "ename": "LoadError",
     "evalue": "\u001b[91msyntax: line break in \":\" expression\u001b[39m",
     "output_type": "error",
     "traceback": [
      "\u001b[91msyntax: line break in \":\" expression\u001b[39m",
      ""
     ]
    }
   ],
   "source": [
    "function bond_price_fun(self, vbl, bondVmax, eqVmax, cte_vol=False)\n",
    "        # v max\n",
    "        eq_vmax = log(eqVmax / vbl)\n",
    "        bond_vmax = log(bondVmax / vbl)\n",
    "\n",
    "        # Ensure eq_vmax > bond_vmax\n",
    "        if bond_vmax >= eq_vmax:\n",
    "            eq_vmax = 1.1 * bond_vmax\n",
    "\n",
    "        # #######################################\n",
    "        # ####### Form grid of v values #########\n",
    "        # #######################################\n",
    "        # v grid\n",
    "        lenv = 1500\n",
    "        v_grid = linspace(eq_vmax, 0., lenv)\n",
    "\n",
    "        # #######################################\n",
    "        # ###### Form sub grid of v values ######\n",
    "        # #######################################\n",
    "        v_sub_len = 125\n",
    "        v_lower_sub_grid = linspace(bond_vmax, 0., floor(v_sub_len))\n",
    "        v_upper_sub_grid = linspace(eq_vmax, 1.025 * bond_vmax, floor(v_sub_len))\n",
    "\n",
    "        v_sub_grid = np.concatenate([v_upper_sub_grid, v_lower_sub_grid])\n",
    "\n",
    "        if v_sub_grid[0] != v_grid[0]:\n",
    "            v_sub_grid[0] = v_grid[0]\n",
    "\n",
    "        if np.abs(v_sub_grid[-1] - 0.0) > 1e-6:\n",
    "            v_sub_grid[-1] = 0.0\n",
    "\n",
    "        # #################################\n",
    "        # ###### Newly-Issued Bonds #######\n",
    "        # #################################\n",
    "        # Newly-Issued Bond Prices\n",
    "        print('Computing bond prices')\n",
    "        tic_bond = time()\n",
    "        # bond_pr = Parallel(n_jobs=5, backend='multiprocessing')(\n",
    "        #     # delayed(bond_price_function2)(self, vbl, VS, self.get_m(),\n",
    "        #     #                              V_max, V=vbl * np.exp(v)) for v in v_sub_grid)\n",
    "        #     delayed(bond_price_function)(self, vbl, self.get_m(),\n",
    "        #                                  Vt=vbl * np.exp(v),\n",
    "        #                                  Vmax=Vmax, cte_vol=cte_vol) for v in v_sub_grid)\n",
    "\n",
    "        if njobs > 1:\n",
    "            with Parallel(n_jobs=5, backend=joblib_backend) as parallel:\n",
    "                    acc = 0  # accumulator\n",
    "                    while acc < len(v_lower_sub_grid):\n",
    "                        lower_bond_pr = parallel(delayed(bond_price_function)(self,\n",
    "                                                                              vbl,\n",
    "                                                                              self.get_m(),\n",
    "                                                                              Vt=vbl * np.exp(v),\n",
    "                                                                              Vmax=bondVmax,\n",
    "                                                                              cte_vol=cte_vol)\n",
    "                                                 for v in v_lower_sub_grid)\n",
    "                        acc = len(lower_bond_pr)  # synchronization barrier\n",
    "        else:\n",
    "            lower_bond_pr = [bond_price_function(self, vbl,\n",
    "                                                 self.get_m(),\n",
    "                                                 Vt=vbl * np.exp(v),\n",
    "                                                 Vmax=bondVmax,\n",
    "                                                 cte_vol=cte_vol) for v in v_lower_sub_grid]\n",
    "\n",
    "        upper_bond_pr = [self.get_rfbond() for v in v_upper_sub_grid]\n",
    "        bond_pr = np.concatenate([upper_bond_pr, lower_bond_pr])\n",
    "\n",
    "        # Ensure Monotonicity:\n",
    "        for j in np.arange(len(bond_pr) - 1, 0, -1):\n",
    "            if bond_pr[j-1] < bond_pr[j]:\n",
    "                bond_pr[j-1] = bond_pr[j]\n",
    "\n",
    "        # Interpolate:\n",
    "        bpr = sp.interpolate.PchipInterpolator(np.asarray(v_sub_grid[::-1]),\n",
    "                                               np.asarray(bond_pr[::-1]).astype(np.float))\n",
    "\n",
    "        # Bond Prices\n",
    "        # bond_prices = bpr(v_grid[1:-1])\n",
    "        window_size, poly_order = 101, 3\n",
    "        bond_prices = savgol_filter(bpr(v_grid[1:-1]), window_size, poly_order)\n",
    "        print('Finished computing bond prices')\n",
    "        print('Time to compute bond prices: ' + str(time() - tic_bond))\n",
    "                                                \n",
    "        return v_grid, v_sub_grid, bond_pr, bpr, bond_prices\n",
    "                                                \n",
    "end"
   ]
  },
  {
   "cell_type": "code",
   "execution_count": 239,
   "metadata": {},
   "outputs": [
    {
     "data": {
      "text/plain": [
       "68.27126948528648"
      ]
     },
     "execution_count": 239,
     "metadata": {},
     "output_type": "execute_result"
    }
   ],
   "source": [
    "vbl = AnalyticFunctions.get_cvm_vb(svm3, svm3.pm.sigmah)"
   ]
  },
  {
   "cell_type": "code",
   "execution_count": 173,
   "metadata": {},
   "outputs": [
    {
     "data": {
      "text/plain": [
       "68.2967089427127"
      ]
     },
     "execution_count": 173,
     "metadata": {},
     "output_type": "execute_result"
    }
   ],
   "source": [
    "AnalyticFunctions.get_cvm_vb(svm3, svm3.pm.sigmah)"
   ]
  },
  {
   "cell_type": "code",
   "execution_count": 175,
   "metadata": {},
   "outputs": [
    {
     "data": {
      "text/plain": [
       "68.2967089427127"
      ]
     },
     "execution_count": 175,
     "metadata": {},
     "output_type": "execute_result"
    }
   ],
   "source": [
    "AnalyticFunctions.zhi_vb(svm.pm.m, svm.c, svm.p, svm.pm.sigmah, svm.pm.r, \n",
    "                               svm.pm.gross_delta, svm.pm.iota, svm.pm.xi, \n",
    "                               svm.pm.kappa, svm.pm.alpha, svm.pm.pi)"
   ]
  },
  {
   "cell_type": "code",
   "execution_count": 179,
   "metadata": {},
   "outputs": [
    {
     "data": {
      "text/plain": [
       "1.0"
      ]
     },
     "execution_count": 179,
     "metadata": {},
     "output_type": "execute_result"
    }
   ],
   "source": [
    "\n",
    "\n",
    "# vbl = float(63)\n",
    "vbh = get_cvm_vb(svm, svm.pm.sigmah)\n",
    "vbl = vbh\n",
    "vt = log(svm.V0/vbl)\n",
    "vbhl = vbh/vbl"
   ]
  },
  {
   "cell_type": "code",
   "execution_count": 180,
   "metadata": {},
   "outputs": [
    {
     "data": {
      "text/plain": [
       "bondpr (generic function with 1 method)"
      ]
     },
     "execution_count": 180,
     "metadata": {},
     "output_type": "execute_result"
    },
    {
     "name": "stderr",
     "output_type": "stream",
     "text": [
      "WARNING: replacing module AnalyticFunctions\n",
      "WARNING: replacing module BondPrInterp\n",
      "WARNING: replacing module EqFinDiff\n"
     ]
    }
   ],
   "source": [
    "include(string(LOAD_PATH[end], \"AnalyticFunctions.jl\"))\n",
    "include(string(LOAD_PATH[end], \"BondPrInterp.jl\"))\n",
    "include(string(LOAD_PATH[end], \"EqFinDiff.jl\"))\n",
    "\n",
    "using Interpolations\n",
    "\n",
    "# function eq_deriv_fun(f, vbl::Float64, x::Float64, h::Float64)\n",
    "#     return (f(x+h) - f(x))/(vbl * (exp(x+h) - exp(x)))\n",
    "# end\n",
    "\n",
    "function deriv_fun(f, x, h)\n",
    "    return (f(x+h) - f(x))/h\n",
    "end\n",
    "\n",
    "get_cvm_vb = AnalyticFunctions.get_cvm_vb\n",
    "get_rgrow = AnalyticFunctions.get_rgrow\n",
    "get_param = AnalyticFunctions.get_param\n",
    "get_cvm_eq = EqFinDiff.get_cvm_eq\n",
    "get_pv_rfdebt = BondPrInterp.get_pv_rfdebt\n",
    "bondpr = BondPrInterp.bondpr"
   ]
  },
  {
   "cell_type": "code",
   "execution_count": 256,
   "metadata": {},
   "outputs": [
    {
     "data": {
      "text/plain": [
       "1498-element Array{Float64,1}:\n",
       "  68.3655\n",
       "  68.46  \n",
       "  68.5545\n",
       "  68.6492\n",
       "  68.7439\n",
       "  68.8389\n",
       "  68.9339\n",
       "  69.0291\n",
       "  69.1244\n",
       "  69.2199\n",
       "  69.3155\n",
       "  69.4112\n",
       "  69.5071\n",
       "   ⋮     \n",
       " 531.37  \n",
       " 532.104 \n",
       " 532.839 \n",
       " 533.575 \n",
       " 534.312 \n",
       " 535.049 \n",
       " 535.788 \n",
       " 536.528 \n",
       " 537.269 \n",
       " 538.011 \n",
       " 538.754 \n",
       " 539.498 "
      ]
     },
     "execution_count": 256,
     "metadata": {},
     "output_type": "execute_result"
    }
   ],
   "source": [
    "vbl * exp.(reverse(v_grid[2:end-1]))"
   ]
  },
  {
   "cell_type": "code",
   "execution_count": 441,
   "metadata": {},
   "outputs": [
    {
     "data": {
      "text/plain": [
       "1500×1500 Array{Float64,2}:\n",
       " 0.0  1.0  0.0  0.0  0.0  0.0  0.0  0.0  …  0.0  0.0  0.0  0.0  0.0  0.0  0.0\n",
       " 0.0  0.0  1.0  0.0  0.0  0.0  0.0  0.0     0.0  0.0  0.0  0.0  0.0  0.0  0.0\n",
       " 0.0  0.0  0.0  1.0  0.0  0.0  0.0  0.0     0.0  0.0  0.0  0.0  0.0  0.0  0.0\n",
       " 0.0  0.0  0.0  0.0  1.0  0.0  0.0  0.0     0.0  0.0  0.0  0.0  0.0  0.0  0.0\n",
       " 0.0  0.0  0.0  0.0  0.0  1.0  0.0  0.0     0.0  0.0  0.0  0.0  0.0  0.0  0.0\n",
       " 0.0  0.0  0.0  0.0  0.0  0.0  1.0  0.0  …  0.0  0.0  0.0  0.0  0.0  0.0  0.0\n",
       " 0.0  0.0  0.0  0.0  0.0  0.0  0.0  1.0     0.0  0.0  0.0  0.0  0.0  0.0  0.0\n",
       " 0.0  0.0  0.0  0.0  0.0  0.0  0.0  0.0     0.0  0.0  0.0  0.0  0.0  0.0  0.0\n",
       " 0.0  0.0  0.0  0.0  0.0  0.0  0.0  0.0     0.0  0.0  0.0  0.0  0.0  0.0  0.0\n",
       " 0.0  0.0  0.0  0.0  0.0  0.0  0.0  0.0     0.0  0.0  0.0  0.0  0.0  0.0  0.0\n",
       " 0.0  0.0  0.0  0.0  0.0  0.0  0.0  0.0  …  0.0  0.0  0.0  0.0  0.0  0.0  0.0\n",
       " 0.0  0.0  0.0  0.0  0.0  0.0  0.0  0.0     0.0  0.0  0.0  0.0  0.0  0.0  0.0\n",
       " 0.0  0.0  0.0  0.0  0.0  0.0  0.0  0.0     0.0  0.0  0.0  0.0  0.0  0.0  0.0\n",
       " ⋮                        ⋮              ⋱            ⋮                      \n",
       " 0.0  0.0  0.0  0.0  0.0  0.0  0.0  0.0     0.0  0.0  0.0  0.0  0.0  0.0  0.0\n",
       " 0.0  0.0  0.0  0.0  0.0  0.0  0.0  0.0     0.0  0.0  0.0  0.0  0.0  0.0  0.0\n",
       " 0.0  0.0  0.0  0.0  0.0  0.0  0.0  0.0  …  0.0  0.0  0.0  0.0  0.0  0.0  0.0\n",
       " 0.0  0.0  0.0  0.0  0.0  0.0  0.0  0.0     0.0  0.0  0.0  0.0  0.0  0.0  0.0\n",
       " 0.0  0.0  0.0  0.0  0.0  0.0  0.0  0.0     1.0  0.0  0.0  0.0  0.0  0.0  0.0\n",
       " 0.0  0.0  0.0  0.0  0.0  0.0  0.0  0.0     0.0  1.0  0.0  0.0  0.0  0.0  0.0\n",
       " 0.0  0.0  0.0  0.0  0.0  0.0  0.0  0.0     0.0  0.0  1.0  0.0  0.0  0.0  0.0\n",
       " 0.0  0.0  0.0  0.0  0.0  0.0  0.0  0.0  …  0.0  0.0  0.0  1.0  0.0  0.0  0.0\n",
       " 0.0  0.0  0.0  0.0  0.0  0.0  0.0  0.0     0.0  0.0  0.0  0.0  1.0  0.0  0.0\n",
       " 0.0  0.0  0.0  0.0  0.0  0.0  0.0  0.0     0.0  0.0  0.0  0.0  0.0  1.0  0.0\n",
       " 0.0  0.0  0.0  0.0  0.0  0.0  0.0  0.0     0.0  0.0  0.0  0.0  0.0  0.0  1.0\n",
       " 0.0  0.0  0.0  0.0  0.0  0.0  0.0  0.0     0.0  0.0  0.0  0.0  0.0  0.0  0.0"
      ]
     },
     "execution_count": 441,
     "metadata": {},
     "output_type": "execute_result"
    }
   ],
   "source": [
    "[1. *(y==x+1) for x in 1:1500, y in 1:1500]"
   ]
  },
  {
   "cell_type": "code",
   "execution_count": 437,
   "metadata": {},
   "outputs": [
    {
     "data": {
      "text/plain": [
       "4×4 Array{Real,2}:\n",
       " NaN    0  NaN  NaN\n",
       "   1  NaN    0  NaN\n",
       "   1    1  NaN    0\n",
       "   1    1    1  NaN"
      ]
     },
     "execution_count": 437,
     "metadata": {},
     "output_type": "execute_result"
    }
   ],
   "source": [
    "numrows =4\n",
    "numcols = 4\n",
    "[ x>y ? 1 : (y == x + 1 ? 0 : NaN) for x in 1:numrows, y in 1:numcols]"
   ]
  },
  {
   "cell_type": "code",
   "execution_count": 301,
   "metadata": {},
   "outputs": [
    {
     "data": {
      "text/plain": [
       "4×4 Array{Float64,2}:\n",
       " 1.0  0.0  0.0  0.0\n",
       " 0.0  1.0  0.0  0.0\n",
       " 0.0  0.0  1.0  0.0\n",
       " 0.0  0.0  0.0  1.0"
      ]
     },
     "execution_count": 301,
     "metadata": {},
     "output_type": "execute_result"
    }
   ],
   "source": [
    "Array(Diagonal(ones(4,4)))"
   ]
  },
  {
   "cell_type": "code",
   "execution_count": 434,
   "metadata": {},
   "outputs": [
    {
     "ename": "LoadError",
     "evalue": "\u001b[91mMethodError: no method matching Diagonal(::Array{Float64,2}, ::Int64)\u001b[0m\nClosest candidates are:\n  Diagonal(::AbstractArray{T,2} where T) at linalg/diagonal.jl:29\u001b[39m",
     "output_type": "error",
     "traceback": [
      "\u001b[91mMethodError: no method matching Diagonal(::Array{Float64,2}, ::Int64)\u001b[0m\nClosest candidates are:\n  Diagonal(::AbstractArray{T,2} where T) at linalg/diagonal.jl:29\u001b[39m",
      "",
      "Stacktrace:",
      " [1] \u001b[1minclude_string\u001b[22m\u001b[22m\u001b[1m(\u001b[22m\u001b[22m::String, ::String\u001b[1m)\u001b[22m\u001b[22m at \u001b[1m./loading.jl:515\u001b[22m\u001b[22m"
     ]
    }
   ],
   "source": [
    "Diagonal(ones(2,2), 1)"
   ]
  },
  {
   "cell_type": "code",
   "execution_count": 427,
   "metadata": {
    "scrolled": false
   },
   "outputs": [
    {
     "data": {
      "text/markdown": [
       "```\n",
       "Diagonal(A::AbstractMatrix)\n",
       "```\n",
       "\n",
       "Constructs a matrix from the diagonal of `A`.\n",
       "\n",
       "# Example\n",
       "\n",
       "```jldoctest\n",
       "julia> A = [1 2 3; 4 5 6; 7 8 9]\n",
       "3×3 Array{Int64,2}:\n",
       " 1  2  3\n",
       " 4  5  6\n",
       " 7  8  9\n",
       "\n",
       "julia> Diagonal(A)\n",
       "3×3 Diagonal{Int64}:\n",
       " 1  ⋅  ⋅\n",
       " ⋅  5  ⋅\n",
       " ⋅  ⋅  9\n",
       "```\n",
       "\n",
       "```\n",
       "Diagonal(V::AbstractVector)\n",
       "```\n",
       "\n",
       "Constructs a matrix with `V` as its diagonal.\n",
       "\n",
       "# Example\n",
       "\n",
       "```jldoctest\n",
       "julia> V = [1; 2]\n",
       "2-element Array{Int64,1}:\n",
       " 1\n",
       " 2\n",
       "\n",
       "julia> Diagonal(V)\n",
       "2×2 Diagonal{Int64}:\n",
       " 1  ⋅\n",
       " ⋅  2\n",
       "```\n"
      ],
      "text/plain": [
       "```\n",
       "Diagonal(A::AbstractMatrix)\n",
       "```\n",
       "\n",
       "Constructs a matrix from the diagonal of `A`.\n",
       "\n",
       "# Example\n",
       "\n",
       "```jldoctest\n",
       "julia> A = [1 2 3; 4 5 6; 7 8 9]\n",
       "3×3 Array{Int64,2}:\n",
       " 1  2  3\n",
       " 4  5  6\n",
       " 7  8  9\n",
       "\n",
       "julia> Diagonal(A)\n",
       "3×3 Diagonal{Int64}:\n",
       " 1  ⋅  ⋅\n",
       " ⋅  5  ⋅\n",
       " ⋅  ⋅  9\n",
       "```\n",
       "\n",
       "```\n",
       "Diagonal(V::AbstractVector)\n",
       "```\n",
       "\n",
       "Constructs a matrix with `V` as its diagonal.\n",
       "\n",
       "# Example\n",
       "\n",
       "```jldoctest\n",
       "julia> V = [1; 2]\n",
       "2-element Array{Int64,1}:\n",
       " 1\n",
       " 2\n",
       "\n",
       "julia> Diagonal(V)\n",
       "2×2 Diagonal{Int64}:\n",
       " 1  ⋅\n",
       " ⋅  2\n",
       "```\n"
      ]
     },
     "execution_count": 427,
     "metadata": {},
     "output_type": "execute_result"
    }
   ],
   "source": [
    "?Diagonal()"
   ]
  },
  {
   "cell_type": "code",
   "execution_count": 425,
   "metadata": {},
   "outputs": [
    {
     "ename": "LoadError",
     "evalue": "\u001b[91mMethodError: no method matching Array(::Diagonal{Float64}, ::Int64)\u001b[0m\nClosest candidates are:\n  Array(\u001b[91m::Type{T}\u001b[39m, ::Int64) where T at deprecated.jl:56\n  Array(\u001b[91m::Type{T}\u001b[39m, ::Int64, \u001b[91m::Int64\u001b[39m) where T at deprecated.jl:56\n  Array(\u001b[91m::Type{T}\u001b[39m, ::Int64, \u001b[91m::Int64\u001b[39m, \u001b[91m::Int64\u001b[39m) where T at deprecated.jl:56\n  ...\u001b[39m",
     "output_type": "error",
     "traceback": [
      "\u001b[91mMethodError: no method matching Array(::Diagonal{Float64}, ::Int64)\u001b[0m\nClosest candidates are:\n  Array(\u001b[91m::Type{T}\u001b[39m, ::Int64) where T at deprecated.jl:56\n  Array(\u001b[91m::Type{T}\u001b[39m, ::Int64, \u001b[91m::Int64\u001b[39m) where T at deprecated.jl:56\n  Array(\u001b[91m::Type{T}\u001b[39m, ::Int64, \u001b[91m::Int64\u001b[39m, \u001b[91m::Int64\u001b[39m) where T at deprecated.jl:56\n  ...\u001b[39m",
      "",
      "Stacktrace:",
      " [1] \u001b[1minclude_string\u001b[22m\u001b[22m\u001b[1m(\u001b[22m\u001b[22m::String, ::String\u001b[1m)\u001b[22m\u001b[22m at \u001b[1m./loading.jl:515\u001b[22m\u001b[22m"
     ]
    }
   ],
   "source": [
    "A = Array(Diagonal(ones(2,1)), 2)\n",
    "#              3 * Array(LowerTriangular(ones(3,3)) - \n",
    "#                             Diagonal(ones(3,3))) +\n",
    "#              1 * Array(UpperTriangular(ones(3,3)) - \n",
    "#                             Diagonal(ones(3,3)))"
   ]
  },
  {
   "cell_type": "code",
   "execution_count": 442,
   "metadata": {},
   "outputs": [
    {
     "data": {
      "text/plain": [
       "eq_fin_diff_core (generic function with 1 method)"
      ]
     },
     "execution_count": 442,
     "metadata": {},
     "output_type": "execute_result"
    }
   ],
   "source": [
    "function eq_fin_diff_core(svm, vbl, v_grid, bondpr)\n",
    "#        V_sub_grid = vbl * exp.(v_sub_grid)\n",
    "       \n",
    "        # #################################\n",
    "        # ######### Equity Values #########\n",
    "        # #################################\n",
    "        # Upper Barrier: Value of Equity\n",
    "        eq_max = get_cvm_eq(vbl * exp(v_grid[1]), svm.pm.sigmah, svm)\n",
    "\n",
    "        # Note: I can use the CVM value here because both \n",
    "        # the cvm and svm equity values will have converged \n",
    "        # to the credit-risk-free equity value in the upper\n",
    "        # barrier.\n",
    "        \n",
    "        # ##################################\n",
    "        # ##### Baseline Model Equity Values #####\n",
    "        # ##################################\n",
    "        println(\"Computing Constant Volatility Equity Values\")\n",
    "        bsm_eqh_vals_Future = @spawn [get_cvm_eq(vbl * exp(v), svm.pm.sigmah, svm) for v=v_grid]\n",
    "        bsm_eqh_vals = fetch(bsm_eqh_vals_Future)\n",
    "    \n",
    "        # Interpolate\n",
    "#         itp = interpolate(reverse(bsm_eqh_sub_vals), BSpline(Cubic(Line())), OnGrid())\n",
    "#         bsm_interp_eqh = Interpolations.scale(itp, reverse(v_sub_grid))  # Scale\n",
    "\n",
    "        # Equity Values\n",
    "#         bsm_eqh = bsm_interp_eqh(v_grid[2:end-1])\n",
    "        bsm_eqh = bsm_eqh_vals[2:end-1]\n",
    "        println(\"Finished computing Constant Volatility Equity Values\")\n",
    "    \n",
    "        # #################################\n",
    "        # ######### Coefficients: #########\n",
    "        # #################################\n",
    "        deltav = v_grid[1] - v_grid[2]\n",
    "        nu = get_rgrow(svm) - .5 * get_param(svm, \"sigmal\")^2\n",
    "\n",
    "        qu = .5 * (nu / deltav + get_param(svm, \"sigmal\")^2 / (deltav^2))\n",
    "        qd = .5 * (-nu / deltav + get_param(svm, \"sigmal\")^2 / (deltav^2))\n",
    "        qm = -(get_param(svm, \"r\") + get_param(svm, \"lambda\") + \n",
    "                                    get_param(svm, \"sigmal\")^2 / (deltav^2))\n",
    "\n",
    "        println(\"deltav: \", string(deltav))\n",
    "        println(\"nu: \", string(nu))\n",
    "        println(\"qu: \", string(qu))\n",
    "        println(\"qm: \", string(qm))\n",
    "        println(\"qd: \", string(qd))\n",
    "    \n",
    "        # Present Value of Debt:\n",
    "        pv_debt = get_pv_rfdebt(svm)\n",
    "    \n",
    "        println(\"Finished computing pv rfdebt\")\n",
    "    \n",
    "        # Gamma Vector:\n",
    "        Gamma = (get_param(svm, \"delta\") * vbl * exp.(v_grid[2:end-1]) - \n",
    "                    (1 - get_param(svm, \"pi\")) * get_param(svm, \"C\") + \n",
    "                    bondpr[2:end-1] - get_param(svm, \"p\") +\n",
    "                    get_param(svm, \"lambda\") * bsm_eqh)\n",
    "    \n",
    "        plot(v_grid[2:end-1], bsm_eqh)\n",
    "\n",
    "        println(\"Shape of Gamma matrix: \", string(size(Gamma)))\n",
    "        Gamma[1] += qu * eq_max\n",
    "\n",
    "        eq_vbl = max(0., get_param(svm, \"alpha\") * vbl - pv_debt)\n",
    "        println(\"eq_vbl: \", string(eq_vbl))\n",
    "        Gamma[end] += qd * eq_vbl\n",
    "\n",
    "        # A Matrix:\n",
    "        A = (qm * Array(Diagonal(ones(length(Gamma)))) +\n",
    "             qu * [1. *(y==x+1) for x in 1:length(Gamma), y in 1:length(Gamma)] +\n",
    "             qd * [1. *(y==x-1) for x in 1:length(Gamma), y in 1:length(Gamma)])\n",
    "#              qu * Array(LowerTriangular(ones(length(Gamma), length(Gamma))) - \n",
    "#                             Diagonal(ones(length(Gamma)))) +\n",
    "#              qd * Array(UpperTriangular(ones(length(Gamma), length(Gamma))) - \n",
    "#                             Diagonal(ones(length(Gamma)))))\n",
    "        \n",
    "        # ###### Compute Pre-Volatility Shock Equity Function: ######\n",
    "        # Form Function and add lim_v->infty E(v)\n",
    "        eq_vals = vcat(eq_max, -\\(A, Gamma), eq_vbl)\n",
    "    \n",
    "        # Interpolate to back-out equity value at VB:\n",
    "        eq_interp_itp = interpolate(reverse(eq_vals), BSpline(Cubic(Line())), OnGrid())\n",
    "        eq_sitp = Interpolations.scale(eq_interp_itp, reverse(v_grid))  # Scale\n",
    "\n",
    "        # Compute Derivative at Default Barrier:\n",
    "        h = 1e-5\n",
    "        inv_v_grid = reverse(v_grid)\n",
    "        eq_sitp_deriv_fut = @spawn [deriv_fun(eq_sitp, v, h) * (1/(vbl * exp(v))) \n",
    "                                        for v=inv_v_grid]\n",
    "        eq_sitp_deriv = fetch(eq_sitp_deriv_fut)\n",
    "        eq_deriv_vb = eq_sitp_deriv[1]\n",
    "\n",
    "        # Equity Values\n",
    "\n",
    "        # Equity set as function of V:\n",
    "        e0 = float(eq_sitp[log(get_param(svm, \"V0\")/vbl)])\n",
    "    \n",
    "        # Look for negative values\n",
    "        eq_min_val = minimum(reverse(eq_vals)[2:end])  # interpolate in a neighborhood\n",
    "        eq_negative = eq_min_val .< -0.1  # & (np.abs(np.min(eq_vals)) > .025)\n",
    "        eq_deriv_min_val = minimum(eq_sitp_deriv) \n",
    "\n",
    "        eq_dict = Dict(\"e0\" => e0,\n",
    "                       \"eq_max\" => eq_max,\n",
    "                       \"eq_vals\"=>  eq_vals,\n",
    "                       \"eq_sitp\" =>  eq_sitp,\n",
    "                       \"eq_deriv\" => eq_deriv_vb,\n",
    "                       \"eq_sitp_deriv\" => eq_sitp_deriv,\n",
    "                       \"eq_vb\" => eq_vbl,\n",
    "                       \"eq_min_val\" => eq_min_val,\n",
    "                       \"eq_negative\" => eq_negative,\n",
    "                       \"eq_deriv_min_val\" => eq_deriv_min_val, \n",
    "                       \"invA_Gamma\" => - inv(A) * Gamma)\n",
    "\n",
    "#         println(\"Total Equity Core Function Computation Time: \", \n",
    "#                 string(tic() - tic_bsm_eq))\n",
    "                                                                \n",
    "        return Gamma, A, eq_dict\n",
    "end\n",
    "\n"
   ]
  },
  {
   "cell_type": "code",
   "execution_count": 443,
   "metadata": {},
   "outputs": [
    {
     "data": {
      "text/plain": [
       "Float32"
      ]
     },
     "execution_count": 443,
     "metadata": {},
     "output_type": "execute_result"
    }
   ],
   "source": [
    "typeof(get_param(svm3, \"delta\"))"
   ]
  },
  {
   "cell_type": "code",
   "execution_count": 444,
   "metadata": {},
   "outputs": [
    {
     "data": {
      "text/plain": [
       "export_equity_fin_diff_results (generic function with 2 methods)"
      ]
     },
     "execution_count": 444,
     "metadata": {},
     "output_type": "execute_result"
    }
   ],
   "source": [
    "function export_equity_fin_diff_results(svm, vbl, eq_dict, debt=nothing)\n",
    "#     if debt is None:\n",
    "#         debt = cls.get_debt_price()  # already set vb and p. (maybe add m and c)\n",
    "\n",
    "    # Get Firm Value:\n",
    "    firm_value = NaN # debt + eq_dict[\"e0\"]\n",
    "\n",
    "    # Compute Leverage:\n",
    "    lev = NaN# (debt / firm_value) * 100\n",
    "\n",
    "    # Compute ROE:\n",
    "    roe = NaN # (eq_dict[\"e0\"] / (svm.V0 - debt) - 1) * 100\n",
    "\n",
    "    #               \"delta\": cls.get_delta(),\n",
    "        #               \"debt\"=> debt,\n",
    "    results = Dict(\"V0\"=> svm.V0,\n",
    "                   \"r\"=> svm.pm.r,\n",
    "                   \"gross_delta\"=> svm.pm.gross_delta,\n",
    "                   \"iota\"=> svm.pm.iota,\n",
    "                   \"alpha\"=> svm.pm.alpha,\n",
    "                   \"pi\"=> svm.pm.pi,\n",
    "                   \"xi\"=> svm.pm.xi,\n",
    "                   \"kappa\"=> svm.pm.kappa,\n",
    "                   \"lambda\"=> svm.pm.lambda,\n",
    "                   \"sigmal\"=> svm.pm.sigmal,\n",
    "                   \"sigmah\"=> svm.pm.sigmah,\n",
    "                   \"m\"=> svm.pm.m,\n",
    "                   \"c\"=> svm.c,\n",
    "                   \"p\"=> svm.p,\n",
    "                   \"vb\"=> vbl,\n",
    "                   \"equity\"=> eq_dict[\"e0\"],\n",
    "                   \"eq_deriv\"=> eq_dict[\"eq_deriv\"],\n",
    "                   \"firm_value\"=> firm_value,\n",
    "                   \"eq_min_val\"=> eq_dict[\"eq_min_val\"],\n",
    "                   \"eq_vb\"=> eq_dict[\"eq_vb\"],\n",
    "                   \"eq_negative\"=> eq_dict[\"eq_negative\"],\n",
    "                   \"eq_deriv_min_val\"=> eq_dict[\"eq_deriv_min_val\"],\n",
    "                   \"leverage\"=> lev,\n",
    "                   \"ROE\"=> roe)\n",
    "\n",
    "    df = DataFrame(results)\n",
    "\n",
    "    return results, df\n",
    "end"
   ]
  },
  {
   "cell_type": "code",
   "execution_count": 445,
   "metadata": {},
   "outputs": [
    {
     "data": {
      "text/plain": [
       "equity_fin_diff (generic function with 1 method)"
      ]
     },
     "execution_count": 445,
     "metadata": {},
     "output_type": "execute_result"
    }
   ],
   "source": [
    "function equity_fin_diff(svm, vbl, f0fd, f1fd, f2fd, f3fd; \n",
    "                         p=nothing, debt=nothing, full_output=false)\n",
    "    \n",
    "    if p==nothing\n",
    "        p = svm.p\n",
    "    end\n",
    "\n",
    "    # V MAX:\n",
    "    println(\"Computing Equity Vmax\")\n",
    "    eqVmax = EqFinDiff.get_eq_Vmax(svm)\n",
    "    println(\"Equity Vmax: \", string(eqVmax))\n",
    "    println(\" \")\n",
    "\n",
    "    println(\"Computing Bond Vmax\")\n",
    "    bondVmax = BondPrInterp.get_bond_Vmax(svm)\n",
    "    println(\"Bond Vmax: \", string(bondVmax))\n",
    "    println(\" \")\n",
    "\n",
    "    # Ensure eq_vmax > bond_vmax\n",
    "    eqVmax = max(1.25 * bondVmax, eqVmax)\n",
    "    println(\"Adjusted Equity Vmax: \", string(eqVmax))\n",
    "    \n",
    "    # v max\n",
    "    eq_vmax = log(eqVmax / vbl)\n",
    "    bond_vmax = log(bondVmax / vbl)\n",
    "\n",
    "    # Ensure eq_vmax > bond_vmax\n",
    "    if bond_vmax >= eq_vmax\n",
    "        eq_vmax = 1.1 * bond_vmax\n",
    "    end\n",
    "    println(\"eq_vmax: \", string(eq_vmax)) \n",
    "    # #######################################\n",
    "    # ####### Form grid of v values #########\n",
    "    # #######################################\n",
    "    lenv = 1500\n",
    "    v_grid = linspace(eq_vmax, 0., lenv)\n",
    "    \n",
    "    bondpr_grid_fut = @spawn [bondpr(svm, vbl * exp(v), vbl, \n",
    "                                     svm.pm.m, bond_vmax, \n",
    "                                     f0fd, f1fd, f2fd, f3fd) for v=v_grid]\n",
    "    bondpr_grid = fetch(bondpr_grid_fut)\n",
    "    \n",
    "    # #################################\n",
    "    # ######### Equity Values #########\n",
    "    # #################################\n",
    "    println(\"Finished computing bondpr_grid\")\n",
    "    Gamma, A, eq_dict = eq_fin_diff_core(svm, vbl, v_grid, bondpr_grid)\n",
    "    \n",
    "    println(\"Exporting results... \")\n",
    "    _, df = export_equity_fin_diff_results(svm, vbl, eq_dict)\n",
    "    \n",
    "    return v_grid, eq_dict, Gamma, A, df\n",
    "end\n",
    "\n",
    "# ####################################################################\n",
    "# ####################################################################\n"
   ]
  },
  {
   "cell_type": "code",
   "execution_count": 451,
   "metadata": {},
   "outputs": [
    {
     "data": {
      "image/svg+xml": [
       "<?xml version=\"1.0\" encoding=\"utf-8\"?>\n",
       "<svg xmlns=\"http://www.w3.org/2000/svg\" xmlns:xlink=\"http://www.w3.org/1999/xlink\" width=\"600\" height=\"400\" viewBox=\"0 0 600 400\">\n",
       "<defs>\n",
       "  <clipPath id=\"clip5700\">\n",
       "    <rect x=\"0\" y=\"0\" width=\"600\" height=\"400\"/>\n",
       "  </clipPath>\n",
       "</defs>\n",
       "<polygon clip-path=\"url(#clip5700)\" points=\"\n",
       "0,400 600,400 600,0 0,0 \n",
       "  \" fill=\"#ffffff\" fill-opacity=\"1\"/>\n",
       "<defs>\n",
       "  <clipPath id=\"clip5701\">\n",
       "    <rect x=\"120\" y=\"0\" width=\"421\" height=\"400\"/>\n",
       "  </clipPath>\n",
       "</defs>\n",
       "<polygon clip-path=\"url(#clip5700)\" points=\"\n",
       "37.0032,375.869 580.315,375.869 580.315,11.811 37.0032,11.811 \n",
       "  \" fill=\"#ffffff\" fill-opacity=\"1\"/>\n",
       "<defs>\n",
       "  <clipPath id=\"clip5702\">\n",
       "    <rect x=\"37\" y=\"11\" width=\"544\" height=\"365\"/>\n",
       "  </clipPath>\n",
       "</defs>\n",
       "<polyline clip-path=\"url(#clip5702)\" style=\"stroke:#000000; stroke-width:0.5; stroke-opacity:0.1; fill:none\" points=\"\n",
       "  52.38,375.869 52.38,11.811 \n",
       "  \"/>\n",
       "<polyline clip-path=\"url(#clip5702)\" style=\"stroke:#000000; stroke-width:0.5; stroke-opacity:0.1; fill:none\" points=\"\n",
       "  200.954,375.869 200.954,11.811 \n",
       "  \"/>\n",
       "<polyline clip-path=\"url(#clip5702)\" style=\"stroke:#000000; stroke-width:0.5; stroke-opacity:0.1; fill:none\" points=\"\n",
       "  349.528,375.869 349.528,11.811 \n",
       "  \"/>\n",
       "<polyline clip-path=\"url(#clip5702)\" style=\"stroke:#000000; stroke-width:0.5; stroke-opacity:0.1; fill:none\" points=\"\n",
       "  498.102,375.869 498.102,11.811 \n",
       "  \"/>\n",
       "<polyline clip-path=\"url(#clip5702)\" style=\"stroke:#000000; stroke-width:0.5; stroke-opacity:0.1; fill:none\" points=\"\n",
       "  37.0032,358.108 580.315,358.108 \n",
       "  \"/>\n",
       "<polyline clip-path=\"url(#clip5702)\" style=\"stroke:#000000; stroke-width:0.5; stroke-opacity:0.1; fill:none\" points=\"\n",
       "  37.0032,296.166 580.315,296.166 \n",
       "  \"/>\n",
       "<polyline clip-path=\"url(#clip5702)\" style=\"stroke:#000000; stroke-width:0.5; stroke-opacity:0.1; fill:none\" points=\"\n",
       "  37.0032,234.225 580.315,234.225 \n",
       "  \"/>\n",
       "<polyline clip-path=\"url(#clip5702)\" style=\"stroke:#000000; stroke-width:0.5; stroke-opacity:0.1; fill:none\" points=\"\n",
       "  37.0032,172.283 580.315,172.283 \n",
       "  \"/>\n",
       "<polyline clip-path=\"url(#clip5702)\" style=\"stroke:#000000; stroke-width:0.5; stroke-opacity:0.1; fill:none\" points=\"\n",
       "  37.0032,110.342 580.315,110.342 \n",
       "  \"/>\n",
       "<polyline clip-path=\"url(#clip5702)\" style=\"stroke:#000000; stroke-width:0.5; stroke-opacity:0.1; fill:none\" points=\"\n",
       "  37.0032,48.4005 580.315,48.4005 \n",
       "  \"/>\n",
       "<polyline clip-path=\"url(#clip5700)\" style=\"stroke:#000000; stroke-width:1; stroke-opacity:1; fill:none\" points=\"\n",
       "  37.0032,375.869 580.315,375.869 \n",
       "  \"/>\n",
       "<polyline clip-path=\"url(#clip5700)\" style=\"stroke:#000000; stroke-width:1; stroke-opacity:1; fill:none\" points=\"\n",
       "  37.0032,375.869 37.0032,11.811 \n",
       "  \"/>\n",
       "<polyline clip-path=\"url(#clip5700)\" style=\"stroke:#000000; stroke-width:1; stroke-opacity:1; fill:none\" points=\"\n",
       "  52.38,375.869 52.38,370.408 \n",
       "  \"/>\n",
       "<polyline clip-path=\"url(#clip5700)\" style=\"stroke:#000000; stroke-width:1; stroke-opacity:1; fill:none\" points=\"\n",
       "  200.954,375.869 200.954,370.408 \n",
       "  \"/>\n",
       "<polyline clip-path=\"url(#clip5700)\" style=\"stroke:#000000; stroke-width:1; stroke-opacity:1; fill:none\" points=\"\n",
       "  349.528,375.869 349.528,370.408 \n",
       "  \"/>\n",
       "<polyline clip-path=\"url(#clip5700)\" style=\"stroke:#000000; stroke-width:1; stroke-opacity:1; fill:none\" points=\"\n",
       "  498.102,375.869 498.102,370.408 \n",
       "  \"/>\n",
       "<polyline clip-path=\"url(#clip5700)\" style=\"stroke:#000000; stroke-width:1; stroke-opacity:1; fill:none\" points=\"\n",
       "  37.0032,358.108 45.1529,358.108 \n",
       "  \"/>\n",
       "<polyline clip-path=\"url(#clip5700)\" style=\"stroke:#000000; stroke-width:1; stroke-opacity:1; fill:none\" points=\"\n",
       "  37.0032,296.166 45.1529,296.166 \n",
       "  \"/>\n",
       "<polyline clip-path=\"url(#clip5700)\" style=\"stroke:#000000; stroke-width:1; stroke-opacity:1; fill:none\" points=\"\n",
       "  37.0032,234.225 45.1529,234.225 \n",
       "  \"/>\n",
       "<polyline clip-path=\"url(#clip5700)\" style=\"stroke:#000000; stroke-width:1; stroke-opacity:1; fill:none\" points=\"\n",
       "  37.0032,172.283 45.1529,172.283 \n",
       "  \"/>\n",
       "<polyline clip-path=\"url(#clip5700)\" style=\"stroke:#000000; stroke-width:1; stroke-opacity:1; fill:none\" points=\"\n",
       "  37.0032,110.342 45.1529,110.342 \n",
       "  \"/>\n",
       "<polyline clip-path=\"url(#clip5700)\" style=\"stroke:#000000; stroke-width:1; stroke-opacity:1; fill:none\" points=\"\n",
       "  37.0032,48.4005 45.1529,48.4005 \n",
       "  \"/>\n",
       "<g clip-path=\"url(#clip5700)\">\n",
       "<text style=\"fill:#000000; fill-opacity:1; font-family:Arial,Helvetica Neue,Helvetica,sans-serif; font-size:12; text-anchor:middle;\" transform=\"rotate(0, 52.38, 389.669)\" x=\"52.38\" y=\"389.669\">0.0</text>\n",
       "</g>\n",
       "<g clip-path=\"url(#clip5700)\">\n",
       "<text style=\"fill:#000000; fill-opacity:1; font-family:Arial,Helvetica Neue,Helvetica,sans-serif; font-size:12; text-anchor:middle;\" transform=\"rotate(0, 200.954, 389.669)\" x=\"200.954\" y=\"389.669\">0.2</text>\n",
       "</g>\n",
       "<g clip-path=\"url(#clip5700)\">\n",
       "<text style=\"fill:#000000; fill-opacity:1; font-family:Arial,Helvetica Neue,Helvetica,sans-serif; font-size:12; text-anchor:middle;\" transform=\"rotate(0, 349.528, 389.669)\" x=\"349.528\" y=\"389.669\">0.4</text>\n",
       "</g>\n",
       "<g clip-path=\"url(#clip5700)\">\n",
       "<text style=\"fill:#000000; fill-opacity:1; font-family:Arial,Helvetica Neue,Helvetica,sans-serif; font-size:12; text-anchor:middle;\" transform=\"rotate(0, 498.102, 389.669)\" x=\"498.102\" y=\"389.669\">0.6</text>\n",
       "</g>\n",
       "<g clip-path=\"url(#clip5700)\">\n",
       "<text style=\"fill:#000000; fill-opacity:1; font-family:Arial,Helvetica Neue,Helvetica,sans-serif; font-size:12; text-anchor:end;\" transform=\"rotate(0, 31.0032, 362.608)\" x=\"31.0032\" y=\"362.608\">0</text>\n",
       "</g>\n",
       "<g clip-path=\"url(#clip5700)\">\n",
       "<text style=\"fill:#000000; fill-opacity:1; font-family:Arial,Helvetica Neue,Helvetica,sans-serif; font-size:12; text-anchor:end;\" transform=\"rotate(0, 31.0032, 300.666)\" x=\"31.0032\" y=\"300.666\">10</text>\n",
       "</g>\n",
       "<g clip-path=\"url(#clip5700)\">\n",
       "<text style=\"fill:#000000; fill-opacity:1; font-family:Arial,Helvetica Neue,Helvetica,sans-serif; font-size:12; text-anchor:end;\" transform=\"rotate(0, 31.0032, 238.725)\" x=\"31.0032\" y=\"238.725\">20</text>\n",
       "</g>\n",
       "<g clip-path=\"url(#clip5700)\">\n",
       "<text style=\"fill:#000000; fill-opacity:1; font-family:Arial,Helvetica Neue,Helvetica,sans-serif; font-size:12; text-anchor:end;\" transform=\"rotate(0, 31.0032, 176.783)\" x=\"31.0032\" y=\"176.783\">30</text>\n",
       "</g>\n",
       "<g clip-path=\"url(#clip5700)\">\n",
       "<text style=\"fill:#000000; fill-opacity:1; font-family:Arial,Helvetica Neue,Helvetica,sans-serif; font-size:12; text-anchor:end;\" transform=\"rotate(0, 31.0032, 114.842)\" x=\"31.0032\" y=\"114.842\">40</text>\n",
       "</g>\n",
       "<g clip-path=\"url(#clip5700)\">\n",
       "<text style=\"fill:#000000; fill-opacity:1; font-family:Arial,Helvetica Neue,Helvetica,sans-serif; font-size:12; text-anchor:end;\" transform=\"rotate(0, 31.0032, 52.9005)\" x=\"31.0032\" y=\"52.9005\">50</text>\n",
       "</g>\n",
       "<polyline clip-path=\"url(#clip5702)\" style=\"stroke:#009af9; stroke-width:1; stroke-opacity:1; fill:none\" points=\"\n",
       "  564.938,22.1145 563.913,23.2438 562.888,24.3719 561.863,25.4987 560.838,26.6242 559.813,27.7486 558.788,28.8717 557.762,29.9937 556.737,31.1144 555.712,32.2338 \n",
       "  554.687,33.3521 553.662,34.4691 552.637,35.585 551.612,36.6996 550.587,37.813 549.561,38.9252 548.536,40.0362 547.511,41.146 546.486,42.2546 545.461,43.3619 \n",
       "  544.436,44.4681 543.411,45.5731 542.386,46.6769 541.361,47.7794 540.335,48.8808 539.31,49.981 538.285,51.08 537.26,52.1778 536.235,53.2744 535.21,54.3698 \n",
       "  534.185,55.464 533.16,56.5571 532.134,57.6489 531.109,58.7396 530.084,59.8291 529.059,60.9173 528.034,62.0045 527.009,63.0904 525.984,64.1751 524.959,65.2587 \n",
       "  523.934,66.3411 522.908,67.4223 521.883,68.5024 520.858,69.5812 519.833,70.6589 518.808,71.7354 517.783,72.8108 516.758,73.8849 515.733,74.9579 514.708,76.0297 \n",
       "  513.682,77.1004 512.657,78.1699 511.632,79.2382 510.607,80.3054 509.582,81.3713 508.557,82.4362 507.532,83.4998 506.507,84.5623 505.481,85.6236 504.456,86.6838 \n",
       "  503.431,87.7428 502.406,88.8006 501.381,89.8573 500.356,90.9128 499.331,91.9671 498.306,93.0203 497.281,94.0723 496.255,95.1232 495.23,96.1729 494.205,97.2214 \n",
       "  493.18,98.2688 492.155,99.315 491.13,100.36 490.105,101.404 489.08,102.447 488.054,103.488 487.029,104.529 486.004,105.568 484.979,106.606 483.954,107.643 \n",
       "  482.929,108.679 481.904,109.713 480.879,110.747 479.854,111.779 478.828,112.81 477.803,113.84 476.778,114.869 475.753,115.897 474.728,116.923 473.703,117.949 \n",
       "  472.678,118.973 471.653,119.996 470.627,121.018 469.602,122.039 468.577,123.058 467.552,124.076 466.527,125.094 465.502,126.11 464.477,127.125 463.452,128.138 \n",
       "  462.427,129.151 461.401,130.162 460.376,131.172 459.351,132.182 458.326,133.189 457.301,134.196 456.276,135.202 455.251,136.206 454.226,137.209 453.201,138.211 \n",
       "  452.175,139.212 451.15,140.212 450.125,141.21 449.1,142.208 448.075,143.204 447.05,144.199 446.025,145.192 445,146.185 443.974,147.176 442.949,148.167 \n",
       "  441.924,149.156 440.899,150.143 439.874,151.13 438.849,152.115 437.824,153.1 436.799,154.083 435.774,155.065 434.748,156.045 433.723,157.025 432.698,158.003 \n",
       "  431.673,158.98 430.648,159.956 429.623,160.93 428.598,161.904 427.573,162.876 426.547,163.847 425.522,164.817 424.497,165.785 423.472,166.753 422.447,167.719 \n",
       "  421.422,168.684 420.397,169.647 419.372,170.61 418.347,171.571 417.321,172.531 416.296,173.489 415.271,174.447 414.246,175.403 413.221,176.358 412.196,177.312 \n",
       "  411.171,178.264 410.146,179.215 409.121,180.165 408.095,181.114 407.07,182.061 406.045,183.008 405.02,183.952 403.995,184.896 402.97,185.838 401.945,186.779 \n",
       "  400.92,187.719 399.894,188.657 398.869,189.595 397.844,190.53 396.819,191.465 395.794,192.398 394.769,193.33 393.744,194.261 392.719,195.19 391.694,196.118 \n",
       "  390.668,197.045 389.643,197.97 388.618,198.894 387.593,199.817 386.568,200.738 385.543,201.658 384.518,202.576 383.493,203.494 382.467,204.41 381.442,205.324 \n",
       "  380.417,206.237 379.392,207.149 378.367,208.059 377.342,208.968 376.317,209.876 375.292,210.782 374.267,211.687 373.241,212.59 372.216,213.492 371.191,214.393 \n",
       "  370.166,215.292 369.141,216.19 368.116,217.086 367.091,217.981 366.066,218.874 365.04,219.766 364.015,220.657 362.99,221.546 361.965,222.434 360.94,223.32 \n",
       "  359.915,224.204 358.89,225.087 357.865,225.969 356.84,226.849 355.814,227.728 354.789,228.605 353.764,229.481 352.739,230.355 351.714,231.227 350.689,232.098 \n",
       "  349.664,232.968 348.639,233.835 347.614,234.702 346.588,235.567 345.563,236.43 344.538,237.291 343.513,238.151 342.488,239.01 341.463,239.867 340.438,240.722 \n",
       "  339.413,241.575 338.387,242.427 337.362,243.278 336.337,244.126 335.312,244.973 334.287,245.819 333.262,246.662 332.237,247.504 331.212,248.345 330.187,249.183 \n",
       "  329.161,250.02 328.136,250.855 327.111,251.689 326.086,252.52 325.061,253.35 324.036,254.178 323.011,255.005 321.986,255.83 320.96,256.653 319.935,257.474 \n",
       "  318.91,258.293 317.885,259.11 316.86,259.926 315.835,260.74 314.81,261.552 313.785,262.362 312.76,263.17 311.734,263.977 310.709,264.781 309.684,265.584 \n",
       "  308.659,266.385 307.634,267.184 306.609,267.981 305.584,268.776 304.559,269.569 303.534,270.36 302.508,271.149 301.483,271.936 300.458,272.721 299.433,273.504 \n",
       "  298.408,274.285 297.383,275.064 296.358,275.841 295.333,276.616 294.307,277.389 293.282,278.16 292.257,278.929 291.232,279.696 290.207,280.46 289.182,281.223 \n",
       "  288.157,281.983 287.132,282.741 286.107,283.497 285.081,284.251 284.056,285.002 283.031,285.752 282.006,286.499 280.981,287.244 279.956,287.986 278.931,288.727 \n",
       "  277.906,289.465 276.88,290.201 275.855,290.934 274.83,291.665 273.805,292.394 272.78,293.121 271.755,293.845 270.73,294.567 269.705,295.286 268.68,296.003 \n",
       "  267.654,296.718 266.629,297.43 265.604,298.14 264.579,298.847 263.554,299.551 262.529,300.254 261.504,300.953 260.479,301.65 259.453,302.345 258.428,303.037 \n",
       "  257.403,303.727 256.378,304.413 255.353,305.098 254.328,305.779 253.303,306.458 252.278,307.135 251.253,307.808 250.227,308.479 249.202,309.147 248.177,309.813 \n",
       "  247.152,310.475 246.127,311.135 245.102,311.792 244.077,312.447 243.052,313.098 242.027,313.747 241.001,314.393 239.976,315.036 238.951,315.676 237.926,316.313 \n",
       "  236.901,316.947 235.876,317.578 234.851,318.206 233.826,318.831 232.8,319.454 231.775,320.073 230.75,320.689 229.725,321.302 228.7,321.912 227.675,322.518 \n",
       "  226.65,323.122 225.625,323.723 224.6,324.32 223.574,324.914 222.549,325.505 221.524,326.093 220.499,326.677 219.474,327.258 218.449,327.836 217.424,328.41 \n",
       "  216.399,328.981 215.373,329.549 214.348,330.113 213.323,330.674 212.298,331.232 211.273,331.786 210.248,332.336 209.223,332.883 208.198,333.427 207.173,333.967 \n",
       "  206.147,334.503 205.122,335.036 204.097,335.565 203.072,336.091 202.047,336.613 201.022,337.131 199.997,337.645 198.972,338.156 197.947,338.663 196.921,339.166 \n",
       "  195.896,339.665 194.871,340.161 193.846,340.652 192.821,341.14 191.796,341.624 190.771,342.104 189.746,342.579 188.72,343.051 187.695,343.519 186.67,343.983 \n",
       "  185.645,344.443 184.62,344.898 183.595,345.35 182.57,345.797 181.545,346.241 180.52,346.68 179.494,347.114 178.469,347.545 177.444,347.971 176.419,348.393 \n",
       "  175.394,348.811 174.369,349.224 173.344,349.633 172.319,350.037 171.293,350.437 170.268,350.833 169.243,351.224 168.218,351.61 167.193,351.992 166.168,352.369 \n",
       "  165.143,352.742 164.118,353.11 163.093,353.473 162.067,353.832 161.042,354.186 160.017,354.535 158.992,354.88 157.967,355.219 156.942,355.554 155.917,355.883 \n",
       "  154.892,356.208 153.866,356.528 152.841,356.843 151.816,357.153 150.791,357.458 149.766,357.758 148.741,358.053 147.716,358.342 146.691,358.627 145.666,358.906 \n",
       "  144.64,359.18 143.615,359.449 142.59,359.712 141.565,359.97 140.54,360.223 139.515,360.471 138.49,360.713 137.465,360.949 136.44,361.18 135.414,361.406 \n",
       "  134.389,361.626 133.364,361.84 132.339,362.049 131.314,362.252 130.289,362.45 129.264,362.641 128.239,362.827 127.213,363.008 126.188,363.182 125.163,363.351 \n",
       "  124.138,363.513 123.113,363.67 122.088,363.821 121.063,363.966 120.038,364.105 119.013,364.237 117.987,364.364 116.962,364.485 115.937,364.599 114.912,364.707 \n",
       "  113.887,364.809 112.862,364.905 111.837,364.994 110.812,365.077 109.786,365.154 108.761,365.224 107.736,365.288 106.711,365.345 105.686,365.396 104.661,365.44 \n",
       "  103.636,365.478 102.611,365.509 101.586,365.533 100.56,365.55 99.5353,365.561 98.5102,365.565 97.4851,365.562 96.46,365.553 95.4349,365.536 94.4097,365.512 \n",
       "  93.3846,365.482 92.3595,365.444 91.3344,365.4 90.3093,365.348 89.2842,365.289 88.259,365.223 87.2339,365.15 86.2088,365.069 85.1837,364.981 84.1586,364.886 \n",
       "  83.1335,364.784 82.1083,364.674 81.0832,364.557 80.0581,364.432 79.033,364.299 78.0079,364.16 76.9828,364.012 75.9576,363.857 74.9325,363.694 73.9074,363.524 \n",
       "  72.8823,363.346 71.8572,363.16 70.8321,362.966 69.8069,362.765 68.7818,362.555 67.7567,362.338 66.7316,362.113 65.7065,361.879 64.6814,361.638 63.6562,361.389 \n",
       "  62.6311,361.132 61.606,360.866 60.5809,360.593 59.5558,360.311 58.5307,360.021 57.5055,359.723 56.4804,359.416 55.4553,359.102 54.4302,358.779 53.4051,358.448 \n",
       "  52.38,358.108 \n",
       "  \"/>\n",
       "<polygon clip-path=\"url(#clip5700)\" points=\"\n",
       "489.608,62.931 562.315,62.931 562.315,32.691 489.608,32.691 \n",
       "  \" fill=\"#ffffff\" fill-opacity=\"1\"/>\n",
       "<polyline clip-path=\"url(#clip5700)\" style=\"stroke:#000000; stroke-width:1; stroke-opacity:1; fill:none\" points=\"\n",
       "  489.608,62.931 562.315,62.931 562.315,32.691 489.608,32.691 489.608,62.931 \n",
       "  \"/>\n",
       "<polyline clip-path=\"url(#clip5700)\" style=\"stroke:#009af9; stroke-width:1; stroke-opacity:1; fill:none\" points=\"\n",
       "  495.608,47.811 531.608,47.811 \n",
       "  \"/>\n",
       "<g clip-path=\"url(#clip5700)\">\n",
       "<text style=\"fill:#000000; fill-opacity:1; font-family:Arial,Helvetica Neue,Helvetica,sans-serif; font-size:12; text-anchor:start;\" transform=\"rotate(0, 537.608, 52.311)\" x=\"537.608\" y=\"52.311\">y1</text>\n",
       "</g>\n",
       "</svg>\n"
      ]
     },
     "execution_count": 451,
     "metadata": {},
     "output_type": "execute_result"
    }
   ],
   "source": [
    "plot(v_grid[1000:end], eq_dict[\"eq_vals\"][1000:end])"
   ]
  },
  {
   "cell_type": "code",
   "execution_count": 447,
   "metadata": {},
   "outputs": [
    {
     "name": "stdout",
     "output_type": "stream",
     "text": [
      "Computing Equity Vmax\n",
      "Vmax: 125.0\n",
      "phi0: -51.98393\n",
      "phi1: 1.0\n",
      "pv_rfdebt: 61.937\n",
      "debt_abs_per_diff: 3.760425314438707e-7\n",
      "eq_abs_per_diff:0.0009374844976252713\n",
      "Equity Vmax: 540.2427968938333\n",
      " \n",
      "Computing Bond Vmax\n",
      "Bond Vmax: 148.58571920852654\n",
      " \n",
      "Adjusted Equity Vmax: 540.2427968938333\n",
      "eq_vmax: 2.068529636060046\n",
      "Finished computing bondpr_grid\n",
      "Computing Constant Volatility Equity Values\n",
      "Finished computing Constant Volatility Equity Values\n",
      "deltav: 0.0013799397171849748\n",
      "nu: 0.028749998658895493\n",
      "qu: 16421.21862242176\n",
      "qm: -32821.983002370864\n",
      "qd: 16400.384379953874\n",
      "Finished computing pv rfdebt\n",
      "Shape of Gamma matrix: (1498,)\n",
      "eq_vbl: 0.0\n"
     ]
    },
    {
     "data": {
      "text/plain": [
       "(2.068529636060046:-0.0013799397171848204:0.0, Dict{String,Any}(Pair{String,Any}(\"eq_min_val\", -1.20391),Pair{String,Any}(\"invA_Gamma\", [487.332, 486.247, 485.165, 484.087, 483.011, 481.939, 480.871, 479.805, 478.743, 477.684  …  -0.488131, -0.445281, -0.401118, -0.355638, -0.308837, -0.260708, -0.211248, -0.160452, -0.108314, -0.054832]),Pair{String,Any}(\"eq_vals\", [487.801, 487.332, 486.247, 485.165, 484.087, 483.011, 481.939, 480.871, 479.805, 478.743  …  -0.445281, -0.401118, -0.355638, -0.308837, -0.260708, -0.211248, -0.160452, -0.108314, -0.054832, 0.0]),Pair{String,Any}(\"eq_deriv\", -0.585047),Pair{String,Any}(\"eq_deriv_min_val\", -0.585047),Pair{String,Any}(\"eq_vb\", 0.0),Pair{String,Any}(\"eq_sitp\", [100.956, 438.147, 5.085e7, 4.53359e8, 1.58502e9, 3.82334e9, 7.54583e9, 1.313e10, 2.09534e10, 3.13934e10  …  2.07683e17, 2.08102e17, 2.08521e17, 2.08941e17, 2.09362e17, 2.09783e17, 2.10204e17, 2.10626e17, 2.11049e17, 2.11472e17]),Pair{String,Any}(\"eq_sitp_deriv\", [-0.585047, -0.575099, -0.558654, -0.544059, -0.52908, -0.514316, -0.499607, -0.484997, -0.470475, -0.456044  …  1.44034, 1.44281, 1.44505, 1.44818, 1.44806, 1.46009, 1.42688, 1.56233, 1.06919, 0.40722]),Pair{String,Any}(\"e0\", 18.3458),Pair{String,Any}(\"eq_max\", 487.801)…), [8.01044e6, 152.509, 152.271, 152.033, 151.796, 151.559, 151.322, 151.085, 150.849, 150.613  …  -22.5158, -22.6093, -22.7013, -22.7917, -22.8804, -22.9675, -23.0529, -23.1366, -23.2184, -23.2984], [-32822.0 16421.2 … 0.0 0.0; 16400.4 -32822.0 … 0.0 0.0; … ; 0.0 0.0 … -32822.0 16421.2; 0.0 0.0 … 16400.4 -32822.0], 1×24 DataFrames.DataFrame. Omitted printing of 17 columns\n",
       "│ Row │ ROE │ V0    │ alpha │ c    │ eq_deriv  │ eq_deriv_min_val │ eq_min_val │\n",
       "├─────┼─────┼───────┼───────┼──────┼───────────┼──────────────────┼────────────┤\n",
       "│ 1   │ NaN │ 100.0 │ 0.6   │ 6.39 │ -0.585047 │ -0.585047        │ -1.20391   │)"
      ]
     },
     "execution_count": 447,
     "metadata": {},
     "output_type": "execute_result"
    },
    {
     "name": "stdout",
     "output_type": "stream",
     "text": [
      "Exporting results... \n"
     ]
    }
   ],
   "source": [
    "v_grid, eq_dict, Gamma, A, df = equity_fin_diff(svm3, vbl, f0fd, f1fd, f2fd, f3fd)"
   ]
  },
  {
   "cell_type": "code",
   "execution_count": 418,
   "metadata": {},
   "outputs": [
    {
     "data": {
      "text/plain": [
       "0.0013799397171848204"
      ]
     },
     "execution_count": 418,
     "metadata": {},
     "output_type": "execute_result"
    }
   ],
   "source": [
    "v_grid[end-1] - v_grid[end]"
   ]
  },
  {
   "cell_type": "code",
   "execution_count": 419,
   "metadata": {},
   "outputs": [
    {
     "data": {
      "text/plain": [
       "0.0013799397171849748"
      ]
     },
     "execution_count": 419,
     "metadata": {},
     "output_type": "execute_result"
    }
   ],
   "source": [
    "v_grid[1] - v_grid[2]"
   ]
  },
  {
   "cell_type": "code",
   "execution_count": 386,
   "metadata": {},
   "outputs": [
    {
     "data": {
      "text/plain": [
       "16400.38437995389"
      ]
     },
     "execution_count": 386,
     "metadata": {},
     "output_type": "execute_result"
    },
    {
     "name": "stdout",
     "output_type": "stream",
     "text": [
      "Exporting results... \n"
     ]
    }
   ],
   "source": [
    ".5 * (-0.028749998658895493/0.001379939717184974 + svm3.pm.sigmal^2/(0.001379939717184974^2))"
   ]
  },
  {
   "cell_type": "code",
   "execution_count": 368,
   "metadata": {},
   "outputs": [
    {
     "data": {
      "text/plain": [
       "1500-element Array{Float64,1}:\n",
       " 8.87145e6\n",
       " 8.85921e6\n",
       " 8.84699e6\n",
       " 8.83479e6\n",
       " 8.82261e6\n",
       " 8.81045e6\n",
       " 8.7983e6 \n",
       " 8.78616e6\n",
       " 8.77405e6\n",
       " 8.76195e6\n",
       " 8.74987e6\n",
       " 8.7378e6 \n",
       " 8.72575e6\n",
       " ⋮        \n",
       " 1.13824e6\n",
       " 1.13668e6\n",
       " 1.13511e6\n",
       " 1.13354e6\n",
       " 1.13198e6\n",
       " 1.13042e6\n",
       " 1.12886e6\n",
       " 1.1273e6 \n",
       " 1.12575e6\n",
       " 1.1242e6 \n",
       " 1.12265e6\n",
       " 1.1211e6 "
      ]
     },
     "execution_count": 368,
     "metadata": {},
     "output_type": "execute_result"
    }
   ],
   "source": [
    "vbl * exp.(v_grid) * 16421.21862242176"
   ]
  },
  {
   "cell_type": "code",
   "execution_count": 371,
   "metadata": {},
   "outputs": [
    {
     "data": {
      "text/plain": [
       "1498×1498 Array{Float64,2}:\n",
       " -32822.0   16421.2   16421.2   16421.2  …   16421.2   16421.2   16421.2\n",
       "  16400.4  -32822.0   16421.2   16421.2      16421.2   16421.2   16421.2\n",
       "  16400.4   16400.4  -32822.0   16421.2      16421.2   16421.2   16421.2\n",
       "  16400.4   16400.4   16400.4  -32822.0      16421.2   16421.2   16421.2\n",
       "  16400.4   16400.4   16400.4   16400.4      16421.2   16421.2   16421.2\n",
       "  16400.4   16400.4   16400.4   16400.4  …   16421.2   16421.2   16421.2\n",
       "  16400.4   16400.4   16400.4   16400.4      16421.2   16421.2   16421.2\n",
       "  16400.4   16400.4   16400.4   16400.4      16421.2   16421.2   16421.2\n",
       "  16400.4   16400.4   16400.4   16400.4      16421.2   16421.2   16421.2\n",
       "  16400.4   16400.4   16400.4   16400.4      16421.2   16421.2   16421.2\n",
       "  16400.4   16400.4   16400.4   16400.4  …   16421.2   16421.2   16421.2\n",
       "  16400.4   16400.4   16400.4   16400.4      16421.2   16421.2   16421.2\n",
       "  16400.4   16400.4   16400.4   16400.4      16421.2   16421.2   16421.2\n",
       "      ⋮                                  ⋱       ⋮                      \n",
       "  16400.4   16400.4   16400.4   16400.4      16421.2   16421.2   16421.2\n",
       "  16400.4   16400.4   16400.4   16400.4      16421.2   16421.2   16421.2\n",
       "  16400.4   16400.4   16400.4   16400.4      16421.2   16421.2   16421.2\n",
       "  16400.4   16400.4   16400.4   16400.4      16421.2   16421.2   16421.2\n",
       "  16400.4   16400.4   16400.4   16400.4  …   16421.2   16421.2   16421.2\n",
       "  16400.4   16400.4   16400.4   16400.4      16421.2   16421.2   16421.2\n",
       "  16400.4   16400.4   16400.4   16400.4      16421.2   16421.2   16421.2\n",
       "  16400.4   16400.4   16400.4   16400.4      16421.2   16421.2   16421.2\n",
       "  16400.4   16400.4   16400.4   16400.4      16421.2   16421.2   16421.2\n",
       "  16400.4   16400.4   16400.4   16400.4  …  -32822.0   16421.2   16421.2\n",
       "  16400.4   16400.4   16400.4   16400.4      16400.4  -32822.0   16421.2\n",
       "  16400.4   16400.4   16400.4   16400.4      16400.4   16400.4  -32822.0"
      ]
     },
     "execution_count": 371,
     "metadata": {},
     "output_type": "execute_result"
    }
   ],
   "source": [
    "A"
   ]
  },
  {
   "cell_type": "code",
   "execution_count": 344,
   "metadata": {},
   "outputs": [
    {
     "name": "stdout",
     "output_type": "stream",
     "text": [
      "Computing Equity Vmax\n",
      "Vmax: 125.0\n",
      "phi0: -51.98393\n",
      "phi1: 1.0\n",
      "pv_rfdebt: 61.937\n",
      "debt_abs_per_diff: 3.760425314438707e-7\n",
      "eq_abs_per_diff:0.0009374844976252713\n",
      "Equity Vmax: 540.2427968938333\n",
      " \n",
      "Computing Bond Vmax\n",
      "Bond Vmax: 148.58571920852654\n",
      " \n",
      "Adjusted Equity Vmax: 540.2427968938333\n",
      "eq_vmax: 2.068529636060046\n",
      "Finished computing bondpr_grid\n",
      "Computing Constant Volatility Equity Values\n",
      "Finished computing Constant Volatility Equity Values\n",
      "deltav: 0.0013799397171849748\n",
      "nu: 0.028749998658895493\n",
      "qu: 16421.21862242176\n",
      "qm: -32821.983002370864\n",
      "qd: 16400.384379953874\n",
      "Finished computing pv rfdebt\n",
      "Shape of Gamma matrix: (1498,)\n",
      "eq_vbl: 0.0\n"
     ]
    },
    {
     "data": {
      "text/plain": [
       "(2.068529636060046:-0.0013799397171848204:0.0, Dict{String,Any}(Pair{String,Any}(\"eq_min_val\", -0.144543),Pair{String,Any}(\"invA_Gamma\", [162.592, -0.144543, -0.144486, -0.14443, -0.144374, -0.144318, -0.144261, -0.144205, -0.144149, -0.144093  …  -0.079542, -0.0795103, -0.0794785, -0.0794467, -0.0794149, -0.0793831, -0.0793512, -0.0793193, -0.0792874, -0.0792555]),Pair{String,Any}(\"eq_vals\", [487.801, 162.592, -0.144543, -0.144486, -0.14443, -0.144374, -0.144318, -0.144261, -0.144205, -0.144149  …  -0.0795103, -0.0794785, -0.0794467, -0.0794149, -0.0793831, -0.0793512, -0.0793193, -0.0792874, -0.0792555, 0.0]),Pair{String,Any}(\"eq_deriv\", -1.06658),Pair{String,Any}(\"eq_deriv_min_val\", -22.1956),Pair{String,Any}(\"eq_vb\", 0.0),Pair{String,Any}(\"eq_sitp\", [-0.106169, -0.141878, -9.79558e9, -8.73364e10, -3.05344e11, -7.36543e11, -1.45366e12, -2.52942e12, -4.03654e12, -6.04776e12  …  -4.0009e19, -4.00897e19, -4.01704e19, -4.02513e19, -4.03323e19, -4.04134e19, -4.04946e19, -4.0576e19, -4.06574e19, -4.07389e19]),Pair{String,Any}(\"eq_sitp_deriv\", [-1.06658, -0.385197, 0.102643, -0.0278925, 0.00703693, -0.0023086, 0.000192943, -0.000475564, -0.000295841, -0.0003431  …  -0.0083591, 0.0307928, -0.115122, 0.428689, -1.59804, 5.9554, -22.1956, 82.7319, 352.193, 478.949]),Pair{String,Any}(\"e0\", -0.0884383),Pair{String,Any}(\"eq_max\", 487.801)…), [8.01044e6, 152.509, 152.271, 152.033, 151.796, 151.559, 151.322, 151.085, 150.849, 150.613  …  -22.5158, -22.6093, -22.7013, -22.7917, -22.8804, -22.9675, -23.0529, -23.1366, -23.2184, -23.2984], [-32822.0 16421.2 … 16421.2 16421.2; 16400.4 -32822.0 … 16421.2 16421.2; … ; 16400.4 16400.4 … -32822.0 16421.2; 16400.4 16400.4 … 16400.4 -32822.0], 1×24 DataFrames.DataFrame. Omitted printing of 17 columns\n",
       "│ Row │ ROE │ V0    │ alpha │ c    │ eq_deriv │ eq_deriv_min_val │ eq_min_val │\n",
       "├─────┼─────┼───────┼───────┼──────┼──────────┼──────────────────┼────────────┤\n",
       "│ 1   │ NaN │ 100.0 │ 0.6   │ 6.39 │ -1.06658 │ -22.1956         │ -0.144543  │)"
      ]
     },
     "execution_count": 344,
     "metadata": {},
     "output_type": "execute_result"
    },
    {
     "name": "stdout",
     "output_type": "stream",
     "text": [
      "Exporting results... \n"
     ]
    }
   ],
   "source": [
    "\n"
   ]
  },
  {
   "cell_type": "code",
   "execution_count": 329,
   "metadata": {},
   "outputs": [
    {
     "data": {
      "text/plain": [
       "32821.983002370864"
      ]
     },
     "execution_count": 329,
     "metadata": {},
     "output_type": "execute_result"
    }
   ],
   "source": [
    "(svm3.pm.r + svm3.pm.lambda + svm.pm.sigmal ^ 2. / (0.0013799397171849748 ^ 2.))"
   ]
  },
  {
   "cell_type": "code",
   "execution_count": 287,
   "metadata": {},
   "outputs": [
    {
     "name": "stdout",
     "output_type": "stream",
     "text": [
      "Computing Equity Vmax\n",
      "Vmax: 125.0\n",
      "phi0: -51.98393\n",
      "phi1: 1.0\n",
      "pv_rfdebt: 61.937\n",
      "debt_abs_per_diff: 3.760425314438707e-7\n",
      "eq_abs_per_diff:0.0009374844976252713\n",
      "Equity Vmax: 540.2427968938333\n",
      " \n",
      "Computing Bond Vmax\n",
      "Bond Vmax: 148.58571920852654\n",
      " \n",
      "Adjusted Equity Vmax: 540.2427968938333\n",
      "eq_vmax: 2.068529636060046\n",
      "Finished computing bondpr_grid\n",
      "Computing Constant Volatility Equity Values\n",
      "Finished computing Constant Volatility Equity Values\n",
      "qu: 16421.21862242176\n",
      "qm: -32821.983002370864\n",
      "qd: 16400.384379953874\n",
      "Finished computing pv rfdebt\n",
      "Shape of Gamma matrix: (1498,)\n",
      "eq_vbl: 0.0\n"
     ]
    },
    {
     "data": {
      "text/plain": [
       "(2.068529636060046:-0.0013799397171848204:0.0, Dict{String,Any}(Pair{String,Any}(\"eq_min_val\", -0.144753),Pair{String,Any}(\"invA_Gamma\", [162.592, -0.144753, -0.144696, -0.144639, -0.144582, -0.144526, -0.144469, -0.144412, -0.144356, -0.144299  …  -0.0793718, -0.0793398, -0.0793078, -0.0792757, -0.0792436, -0.0792115, -0.0791794, -0.0791473, -0.0791151, -0.0790829]),Pair{String,Any}(\"eq_vals\", [487.801, 162.592, -0.144753, -0.144696, -0.144639, -0.144582, -0.144526, -0.144469, -0.144412, -0.144356  …  -0.0793398, -0.0793078, -0.0792757, -0.0792436, -0.0792115, -0.0791794, -0.0791473, -0.0791151, -0.0790829, 0.0]),Pair{String,Any}(\"eq_deriv\", -1.06425),Pair{String,Any}(\"eq_deriv_min_val\", -22.1956),Pair{String,Any}(\"eq_vb\", 0.0),Pair{String,Any}(\"eq_sitp\", [-0.106155, -0.142068, -9.7956e9, -8.73366e10, -3.05344e11, -7.36544e11, -1.45366e12, -2.52942e12, -4.03655e12, -6.04777e12  …  -4.00091e19, -4.00897e19, -4.01705e19, -4.02514e19, -4.03324e19, -4.04135e19, -4.04947e19, -4.0576e19, -4.06575e19, -4.0739e19]),Pair{String,Any}(\"eq_sitp_deriv\", [-1.06425, -0.38436, 0.102415, -0.0278352, 0.00701803, -0.00230711, 0.000188986, -0.000478054, -0.000298716, -0.000345863  …  -0.00835967, 0.0307922, -0.115123, 0.428689, -1.59804, 5.9554, -22.1956, 82.7318, 352.194, 478.949]),Pair{String,Any}(\"e0\", -0.0883318),Pair{String,Any}(\"eq_max\", 487.801)…), 1×24 DataFrames.DataFrame. Omitted printing of 17 columns\n",
       "│ Row │ ROE │ V0    │ alpha │ c    │ eq_deriv │ eq_deriv_min_val │ eq_min_val │\n",
       "├─────┼─────┼───────┼───────┼──────┼──────────┼──────────────────┼────────────┤\n",
       "│ 1   │ NaN │ 100.0 │ 0.6   │ 6.39 │ -1.06425 │ -22.1956         │ -0.144753  │)"
      ]
     },
     "execution_count": 287,
     "metadata": {},
     "output_type": "execute_result"
    },
    {
     "name": "stdout",
     "output_type": "stream",
     "text": [
      "Exporting results... \n"
     ]
    }
   ],
   "source": [
    "v_grid, eq_dict, ss = equity_fin_diff(svm3, vbl, f0fd, f1fd, f2fd, f3fd)"
   ]
  },
  {
   "cell_type": "code",
   "execution_count": 337,
   "metadata": {},
   "outputs": [
    {
     "data": {
      "image/svg+xml": [
       "<?xml version=\"1.0\" encoding=\"utf-8\"?>\n",
       "<svg xmlns=\"http://www.w3.org/2000/svg\" xmlns:xlink=\"http://www.w3.org/1999/xlink\" width=\"600\" height=\"400\" viewBox=\"0 0 600 400\">\n",
       "<defs>\n",
       "  <clipPath id=\"clip3800\">\n",
       "    <rect x=\"0\" y=\"0\" width=\"600\" height=\"400\"/>\n",
       "  </clipPath>\n",
       "</defs>\n",
       "<polygon clip-path=\"url(#clip3800)\" points=\"\n",
       "0,400 600,400 600,0 0,0 \n",
       "  \" fill=\"#ffffff\" fill-opacity=\"1\"/>\n",
       "<defs>\n",
       "  <clipPath id=\"clip3801\">\n",
       "    <rect x=\"120\" y=\"0\" width=\"421\" height=\"400\"/>\n",
       "  </clipPath>\n",
       "</defs>\n",
       "<polygon clip-path=\"url(#clip3800)\" points=\"\n",
       "43.6938,375.869 580.315,375.869 580.315,11.811 43.6938,11.811 \n",
       "  \" fill=\"#ffffff\" fill-opacity=\"1\"/>\n",
       "<defs>\n",
       "  <clipPath id=\"clip3802\">\n",
       "    <rect x=\"43\" y=\"11\" width=\"538\" height=\"365\"/>\n",
       "  </clipPath>\n",
       "</defs>\n",
       "<polyline clip-path=\"url(#clip3802)\" style=\"stroke:#000000; stroke-width:0.5; stroke-opacity:0.1; fill:none\" points=\"\n",
       "  58.5435,375.869 58.5435,11.811 \n",
       "  \"/>\n",
       "<polyline clip-path=\"url(#clip3802)\" style=\"stroke:#000000; stroke-width:0.5; stroke-opacity:0.1; fill:none\" points=\"\n",
       "  227.405,375.869 227.405,11.811 \n",
       "  \"/>\n",
       "<polyline clip-path=\"url(#clip3802)\" style=\"stroke:#000000; stroke-width:0.5; stroke-opacity:0.1; fill:none\" points=\"\n",
       "  396.266,375.869 396.266,11.811 \n",
       "  \"/>\n",
       "<polyline clip-path=\"url(#clip3802)\" style=\"stroke:#000000; stroke-width:0.5; stroke-opacity:0.1; fill:none\" points=\"\n",
       "  565.128,375.869 565.128,11.811 \n",
       "  \"/>\n",
       "<polyline clip-path=\"url(#clip3802)\" style=\"stroke:#000000; stroke-width:0.5; stroke-opacity:0.1; fill:none\" points=\"\n",
       "  43.6938,365.463 580.315,365.463 \n",
       "  \"/>\n",
       "<polyline clip-path=\"url(#clip3802)\" style=\"stroke:#000000; stroke-width:0.5; stroke-opacity:0.1; fill:none\" points=\"\n",
       "  43.6938,295.076 580.315,295.076 \n",
       "  \"/>\n",
       "<polyline clip-path=\"url(#clip3802)\" style=\"stroke:#000000; stroke-width:0.5; stroke-opacity:0.1; fill:none\" points=\"\n",
       "  43.6938,224.689 580.315,224.689 \n",
       "  \"/>\n",
       "<polyline clip-path=\"url(#clip3802)\" style=\"stroke:#000000; stroke-width:0.5; stroke-opacity:0.1; fill:none\" points=\"\n",
       "  43.6938,154.302 580.315,154.302 \n",
       "  \"/>\n",
       "<polyline clip-path=\"url(#clip3802)\" style=\"stroke:#000000; stroke-width:0.5; stroke-opacity:0.1; fill:none\" points=\"\n",
       "  43.6938,83.9151 580.315,83.9151 \n",
       "  \"/>\n",
       "<polyline clip-path=\"url(#clip3802)\" style=\"stroke:#000000; stroke-width:0.5; stroke-opacity:0.1; fill:none\" points=\"\n",
       "  43.6938,13.5281 580.315,13.5281 \n",
       "  \"/>\n",
       "<polyline clip-path=\"url(#clip3800)\" style=\"stroke:#000000; stroke-width:1; stroke-opacity:1; fill:none\" points=\"\n",
       "  43.6938,375.869 580.315,375.869 \n",
       "  \"/>\n",
       "<polyline clip-path=\"url(#clip3800)\" style=\"stroke:#000000; stroke-width:1; stroke-opacity:1; fill:none\" points=\"\n",
       "  43.6938,375.869 43.6938,11.811 \n",
       "  \"/>\n",
       "<polyline clip-path=\"url(#clip3800)\" style=\"stroke:#000000; stroke-width:1; stroke-opacity:1; fill:none\" points=\"\n",
       "  58.5435,375.869 58.5435,370.408 \n",
       "  \"/>\n",
       "<polyline clip-path=\"url(#clip3800)\" style=\"stroke:#000000; stroke-width:1; stroke-opacity:1; fill:none\" points=\"\n",
       "  227.405,375.869 227.405,370.408 \n",
       "  \"/>\n",
       "<polyline clip-path=\"url(#clip3800)\" style=\"stroke:#000000; stroke-width:1; stroke-opacity:1; fill:none\" points=\"\n",
       "  396.266,375.869 396.266,370.408 \n",
       "  \"/>\n",
       "<polyline clip-path=\"url(#clip3800)\" style=\"stroke:#000000; stroke-width:1; stroke-opacity:1; fill:none\" points=\"\n",
       "  565.128,375.869 565.128,370.408 \n",
       "  \"/>\n",
       "<polyline clip-path=\"url(#clip3800)\" style=\"stroke:#000000; stroke-width:1; stroke-opacity:1; fill:none\" points=\"\n",
       "  43.6938,365.463 51.7431,365.463 \n",
       "  \"/>\n",
       "<polyline clip-path=\"url(#clip3800)\" style=\"stroke:#000000; stroke-width:1; stroke-opacity:1; fill:none\" points=\"\n",
       "  43.6938,295.076 51.7431,295.076 \n",
       "  \"/>\n",
       "<polyline clip-path=\"url(#clip3800)\" style=\"stroke:#000000; stroke-width:1; stroke-opacity:1; fill:none\" points=\"\n",
       "  43.6938,224.689 51.7431,224.689 \n",
       "  \"/>\n",
       "<polyline clip-path=\"url(#clip3800)\" style=\"stroke:#000000; stroke-width:1; stroke-opacity:1; fill:none\" points=\"\n",
       "  43.6938,154.302 51.7431,154.302 \n",
       "  \"/>\n",
       "<polyline clip-path=\"url(#clip3800)\" style=\"stroke:#000000; stroke-width:1; stroke-opacity:1; fill:none\" points=\"\n",
       "  43.6938,83.9151 51.7431,83.9151 \n",
       "  \"/>\n",
       "<polyline clip-path=\"url(#clip3800)\" style=\"stroke:#000000; stroke-width:1; stroke-opacity:1; fill:none\" points=\"\n",
       "  43.6938,13.5281 51.7431,13.5281 \n",
       "  \"/>\n",
       "<g clip-path=\"url(#clip3800)\">\n",
       "<text style=\"fill:#000000; fill-opacity:1; font-family:Arial,Helvetica Neue,Helvetica,sans-serif; font-size:12; text-anchor:middle;\" transform=\"rotate(0, 58.5435, 389.669)\" x=\"58.5435\" y=\"389.669\">0</text>\n",
       "</g>\n",
       "<g clip-path=\"url(#clip3800)\">\n",
       "<text style=\"fill:#000000; fill-opacity:1; font-family:Arial,Helvetica Neue,Helvetica,sans-serif; font-size:12; text-anchor:middle;\" transform=\"rotate(0, 227.405, 389.669)\" x=\"227.405\" y=\"389.669\">500</text>\n",
       "</g>\n",
       "<g clip-path=\"url(#clip3800)\">\n",
       "<text style=\"fill:#000000; fill-opacity:1; font-family:Arial,Helvetica Neue,Helvetica,sans-serif; font-size:12; text-anchor:middle;\" transform=\"rotate(0, 396.266, 389.669)\" x=\"396.266\" y=\"389.669\">1000</text>\n",
       "</g>\n",
       "<g clip-path=\"url(#clip3800)\">\n",
       "<text style=\"fill:#000000; fill-opacity:1; font-family:Arial,Helvetica Neue,Helvetica,sans-serif; font-size:12; text-anchor:middle;\" transform=\"rotate(0, 565.128, 389.669)\" x=\"565.128\" y=\"389.669\">1500</text>\n",
       "</g>\n",
       "<g clip-path=\"url(#clip3800)\">\n",
       "<text style=\"fill:#000000; fill-opacity:1; font-family:Arial,Helvetica Neue,Helvetica,sans-serif; font-size:12; text-anchor:end;\" transform=\"rotate(0, 37.6938, 369.963)\" x=\"37.6938\" y=\"369.963\">0</text>\n",
       "</g>\n",
       "<g clip-path=\"url(#clip3800)\">\n",
       "<text style=\"fill:#000000; fill-opacity:1; font-family:Arial,Helvetica Neue,Helvetica,sans-serif; font-size:12; text-anchor:end;\" transform=\"rotate(0, 37.6938, 299.576)\" x=\"37.6938\" y=\"299.576\">100</text>\n",
       "</g>\n",
       "<g clip-path=\"url(#clip3800)\">\n",
       "<text style=\"fill:#000000; fill-opacity:1; font-family:Arial,Helvetica Neue,Helvetica,sans-serif; font-size:12; text-anchor:end;\" transform=\"rotate(0, 37.6938, 229.189)\" x=\"37.6938\" y=\"229.189\">200</text>\n",
       "</g>\n",
       "<g clip-path=\"url(#clip3800)\">\n",
       "<text style=\"fill:#000000; fill-opacity:1; font-family:Arial,Helvetica Neue,Helvetica,sans-serif; font-size:12; text-anchor:end;\" transform=\"rotate(0, 37.6938, 158.802)\" x=\"37.6938\" y=\"158.802\">300</text>\n",
       "</g>\n",
       "<g clip-path=\"url(#clip3800)\">\n",
       "<text style=\"fill:#000000; fill-opacity:1; font-family:Arial,Helvetica Neue,Helvetica,sans-serif; font-size:12; text-anchor:end;\" transform=\"rotate(0, 37.6938, 88.4151)\" x=\"37.6938\" y=\"88.4151\">400</text>\n",
       "</g>\n",
       "<g clip-path=\"url(#clip3800)\">\n",
       "<text style=\"fill:#000000; fill-opacity:1; font-family:Arial,Helvetica Neue,Helvetica,sans-serif; font-size:12; text-anchor:end;\" transform=\"rotate(0, 37.6938, 18.0281)\" x=\"37.6938\" y=\"18.0281\">500</text>\n",
       "</g>\n",
       "<polyline clip-path=\"url(#clip3802)\" style=\"stroke:#009af9; stroke-width:1; stroke-opacity:1; fill:none\" points=\"\n",
       "  58.8812,22.1145 59.2189,251.02 59.5566,365.565 59.8944,365.565 60.2321,365.565 60.5698,365.565 60.9075,365.565 61.2453,365.565 61.583,365.565 61.9207,365.565 \n",
       "  62.2584,365.565 62.5961,365.565 62.9339,365.565 63.2716,365.565 63.6093,365.565 63.947,365.565 64.2848,365.565 64.6225,365.565 64.9602,365.565 65.2979,365.564 \n",
       "  65.6356,365.564 65.9734,365.564 66.3111,365.564 66.6488,365.564 66.9865,365.564 67.3243,365.564 67.662,365.564 67.9997,365.564 68.3374,365.564 68.6752,365.564 \n",
       "  69.0129,365.564 69.3506,365.564 69.6883,365.564 70.026,365.564 70.3638,365.564 70.7015,365.564 71.0392,365.564 71.3769,365.564 71.7147,365.564 72.0524,365.564 \n",
       "  72.3901,365.564 72.7278,365.564 73.0655,365.564 73.4033,365.563 73.741,365.563 74.0787,365.563 74.4164,365.563 74.7542,365.563 75.0919,365.563 75.4296,365.563 \n",
       "  75.7673,365.563 76.1051,365.563 76.4428,365.563 76.7805,365.563 77.1182,365.563 77.4559,365.563 77.7937,365.563 78.1314,365.563 78.4691,365.563 78.8068,365.563 \n",
       "  79.1446,365.563 79.4823,365.563 79.82,365.563 80.1577,365.563 80.4954,365.563 80.8332,365.563 81.1709,365.563 81.5086,365.562 81.8463,365.562 82.1841,365.562 \n",
       "  82.5218,365.562 82.8595,365.562 83.1972,365.562 83.535,365.562 83.8727,365.562 84.2104,365.562 84.5481,365.562 84.8858,365.562 85.2236,365.562 85.5613,365.562 \n",
       "  85.899,365.562 86.2367,365.562 86.5745,365.562 86.9122,365.562 87.2499,365.562 87.5876,365.562 87.9253,365.562 88.2631,365.562 88.6008,365.562 88.9385,365.562 \n",
       "  89.2762,365.562 89.614,365.562 89.9517,365.561 90.2894,365.561 90.6271,365.561 90.9649,365.561 91.3026,365.561 91.6403,365.561 91.978,365.561 92.3157,365.561 \n",
       "  92.6535,365.561 92.9912,365.561 93.3289,365.561 93.6666,365.561 94.0044,365.561 94.3421,365.561 94.6798,365.561 95.0175,365.561 95.3552,365.561 95.693,365.561 \n",
       "  96.0307,365.561 96.3684,365.561 96.7061,365.561 97.0439,365.561 97.3816,365.561 97.7193,365.561 98.057,365.561 98.3948,365.56 98.7325,365.56 99.0702,365.56 \n",
       "  99.4079,365.56 99.7456,365.56 100.083,365.56 100.421,365.56 100.759,365.56 101.097,365.56 101.434,365.56 101.772,365.56 102.11,365.56 102.447,365.56 \n",
       "  102.785,365.56 103.123,365.56 103.461,365.56 103.798,365.56 104.136,365.56 104.474,365.56 104.811,365.56 105.149,365.56 105.487,365.56 105.825,365.56 \n",
       "  106.162,365.56 106.5,365.56 106.838,365.56 107.176,365.559 107.513,365.559 107.851,365.559 108.189,365.559 108.526,365.559 108.864,365.559 109.202,365.559 \n",
       "  109.54,365.559 109.877,365.559 110.215,365.559 110.553,365.559 110.89,365.559 111.228,365.559 111.566,365.559 111.904,365.559 112.241,365.559 112.579,365.559 \n",
       "  112.917,365.559 113.255,365.559 113.592,365.559 113.93,365.559 114.268,365.559 114.605,365.559 114.943,365.559 115.281,365.559 115.619,365.558 115.956,365.558 \n",
       "  116.294,365.558 116.632,365.558 116.97,365.558 117.307,365.558 117.645,365.558 117.983,365.558 118.32,365.558 118.658,365.558 118.996,365.558 119.334,365.558 \n",
       "  119.671,365.558 120.009,365.558 120.347,365.558 120.684,365.558 121.022,365.558 121.36,365.558 121.698,365.558 122.035,365.558 122.373,365.558 122.711,365.558 \n",
       "  123.049,365.558 123.386,365.558 123.724,365.558 124.062,365.558 124.399,365.557 124.737,365.557 125.075,365.557 125.413,365.557 125.75,365.557 126.088,365.557 \n",
       "  126.426,365.557 126.763,365.557 127.101,365.557 127.439,365.557 127.777,365.557 128.114,365.557 128.452,365.557 128.79,365.557 129.128,365.557 129.465,365.557 \n",
       "  129.803,365.557 130.141,365.557 130.478,365.557 130.816,365.557 131.154,365.557 131.492,365.557 131.829,365.557 132.167,365.557 132.505,365.557 132.842,365.557 \n",
       "  133.18,365.556 133.518,365.556 133.856,365.556 134.193,365.556 134.531,365.556 134.869,365.556 135.207,365.556 135.544,365.556 135.882,365.556 136.22,365.556 \n",
       "  136.557,365.556 136.895,365.556 137.233,365.556 137.571,365.556 137.908,365.556 138.246,365.556 138.584,365.556 138.921,365.556 139.259,365.556 139.597,365.556 \n",
       "  139.935,365.556 140.272,365.556 140.61,365.556 140.948,365.556 141.286,365.556 141.623,365.556 141.961,365.556 142.299,365.555 142.636,365.555 142.974,365.555 \n",
       "  143.312,365.555 143.65,365.555 143.987,365.555 144.325,365.555 144.663,365.555 145,365.555 145.338,365.555 145.676,365.555 146.014,365.555 146.351,365.555 \n",
       "  146.689,365.555 147.027,365.555 147.365,365.555 147.702,365.555 148.04,365.555 148.378,365.555 148.715,365.555 149.053,365.555 149.391,365.555 149.729,365.555 \n",
       "  150.066,365.555 150.404,365.555 150.742,365.555 151.079,365.555 151.417,365.554 151.755,365.554 152.093,365.554 152.43,365.554 152.768,365.554 153.106,365.554 \n",
       "  153.444,365.554 153.781,365.554 154.119,365.554 154.457,365.554 154.794,365.554 155.132,365.554 155.47,365.554 155.808,365.554 156.145,365.554 156.483,365.554 \n",
       "  156.821,365.554 157.159,365.554 157.496,365.554 157.834,365.554 158.172,365.554 158.509,365.554 158.847,365.554 159.185,365.554 159.523,365.554 159.86,365.554 \n",
       "  160.198,365.554 160.536,365.553 160.873,365.553 161.211,365.553 161.549,365.553 161.887,365.553 162.224,365.553 162.562,365.553 162.9,365.553 163.238,365.553 \n",
       "  163.575,365.553 163.913,365.553 164.251,365.553 164.588,365.553 164.926,365.553 165.264,365.553 165.602,365.553 165.939,365.553 166.277,365.553 166.615,365.553 \n",
       "  166.952,365.553 167.29,365.553 167.628,365.553 167.966,365.553 168.303,365.553 168.641,365.553 168.979,365.553 169.317,365.553 169.654,365.553 169.992,365.552 \n",
       "  170.33,365.552 170.667,365.552 171.005,365.552 171.343,365.552 171.681,365.552 172.018,365.552 172.356,365.552 172.694,365.552 173.031,365.552 173.369,365.552 \n",
       "  173.707,365.552 174.045,365.552 174.382,365.552 174.72,365.552 175.058,365.552 175.396,365.552 175.733,365.552 176.071,365.552 176.409,365.552 176.746,365.552 \n",
       "  177.084,365.552 177.422,365.552 177.76,365.552 178.097,365.552 178.435,365.552 178.773,365.552 179.11,365.552 179.448,365.551 179.786,365.551 180.124,365.551 \n",
       "  180.461,365.551 180.799,365.551 181.137,365.551 181.475,365.551 181.812,365.551 182.15,365.551 182.488,365.551 182.825,365.551 183.163,365.551 183.501,365.551 \n",
       "  183.839,365.551 184.176,365.551 184.514,365.551 184.852,365.551 185.189,365.551 185.527,365.551 185.865,365.551 186.203,365.551 186.54,365.551 186.878,365.551 \n",
       "  187.216,365.551 187.554,365.551 187.891,365.551 188.229,365.551 188.567,365.551 188.904,365.55 189.242,365.55 189.58,365.55 189.918,365.55 190.255,365.55 \n",
       "  190.593,365.55 190.931,365.55 191.269,365.55 191.606,365.55 191.944,365.55 192.282,365.55 192.619,365.55 192.957,365.55 193.295,365.55 193.633,365.55 \n",
       "  193.97,365.55 194.308,365.55 194.646,365.55 194.983,365.55 195.321,365.55 195.659,365.55 195.997,365.55 196.334,365.55 196.672,365.55 197.01,365.55 \n",
       "  197.348,365.55 197.685,365.55 198.023,365.55 198.361,365.549 198.698,365.549 199.036,365.549 199.374,365.549 199.712,365.549 200.049,365.549 200.387,365.549 \n",
       "  200.725,365.549 201.062,365.549 201.4,365.549 201.738,365.549 202.076,365.549 202.413,365.549 202.751,365.549 203.089,365.549 203.427,365.549 203.764,365.549 \n",
       "  204.102,365.549 204.44,365.549 204.777,365.549 205.115,365.549 205.453,365.549 205.791,365.549 206.128,365.549 206.466,365.549 206.804,365.549 207.141,365.549 \n",
       "  207.479,365.549 207.817,365.549 208.155,365.548 208.492,365.548 208.83,365.548 209.168,365.548 209.506,365.548 209.843,365.548 210.181,365.548 210.519,365.548 \n",
       "  210.856,365.548 211.194,365.548 211.532,365.548 211.87,365.548 212.207,365.548 212.545,365.548 212.883,365.548 213.22,365.548 213.558,365.548 213.896,365.548 \n",
       "  214.234,365.548 214.571,365.548 214.909,365.548 215.247,365.548 215.585,365.548 215.922,365.548 216.26,365.548 216.598,365.548 216.935,365.548 217.273,365.548 \n",
       "  217.611,365.548 217.949,365.547 218.286,365.547 218.624,365.547 218.962,365.547 219.299,365.547 219.637,365.547 219.975,365.547 220.313,365.547 220.65,365.547 \n",
       "  220.988,365.547 221.326,365.547 221.664,365.547 222.001,365.547 222.339,365.547 222.677,365.547 223.014,365.547 223.352,365.547 223.69,365.547 224.028,365.547 \n",
       "  224.365,365.547 224.703,365.547 225.041,365.547 225.379,365.547 225.716,365.547 226.054,365.547 226.392,365.547 226.729,365.547 227.067,365.547 227.405,365.547 \n",
       "  227.743,365.547 228.08,365.546 228.418,365.546 228.756,365.546 229.093,365.546 229.431,365.546 229.769,365.546 230.107,365.546 230.444,365.546 230.782,365.546 \n",
       "  231.12,365.546 231.458,365.546 231.795,365.546 232.133,365.546 232.471,365.546 232.808,365.546 233.146,365.546 233.484,365.546 233.822,365.546 234.159,365.546 \n",
       "  234.497,365.546 234.835,365.546 235.172,365.546 235.51,365.546 235.848,365.546 236.186,365.546 236.523,365.546 236.861,365.546 237.199,365.546 237.537,365.546 \n",
       "  237.874,365.545 238.212,365.545 238.55,365.545 238.887,365.545 239.225,365.545 239.563,365.545 239.901,365.545 240.238,365.545 240.576,365.545 240.914,365.545 \n",
       "  241.251,365.545 241.589,365.545 241.927,365.545 242.265,365.545 242.602,365.545 242.94,365.545 243.278,365.545 243.616,365.545 243.953,365.545 244.291,365.545 \n",
       "  244.629,365.545 244.966,365.545 245.304,365.545 245.642,365.545 245.98,365.545 246.317,365.545 246.655,365.545 246.993,365.545 247.33,365.545 247.668,365.545 \n",
       "  248.006,365.545 248.344,365.544 248.681,365.544 249.019,365.544 249.357,365.544 249.695,365.544 250.032,365.544 250.37,365.544 250.708,365.544 251.045,365.544 \n",
       "  251.383,365.544 251.721,365.544 252.059,365.544 252.396,365.544 252.734,365.544 253.072,365.544 253.409,365.544 253.747,365.544 254.085,365.544 254.423,365.544 \n",
       "  254.76,365.544 255.098,365.544 255.436,365.544 255.774,365.544 256.111,365.544 256.449,365.544 256.787,365.544 257.124,365.544 257.462,365.544 257.8,365.544 \n",
       "  258.138,365.544 258.475,365.543 258.813,365.543 259.151,365.543 259.488,365.543 259.826,365.543 260.164,365.543 260.502,365.543 260.839,365.543 261.177,365.543 \n",
       "  261.515,365.543 261.853,365.543 262.19,365.543 262.528,365.543 262.866,365.543 263.203,365.543 263.541,365.543 263.879,365.543 264.217,365.543 264.554,365.543 \n",
       "  264.892,365.543 265.23,365.543 265.568,365.543 265.905,365.543 266.243,365.543 266.581,365.543 266.918,365.543 267.256,365.543 267.594,365.543 267.932,365.543 \n",
       "  268.269,365.543 268.607,365.543 268.945,365.542 269.282,365.542 269.62,365.542 269.958,365.542 270.296,365.542 270.633,365.542 270.971,365.542 271.309,365.542 \n",
       "  271.647,365.542 271.984,365.542 272.322,365.542 272.66,365.542 272.997,365.542 273.335,365.542 273.673,365.542 274.011,365.542 274.348,365.542 274.686,365.542 \n",
       "  275.024,365.542 275.361,365.542 275.699,365.542 276.037,365.542 276.375,365.542 276.712,365.542 277.05,365.542 277.388,365.542 277.726,365.542 278.063,365.542 \n",
       "  278.401,365.542 278.739,365.542 279.076,365.542 279.414,365.541 279.752,365.541 280.09,365.541 280.427,365.541 280.765,365.541 281.103,365.541 281.44,365.541 \n",
       "  281.778,365.541 282.116,365.541 282.454,365.541 282.791,365.541 283.129,365.541 283.467,365.541 283.805,365.541 284.142,365.541 284.48,365.541 284.818,365.541 \n",
       "  285.155,365.541 285.493,365.541 285.831,365.541 286.169,365.541 286.506,365.541 286.844,365.541 287.182,365.541 287.519,365.541 287.857,365.541 288.195,365.541 \n",
       "  288.533,365.541 288.87,365.541 289.208,365.541 289.546,365.541 289.884,365.54 290.221,365.54 290.559,365.54 290.897,365.54 291.234,365.54 291.572,365.54 \n",
       "  291.91,365.54 292.248,365.54 292.585,365.54 292.923,365.54 293.261,365.54 293.598,365.54 293.936,365.54 294.274,365.54 294.612,365.54 294.949,365.54 \n",
       "  295.287,365.54 295.625,365.54 295.963,365.54 296.3,365.54 296.638,365.54 296.976,365.54 297.313,365.54 297.651,365.54 297.989,365.54 298.327,365.54 \n",
       "  298.664,365.54 299.002,365.54 299.34,365.54 299.678,365.54 300.015,365.54 300.353,365.54 300.691,365.539 301.028,365.539 301.366,365.539 301.704,365.539 \n",
       "  302.042,365.539 302.379,365.539 302.717,365.539 303.055,365.539 303.392,365.539 303.73,365.539 304.068,365.539 304.406,365.539 304.743,365.539 305.081,365.539 \n",
       "  305.419,365.539 305.757,365.539 306.094,365.539 306.432,365.539 306.77,365.539 307.107,365.539 307.445,365.539 307.783,365.539 308.121,365.539 308.458,365.539 \n",
       "  308.796,365.539 309.134,365.539 309.471,365.539 309.809,365.539 310.147,365.539 310.485,365.539 310.822,365.539 311.16,365.539 311.498,365.538 311.836,365.538 \n",
       "  312.173,365.538 312.511,365.538 312.849,365.538 313.186,365.538 313.524,365.538 313.862,365.538 314.2,365.538 314.537,365.538 314.875,365.538 315.213,365.538 \n",
       "  315.55,365.538 315.888,365.538 316.226,365.538 316.564,365.538 316.901,365.538 317.239,365.538 317.577,365.538 317.915,365.538 318.252,365.538 318.59,365.538 \n",
       "  318.928,365.538 319.265,365.538 319.603,365.538 319.941,365.538 320.279,365.538 320.616,365.538 320.954,365.538 321.292,365.538 321.629,365.538 321.967,365.538 \n",
       "  322.305,365.538 322.643,365.537 322.98,365.537 323.318,365.537 323.656,365.537 323.994,365.537 324.331,365.537 324.669,365.537 325.007,365.537 325.344,365.537 \n",
       "  325.682,365.537 326.02,365.537 326.358,365.537 326.695,365.537 327.033,365.537 327.371,365.537 327.708,365.537 328.046,365.537 328.384,365.537 328.722,365.537 \n",
       "  329.059,365.537 329.397,365.537 329.735,365.537 330.073,365.537 330.41,365.537 330.748,365.537 331.086,365.537 331.423,365.537 331.761,365.537 332.099,365.537 \n",
       "  332.437,365.537 332.774,365.537 333.112,365.537 333.45,365.537 333.787,365.536 334.125,365.536 334.463,365.536 334.801,365.536 335.138,365.536 335.476,365.536 \n",
       "  335.814,365.536 336.152,365.536 336.489,365.536 336.827,365.536 337.165,365.536 337.502,365.536 337.84,365.536 338.178,365.536 338.516,365.536 338.853,365.536 \n",
       "  339.191,365.536 339.529,365.536 339.867,365.536 340.204,365.536 340.542,365.536 340.88,365.536 341.217,365.536 341.555,365.536 341.893,365.536 342.231,365.536 \n",
       "  342.568,365.536 342.906,365.536 343.244,365.536 343.581,365.536 343.919,365.536 344.257,365.536 344.595,365.536 344.932,365.535 345.27,365.535 345.608,365.535 \n",
       "  345.946,365.535 346.283,365.535 346.621,365.535 346.959,365.535 347.296,365.535 347.634,365.535 347.972,365.535 348.31,365.535 348.647,365.535 348.985,365.535 \n",
       "  349.323,365.535 349.66,365.535 349.998,365.535 350.336,365.535 350.674,365.535 351.011,365.535 351.349,365.535 351.687,365.535 352.025,365.535 352.362,365.535 \n",
       "  352.7,365.535 353.038,365.535 353.375,365.535 353.713,365.535 354.051,365.535 354.389,365.535 354.726,365.535 355.064,365.535 355.402,365.535 355.739,365.535 \n",
       "  356.077,365.535 356.415,365.534 356.753,365.534 357.09,365.534 357.428,365.534 357.766,365.534 358.104,365.534 358.441,365.534 358.779,365.534 359.117,365.534 \n",
       "  359.454,365.534 359.792,365.534 360.13,365.534 360.468,365.534 360.805,365.534 361.143,365.534 361.481,365.534 361.818,365.534 362.156,365.534 362.494,365.534 \n",
       "  362.832,365.534 363.169,365.534 363.507,365.534 363.845,365.534 364.183,365.534 364.52,365.534 364.858,365.534 365.196,365.534 365.533,365.534 365.871,365.534 \n",
       "  366.209,365.534 366.547,365.534 366.884,365.534 367.222,365.534 367.56,365.534 367.897,365.534 368.235,365.533 368.573,365.533 368.911,365.533 369.248,365.533 \n",
       "  369.586,365.533 369.924,365.533 370.262,365.533 370.599,365.533 370.937,365.533 371.275,365.533 371.612,365.533 371.95,365.533 372.288,365.533 372.626,365.533 \n",
       "  372.963,365.533 373.301,365.533 373.639,365.533 373.977,365.533 374.314,365.533 374.652,365.533 374.99,365.533 375.327,365.533 375.665,365.533 376.003,365.533 \n",
       "  376.341,365.533 376.678,365.533 377.016,365.533 377.354,365.533 377.691,365.533 378.029,365.533 378.367,365.533 378.705,365.533 379.042,365.533 379.38,365.533 \n",
       "  379.718,365.532 380.056,365.532 380.393,365.532 380.731,365.532 381.069,365.532 381.406,365.532 381.744,365.532 382.082,365.532 382.42,365.532 382.757,365.532 \n",
       "  383.095,365.532 383.433,365.532 383.77,365.532 384.108,365.532 384.446,365.532 384.784,365.532 385.121,365.532 385.459,365.532 385.797,365.532 386.135,365.532 \n",
       "  386.472,365.532 386.81,365.532 387.148,365.532 387.485,365.532 387.823,365.532 388.161,365.532 388.499,365.532 388.836,365.532 389.174,365.532 389.512,365.532 \n",
       "  389.849,365.532 390.187,365.532 390.525,365.532 390.863,365.532 391.2,365.532 391.538,365.532 391.876,365.531 392.214,365.531 392.551,365.531 392.889,365.531 \n",
       "  393.227,365.531 393.564,365.531 393.902,365.531 394.24,365.531 394.578,365.531 394.915,365.531 395.253,365.531 395.591,365.531 395.928,365.531 396.266,365.531 \n",
       "  396.604,365.531 396.942,365.531 397.279,365.531 397.617,365.531 397.955,365.531 398.293,365.531 398.63,365.531 398.968,365.531 399.306,365.531 399.643,365.531 \n",
       "  399.981,365.531 400.319,365.531 400.657,365.531 400.994,365.531 401.332,365.531 401.67,365.531 402.007,365.531 402.345,365.531 402.683,365.531 403.021,365.531 \n",
       "  403.358,365.531 403.696,365.53 404.034,365.53 404.372,365.53 404.709,365.53 405.047,365.53 405.385,365.53 405.722,365.53 406.06,365.53 406.398,365.53 \n",
       "  406.736,365.53 407.073,365.53 407.411,365.53 407.749,365.53 408.086,365.53 408.424,365.53 408.762,365.53 409.1,365.53 409.437,365.53 409.775,365.53 \n",
       "  410.113,365.53 410.451,365.53 410.788,365.53 411.126,365.53 411.464,365.53 411.801,365.53 412.139,365.53 412.477,365.53 412.815,365.53 413.152,365.53 \n",
       "  413.49,365.53 413.828,365.53 414.166,365.53 414.503,365.53 414.841,365.53 415.179,365.53 415.516,365.53 415.854,365.53 416.192,365.529 416.53,365.529 \n",
       "  416.867,365.529 417.205,365.529 417.543,365.529 417.88,365.529 418.218,365.529 418.556,365.529 418.894,365.529 419.231,365.529 419.569,365.529 419.907,365.529 \n",
       "  420.245,365.529 420.582,365.529 420.92,365.529 421.258,365.529 421.595,365.529 421.933,365.529 422.271,365.529 422.609,365.529 422.946,365.529 423.284,365.529 \n",
       "  423.622,365.529 423.959,365.529 424.297,365.529 424.635,365.529 424.973,365.529 425.31,365.529 425.648,365.529 425.986,365.529 426.324,365.529 426.661,365.529 \n",
       "  426.999,365.529 427.337,365.529 427.674,365.529 428.012,365.529 428.35,365.528 428.688,365.528 429.025,365.528 429.363,365.528 429.701,365.528 430.038,365.528 \n",
       "  430.376,365.528 430.714,365.528 431.052,365.528 431.389,365.528 431.727,365.528 432.065,365.528 432.403,365.528 432.74,365.528 433.078,365.528 433.416,365.528 \n",
       "  433.753,365.528 434.091,365.528 434.429,365.528 434.767,365.528 435.104,365.528 435.442,365.528 435.78,365.528 436.117,365.528 436.455,365.528 436.793,365.528 \n",
       "  437.131,365.528 437.468,365.528 437.806,365.528 438.144,365.528 438.482,365.528 438.819,365.528 439.157,365.528 439.495,365.528 439.832,365.528 440.17,365.528 \n",
       "  440.508,365.528 440.846,365.528 441.183,365.527 441.521,365.527 441.859,365.527 442.196,365.527 442.534,365.527 442.872,365.527 443.21,365.527 443.547,365.527 \n",
       "  443.885,365.527 444.223,365.527 444.561,365.527 444.898,365.527 445.236,365.527 445.574,365.527 445.911,365.527 446.249,365.527 446.587,365.527 446.925,365.527 \n",
       "  447.262,365.527 447.6,365.527 447.938,365.527 448.276,365.527 448.613,365.527 448.951,365.527 449.289,365.527 449.626,365.527 449.964,365.527 450.302,365.527 \n",
       "  450.64,365.527 450.977,365.527 451.315,365.527 451.653,365.527 451.99,365.527 452.328,365.527 452.666,365.527 453.004,365.527 453.341,365.527 453.679,365.526 \n",
       "  454.017,365.526 454.355,365.526 454.692,365.526 455.03,365.526 455.368,365.526 455.705,365.526 456.043,365.526 456.381,365.526 456.719,365.526 457.056,365.526 \n",
       "  457.394,365.526 457.732,365.526 458.069,365.526 458.407,365.526 458.745,365.526 459.083,365.526 459.42,365.526 459.758,365.526 460.096,365.526 460.434,365.526 \n",
       "  460.771,365.526 461.109,365.526 461.447,365.526 461.784,365.526 462.122,365.526 462.46,365.526 462.798,365.526 463.135,365.526 463.473,365.526 463.811,365.526 \n",
       "  464.148,365.526 464.486,365.526 464.824,365.526 465.162,365.526 465.499,365.526 465.837,365.526 466.175,365.526 466.513,365.526 466.85,365.525 467.188,365.525 \n",
       "  467.526,365.525 467.863,365.525 468.201,365.525 468.539,365.525 468.877,365.525 469.214,365.525 469.552,365.525 469.89,365.525 470.227,365.525 470.565,365.525 \n",
       "  470.903,365.525 471.241,365.525 471.578,365.525 471.916,365.525 472.254,365.525 472.592,365.525 472.929,365.525 473.267,365.525 473.605,365.525 473.942,365.525 \n",
       "  474.28,365.525 474.618,365.525 474.956,365.525 475.293,365.525 475.631,365.525 475.969,365.525 476.306,365.525 476.644,365.525 476.982,365.525 477.32,365.525 \n",
       "  477.657,365.525 477.995,365.525 478.333,365.525 478.671,365.525 479.008,365.525 479.346,365.525 479.684,365.525 480.021,365.524 480.359,365.524 480.697,365.524 \n",
       "  481.035,365.524 481.372,365.524 481.71,365.524 482.048,365.524 482.385,365.524 482.723,365.524 483.061,365.524 483.399,365.524 483.736,365.524 484.074,365.524 \n",
       "  484.412,365.524 484.75,365.524 485.087,365.524 485.425,365.524 485.763,365.524 486.1,365.524 486.438,365.524 486.776,365.524 487.114,365.524 487.451,365.524 \n",
       "  487.789,365.524 488.127,365.524 488.465,365.524 488.802,365.524 489.14,365.524 489.478,365.524 489.815,365.524 490.153,365.524 490.491,365.524 490.829,365.524 \n",
       "  491.166,365.524 491.504,365.524 491.842,365.524 492.179,365.524 492.517,365.524 492.855,365.524 493.193,365.523 493.53,365.523 493.868,365.523 494.206,365.523 \n",
       "  494.544,365.523 494.881,365.523 495.219,365.523 495.557,365.523 495.894,365.523 496.232,365.523 496.57,365.523 496.908,365.523 497.245,365.523 497.583,365.523 \n",
       "  497.921,365.523 498.258,365.523 498.596,365.523 498.934,365.523 499.272,365.523 499.609,365.523 499.947,365.523 500.285,365.523 500.623,365.523 500.96,365.523 \n",
       "  501.298,365.523 501.636,365.523 501.973,365.523 502.311,365.523 502.649,365.523 502.987,365.523 503.324,365.523 503.662,365.523 504,365.523 504.337,365.523 \n",
       "  504.675,365.523 505.013,365.523 505.351,365.523 505.688,365.523 506.026,365.523 506.364,365.523 506.702,365.523 507.039,365.522 507.377,365.522 507.715,365.522 \n",
       "  508.052,365.522 508.39,365.522 508.728,365.522 509.066,365.522 509.403,365.522 509.741,365.522 510.079,365.522 510.416,365.522 510.754,365.522 511.092,365.522 \n",
       "  511.43,365.522 511.767,365.522 512.105,365.522 512.443,365.522 512.781,365.522 513.118,365.522 513.456,365.522 513.794,365.522 514.131,365.522 514.469,365.522 \n",
       "  514.807,365.522 515.145,365.522 515.482,365.522 515.82,365.522 516.158,365.522 516.495,365.522 516.833,365.522 517.171,365.522 517.509,365.522 517.846,365.522 \n",
       "  518.184,365.522 518.522,365.522 518.86,365.522 519.197,365.522 519.535,365.522 519.873,365.522 520.21,365.522 520.548,365.521 520.886,365.521 521.224,365.521 \n",
       "  521.561,365.521 521.899,365.521 522.237,365.521 522.575,365.521 522.912,365.521 523.25,365.521 523.588,365.521 523.925,365.521 524.263,365.521 524.601,365.521 \n",
       "  524.939,365.521 525.276,365.521 525.614,365.521 525.952,365.521 526.289,365.521 526.627,365.521 526.965,365.521 527.303,365.521 527.64,365.521 527.978,365.521 \n",
       "  528.316,365.521 528.654,365.521 528.991,365.521 529.329,365.521 529.667,365.521 530.004,365.521 530.342,365.521 530.68,365.521 531.018,365.521 531.355,365.521 \n",
       "  531.693,365.521 532.031,365.521 532.368,365.521 532.706,365.521 533.044,365.521 533.382,365.521 533.719,365.521 534.057,365.521 534.395,365.521 534.733,365.52 \n",
       "  535.07,365.52 535.408,365.52 535.746,365.52 536.083,365.52 536.421,365.52 536.759,365.52 537.097,365.52 537.434,365.52 537.772,365.52 538.11,365.52 \n",
       "  538.447,365.52 538.785,365.52 539.123,365.52 539.461,365.52 539.798,365.52 540.136,365.52 540.474,365.52 540.812,365.52 541.149,365.52 541.487,365.52 \n",
       "  541.825,365.52 542.162,365.52 542.5,365.52 542.838,365.52 543.176,365.52 543.513,365.52 543.851,365.52 544.189,365.52 544.526,365.52 544.864,365.52 \n",
       "  545.202,365.52 545.54,365.52 545.877,365.52 546.215,365.52 546.553,365.52 546.891,365.52 547.228,365.52 547.566,365.52 547.904,365.52 548.241,365.52 \n",
       "  548.579,365.519 548.917,365.519 549.255,365.519 549.592,365.519 549.93,365.519 550.268,365.519 550.605,365.519 550.943,365.519 551.281,365.519 551.619,365.519 \n",
       "  551.956,365.519 552.294,365.519 552.632,365.519 552.97,365.519 553.307,365.519 553.645,365.519 553.983,365.519 554.32,365.519 554.658,365.519 554.996,365.519 \n",
       "  555.334,365.519 555.671,365.519 556.009,365.519 556.347,365.519 556.685,365.519 557.022,365.519 557.36,365.519 557.698,365.519 558.035,365.519 558.373,365.519 \n",
       "  558.711,365.519 559.049,365.519 559.386,365.519 559.724,365.519 560.062,365.519 560.399,365.519 560.737,365.519 561.075,365.519 561.413,365.519 561.75,365.519 \n",
       "  562.088,365.519 562.426,365.519 562.764,365.518 563.101,365.518 563.439,365.518 563.777,365.518 564.114,365.518 564.452,365.518 564.79,365.518 565.128,365.463 \n",
       "  \n",
       "  \"/>\n",
       "<polygon clip-path=\"url(#clip3800)\" points=\"\n",
       "489.608,62.931 562.315,62.931 562.315,32.691 489.608,32.691 \n",
       "  \" fill=\"#ffffff\" fill-opacity=\"1\"/>\n",
       "<polyline clip-path=\"url(#clip3800)\" style=\"stroke:#000000; stroke-width:1; stroke-opacity:1; fill:none\" points=\"\n",
       "  489.608,62.931 562.315,62.931 562.315,32.691 489.608,32.691 489.608,62.931 \n",
       "  \"/>\n",
       "<polyline clip-path=\"url(#clip3800)\" style=\"stroke:#009af9; stroke-width:1; stroke-opacity:1; fill:none\" points=\"\n",
       "  495.608,47.811 531.608,47.811 \n",
       "  \"/>\n",
       "<g clip-path=\"url(#clip3800)\">\n",
       "<text style=\"fill:#000000; fill-opacity:1; font-family:Arial,Helvetica Neue,Helvetica,sans-serif; font-size:12; text-anchor:start;\" transform=\"rotate(0, 537.608, 52.311)\" x=\"537.608\" y=\"52.311\">y1</text>\n",
       "</g>\n",
       "</svg>\n"
      ]
     },
     "execution_count": 337,
     "metadata": {},
     "output_type": "execute_result"
    }
   ],
   "source": [
    "plot(eq_dict[\"eq_vals\"])"
   ]
  },
  {
   "cell_type": "code",
   "execution_count": 336,
   "metadata": {},
   "outputs": [
    {
     "ename": "LoadError",
     "evalue": "\u001b[91mKeyError: key \"bsm_eq\" not found\u001b[39m",
     "output_type": "error",
     "traceback": [
      "\u001b[91mKeyError: key \"bsm_eq\" not found\u001b[39m",
      "",
      "Stacktrace:",
      " [1] \u001b[1mgetindex\u001b[22m\u001b[22m\u001b[1m(\u001b[22m\u001b[22m::Dict{String,Any}, ::String\u001b[1m)\u001b[22m\u001b[22m at \u001b[1m./dict.jl:474\u001b[22m\u001b[22m",
      " [2] \u001b[1minclude_string\u001b[22m\u001b[22m\u001b[1m(\u001b[22m\u001b[22m::String, ::String\u001b[1m)\u001b[22m\u001b[22m at \u001b[1m./loading.jl:515\u001b[22m\u001b[22m"
     ]
    }
   ],
   "source": [
    "plot(v_grid[2:end-1], eq_dict[\"bsm_eq\"])"
   ]
  },
  {
   "cell_type": "code",
   "execution_count": 247,
   "metadata": {},
   "outputs": [
    {
     "name": "stderr",
     "output_type": "stream",
     "text": [
      "\u001b[1m\u001b[36mINFO: \u001b[39m\u001b[22m\u001b[36mRecompiling stale cache file /home/artur/.julia/lib/v0.6/Plots.ji for module Plots.\n",
      "\u001b[39m"
     ]
    }
   ],
   "source": [
    "using Plots"
   ]
  },
  {
   "cell_type": "code",
   "execution_count": 252,
   "metadata": {},
   "outputs": [
    {
     "data": {
      "text/plain": [
       "1500-element Array{Float64,1}:\n",
       " 540.243 \n",
       " 539.498 \n",
       " 538.754 \n",
       " 538.011 \n",
       " 537.269 \n",
       " 536.528 \n",
       " 535.788 \n",
       " 535.049 \n",
       " 534.312 \n",
       " 533.575 \n",
       " 532.839 \n",
       " 532.104 \n",
       " 531.37  \n",
       "   ⋮     \n",
       "  69.3155\n",
       "  69.2199\n",
       "  69.1244\n",
       "  69.0291\n",
       "  68.9339\n",
       "  68.8389\n",
       "  68.7439\n",
       "  68.6492\n",
       "  68.5545\n",
       "  68.46  \n",
       "  68.3655\n",
       "  68.2713"
      ]
     },
     "execution_count": 252,
     "metadata": {},
     "output_type": "execute_result"
    }
   ],
   "source": [
    "vbl * exp.(v_grid)"
   ]
  },
  {
   "cell_type": "code",
   "execution_count": 255,
   "metadata": {},
   "outputs": [
    {
     "data": {
      "image/svg+xml": [
       "<?xml version=\"1.0\" encoding=\"utf-8\"?>\n",
       "<svg xmlns=\"http://www.w3.org/2000/svg\" xmlns:xlink=\"http://www.w3.org/1999/xlink\" width=\"600\" height=\"400\" viewBox=\"0 0 600 400\">\n",
       "<defs>\n",
       "  <clipPath id=\"clip2600\">\n",
       "    <rect x=\"0\" y=\"0\" width=\"600\" height=\"400\"/>\n",
       "  </clipPath>\n",
       "</defs>\n",
       "<polygon clip-path=\"url(#clip2600)\" points=\"\n",
       "0,400 600,400 600,0 0,0 \n",
       "  \" fill=\"#ffffff\" fill-opacity=\"1\"/>\n",
       "<defs>\n",
       "  <clipPath id=\"clip2601\">\n",
       "    <rect x=\"120\" y=\"0\" width=\"421\" height=\"400\"/>\n",
       "  </clipPath>\n",
       "</defs>\n",
       "<polygon clip-path=\"url(#clip2600)\" points=\"\n",
       "43.6938,375.869 580.315,375.869 580.315,11.811 43.6938,11.811 \n",
       "  \" fill=\"#ffffff\" fill-opacity=\"1\"/>\n",
       "<defs>\n",
       "  <clipPath id=\"clip2602\">\n",
       "    <rect x=\"43\" y=\"11\" width=\"538\" height=\"365\"/>\n",
       "  </clipPath>\n",
       "</defs>\n",
       "<polyline clip-path=\"url(#clip2602)\" style=\"stroke:#000000; stroke-width:0.5; stroke-opacity:0.1; fill:none\" points=\"\n",
       "  92.9141,375.869 92.9141,11.811 \n",
       "  \"/>\n",
       "<polyline clip-path=\"url(#clip2602)\" style=\"stroke:#000000; stroke-width:0.5; stroke-opacity:0.1; fill:none\" points=\"\n",
       "  200.176,375.869 200.176,11.811 \n",
       "  \"/>\n",
       "<polyline clip-path=\"url(#clip2602)\" style=\"stroke:#000000; stroke-width:0.5; stroke-opacity:0.1; fill:none\" points=\"\n",
       "  307.438,375.869 307.438,11.811 \n",
       "  \"/>\n",
       "<polyline clip-path=\"url(#clip2602)\" style=\"stroke:#000000; stroke-width:0.5; stroke-opacity:0.1; fill:none\" points=\"\n",
       "  414.7,375.869 414.7,11.811 \n",
       "  \"/>\n",
       "<polyline clip-path=\"url(#clip2602)\" style=\"stroke:#000000; stroke-width:0.5; stroke-opacity:0.1; fill:none\" points=\"\n",
       "  521.962,375.869 521.962,11.811 \n",
       "  \"/>\n",
       "<polyline clip-path=\"url(#clip2602)\" style=\"stroke:#000000; stroke-width:0.5; stroke-opacity:0.1; fill:none\" points=\"\n",
       "  43.6938,365.463 580.315,365.463 \n",
       "  \"/>\n",
       "<polyline clip-path=\"url(#clip2602)\" style=\"stroke:#000000; stroke-width:0.5; stroke-opacity:0.1; fill:none\" points=\"\n",
       "  43.6938,295.076 580.315,295.076 \n",
       "  \"/>\n",
       "<polyline clip-path=\"url(#clip2602)\" style=\"stroke:#000000; stroke-width:0.5; stroke-opacity:0.1; fill:none\" points=\"\n",
       "  43.6938,224.689 580.315,224.689 \n",
       "  \"/>\n",
       "<polyline clip-path=\"url(#clip2602)\" style=\"stroke:#000000; stroke-width:0.5; stroke-opacity:0.1; fill:none\" points=\"\n",
       "  43.6938,154.302 580.315,154.302 \n",
       "  \"/>\n",
       "<polyline clip-path=\"url(#clip2602)\" style=\"stroke:#000000; stroke-width:0.5; stroke-opacity:0.1; fill:none\" points=\"\n",
       "  43.6938,83.9152 580.315,83.9152 \n",
       "  \"/>\n",
       "<polyline clip-path=\"url(#clip2602)\" style=\"stroke:#000000; stroke-width:0.5; stroke-opacity:0.1; fill:none\" points=\"\n",
       "  43.6938,13.5281 580.315,13.5281 \n",
       "  \"/>\n",
       "<polyline clip-path=\"url(#clip2600)\" style=\"stroke:#000000; stroke-width:1; stroke-opacity:1; fill:none\" points=\"\n",
       "  43.6938,375.869 580.315,375.869 \n",
       "  \"/>\n",
       "<polyline clip-path=\"url(#clip2600)\" style=\"stroke:#000000; stroke-width:1; stroke-opacity:1; fill:none\" points=\"\n",
       "  43.6938,375.869 43.6938,11.811 \n",
       "  \"/>\n",
       "<polyline clip-path=\"url(#clip2600)\" style=\"stroke:#000000; stroke-width:1; stroke-opacity:1; fill:none\" points=\"\n",
       "  92.9141,375.869 92.9141,370.408 \n",
       "  \"/>\n",
       "<polyline clip-path=\"url(#clip2600)\" style=\"stroke:#000000; stroke-width:1; stroke-opacity:1; fill:none\" points=\"\n",
       "  200.176,375.869 200.176,370.408 \n",
       "  \"/>\n",
       "<polyline clip-path=\"url(#clip2600)\" style=\"stroke:#000000; stroke-width:1; stroke-opacity:1; fill:none\" points=\"\n",
       "  307.438,375.869 307.438,370.408 \n",
       "  \"/>\n",
       "<polyline clip-path=\"url(#clip2600)\" style=\"stroke:#000000; stroke-width:1; stroke-opacity:1; fill:none\" points=\"\n",
       "  414.7,375.869 414.7,370.408 \n",
       "  \"/>\n",
       "<polyline clip-path=\"url(#clip2600)\" style=\"stroke:#000000; stroke-width:1; stroke-opacity:1; fill:none\" points=\"\n",
       "  521.962,375.869 521.962,370.408 \n",
       "  \"/>\n",
       "<polyline clip-path=\"url(#clip2600)\" style=\"stroke:#000000; stroke-width:1; stroke-opacity:1; fill:none\" points=\"\n",
       "  43.6938,365.463 51.7431,365.463 \n",
       "  \"/>\n",
       "<polyline clip-path=\"url(#clip2600)\" style=\"stroke:#000000; stroke-width:1; stroke-opacity:1; fill:none\" points=\"\n",
       "  43.6938,295.076 51.7431,295.076 \n",
       "  \"/>\n",
       "<polyline clip-path=\"url(#clip2600)\" style=\"stroke:#000000; stroke-width:1; stroke-opacity:1; fill:none\" points=\"\n",
       "  43.6938,224.689 51.7431,224.689 \n",
       "  \"/>\n",
       "<polyline clip-path=\"url(#clip2600)\" style=\"stroke:#000000; stroke-width:1; stroke-opacity:1; fill:none\" points=\"\n",
       "  43.6938,154.302 51.7431,154.302 \n",
       "  \"/>\n",
       "<polyline clip-path=\"url(#clip2600)\" style=\"stroke:#000000; stroke-width:1; stroke-opacity:1; fill:none\" points=\"\n",
       "  43.6938,83.9152 51.7431,83.9152 \n",
       "  \"/>\n",
       "<polyline clip-path=\"url(#clip2600)\" style=\"stroke:#000000; stroke-width:1; stroke-opacity:1; fill:none\" points=\"\n",
       "  43.6938,13.5281 51.7431,13.5281 \n",
       "  \"/>\n",
       "<g clip-path=\"url(#clip2600)\">\n",
       "<text style=\"fill:#000000; fill-opacity:1; font-family:Arial,Helvetica Neue,Helvetica,sans-serif; font-size:12; text-anchor:middle;\" transform=\"rotate(0, 92.9141, 389.669)\" x=\"92.9141\" y=\"389.669\">100</text>\n",
       "</g>\n",
       "<g clip-path=\"url(#clip2600)\">\n",
       "<text style=\"fill:#000000; fill-opacity:1; font-family:Arial,Helvetica Neue,Helvetica,sans-serif; font-size:12; text-anchor:middle;\" transform=\"rotate(0, 200.176, 389.669)\" x=\"200.176\" y=\"389.669\">200</text>\n",
       "</g>\n",
       "<g clip-path=\"url(#clip2600)\">\n",
       "<text style=\"fill:#000000; fill-opacity:1; font-family:Arial,Helvetica Neue,Helvetica,sans-serif; font-size:12; text-anchor:middle;\" transform=\"rotate(0, 307.438, 389.669)\" x=\"307.438\" y=\"389.669\">300</text>\n",
       "</g>\n",
       "<g clip-path=\"url(#clip2600)\">\n",
       "<text style=\"fill:#000000; fill-opacity:1; font-family:Arial,Helvetica Neue,Helvetica,sans-serif; font-size:12; text-anchor:middle;\" transform=\"rotate(0, 414.7, 389.669)\" x=\"414.7\" y=\"389.669\">400</text>\n",
       "</g>\n",
       "<g clip-path=\"url(#clip2600)\">\n",
       "<text style=\"fill:#000000; fill-opacity:1; font-family:Arial,Helvetica Neue,Helvetica,sans-serif; font-size:12; text-anchor:middle;\" transform=\"rotate(0, 521.962, 389.669)\" x=\"521.962\" y=\"389.669\">500</text>\n",
       "</g>\n",
       "<g clip-path=\"url(#clip2600)\">\n",
       "<text style=\"fill:#000000; fill-opacity:1; font-family:Arial,Helvetica Neue,Helvetica,sans-serif; font-size:12; text-anchor:end;\" transform=\"rotate(0, 37.6938, 369.963)\" x=\"37.6938\" y=\"369.963\">0</text>\n",
       "</g>\n",
       "<g clip-path=\"url(#clip2600)\">\n",
       "<text style=\"fill:#000000; fill-opacity:1; font-family:Arial,Helvetica Neue,Helvetica,sans-serif; font-size:12; text-anchor:end;\" transform=\"rotate(0, 37.6938, 299.576)\" x=\"37.6938\" y=\"299.576\">100</text>\n",
       "</g>\n",
       "<g clip-path=\"url(#clip2600)\">\n",
       "<text style=\"fill:#000000; fill-opacity:1; font-family:Arial,Helvetica Neue,Helvetica,sans-serif; font-size:12; text-anchor:end;\" transform=\"rotate(0, 37.6938, 229.189)\" x=\"37.6938\" y=\"229.189\">200</text>\n",
       "</g>\n",
       "<g clip-path=\"url(#clip2600)\">\n",
       "<text style=\"fill:#000000; fill-opacity:1; font-family:Arial,Helvetica Neue,Helvetica,sans-serif; font-size:12; text-anchor:end;\" transform=\"rotate(0, 37.6938, 158.802)\" x=\"37.6938\" y=\"158.802\">300</text>\n",
       "</g>\n",
       "<g clip-path=\"url(#clip2600)\">\n",
       "<text style=\"fill:#000000; fill-opacity:1; font-family:Arial,Helvetica Neue,Helvetica,sans-serif; font-size:12; text-anchor:end;\" transform=\"rotate(0, 37.6938, 88.4152)\" x=\"37.6938\" y=\"88.4152\">400</text>\n",
       "</g>\n",
       "<g clip-path=\"url(#clip2600)\">\n",
       "<text style=\"fill:#000000; fill-opacity:1; font-family:Arial,Helvetica Neue,Helvetica,sans-serif; font-size:12; text-anchor:end;\" transform=\"rotate(0, 37.6938, 18.0281)\" x=\"37.6938\" y=\"18.0281\">500</text>\n",
       "</g>\n",
       "<polyline clip-path=\"url(#clip2602)\" style=\"stroke:#009af9; stroke-width:1; stroke-opacity:1; fill:none\" points=\"\n",
       "  565.128,22.1145 564.328,251.02 563.53,365.565 562.734,365.565 561.938,365.565 561.143,365.565 560.35,365.565 559.557,365.565 558.766,365.565 557.975,365.565 \n",
       "  557.186,365.565 556.398,365.565 555.611,365.565 554.825,365.565 554.04,365.565 553.256,365.565 552.474,365.565 551.692,365.565 550.911,365.565 550.132,365.564 \n",
       "  549.353,365.564 548.576,365.564 547.8,365.564 547.025,365.564 546.25,365.564 545.477,365.564 544.705,365.564 543.935,365.564 543.165,365.564 542.396,365.564 \n",
       "  541.628,365.564 540.861,365.564 540.096,365.564 539.331,365.564 538.568,365.564 537.805,365.564 537.044,365.564 536.283,365.564 535.524,365.564 534.766,365.564 \n",
       "  534.009,365.564 533.252,365.564 532.497,365.564 531.743,365.564 530.99,365.563 530.238,365.563 529.487,365.563 528.737,365.563 527.988,365.563 527.24,365.563 \n",
       "  526.494,365.563 525.748,365.563 525.003,365.563 524.259,365.563 523.517,365.563 522.775,365.563 522.034,365.563 521.294,365.563 520.556,365.563 519.818,365.563 \n",
       "  519.082,365.563 518.346,365.563 517.611,365.563 516.878,365.563 516.145,365.563 515.414,365.563 514.683,365.563 513.954,365.563 513.225,365.563 512.498,365.563 \n",
       "  511.771,365.562 511.046,365.562 510.321,365.562 509.598,365.562 508.875,365.562 508.154,365.562 507.433,365.562 506.714,365.562 505.995,365.562 505.277,365.562 \n",
       "  504.561,365.562 503.845,365.562 503.131,365.562 502.417,365.562 501.705,365.562 500.993,365.562 500.282,365.562 499.573,365.562 498.864,365.562 498.156,365.562 \n",
       "  497.449,365.562 496.744,365.562 496.039,365.562 495.335,365.562 494.632,365.562 493.93,365.562 493.229,365.561 492.53,365.561 491.831,365.561 491.133,365.561 \n",
       "  490.435,365.561 489.739,365.561 489.044,365.561 488.35,365.561 487.657,365.561 486.965,365.561 486.273,365.561 485.583,365.561 484.894,365.561 484.205,365.561 \n",
       "  483.518,365.561 482.831,365.561 482.145,365.561 481.461,365.561 480.777,365.561 480.094,365.561 479.412,365.561 478.732,365.561 478.052,365.561 477.373,365.561 \n",
       "  476.695,365.561 476.017,365.56 475.341,365.56 474.666,365.56 473.992,365.56 473.318,365.56 472.646,365.56 471.974,365.56 471.303,365.56 470.634,365.56 \n",
       "  469.965,365.56 469.297,365.56 468.63,365.56 467.964,365.56 467.299,365.56 466.635,365.56 465.972,365.56 465.309,365.56 464.648,365.56 463.987,365.56 \n",
       "  463.328,365.56 462.669,365.56 462.011,365.56 461.354,365.56 460.698,365.56 460.043,365.56 459.389,365.56 458.736,365.56 458.083,365.559 457.432,365.559 \n",
       "  456.781,365.559 456.132,365.559 455.483,365.559 454.835,365.559 454.188,365.559 453.542,365.559 452.897,365.559 452.252,365.559 451.609,365.559 450.966,365.559 \n",
       "  450.325,365.559 449.684,365.559 449.044,365.559 448.405,365.559 447.767,365.559 447.13,365.559 446.493,365.559 445.858,365.559 445.223,365.559 444.589,365.559 \n",
       "  443.956,365.559 443.324,365.559 442.693,365.559 442.063,365.559 441.434,365.558 440.805,365.558 440.178,365.558 439.551,365.558 438.925,365.558 438.3,365.558 \n",
       "  437.676,365.558 437.052,365.558 436.43,365.558 435.808,365.558 435.187,365.558 434.567,365.558 433.948,365.558 433.33,365.558 432.713,365.558 432.096,365.558 \n",
       "  431.481,365.558 430.866,365.558 430.252,365.558 429.639,365.558 429.027,365.558 428.415,365.558 427.805,365.558 427.195,365.558 426.586,365.558 425.978,365.558 \n",
       "  425.371,365.557 424.764,365.557 424.159,365.557 423.554,365.557 422.95,365.557 422.347,365.557 421.745,365.557 421.144,365.557 420.543,365.557 419.944,365.557 \n",
       "  419.345,365.557 418.747,365.557 418.149,365.557 417.553,365.557 416.957,365.557 416.363,365.557 415.769,365.557 415.176,365.557 414.583,365.557 413.992,365.557 \n",
       "  413.401,365.557 412.811,365.557 412.222,365.557 411.634,365.557 411.047,365.557 410.46,365.557 409.874,365.557 409.289,365.556 408.705,365.556 408.122,365.556 \n",
       "  407.539,365.556 406.957,365.556 406.376,365.556 405.796,365.556 405.217,365.556 404.638,365.556 404.06,365.556 403.483,365.556 402.907,365.556 402.332,365.556 \n",
       "  401.757,365.556 401.183,365.556 400.61,365.556 400.038,365.556 399.467,365.556 398.896,365.556 398.326,365.556 397.757,365.556 397.189,365.556 396.621,365.556 \n",
       "  396.055,365.556 395.489,365.556 394.923,365.556 394.359,365.556 393.796,365.555 393.233,365.555 392.671,365.555 392.109,365.555 391.549,365.555 390.989,365.555 \n",
       "  390.43,365.555 389.872,365.555 389.315,365.555 388.758,365.555 388.202,365.555 387.647,365.555 387.093,365.555 386.539,365.555 385.986,365.555 385.434,365.555 \n",
       "  384.883,365.555 384.332,365.555 383.783,365.555 383.234,365.555 382.685,365.555 382.138,365.555 381.591,365.555 381.045,365.555 380.5,365.555 379.955,365.555 \n",
       "  379.412,365.555 378.869,365.555 378.326,365.554 377.785,365.554 377.244,365.554 376.704,365.554 376.165,365.554 375.626,365.554 375.089,365.554 374.551,365.554 \n",
       "  374.015,365.554 373.48,365.554 372.945,365.554 372.411,365.554 371.877,365.554 371.345,365.554 370.813,365.554 370.282,365.554 369.751,365.554 369.222,365.554 \n",
       "  368.693,365.554 368.165,365.554 367.637,365.554 367.11,365.554 366.584,365.554 366.059,365.554 365.534,365.554 365.011,365.554 364.488,365.554 363.965,365.553 \n",
       "  363.443,365.553 362.922,365.553 362.402,365.553 361.883,365.553 361.364,365.553 360.846,365.553 360.328,365.553 359.812,365.553 359.296,365.553 358.78,365.553 \n",
       "  358.266,365.553 357.752,365.553 357.239,365.553 356.727,365.553 356.215,365.553 355.704,365.553 355.194,365.553 354.684,365.553 354.175,365.553 353.667,365.553 \n",
       "  353.159,365.553 352.653,365.553 352.147,365.553 351.641,365.553 351.136,365.553 350.632,365.553 350.129,365.553 349.627,365.552 349.125,365.552 348.623,365.552 \n",
       "  348.123,365.552 347.623,365.552 347.124,365.552 346.625,365.552 346.128,365.552 345.631,365.552 345.134,365.552 344.638,365.552 344.143,365.552 343.649,365.552 \n",
       "  343.155,365.552 342.662,365.552 342.17,365.552 341.678,365.552 341.187,365.552 340.697,365.552 340.208,365.552 339.719,365.552 339.23,365.552 338.743,365.552 \n",
       "  338.256,365.552 337.77,365.552 337.284,365.552 336.799,365.552 336.315,365.552 335.831,365.551 335.348,365.551 334.866,365.551 334.385,365.551 333.904,365.551 \n",
       "  333.424,365.551 332.944,365.551 332.465,365.551 331.987,365.551 331.509,365.551 331.032,365.551 330.556,365.551 330.08,365.551 329.605,365.551 329.131,365.551 \n",
       "  328.657,365.551 328.184,365.551 327.712,365.551 327.24,365.551 326.769,365.551 326.299,365.551 325.829,365.551 325.36,365.551 324.892,365.551 324.424,365.551 \n",
       "  323.957,365.551 323.49,365.551 323.024,365.551 322.559,365.55 322.095,365.55 321.631,365.55 321.167,365.55 320.705,365.55 320.243,365.55 319.781,365.55 \n",
       "  319.32,365.55 318.86,365.55 318.401,365.55 317.942,365.55 317.484,365.55 317.026,365.55 316.569,365.55 316.113,365.55 315.657,365.55 315.202,365.55 \n",
       "  314.748,365.55 314.294,365.55 313.841,365.55 313.388,365.55 312.936,365.55 312.485,365.55 312.034,365.55 311.584,365.55 311.135,365.55 310.686,365.55 \n",
       "  310.237,365.55 309.79,365.55 309.343,365.549 308.897,365.549 308.451,365.549 308.006,365.549 307.561,365.549 307.117,365.549 306.674,365.549 306.231,365.549 \n",
       "  305.789,365.549 305.348,365.549 304.907,365.549 304.467,365.549 304.027,365.549 303.588,365.549 303.149,365.549 302.712,365.549 302.274,365.549 301.838,365.549 \n",
       "  301.402,365.549 300.966,365.549 300.532,365.549 300.097,365.549 299.664,365.549 299.231,365.549 298.798,365.549 298.366,365.549 297.935,365.549 297.505,365.549 \n",
       "  297.075,365.549 296.645,365.548 296.216,365.548 295.788,365.548 295.36,365.548 294.933,365.548 294.507,365.548 294.081,365.548 293.656,365.548 293.231,365.548 \n",
       "  292.807,365.548 292.383,365.548 291.96,365.548 291.538,365.548 291.116,365.548 290.695,365.548 290.274,365.548 289.854,365.548 289.434,365.548 289.016,365.548 \n",
       "  288.597,365.548 288.179,365.548 287.762,365.548 287.346,365.548 286.93,365.548 286.514,365.548 286.099,365.548 285.685,365.548 285.271,365.548 284.858,365.548 \n",
       "  284.445,365.547 284.033,365.547 283.622,365.547 283.211,365.547 282.801,365.547 282.391,365.547 281.982,365.547 281.573,365.547 281.165,365.547 280.758,365.547 \n",
       "  280.351,365.547 279.944,365.547 279.538,365.547 279.133,365.547 278.728,365.547 278.324,365.547 277.921,365.547 277.518,365.547 277.115,365.547 276.713,365.547 \n",
       "  276.312,365.547 275.911,365.547 275.511,365.547 275.111,365.547 274.712,365.547 274.313,365.547 273.915,365.547 273.518,365.547 273.121,365.547 272.724,365.547 \n",
       "  272.328,365.546 271.933,365.546 271.538,365.546 271.144,365.546 270.75,365.546 270.357,365.546 269.965,365.546 269.573,365.546 269.181,365.546 268.79,365.546 \n",
       "  268.4,365.546 268.01,365.546 267.62,365.546 267.232,365.546 266.843,365.546 266.456,365.546 266.068,365.546 265.682,365.546 265.295,365.546 264.91,365.546 \n",
       "  264.525,365.546 264.14,365.546 263.756,365.546 263.373,365.546 262.99,365.546 262.607,365.546 262.225,365.546 261.844,365.546 261.463,365.546 261.083,365.546 \n",
       "  260.703,365.545 260.324,365.545 259.945,365.545 259.567,365.545 259.189,365.545 258.812,365.545 258.435,365.545 258.059,365.545 257.683,365.545 257.308,365.545 \n",
       "  256.933,365.545 256.559,365.545 256.186,365.545 255.813,365.545 255.44,365.545 255.068,365.545 254.697,365.545 254.326,365.545 253.955,365.545 253.585,365.545 \n",
       "  253.216,365.545 252.847,365.545 252.478,365.545 252.11,365.545 251.743,365.545 251.376,365.545 251.009,365.545 250.643,365.545 250.278,365.545 249.913,365.545 \n",
       "  249.549,365.544 249.185,365.544 248.821,365.544 248.459,365.544 248.096,365.544 247.734,365.544 247.373,365.544 247.012,365.544 246.651,365.544 246.292,365.544 \n",
       "  245.932,365.544 245.573,365.544 245.215,365.544 244.857,365.544 244.499,365.544 244.142,365.544 243.786,365.544 243.43,365.544 243.075,365.544 242.72,365.544 \n",
       "  242.365,365.544 242.011,365.544 241.658,365.544 241.305,365.544 240.952,365.544 240.6,365.544 240.248,365.544 239.897,365.544 239.547,365.544 239.197,365.544 \n",
       "  238.847,365.543 238.498,365.543 238.149,365.543 237.801,365.543 237.453,365.543 237.106,365.543 236.759,365.543 236.413,365.543 236.067,365.543 235.722,365.543 \n",
       "  235.377,365.543 235.033,365.543 234.689,365.543 234.345,365.543 234.002,365.543 233.66,365.543 233.318,365.543 232.976,365.543 232.635,365.543 232.295,365.543 \n",
       "  231.955,365.543 231.615,365.543 231.276,365.543 230.937,365.543 230.599,365.543 230.261,365.543 229.924,365.543 229.587,365.543 229.251,365.543 228.915,365.543 \n",
       "  228.579,365.543 228.244,365.542 227.91,365.542 227.576,365.542 227.242,365.542 226.909,365.542 226.576,365.542 226.244,365.542 225.912,365.542 225.581,365.542 \n",
       "  225.25,365.542 224.92,365.542 224.59,365.542 224.26,365.542 223.931,365.542 223.602,365.542 223.274,365.542 222.947,365.542 222.619,365.542 222.293,365.542 \n",
       "  221.966,365.542 221.64,365.542 221.315,365.542 220.99,365.542 220.666,365.542 220.341,365.542 220.018,365.542 219.695,365.542 219.372,365.542 219.05,365.542 \n",
       "  218.728,365.542 218.406,365.542 218.085,365.541 217.765,365.541 217.445,365.541 217.125,365.541 216.806,365.541 216.487,365.541 216.169,365.541 215.851,365.541 \n",
       "  215.533,365.541 215.216,365.541 214.9,365.541 214.584,365.541 214.268,365.541 213.953,365.541 213.638,365.541 213.324,365.541 213.01,365.541 212.696,365.541 \n",
       "  212.383,365.541 212.07,365.541 211.758,365.541 211.446,365.541 211.135,365.541 210.824,365.541 210.514,365.541 210.203,365.541 209.894,365.541 209.585,365.541 \n",
       "  209.276,365.541 208.967,365.541 208.659,365.541 208.352,365.541 208.045,365.54 207.738,365.54 207.432,365.54 207.126,365.54 206.821,365.54 206.516,365.54 \n",
       "  206.211,365.54 205.907,365.54 205.603,365.54 205.3,365.54 204.997,365.54 204.695,365.54 204.393,365.54 204.091,365.54 203.79,365.54 203.489,365.54 \n",
       "  203.188,365.54 202.888,365.54 202.589,365.54 202.29,365.54 201.991,365.54 201.693,365.54 201.395,365.54 201.097,365.54 200.8,365.54 200.503,365.54 \n",
       "  200.207,365.54 199.911,365.54 199.616,365.54 199.321,365.54 199.026,365.54 198.732,365.54 198.438,365.539 198.145,365.539 197.852,365.539 197.559,365.539 \n",
       "  197.267,365.539 196.975,365.539 196.684,365.539 196.393,365.539 196.102,365.539 195.812,365.539 195.522,365.539 195.233,365.539 194.944,365.539 194.655,365.539 \n",
       "  194.367,365.539 194.079,365.539 193.791,365.539 193.504,365.539 193.218,365.539 192.932,365.539 192.646,365.539 192.36,365.539 192.075,365.539 191.791,365.539 \n",
       "  191.506,365.539 191.222,365.539 190.939,365.539 190.656,365.539 190.373,365.539 190.091,365.539 189.809,365.539 189.527,365.539 189.246,365.538 188.966,365.538 \n",
       "  188.685,365.538 188.405,365.538 188.126,365.538 187.846,365.538 187.568,365.538 187.289,365.538 187.011,365.538 186.733,365.538 186.456,365.538 186.179,365.538 \n",
       "  185.903,365.538 185.627,365.538 185.351,365.538 185.075,365.538 184.8,365.538 184.526,365.538 184.252,365.538 183.978,365.538 183.704,365.538 183.431,365.538 \n",
       "  183.158,365.538 182.886,365.538 182.614,365.538 182.342,365.538 182.071,365.538 181.8,365.538 181.53,365.538 181.26,365.538 180.99,365.538 180.721,365.538 \n",
       "  180.452,365.538 180.183,365.537 179.915,365.537 179.647,365.537 179.379,365.537 179.112,365.537 178.845,365.537 178.579,365.537 178.313,365.537 178.047,365.537 \n",
       "  177.782,365.537 177.517,365.537 177.252,365.537 176.988,365.537 176.724,365.537 176.461,365.537 176.198,365.537 175.935,365.537 175.673,365.537 175.411,365.537 \n",
       "  175.149,365.537 174.888,365.537 174.627,365.537 174.366,365.537 174.106,365.537 173.846,365.537 173.586,365.537 173.327,365.537 173.068,365.537 172.81,365.537 \n",
       "  172.552,365.537 172.294,365.537 172.037,365.537 171.78,365.537 171.523,365.536 171.267,365.536 171.011,365.536 170.755,365.536 170.5,365.536 170.245,365.536 \n",
       "  169.99,365.536 169.736,365.536 169.482,365.536 169.229,365.536 168.976,365.536 168.723,365.536 168.471,365.536 168.218,365.536 167.967,365.536 167.715,365.536 \n",
       "  167.464,365.536 167.213,365.536 166.963,365.536 166.713,365.536 166.463,365.536 166.214,365.536 165.965,365.536 165.716,365.536 165.468,365.536 165.22,365.536 \n",
       "  164.973,365.536 164.725,365.536 164.478,365.536 164.232,365.536 163.985,365.536 163.74,365.536 163.494,365.536 163.249,365.536 163.004,365.535 162.759,365.535 \n",
       "  162.515,365.535 162.271,365.535 162.028,365.535 161.784,365.535 161.541,365.535 161.299,365.535 161.057,365.535 160.815,365.535 160.573,365.535 160.332,365.535 \n",
       "  160.091,365.535 159.851,365.535 159.61,365.535 159.371,365.535 159.131,365.535 158.892,365.535 158.653,365.535 158.414,365.535 158.176,365.535 157.938,365.535 \n",
       "  157.701,365.535 157.463,365.535 157.226,365.535 156.99,365.535 156.753,365.535 156.518,365.535 156.282,365.535 156.047,365.535 155.812,365.535 155.577,365.535 \n",
       "  155.343,365.535 155.109,365.535 154.875,365.534 154.642,365.534 154.409,365.534 154.176,365.534 153.944,365.534 153.711,365.534 153.48,365.534 153.248,365.534 \n",
       "  153.017,365.534 152.786,365.534 152.556,365.534 152.326,365.534 152.096,365.534 151.866,365.534 151.637,365.534 151.408,365.534 151.18,365.534 150.951,365.534 \n",
       "  150.723,365.534 150.496,365.534 150.269,365.534 150.042,365.534 149.815,365.534 149.588,365.534 149.362,365.534 149.137,365.534 148.911,365.534 148.686,365.534 \n",
       "  148.461,365.534 148.237,365.534 148.013,365.534 147.789,365.534 147.565,365.534 147.342,365.534 147.119,365.533 146.896,365.533 146.674,365.533 146.452,365.533 \n",
       "  146.23,365.533 146.009,365.533 145.787,365.533 145.567,365.533 145.346,365.533 145.126,365.533 144.906,365.533 144.686,365.533 144.467,365.533 144.248,365.533 \n",
       "  144.029,365.533 143.811,365.533 143.593,365.533 143.375,365.533 143.158,365.533 142.94,365.533 142.723,365.533 142.507,365.533 142.291,365.533 142.075,365.533 \n",
       "  141.859,365.533 141.643,365.533 141.428,365.533 141.213,365.533 140.999,365.533 140.785,365.533 140.571,365.533 140.357,365.533 140.144,365.533 139.931,365.533 \n",
       "  139.718,365.533 139.506,365.532 139.293,365.532 139.082,365.532 138.87,365.532 138.659,365.532 138.448,365.532 138.237,365.532 138.027,365.532 137.816,365.532 \n",
       "  137.607,365.532 137.397,365.532 137.188,365.532 136.979,365.532 136.77,365.532 136.562,365.532 136.354,365.532 136.146,365.532 135.938,365.532 135.731,365.532 \n",
       "  135.524,365.532 135.317,365.532 135.111,365.532 134.905,365.532 134.699,365.532 134.494,365.532 134.288,365.532 134.083,365.532 133.879,365.532 133.674,365.532 \n",
       "  133.47,365.532 133.266,365.532 133.063,365.532 132.86,365.532 132.657,365.532 132.454,365.532 132.251,365.532 132.049,365.531 131.847,365.531 131.646,365.531 \n",
       "  131.444,365.531 131.243,365.531 131.043,365.531 130.842,365.531 130.642,365.531 130.442,365.531 130.242,365.531 130.043,365.531 129.844,365.531 129.645,365.531 \n",
       "  129.446,365.531 129.248,365.531 129.05,365.531 128.852,365.531 128.655,365.531 128.458,365.531 128.261,365.531 128.064,365.531 127.868,365.531 127.672,365.531 \n",
       "  127.476,365.531 127.28,365.531 127.085,365.531 126.89,365.531 126.695,365.531 126.501,365.531 126.306,365.531 126.112,365.531 125.919,365.531 125.725,365.531 \n",
       "  125.532,365.531 125.339,365.531 125.147,365.531 124.954,365.53 124.762,365.53 124.57,365.53 124.379,365.53 124.187,365.53 123.996,365.53 123.806,365.53 \n",
       "  123.615,365.53 123.425,365.53 123.235,365.53 123.045,365.53 122.856,365.53 122.666,365.53 122.478,365.53 122.289,365.53 122.1,365.53 121.912,365.53 \n",
       "  121.724,365.53 121.537,365.53 121.349,365.53 121.162,365.53 120.975,365.53 120.789,365.53 120.602,365.53 120.416,365.53 120.23,365.53 120.045,365.53 \n",
       "  119.86,365.53 119.674,365.53 119.49,365.53 119.305,365.53 119.121,365.53 118.937,365.53 118.753,365.53 118.569,365.53 118.386,365.53 118.203,365.529 \n",
       "  118.02,365.529 117.838,365.529 117.655,365.529 117.473,365.529 117.292,365.529 117.11,365.529 116.929,365.529 116.748,365.529 116.567,365.529 116.387,365.529 \n",
       "  116.206,365.529 116.026,365.529 115.846,365.529 115.667,365.529 115.488,365.529 115.309,365.529 115.13,365.529 114.951,365.529 114.773,365.529 114.595,365.529 \n",
       "  114.417,365.529 114.239,365.529 114.062,365.529 113.885,365.529 113.708,365.529 113.532,365.529 113.355,365.529 113.179,365.529 113.003,365.529 112.828,365.529 \n",
       "  112.652,365.529 112.477,365.529 112.302,365.529 112.128,365.529 111.953,365.529 111.779,365.529 111.605,365.528 111.432,365.528 111.258,365.528 111.085,365.528 \n",
       "  110.912,365.528 110.739,365.528 110.567,365.528 110.394,365.528 110.222,365.528 110.051,365.528 109.879,365.528 109.708,365.528 109.537,365.528 109.366,365.528 \n",
       "  109.195,365.528 109.025,365.528 108.855,365.528 108.685,365.528 108.515,365.528 108.346,365.528 108.177,365.528 108.008,365.528 107.839,365.528 107.67,365.528 \n",
       "  107.502,365.528 107.334,365.528 107.166,365.528 106.999,365.528 106.831,365.528 106.664,365.528 106.497,365.528 106.331,365.528 106.164,365.528 105.998,365.528 \n",
       "  105.832,365.528 105.666,365.528 105.501,365.528 105.336,365.528 105.171,365.527 105.006,365.527 104.841,365.527 104.677,365.527 104.513,365.527 104.349,365.527 \n",
       "  104.185,365.527 104.022,365.527 103.859,365.527 103.695,365.527 103.533,365.527 103.37,365.527 103.208,365.527 103.046,365.527 102.884,365.527 102.722,365.527 \n",
       "  102.561,365.527 102.4,365.527 102.239,365.527 102.078,365.527 101.917,365.527 101.757,365.527 101.597,365.527 101.437,365.527 101.277,365.527 101.118,365.527 \n",
       "  100.959,365.527 100.8,365.527 100.641,365.527 100.482,365.527 100.324,365.527 100.166,365.527 100.008,365.527 99.8501,365.527 99.6926,365.527 99.5354,365.527 \n",
       "  99.3783,365.527 99.2215,365.527 99.0649,365.526 98.9085,365.526 98.7523,365.526 98.5963,365.526 98.4406,365.526 98.2851,365.526 98.1297,365.526 97.9746,365.526 \n",
       "  97.8197,365.526 97.6651,365.526 97.5106,365.526 97.3563,365.526 97.2023,365.526 97.0485,365.526 96.8949,365.526 96.7415,365.526 96.5883,365.526 96.4353,365.526 \n",
       "  96.2825,365.526 96.13,365.526 95.9776,365.526 95.8255,365.526 95.6736,365.526 95.5218,365.526 95.3703,365.526 95.219,365.526 95.0679,365.526 94.917,365.526 \n",
       "  94.7664,365.526 94.6159,365.526 94.4656,365.526 94.3156,365.526 94.1657,365.526 94.0161,365.526 93.8667,365.526 93.7174,365.526 93.5684,365.526 93.4196,365.526 \n",
       "  93.271,365.526 93.1226,365.525 92.9744,365.525 92.8264,365.525 92.6786,365.525 92.531,365.525 92.3836,365.525 92.2365,365.525 92.0895,365.525 91.9427,365.525 \n",
       "  91.7961,365.525 91.6498,365.525 91.5036,365.525 91.3576,365.525 91.2118,365.525 91.0663,365.525 90.9209,365.525 90.7758,365.525 90.6308,365.525 90.486,365.525 \n",
       "  90.3415,365.525 90.1971,365.525 90.0529,365.525 89.909,365.525 89.7652,365.525 89.6216,365.525 89.4782,365.525 89.3351,365.525 89.1921,365.525 89.0493,365.525 \n",
       "  88.9067,365.525 88.7643,365.525 88.6222,365.525 88.4802,365.525 88.3384,365.525 88.1968,365.525 88.0553,365.525 87.9141,365.525 87.7731,365.525 87.6323,365.525 \n",
       "  87.4917,365.525 87.3512,365.524 87.211,365.524 87.0709,365.524 86.9311,365.524 86.7914,365.524 86.6519,365.524 86.5127,365.524 86.3736,365.524 86.2347,365.524 \n",
       "  86.096,365.524 85.9575,365.524 85.8192,365.524 85.681,365.524 85.5431,365.524 85.4053,365.524 85.2678,365.524 85.1304,365.524 84.9932,365.524 84.8562,365.524 \n",
       "  84.7194,365.524 84.5828,365.524 84.4464,365.524 84.3102,365.524 84.1741,365.524 84.0383,365.524 83.9026,365.524 83.7671,365.524 83.6318,365.524 83.4967,365.524 \n",
       "  83.3618,365.524 83.227,365.524 83.0925,365.524 82.9581,365.524 82.8239,365.524 82.6899,365.524 82.5561,365.524 82.4225,365.524 82.289,365.524 82.1558,365.524 \n",
       "  82.0227,365.524 81.8898,365.523 81.7571,365.523 81.6246,365.523 81.4922,365.523 81.36,365.523 81.2281,365.523 81.0963,365.523 80.9647,365.523 80.8332,365.523 \n",
       "  80.702,365.523 80.5709,365.523 80.44,365.523 80.3093,365.523 80.1788,365.523 80.0484,365.523 79.9182,365.523 79.7882,365.523 79.6584,365.523 79.5288,365.523 \n",
       "  79.3993,365.523 79.2701,365.523 79.141,365.523 79.012,365.523 78.8833,365.523 78.7547,365.523 78.6264,365.523 78.4981,365.523 78.3701,365.523 78.2422,365.523 \n",
       "  78.1146,365.523 77.9871,365.523 77.8597,365.523 77.7326,365.523 77.6056,365.523 77.4788,365.523 77.3522,365.523 77.2257,365.523 77.0994,365.523 76.9733,365.523 \n",
       "  76.8474,365.523 76.7216,365.523 76.5961,365.523 76.4707,365.522 76.3454,365.522 76.2203,365.522 76.0955,365.522 75.9707,365.522 75.8462,365.522 75.7218,365.522 \n",
       "  75.5976,365.522 75.4736,365.522 75.3497,365.522 75.226,365.522 75.1025,365.522 74.9791,365.522 74.856,365.522 74.733,365.522 74.6101,365.522 74.4874,365.522 \n",
       "  74.3649,365.522 74.2426,365.522 74.1204,365.522 73.9984,365.522 73.8766,365.522 73.755,365.522 73.6335,365.522 73.5121,365.522 73.391,365.522 73.27,365.522 \n",
       "  73.1492,365.522 73.0285,365.522 72.908,365.522 72.7877,365.522 72.6675,365.522 72.5475,365.522 72.4277,365.522 72.308,365.522 72.1885,365.522 72.0692,365.522 \n",
       "  71.95,365.522 71.831,365.522 71.7122,365.522 71.5935,365.522 71.475,365.522 71.3567,365.522 71.2385,365.521 71.1205,365.521 71.0026,365.521 70.8849,365.521 \n",
       "  70.7674,365.521 70.65,365.521 70.5328,365.521 70.4157,365.521 70.2988,365.521 70.1821,365.521 70.0655,365.521 69.9491,365.521 69.8329,365.521 69.7168,365.521 \n",
       "  69.6009,365.521 69.4851,365.521 69.3695,365.521 69.2541,365.521 69.1388,365.521 69.0237,365.521 68.9087,365.521 68.7939,365.521 68.6792,365.521 68.5647,365.521 \n",
       "  68.4504,365.521 68.3362,365.521 68.2222,365.521 68.1083,365.521 67.9946,365.521 67.8811,365.521 67.7677,365.521 67.6545,365.521 67.5414,365.521 67.4284,365.521 \n",
       "  67.3157,365.521 67.2031,365.521 67.0906,365.521 66.9783,365.521 66.8662,365.521 66.7542,365.521 66.6423,365.521 66.5306,365.521 66.4191,365.521 66.3077,365.52 \n",
       "  66.1965,365.52 66.0854,365.52 65.9745,365.52 65.8638,365.52 65.7532,365.52 65.6427,365.52 65.5324,365.52 65.4222,365.52 65.3122,365.52 65.2024,365.52 \n",
       "  65.0927,365.52 64.9831,365.52 64.8737,365.52 64.7645,365.52 64.6554,365.52 64.5464,365.52 64.4377,365.52 64.329,365.52 64.2205,365.52 64.1122,365.52 \n",
       "  64.004,365.52 63.8959,365.52 63.788,365.52 63.6803,365.52 63.5727,365.52 63.4652,365.52 63.3579,365.52 63.2508,365.52 63.1438,365.52 63.0369,365.52 \n",
       "  62.9302,365.52 62.8236,365.52 62.7172,365.52 62.6109,365.52 62.5048,365.52 62.3988,365.52 62.293,365.52 62.1873,365.52 62.0818,365.52 61.9764,365.52 \n",
       "  61.8711,365.52 61.766,365.52 61.6611,365.52 61.5562,365.52 61.4516,365.519 61.347,365.519 61.2427,365.519 61.1384,365.519 61.0343,365.519 60.9304,365.519 \n",
       "  60.8266,365.519 60.7229,365.519 60.6194,365.519 60.516,365.519 60.4128,365.519 60.3097,365.519 60.2067,365.519 60.1039,365.519 60.0012,365.519 59.8987,365.519 \n",
       "  59.7963,365.519 59.6941,365.519 59.592,365.519 59.49,365.519 59.3882,365.519 59.2865,365.519 59.185,365.519 59.0836,365.519 58.9823,365.519 58.8812,365.463 \n",
       "  \n",
       "  \"/>\n",
       "<polygon clip-path=\"url(#clip2600)\" points=\"\n",
       "489.608,62.931 562.315,62.931 562.315,32.691 489.608,32.691 \n",
       "  \" fill=\"#ffffff\" fill-opacity=\"1\"/>\n",
       "<polyline clip-path=\"url(#clip2600)\" style=\"stroke:#000000; stroke-width:1; stroke-opacity:1; fill:none\" points=\"\n",
       "  489.608,62.931 562.315,62.931 562.315,32.691 489.608,32.691 489.608,62.931 \n",
       "  \"/>\n",
       "<polyline clip-path=\"url(#clip2600)\" style=\"stroke:#009af9; stroke-width:1; stroke-opacity:1; fill:none\" points=\"\n",
       "  495.608,47.811 531.608,47.811 \n",
       "  \"/>\n",
       "<g clip-path=\"url(#clip2600)\">\n",
       "<text style=\"fill:#000000; fill-opacity:1; font-family:Arial,Helvetica Neue,Helvetica,sans-serif; font-size:12; text-anchor:start;\" transform=\"rotate(0, 537.608, 52.311)\" x=\"537.608\" y=\"52.311\">y1</text>\n",
       "</g>\n",
       "</svg>\n"
      ]
     },
     "execution_count": 255,
     "metadata": {},
     "output_type": "execute_result"
    }
   ],
   "source": [
    "plot(vbl * exp.(v_grid), eq_dict[\"eq_vals\"])"
   ]
  },
  {
   "cell_type": "code",
   "execution_count": 253,
   "metadata": {},
   "outputs": [
    {
     "data": {
      "text/plain": [
       "2.068529636060046:-0.0013799397171848204:0.0"
      ]
     },
     "execution_count": 253,
     "metadata": {},
     "output_type": "execute_result"
    }
   ],
   "source": [
    "v_grid"
   ]
  },
  {
   "cell_type": "code",
   "execution_count": 241,
   "metadata": {},
   "outputs": [
    {
     "data": {
      "text/html": [
       "<table class=\"data-frame\"><thead><tr><th></th><th>ROE</th><th>V0</th><th>alpha</th><th>c</th><th>eq_deriv</th><th>eq_deriv_min_val</th><th>eq_min_val</th><th>eq_negative</th><th>eq_vb</th><th>equity</th><th>firm_value</th><th>gross_delta</th><th>iota</th><th>kappa</th><th>lambda</th><th>leverage</th><th>m</th><th>p</th><th>pi</th><th>r</th><th>sigmah</th><th>sigmal</th><th>vb</th><th>xi</th></tr></thead><tbody><tr><th>1</th><td>NaN</td><td>100.0</td><td>0.6</td><td>6.39</td><td>-1.06425</td><td>-22.1956</td><td>-0.144753</td><td>true</td><td>0.0</td><td>-0.0883318</td><td>NaN</td><td>0.02</td><td>0.0</td><td>0.015</td><td>0.3</td><td>NaN</td><td>1.0</td><td>61.68</td><td>0.27</td><td>0.08</td><td>0.25</td><td>0.25</td><td>68.2713</td><td>1.0</td></tr></tbody></table>"
      ],
      "text/plain": [
       "1×24 DataFrames.DataFrame. Omitted printing of 17 columns\n",
       "│ Row │ ROE │ V0    │ alpha │ c    │ eq_deriv │ eq_deriv_min_val │ eq_min_val │\n",
       "├─────┼─────┼───────┼───────┼──────┼──────────┼──────────────────┼────────────┤\n",
       "│ 1   │ NaN │ 100.0 │ 0.6   │ 6.39 │ -1.06425 │ -22.1956         │ -0.144753  │"
      ]
     },
     "execution_count": 241,
     "metadata": {},
     "output_type": "execute_result"
    }
   ],
   "source": [
    "ss"
   ]
  },
  {
   "cell_type": "code",
   "execution_count": 192,
   "metadata": {},
   "outputs": [
    {
     "name": "stdout",
     "output_type": "stream",
     "text": [
      "Computing Equity Vmax\n",
      "Vmax: 125.0\n",
      "phi0: -51.94\n",
      "phi1: 0.999\n",
      "pv_rfdebt: 61.94\n",
      "debt_abs_per_diff: 9.937494816440229e-5\n",
      "eq_abs_per_diff:0.0009047503298416057\n",
      "Equity Vmax: 567.254936738525\n",
      " \n",
      "Computing Bond Vmax\n",
      "Bond Vmax: 148.58571920852654\n",
      " \n",
      "Adjusted Equity Vmax: 567.254936738525\n",
      "eq_vmax: 2.116947246457894\n"
     ]
    },
    {
     "data": {
      "text/plain": [
       "1500-element Array{Float64,1}:\n",
       " 514.298      \n",
       " 513.497      \n",
       " 512.697      \n",
       " 511.898      \n",
       " 511.101      \n",
       " 510.304      \n",
       " 509.509      \n",
       " 508.714      \n",
       " 507.921      \n",
       " 507.129      \n",
       " 506.338      \n",
       " 505.548      \n",
       " 504.76       \n",
       "   ⋮          \n",
       "   0.0711178  \n",
       "   0.0555979  \n",
       "   0.0415134  \n",
       "   0.0288738  \n",
       "   0.0176884  \n",
       "   0.00796684 \n",
       "  -0.000281275\n",
       "  -0.00704636 \n",
       "  -0.0123187  \n",
       "  -0.0160888  \n",
       "  -0.0183466  \n",
       "  -0.0190826  "
      ]
     },
     "execution_count": 192,
     "metadata": {},
     "output_type": "execute_result"
    },
    {
     "name": "stdout",
     "output_type": "stream",
     "text": [
      "Finished computing bondpr_grid\n",
      "Computing Constant Volatility Equity Values\n"
     ]
    }
   ],
   "source": [
    "ss = equity_fin_diff(svm3, vbl, f0fd, f1fd, f2fd, f3fd)"
   ]
  },
  {
   "cell_type": "code",
   "execution_count": 190,
   "metadata": {},
   "outputs": [
    {
     "data": {
      "text/html": [
       "<table class=\"data-frame\"><thead><tr><th></th><th>ROE</th><th>V0</th><th>alpha</th><th>c</th><th>eq_deriv</th><th>eq_deriv_min_val</th><th>eq_min_val</th><th>eq_negative</th><th>eq_vb</th><th>equity</th><th>firm_value</th><th>gross_delta</th><th>iota</th><th>kappa</th><th>lambda</th><th>leverage</th><th>m</th><th>p</th><th>pi</th><th>r</th><th>sigmah</th><th>sigmal</th><th>vb</th><th>xi</th></tr></thead><tbody><tr><th>1</th><td>NaN</td><td>100.0</td><td>0.6001</td><td>6.3906</td><td>-1.08749</td><td>-21.774</td><td>-0.153527</td><td>true</td><td>0.0</td><td>-0.0923995</td><td>NaN</td><td>0.020004</td><td>0.0</td><td>0.014999</td><td>0.30005</td><td>NaN</td><td>1.0</td><td>61.688</td><td>0.27002</td><td>0.080017</td><td>0.25</td><td>0.25</td><td>68.2967</td><td>0x01</td></tr></tbody></table>"
      ],
      "text/plain": [
       "1×24 DataFrames.DataFrame. Omitted printing of 18 columns\n",
       "│ Row │ ROE │ V0    │ alpha  │ c      │ eq_deriv │ eq_deriv_min_val │\n",
       "├─────┼─────┼───────┼────────┼────────┼──────────┼──────────────────┤\n",
       "│ 1   │ NaN │ 100.0 │ 0.6001 │ 6.3906 │ -1.08749 │ -21.774          │"
      ]
     },
     "execution_count": 190,
     "metadata": {},
     "output_type": "execute_result"
    }
   ],
   "source": [
    "ss"
   ]
  },
  {
   "cell_type": "code",
   "execution_count": 209,
   "metadata": {},
   "outputs": [
    {
     "data": {
      "text/plain": [
       "5.708070456122982e-5"
      ]
     },
     "execution_count": 209,
     "metadata": {},
     "output_type": "execute_result"
    }
   ],
   "source": [
    "get_cvm_eq(1.00715 * vbh, svm.pm.sigmah, svm)"
   ]
  },
  {
   "cell_type": "code",
   "execution_count": 220,
   "metadata": {},
   "outputs": [
    {
     "data": {
      "text/plain": [
       "68.27126948528648"
      ]
     },
     "execution_count": 220,
     "metadata": {},
     "output_type": "execute_result"
    }
   ],
   "source": [
    "vbh = AnalyticFunctions.get_cvm_vb(svm3, svm3.pm.sigmah)"
   ]
  },
  {
   "cell_type": "code",
   "execution_count": 222,
   "metadata": {},
   "outputs": [
    {
     "data": {
      "text/plain": [
       "1.5129089838694654e-6"
      ]
     },
     "execution_count": 222,
     "metadata": {},
     "output_type": "execute_result"
    }
   ],
   "source": [
    "\n",
    "EqFinDiff.get_cvm_eq(vbh, svm3.pm.sigmah, svm3)"
   ]
  },
  {
   "cell_type": "code",
   "execution_count": 223,
   "metadata": {},
   "outputs": [
    {
     "data": {
      "text/plain": [
       "68.75940906210629"
      ]
     },
     "execution_count": 223,
     "metadata": {},
     "output_type": "execute_result"
    }
   ],
   "source": [
    "1.00715 * vbh"
   ]
  },
  {
   "cell_type": "code",
   "execution_count": 214,
   "metadata": {},
   "outputs": [
    {
     "data": {
      "text/plain": [
       "-0.014641223324531438"
      ]
     },
     "execution_count": 214,
     "metadata": {},
     "output_type": "execute_result"
    }
   ],
   "source": [
    "AnalyticFunctions.zhi_eq(.0, 1.0, svm.c, svm.p, svm.pm.sigmah, \n",
    "    svm.pm.r, svm.pm.gross_delta, svm.pm.iota, 1.0, svm.pm.kappa, svm.pm.alpha, svm.pm.pi)"
   ]
  },
  {
   "cell_type": "code",
   "execution_count": 194,
   "metadata": {},
   "outputs": [
    {
     "data": {
      "text/plain": [
       "ModelObj.FirmParams\n",
       "  m: Float16 1.0\n",
       "  alpha: Float16 0.6\n",
       "  pi: Float16 0.27\n",
       "  r: Float16 0.08\n",
       "  gross_delta: Float16 0.02\n",
       "  iota: Float16 0.0\n",
       "  xi: UInt8 1\n",
       "  kappa: Float16 0.015\n",
       "  lambda: Float16 0.3\n",
       "  sigmal: Float16 0.25\n",
       "  sigmah: Float16 0.25\n"
      ]
     },
     "execution_count": 194,
     "metadata": {},
     "output_type": "execute_result"
    }
   ],
   "source": [
    "svm.pm"
   ]
  },
  {
   "cell_type": "code",
   "execution_count": 99,
   "metadata": {},
   "outputs": [
    {
     "name": "stdout",
     "output_type": "stream",
     "text": [
      "search: \u001b[1mD\u001b[22m\u001b[1ma\u001b[22m\u001b[1mt\u001b[22m\u001b[1ma\u001b[22m\u001b[1mF\u001b[22m\u001b[1mr\u001b[22m\u001b[1ma\u001b[22m\u001b[1mm\u001b[22m\u001b[1me\u001b[22m\u001b[1ms\u001b[22m \u001b[1mD\u001b[22m\u001b[1ma\u001b[22m\u001b[1mt\u001b[22m\u001b[1ma\u001b[22m\u001b[1mF\u001b[22m\u001b[1mr\u001b[22m\u001b[1ma\u001b[22m\u001b[1mm\u001b[22m\u001b[1me\u001b[22m \u001b[1mD\u001b[22m\u001b[1ma\u001b[22m\u001b[1mt\u001b[22m\u001b[1ma\u001b[22m\u001b[1mF\u001b[22m\u001b[1mr\u001b[22m\u001b[1ma\u001b[22m\u001b[1mm\u001b[22m\u001b[1me\u001b[22mRow Sub\u001b[1mD\u001b[22m\u001b[1ma\u001b[22m\u001b[1mt\u001b[22m\u001b[1ma\u001b[22m\u001b[1mF\u001b[22m\u001b[1mr\u001b[22m\u001b[1ma\u001b[22m\u001b[1mm\u001b[22m\u001b[1me\u001b[22m Groupe\u001b[1md\u001b[22mD\u001b[1ma\u001b[22m\u001b[1mt\u001b[22m\u001b[1ma\u001b[22m\u001b[1mF\u001b[22m\u001b[1mr\u001b[22m\u001b[1ma\u001b[22m\u001b[1mm\u001b[22m\u001b[1me\u001b[22m\n",
      "\n",
      "Couldn't find \u001b[36mDataframes\n",
      "\u001b[39m"
     ]
    },
    {
     "data": {
      "text/markdown": [
       "No documentation found.\n",
       "\n",
       "Binding `Dataframes` does not exist.\n"
      ],
      "text/plain": [
       "No documentation found.\n",
       "\n",
       "Binding `Dataframes` does not exist.\n"
      ]
     },
     "execution_count": 99,
     "metadata": {},
     "output_type": "execute_result"
    },
    {
     "name": "stdout",
     "output_type": "stream",
     "text": [
      "Perhaps you meant DataFrames, DataFrame or DataFrameRow\n"
     ]
    }
   ],
   "source": [
    "?Dataframes # (eq_dict)"
   ]
  },
  {
   "cell_type": "code",
   "execution_count": 126,
   "metadata": {},
   "outputs": [
    {
     "data": {
      "text/html": [
       "<table class=\"data-frame\"><thead><tr><th></th><th>a</th><th>b</th><th>c</th></tr></thead><tbody><tr><th>1</th><td>1</td><td>2</td><td>3</td></tr></tbody></table>"
      ],
      "text/plain": [
       "1×3 DataFrames.DataFrame\n",
       "│ Row │ a │ b │ c │\n",
       "├─────┼───┼───┼───┤\n",
       "│ 1   │ 1 │ 2 │ 3 │"
      ]
     },
     "execution_count": 126,
     "metadata": {},
     "output_type": "execute_result"
    }
   ],
   "source": [
    "DataFrame(dd)"
   ]
  },
  {
   "cell_type": "code",
   "execution_count": 125,
   "metadata": {},
   "outputs": [
    {
     "data": {
      "text/plain": [
       "Dict{String,Int64} with 3 entries:\n",
       "  \"c\" => 3\n",
       "  \"b\" => 2\n",
       "  \"a\" => 1"
      ]
     },
     "execution_count": 125,
     "metadata": {},
     "output_type": "execute_result"
    }
   ],
   "source": [
    "dd = Dict(\"a\"=> 1,\n",
    "\"b\"=> 2, \"c\"=> 3)"
   ]
  },
  {
   "cell_type": "code",
   "execution_count": 113,
   "metadata": {},
   "outputs": [
    {
     "data": {
      "text/plain": [
       "10-element Array{String,1}:\n",
       " \"eq_min_val\"      \n",
       " \"e0\"              \n",
       " \"eq_max\"          \n",
       " \"eq_deriv\"        \n",
       " \"eq_vals\"         \n",
       " \"eq_deriv_min_val\"\n",
       " \"eq_pchip\"        \n",
       " \"eq_vb\"           \n",
       " \"eq_negative\"     \n",
       " \"eq_pchip_deriv\"  "
      ]
     },
     "execution_count": 113,
     "metadata": {},
     "output_type": "execute_result"
    }
   ],
   "source": [
    "[k for (k,v) in eq_dict]"
   ]
  },
  {
   "cell_type": "code",
   "execution_count": 119,
   "metadata": {},
   "outputs": [
    {
     "data": {
      "text/plain": [
       "16-element Array{Any,1}:\n",
       "  #undef                                                                                                                                                                                                                                                            \n",
       "   -0.155016                                                                                                                                                                                                                                                        \n",
       "   -0.0934278                                                                                                                                                                                                                                                       \n",
       "  #undef                                                                                                                                                                                                                                                            \n",
       "  #undef                                                                                                                                                                                                                                                            \n",
       "  514.298                                                                                                                                                                                                                                                           \n",
       "   -1.12151                                                                                                                                                                                                                                                         \n",
       "     [514.298, 171.43, -0.155016, -0.154952, -0.154888, -0.154824, -0.15476, -0.154696, -0.154632, -0.154568  …  -0.0819882, -0.0819529, -0.0819176, -0.0818823, -0.0818469, -0.0818115, -0.081776, -0.0817405, -0.081705, 0.0]                                     \n",
       "  -20.9697                                                                                                                                                                                                                                                          \n",
       "     [-0.109627, -0.146693, -5.50271e9, -6.23788e10, -2.34474e11, -5.85716e11, -1.18003e12, -2.08136e12, -3.35361e12, -5.06072e12  …  -3.51602e19, -3.52311e19, -3.53021e19, -3.53732e19, -3.54444e19, -3.55156e19, -3.5587e19, -3.56585e19, -3.573e19, -3.58017e19]\n",
       "    0.0                                                                                                                                                                                                                                                             \n",
       "  #undef                                                                                                                                                                                                                                                            \n",
       "  #undef                                                                                                                                                                                                                                                            \n",
       " true                                                                                                                                                                                                                                                               \n",
       "     [-1.12151, -0.405321, 0.10796, -0.0293704, 0.00737452, -0.0024556, 0.000175727, -0.000527107, -0.000337885, -0.00038736  …  -0.00790719, 0.029099, -0.108807, 0.405112, -1.51005, 5.62697, -20.9697, 78.1547, 332.841, 452.645]                                \n",
       "  #undef                                                                                                                                                                                                                                                            "
      ]
     },
     "execution_count": 119,
     "metadata": {},
     "output_type": "execute_result"
    }
   ],
   "source": [
    "eq_dict.vals"
   ]
  },
  {
   "cell_type": "code",
   "execution_count": 118,
   "metadata": {},
   "outputs": [
    {
     "ename": "LoadError",
     "evalue": "\u001b[91mUndefRefError: access to undefined reference\u001b[39m",
     "output_type": "error",
     "traceback": [
      "\u001b[91mUndefRefError: access to undefined reference\u001b[39m",
      "",
      "Stacktrace:",
      " [1] \u001b[1mnext\u001b[22m\u001b[22m at \u001b[1m./generator.jl:44\u001b[22m\u001b[22m [inlined]",
      " [2] \u001b[1mcollect\u001b[22m\u001b[22m\u001b[1m(\u001b[22m\u001b[22m::Base.Generator{Array{Any,1},##279#280}\u001b[1m)\u001b[22m\u001b[22m at \u001b[1m./array.jl:441\u001b[22m\u001b[22m",
      " [3] \u001b[1minclude_string\u001b[22m\u001b[22m\u001b[1m(\u001b[22m\u001b[22m::String, ::String\u001b[1m)\u001b[22m\u001b[22m at \u001b[1m./loading.jl:515\u001b[22m\u001b[22m"
     ]
    }
   ],
   "source": [
    "DataFrame([k for k in eq_dict.vals])"
   ]
  },
  {
   "cell_type": "code",
   "execution_count": 117,
   "metadata": {},
   "outputs": [
    {
     "data": {
      "text/html": [
       "<table class=\"data-frame\"><thead><tr><th></th><th>x1</th><th>x2</th><th>x3</th><th>x4</th><th>x5</th><th>x6</th><th>x7</th><th>x8</th><th>x9</th><th>x10</th></tr></thead><tbody><tr><th>1</th><td>-0.155016</td><td>-0.0934278</td><td>514.298</td><td>-1.12151</td><td>514.298</td><td>-20.9697</td><td>-0.109627</td><td>0.0</td><td>true</td><td>-1.12151</td></tr><tr><th>2</th><td>-0.155016</td><td>-0.0934278</td><td>514.298</td><td>-1.12151</td><td>171.43</td><td>-20.9697</td><td>-0.146693</td><td>0.0</td><td>true</td><td>-0.405321</td></tr><tr><th>3</th><td>-0.155016</td><td>-0.0934278</td><td>514.298</td><td>-1.12151</td><td>-0.155016</td><td>-20.9697</td><td>-5.50271e9</td><td>0.0</td><td>true</td><td>0.10796</td></tr><tr><th>4</th><td>-0.155016</td><td>-0.0934278</td><td>514.298</td><td>-1.12151</td><td>-0.154952</td><td>-20.9697</td><td>-6.23788e10</td><td>0.0</td><td>true</td><td>-0.0293704</td></tr><tr><th>5</th><td>-0.155016</td><td>-0.0934278</td><td>514.298</td><td>-1.12151</td><td>-0.154888</td><td>-20.9697</td><td>-2.34474e11</td><td>0.0</td><td>true</td><td>0.00737452</td></tr><tr><th>6</th><td>-0.155016</td><td>-0.0934278</td><td>514.298</td><td>-1.12151</td><td>-0.154824</td><td>-20.9697</td><td>-5.85716e11</td><td>0.0</td><td>true</td><td>-0.0024556</td></tr><tr><th>7</th><td>-0.155016</td><td>-0.0934278</td><td>514.298</td><td>-1.12151</td><td>-0.15476</td><td>-20.9697</td><td>-1.18003e12</td><td>0.0</td><td>true</td><td>0.000175727</td></tr><tr><th>8</th><td>-0.155016</td><td>-0.0934278</td><td>514.298</td><td>-1.12151</td><td>-0.154696</td><td>-20.9697</td><td>-2.08136e12</td><td>0.0</td><td>true</td><td>-0.000527107</td></tr><tr><th>9</th><td>-0.155016</td><td>-0.0934278</td><td>514.298</td><td>-1.12151</td><td>-0.154632</td><td>-20.9697</td><td>-3.35361e12</td><td>0.0</td><td>true</td><td>-0.000337885</td></tr><tr><th>10</th><td>-0.155016</td><td>-0.0934278</td><td>514.298</td><td>-1.12151</td><td>-0.154568</td><td>-20.9697</td><td>-5.06072e12</td><td>0.0</td><td>true</td><td>-0.00038736</td></tr><tr><th>11</th><td>-0.155016</td><td>-0.0934278</td><td>514.298</td><td>-1.12151</td><td>-0.154505</td><td>-20.9697</td><td>-7.26662e12</td><td>0.0</td><td>true</td><td>-0.00037299</td></tr><tr><th>12</th><td>-0.155016</td><td>-0.0934278</td><td>514.298</td><td>-1.12151</td><td>-0.154441</td><td>-20.9697</td><td>-1.00352e13</td><td>0.0</td><td>true</td><td>-0.000375724</td></tr><tr><th>13</th><td>-0.155016</td><td>-0.0934278</td><td>514.298</td><td>-1.12151</td><td>-0.154377</td><td>-20.9697</td><td>-1.34305e13</td><td>0.0</td><td>true</td><td>-0.000373902</td></tr><tr><th>14</th><td>-0.155016</td><td>-0.0934278</td><td>514.298</td><td>-1.12151</td><td>-0.154313</td><td>-20.9697</td><td>-1.75163e13</td><td>0.0</td><td>true</td><td>-0.00037332</td></tr><tr><th>15</th><td>-0.155016</td><td>-0.0934278</td><td>514.298</td><td>-1.12151</td><td>-0.154249</td><td>-20.9697</td><td>-2.23567e13</td><td>0.0</td><td>true</td><td>-0.000372427</td></tr><tr><th>16</th><td>-0.155016</td><td>-0.0934278</td><td>514.298</td><td>-1.12151</td><td>-0.154185</td><td>-20.9697</td><td>-2.80154e13</td><td>0.0</td><td>true</td><td>-0.000371638</td></tr><tr><th>17</th><td>-0.155016</td><td>-0.0934278</td><td>514.298</td><td>-1.12151</td><td>-0.154122</td><td>-20.9697</td><td>-3.45565e13</td><td>0.0</td><td>true</td><td>-0.000370841</td></tr><tr><th>18</th><td>-0.155016</td><td>-0.0934278</td><td>514.298</td><td>-1.12151</td><td>-0.154058</td><td>-20.9697</td><td>-4.20439e13</td><td>0.0</td><td>true</td><td>-0.000370067</td></tr><tr><th>19</th><td>-0.155016</td><td>-0.0934278</td><td>514.298</td><td>-1.12151</td><td>-0.153994</td><td>-20.9697</td><td>-5.05415e13</td><td>0.0</td><td>true</td><td>-0.000369307</td></tr><tr><th>20</th><td>-0.155016</td><td>-0.0934278</td><td>514.298</td><td>-1.12151</td><td>-0.153931</td><td>-20.9697</td><td>-6.01133e13</td><td>0.0</td><td>true</td><td>-0.000368563</td></tr><tr><th>21</th><td>-0.155016</td><td>-0.0934278</td><td>514.298</td><td>-1.12151</td><td>-0.153867</td><td>-20.9697</td><td>-7.08231e13</td><td>0.0</td><td>true</td><td>-0.000367836</td></tr><tr><th>22</th><td>-0.155016</td><td>-0.0934278</td><td>514.298</td><td>-1.12151</td><td>-0.153803</td><td>-20.9697</td><td>-8.27349e13</td><td>0.0</td><td>true</td><td>-0.000367124</td></tr><tr><th>23</th><td>-0.155016</td><td>-0.0934278</td><td>514.298</td><td>-1.12151</td><td>-0.15374</td><td>-20.9697</td><td>-9.59126e13</td><td>0.0</td><td>true</td><td>-0.000366427</td></tr><tr><th>24</th><td>-0.155016</td><td>-0.0934278</td><td>514.298</td><td>-1.12151</td><td>-0.153676</td><td>-20.9697</td><td>-1.1042e14</td><td>0.0</td><td>true</td><td>-0.000365747</td></tr><tr><th>25</th><td>-0.155016</td><td>-0.0934278</td><td>514.298</td><td>-1.12151</td><td>-0.153612</td><td>-20.9697</td><td>-1.26322e14</td><td>0.0</td><td>true</td><td>-0.000365082</td></tr><tr><th>26</th><td>-0.155016</td><td>-0.0934278</td><td>514.298</td><td>-1.12151</td><td>-0.153549</td><td>-20.9697</td><td>-1.43681e14</td><td>0.0</td><td>true</td><td>-0.000364432</td></tr><tr><th>27</th><td>-0.155016</td><td>-0.0934278</td><td>514.298</td><td>-1.12151</td><td>-0.153485</td><td>-20.9697</td><td>-1.62561e14</td><td>0.0</td><td>true</td><td>-0.000363798</td></tr><tr><th>28</th><td>-0.155016</td><td>-0.0934278</td><td>514.298</td><td>-1.12151</td><td>-0.153422</td><td>-20.9697</td><td>-1.83028e14</td><td>0.0</td><td>true</td><td>-0.000363179</td></tr><tr><th>29</th><td>-0.155016</td><td>-0.0934278</td><td>514.298</td><td>-1.12151</td><td>-0.153358</td><td>-20.9697</td><td>-2.05143e14</td><td>0.0</td><td>true</td><td>-0.000362576</td></tr><tr><th>30</th><td>-0.155016</td><td>-0.0934278</td><td>514.298</td><td>-1.12151</td><td>-0.153295</td><td>-20.9697</td><td>-2.28973e14</td><td>0.0</td><td>true</td><td>-0.000361988</td></tr><tr><th>&vellip;</th><td>&vellip;</td><td>&vellip;</td><td>&vellip;</td><td>&vellip;</td><td>&vellip;</td><td>&vellip;</td><td>&vellip;</td><td>&vellip;</td><td>&vellip;</td><td>&vellip;</td></tr></tbody></table>"
      ],
      "text/plain": [
       "1500×10 DataFrames.DataFrame. Omitted printing of 4 columns\n",
       "│ Row  │ x1        │ x2         │ x3      │ x4       │ x5         │ x6       │\n",
       "├──────┼───────────┼────────────┼─────────┼──────────┼────────────┼──────────┤\n",
       "│ 1    │ -0.155016 │ -0.0934278 │ 514.298 │ -1.12151 │ 514.298    │ -20.9697 │\n",
       "│ 2    │ -0.155016 │ -0.0934278 │ 514.298 │ -1.12151 │ 171.43     │ -20.9697 │\n",
       "│ 3    │ -0.155016 │ -0.0934278 │ 514.298 │ -1.12151 │ -0.155016  │ -20.9697 │\n",
       "│ 4    │ -0.155016 │ -0.0934278 │ 514.298 │ -1.12151 │ -0.154952  │ -20.9697 │\n",
       "│ 5    │ -0.155016 │ -0.0934278 │ 514.298 │ -1.12151 │ -0.154888  │ -20.9697 │\n",
       "│ 6    │ -0.155016 │ -0.0934278 │ 514.298 │ -1.12151 │ -0.154824  │ -20.9697 │\n",
       "│ 7    │ -0.155016 │ -0.0934278 │ 514.298 │ -1.12151 │ -0.15476   │ -20.9697 │\n",
       "│ 8    │ -0.155016 │ -0.0934278 │ 514.298 │ -1.12151 │ -0.154696  │ -20.9697 │\n",
       "│ 9    │ -0.155016 │ -0.0934278 │ 514.298 │ -1.12151 │ -0.154632  │ -20.9697 │\n",
       "│ 10   │ -0.155016 │ -0.0934278 │ 514.298 │ -1.12151 │ -0.154568  │ -20.9697 │\n",
       "│ 11   │ -0.155016 │ -0.0934278 │ 514.298 │ -1.12151 │ -0.154505  │ -20.9697 │\n",
       "⋮\n",
       "│ 1489 │ -0.155016 │ -0.0934278 │ 514.298 │ -1.12151 │ -0.0820587 │ -20.9697 │\n",
       "│ 1490 │ -0.155016 │ -0.0934278 │ 514.298 │ -1.12151 │ -0.0820235 │ -20.9697 │\n",
       "│ 1491 │ -0.155016 │ -0.0934278 │ 514.298 │ -1.12151 │ -0.0819882 │ -20.9697 │\n",
       "│ 1492 │ -0.155016 │ -0.0934278 │ 514.298 │ -1.12151 │ -0.0819529 │ -20.9697 │\n",
       "│ 1493 │ -0.155016 │ -0.0934278 │ 514.298 │ -1.12151 │ -0.0819176 │ -20.9697 │\n",
       "│ 1494 │ -0.155016 │ -0.0934278 │ 514.298 │ -1.12151 │ -0.0818823 │ -20.9697 │\n",
       "│ 1495 │ -0.155016 │ -0.0934278 │ 514.298 │ -1.12151 │ -0.0818469 │ -20.9697 │\n",
       "│ 1496 │ -0.155016 │ -0.0934278 │ 514.298 │ -1.12151 │ -0.0818115 │ -20.9697 │\n",
       "│ 1497 │ -0.155016 │ -0.0934278 │ 514.298 │ -1.12151 │ -0.081776  │ -20.9697 │\n",
       "│ 1498 │ -0.155016 │ -0.0934278 │ 514.298 │ -1.12151 │ -0.0817405 │ -20.9697 │\n",
       "│ 1499 │ -0.155016 │ -0.0934278 │ 514.298 │ -1.12151 │ -0.081705  │ -20.9697 │\n",
       "│ 1500 │ -0.155016 │ -0.0934278 │ 514.298 │ -1.12151 │ 0.0        │ -20.9697 │"
      ]
     },
     "execution_count": 117,
     "metadata": {},
     "output_type": "execute_result"
    },
    {
     "name": "stderr",
     "output_type": "stream",
     "text": [
      "\u001b[1m\u001b[33mWARNING: \u001b[39m\u001b[22m\u001b[33mpassing columns argument with non-AbstractVector entries is deprecated\u001b[39m\n",
      "Stacktrace:\n",
      " [1] \u001b[1mdepwarn\u001b[22m\u001b[22m\u001b[1m(\u001b[22m\u001b[22m::String, ::Symbol\u001b[1m)\u001b[22m\u001b[22m at \u001b[1m./deprecated.jl:70\u001b[22m\u001b[22m\n",
      " [2] \u001b[1m#DataFrame#62\u001b[22m\u001b[22m\u001b[1m(\u001b[22m\u001b[22m::Bool, ::Type{T} where T, ::Array{Any,1}, ::Array{Symbol,1}\u001b[1m)\u001b[22m\u001b[22m at \u001b[1m/home/artur/.julia/v0.6/DataFrames/src/dataframe/dataframe.jl:154\u001b[22m\u001b[22m\n",
      " [3] \u001b[1mDataFrames.DataFrame\u001b[22m\u001b[22m\u001b[1m(\u001b[22m\u001b[22m::Array{Any,1}\u001b[1m)\u001b[22m\u001b[22m at \u001b[1m/home/artur/.julia/v0.6/DataFrames/src/dataframe/dataframe.jl:152\u001b[22m\u001b[22m\n",
      " [4] \u001b[1minclude_string\u001b[22m\u001b[22m\u001b[1m(\u001b[22m\u001b[22m::String, ::String\u001b[1m)\u001b[22m\u001b[22m at \u001b[1m./loading.jl:515\u001b[22m\u001b[22m\n",
      " [5] \u001b[1minclude_string\u001b[22m\u001b[22m\u001b[1m(\u001b[22m\u001b[22m::Module, ::String, ::String\u001b[1m)\u001b[22m\u001b[22m at \u001b[1m/home/artur/.julia/v0.6/Compat/src/Compat.jl:88\u001b[22m\u001b[22m\n",
      " [6] \u001b[1mexecute_request\u001b[22m\u001b[22m\u001b[1m(\u001b[22m\u001b[22m::ZMQ.Socket, ::IJulia.Msg\u001b[1m)\u001b[22m\u001b[22m at \u001b[1m/home/artur/.julia/v0.6/IJulia/src/execute_request.jl:180\u001b[22m\u001b[22m\n",
      " [7] \u001b[1m(::Compat.#inner#14{Array{Any,1},IJulia.#execute_request,Tuple{ZMQ.Socket,IJulia.Msg}})\u001b[22m\u001b[22m\u001b[1m(\u001b[22m\u001b[22m\u001b[1m)\u001b[22m\u001b[22m at \u001b[1m/home/artur/.julia/v0.6/Compat/src/Compat.jl:332\u001b[22m\u001b[22m\n",
      " [8] \u001b[1meventloop\u001b[22m\u001b[22m\u001b[1m(\u001b[22m\u001b[22m::ZMQ.Socket\u001b[1m)\u001b[22m\u001b[22m at \u001b[1m/home/artur/.julia/v0.6/IJulia/src/eventloop.jl:8\u001b[22m\u001b[22m\n",
      " [9] \u001b[1m(::IJulia.##15#18)\u001b[22m\u001b[22m\u001b[1m(\u001b[22m\u001b[22m\u001b[1m)\u001b[22m\u001b[22m at \u001b[1m./task.jl:335\u001b[22m\u001b[22m\n",
      "while loading In[117], in expression starting on line 1\n"
     ]
    }
   ],
   "source": [
    "DataFrame([k= v for (k,v) in eq_dict])A"
   ]
  },
  {
   "cell_type": "code",
   "execution_count": 109,
   "metadata": {},
   "outputs": [
    {
     "data": {
      "text/markdown": [
       "No documentation found.\n",
       "\n",
       "Binding `DataFrames.Dataframe` does not exist.\n"
      ],
      "text/plain": [
       "No documentation found.\n",
       "\n",
       "Binding `DataFrames.Dataframe` does not exist.\n"
      ]
     },
     "execution_count": 109,
     "metadata": {},
     "output_type": "execute_result"
    }
   ],
   "source": [
    "DataFrames.Dataframe(eq_dict.vals, eq_dict.keys)"
   ]
  },
  {
   "cell_type": "code",
   "execution_count": 310,
   "metadata": {},
   "outputs": [
    {
     "data": {
      "text/plain": [
       "60.85625263001972"
      ]
     },
     "execution_count": 310,
     "metadata": {},
     "output_type": "execute_result"
    },
    {
     "name": "stdout",
     "output_type": "stream",
     "text": [
      "shape Gamma: (1498,)\n",
      "shape eq_vals: (1500,)\n",
      "shape v_grid: (1500,)\n",
      "shape eq_interp_itp: (1500,)\n",
      "shape eq_pchip_deriv: (1500,)\n"
     ]
    }
   ],
   "source": [
    "BondPrInterp.bondpr(svm, svm.V0, vbl, svm.pm.m, .8, \n",
    "                    f0mat, f1mat, f2mat, f3mat, fd_method=false)"
   ]
  },
  {
   "cell_type": "code",
   "execution_count": 241,
   "metadata": {},
   "outputs": [
    {
     "data": {
      "text/plain": [
       "0.05:0.05:1.0"
      ]
     },
     "execution_count": 241,
     "metadata": {},
     "output_type": "execute_result"
    },
    {
     "name": "stdout",
     "output_type": "stream",
     "text": [
      "shape Gamma: (1498,)\n",
      "shape eq_vals: (1500,)\n",
      "shape v_grid: (1500,)\n",
      "shape eq_interp_itp: (1500,)\n"
     ]
    }
   ],
   "source": [
    "gu2 = BondPrInterp.grid_creator(.0, 1., 20)[2]"
   ]
  },
  {
   "cell_type": "code",
   "execution_count": 122,
   "metadata": {},
   "outputs": [
    {
     "ename": "LoadError",
     "evalue": "\u001b[91mKeyError: key String[\"eq_min_val\", \"e0\", \"eq_max\"] not found\u001b[39m",
     "output_type": "error",
     "traceback": [
      "\u001b[91mKeyError: key String[\"eq_min_val\", \"e0\", \"eq_max\"] not found\u001b[39m",
      "",
      "Stacktrace:",
      " [1] \u001b[1mgetindex\u001b[22m\u001b[22m\u001b[1m(\u001b[22m\u001b[22m::Dict{String,Any}, ::Array{String,1}\u001b[1m)\u001b[22m\u001b[22m at \u001b[1m./dict.jl:474\u001b[22m\u001b[22m",
      " [2] \u001b[1minclude_string\u001b[22m\u001b[22m\u001b[1m(\u001b[22m\u001b[22m::String, ::String\u001b[1m)\u001b[22m\u001b[22m at \u001b[1m./loading.jl:515\u001b[22m\u001b[22m"
     ]
    }
   ],
   "source": [
    "eq_dict[[\"eq_min_val\", \"e0\", \"eq_max\"]]"
   ]
  },
  {
   "cell_type": "code",
   "execution_count": null,
   "metadata": {
    "collapsed": true
   },
   "outputs": [],
   "source": [
    "f0fd, f1fd, f2fd, f3fd = @time bondpr_interp(svm) "
   ]
  },
  {
   "cell_type": "code",
   "execution_count": null,
   "metadata": {
    "collapsed": true
   },
   "outputs": [],
   "source": [
    "f0fd[.8]"
   ]
  },
  {
   "cell_type": "code",
   "execution_count": null,
   "metadata": {
    "collapsed": true
   },
   "outputs": [],
   "source": [
    "function mat_interp(vt, vbhl, svm; \n",
    "                    vmax=1.2, vN=10^3, \n",
    "                    ttm_max=1.2, ttmN=20, uN=10^3)\n",
    "    \n",
    "    # Capital Structure\n",
    "    m = svm.pm.m\n",
    "    c = svm.c\n",
    "    p = svm.p\n",
    "\n",
    "    # Drift\n",
    "    r = svm.pm.r\n",
    "    gross_delta = svm.pm.gross_delta\n",
    "    \n",
    "    # Liquidity\n",
    "    xi = svm.pm.xi\n",
    "    kappa = svm.pm.kappa\n",
    "\n",
    "    # Volatility\n",
    "    lambda = svm.pm.lambda \n",
    "    sigmal = svm.pm.sigmal\n",
    "    sigmah = svm.pm.sigmah \n",
    "\n",
    "    \n",
    "    vtmax = .8\n",
    "    vtN = 20\n",
    "    vtgrid = linspace(1e-4, vtmax, vtN)\n",
    "    \n",
    "    ttm_max = 1.2\n",
    "    tau_grid = linspace(1e-3, 1.2, 20)\n",
    "    vmax = 1.5\n",
    "    \n",
    "    f0 = @spawn BondPrInterp.f0_mat(vt, tau_grid, vmax, \n",
    "                                    _lambda, sigmal, \n",
    "                                    c, p, r, gross_delta, \n",
    "                                    xi, kappa; uN=1e3)\n",
    "    \n",
    "    f1 = @spawn BondPrInterp.f1_mat(vt, _lambda, sigmal,\n",
    "                                    r, gross_delta, xi, kappa;\n",
    "                                    vmax=vmax, vN=vN,\n",
    "                                    ttm=ttm_max, uN=uN)\n",
    "        \n",
    "    f2 = @spawn BondPrInterp.f2_mat(vt, vbhl, _lambda, sigmal, sigmah,\n",
    "                                    r, gross_delta, xi, kappa;\n",
    "                                    vmax=vmax, vN=vN, ttm=ttm_max, uN=uN)\n",
    "    \n",
    "    f3 = @spawn BondPrInterp.f3_mat(vt, vbhl, _lambda, sigmal, sigmah,\n",
    "                                    r, gross_delta, xi, kappa;\n",
    "                                    vmax=vmax, vN=vN, ttm=ttm_max, uN=uN)\n",
    "    \n",
    "    return fetch(f0), fetch(f1), fetch(f2), fetch(f3)\n",
    "    # return f0, f1, f2, f3\n",
    "end"
   ]
  },
  {
   "cell_type": "code",
   "execution_count": null,
   "metadata": {
    "collapsed": true
   },
   "outputs": [],
   "source": []
  },
  {
   "cell_type": "code",
   "execution_count": null,
   "metadata": {
    "collapsed": true
   },
   "outputs": [],
   "source": []
  },
  {
   "cell_type": "code",
   "execution_count": null,
   "metadata": {
    "collapsed": true
   },
   "outputs": [],
   "source": []
  }
 ],
 "metadata": {
  "kernelspec": {
   "display_name": "Julia 1.0.0",
   "language": "julia",
   "name": "julia-1.0"
  },
  "language_info": {
   "file_extension": ".jl",
   "mimetype": "application/julia",
   "name": "julia",
   "version": "1.0.0"
  }
 },
 "nbformat": 4,
 "nbformat_minor": 2
}
