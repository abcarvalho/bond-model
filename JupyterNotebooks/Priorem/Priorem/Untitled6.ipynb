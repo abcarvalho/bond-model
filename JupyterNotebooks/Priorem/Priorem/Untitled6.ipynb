{
 "cells": [
  {
   "cell_type": "code",
   "execution_count": 1,
   "metadata": {},
   "outputs": [
    {
     "data": {
      "text/plain": [
       "4-element Array{String,1}:\n",
       " \"@\"                                     \n",
       " \"@v#.#\"                                 \n",
       " \"@stdlib\"                               \n",
       " \"/home/artur/BondPricing/Julia/modules/\""
      ]
     },
     "execution_count": 1,
     "metadata": {},
     "output_type": "execute_result"
    }
   ],
   "source": [
    "push!(LOAD_PATH, \"/home/artur/BondPricing/Julia/modules/\")"
   ]
  },
  {
   "cell_type": "code",
   "execution_count": null,
   "metadata": {},
   "outputs": [],
   "source": []
  },
  {
   "cell_type": "code",
   "execution_count": 2,
   "metadata": {},
   "outputs": [
    {
     "name": "stderr",
     "output_type": "stream",
     "text": [
      "┌ Info: Recompiling stale cache file /home/artur/.julia/compiled/v1.0/Parameters/ycYNs.ji for Parameters [d96e819e-fc66-5662-9728-84c9c7592b0a]\n",
      "└ @ Base loading.jl:1190\n",
      "┌ Info: Recompiling stale cache file /home/artur/.julia/compiled/v1.0/Distributions/xILW0.ji for Distributions [31c24e10-a181-5473-b8eb-7969acd0382f]\n",
      "└ @ Base loading.jl:1190\n",
      "ERROR: LoadError: No deps.jl file could be found. Please try running Pkg.build(\"Arpack\").\n",
      "Currently, the build command might fail when Julia has been built from source\n",
      "and the recommendation is to use the official binaries from julialang.org.\n",
      "For more info see https://github.com/JuliaLinearAlgebra/Arpack.jl/issues/5.\n",
      "\n",
      "Stacktrace:\n",
      " [1] top-level scope at /home/artur/.julia/packages/Arpack/UiiMc/src/Arpack.jl:19\n",
      " [2] include at ./boot.jl:317 [inlined]\n",
      " [3] include_relative(::Module, ::String) at ./loading.jl:1044\n",
      " [4] include(::Module, ::String) at ./sysimg.jl:29\n",
      " [5] top-level scope at none:2\n",
      " [6] eval at ./boot.jl:319 [inlined]\n",
      " [7] eval(::Expr) at ./client.jl:393\n",
      " [8] top-level scope at ./none:3\n",
      "in expression starting at /home/artur/.julia/packages/Arpack/UiiMc/src/Arpack.jl:16\n",
      "ERROR: LoadError: LoadError: Failed to precompile Arpack [7d9fca2a-8960-54d3-9f78-7d1dccf2cb97] to /home/artur/.julia/compiled/v1.0/Arpack/X5VZL.ji.\n",
      "Stacktrace:\n",
      " [1] error(::String) at ./error.jl:33\n",
      " [2] macro expansion at ./logging.jl:311 [inlined]\n",
      " [3] compilecache(::Base.PkgId, ::String) at ./loading.jl:1190\n",
      " [4] _require(::Base.PkgId) at ./logging.jl:309\n",
      " [5] require(::Base.PkgId) at ./loading.jl:858\n",
      " [6] macro expansion at ./logging.jl:309 [inlined]\n",
      " [7] require(::Module, ::Symbol) at ./loading.jl:840\n",
      " [8] include at ./boot.jl:317 [inlined]\n",
      " [9] include_relative(::Module, ::String) at ./loading.jl:1044\n",
      " [10] include at ./sysimg.jl:29 [inlined]\n",
      " [11] include(::String) at /home/artur/.julia/packages/PDMats/Kouno/src/PDMats.jl:1\n",
      " [12] top-level scope at /home/artur/.julia/packages/PDMats/Kouno/src/PDMats.jl:52\n",
      " [13] include at ./boot.jl:317 [inlined]\n",
      " [14] include_relative(::Module, ::String) at ./loading.jl:1044\n",
      " [15] include(::Module, ::String) at ./sysimg.jl:29\n",
      " [16] top-level scope at none:2\n",
      " [17] eval at ./boot.jl:319 [inlined]\n",
      " [18] eval(::Expr) at ./client.jl:393\n",
      " [19] top-level scope at ./none:3\n",
      "in expression starting at /home/artur/.julia/packages/PDMats/Kouno/src/pdsparsemat.jl:1\n",
      "in expression starting at /home/artur/.julia/packages/PDMats/Kouno/src/PDMats.jl:51\n",
      "ERROR: LoadError: Failed to precompile PDMats [90014a1f-27ba-587c-ab20-58faa44d9150] to /home/artur/.julia/compiled/v1.0/PDMats/wuzEE.ji.\n",
      "Stacktrace:\n",
      " [1] error(::String) at ./error.jl:33\n",
      " [2] macro expansion at ./logging.jl:311 [inlined]\n",
      " [3] compilecache(::Base.PkgId, ::String) at ./loading.jl:1190\n",
      " [4] _require(::Base.PkgId) at ./logging.jl:309\n",
      " [5] require(::Base.PkgId) at ./loading.jl:858\n",
      " [6] macro expansion at ./logging.jl:309 [inlined]\n",
      " [7] require(::Module, ::Symbol) at ./loading.jl:840\n",
      " [8] include at ./boot.jl:317 [inlined]\n",
      " [9] include_relative(::Module, ::String) at ./loading.jl:1044\n",
      " [10] include(::Module, ::String) at ./sysimg.jl:29\n",
      " [11] top-level scope at none:2\n",
      " [12] eval at ./boot.jl:319 [inlined]\n",
      " [13] eval(::Expr) at ./client.jl:393\n",
      " [14] top-level scope at ./none:3\n",
      "in expression starting at /home/artur/.julia/packages/Distributions/WHjOk/src/Distributions.jl:3\n"
     ]
    },
    {
     "ename": "LoadError",
     "evalue": "Failed to precompile Distributions [31c24e10-a181-5473-b8eb-7969acd0382f] to /home/artur/.julia/compiled/v1.0/Distributions/xILW0.ji.",
     "output_type": "error",
     "traceback": [
      "Failed to precompile Distributions [31c24e10-a181-5473-b8eb-7969acd0382f] to /home/artur/.julia/compiled/v1.0/Distributions/xILW0.ji.",
      "",
      "Stacktrace:",
      " [1] error(::String) at ./error.jl:33",
      " [2] macro expansion at ./logging.jl:311 [inlined]",
      " [3] compilecache(::Base.PkgId, ::String) at ./loading.jl:1190",
      " [4] macro expansion at ./logging.jl:309 [inlined]",
      " [5] _require(::Base.PkgId) at ./loading.jl:947",
      " [6] require(::Base.PkgId) at ./loading.jl:858",
      " [7] macro expansion at ./logging.jl:309 [inlined]",
      " [8] require(::Module, ::Symbol) at ./loading.jl:840",
      " [9] include at ./boot.jl:317 [inlined]",
      " [10] include_relative(::Module, ::String) at ./loading.jl:1044",
      " [11] include(::Module, ::String) at ./sysimg.jl:29",
      " [12] include(::String) at ./client.jl:392",
      " [13] top-level scope at In[2]:2"
     ]
    }
   ],
   "source": [
    "include(string(LOAD_PATH[end], \"ModelObj.jl\"))\n",
    "# include(string(LOAD_PATH[end], \"AnalyticFunctions/AnalyticFunctions.jl\"))\n",
    "# include(string(LOAD_PATH[end], \"BondPrInterp/BondPrInterp.jl\"))"
   ]
  },
  {
   "cell_type": "code",
   "execution_count": null,
   "metadata": {},
   "outputs": [],
   "source": []
  }
 ],
 "metadata": {
  "kernelspec": {
   "display_name": "Julia 1.0.2",
   "language": "julia",
   "name": "julia-1.0"
  },
  "language_info": {
   "file_extension": ".jl",
   "mimetype": "application/julia",
   "name": "julia",
   "version": "1.0.2"
  }
 },
 "nbformat": 4,
 "nbformat_minor": 2
}
