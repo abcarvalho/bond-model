{
 "cells": [
  {
   "cell_type": "code",
   "execution_count": 1,
   "metadata": {
    "collapsed": true
   },
   "outputs": [],
   "source": [
    "workspace()"
   ]
  },
  {
   "cell_type": "code",
   "execution_count": 2,
   "metadata": {},
   "outputs": [
    {
     "data": {
      "text/plain": [
       "count_heads (generic function with 1 method)"
      ]
     },
     "execution_count": 2,
     "metadata": {},
     "output_type": "execute_result"
    }
   ],
   "source": [
    "function count_heads(n)\n",
    "    c::Int = 0\n",
    "    for i = 1:n\n",
    "        c += rand(Bool)\n",
    "    end\n",
    "    c\n",
    "end"
   ]
  },
  {
   "cell_type": "code",
   "execution_count": 3,
   "metadata": {},
   "outputs": [
    {
     "name": "stdout",
     "output_type": "stream",
     "text": [
      "elapsed time: 0.570189381 seconds\n"
     ]
    },
    {
     "data": {
      "text/plain": [
       "0.570189381"
      ]
     },
     "execution_count": 3,
     "metadata": {},
     "output_type": "execute_result"
    }
   ],
   "source": [
    "tic()\n",
    "a = @spawn count_heads(100000000)\n",
    "toc()"
   ]
  },
  {
   "cell_type": "code",
   "execution_count": 4,
   "metadata": {},
   "outputs": [
    {
     "name": "stdout",
     "output_type": "stream",
     "text": [
      "elapsed time: 0.068417063 seconds\n"
     ]
    },
    {
     "data": {
      "text/plain": [
       "50004425"
      ]
     },
     "execution_count": 4,
     "metadata": {},
     "output_type": "execute_result"
    }
   ],
   "source": [
    "tic()\n",
    "b = fetch(a)\n",
    "toc()\n",
    "\n",
    "b"
   ]
  },
  {
   "cell_type": "code",
   "execution_count": 2,
   "metadata": {},
   "outputs": [
    {
     "data": {
      "text/plain": [
       "afun"
      ]
     },
     "execution_count": 2,
     "metadata": {},
     "output_type": "execute_result"
    }
   ],
   "source": [
    "push!(LOAD_PATH, \"/home/artur/BondPricing/Julia\")\n",
    "include(\"analytic_functions.jl\")"
   ]
  },
  {
   "cell_type": "code",
   "execution_count": 31,
   "metadata": {},
   "outputs": [
    {
     "name": "stderr",
     "output_type": "stream",
     "text": [
      "WARNING: replacing module afun\n",
      "WARNING: replacing module afun\n",
      "WARNING: requiring \"analytic_functions\" in module \"Main\" did not define a corresponding module.\n"
     ]
    }
   ],
   "source": [
    "\n",
    "# Pkg.add(\"analytic_functions\")\n",
    "# using analytic_functions\n",
    "\n",
    "# workspace()\n",
    "# workspace()\n",
    "reload(\"analytic_functions\")\n",
    "using analytic_functions\n",
    "# const af = analytic_functions\n",
    " "
   ]
  },
  {
   "cell_type": "code",
   "execution_count": 1,
   "metadata": {},
   "outputs": [
    {
     "data": {
      "text/plain": [
       "Dict{String,Any} with 15 entries:\n",
       "  \"c\"           => 6.39\n",
       "  \"vbh\"         => 62\n",
       "  \"vb\"          => 60\n",
       "  \"sigmah\"      => 0.25\n",
       "  \"r\"           => 0.08\n",
       "  \"gross_delta\" => 0.02\n",
       "  \"sigmal\"      => 0.25\n",
       "  \"kappa\"       => 0.015\n",
       "  \"lambda\"      => 0.3\n",
       "  \"xi\"          => 1.0\n",
       "  \"alpha\"       => 0.6\n",
       "  \"iota\"        => 0.0\n",
       "  \"pi\"          => 0.27\n",
       "  \"m\"           => 1.0\n",
       "  \"p\"           => 61.68"
      ]
     },
     "execution_count": 1,
     "metadata": {},
     "output_type": "execute_result"
    }
   ],
   "source": [
    "pardict = Dict(\"vb\" => 60, \n",
    "               \"vbh\" => 62, \n",
    "                \"m\" => 1.,\n",
    "                \"c\" => 6.39,\n",
    "                \"p\" => 61.68,\n",
    "                \"sigmal\" => .25,\n",
    "                \"sigmah\" => .25,\n",
    "                \"r\" => .08,\n",
    "                \"gross_delta\" => .02,\n",
    "                \"iota\" => .0,\n",
    "                \"xi\" => 1.,\n",
    "                \"kappa\" => .015,\n",
    "                \"alpha\" => .6,\n",
    "                \"pi\" => .27,\n",
    "                \"lambda\" => .3)"
   ]
  },
  {
   "cell_type": "code",
   "execution_count": 3,
   "metadata": {},
   "outputs": [
    {
     "data": {
      "text/markdown": [
       "No documentation found.\n",
       "\n",
       "`afun.zhi_vb` is a `Function`.\n",
       "\n",
       "```\n",
       "# 1 method for generic function \"zhi_vb\":\n",
       "zhi_vb(m, c, p, sigma, r, gross_delta, iota, xi, k, alpha, pi) in afun at /mnt/ide0/home/artur/BondPricing/Julia/analytic_functions.jl:116\n",
       "```\n"
      ],
      "text/plain": [
       "No documentation found.\n",
       "\n",
       "`afun.zhi_vb` is a `Function`.\n",
       "\n",
       "```\n",
       "# 1 method for generic function \"zhi_vb\":\n",
       "zhi_vb(m, c, p, sigma, r, gross_delta, iota, xi, k, alpha, pi) in afun at /mnt/ide0/home/artur/BondPricing/Julia/analytic_functions.jl:116\n",
       "```\n"
      ]
     },
     "execution_count": 3,
     "metadata": {},
     "output_type": "execute_result"
    }
   ],
   "source": [
    "?afun.zhi_vb()"
   ]
  },
  {
   "cell_type": "code",
   "execution_count": null,
   "metadata": {},
   "outputs": [],
   "source": [
    "function fun_wrapper(V0, ttm, dict)\n",
    "    m = dict[\"m\"]\n",
    "    c = dict[\"c\"]\n",
    "    p = dict[\"p\"]\n",
    "    \n",
    "    r = dict[\"r\"]\n",
    "    gross_delta = dict[\"gross_delta\"]\n",
    "    iota = dict[\"iota\"]\n",
    "    \n",
    "    xi = dict[\"xi\"]\n",
    "    k = dict[\"kappa\"]\n",
    "    \n",
    "    alpha = dict[\"alpha\"]\n",
    "    pi = dict[\"pi\"]\n",
    "    \n",
    "    _lambda = dict[\"lambda\"]\n",
    "    \n",
    "    sigmal = dict[\"sigmal\"]\n",
    "    sigmah = dict[\"sigmah\"]\n",
    "    \n",
    "    sigma = dict[\"sigmal\"]\n",
    "    \n",
    "    vb = afun.zhi_vb(m, c, p, sigma, r, gross_delta, iota, xi, k, alpha, pi)\n",
    "    \n",
    "    vt = log(V0/vb) \n",
    "    \n",
    "    # afun.zhi_bond_price(vb, v, ttm, m, c, p, sigma, r, gross_delta, xi, k, alpha, pi)\n",
    "    \n",
    "    vbh = vb\n",
    "    println(string(\"VBl: \", vb))\n",
    "#     return afun.bond_pr_main(vt, ttm, vb, vbh,\n",
    "#                           m, c, p,\n",
    "#                           r, gross_delta, iota,\n",
    "#                           xi, k, alpha, pi,\n",
    "#                           _lambda, sigmal, sigmah)\n",
    "    ttm_grid_size = 25\n",
    "    return afun.get_debt_price(vt, vb, vbh, ttm_grid_size, \n",
    "                                m, c, p, \n",
    "                                r, gross_delta, iota, \n",
    "                                xi, k, \n",
    "                                alpha, pi, \n",
    "                                _lambda, sigmal, sigmah)\n",
    "    \n",
    "end"
   ]
  },
  {
   "cell_type": "code",
   "execution_count": 28,
   "metadata": {},
   "outputs": [
    {
     "data": {
      "text/markdown": [
       "No documentation found.\n",
       "\n",
       "`afun.get_debt_price` is a `Function`.\n",
       "\n",
       "```\n",
       "# 1 method for generic function \"get_debt_price\":\n",
       "get_debt_price(vt, vb, vbh, ttm_grid_size, m, c, p, r, gross_delta, iota, xi, k, alpha, pi, _lambda, sigmal, sigmah) in afun at /mnt/ide0/home/artur/BondPricing/Julia/analytic_functions.jl:365\n",
       "```\n"
      ],
      "text/plain": [
       "No documentation found.\n",
       "\n",
       "`afun.get_debt_price` is a `Function`.\n",
       "\n",
       "```\n",
       "# 1 method for generic function \"get_debt_price\":\n",
       "get_debt_price(vt, vb, vbh, ttm_grid_size, m, c, p, r, gross_delta, iota, xi, k, alpha, pi, _lambda, sigmal, sigmah) in afun at /mnt/ide0/home/artur/BondPricing/Julia/analytic_functions.jl:365\n",
       "```\n"
      ]
     },
     "execution_count": 28,
     "metadata": {},
     "output_type": "execute_result"
    }
   ],
   "source": [
    "?afun.get_debt_price()"
   ]
  },
  {
   "cell_type": "code",
   "execution_count": 10,
   "metadata": {},
   "outputs": [
    {
     "data": {
      "text/plain": [
       "68.2712712972692"
      ]
     },
     "execution_count": 10,
     "metadata": {},
     "output_type": "execute_result"
    }
   ],
   "source": [
    "fun_wrapper(pardict)"
   ]
  },
  {
   "cell_type": "code",
   "execution_count": 13,
   "metadata": {},
   "outputs": [
    {
     "data": {
      "text/plain": [
       "60.10725970662101"
      ]
     },
     "execution_count": 13,
     "metadata": {},
     "output_type": "execute_result"
    }
   ],
   "source": [
    "fun_wrapper(100, 1, pardict)"
   ]
  },
  {
   "cell_type": "code",
   "execution_count": 14,
   "metadata": {},
   "outputs": [
    {
     "data": {
      "text/plain": [
       "61.42191251146338"
      ]
     },
     "execution_count": 14,
     "metadata": {},
     "output_type": "execute_result"
    }
   ],
   "source": [
    "fun_wrapper(100, .5, pardict)"
   ]
  },
  {
   "cell_type": "code",
   "execution_count": 20,
   "metadata": {},
   "outputs": [
    {
     "data": {
      "text/plain": [
       "60.095339656578176"
      ]
     },
     "execution_count": 20,
     "metadata": {},
     "output_type": "execute_result"
    }
   ],
   "source": [
    "fun_wrapper(100, 1, pardict)"
   ]
  },
  {
   "cell_type": "code",
   "execution_count": 21,
   "metadata": {},
   "outputs": [
    {
     "data": {
      "text/plain": [
       "61.52260095829618"
      ]
     },
     "execution_count": 21,
     "metadata": {},
     "output_type": "execute_result"
    }
   ],
   "source": [
    "fun_wrapper(100, .5, pardict)"
   ]
  },
  {
   "cell_type": "code",
   "execution_count": 26,
   "metadata": {},
   "outputs": [
    {
     "data": {
      "text/plain": [
       "Dict{String,Any} with 16 entries:\n",
       "  \"c\"           => 6.39\n",
       "  \"vbh\"         => 62\n",
       "  \"P\"           => 58.8065\n",
       "  \"vb\"          => 60\n",
       "  \"sigmah\"      => 0.25\n",
       "  \"r\"           => 0.08\n",
       "  \"gross_delta\" => 0.02\n",
       "  \"sigmal\"      => 0.25\n",
       "  \"kappa\"       => 0.015\n",
       "  \"lambda\"      => 0.3\n",
       "  \"xi\"          => 1.0\n",
       "  \"alpha\"       => 0.6\n",
       "  \"iota\"        => 0.0\n",
       "  \"pi\"          => 0.27\n",
       "  \"m\"           => 1.0\n",
       "  \"p\"           => 58.8065"
      ]
     },
     "execution_count": 26,
     "metadata": {},
     "output_type": "execute_result"
    }
   ],
   "source": [
    "pardict[\"p\"]=58.806491\n",
    "pardict"
   ]
  },
  {
   "cell_type": "code",
   "execution_count": null,
   "metadata": {},
   "outputs": [
    {
     "name": "stdout",
     "output_type": "stream",
     "text": [
      "VBl: 64.96307206861947\n",
      "Bond Percentage Difference: 0.0007840254446476012\n"
     ]
    },
    {
     "name": "stderr",
     "output_type": "stream",
     "text": [
      "\u001b[91mERROR (unhandled task failure): \u001b[91mInterruptException:\u001b[39m\n",
      "Stacktrace:\n",
      " [1] \u001b[1mpush!\u001b[22m\u001b[22m at \u001b[1m./array.jl:624\u001b[22m\u001b[22m [inlined]\n",
      " [2] \u001b[1mput_buffered\u001b[22m\u001b[22m\u001b[1m(\u001b[22m\u001b[22m::Channel{Any}, ::Array{Float64,2}\u001b[1m)\u001b[22m\u001b[22m at \u001b[1m./channels.jl:269\u001b[22m\u001b[22m\n",
      " [3] \u001b[1mput!\u001b[22m\u001b[22m\u001b[1m(\u001b[22m\u001b[22m::Channel{Any}, ::Array{Float64,2}\u001b[1m)\u001b[22m\u001b[22m at \u001b[1m./channels.jl:262\u001b[22m\u001b[22m\n",
      " [4] \u001b[1mrun_work_thunk\u001b[22m\u001b[22m\u001b[1m(\u001b[22m\u001b[22m::Base.Distributed.RemoteValue, ::Function\u001b[1m)\u001b[22m\u001b[22m at \u001b[1m./distributed/process_messages.jl:65\u001b[22m\u001b[22m\n",
      " [5] \u001b[1m(::Base.Distributed.##96#98{Base.Distributed.RemoteValue,afun.##3#7{Float64,Float64,Float64,Float64,Float64,Float64,Float64,Float64,Float64,Float64,Float64,Float64,Float64,Float64,Float64,Float64,Int64,Int64}})\u001b[22m\u001b[22m\u001b[1m(\u001b[22m\u001b[22m\u001b[1m)\u001b[22m\u001b[22m at \u001b[1m./event.jl:73\u001b[22m\u001b[22m\n",
      "\u001b[39m"
     ]
    }
   ],
   "source": [
    "fun_wrapper(100, 1, pardict)"
   ]
  },
  {
   "cell_type": "code",
   "execution_count": null,
   "metadata": {
    "collapsed": true
   },
   "outputs": [],
   "source": []
  },
  {
   "cell_type": "code",
   "execution_count": null,
   "metadata": {
    "collapsed": true
   },
   "outputs": [],
   "source": []
  },
  {
   "cell_type": "code",
   "execution_count": null,
   "metadata": {
    "collapsed": true
   },
   "outputs": [],
   "source": []
  },
  {
   "cell_type": "code",
   "execution_count": null,
   "metadata": {
    "collapsed": true
   },
   "outputs": [],
   "source": []
  },
  {
   "cell_type": "code",
   "execution_count": 11,
   "metadata": {},
   "outputs": [
    {
     "data": {
      "text/markdown": [
       "No documentation found.\n",
       "\n",
       "`afun.zhi_bond_price` is a `Function`.\n",
       "\n",
       "```\n",
       "# 1 method for generic function \"zhi_bond_price\":\n",
       "zhi_bond_price(vb, v, ttm, m, c, p, sigma, r, gross_delta, xi, k, alpha, pi) in afun at /mnt/ide0/home/artur/BondPricing/Julia/analytic_functions.jl:66\n",
       "```\n"
      ],
      "text/plain": [
       "No documentation found.\n",
       "\n",
       "`afun.zhi_bond_price` is a `Function`.\n",
       "\n",
       "```\n",
       "# 1 method for generic function \"zhi_bond_price\":\n",
       "zhi_bond_price(vb, v, ttm, m, c, p, sigma, r, gross_delta, xi, k, alpha, pi) in afun at /mnt/ide0/home/artur/BondPricing/Julia/analytic_functions.jl:66\n",
       "```\n"
      ]
     },
     "execution_count": 11,
     "metadata": {},
     "output_type": "execute_result"
    }
   ],
   "source": [
    "?afun.zhi_bond_price()"
   ]
  },
  {
   "cell_type": "code",
   "execution_count": null,
   "metadata": {
    "collapsed": true
   },
   "outputs": [],
   "source": []
  },
  {
   "cell_type": "code",
   "execution_count": null,
   "metadata": {
    "collapsed": true
   },
   "outputs": [],
   "source": []
  },
  {
   "cell_type": "code",
   "execution_count": null,
   "metadata": {
    "collapsed": true
   },
   "outputs": [],
   "source": []
  },
  {
   "cell_type": "code",
   "execution_count": null,
   "metadata": {
    "collapsed": true
   },
   "outputs": [],
   "source": []
  },
  {
   "cell_type": "code",
   "execution_count": 32,
   "metadata": {},
   "outputs": [
    {
     "data": {
      "text/plain": [
       "debt_pr_wrapper (generic function with 1 method)"
      ]
     },
     "execution_count": 32,
     "metadata": {},
     "output_type": "execute_result"
    }
   ],
   "source": [
    "function debt_pr_wrapper(vt, vmax, vb, vbh, ttm_grid_size, dict)\n",
    "   return afun.get_debt_price(vt, vb, vbh, ttm_grid_size,\n",
    "                            dict[\"m\"], dict[\"c\"], dict[\"p\"], \n",
    "                            dict[\"r\"], dict[\"gross_delta\"], dict[\"iota\"], \n",
    "                            dict[\"xi\"], dict[\"kappa\"], dict[\"alpha\"], dict[\"pi\"],\n",
    "                            dict[\"lambda\"], dict[\"sigmal\"], dict[\"sigmah\"]) \n",
    "    \n",
    "end"
   ]
  },
  {
   "cell_type": "code",
   "execution_count": 33,
   "metadata": {},
   "outputs": [
    {
     "name": "stdout",
     "output_type": "stream",
     "text": [
      "Bond Percentage Difference: 0.0008476521062094214\n",
      "elapsed time: 15.031388614 seconds\n"
     ]
    },
    {
     "data": {
      "text/plain": [
       "63.75090819534911"
      ]
     },
     "execution_count": 33,
     "metadata": {},
     "output_type": "execute_result"
    }
   ],
   "source": [
    "tic()\n",
    "a = debt_pr_wrapper(.5, 1.2, 60, 62, 25, pardict)\n",
    "toc()\n",
    "a"
   ]
  },
  {
   "cell_type": "code",
   "execution_count": 45,
   "metadata": {},
   "outputs": [
    {
     "name": "stdout",
     "output_type": "stream",
     "text": [
      "elapsed time: 17.137185347 seconds\n"
     ]
    },
    {
     "data": {
      "text/plain": [
       "63.75092827764202"
      ]
     },
     "execution_count": 45,
     "metadata": {},
     "output_type": "execute_result"
    }
   ],
   "source": [
    "tic()\n",
    "a = debt_pr_wrapper(.5, 1.2, 60, 62, 25, pardict)\n",
    "toc()\n",
    "a"
   ]
  },
  {
   "cell_type": "code",
   "execution_count": 42,
   "metadata": {},
   "outputs": [
    {
     "data": {
      "text/markdown": [
       "`scale(itp, xs, ys, ...)` scales an existing interpolation object to allow for indexing using other coordinate axes than unit ranges, by wrapping the interpolation object and transforming the indices from the provided axes onto unit ranges upon indexing.\n",
       "\n",
       "The parameters `xs` etc must be either ranges or linspaces, and there must be one coordinate range/linspace for each dimension of the interpolation object.\n",
       "\n",
       "For every `NoInterp` dimension of the interpolation object, the range must be exactly `1:size(itp, d)`.\n"
      ],
      "text/plain": [
       "`scale(itp, xs, ys, ...)` scales an existing interpolation object to allow for indexing using other coordinate axes than unit ranges, by wrapping the interpolation object and transforming the indices from the provided axes onto unit ranges upon indexing.\n",
       "\n",
       "The parameters `xs` etc must be either ranges or linspaces, and there must be one coordinate range/linspace for each dimension of the interpolation object.\n",
       "\n",
       "For every `NoInterp` dimension of the interpolation object, the range must be exactly `1:size(itp, d)`.\n"
      ]
     },
     "execution_count": 42,
     "metadata": {},
     "output_type": "execute_result"
    }
   ],
   "source": [
    "?Interpolations.scale"
   ]
  },
  {
   "cell_type": "code",
   "execution_count": 257,
   "metadata": {},
   "outputs": [
    {
     "name": "stdout",
     "output_type": "stream",
     "text": [
      "shgjrhgfkj: 3.545"
     ]
    }
   ],
   "source": [
    "print(string(\"shgjrhgfkj: \" , 3.545))"
   ]
  },
  {
   "cell_type": "code",
   "execution_count": 8,
   "metadata": {},
   "outputs": [
    {
     "data": {
      "text/plain": [
       "bond_vmax_wrapper (generic function with 1 method)"
      ]
     },
     "execution_count": 8,
     "metadata": {},
     "output_type": "execute_result"
    }
   ],
   "source": [
    "function bond_vmax_wrapper(V0, dict)\n",
    "    return afun.get_bond_vmax(V0, dict[\"m\"], dict[\"c\"], dict[\"p\"], \n",
    "                         dict[\"sigmah\"], dict[\"r\"], \n",
    "                         dict[\"gross_delta\"], dict[\"iota\"], \n",
    "                         dict[\"xi\"], dict[\"kappa\"],\n",
    "                         dict[\"alpha\"], dict[\"pi\"],)\n",
    "end"
   ]
  },
  {
   "cell_type": "code",
   "execution_count": 9,
   "metadata": {},
   "outputs": [
    {
     "name": "stdout",
     "output_type": "stream",
     "text": [
      "Bond Percentage Difference: 0.0007337975789010572\n"
     ]
    },
    {
     "data": {
      "text/plain": [
       "148.58571920852654"
      ]
     },
     "execution_count": 9,
     "metadata": {},
     "output_type": "execute_result"
    }
   ],
   "source": [
    "bond_vmax_wrapper(100, pardict)"
   ]
  },
  {
   "cell_type": "code",
   "execution_count": 281,
   "metadata": {},
   "outputs": [
    {
     "data": {
      "text/markdown": [
       "No documentation found.\n",
       "\n",
       "Binding `afun.get_bond_vmax` does not exist.\n"
      ],
      "text/plain": [
       "No documentation found.\n",
       "\n",
       "Binding `afun.get_bond_vmax` does not exist.\n"
      ]
     },
     "execution_count": 281,
     "metadata": {},
     "output_type": "execute_result"
    }
   ],
   "source": [
    "?afun.get_bond_vmax"
   ]
  },
  {
   "cell_type": "code",
   "execution_count": 284,
   "metadata": {},
   "outputs": [
    {
     "name": "stdout",
     "output_type": "stream",
     "text": [
      "Bond Percentage Difference: 0.0009765625\n"
     ]
    }
   ],
   "source": [
    "println(string(\"Bond Percentage Difference: \", per_diff))"
   ]
  },
  {
   "cell_type": "code",
   "execution_count": 34,
   "metadata": {},
   "outputs": [
    {
     "data": {
      "text/plain": [
       "tmp (generic function with 3 methods)"
      ]
     },
     "execution_count": 34,
     "metadata": {},
     "output_type": "execute_result"
    }
   ],
   "source": [
    "function tmp(a, vmax=NaN)\n",
    "    if !isnan(vmax)\n",
    "        println(\"Returning vmax\")\n",
    "        return a, vmax\n",
    "    else\n",
    "        return a\n",
    "    end\n",
    "end"
   ]
  },
  {
   "cell_type": "code",
   "execution_count": 35,
   "metadata": {},
   "outputs": [
    {
     "data": {
      "text/plain": [
       "3"
      ]
     },
     "execution_count": 35,
     "metadata": {},
     "output_type": "execute_result"
    }
   ],
   "source": [
    "tmp(3)"
   ]
  },
  {
   "cell_type": "code",
   "execution_count": 37,
   "metadata": {},
   "outputs": [
    {
     "name": "stdout",
     "output_type": "stream",
     "text": [
      "Returning vmax\n"
     ]
    },
    {
     "data": {
      "text/plain": [
       "(4, 6)"
      ]
     },
     "execution_count": 37,
     "metadata": {},
     "output_type": "execute_result"
    }
   ],
   "source": [
    "a, vmax= tmp(4, 6)"
   ]
  },
  {
   "cell_type": "code",
   "execution_count": 38,
   "metadata": {},
   "outputs": [
    {
     "data": {
      "text/plain": [
       "4"
      ]
     },
     "execution_count": 38,
     "metadata": {},
     "output_type": "execute_result"
    }
   ],
   "source": [
    "a"
   ]
  },
  {
   "cell_type": "code",
   "execution_count": 39,
   "metadata": {},
   "outputs": [
    {
     "data": {
      "text/plain": [
       "6"
      ]
     },
     "execution_count": 39,
     "metadata": {},
     "output_type": "execute_result"
    }
   ],
   "source": [
    "vmax"
   ]
  },
  {
   "cell_type": "code",
   "execution_count": 40,
   "metadata": {},
   "outputs": [
    {
     "name": "stdout",
     "output_type": "stream",
     "text": [
      "Returning vmax\n"
     ]
    },
    {
     "data": {
      "text/plain": [
       "(5, 7)"
      ]
     },
     "execution_count": 40,
     "metadata": {},
     "output_type": "execute_result"
    }
   ],
   "source": [
    "_, vmax = tmp(5, 7)"
   ]
  },
  {
   "cell_type": "code",
   "execution_count": 41,
   "metadata": {},
   "outputs": [
    {
     "data": {
      "text/plain": [
       "7"
      ]
     },
     "execution_count": 41,
     "metadata": {},
     "output_type": "execute_result"
    }
   ],
   "source": [
    "vmax"
   ]
  },
  {
   "cell_type": "code",
   "execution_count": null,
   "metadata": {
    "collapsed": true
   },
   "outputs": [],
   "source": []
  },
  {
   "cell_type": "code",
   "execution_count": null,
   "metadata": {
    "collapsed": true
   },
   "outputs": [],
   "source": []
  },
  {
   "cell_type": "code",
   "execution_count": null,
   "metadata": {
    "collapsed": true
   },
   "outputs": [],
   "source": []
  },
  {
   "cell_type": "code",
   "execution_count": null,
   "metadata": {
    "collapsed": true
   },
   "outputs": [],
   "source": []
  },
  {
   "cell_type": "code",
   "execution_count": null,
   "metadata": {
    "collapsed": true
   },
   "outputs": [],
   "source": []
  },
  {
   "cell_type": "code",
   "execution_count": null,
   "metadata": {
    "collapsed": true
   },
   "outputs": [],
   "source": []
  },
  {
   "cell_type": "code",
   "execution_count": 8,
   "metadata": {},
   "outputs": [
    {
     "data": {
      "text/plain": [
       "approx_bond_int2 (generic function with 1 method)"
      ]
     },
     "execution_count": 8,
     "metadata": {},
     "output_type": "execute_result"
    }
   ],
   "source": [
    "function vol_shock_cf_integrand_wrapper(vt, v, u, ttm, vb, vbh, dict)\n",
    "    return afun.vol_shock_cf_integrand(vt, v,\n",
    "                                      v - log(vbh / vb),\n",
    "                                      vb, vbh, \n",
    "                                      u, ttm,\n",
    "                                      dict[\"c\"], dict[\"p\"],\n",
    "                                      dict[\"sigmal\"], dict[\"sigmah\"], \n",
    "                                      dict[\"r\"], dict[\"gross_delta\"],\n",
    "                                      dict[\"xi\"], dict[\"kappa\"],\n",
    "                                      dict[\"alpha\"], dict[\"pi\"],\n",
    "                                      dict[\"lambda\"]) * vb * exp(v) * (v > 0)\n",
    "end\n",
    "\n",
    "function approx_bond_int2(vt, v_upper_thresh, ttm, rdisc, rfbond_ttm, dict)\n",
    "    return dict[\"lambda\"] * exp(-(rdisc + dict[\"lambda\"]) * ttm) * \n",
    "           rfbond_ttm * afun.psi_v_td(vt, v_upper_thresh, ttm, dict[\"sigmal\"], \n",
    "                                              dict[\"r\"], dict[\"gross_delta\"])\n",
    "end"
   ]
  },
  {
   "cell_type": "code",
   "execution_count": 9,
   "metadata": {
    "collapsed": true
   },
   "outputs": [],
   "source": [
    "# function bond_pr_vol_cf(v, ttm, vb, vbh, dict)\n",
    "#     tmp = @spawn [ vol_shock_cf_integrand_wrapper(vt, v, u, ttm, dict)*(1/1000)^2 for \n",
    "#                     u=linspace(0.0001, ttm, 1000), vt=linspace(0.0, 1, 1000)]\n",
    "\n",
    "#     return  sum(fetch(tmp))\n",
    "# end"
   ]
  },
  {
   "cell_type": "code",
   "execution_count": 10,
   "metadata": {},
   "outputs": [
    {
     "data": {
      "text/plain": [
       "1.179950003740948e-6"
      ]
     },
     "execution_count": 10,
     "metadata": {},
     "output_type": "execute_result"
    }
   ],
   "source": [
    "approx_bond_int2(.5, 1.2, .7, \n",
    "                 afun.rdisc(pardict[\"r\"], pardict[\"xi\"], pardict[\"kappa\"]),\n",
    "                 afun.rfbond_price(.7, pardict[\"c\"], pardict[\"p\"], pardict[\"r\"], \n",
    "                                        pardict[\"xi\"], pardict[\"kappa\"]),\n",
    "                 pardict)"
   ]
  },
  {
   "cell_type": "code",
   "execution_count": 11,
   "metadata": {},
   "outputs": [
    {
     "data": {
      "text/plain": [
       "bond_pr_vol_cf2 (generic function with 1 method)"
      ]
     },
     "execution_count": 11,
     "metadata": {},
     "output_type": "execute_result"
    }
   ],
   "source": [
    "function bond_pr_vol_cf2(vt, ttm, vmax, vb, vbh, dict)\n",
    "    tauN = 10^3\n",
    "    vN = 10^3\n",
    "    dt1 = (ttm - 1e-4)/tauN\n",
    "    dv = vmax/vN\n",
    "    cf1_mat = @spawn [vol_shock_cf_integrand_wrapper(vt, v, u, ttm, vb, vbh, dict) for \n",
    "                    u=linspace(1e-4, ttm, tauN), v=linspace(0.0, vmax, vN)]\n",
    "    cf1 = sum(fetch(cf1_mat)) * dt1 * dv\n",
    "    \n",
    "    N = 10^4\n",
    "    dt2 = ttm/N\n",
    "    rdisc = afun.rdisc(dict[\"r\"], dict[\"xi\"], dict[\"kappa\"])\n",
    "    # Define auxiliary function:\n",
    "    get_rfbond(ttm) = afun.rfbond_price(ttm, dict[\"c\"], dict[\"p\"], dict[\"r\"], \n",
    "                                        dict[\"xi\"], dict[\"kappa\"])\n",
    "    cf2_vec = @spawn [approx_bond_int2(vt, vmax, tau, rdisc, get_rfbond(tau), dict) for \n",
    "            tau=linspace(dt2, ttm, N)]\n",
    "    cf2 = sum(fetch(cf2_vec)) * dt2\n",
    "#     cf2 = sum(cf2_vec) * dt2\n",
    "#     return sum(fetch(cf1_mat)) * dt1 * dv + cf2 \n",
    "#     return sum(fetch(cf1_mat)) * dt1 * dv + sum(fetch(cf2_vec)) * dt2\n",
    "    return cf1 + cf2\n",
    "end"
   ]
  },
  {
   "cell_type": "code",
   "execution_count": 12,
   "metadata": {},
   "outputs": [
    {
     "name": "stdout",
     "output_type": "stream",
     "text": [
      "elapsed time: 3.213274775 seconds\n"
     ]
    },
    {
     "data": {
      "text/plain": [
       "18.37095213214395"
      ]
     },
     "execution_count": 12,
     "metadata": {},
     "output_type": "execute_result"
    }
   ],
   "source": [
    "tic()\n",
    "a = bond_pr_vol_cf2(.5, .7, 1.2, 60, 62, pardict)\n",
    "toc()\n",
    "a"
   ]
  },
  {
   "cell_type": "code",
   "execution_count": 13,
   "metadata": {},
   "outputs": [
    {
     "data": {
      "text/plain": [
       "18.37095213214395"
      ]
     },
     "execution_count": 13,
     "metadata": {},
     "output_type": "execute_result"
    }
   ],
   "source": [
    "sum(fetch(a))"
   ]
  },
  {
   "cell_type": "code",
   "execution_count": 14,
   "metadata": {},
   "outputs": [
    {
     "data": {
      "text/plain": [
       "bond_pr_main (generic function with 1 method)"
      ]
     },
     "execution_count": 14,
     "metadata": {},
     "output_type": "execute_result"
    }
   ],
   "source": [
    "function bond_pr_main(vt, ttm, vmax, vb, vbh, dict)\n",
    "    \n",
    "    if vt <= 0\n",
    "        return afun.on_default_payoff(vt, vb, ttm,\n",
    "                                      dict[\"m\"], dict[\"c\"], dict[\"p\"],\n",
    "                                      dict[\"r\"], dict[\"xi\"], dict[\"kappa\"], dict[\"alpha\"])\n",
    "    else\n",
    "        # function to get vmax\n",
    "        # function to get rfbond\n",
    "        rfbond = afun.rfbond_price(ttm, dict[\"c\"], dict[\"p\"], dict[\"r\"], \n",
    "                                        dict[\"xi\"], dict[\"kappa\"])\n",
    "        \n",
    "        if vt > vmax\n",
    "            return rfbond\n",
    "        else\n",
    "            cf0 = afun.no_vol_shock_cf_pv(vt, vb, ttm,\n",
    "                         dict[\"m\"], dict[\"c\"], dict[\"p\"],\n",
    "                         dict[\"sigmal\"], dict[\"r\"],\n",
    "                         dict[\"gross_delta\"],\n",
    "                         dict[\"xi\"], dict[\"kappa\"], \n",
    "                         dict[\"alpha\"], dict[\"lambda\"])\n",
    "            \n",
    "            cf1 = bond_pr_vol_cf2(vt, ttm, vmax, vb, vbh, dict)\n",
    "            \n",
    "            price = min(cf0 + cf1, rfbond)\n",
    "            \n",
    "            return price\n",
    "        end\n",
    "    end\n",
    "end"
   ]
  },
  {
   "cell_type": "code",
   "execution_count": 15,
   "metadata": {},
   "outputs": [
    {
     "name": "stdout",
     "output_type": "stream",
     "text": [
      "elapsed time: 2.262225242 seconds\n"
     ]
    },
    {
     "data": {
      "text/plain": [
       "62.406107924638704"
      ]
     },
     "execution_count": 15,
     "metadata": {},
     "output_type": "execute_result"
    }
   ],
   "source": [
    "tic()\n",
    "a = bond_pr_main(.5, 1, 1.2, 60, 62, pardict)\n",
    "toc()\n",
    "a"
   ]
  },
  {
   "cell_type": "code",
   "execution_count": 4,
   "metadata": {},
   "outputs": [
    {
     "data": {
      "text/plain": [
       "bond_pr_wrapper (generic function with 1 method)"
      ]
     },
     "execution_count": 4,
     "metadata": {},
     "output_type": "execute_result"
    }
   ],
   "source": [
    "function bond_pr_wrapper(vt, ttm, vmax, vb, vbh, dict)\n",
    "   return afun.bond_pr_main(vt, ttm, vmax, vb, vbh,\n",
    "                            dict[\"m\"], dict[\"c\"], dict[\"p\"], \n",
    "                            dict[\"r\"], dict[\"gross_delta\"], \n",
    "                            dict[\"xi\"], dict[\"kappa\"], dict[\"alpha\"], dict[\"pi\"],\n",
    "                            dict[\"lambda\"], dict[\"sigmal\"], dict[\"sigmah\"]) \n",
    "    \n",
    "end"
   ]
  },
  {
   "cell_type": "code",
   "execution_count": 5,
   "metadata": {},
   "outputs": [
    {
     "name": "stdout",
     "output_type": "stream",
     "text": [
      "elapsed time: 1.658088372 seconds\n"
     ]
    },
    {
     "data": {
      "text/plain": [
       "64.7239588543447"
      ]
     },
     "execution_count": 5,
     "metadata": {},
     "output_type": "execute_result"
    }
   ],
   "source": [
    "tic()\n",
    "a = bond_pr_wrapper(.5, .11, 1.2, 60, 62, pardict)\n",
    "toc()\n",
    "a"
   ]
  },
  {
   "cell_type": "code",
   "execution_count": 18,
   "metadata": {},
   "outputs": [
    {
     "name": "stdout",
     "output_type": "stream",
     "text": [
      "elapsed time: 0.054967501 seconds\n"
     ]
    },
    {
     "data": {
      "text/plain": [
       "0.054967501"
      ]
     },
     "execution_count": 18,
     "metadata": {},
     "output_type": "execute_result"
    }
   ],
   "source": [
    "tic()\n",
    "tmp = @spawn [bond_pr_wrapper(v, 1, 1.2, 60, 62, pardict) for v=linspace(.0, .5,100)]\n",
    "toc()"
   ]
  },
  {
   "cell_type": "code",
   "execution_count": 19,
   "metadata": {},
   "outputs": [
    {
     "name": "stdout",
     "output_type": "stream",
     "text": [
      "elapsed time: 50.352827726 seconds\n"
     ]
    },
    {
     "data": {
      "text/plain": [
       "50.352827726"
      ]
     },
     "execution_count": 19,
     "metadata": {},
     "output_type": "execute_result"
    }
   ],
   "source": [
    "tic()\n",
    "bpvec = fetch(tmp)\n",
    "toc()"
   ]
  },
  {
   "cell_type": "code",
   "execution_count": 20,
   "metadata": {},
   "outputs": [
    {
     "name": "stdout",
     "output_type": "stream",
     "text": [
      "elapsed time: 0.025433979 seconds\n"
     ]
    },
    {
     "data": {
      "text/plain": [
       "0.025433979"
      ]
     },
     "execution_count": 20,
     "metadata": {},
     "output_type": "execute_result"
    }
   ],
   "source": [
    "tic()\n",
    "tmp = @spawn [bond_pr_main(v, 1, 1.2, 60, 62, pardict) for v=linspace(.0, .5,100)]\n",
    "toc()"
   ]
  },
  {
   "cell_type": "code",
   "execution_count": null,
   "metadata": {
    "collapsed": true
   },
   "outputs": [],
   "source": [
    "tic()\n",
    "bpvec = fetch(tmp)\n",
    "toc()"
   ]
  },
  {
   "cell_type": "code",
   "execution_count": null,
   "metadata": {
    "collapsed": true
   },
   "outputs": [],
   "source": [
    "# Missing:\n",
    "# function to get vmax\n",
    "# interpolate bond_pr(tau)\n",
    "# compute debt price"
   ]
  },
  {
   "cell_type": "code",
   "execution_count": 6,
   "metadata": {},
   "outputs": [
    {
     "name": "stdout",
     "output_type": "stream",
     "text": [
      "elapsed time: 12.14519172 seconds\n"
     ]
    },
    {
     "data": {
      "text/plain": [
       "12.14519172"
      ]
     },
     "execution_count": 6,
     "metadata": {},
     "output_type": "execute_result"
    }
   ],
   "source": [
    "tic()\n",
    "ttm_grid = linspace(.001, 1,20)\n",
    "tmp = @spawn [bond_pr_wrapper(.5, ttm, 1.2, 60, 62, pardict) for ttm=ttm_grid]\n",
    "ttmvec = fetch(tmp)\n",
    "toc()"
   ]
  },
  {
   "cell_type": "code",
   "execution_count": 7,
   "metadata": {},
   "outputs": [
    {
     "name": "stderr",
     "output_type": "stream",
     "text": [
      "\u001b[1m\u001b[36mINFO: \u001b[39m\u001b[22m\u001b[36mPrecompiling module Interpolations.\n",
      "\u001b[39m"
     ]
    }
   ],
   "source": [
    "using Interpolations"
   ]
  },
  {
   "cell_type": "code",
   "execution_count": 18,
   "metadata": {},
   "outputs": [
    {
     "data": {
      "text/plain": [
       "20-element scale(interpolate(::Array{Float64,1}, BSpline(Cubic(Line())), OnGrid()), (0.001:0.05257894736842105:1.0,)) with element type Float64:\n",
       "    62.4061\n",
       "    68.0592\n",
       "   126.904 \n",
       "   292.132 \n",
       "   616.935 \n",
       "  1154.5   \n",
       "  1958.03  \n",
       "  3080.71  \n",
       "  4575.73  \n",
       "  6496.28  \n",
       "  8895.56  \n",
       " 11826.7   \n",
       " 15343.0   \n",
       " 19497.6   \n",
       " 24343.7   \n",
       " 29934.5   \n",
       " 36323.2   \n",
       " 43562.9   \n",
       " 51706.8   \n",
       " 60808.3   "
      ]
     },
     "execution_count": 18,
     "metadata": {},
     "output_type": "execute_result"
    }
   ],
   "source": [
    "itp = interpolate(ttmvec, BSpline(Cubic(Line())), OnGrid())\n",
    "sitp = scale(itp, ttm_grid)"
   ]
  },
  {
   "cell_type": "code",
   "execution_count": 33,
   "metadata": {},
   "outputs": [
    {
     "name": "stdout",
     "output_type": "stream",
     "text": [
      "elapsed time: 14.919910793 seconds\n"
     ]
    },
    {
     "data": {
      "text/plain": [
       "63.75092827764202"
      ]
     },
     "execution_count": 33,
     "metadata": {},
     "output_type": "execute_result"
    }
   ],
   "source": [
    "# Get Debt Price\n",
    "\n",
    "tic()\n",
    "\n",
    "m = pardict[\"m\"]\n",
    "t0 = .0001\n",
    "\n",
    "# Grid for Interpolation\n",
    "N1 = 25\n",
    "ttm_grid = linspace(t0, m, N1)\n",
    "\n",
    "# Refined Grid\n",
    "N2 = 10^3\n",
    "ttm_grid_refined = linspace(t0, m, N2)\n",
    "dt = (m - t0)/N2\n",
    "\n",
    "tmp = @spawn [bond_pr_wrapper(.5, ttm, 1.2, 60, 62, pardict) for ttm=ttm_grid]\n",
    "ttmvec = fetch(tmp)\n",
    "\n",
    "# Interpolate\n",
    "itp = interpolate(ttmvec, BSpline(Cubic(Line())), OnGrid())\n",
    "sitp = scale(itp, ttm_grid) # Scale\n",
    "\n",
    "# Integrate\n",
    "tbp = (1/m) * sum([sitp[x] for x=ttm_grid_refined]) * dt\n",
    "\n",
    "toc()\n",
    "\n",
    "tbp"
   ]
  },
  {
   "cell_type": "code",
   "execution_count": 27,
   "metadata": {},
   "outputs": [
    {
     "name": "stderr",
     "output_type": "stream",
     "text": [
      "\u001b[1m\u001b[36mINFO: \u001b[39m\u001b[22m\u001b[36mRecompiling stale cache file /home/artur/.julia/lib/v0.6/Measures.ji for module Measures.\n",
      "\u001b[39m\u001b[1m\u001b[36mINFO: \u001b[39m\u001b[22m\u001b[36mRecompiling stale cache file /home/artur/.julia/lib/v0.6/Plots.ji for module Plots.\n",
      "\u001b[39m"
     ]
    }
   ],
   "source": [
    "using Plots"
   ]
  },
  {
   "cell_type": "code",
   "execution_count": 28,
   "metadata": {},
   "outputs": [
    {
     "data": {
      "image/svg+xml": [
       "<?xml version=\"1.0\" encoding=\"utf-8\"?>\n",
       "<svg xmlns=\"http://www.w3.org/2000/svg\" xmlns:xlink=\"http://www.w3.org/1999/xlink\" width=\"600\" height=\"400\" viewBox=\"0 0 600 400\">\n",
       "<defs>\n",
       "  <clipPath id=\"clip4300\">\n",
       "    <rect x=\"0\" y=\"0\" width=\"600\" height=\"400\"/>\n",
       "  </clipPath>\n",
       "</defs>\n",
       "<polygon clip-path=\"url(#clip4300)\" points=\"\n",
       "0,400 600,400 600,0 0,0 \n",
       "  \" fill=\"#ffffff\" fill-opacity=\"1\"/>\n",
       "<defs>\n",
       "  <clipPath id=\"clip4301\">\n",
       "    <rect x=\"120\" y=\"0\" width=\"421\" height=\"400\"/>\n",
       "  </clipPath>\n",
       "</defs>\n",
       "<polygon clip-path=\"url(#clip4300)\" points=\"\n",
       "39.1651,375.869 580.315,375.869 580.315,11.811 39.1651,11.811 \n",
       "  \" fill=\"#ffffff\" fill-opacity=\"1\"/>\n",
       "<defs>\n",
       "  <clipPath id=\"clip4302\">\n",
       "    <rect x=\"39\" y=\"11\" width=\"542\" height=\"365\"/>\n",
       "  </clipPath>\n",
       "</defs>\n",
       "<polyline clip-path=\"url(#clip4302)\" style=\"stroke:#000000; stroke-width:0.5; stroke-opacity:0.1; fill:none\" points=\"\n",
       "  146.962,375.869 146.962,11.811 \n",
       "  \"/>\n",
       "<polyline clip-path=\"url(#clip4302)\" style=\"stroke:#000000; stroke-width:0.5; stroke-opacity:0.1; fill:none\" points=\"\n",
       "  255.3,375.869 255.3,11.811 \n",
       "  \"/>\n",
       "<polyline clip-path=\"url(#clip4302)\" style=\"stroke:#000000; stroke-width:0.5; stroke-opacity:0.1; fill:none\" points=\"\n",
       "  363.638,375.869 363.638,11.811 \n",
       "  \"/>\n",
       "<polyline clip-path=\"url(#clip4302)\" style=\"stroke:#000000; stroke-width:0.5; stroke-opacity:0.1; fill:none\" points=\"\n",
       "  471.977,375.869 471.977,11.811 \n",
       "  \"/>\n",
       "<polyline clip-path=\"url(#clip4302)\" style=\"stroke:#000000; stroke-width:0.5; stroke-opacity:0.1; fill:none\" points=\"\n",
       "  580.315,375.869 580.315,11.811 \n",
       "  \"/>\n",
       "<polyline clip-path=\"url(#clip4302)\" style=\"stroke:#000000; stroke-width:0.5; stroke-opacity:0.1; fill:none\" points=\"\n",
       "  39.1651,362.662 580.315,362.662 \n",
       "  \"/>\n",
       "<polyline clip-path=\"url(#clip4302)\" style=\"stroke:#000000; stroke-width:0.5; stroke-opacity:0.1; fill:none\" points=\"\n",
       "  39.1651,292.33 580.315,292.33 \n",
       "  \"/>\n",
       "<polyline clip-path=\"url(#clip4302)\" style=\"stroke:#000000; stroke-width:0.5; stroke-opacity:0.1; fill:none\" points=\"\n",
       "  39.1651,221.998 580.315,221.998 \n",
       "  \"/>\n",
       "<polyline clip-path=\"url(#clip4302)\" style=\"stroke:#000000; stroke-width:0.5; stroke-opacity:0.1; fill:none\" points=\"\n",
       "  39.1651,151.667 580.315,151.667 \n",
       "  \"/>\n",
       "<polyline clip-path=\"url(#clip4302)\" style=\"stroke:#000000; stroke-width:0.5; stroke-opacity:0.1; fill:none\" points=\"\n",
       "  39.1651,81.3353 580.315,81.3353 \n",
       "  \"/>\n",
       "<polyline clip-path=\"url(#clip4300)\" style=\"stroke:#000000; stroke-width:1; stroke-opacity:1; fill:none\" points=\"\n",
       "  39.1651,375.869 580.315,375.869 \n",
       "  \"/>\n",
       "<polyline clip-path=\"url(#clip4300)\" style=\"stroke:#000000; stroke-width:1; stroke-opacity:1; fill:none\" points=\"\n",
       "  39.1651,375.869 39.1651,11.811 \n",
       "  \"/>\n",
       "<polyline clip-path=\"url(#clip4300)\" style=\"stroke:#000000; stroke-width:1; stroke-opacity:1; fill:none\" points=\"\n",
       "  146.962,375.869 146.962,370.408 \n",
       "  \"/>\n",
       "<polyline clip-path=\"url(#clip4300)\" style=\"stroke:#000000; stroke-width:1; stroke-opacity:1; fill:none\" points=\"\n",
       "  255.3,375.869 255.3,370.408 \n",
       "  \"/>\n",
       "<polyline clip-path=\"url(#clip4300)\" style=\"stroke:#000000; stroke-width:1; stroke-opacity:1; fill:none\" points=\"\n",
       "  363.638,375.869 363.638,370.408 \n",
       "  \"/>\n",
       "<polyline clip-path=\"url(#clip4300)\" style=\"stroke:#000000; stroke-width:1; stroke-opacity:1; fill:none\" points=\"\n",
       "  471.977,375.869 471.977,370.408 \n",
       "  \"/>\n",
       "<polyline clip-path=\"url(#clip4300)\" style=\"stroke:#000000; stroke-width:1; stroke-opacity:1; fill:none\" points=\"\n",
       "  580.315,375.869 580.315,370.408 \n",
       "  \"/>\n",
       "<polyline clip-path=\"url(#clip4300)\" style=\"stroke:#000000; stroke-width:1; stroke-opacity:1; fill:none\" points=\"\n",
       "  39.1651,362.662 47.2823,362.662 \n",
       "  \"/>\n",
       "<polyline clip-path=\"url(#clip4300)\" style=\"stroke:#000000; stroke-width:1; stroke-opacity:1; fill:none\" points=\"\n",
       "  39.1651,292.33 47.2823,292.33 \n",
       "  \"/>\n",
       "<polyline clip-path=\"url(#clip4300)\" style=\"stroke:#000000; stroke-width:1; stroke-opacity:1; fill:none\" points=\"\n",
       "  39.1651,221.998 47.2823,221.998 \n",
       "  \"/>\n",
       "<polyline clip-path=\"url(#clip4300)\" style=\"stroke:#000000; stroke-width:1; stroke-opacity:1; fill:none\" points=\"\n",
       "  39.1651,151.667 47.2823,151.667 \n",
       "  \"/>\n",
       "<polyline clip-path=\"url(#clip4300)\" style=\"stroke:#000000; stroke-width:1; stroke-opacity:1; fill:none\" points=\"\n",
       "  39.1651,81.3353 47.2823,81.3353 \n",
       "  \"/>\n",
       "<g clip-path=\"url(#clip4300)\">\n",
       "<text style=\"fill:#000000; fill-opacity:1; font-family:Arial,Helvetica Neue,Helvetica,sans-serif; font-size:12; text-anchor:middle;\" transform=\"rotate(0, 146.962, 389.669)\" x=\"146.962\" y=\"389.669\">0.2</text>\n",
       "</g>\n",
       "<g clip-path=\"url(#clip4300)\">\n",
       "<text style=\"fill:#000000; fill-opacity:1; font-family:Arial,Helvetica Neue,Helvetica,sans-serif; font-size:12; text-anchor:middle;\" transform=\"rotate(0, 255.3, 389.669)\" x=\"255.3\" y=\"389.669\">0.4</text>\n",
       "</g>\n",
       "<g clip-path=\"url(#clip4300)\">\n",
       "<text style=\"fill:#000000; fill-opacity:1; font-family:Arial,Helvetica Neue,Helvetica,sans-serif; font-size:12; text-anchor:middle;\" transform=\"rotate(0, 363.638, 389.669)\" x=\"363.638\" y=\"389.669\">0.6</text>\n",
       "</g>\n",
       "<g clip-path=\"url(#clip4300)\">\n",
       "<text style=\"fill:#000000; fill-opacity:1; font-family:Arial,Helvetica Neue,Helvetica,sans-serif; font-size:12; text-anchor:middle;\" transform=\"rotate(0, 471.977, 389.669)\" x=\"471.977\" y=\"389.669\">0.8</text>\n",
       "</g>\n",
       "<g clip-path=\"url(#clip4300)\">\n",
       "<text style=\"fill:#000000; fill-opacity:1; font-family:Arial,Helvetica Neue,Helvetica,sans-serif; font-size:12; text-anchor:middle;\" transform=\"rotate(0, 580.315, 389.669)\" x=\"580.315\" y=\"389.669\">1.0</text>\n",
       "</g>\n",
       "<g clip-path=\"url(#clip4300)\">\n",
       "<text style=\"fill:#000000; fill-opacity:1; font-family:Arial,Helvetica Neue,Helvetica,sans-serif; font-size:12; text-anchor:end;\" transform=\"rotate(0, 33.1651, 367.162)\" x=\"33.1651\" y=\"367.162\">62.5</text>\n",
       "</g>\n",
       "<g clip-path=\"url(#clip4300)\">\n",
       "<text style=\"fill:#000000; fill-opacity:1; font-family:Arial,Helvetica Neue,Helvetica,sans-serif; font-size:12; text-anchor:end;\" transform=\"rotate(0, 33.1651, 296.83)\" x=\"33.1651\" y=\"296.83\">63.0</text>\n",
       "</g>\n",
       "<g clip-path=\"url(#clip4300)\">\n",
       "<text style=\"fill:#000000; fill-opacity:1; font-family:Arial,Helvetica Neue,Helvetica,sans-serif; font-size:12; text-anchor:end;\" transform=\"rotate(0, 33.1651, 226.498)\" x=\"33.1651\" y=\"226.498\">63.5</text>\n",
       "</g>\n",
       "<g clip-path=\"url(#clip4300)\">\n",
       "<text style=\"fill:#000000; fill-opacity:1; font-family:Arial,Helvetica Neue,Helvetica,sans-serif; font-size:12; text-anchor:end;\" transform=\"rotate(0, 33.1651, 156.167)\" x=\"33.1651\" y=\"156.167\">64.0</text>\n",
       "</g>\n",
       "<g clip-path=\"url(#clip4300)\">\n",
       "<text style=\"fill:#000000; fill-opacity:1; font-family:Arial,Helvetica Neue,Helvetica,sans-serif; font-size:12; text-anchor:end;\" transform=\"rotate(0, 33.1651, 85.8353)\" x=\"33.1651\" y=\"85.8353\">64.5</text>\n",
       "</g>\n",
       "<polyline clip-path=\"url(#clip4302)\" style=\"stroke:#009af9; stroke-width:1; stroke-opacity:1; fill:none\" points=\"\n",
       "  39.1651,11.811 39.7068,12.1611 40.2485,12.5112 40.7902,12.8612 41.3318,13.2113 41.8735,13.5614 42.4152,13.9114 42.9569,14.2615 43.4986,14.6115 44.0403,14.9616 \n",
       "  44.582,15.3116 45.1237,15.6616 45.6654,16.0116 46.2071,16.3616 46.7488,16.7116 47.2905,17.0616 47.8321,17.4116 48.3738,17.7616 48.9155,18.1115 49.4572,18.4615 \n",
       "  49.9989,18.8114 50.5406,19.1613 51.0823,19.5112 51.624,19.8611 52.1657,20.2109 52.7074,20.5608 53.2491,20.9106 53.7908,21.2604 54.3324,21.6102 54.8741,21.9599 \n",
       "  55.4158,22.3097 55.9575,22.6594 56.4992,23.0091 57.0409,23.3587 57.5826,23.7084 58.1243,24.058 58.666,24.4076 59.2077,24.7571 59.7494,25.1067 60.2911,25.4562 \n",
       "  60.8327,25.8056 61.3744,26.1551 61.9161,26.5045 62.4578,26.8539 62.9995,27.2032 63.5412,27.5525 64.0829,27.9018 64.6246,28.251 65.1663,28.6002 65.708,28.9494 \n",
       "  66.2497,29.2985 66.7913,29.6476 67.333,29.9967 67.8747,30.3457 68.4164,30.6947 68.9581,31.0436 69.4998,31.3925 70.0415,31.7413 70.5832,32.0902 71.1249,32.4389 \n",
       "  71.6666,32.7877 72.2083,33.1364 72.75,33.485 73.2916,33.8336 73.8333,34.1822 74.375,34.5308 74.9167,34.8793 75.4584,35.2278 76.0001,35.5762 76.5418,35.9246 \n",
       "  77.0835,36.2729 77.6252,36.6213 78.1669,36.9695 78.7086,37.3178 79.2503,37.666 79.7919,38.0142 80.3336,38.3623 80.8753,38.7104 81.417,39.0585 81.9587,39.4065 \n",
       "  82.5004,39.7545 83.0421,40.1025 83.5838,40.4504 84.1255,40.7983 84.6672,41.1462 85.2089,41.494 85.7506,41.8418 86.2922,42.1896 86.8339,42.5373 87.3756,42.885 \n",
       "  87.9173,43.2327 88.459,43.5803 89.0007,43.9279 89.5424,44.2755 90.0841,44.6231 90.6258,44.9706 91.1675,45.318 91.7092,45.6655 92.2509,46.0129 92.7925,46.3603 \n",
       "  93.3342,46.7076 93.8759,47.055 94.4176,47.4022 94.9593,47.7495 95.501,48.0967 96.0427,48.4439 96.5844,48.7911 97.1261,49.1383 97.6678,49.4854 98.2095,49.8325 \n",
       "  98.7512,50.1795 99.2928,50.5265 99.8345,50.8735 100.376,51.2205 100.918,51.5675 101.46,51.9144 102.001,52.2612 102.543,52.6081 103.085,52.9549 103.626,53.3017 \n",
       "  104.168,53.6485 104.71,53.9952 105.251,54.3419 105.793,54.6885 106.335,55.0352 106.877,55.3818 107.418,55.7284 107.96,56.0749 108.502,56.4214 109.043,56.7679 \n",
       "  109.585,57.1144 110.127,57.4608 110.668,57.8072 111.21,58.1535 111.752,58.4998 112.293,58.8461 112.835,59.1924 113.377,59.5386 113.919,59.8848 114.46,60.231 \n",
       "  115.002,60.5771 115.544,60.9232 116.085,61.2693 116.627,61.6154 117.169,61.9614 117.71,62.3073 118.252,62.6533 118.794,62.9992 119.335,63.3451 119.877,63.6909 \n",
       "  120.419,64.0367 120.961,64.3825 121.502,64.7283 122.044,65.074 122.586,65.4196 123.127,65.7653 123.669,66.1109 124.211,66.4565 124.752,66.802 125.294,67.1476 \n",
       "  125.836,67.493 126.377,67.8385 126.919,68.1839 127.461,68.5293 128.002,68.8746 128.544,69.2199 129.086,69.5652 129.628,69.9105 130.169,70.2557 130.711,70.6008 \n",
       "  131.253,70.946 131.794,71.2911 132.336,71.6361 132.878,71.9812 133.419,72.3262 133.961,72.6711 134.503,73.016 135.044,73.3609 135.586,73.7058 136.128,74.0506 \n",
       "  136.67,74.3953 137.211,74.7401 137.753,75.0848 138.295,75.4294 138.836,75.7741 139.378,76.1186 139.92,76.4632 140.461,76.8077 141.003,77.1522 141.545,77.4966 \n",
       "  142.086,77.841 142.628,78.1853 143.17,78.5297 143.712,78.8739 144.253,79.2182 144.795,79.5624 145.337,79.9065 145.878,80.2506 146.42,80.5947 146.962,80.9387 \n",
       "  147.503,81.2827 148.045,81.6267 148.587,81.9706 149.128,82.3145 149.67,82.6583 150.212,83.0021 150.754,83.3458 151.295,83.6895 151.837,84.0332 152.379,84.3768 \n",
       "  152.92,84.7204 153.462,85.0639 154.004,85.4074 154.545,85.7509 155.087,86.0943 155.629,86.4376 156.17,86.781 156.712,87.1242 157.254,87.4675 157.796,87.8106 \n",
       "  158.337,88.1538 158.879,88.4969 159.421,88.8399 159.962,89.1829 160.504,89.5259 161.046,89.8688 161.587,90.2117 162.129,90.5545 162.671,90.8973 163.212,91.24 \n",
       "  163.754,91.5827 164.296,91.9253 164.838,92.2679 165.379,92.6104 165.921,92.9529 166.463,93.2954 167.004,93.6378 167.546,93.9801 168.088,94.3224 168.629,94.6646 \n",
       "  169.171,95.0068 169.713,95.349 170.254,95.6911 170.796,96.0331 171.338,96.3751 171.88,96.7171 172.421,97.059 172.963,97.4008 173.505,97.7426 174.046,98.0843 \n",
       "  174.588,98.426 175.13,98.7677 175.671,99.1092 176.213,99.4508 176.755,99.7922 177.296,100.134 177.838,100.475 178.38,100.816 178.922,101.158 179.463,101.499 \n",
       "  180.005,101.84 180.547,102.181 181.088,102.522 181.63,102.863 182.172,103.204 182.713,103.545 183.255,103.886 183.797,104.227 184.338,104.567 184.88,104.908 \n",
       "  185.422,105.248 185.963,105.589 186.505,105.93 187.047,106.27 187.589,106.61 188.13,106.951 188.672,107.291 189.214,107.631 189.755,107.971 190.297,108.311 \n",
       "  190.839,108.651 191.38,108.991 191.922,109.331 192.464,109.671 193.005,110.011 193.547,110.351 194.089,110.691 194.631,111.03 195.172,111.37 195.714,111.709 \n",
       "  196.256,112.049 196.797,112.388 197.339,112.728 197.881,113.067 198.422,113.406 198.964,113.746 199.506,114.085 200.047,114.424 200.589,114.763 201.131,115.102 \n",
       "  201.673,115.441 202.214,115.78 202.756,116.119 203.298,116.457 203.839,116.796 204.381,117.135 204.923,117.473 205.464,117.812 206.006,118.151 206.548,118.489 \n",
       "  207.089,118.827 207.631,119.166 208.173,119.504 208.715,119.842 209.256,120.18 209.798,120.519 210.34,120.857 210.881,121.195 211.423,121.533 211.965,121.871 \n",
       "  212.506,122.208 213.048,122.546 213.59,122.884 214.131,123.222 214.673,123.559 215.215,123.897 215.757,124.234 216.298,124.572 216.84,124.909 217.382,125.247 \n",
       "  217.923,125.584 218.465,125.921 219.007,126.259 219.548,126.596 220.09,126.933 220.632,127.27 221.173,127.607 221.715,127.944 222.257,128.281 222.799,128.618 \n",
       "  223.34,128.955 223.882,129.292 224.424,129.628 224.965,129.965 225.507,130.302 226.049,130.638 226.59,130.975 227.132,131.311 227.674,131.648 228.215,131.984 \n",
       "  228.757,132.321 229.299,132.657 229.841,132.994 230.382,133.33 230.924,133.666 231.466,134.002 232.007,134.338 232.549,134.675 233.091,135.011 233.632,135.347 \n",
       "  234.174,135.683 234.716,136.019 235.257,136.355 235.799,136.691 236.341,137.026 236.883,137.362 237.424,137.698 237.966,138.034 238.508,138.37 239.049,138.705 \n",
       "  239.591,139.041 240.133,139.376 240.674,139.712 241.216,140.048 241.758,140.383 242.299,140.719 242.841,141.054 243.383,141.389 243.924,141.725 244.466,142.06 \n",
       "  245.008,142.396 245.55,142.731 246.091,143.066 246.633,143.401 247.175,143.737 247.716,144.072 248.258,144.407 248.8,144.742 249.341,145.077 249.883,145.412 \n",
       "  250.425,145.748 250.966,146.083 251.508,146.418 252.05,146.753 252.592,147.088 253.133,147.423 253.675,147.758 254.217,148.093 254.758,148.428 255.3,148.763 \n",
       "  255.842,149.097 256.383,149.432 256.925,149.767 257.467,150.102 258.008,150.437 258.55,150.772 259.092,151.107 259.634,151.442 260.175,151.776 260.717,152.111 \n",
       "  261.259,152.446 261.8,152.781 262.342,153.116 262.884,153.45 263.425,153.785 263.967,154.12 264.509,154.455 265.05,154.79 265.592,155.124 266.134,155.459 \n",
       "  266.676,155.794 267.217,156.129 267.759,156.464 268.301,156.798 268.842,157.133 269.384,157.468 269.926,157.803 270.467,158.137 271.009,158.472 271.551,158.807 \n",
       "  272.092,159.142 272.634,159.477 273.176,159.812 273.718,160.146 274.259,160.481 274.801,160.816 275.343,161.151 275.884,161.486 276.426,161.821 276.968,162.156 \n",
       "  277.509,162.491 278.051,162.826 278.593,163.161 279.134,163.496 279.676,163.831 280.218,164.166 280.76,164.501 281.301,164.836 281.843,165.171 282.385,165.506 \n",
       "  282.926,165.841 283.468,166.177 284.01,166.512 284.551,166.847 285.093,167.182 285.635,167.518 286.176,167.853 286.718,168.188 287.26,168.524 287.802,168.859 \n",
       "  288.343,169.195 288.885,169.53 289.427,169.866 289.968,170.201 290.51,170.537 291.052,170.873 291.593,171.208 292.135,171.544 292.677,171.88 293.218,172.216 \n",
       "  293.76,172.552 294.302,172.887 294.844,173.223 295.385,173.559 295.927,173.895 296.469,174.232 297.01,174.568 297.552,174.904 298.094,175.24 298.635,175.576 \n",
       "  299.177,175.913 299.719,176.249 300.26,176.586 300.802,176.922 301.344,177.259 301.885,177.595 302.427,177.932 302.969,178.269 303.511,178.606 304.052,178.943 \n",
       "  304.594,179.279 305.136,179.616 305.677,179.953 306.219,180.291 306.761,180.628 307.302,180.965 307.844,181.302 308.386,181.64 308.927,181.977 309.469,182.315 \n",
       "  310.011,182.652 310.553,182.99 311.094,183.328 311.636,183.666 312.178,184.003 312.719,184.341 313.261,184.679 313.803,185.018 314.344,185.356 314.886,185.694 \n",
       "  315.428,186.032 315.969,186.371 316.511,186.709 317.053,187.048 317.595,187.387 318.136,187.726 318.678,188.064 319.22,188.403 319.761,188.742 320.303,189.082 \n",
       "  320.845,189.421 321.386,189.76 321.928,190.1 322.47,190.439 323.011,190.779 323.553,191.118 324.095,191.458 324.637,191.798 325.178,192.138 325.72,192.478 \n",
       "  326.262,192.818 326.803,193.159 327.345,193.499 327.887,193.84 328.428,194.18 328.97,194.521 329.512,194.862 330.053,195.203 330.595,195.544 331.137,195.885 \n",
       "  331.679,196.226 332.22,196.567 332.762,196.909 333.304,197.25 333.845,197.592 334.387,197.934 334.929,198.276 335.47,198.618 336.012,198.96 336.554,199.302 \n",
       "  337.095,199.645 337.637,199.987 338.179,200.33 338.721,200.672 339.262,201.015 339.804,201.358 340.346,201.701 340.887,202.045 341.429,202.388 341.971,202.732 \n",
       "  342.512,203.075 343.054,203.419 343.596,203.763 344.137,204.107 344.679,204.451 345.221,204.795 345.763,205.14 346.304,205.484 346.846,205.829 347.388,206.174 \n",
       "  347.929,206.519 348.471,206.864 349.013,207.209 349.554,207.554 350.096,207.9 350.638,208.246 351.179,208.591 351.721,208.937 352.263,209.283 352.804,209.63 \n",
       "  353.346,209.976 353.888,210.322 354.43,210.669 354.971,211.016 355.513,211.363 356.055,211.71 356.596,212.057 357.138,212.405 357.68,212.752 358.221,213.1 \n",
       "  358.763,213.448 359.305,213.796 359.846,214.144 360.388,214.493 360.93,214.841 361.472,215.19 362.013,215.539 362.555,215.888 363.097,216.237 363.638,216.586 \n",
       "  364.18,216.935 364.722,217.285 365.263,217.635 365.805,217.985 366.347,218.335 366.888,218.685 367.43,219.036 367.972,219.386 368.514,219.737 369.055,220.088 \n",
       "  369.597,220.439 370.139,220.791 370.68,221.142 371.222,221.494 371.764,221.846 372.305,222.198 372.847,222.55 373.389,222.902 373.93,223.255 374.472,223.608 \n",
       "  375.014,223.961 375.556,224.314 376.097,224.667 376.639,225.02 377.181,225.374 377.722,225.728 378.264,226.082 378.806,226.436 379.347,226.791 379.889,227.145 \n",
       "  380.431,227.5 380.972,227.855 381.514,228.21 382.056,228.565 382.598,228.921 383.139,229.277 383.681,229.632 384.223,229.989 384.764,230.345 385.306,230.701 \n",
       "  385.848,231.058 386.389,231.415 386.931,231.772 387.473,232.129 388.014,232.487 388.556,232.845 389.098,233.202 389.64,233.56 390.181,233.919 390.723,234.277 \n",
       "  391.265,234.636 391.806,234.995 392.348,235.354 392.89,235.713 393.431,236.073 393.973,236.432 394.515,236.792 395.056,237.152 395.598,237.513 396.14,237.873 \n",
       "  396.682,238.234 397.223,238.595 397.765,238.956 398.307,239.318 398.848,239.679 399.39,240.041 399.932,240.403 400.473,240.765 401.015,241.128 401.557,241.491 \n",
       "  402.098,241.853 402.64,242.217 403.182,242.58 403.724,242.943 404.265,243.307 404.807,243.671 405.349,244.035 405.89,244.4 406.432,244.764 406.974,245.129 \n",
       "  407.515,245.494 408.057,245.86 408.599,246.225 409.14,246.591 409.682,246.957 410.224,247.323 410.765,247.69 411.307,248.057 411.849,248.423 412.391,248.791 \n",
       "  412.932,249.158 413.474,249.526 414.016,249.893 414.557,250.262 415.099,250.63 415.641,250.998 416.182,251.367 416.724,251.736 417.266,252.106 417.807,252.475 \n",
       "  418.349,252.845 418.891,253.215 419.433,253.585 419.974,253.955 420.516,254.326 421.058,254.697 421.599,255.068 422.141,255.439 422.683,255.811 423.224,256.183 \n",
       "  423.766,256.555 424.308,256.928 424.849,257.3 425.391,257.673 425.933,258.046 426.475,258.419 427.016,258.793 427.558,259.167 428.1,259.541 428.641,259.915 \n",
       "  429.183,260.29 429.725,260.665 430.266,261.04 430.808,261.415 431.35,261.791 431.891,262.167 432.433,262.543 432.975,262.919 433.517,263.296 434.058,263.672 \n",
       "  434.6,264.05 435.142,264.427 435.683,264.804 436.225,265.182 436.767,265.56 437.308,265.939 437.85,266.317 438.392,266.696 438.933,267.076 439.475,267.455 \n",
       "  440.017,267.835 440.559,268.215 441.1,268.595 441.642,268.975 442.184,269.356 442.725,269.737 443.267,270.118 443.809,270.5 444.35,270.881 444.892,271.263 \n",
       "  445.434,271.646 445.975,272.028 446.517,272.411 447.059,272.794 447.601,273.178 448.142,273.561 448.684,273.945 449.226,274.329 449.767,274.714 450.309,275.098 \n",
       "  450.851,275.483 451.392,275.868 451.934,276.254 452.476,276.64 453.017,277.026 453.559,277.412 454.101,277.799 454.643,278.185 455.184,278.573 455.726,278.96 \n",
       "  456.268,279.348 456.809,279.735 457.351,280.124 457.893,280.512 458.434,280.901 458.976,281.29 459.518,281.679 460.059,282.069 460.601,282.459 461.143,282.849 \n",
       "  461.685,283.239 462.226,283.63 462.768,284.021 463.31,284.412 463.851,284.803 464.393,285.195 464.935,285.587 465.476,285.98 466.018,286.372 466.56,286.765 \n",
       "  467.101,287.158 467.643,287.552 468.185,287.945 468.726,288.339 469.268,288.734 469.81,289.128 470.352,289.523 470.893,289.918 471.435,290.314 471.977,290.709 \n",
       "  472.518,291.105 473.06,291.502 473.602,291.898 474.143,292.295 474.685,292.692 475.227,293.089 475.768,293.487 476.31,293.885 476.852,294.283 477.394,294.682 \n",
       "  477.935,295.081 478.477,295.48 479.019,295.879 479.56,296.279 480.102,296.679 480.644,297.079 481.185,297.48 481.727,297.881 482.269,298.282 482.81,298.683 \n",
       "  483.352,299.085 483.894,299.487 484.436,299.89 484.977,300.292 485.519,300.695 486.061,301.098 486.602,301.502 487.144,301.906 487.686,302.31 488.227,302.714 \n",
       "  488.769,303.119 489.311,303.524 489.852,303.929 490.394,304.335 490.936,304.741 491.478,305.147 492.019,305.554 492.561,305.96 493.103,306.367 493.644,306.775 \n",
       "  494.186,307.183 494.728,307.591 495.269,307.999 495.811,308.408 496.353,308.816 496.894,309.226 497.436,309.635 497.978,310.045 498.52,310.455 499.061,310.866 \n",
       "  499.603,311.276 500.145,311.687 500.686,312.099 501.228,312.51 501.77,312.922 502.311,313.334 502.853,313.747 503.395,314.16 503.936,314.573 504.478,314.986 \n",
       "  505.02,315.4 505.562,315.814 506.103,316.228 506.645,316.643 507.187,317.058 507.728,317.473 508.27,317.888 508.812,318.304 509.353,318.72 509.895,319.137 \n",
       "  510.437,319.553 510.978,319.97 511.52,320.387 512.062,320.805 512.604,321.223 513.145,321.641 513.687,322.059 514.229,322.478 514.77,322.897 515.312,323.316 \n",
       "  515.854,323.736 516.395,324.156 516.937,324.576 517.479,324.996 518.02,325.417 518.562,325.838 519.104,326.259 519.646,326.681 520.187,327.103 520.729,327.525 \n",
       "  521.271,327.947 521.812,328.37 522.354,328.793 522.896,329.216 523.437,329.64 523.979,330.064 524.521,330.488 525.062,330.912 525.604,331.337 526.146,331.762 \n",
       "  526.687,332.188 527.229,332.613 527.771,333.039 528.313,333.465 528.854,333.892 529.396,334.319 529.938,334.746 530.479,335.173 531.021,335.601 531.563,336.029 \n",
       "  532.104,336.457 532.646,336.886 533.188,337.315 533.729,337.744 534.271,338.174 534.813,338.604 535.355,339.034 535.896,339.465 536.438,339.896 536.98,340.327 \n",
       "  537.521,340.759 538.063,341.191 538.605,341.623 539.146,342.056 539.688,342.489 540.23,342.922 540.771,343.356 541.313,343.79 541.855,344.225 542.397,344.659 \n",
       "  542.938,345.095 543.48,345.53 544.022,345.966 544.563,346.402 545.105,346.839 545.647,347.276 546.188,347.713 546.73,348.151 547.272,348.589 547.813,349.027 \n",
       "  548.355,349.466 548.897,349.905 549.439,350.345 549.98,350.785 550.522,351.225 551.064,351.666 551.605,352.107 552.147,352.549 552.689,352.99 553.23,353.433 \n",
       "  553.772,353.875 554.314,354.318 554.855,354.762 555.397,355.206 555.939,355.65 556.481,356.094 557.022,356.539 557.564,356.984 558.106,357.429 558.647,357.875 \n",
       "  559.189,358.321 559.731,358.767 560.272,359.214 560.814,359.661 561.356,360.108 561.897,360.555 562.439,361.003 562.981,361.451 563.523,361.899 564.064,362.347 \n",
       "  564.606,362.796 565.148,363.245 565.689,363.694 566.231,364.143 566.773,364.592 567.314,365.042 567.856,365.492 568.398,365.942 568.939,366.392 569.481,366.842 \n",
       "  570.023,367.292 570.565,367.743 571.106,368.194 571.648,368.644 572.19,369.095 572.731,369.546 573.273,369.998 573.815,370.449 574.356,370.9 574.898,371.352 \n",
       "  575.44,371.803 575.981,372.255 576.523,372.706 577.065,373.158 577.607,373.61 578.148,374.061 578.69,374.513 579.232,374.965 579.773,375.417 580.315,375.869 \n",
       "  \n",
       "  \"/>\n",
       "<polygon clip-path=\"url(#clip4300)\" points=\"\n",
       "489.608,62.931 562.315,62.931 562.315,32.691 489.608,32.691 \n",
       "  \" fill=\"#ffffff\" fill-opacity=\"1\"/>\n",
       "<polyline clip-path=\"url(#clip4300)\" style=\"stroke:#000000; stroke-width:1; stroke-opacity:1; fill:none\" points=\"\n",
       "  489.608,62.931 562.315,62.931 562.315,32.691 489.608,32.691 489.608,62.931 \n",
       "  \"/>\n",
       "<polyline clip-path=\"url(#clip4300)\" style=\"stroke:#009af9; stroke-width:1; stroke-opacity:1; fill:none\" points=\"\n",
       "  495.608,47.811 531.608,47.811 \n",
       "  \"/>\n",
       "<g clip-path=\"url(#clip4300)\">\n",
       "<text style=\"fill:#000000; fill-opacity:1; font-family:Arial,Helvetica Neue,Helvetica,sans-serif; font-size:12; text-anchor:start;\" transform=\"rotate(0, 537.608, 52.311)\" x=\"537.608\" y=\"52.311\">y1</text>\n",
       "</g>\n",
       "</svg>\n"
      ]
     },
     "execution_count": 28,
     "metadata": {},
     "output_type": "execute_result"
    }
   ],
   "source": [
    "plot(linspace(.001, 1., 1000), tbp)"
   ]
  },
  {
   "cell_type": "code",
   "execution_count": 21,
   "metadata": {},
   "outputs": [
    {
     "data": {
      "text/plain": [
       "0.001:0.05257894736842105:1.0"
      ]
     },
     "execution_count": 21,
     "metadata": {},
     "output_type": "execute_result"
    }
   ],
   "source": [
    "ttm_grid"
   ]
  },
  {
   "cell_type": "code",
   "execution_count": null,
   "metadata": {
    "collapsed": true
   },
   "outputs": [],
   "source": []
  },
  {
   "cell_type": "code",
   "execution_count": null,
   "metadata": {
    "collapsed": true
   },
   "outputs": [],
   "source": []
  },
  {
   "cell_type": "code",
   "execution_count": 8,
   "metadata": {},
   "outputs": [
    {
     "data": {
      "text/plain": [
       "2-element Array{AbstractArray{Float64,1},1}:\n",
       " 0.001:0.05257894736842105:1.0                                                                                                                                                      \n",
       " [64.9943, 64.8635, 64.7334, 64.604, 64.4752, 64.3472, 64.2203, 64.0944, 63.9692, 63.8439, 63.7176, 63.5895, 63.4585, 63.3238, 63.1846, 63.0404, 62.8907, 62.7352, 62.5737, 62.4061]"
      ]
     },
     "execution_count": 8,
     "metadata": {},
     "output_type": "execute_result"
    }
   ],
   "source": [
    "ttm_grid = linspace(.001, 1,20)\n",
    "A = [ttm_grid, ttmvec]"
   ]
  },
  {
   "cell_type": "code",
   "execution_count": null,
   "metadata": {
    "collapsed": true
   },
   "outputs": [],
   "source": [
    "size(A)"
   ]
  },
  {
   "cell_type": "code",
   "execution_count": 12,
   "metadata": {},
   "outputs": [
    {
     "data": {
      "text/plain": [
       "20-element Array{Float64,1}:\n",
       " 0.0    \n",
       " 1.09861\n",
       " 1.60944\n",
       " 1.94591\n",
       " 2.19722\n",
       " 2.3979 \n",
       " 2.56495\n",
       " 2.70805\n",
       " 2.83321\n",
       " 2.94444\n",
       " 3.04452\n",
       " 3.13549\n",
       " 3.21888\n",
       " 3.29584\n",
       " 3.3673 \n",
       " 3.43399\n",
       " 3.49651\n",
       " 3.55535\n",
       " 3.61092\n",
       " 3.66356"
      ]
     },
     "execution_count": 12,
     "metadata": {},
     "output_type": "execute_result"
    }
   ],
   "source": [
    "A_x = 1.:2.:40.\n",
    "B = [log(x) for x in A_x]\n",
    "\n",
    "B"
   ]
  },
  {
   "cell_type": "code",
   "execution_count": null,
   "metadata": {
    "collapsed": true
   },
   "outputs": [],
   "source": [
    "tic()\n",
    "ttmvec = fetch(tmp)\n",
    "toc()"
   ]
  },
  {
   "cell_type": "code",
   "execution_count": null,
   "metadata": {
    "collapsed": true
   },
   "outputs": [],
   "source": [
    "plot(ttmvec)"
   ]
  },
  {
   "cell_type": "code",
   "execution_count": null,
   "metadata": {
    "collapsed": true
   },
   "outputs": [],
   "source": [
    "ttmvec"
   ]
  },
  {
   "cell_type": "code",
   "execution_count": null,
   "metadata": {
    "collapsed": true
   },
   "outputs": [],
   "source": [
    "using Plots"
   ]
  },
  {
   "cell_type": "code",
   "execution_count": null,
   "metadata": {
    "collapsed": true
   },
   "outputs": [],
   "source": [
    "plot(bpvec)"
   ]
  },
  {
   "cell_type": "code",
   "execution_count": null,
   "metadata": {
    "collapsed": true
   },
   "outputs": [],
   "source": []
  },
  {
   "cell_type": "code",
   "execution_count": null,
   "metadata": {
    "collapsed": true
   },
   "outputs": [],
   "source": []
  },
  {
   "cell_type": "code",
   "execution_count": null,
   "metadata": {
    "collapsed": true
   },
   "outputs": [],
   "source": []
  },
  {
   "cell_type": "code",
   "execution_count": null,
   "metadata": {
    "collapsed": true
   },
   "outputs": [],
   "source": [
    "tic()\n",
    "b = @spawn [ vol_shock_cf_integrand_wrapper(.5, .7, u, 1, pardict)*(1/1000)^2 for \n",
    "            u=linspace(0.0001, 1, 1000), vt=linspace(0.0, 1, 1000)]\n",
    "\n",
    "toc()\n",
    "a = sum(fetch(b))"
   ]
  },
  {
   "cell_type": "code",
   "execution_count": null,
   "metadata": {
    "collapsed": true
   },
   "outputs": [],
   "source": [
    "tic()\n",
    "a = bond_pr_vol_cf(.5, .7,pardict)\n",
    "toc()"
   ]
  },
  {
   "cell_type": "code",
   "execution_count": null,
   "metadata": {
    "collapsed": true
   },
   "outputs": [],
   "source": [
    "sum(fetch(a))"
   ]
  },
  {
   "cell_type": "code",
   "execution_count": null,
   "metadata": {
    "collapsed": true
   },
   "outputs": [],
   "source": [
    "sum(fetch(a))"
   ]
  },
  {
   "cell_type": "code",
   "execution_count": null,
   "metadata": {
    "collapsed": true
   },
   "outputs": [],
   "source": [
    "Pkg.add(\"Cubature\")"
   ]
  },
  {
   "cell_type": "code",
   "execution_count": null,
   "metadata": {
    "collapsed": true
   },
   "outputs": [],
   "source": [
    "tic()\n",
    "b = @spawn [ vol_shock_cf_integrand_wrapper(vt, .5, u, .7, pardict)*(1/1000)^2 for \n",
    "            u=linspace(0.0001, .7, 1000), vt=linspace(0.0, 1, 1000)]\n",
    "\n",
    "toc()\n",
    "a = sum(fetch(b))"
   ]
  },
  {
   "cell_type": "code",
   "execution_count": null,
   "metadata": {
    "collapsed": true
   },
   "outputs": [],
   "source": []
  },
  {
   "cell_type": "code",
   "execution_count": null,
   "metadata": {
    "collapsed": true
   },
   "outputs": [],
   "source": []
  },
  {
   "cell_type": "code",
   "execution_count": null,
   "metadata": {
    "collapsed": true
   },
   "outputs": [],
   "source": [
    "fetch(a)"
   ]
  },
  {
   "cell_type": "code",
   "execution_count": null,
   "metadata": {
    "collapsed": true
   },
   "outputs": [],
   "source": [
    "linspace(0, 1, 10)"
   ]
  },
  {
   "cell_type": "code",
   "execution_count": null,
   "metadata": {
    "collapsed": true
   },
   "outputs": [],
   "source": []
  },
  {
   "cell_type": "code",
   "execution_count": null,
   "metadata": {
    "collapsed": true
   },
   "outputs": [],
   "source": [
    "struct Foo\n",
    "           bar\n",
    "           baz::Int\n",
    "           qux::Float64\n",
    "       end"
   ]
  },
  {
   "cell_type": "code",
   "execution_count": null,
   "metadata": {
    "collapsed": true
   },
   "outputs": [],
   "source": [
    "mutable struct ArturRMModel\n",
    "        \n",
    "        alpha::Float64\n",
    "        pi::Float64\n",
    "        r::Float64\n",
    "        gross_delta::Float64\n",
    "\n",
    "        vb::Float64\n",
    "        vbh::Float64\n",
    "\n",
    "        xi::Float64\n",
    "        kappa::Float64\n",
    "\n",
    "        lambda::Float64\n",
    "        sigmal::Float64\n",
    "        sigmah::Float64\n",
    "\n",
    "        m::Float64\n",
    "        c::Float64\n",
    "        p::Float64\n",
    "\n",
    "        new(alpha)\n",
    "end"
   ]
  },
  {
   "cell_type": "code",
   "execution_count": null,
   "metadata": {
    "collapsed": true
   },
   "outputs": [],
   "source": [
    "arm = ArturRMModel(ones(14,1))"
   ]
  },
  {
   "cell_type": "code",
   "execution_count": null,
   "metadata": {
    "collapsed": true
   },
   "outputs": [],
   "source": [
    "arm.m "
   ]
  },
  {
   "cell_type": "code",
   "execution_count": null,
   "metadata": {
    "collapsed": true
   },
   "outputs": [],
   "source": []
  },
  {
   "cell_type": "code",
   "execution_count": null,
   "metadata": {
    "collapsed": true
   },
   "outputs": [],
   "source": [
    "Foo(baz) = 3"
   ]
  },
  {
   "cell_type": "code",
   "execution_count": null,
   "metadata": {
    "collapsed": true
   },
   "outputs": [],
   "source": [
    "fieldnames(Foo)"
   ]
  },
  {
   "cell_type": "code",
   "execution_count": null,
   "metadata": {
    "collapsed": true
   },
   "outputs": [],
   "source": [
    "u = Foo(3, 4, 5)"
   ]
  },
  {
   "cell_type": "code",
   "execution_count": null,
   "metadata": {
    "collapsed": true
   },
   "outputs": [],
   "source": [
    "u.qux"
   ]
  },
  {
   "cell_type": "code",
   "execution_count": null,
   "metadata": {
    "collapsed": true
   },
   "outputs": [],
   "source": [
    "u = Tuple{Float64,Float64}[]"
   ]
  },
  {
   "cell_type": "code",
   "execution_count": null,
   "metadata": {
    "collapsed": true
   },
   "outputs": [],
   "source": [
    "u[1] = 3."
   ]
  },
  {
   "cell_type": "code",
   "execution_count": null,
   "metadata": {
    "collapsed": true
   },
   "outputs": [],
   "source": [
    "log(100 / pardict[\"vb\"])"
   ]
  },
  {
   "cell_type": "code",
   "execution_count": null,
   "metadata": {
    "collapsed": true
   },
   "outputs": [],
   "source": [
    "analytic_functions.vol_shock_cf_integrand(log(110/60), log(100/60), log(110/62), 60, 62, .5, .7, 3, 60,\n",
    "                                   .2, .3, .08, .02, 1, .004, .6, .27, .3)"
   ]
  },
  {
   "cell_type": "code",
   "execution_count": null,
   "metadata": {
    "collapsed": true
   },
   "outputs": [],
   "source": [
    "analytic_functions.no_vol_shock_cf_pv(log(100/60), 60, .7, 1, 3, 60, .25, .08, .02, 1, .004, .6, .3)"
   ]
  },
  {
   "cell_type": "code",
   "execution_count": null,
   "metadata": {
    "collapsed": true
   },
   "outputs": [],
   "source": [
    "analytic_functions.default_payoff_pv_fun(log(100/60), 60, .7, 1., .25, .08, .02, 1, .004, .6, .3)"
   ]
  },
  {
   "cell_type": "code",
   "execution_count": null,
   "metadata": {
    "collapsed": true
   },
   "outputs": [],
   "source": [
    "analytic_functions.maturity_payoff_pv_fun(log(100/60), .7, 60, .25, .08, .02, 1, .004,  .3)"
   ]
  },
  {
   "cell_type": "code",
   "execution_count": null,
   "metadata": {
    "collapsed": true
   },
   "outputs": [],
   "source": []
  },
  {
   "cell_type": "code",
   "execution_count": null,
   "metadata": {
    "collapsed": true
   },
   "outputs": [],
   "source": [
    "analytic_functions.coupon_pv_fun(log(100/60), .7, 3, .2, .08, .02, 1, .004, .3)"
   ]
  },
  {
   "cell_type": "code",
   "execution_count": null,
   "metadata": {
    "collapsed": true
   },
   "outputs": [],
   "source": [
    "(.6 * 60 * exp(log(100/60)) / 1)"
   ]
  },
  {
   "cell_type": "code",
   "execution_count": null,
   "metadata": {
    "collapsed": true
   },
   "outputs": [],
   "source": [
    "analytic_functions.rf_debt(1, 3, 65, .08, 1, .004)"
   ]
  },
  {
   "cell_type": "code",
   "execution_count": null,
   "metadata": {
    "collapsed": true
   },
   "outputs": [],
   "source": [
    "analytic_functions.on_default_payoff(log(120/60), 60, .7, 1, 3, 65, .08, 1, .004, .6)"
   ]
  },
  {
   "cell_type": "code",
   "execution_count": null,
   "metadata": {
    "collapsed": true
   },
   "outputs": [],
   "source": [
    "(.6 * 60 * exp(log(100/60)) / 1) * (30 > (.6 * 60 * exp(log(100/60)) / 1))"
   ]
  },
  {
   "cell_type": "code",
   "execution_count": null,
   "metadata": {
    "collapsed": true
   },
   "outputs": [],
   "source": [
    "(3 / analytic_functions.rdisc(.08, 1, .004) + exp(-analytic_functions.rdisc(.08, 1, .004) * .7)) * (65 - 3 / analytic_functions.rdisc(.08, 1, .004))"
   ]
  },
  {
   "cell_type": "code",
   "execution_count": null,
   "metadata": {
    "collapsed": true
   },
   "outputs": [],
   "source": [
    "exp(-analytic_functions.rdisc(.08, 1, .004) * .7)"
   ]
  },
  {
   "cell_type": "code",
   "execution_count": null,
   "metadata": {
    "collapsed": true
   },
   "outputs": [],
   "source": [
    "(3 / analytic_functions.rdisc(.08, 1, .004) + exp(-analytic_functions.rdisc(.08, 1, .004) * .7))"
   ]
  },
  {
   "cell_type": "code",
   "execution_count": null,
   "metadata": {
    "collapsed": true
   },
   "outputs": [],
   "source": [
    "(65 - 3 / analytic_functions.rdisc(.08, 1, .004))"
   ]
  },
  {
   "cell_type": "code",
   "execution_count": null,
   "metadata": {
    "collapsed": true
   },
   "outputs": [],
   "source": [
    "analytic_functions.rf_debt(1, 3, 65, .08, 1, .004)"
   ]
  },
  {
   "cell_type": "code",
   "execution_count": null,
   "metadata": {
    "collapsed": true
   },
   "outputs": [],
   "source": [
    "analytic_functions.dv_psi_v_td(log(120/60), log(100/60), .7, .2, .08, .02)"
   ]
  },
  {
   "cell_type": "code",
   "execution_count": null,
   "metadata": {
    "collapsed": true
   },
   "outputs": [],
   "source": [
    "using Distributions\n",
    "pdf(Normal(), 0.)"
   ]
  },
  {
   "cell_type": "code",
   "execution_count": null,
   "metadata": {
    "collapsed": true
   },
   "outputs": [],
   "source": [
    "analytic_functions.psi_v_td(log(120/60), log(100/60), .7, .2, .08, .02)"
   ]
  },
  {
   "cell_type": "code",
   "execution_count": null,
   "metadata": {
    "collapsed": true
   },
   "outputs": [],
   "source": [
    "analytic_functions.G_pvs(log(100/60), .2, .2, .08, .02, 1, .004, .3)"
   ]
  },
  {
   "cell_type": "code",
   "execution_count": null,
   "metadata": {
    "collapsed": true
   },
   "outputs": [],
   "source": [
    "analytic_functions.q1_pvs(log(100/60), .2, .2, .08, .02, 1, .004, .3)"
   ]
  },
  {
   "cell_type": "code",
   "execution_count": null,
   "metadata": {
    "collapsed": true
   },
   "outputs": [],
   "source": [
    "analytic_functions.q2_pvs(log(100/60), .2, .2, .08, .02, 1, .004, .3)"
   ]
  },
  {
   "cell_type": "code",
   "execution_count": null,
   "metadata": {
    "collapsed": true
   },
   "outputs": [],
   "source": [
    "analytic_functions.zhat_pvs(.2, .08, .02, 1, .004, .3)"
   ]
  },
  {
   "cell_type": "code",
   "execution_count": null,
   "metadata": {
    "collapsed": true
   },
   "outputs": [],
   "source": [
    "af.rdisc_pvs(.08, 1, .004, .3)"
   ]
  },
  {
   "cell_type": "code",
   "execution_count": null,
   "metadata": {
    "collapsed": true
   },
   "outputs": [],
   "source": [
    "analytic_functions.zhi_vb(1, 3, 60, .2, .08, .02, 0.0, 1, .004, .6, .27)"
   ]
  },
  {
   "cell_type": "code",
   "execution_count": null,
   "metadata": {
    "collapsed": true
   },
   "outputs": [],
   "source": [
    "analytic_functions.bsm_K(log(100/60), .2, .3, .7, .2, .9)"
   ]
  },
  {
   "cell_type": "code",
   "execution_count": null,
   "metadata": {
    "collapsed": true
   },
   "outputs": [],
   "source": [
    "analytic_functions.bsm_gamma(.2, .08, .02)"
   ]
  },
  {
   "cell_type": "code",
   "execution_count": null,
   "metadata": {
    "collapsed": true
   },
   "outputs": [],
   "source": [
    "analytic_functions.bsm_A(log(100/60), .8, .25, .08, .02, .9)"
   ]
  },
  {
   "cell_type": "code",
   "execution_count": null,
   "metadata": {
    "collapsed": true
   },
   "outputs": [],
   "source": [
    "analytic_functions.zhi_eq(log(100/60), 1, 3, 60, .2, .08, .02, .0, 1, .004, .6, .27)"
   ]
  },
  {
   "cell_type": "code",
   "execution_count": null,
   "metadata": {
    "collapsed": true
   },
   "outputs": [],
   "source": [
    "max(20, 1e-4)"
   ]
  },
  {
   "cell_type": "code",
   "execution_count": null,
   "metadata": {
    "collapsed": true
   },
   "outputs": [],
   "source": [
    "\n",
    "bsm_numerator2(1, 3, 60, .2, .08, .02, 1, .004)"
   ]
  },
  {
   "cell_type": "code",
   "execution_count": null,
   "metadata": {
    "collapsed": true
   },
   "outputs": [],
   "source": [
    "bsm_denominator(1, .2, .08, .02, 0.0, 1, .004, .6)"
   ]
  },
  {
   "cell_type": "code",
   "execution_count": null,
   "metadata": {
    "collapsed": true
   },
   "outputs": [],
   "source": [
    "bsm_numerator1(1, 3, 60, .2, .08, .02, 1, .004, .27)"
   ]
  },
  {
   "cell_type": "code",
   "execution_count": null,
   "metadata": {
    "collapsed": true
   },
   "outputs": [],
   "source": [
    "auxiliary_functions.bsm_b(x, m, sigma, r, gross_delta, xi, k)"
   ]
  },
  {
   "cell_type": "code",
   "execution_count": null,
   "metadata": {
    "collapsed": true
   },
   "outputs": [],
   "source": [
    "auxiliary_functions.bsm_B(log(100/60), 1, .2, .08, .02)"
   ]
  },
  {
   "cell_type": "code",
   "execution_count": null,
   "metadata": {
    "collapsed": true
   },
   "outputs": [],
   "source": []
  },
  {
   "cell_type": "code",
   "execution_count": null,
   "metadata": {
    "collapsed": true
   },
   "outputs": [],
   "source": []
  },
  {
   "cell_type": "code",
   "execution_count": null,
   "metadata": {
    "collapsed": true
   },
   "outputs": [],
   "source": [
    "auxiliary_functions.bsm_b(log(100/60), 1, .2, .08, .02, 1, .004)"
   ]
  },
  {
   "cell_type": "code",
   "execution_count": null,
   "metadata": {
    "collapsed": true
   },
   "outputs": [],
   "source": [
    "\n",
    "zhi_bond_price(60, log(100/60), 1, 1, 3, 69, .2, .08, .02, 1, .004, .6, .27)"
   ]
  },
  {
   "cell_type": "code",
   "execution_count": null,
   "metadata": {
    "collapsed": true
   },
   "outputs": [],
   "source": [
    "rdisc(.08, 1, .002)"
   ]
  },
  {
   "cell_type": "code",
   "execution_count": null,
   "metadata": {
    "collapsed": true
   },
   "outputs": [],
   "source": [
    "bsm_F(.5, .7, .2, .08, .02) #, 1, .004)"
   ]
  },
  {
   "cell_type": "code",
   "execution_count": null,
   "metadata": {
    "collapsed": true
   },
   "outputs": [],
   "source": [
    "bsm_G(.5, .7, .2, .08, .02, 1, .004)"
   ]
  },
  {
   "cell_type": "code",
   "execution_count": null,
   "metadata": {
    "collapsed": true
   },
   "outputs": [],
   "source": [
    "cdf(Normal(), bsm_h1(.5, .7, .2, .08, .02))"
   ]
  },
  {
   "cell_type": "code",
   "execution_count": null,
   "metadata": {
    "collapsed": true
   },
   "outputs": [],
   "source": [
    "bsm_eta(.5, .08, .02)"
   ]
  },
  {
   "cell_type": "code",
   "execution_count": null,
   "metadata": {
    "collapsed": true
   },
   "outputs": [],
   "source": [
    "using Distributions"
   ]
  },
  {
   "cell_type": "code",
   "execution_count": null,
   "metadata": {
    "collapsed": true
   },
   "outputs": [],
   "source": [
    "bsm_z(.25, .08, .02)"
   ]
  },
  {
   "cell_type": "code",
   "execution_count": null,
   "metadata": {
    "collapsed": true
   },
   "outputs": [],
   "source": [
    "quantile.(Normal(), [0.5, 0.975])"
   ]
  },
  {
   "cell_type": "code",
   "execution_count": null,
   "metadata": {
    "collapsed": true
   },
   "outputs": [],
   "source": [
    "cdf(Normal(), 1.96)"
   ]
  },
  {
   "cell_type": "code",
   "execution_count": null,
   "metadata": {
    "collapsed": true
   },
   "outputs": [],
   "source": [
    "log(100/60)"
   ]
  },
  {
   "cell_type": "code",
   "execution_count": null,
   "metadata": {
    "collapsed": true
   },
   "outputs": [],
   "source": []
  },
  {
   "cell_type": "code",
   "execution_count": null,
   "metadata": {
    "collapsed": true
   },
   "outputs": [],
   "source": []
  },
  {
   "cell_type": "code",
   "execution_count": null,
   "metadata": {
    "collapsed": true
   },
   "outputs": [],
   "source": [
    "MethodError: objects of type Symbol are not callable"
   ]
  },
  {
   "cell_type": "code",
   "execution_count": null,
   "metadata": {
    "collapsed": true
   },
   "outputs": [],
   "source": [
    "function fff(x, a=1)\n",
    "    return exp(cos(a * x))\n",
    "end\n"
   ]
  },
  {
   "cell_type": "code",
   "execution_count": null,
   "metadata": {
    "collapsed": true
   },
   "outputs": [],
   "source": [
    "fff(pi,2)"
   ]
  },
  {
   "cell_type": "code",
   "execution_count": null,
   "metadata": {
    "collapsed": true
   },
   "outputs": [],
   "source": []
  }
 ],
 "metadata": {
  "kernelspec": {
   "display_name": "Julia 0.6.0",
   "language": "julia",
   "name": "julia-0.6"
  },
  "language_info": {
   "file_extension": ".jl",
   "mimetype": "application/julia",
   "name": "julia",
   "version": "0.6.0"
  }
 },
 "nbformat": 4,
 "nbformat_minor": 2
}
