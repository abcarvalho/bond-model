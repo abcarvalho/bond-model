{
 "cells": [
  {
   "cell_type": "code",
   "execution_count": null,
   "metadata": {
    "collapsed": true
   },
   "outputs": [],
   "source": [
    "addprocs(14)\n",
    "workers()"
   ]
  },
  {
   "cell_type": "code",
   "execution_count": 1,
   "metadata": {},
   "outputs": [
    {
     "data": {
      "text/plain": [
       "3-element Array{Any,1}:\n",
       " \"/usr/local/julia/0.6.0/local/share/julia/site/v0.6\"\n",
       " \"/usr/local/julia/0.6.0/share/julia/site/v0.6\"      \n",
       " \"/home/artur/BondPricing/Julia/modules/\"            "
      ]
     },
     "execution_count": 1,
     "metadata": {},
     "output_type": "execute_result"
    }
   ],
   "source": [
    "push!(LOAD_PATH, \"/home/artur/BondPricing/Julia/modules/\")"
   ]
  },
  {
   "cell_type": "code",
   "execution_count": 2,
   "metadata": {},
   "outputs": [
    {
     "data": {
      "text/plain": [
       "AnalyticFunctions"
      ]
     },
     "execution_count": 2,
     "metadata": {},
     "output_type": "execute_result"
    }
   ],
   "source": [
    "push!(LOAD_PATH, \"/home/artur/BondPricing/Julia/modules/\")\n",
    "include(string(LOAD_PATH[end], \"AnalyticFunctions.jl\"))"
   ]
  },
  {
   "cell_type": "code",
   "execution_count": 3,
   "metadata": {},
   "outputs": [
    {
     "data": {
      "text/plain": [
       "AnalyticFunctions2"
      ]
     },
     "execution_count": 3,
     "metadata": {},
     "output_type": "execute_result"
    }
   ],
   "source": [
    "include(string(LOAD_PATH[end], \"AnalyticFunctions2.jl\"))"
   ]
  },
  {
   "cell_type": "code",
   "execution_count": 61,
   "metadata": {},
   "outputs": [
    {
     "name": "stderr",
     "output_type": "stream",
     "text": [
      "WARNING: replacing module AnalyticFunctions2\n"
     ]
    }
   ],
   "source": [
    "#include(string(LOAD_PATH[end], \"AnalyticFunctions.jl\"))\n",
    "reload(\"AnalyticFunctions2\")"
   ]
  },
  {
   "cell_type": "code",
   "execution_count": 20,
   "metadata": {},
   "outputs": [
    {
     "data": {
      "text/plain": [
       "Float16(61.94)"
      ]
     },
     "execution_count": 20,
     "metadata": {},
     "output_type": "execute_result"
    }
   ],
   "source": [
    "AnalyticFunctions.rf_debt(arm.pm.m, arm.c, arm.p, arm.pm.r, arm.pm.xi, arm.pm.kappa)"
   ]
  },
  {
   "cell_type": "code",
   "execution_count": 35,
   "metadata": {
    "collapsed": true
   },
   "outputs": [],
   "source": [
    "using AnalyticFunctions2"
   ]
  },
  {
   "cell_type": "code",
   "execution_count": 65,
   "metadata": {},
   "outputs": [
    {
     "ename": "LoadError",
     "evalue": "\u001b[91mMethodError: no method matching rf_debt()\u001b[0m\nClosest candidates are:\n  rf_debt(\u001b[91m::Any\u001b[39m, \u001b[91m::Any\u001b[39m, \u001b[91m::Any\u001b[39m, \u001b[91m::Any\u001b[39m, \u001b[91m::Any\u001b[39m, \u001b[91m::Any\u001b[39m) at /home/artur/BondPricing/Julia/modules/../Functions/svm_analytic_funs.jl:44\u001b[39m",
     "output_type": "error",
     "traceback": [
      "\u001b[91mMethodError: no method matching rf_debt()\u001b[0m\nClosest candidates are:\n  rf_debt(\u001b[91m::Any\u001b[39m, \u001b[91m::Any\u001b[39m, \u001b[91m::Any\u001b[39m, \u001b[91m::Any\u001b[39m, \u001b[91m::Any\u001b[39m, \u001b[91m::Any\u001b[39m) at /home/artur/BondPricing/Julia/modules/../Functions/svm_analytic_funs.jl:44\u001b[39m",
      ""
     ]
    }
   ],
   "source": [
    "AnalyticFunctions2.rf_debt()"
   ]
  },
  {
   "cell_type": "code",
   "execution_count": 4,
   "metadata": {},
   "outputs": [
    {
     "data": {
      "text/plain": [
       "Dict{String,Any} with 16 entries:\n",
       "  \"c\"           => 6.39\n",
       "  \"vbh\"         => 62\n",
       "  \"sigmah\"      => 0.25\n",
       "  \"r\"           => 0.08\n",
       "  \"gross_delta\" => 0.02\n",
       "  \"sigmal\"      => 0.25\n",
       "  \"vbl\"         => 60\n",
       "  \"kappa\"       => 0.015\n",
       "  \"lambda\"      => 0.3\n",
       "  \"xi\"          => 1.0\n",
       "  \"alpha\"       => 0.6\n",
       "  \"iota\"        => 0.0\n",
       "  \"V0\"          => 100\n",
       "  \"pi\"          => 0.27\n",
       "  \"m\"           => 1.0\n",
       "  \"p\"           => 61.68"
      ]
     },
     "execution_count": 4,
     "metadata": {},
     "output_type": "execute_result"
    }
   ],
   "source": [
    "pardict = Dict(\"V0\" => 100, \n",
    "               \"vbl\" => 60, \n",
    "               \"vbh\" => 62, \n",
    "                \"m\" => 1.,\n",
    "                \"c\" => 6.39,\n",
    "                \"p\" => 61.68,\n",
    "                \"sigmal\" => .25,\n",
    "                \"sigmah\" => .25,\n",
    "                \"r\" => .08,\n",
    "                \"gross_delta\" => .02,\n",
    "                \"iota\" => .0,\n",
    "                \"xi\" => 1.,\n",
    "                \"kappa\" => .015,\n",
    "                \"alpha\" => .6,\n",
    "                \"pi\" => .27,\n",
    "                \"lambda\" => .3)"
   ]
  },
  {
   "cell_type": "code",
   "execution_count": 24,
   "metadata": {},
   "outputs": [
    {
     "ename": "UndefVarError",
     "evalue": "\u001b[91mUndefVarError: result not defined\u001b[39m",
     "output_type": "error",
     "traceback": [
      "\u001b[91mUndefVarError: result not defined\u001b[39m",
      "",
      "Stacktrace:",
      " [1] \u001b[1mexecute_request\u001b[22m\u001b[22m\u001b[1m(\u001b[22m\u001b[22m::ZMQ.Socket, ::IJulia.Msg\u001b[1m)\u001b[22m\u001b[22m at \u001b[1m/home/artur/.julia/v0.6/IJulia/src/execute_request.jl:186\u001b[22m\u001b[22m",
      " [2] \u001b[1m(::Compat.#inner#14{Array{Any,1},IJulia.#execute_request,Tuple{ZMQ.Socket,IJulia.Msg}})\u001b[22m\u001b[22m\u001b[1m(\u001b[22m\u001b[22m\u001b[1m)\u001b[22m\u001b[22m at \u001b[1m/home/artur/.julia/v0.6/Compat/src/Compat.jl:332\u001b[22m\u001b[22m",
      " [3] \u001b[1meventloop\u001b[22m\u001b[22m\u001b[1m(\u001b[22m\u001b[22m::ZMQ.Socket\u001b[1m)\u001b[22m\u001b[22m at \u001b[1m/home/artur/.julia/v0.6/IJulia/src/eventloop.jl:8\u001b[22m\u001b[22m",
      " [4] \u001b[1m(::IJulia.##15#18)\u001b[22m\u001b[22m\u001b[1m(\u001b[22m\u001b[22m\u001b[1m)\u001b[22m\u001b[22m at \u001b[1m./task.jl:335\u001b[22m\u001b[22m"
     ]
    }
   ],
   "source": [
    "?AnalyticFunctions.pvvb_bond_surf()"
   ]
  },
  {
   "cell_type": "code",
   "execution_count": 5,
   "metadata": {},
   "outputs": [
    {
     "data": {
      "text/plain": [
       "Firm"
      ]
     },
     "execution_count": 5,
     "metadata": {},
     "output_type": "execute_result"
    }
   ],
   "source": [
    "using Parameters\n",
    "\n",
    "# @with_kw mutable struct Firm\n",
    "#     V0::Float16\n",
    "#     c::Float16\n",
    "#     p::Float16\n",
    "#     vbl::Float32\n",
    "#     vbh::Float32\n",
    "\n",
    "#     pm::FirmParams\n",
    "\n",
    "# end\n",
    "\n",
    "@with_kw struct FirmParams\n",
    "    m::Float16\n",
    "    alpha::Float16\n",
    "    pi::Float16\n",
    "    \n",
    "    r::Float16\n",
    "    gross_delta::Float16\n",
    "    iota::Float16\n",
    "\n",
    "    xi::UInt8\n",
    "    kappa::Float16\n",
    "    \n",
    "    lambda::Float16\n",
    "    sigmal::Float16\n",
    "    sigmah::Float16\n",
    "    \n",
    "#     fc::FirmChoices\n",
    "\n",
    "end\n",
    "\n",
    "@with_kw mutable struct Firm\n",
    "    V0::Float16\n",
    "    c::Float16\n",
    "    p::Float16\n",
    "    vbl::Float32\n",
    "    vbh::Float32\n",
    "\n",
    "    pm::FirmParams\n",
    "\n",
    "end"
   ]
  },
  {
   "cell_type": "code",
   "execution_count": 6,
   "metadata": {},
   "outputs": [
    {
     "data": {
      "text/plain": [
       "firm_constructor (generic function with 1 method)"
      ]
     },
     "execution_count": 6,
     "metadata": {},
     "output_type": "execute_result"
    }
   ],
   "source": [
    "# # Firm Constructor\n",
    "# function firm_constructor(dict)\n",
    "    \n",
    "#     return Firm(dict[\"m\"], dict[\"alpha\"], dict[\"pi\"],\n",
    "#                 dict[\"r\"], dict[\"gross_delta\"], dict[\"iota\"],\n",
    "#                 dict[\"xi\"], dict[\"kappa\"],\n",
    "#                 dict[\"lambda\"], dict[\"sigmal\"], dict[\"sigmah\"],\n",
    "#                 FirmChoices(dict[\"V0\"], dict[\"c\"], dict[\"p\"],\n",
    "#                    dict[\"vbl\"], dict[\"vbh\"]))\n",
    "# end\n",
    "\n",
    "function firm_constructor(dict)\n",
    "    \n",
    "    return Firm(dict[\"V0\"], dict[\"c\"], dict[\"p\"],\n",
    "                   dict[\"vbl\"], dict[\"vbh\"],\n",
    "                FirmParams(dict[\"m\"], dict[\"alpha\"], dict[\"pi\"],\n",
    "                dict[\"r\"], dict[\"gross_delta\"], dict[\"iota\"],\n",
    "                dict[\"xi\"], dict[\"kappa\"],\n",
    "                dict[\"lambda\"], dict[\"sigmal\"], dict[\"sigmah\"]))\n",
    "end\n"
   ]
  },
  {
   "cell_type": "code",
   "execution_count": 7,
   "metadata": {},
   "outputs": [
    {
     "data": {
      "text/plain": [
       "Firm\n",
       "  V0: Float16 100.0\n",
       "  c: Float16 6.39\n",
       "  p: Float16 61.7\n",
       "  vbl: Float32 60.0\n",
       "  vbh: Float32 62.0\n",
       "  pm: FirmParams\n"
      ]
     },
     "execution_count": 7,
     "metadata": {},
     "output_type": "execute_result"
    }
   ],
   "source": [
    "arm = firm_constructor(pardict)"
   ]
  },
  {
   "cell_type": "code",
   "execution_count": null,
   "metadata": {
    "collapsed": true
   },
   "outputs": [],
   "source": [
    "# addprocs(-19)\n",
    "include(string(LOAD_PATH[end], \"AnalyticFunctions.jl\"))\n",
    "reload(\"AnalyticFunctions\")\n",
    "# addprocs(-19)"
   ]
  },
  {
   "cell_type": "code",
   "execution_count": null,
   "metadata": {
    "collapsed": true
   },
   "outputs": [],
   "source": [
    "tauN = 10^3\n",
    "ttm = arm.pm.m\n",
    "dt = (ttm - 1e-4)/tauN\n",
    "ugrid = linspace(1e-4, ttm, tauN)\n",
    "\n",
    "vmax = 1.5\n",
    "vN = 10^3\n",
    "dv = vmax/vN\n",
    "vgrid = linspace(0, vmax, vN)\n",
    "\n",
    "# vbh = AnalyticFunctions.zhi_vb(arm.pm.m, arm.c, arm.p, arm.pm.sigmah, \n",
    "#                                 arm.pm.r, arm.pm.gross_delta, arm.pm.iota, \n",
    "#                                 arm.pm.xi, arm.pm.kappa, arm.pm.alpha, arm.pm.pi)\n",
    "\n",
    "\n",
    "# ########################################################\n",
    "# ########################################################\n",
    "# Need to integrate for values above vmax!\n",
    "# ########################################################\n",
    "# ########################################################\n",
    "\n",
    "# #######\n",
    "vbhlmin = .8\n",
    "vbhlmax = 1.2\n",
    "vbhlN = 5\n",
    "vbhlgrid = linspace(vbhlmin, vbhlmax, vbhlN)\n",
    "\n",
    "#vtmax = log(bondVmax/vbmin)\n",
    "vtmax = .8\n",
    "vtN = 20\n",
    "vtgrid = linspace(0, vtmax, vtN)\n",
    "\n",
    "tic()\n",
    "\n",
    "resPsi, cubePsi, cubeFPsi, cubeGPsi = AnalyticFunctions.interpd_bondpr_funs(vtgrid, vbhlgrid,\n",
    "                                                         ugrid, vgrid,\n",
    "                                                         arm.pm.sigmal, arm.pm.sigmah,\n",
    "                                                         arm.pm.r, arm.pm.gross_delta,\n",
    "                                                         arm.pm.xi, arm.pm.kappa, arm.pm.lambda)\n",
    "\n",
    "toc()"
   ]
  },
  {
   "cell_type": "code",
   "execution_count": null,
   "metadata": {
    "collapsed": true
   },
   "outputs": [],
   "source": [
    "cubeGPsi"
   ]
  },
  {
   "cell_type": "code",
   "execution_count": null,
   "metadata": {
    "collapsed": true
   },
   "outputs": [],
   "source": [
    "workspace()"
   ]
  },
  {
   "cell_type": "code",
   "execution_count": 16,
   "metadata": {},
   "outputs": [
    {
     "name": "stderr",
     "output_type": "stream",
     "text": [
      "WARNING: replacing module AnalyticFunctions2\n",
      "WARNING: replacing module AnalyticFunctions2\n"
     ]
    }
   ],
   "source": [
    "include(string(LOAD_PATH[end], \"AnalyticFunctions2.jl\"))\n",
    "reload(\"AnalyticFunctions2\")"
   ]
  },
  {
   "cell_type": "code",
   "execution_count": 62,
   "metadata": {},
   "outputs": [
    {
     "name": "stderr",
     "output_type": "stream",
     "text": [
      "WARNING: replacing module AnalyticFunctions2\n"
     ]
    }
   ],
   "source": [
    "reload(\"AnalyticFunctions2\")"
   ]
  },
  {
   "cell_type": "code",
   "execution_count": 49,
   "metadata": {},
   "outputs": [
    {
     "data": {
      "text/plain": [
       "68.2967089427127"
      ]
     },
     "execution_count": 49,
     "metadata": {},
     "output_type": "execute_result"
    }
   ],
   "source": [
    "AnalyticFunctions2.zhi_vb(arm.pm.m, arm.c, arm.p, arm.pm.sigmah, \n",
    "                                arm.pm.r, arm.pm.gross_delta, arm.pm.iota, \n",
    "                                arm.pm.xi, arm.pm.kappa, arm.pm.alpha, arm.pm.pi)\n"
   ]
  },
  {
   "cell_type": "code",
   "execution_count": 51,
   "metadata": {},
   "outputs": [
    {
     "data": {
      "text/plain": [
       "zhi_vb (generic function with 1 method)"
      ]
     },
     "execution_count": 51,
     "metadata": {},
     "output_type": "execute_result"
    }
   ],
   "source": [
    "AnalyticFunctions2.zhi_vb"
   ]
  },
  {
   "cell_type": "code",
   "execution_count": 57,
   "metadata": {},
   "outputs": [
    {
     "data": {
      "text/plain": [
       "rf_debt (generic function with 1 method)"
      ]
     },
     "execution_count": 57,
     "metadata": {},
     "output_type": "execute_result"
    }
   ],
   "source": [
    "AnalyticFunctions2.rf_debt"
   ]
  },
  {
   "cell_type": "code",
   "execution_count": 18,
   "metadata": {},
   "outputs": [
    {
     "data": {
      "text/plain": [
       "Float16(61.94)"
      ]
     },
     "execution_count": 18,
     "metadata": {},
     "output_type": "execute_result"
    }
   ],
   "source": [
    "AnalyticFunctions2.rf_debt(arm.pm.m, arm.c, arm.p, arm.pm.r, arm.pm.xi, arm.pm.kappa)"
   ]
  },
  {
   "cell_type": "code",
   "execution_count": 60,
   "metadata": {},
   "outputs": [
    {
     "data": {
      "text/plain": [
       "0.0009899454894544656"
      ]
     },
     "execution_count": 60,
     "metadata": {},
     "output_type": "execute_result"
    }
   ],
   "source": [
    "AnalyticFunctions2.G_pvs(.8, .7, .3, arm.pm.r, .02, 1, arm.pm.kappa, .3)"
   ]
  },
  {
   "cell_type": "code",
   "execution_count": 39,
   "metadata": {},
   "outputs": [
    {
     "data": {
      "text/plain": [
       "0.0009899454894544656"
      ]
     },
     "execution_count": 39,
     "metadata": {},
     "output_type": "execute_result"
    }
   ],
   "source": [
    "AnalyticFunctions2.G_pvs(.8, .7, .3, arm.pm.r, .02, 1, arm.pm.kappa, .3)"
   ]
  },
  {
   "cell_type": "code",
   "execution_count": 59,
   "metadata": {},
   "outputs": [
    {
     "ename": "LoadError",
     "evalue": "\u001b[91mMethodError: no method matching G_pvs()\u001b[0m\nClosest candidates are:\n  G_pvs(\u001b[91m::Any\u001b[39m, \u001b[91m::Any\u001b[39m, \u001b[91m::Any\u001b[39m, \u001b[91m::Any\u001b[39m, \u001b[91m::Any\u001b[39m, \u001b[91m::Any\u001b[39m, \u001b[91m::Any\u001b[39m, \u001b[91m::Any\u001b[39m) at /home/artur/BondPricing/Julia/modules/../Functions/svm_analytic_funs.jl:23\u001b[39m",
     "output_type": "error",
     "traceback": [
      "\u001b[91mMethodError: no method matching G_pvs()\u001b[0m\nClosest candidates are:\n  G_pvs(\u001b[91m::Any\u001b[39m, \u001b[91m::Any\u001b[39m, \u001b[91m::Any\u001b[39m, \u001b[91m::Any\u001b[39m, \u001b[91m::Any\u001b[39m, \u001b[91m::Any\u001b[39m, \u001b[91m::Any\u001b[39m, \u001b[91m::Any\u001b[39m) at /home/artur/BondPricing/Julia/modules/../Functions/svm_analytic_funs.jl:23\u001b[39m",
      ""
     ]
    }
   ],
   "source": [
    "AnalyticFunctions2.G_pvs() #interpd_bondpr_funs()"
   ]
  },
  {
   "cell_type": "code",
   "execution_count": 63,
   "metadata": {},
   "outputs": [
    {
     "data": {
      "text/plain": [
       "211.870082193"
      ]
     },
     "execution_count": 63,
     "metadata": {},
     "output_type": "execute_result"
    },
    {
     "name": "stdout",
     "output_type": "stream",
     "text": [
      "elapsed time: 211.870082193 seconds\n"
     ]
    }
   ],
   "source": [
    "tauN = 10^3\n",
    "ttm = arm.pm.m\n",
    "dt = (ttm - 1e-4)/tauN\n",
    "ugrid = linspace(1e-4, ttm, tauN)\n",
    "\n",
    "vmax = 1.5\n",
    "vN = 10^3\n",
    "dv = vmax/vN\n",
    "vgrid = linspace(0, vmax, vN)\n",
    "\n",
    "# vbh = AnalyticFunctions.zhi_vb(arm.pm.m, arm.c, arm.p, arm.pm.sigmah, \n",
    "#                                 arm.pm.r, arm.pm.gross_delta, arm.pm.iota, \n",
    "#                                 arm.pm.xi, arm.pm.kappa, arm.pm.alpha, arm.pm.pi)\n",
    "\n",
    "\n",
    "# ########################################################\n",
    "# ########################################################\n",
    "# Need to integrate for values above vmax!\n",
    "# ########################################################\n",
    "# ########################################################\n",
    "\n",
    "# #######\n",
    "vbhlmin = .8\n",
    "vbhlmax = 1.2\n",
    "vbhlN = 5\n",
    "vbhlgrid = linspace(vbhlmin, vbhlmax, vbhlN)\n",
    "\n",
    "#vtmax = log(bondVmax/vbmin)\n",
    "vtmax = .8\n",
    "vtN = 20\n",
    "vtgrid = linspace(0, vtmax, vtN)\n",
    "\n",
    "tic()\n",
    "\n",
    "resPsi2, cubePsi2, cubeFPsi2, cubeGPsi2 = AnalyticFunctions2.interpd_bondpr_funs(vtgrid, vbhlgrid,\n",
    "                                                         ugrid, vgrid,\n",
    "                                                         arm.pm.sigmal, arm.pm.sigmah,\n",
    "                                                         arm.pm.r, arm.pm.gross_delta,\n",
    "                                                         arm.pm.xi, arm.pm.kappa, arm.pm.lambda)\n",
    "\n",
    "toc()"
   ]
  },
  {
   "cell_type": "code",
   "execution_count": 55,
   "metadata": {},
   "outputs": [
    {
     "data": {
      "text/plain": [
       "163902.66947217382"
      ]
     },
     "execution_count": 55,
     "metadata": {},
     "output_type": "execute_result"
    }
   ],
   "source": [
    "AnalyticFunctions.bond_int_Psi(.5, .15, .08, .02, 1, .03, .3, ugrid, vgrid)"
   ]
  },
  {
   "cell_type": "code",
   "execution_count": 54,
   "metadata": {},
   "outputs": [
    {
     "data": {
      "text/plain": [
       "163902.66947217382"
      ]
     },
     "execution_count": 54,
     "metadata": {},
     "output_type": "execute_result"
    }
   ],
   "source": [
    "AnalyticFunctions2.bond_int_Psi(.5, .15, .08, .02, 1, .03, .3, ugrid, vgrid)"
   ]
  },
  {
   "cell_type": "code",
   "execution_count": 11,
   "metadata": {},
   "outputs": [
    {
     "data": {
      "text/plain": [
       "rdisc (generic function with 1 method)"
      ]
     },
     "execution_count": 11,
     "metadata": {},
     "output_type": "execute_result"
    }
   ],
   "source": [
    "AnalyticFunctions2.rdisc"
   ]
  },
  {
   "cell_type": "code",
   "execution_count": null,
   "metadata": {
    "collapsed": true
   },
   "outputs": [],
   "source": [
    "arm.pm.sigmal"
   ]
  },
  {
   "cell_type": "code",
   "execution_count": null,
   "metadata": {
    "collapsed": true
   },
   "outputs": [],
   "source": [
    "?AnalyticFunctions2.interpd_bondpr_funs()"
   ]
  },
  {
   "cell_type": "code",
   "execution_count": 66,
   "metadata": {},
   "outputs": [
    {
     "data": {
      "text/plain": [
       "5×20 Array{Float64,2}:\n",
       " 0.0  0.00600091  0.00828099  0.00841191  …  9.47842e-6   4.63474e-6 \n",
       " 0.0  0.0146822   0.0214022   0.0230042      7.0019e-5    3.68015e-5 \n",
       " 0.0  0.0288606   0.0439668   0.0494811      0.000353226  0.000197823\n",
       " 0.0  0.0213617   0.0431682   0.0623614      0.00123723   0.000735195\n",
       " 0.0  0.0121834   0.0248279   0.0388201      0.00333501   0.0020969  "
      ]
     },
     "execution_count": 66,
     "metadata": {},
     "output_type": "execute_result"
    }
   ],
   "source": [
    "cubeGPsi2"
   ]
  },
  {
   "cell_type": "code",
   "execution_count": null,
   "metadata": {
    "collapsed": true
   },
   "outputs": [],
   "source": [
    "AnalyticFunctions2.q1_pvs(.8, .7, .3, 0.08, 0.02, 1, .025, .05)"
   ]
  },
  {
   "cell_type": "code",
   "execution_count": null,
   "metadata": {
    "collapsed": true
   },
   "outputs": [],
   "source": [
    "# 1. Interpolate Functions for Debt Prices for Vt = V0\n",
    "# 2. Test interpolated bond prices for vbl != vbh (use Python code to check)"
   ]
  },
  {
   "cell_type": "code",
   "execution_count": null,
   "metadata": {
    "collapsed": true
   },
   "outputs": [],
   "source": [
    "[cubeGPsi_sitp[x, .5] for x=vbhlgrid_refined]"
   ]
  },
  {
   "cell_type": "code",
   "execution_count": null,
   "metadata": {
    "collapsed": true
   },
   "outputs": [],
   "source": [
    "using Interpolations\n",
    "\n",
    "vbhlgrid_refined_size = 10^4\n",
    "vbhlgrid_refined = linspace(vbhlgrid[1], vbhlgrid[end], vbhlgrid_refined_size)\n",
    "\n",
    "\n",
    "vtgrid_refined_size = 10^4\n",
    "vtgrid_refined = linspace(vtgrid[1], vtgrid[end], vtgrid_refined_size)\n",
    "\n",
    "# Maybe pass a single vmax\n",
    "tic()\n",
    "resPsi_itp = interpolate(resPsi, BSpline(Cubic(Line())), OnGrid())\n",
    "resPsi_sitp = Interpolations.scale(resPsi_itp, vtgrid)\n",
    "\n",
    "cubePsi_itp = interpolate(cubePsi, BSpline(Cubic(Line())), OnGrid())\n",
    "cubePsi_sitp = Interpolations.scale(cubePsi_itp, vtgrid) # Scale\n",
    "# cubePsiref = [cubePsi_sitp[x] for x in vtgrid_refined]\n",
    "\n",
    "cubeFPsi_itp = interpolate(cubeFPsi, BSpline(Cubic(Line())), OnGrid())\n",
    "cubeFPsi_sitp = Interpolations.scale(cubeFPsi_itp, vbhlgrid, vtgrid) # Scale\n",
    "# cubeFPsiref = [cubeFPsi_sitp[vbl, vt] for vbl=vtgrid_refined, vt=vtgrid_refined]\n",
    "\n",
    "cubeGPsi_itp = interpolate(cubeGPsi, BSpline(Cubic(Line())), OnGrid())\n",
    "cubeGPsi_sitp = Interpolations.scale(cubeGPsi_itp, vbhlgrid, vtgrid) # Scale\n",
    "# cubeGPsiref = [cubeGPsi_sitp[vbl, vt] for vbl=vtgrid_refined, vt=vtgrid_refined]\n",
    "toc()"
   ]
  },
  {
   "cell_type": "code",
   "execution_count": null,
   "metadata": {
    "collapsed": true
   },
   "outputs": [],
   "source": [
    "resPsi"
   ]
  },
  {
   "cell_type": "code",
   "execution_count": null,
   "metadata": {
    "collapsed": true
   },
   "outputs": [],
   "source": [
    "cubeGPsi_sitp[0., .5]"
   ]
  },
  {
   "cell_type": "code",
   "execution_count": null,
   "metadata": {
    "collapsed": true
   },
   "outputs": [],
   "source": [
    "include(string(LOAD_PATH[end], \"AnalyticFunctions.jl\"))\n",
    "reload(\"AnalyticFunctions\")\n",
    "\n",
    "\n",
    "tic()\n",
    "AnalyticFunctions.bond_pr_interp(arm, 90., vbh, 1., vmax,\n",
    "                resPsi_sitp, cubePsi_sitp, cubeFPsi_sitp, cubeGPsi_sitp)\n",
    "toc()"
   ]
  },
  {
   "cell_type": "code",
   "execution_count": null,
   "metadata": {
    "collapsed": true
   },
   "outputs": [],
   "source": [
    "tic()\n",
    "AnalyticFunctions.bond_pr_interp(arm, 90., vbh, 1., vmax,\n",
    "                resPsi_sitp, cubePsi_sitp, cubeFPsi_sitp, cubeGPsi_sitp)\n",
    "toc()"
   ]
  },
  {
   "cell_type": "code",
   "execution_count": null,
   "metadata": {
    "collapsed": true
   },
   "outputs": [],
   "source": [
    "tic()\n",
    "bvec_Future = @spawn [AnalyticFunctions.bond_pr_interp(arm, Vt, vbh, 1., vmax,\n",
    "                                                    resPsi_sitp, cubePsi_sitp,\n",
    "                                                    cubeFPsi_sitp, cubeGPsi_sitp) \n",
    "                        for Vt=linspace(0, 100, 125)]\n",
    "bvec = fetch(bvec_Future)\n",
    "toc()"
   ]
  },
  {
   "cell_type": "code",
   "execution_count": null,
   "metadata": {
    "collapsed": true
   },
   "outputs": [],
   "source": [
    "ttm_grid_size"
   ]
  },
  {
   "cell_type": "code",
   "execution_count": null,
   "metadata": {
    "collapsed": true
   },
   "outputs": [],
   "source": [
    "tic()\n",
    "ttm_grid_size = 20\n",
    "debt = AnalyticFunctions.get_debt_price(log(100/vbh), vbh, vbh, ttm_grid_size,\n",
    "                            arm.pm.m, arm.c, arm.p,\n",
    "                              arm.pm.r, arm.pm.gross_delta, arm.pm.iota,\n",
    "                              arm.pm.xi, arm.pm.kappa, arm.pm.alpha, arm.pm.pi,\n",
    "                              arm.pm.lambda, arm.pm.sigmal, arm.pm.sigmah)\n",
    "toc()\n",
    "debt"
   ]
  },
  {
   "cell_type": "code",
   "execution_count": null,
   "metadata": {
    "collapsed": true
   },
   "outputs": [],
   "source": []
  },
  {
   "cell_type": "code",
   "execution_count": null,
   "metadata": {
    "collapsed": true
   },
   "outputs": [],
   "source": [
    "AnalyticFunctions.bond_pr_main(log(90/vbh), 1., vbh, vbh,\n",
    "                              arm.pm.m, arm.c, arm.p,\n",
    "                              arm.pm.r, arm.pm.gross_delta, arm.pm.iota,\n",
    "                              arm.pm.xi, arm.pm.kappa, arm.pm.alpha, arm.pm.pi,\n",
    "                              arm.pm.lambda, arm.pm.sigmal, arm.pm.sigmah)#, vmax=NaN)"
   ]
  },
  {
   "cell_type": "code",
   "execution_count": null,
   "metadata": {
    "collapsed": true
   },
   "outputs": [],
   "source": [
    "vbh= AnalyticFunctions.zhi_vb(arm.pm.m, arm.c, arm.p,\n",
    "    arm.pm.sigmah, arm.pm.r, arm.pm.gross_delta, arm.pm.iota, arm.pm.xi, arm.pm.kappa, arm.pm.alpha, arm.pm.pi)"
   ]
  },
  {
   "cell_type": "code",
   "execution_count": null,
   "metadata": {
    "collapsed": true
   },
   "outputs": [],
   "source": [
    "?AnalyticFunctions.rdisc"
   ]
  },
  {
   "cell_type": "code",
   "execution_count": null,
   "metadata": {
    "collapsed": true
   },
   "outputs": [],
   "source": [
    "function bond_pr_interp(st, vt, vbl, ttm, vmax,\n",
    "                        resPsi, iPsi, iFPsi, iGPsi)\n",
    "    \n",
    "    # Capital Structure\n",
    "    m = st.pm.m\n",
    "    c = st.c\n",
    "    p = st.p\n",
    "    \n",
    "    # Dynamics\n",
    "    r = st.pm.r\n",
    "    gross_delta = st.pm.gross_delta\n",
    "    iota = st.pm.iota\n",
    "    \n",
    "    # Liquidity\n",
    "    xi = st.pm.xi\n",
    "    k = st.pm.kappa\n",
    "    \n",
    "    # Volatility\n",
    "    _lambda = st.pm.lambda\n",
    "    sigmal = st.pm.sigmal\n",
    "    sigmah = st.pm.sigmah\n",
    "    \n",
    "    # Default Barrier \n",
    "    vbh = zhi_vb(m, c, p, sigma, r, gross_delta, iota, xi, k, alpha, pi)\n",
    "\n",
    "    \n",
    "    if vt < 0\n",
    "            return NaN\n",
    "    else\n",
    "        # Maturity or Default prior to Volatility Shock:\n",
    "        cf0 = no_vol_shock_cf_pv(vt, vb, ttm,\n",
    "                                 m, c, p, sigmal,\n",
    "                                 r, gross_delta,\n",
    "                                 xi, k, alpha, _lambda)\n",
    "\n",
    "        # Volatility Shock Prior to Maturity:\n",
    "        cf1 = c/rdisc(r, xi, k) * Psi[v] + \n",
    "              (p - c/rdisc(r, xi, k)) * iFPsi[log(vbh/vbl), v] +\n",
    "              (alpha * vbh/m - c/rdisc(r, xi, k)) * iGPsi[log(vbh/vbl), v]\n",
    "        cf2 = rfbond_price(ttm, c, p, r, xi, k) * resPsi[ttm]\n",
    "\n",
    "        return cf0 + cf1 + cf2\n",
    "    end\n",
    "end"
   ]
  },
  {
   "cell_type": "code",
   "execution_count": null,
   "metadata": {
    "collapsed": true
   },
   "outputs": [],
   "source": [
    "?AnalyticFunctions.zhi_vb()"
   ]
  },
  {
   "cell_type": "code",
   "execution_count": null,
   "metadata": {
    "collapsed": true
   },
   "outputs": [],
   "source": []
  },
  {
   "cell_type": "code",
   "execution_count": null,
   "metadata": {
    "collapsed": true
   },
   "outputs": [],
   "source": [
    "u = .5\n",
    "ttm = arm.pm.m\n",
    "vmax=2\n",
    "vbl = 55\n",
    "vt = log(arm.V0/vbl)\n",
    "v = .8\n",
    "#vbh = AnalyticFunctions.zhi_vb(arm.rm.m, c, p, sigma, r, gross_delta, iota, xi, k, alpha, pi)\n",
    "vbh = 60\n",
    "\n",
    "# AnalyticFunctions.vol_shock_cf_integrand_FPsi(vt, v, vbl, vbh,\n",
    "#                             u, ttm,\n",
    "#                             arm.pm.sigmal, arm.pm.sigmah,\n",
    "#                             arm.pm.r, arm.pm.gross_delta,\n",
    "#                             arm.pm.xi, arm.pm.kappa, arm.pm.lambda)\n",
    "\n",
    "tauN = 10^3\n",
    "vN = 10^3\n",
    "dt = (ttm - 1e-4)/tauN\n",
    "dv = vmax/vN\n",
    "\n",
    "ugrid = linspace(1e-4, ttm, tauN)\n",
    "vgrid = linspace(0, vmax, vN)\n",
    "\n",
    "# #######\n",
    "vblmin = 50\n",
    "vblmax = 65\n",
    "vblN = 2\n",
    "vblgrid = linspace(vblmin, vblmax, vblN)\n",
    "\n",
    "#vtmax = log(bondVmax/vbmin)\n",
    "vtmax = 1.2\n",
    "vtN = 5\n",
    "vtgrid = linspace(0, vtmax, vtN)\n",
    "\n",
    "\n",
    "# #######\n",
    "sigmal = arm.pm.sigmal\n",
    "sigmah = arm.pm.sigmah\n",
    "r = arm.pm.r\n",
    "gross_delta = arm.pm.gross_delta\n",
    "xi = arm.pm.xi \n",
    "kappa = arm.pm.kappa\n",
    "_lambda = arm.pm.lambda\n",
    "\n",
    "\n",
    "tic()\n",
    "cubePsi_Future = @spawn [AnalyticFunctions.bond_int_Psi(vt,\n",
    "                                ttm,\n",
    "                                sigmal, \n",
    "                                r, gross_delta,\n",
    "                                xi, kappa, _lambda,\n",
    "                                ugrid, vgrid) * dt * dv for vt=vtgrid]\n",
    "cubePsi = fetch(cubePsi_Future)\n",
    "\n",
    "cubeFPsi_Future = @spawn [AnalyticFunctions.bond_int_FPsi(vt, vbl, vbh,\n",
    "                                ttm, # vmax,\n",
    "                                sigmal, sigmah,\n",
    "                                r, gross_delta,\n",
    "                                xi, kappa, _lambda,\n",
    "                                ugrid, vgrid) * dt * dv for vbl=vblgrid, vt=vtgrid]\n",
    "cubeFPsi = fetch(cubeFPsi_Future)\n",
    "\n",
    "cubeGPsi_Future = @spawn [AnalyticFunctions.bond_int_GPsi(vt, vbl, vbh,\n",
    "                                ttm, # vmax,\n",
    "                                sigmal, sigmah,\n",
    "                                r, gross_delta,\n",
    "                                xi, kappa, _lambda,\n",
    "                                ugrid, vgrid) * dt * dv for vbl=vblgrid, vt=vtgrid]\n",
    "cubeGPsi = fetch(cubeGPsi_Future)\n",
    "\n",
    "# Psi = AnalyticFunctions.bond_int_Psi(vt, v,\n",
    "#                                 u, ttm, # vmax,\n",
    "#                                 arm.pm.sigmal, \n",
    "#                                 arm.pm.r, arm.pm.gross_delta,\n",
    "#                                 arm.pm.xi, arm.pm.kappa, arm.pm.lambda,\n",
    "#                                 ugrid, vgrid) * dt * dv\n",
    "\n",
    "# FPsi = AnalyticFunctions.bond_int_FPsi(vt, v, vbl, vbh,\n",
    "#                                         u, ttm, # vmax,\n",
    "#                                         arm.pm.sigmal, arm.pm.sigmah,\n",
    "#                                         arm.pm.r, arm.pm.gross_delta,\n",
    "#                                         arm.pm.xi, arm.pm.kappa, arm.pm.lambda,\n",
    "#                                         ugrid, vgrid) * dt * dv\n",
    "\n",
    "# GPsi= AnalyticFunctions.bond_int_GPsi(vt, v, vbl, vbh,\n",
    "#                                         u, ttm, # vmax,\n",
    "#                                         arm.pm.sigmal, arm.pm.sigmah,\n",
    "#                                         arm.pm.r, arm.pm.gross_delta,\n",
    "#                                         arm.pm.xi, arm.pm.kappa, arm.pm.lambda,\n",
    "#                                         ugrid, vgrid) * dt * dv\n",
    "\n",
    "   \n",
    "toc()\n",
    "cubePsi\n",
    "cubeFPsi\n",
    "cubeGPsi\n",
    "# println(string(\"Psi: \", Psi))\n",
    "# println(string(\"FPsi: \", FPsi))\n",
    "# println(string(\"GPsi: \", GPsi))"
   ]
  },
  {
   "cell_type": "code",
   "execution_count": null,
   "metadata": {
    "collapsed": true
   },
   "outputs": [],
   "source": [
    "tauN = 10^3\n",
    "vN = 10^3\n",
    "dt = (ttm - 1e-4)/tauN\n",
    "dv = vmax/vN\n",
    "\n",
    "ugrid = linspace(1e-4, ttm, tauN)\n",
    "vgrid = linspace(0, vmax, vN)\n",
    "\n",
    "# #######\n",
    "vblmin = 50\n",
    "vblmax = 65\n",
    "vblN = 2\n",
    "vblgrid = linspace(vblmin, vblmax, vblN)\n",
    "\n",
    "#vtmax = log(bondVmax/vbmin)\n",
    "vtmax = 1.2\n",
    "vtN = 5\n",
    "vtgrid = linspace(0, vtmax, vtN)\n",
    "\n",
    "tic()\n",
    "a, b, c = AnalyticFunctions.interpolate_bondpr_funs(vtmax, vtN,\n",
    "                                     vblmin, vblmax, vblN, vbh,\n",
    "                                     sigmal, sigmah,\n",
    "                                     r, gross_delta,\n",
    "                                     xi, kappa, _lambda,\n",
    "                                     ugrid, vgrid)\n",
    "\n",
    "toc()"
   ]
  },
  {
   "cell_type": "code",
   "execution_count": null,
   "metadata": {
    "collapsed": true
   },
   "outputs": [],
   "source": [
    "a"
   ]
  },
  {
   "cell_type": "code",
   "execution_count": null,
   "metadata": {
    "collapsed": true
   },
   "outputs": [],
   "source": [
    "cubeGPsi"
   ]
  },
  {
   "cell_type": "code",
   "execution_count": null,
   "metadata": {
    "collapsed": true
   },
   "outputs": [],
   "source": [
    "using Interpolations\n",
    "\n",
    "vblgrid_refined_size = 10^4\n",
    "vblgrid_refined = linspace(vblgrid[1], vblgrid[end], vblgrid_refined_size)\n",
    "\n",
    "\n",
    "vtgrid_refined_size = 10^4\n",
    "vtgrid_refined = linspace(vtgrid[1], vtgrid[end], vtgrid_refined_size)\n",
    "\n",
    "# Maybe pass a single vmax\n",
    "tic()\n",
    "cubePsi_itp = interpolate(cubePsi, BSpline(Cubic(Line())), OnGrid())\n",
    "cubePsi_sitp = Interpolations.scale(cubePsi_itp, vtgrid) # Scale\n",
    "# cubePsiref = [cubePsi_sitp[x] for x in vtgrid_refined]\n",
    "\n",
    "cubeFPsi_itp = interpolate(cubeFPsi, BSpline(Cubic(Line())), OnGrid())\n",
    "cubeFPsi_sitp = Interpolations.scale(cubeFPsi_itp, vblgrid, vtgrid) # Scale\n",
    "# cubeFPsiref = [cubeFPsi_sitp[vbl, vt] for vbl=vtgrid_refined, vt=vtgrid_refined]\n",
    "\n",
    "cubeGPsi_itp = interpolate(cubeFPsi, BSpline(Cubic(Line())), OnGrid())\n",
    "cubeGPsi_sitp = Interpolations.scale(cubeGPsi_itp, vblgrid, vtgrid) # Scale\n",
    "# cubeGPsiref = [cubeGPsi_sitp[vbl, vt] for vbl=vtgrid_refined, vt=vtgrid_refined]\n",
    "toc()"
   ]
  },
  {
   "cell_type": "code",
   "execution_count": null,
   "metadata": {
    "collapsed": true
   },
   "outputs": [],
   "source": []
  },
  {
   "cell_type": "code",
   "execution_count": null,
   "metadata": {
    "collapsed": true
   },
   "outputs": [],
   "source": [
    "cubePsi"
   ]
  },
  {
   "cell_type": "code",
   "execution_count": null,
   "metadata": {
    "collapsed": true
   },
   "outputs": [],
   "source": []
  },
  {
   "cell_type": "code",
   "execution_count": null,
   "metadata": {
    "collapsed": true
   },
   "outputs": [],
   "source": [
    "cubeFPsi"
   ]
  },
  {
   "cell_type": "code",
   "execution_count": null,
   "metadata": {
    "collapsed": true
   },
   "outputs": [],
   "source": []
  },
  {
   "cell_type": "code",
   "execution_count": null,
   "metadata": {
    "collapsed": true
   },
   "outputs": [],
   "source": [
    "# include(string(LOAD_PATH[end], \"AnalyticFunctions.jl\"))\n",
    "# reload(\"AnalyticFunctions\")\n",
    "tic()\n",
    "\n",
    "u = .5\n",
    "ttm = arm.pm.m\n",
    "vmax=2\n",
    "vbl = 55\n",
    "vt = log(arm.V0/vbl)\n",
    "v = .8\n",
    "#vbh = AnalyticFunctions.zhi_vb(arm.rm.m, c, p, sigma, r, gross_delta, iota, xi, k, alpha, pi)\n",
    "vbh = 60\n",
    "\n",
    "# AnalyticFunctions.vol_shock_cf_integrand_FPsi(vt, v, vbl, vbh,\n",
    "#                             u, ttm,\n",
    "#                             arm.pm.sigmal, arm.pm.sigmah,\n",
    "#                             arm.pm.r, arm.pm.gross_delta,\n",
    "#                             arm.pm.xi, arm.pm.kappa, arm.pm.lambda)\n",
    "\n",
    "# tauN = 10^3\n",
    "# vN = 10^3\n",
    "# dt = (ttm - 1e-4)/tauN\n",
    "# dv = vmax/vN\n",
    "\n",
    "# ugrid = linspace(1e-4, ttm, tauN)\n",
    "# vgrid = linspace(0, vmax, vN)\n",
    "\n",
    "\n",
    "\n",
    "Psi, FPsi, GPsi= AnalyticFunctions.bond_int_terms(vt, v, vbl, vbh,\n",
    "                                        u, ttm, vmax,\n",
    "                                        arm.pm.sigmal, arm.pm.sigmah,\n",
    "                                        arm.pm.r, arm.pm.gross_delta,\n",
    "                                        arm.pm.xi, arm.pm.kappa, arm.pm.lambda)\n",
    "\n",
    "   \n",
    "toc()\n",
    "\n",
    "println(string(\"Psi: \", Psi))\n",
    "println(string(\"FPsi: \", FPsi))\n",
    "println(string(\"GPsi: \", GPsi))"
   ]
  },
  {
   "cell_type": "code",
   "execution_count": null,
   "metadata": {
    "collapsed": true
   },
   "outputs": [],
   "source": [
    "\n",
    "tic()\n",
    "pmin = 50\n",
    "pmax = 70\n",
    "pN = 2\n",
    "vN = 20\n",
    "vbmin = 50\n",
    "vbmax = 70\n",
    "vbN = 2\n",
    "\n",
    "cube = AnalyticFunctions.pvvb_bond_surf(arm.V0, pmin, pmax, pN, vN,\n",
    "                            vbmin, vbmax, vbN,\n",
    "                            arm.pm.m, arm.c, arm.p,\n",
    "                            arm.pm.r, arm.pm.gross_delta, arm.pm.iota,\n",
    "                            arm.pm.xi, arm.pm.kappa,\n",
    "                            arm.pm.alpha, arm.pm.pi,\n",
    "                            arm.pm.lambda, arm.pm.sigmal, arm.pm.sigmah)\n",
    "toc()"
   ]
  },
  {
   "cell_type": "code",
   "execution_count": null,
   "metadata": {
    "collapsed": true
   },
   "outputs": [],
   "source": [
    "120/80 * 60000 / 3600"
   ]
  },
  {
   "cell_type": "code",
   "execution_count": null,
   "metadata": {
    "collapsed": true
   },
   "outputs": [],
   "source": [
    "cube"
   ]
  },
  {
   "cell_type": "code",
   "execution_count": null,
   "metadata": {
    "collapsed": true
   },
   "outputs": [],
   "source": [
    "@unpack (sigmal,\n",
    "            sigmah) = arm.pm"
   ]
  },
  {
   "cell_type": "code",
   "execution_count": null,
   "metadata": {
    "collapsed": true
   },
   "outputs": [],
   "source": [
    "@unpack V0 = arm"
   ]
  },
  {
   "cell_type": "code",
   "execution_count": null,
   "metadata": {
    "collapsed": true
   },
   "outputs": [],
   "source": [
    "4 * (3 > 4)"
   ]
  },
  {
   "cell_type": "code",
   "execution_count": null,
   "metadata": {
    "collapsed": true
   },
   "outputs": [],
   "source": []
  },
  {
   "cell_type": "code",
   "execution_count": null,
   "metadata": {
    "collapsed": true
   },
   "outputs": [],
   "source": [
    "arm.V0"
   ]
  },
  {
   "cell_type": "code",
   "execution_count": null,
   "metadata": {
    "collapsed": true
   },
   "outputs": [],
   "source": []
  },
  {
   "cell_type": "code",
   "execution_count": null,
   "metadata": {
    "collapsed": true
   },
   "outputs": [],
   "source": [
    "sigmah"
   ]
  },
  {
   "cell_type": "code",
   "execution_count": null,
   "metadata": {
    "collapsed": true
   },
   "outputs": [],
   "source": [
    "@unpack V0 = arm"
   ]
  },
  {
   "cell_type": "code",
   "execution_count": null,
   "metadata": {
    "collapsed": true
   },
   "outputs": [],
   "source": [
    "V0"
   ]
  },
  {
   "cell_type": "code",
   "execution_count": null,
   "metadata": {
    "collapsed": true
   },
   "outputs": [],
   "source": [
    "arm.fc.V0 = 200"
   ]
  },
  {
   "cell_type": "code",
   "execution_count": null,
   "metadata": {
    "collapsed": true
   },
   "outputs": [],
   "source": [
    "tmp = afun.return_args(afun.zhi_vb)"
   ]
  },
  {
   "cell_type": "code",
   "execution_count": null,
   "metadata": {
    "collapsed": true
   },
   "outputs": [],
   "source": [
    "a = methods(afun.zhi_vb)"
   ]
  },
  {
   "cell_type": "code",
   "execution_count": null,
   "metadata": {
    "collapsed": true
   },
   "outputs": [],
   "source": [
    "methods(afun.zhi_vb).mt"
   ]
  },
  {
   "cell_type": "code",
   "execution_count": null,
   "metadata": {
    "collapsed": true
   },
   "outputs": [],
   "source": [
    "a.ms[1].unspecialized"
   ]
  },
  {
   "cell_type": "code",
   "execution_count": null,
   "metadata": {
    "collapsed": true
   },
   "outputs": [],
   "source": [
    "fieldnames(a.mt.defs.func)"
   ]
  },
  {
   "cell_type": "code",
   "execution_count": null,
   "metadata": {
    "collapsed": true
   },
   "outputs": [],
   "source": [
    "b"
   ]
  },
  {
   "cell_type": "code",
   "execution_count": null,
   "metadata": {
    "collapsed": true
   },
   "outputs": [],
   "source": [
    "fieldnames(a.ms[1])"
   ]
  },
  {
   "cell_type": "code",
   "execution_count": null,
   "metadata": {
    "collapsed": true
   },
   "outputs": [],
   "source": [
    " ast = Base.uncompressed_ast(methods(afun.zhi_vb).defs.func.code)"
   ]
  },
  {
   "cell_type": "code",
   "execution_count": null,
   "metadata": {
    "collapsed": true
   },
   "outputs": [],
   "source": [
    "sigmah*sigmal"
   ]
  },
  {
   "cell_type": "code",
   "execution_count": null,
   "metadata": {
    "collapsed": true
   },
   "outputs": [],
   "source": [
    "function get_vb(a::Firm)\n",
    "    @unpack m = a\n",
    "    println(string(['m value is:  ', m]))\n",
    "end"
   ]
  },
  {
   "cell_type": "code",
   "execution_count": null,
   "metadata": {
    "collapsed": true
   },
   "outputs": [],
   "source": [
    "?afun.zhi_vb"
   ]
  },
  {
   "cell_type": "code",
   "execution_count": null,
   "metadata": {
    "collapsed": true
   },
   "outputs": [],
   "source": []
  }
 ],
 "metadata": {
  "kernelspec": {
   "display_name": "Julia 0.6.0",
   "language": "julia",
   "name": "julia-0.6"
  },
  "language_info": {
   "file_extension": ".jl",
   "mimetype": "application/julia",
   "name": "julia",
   "version": "0.6.0"
  }
 },
 "nbformat": 4,
 "nbformat_minor": 2
}
