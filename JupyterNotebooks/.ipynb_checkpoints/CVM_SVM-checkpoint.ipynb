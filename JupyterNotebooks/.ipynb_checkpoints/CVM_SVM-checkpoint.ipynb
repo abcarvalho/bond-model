{
 "cells": [
  {
   "cell_type": "code",
   "execution_count": 3,
   "metadata": {
    "scrolled": true
   },
   "outputs": [
    {
     "name": "stderr",
     "output_type": "stream",
     "text": [
      "WARNING: replacing module TestFunctions.\n",
      "WARNING: replacing module Batch.\n",
      "WARNING: replacing module ModelObj.\n",
      "WARNING: replacing module AnalyticFunctions.\n",
      "WARNING: replacing module BondPrInterp.\n",
      "WARNING: replacing module EqFinDiff.\n",
      "WARNING: replacing module JointEq.\n"
     ]
    },
    {
     "ename": "LoadError",
     "evalue": "UndefVarError: load_opt_results_df not defined",
     "output_type": "error",
     "traceback": [
      "UndefVarError: load_opt_results_df not defined",
      "",
      "Stacktrace:",
      " [1] include at ./boot.jl:326 [inlined]",
      " [2] include_relative(::Module, ::String) at ./loading.jl:1038",
      " [3] include(::Module, ::String) at ./sysimg.jl:29",
      " [4] include(::String) at ./client.jl:403",
      " [5] top-level scope at ./In[3]:19"
     ]
    }
   ],
   "source": [
    "using Distributions\n",
    "using Interpolations\n",
    "using Distributed\n",
    "using DataFrames\n",
    "using Printf\n",
    "using JLD\n",
    "using CSV\n",
    "using Dierckx\n",
    "using Dates\n",
    "using PyPlot\n",
    "using Seaborn\n",
    "\n",
    "main_path = \"/home/artur/BondPricing\"\n",
    "module_path = string(main_path, \"/\", \"Julia/modules/\")\n",
    "include(string(module_path, \"/\", \"TestFunctions.jl\"))\n",
    "modls = [\"Batch\", \"ModelObj\", \"AnalyticFunctions\", \n",
    "         \"BondPrInterp\", \"EqFinDiff\", \"JointEq\"]\n",
    "for modl in modls\n",
    "    include(string(joinpath(module_path, modl), \"/\", modl, \".jl\"))\n",
    "end\n",
    "\n",
    "ENV[\"LINES\"] = 750"
   ]
  },
  {
   "cell_type": "markdown",
   "metadata": {},
   "source": [
    "# Load CVM & SVM Optimal Results"
   ]
  },
  {
   "cell_type": "code",
   "execution_count": 4,
   "metadata": {},
   "outputs": [
    {
     "name": "stdout",
     "output_type": "stream",
     "text": [
      "Loading optimal results dataframe...\n"
     ]
    },
    {
     "data": {
      "text/html": [
       "<table class=\"data-frame\"><thead><tr><th></th><th>comb_num</th><th>m</th><th>m_comb_num</th><th>gross_delta</th><th>delta</th><th>iota</th><th>kappa</th><th>lambda</th><th>sigmah</th><th>sigmal</th><th>mu_b</th><th>c</th><th>p</th><th>vb</th><th>cvml_vb</th><th>cvmh_vb</th><th>debt_diff</th><th>eq_deriv</th><th>eq_min_val</th><th>sg_debt</th><th>debt</th><th>sg_equity</th><th>equity</th><th>firm_value</th><th>leverage</th><th>ROE</th><th>V0</th><th>r</th><th>alpha</th><th>pi</th><th>xi</th><th>abs_debt_diff</th><th>debt_per_diff</th><th>abs_debt_per_diff</th><th>eq_vb</th></tr><tr><th></th><th>Int64</th><th>Float64</th><th>Int64</th><th>Float64</th><th>Float64</th><th>Float64</th><th>Float64</th><th>Float64</th><th>Float64</th><th>Float64</th><th>Float64</th><th>Float64</th><th>Float64</th><th>Float64</th><th>Float64</th><th>Float64</th><th>Float64</th><th>Float64</th><th>Float64</th><th>Float64</th><th>Float64</th><th>Float64</th><th>Float64</th><th>Float64</th><th>Float64</th><th>Float64</th><th>Float64</th><th>Float64</th><th>Float64</th><th>Float64</th><th>Float64</th><th>Float64</th><th>Float64</th><th>Float64</th><th>Float64</th></tr></thead><tbody><p>1,040 rows × 35 columns</p><tr><th>1</th><td>1</td><td>1.0</td><td>1</td><td>0.02</td><td>0.02</td><td>0.0</td><td>0.0025</td><td>NaN</td><td>NaN</td><td>0.15</td><td>1.0</td><td>4.65309</td><td>56.3957</td><td>59.8191</td><td>NaN</td><td>NaN</td><td>-0.000242867</td><td>NaN</td><td>NaN</td><td>56.3956</td><td>56.3954</td><td>55.4201</td><td>55.4196</td><td>111.815</td><td>50.4364</td><td>27.0959</td><td>100.0</td><td>0.08</td><td>0.6</td><td>0.27</td><td>1.0</td><td>0.000242867</td><td>-4.30649e-6</td><td>4.30649e-6</td><td>4.61853e-13</td></tr><tr><th>2</th><td>6</td><td>1.0</td><td>2</td><td>0.02</td><td>0.02</td><td>0.0</td><td>0.005</td><td>NaN</td><td>NaN</td><td>0.15</td><td>1.0</td><td>4.68739</td><td>55.1382</td><td>59.1051</td><td>NaN</td><td>NaN</td><td>5.40764e-6</td><td>NaN</td><td>NaN</td><td>55.1383</td><td>55.1382</td><td>55.3474</td><td>55.3458</td><td>110.484</td><td>49.9061</td><td>23.3696</td><td>100.0</td><td>0.08</td><td>0.6</td><td>0.27</td><td>1.0</td><td>5.40764e-6</td><td>9.80743e-8</td><td>9.80743e-8</td><td>-5.40012e-13</td></tr><tr><th>3</th><td>11</td><td>1.0</td><td>3</td><td>0.02</td><td>0.02</td><td>0.0</td><td>0.01</td><td>NaN</td><td>NaN</td><td>0.15</td><td>1.0</td><td>4.71435</td><td>52.3777</td><td>57.3252</td><td>NaN</td><td>NaN</td><td>6.09178e-5</td><td>NaN</td><td>NaN</td><td>52.3777</td><td>52.3778</td><td>55.5615</td><td>55.5602</td><td>107.938</td><td>48.5258</td><td>16.6687</td><td>100.0</td><td>0.08</td><td>0.6</td><td>0.27</td><td>1.0</td><td>6.09178e-5</td><td>1.16305e-6</td><td>1.16305e-6</td><td>3.19744e-14</td></tr><tr><th>4</th><td>16</td><td>1.0</td><td>4</td><td>0.02</td><td>0.02</td><td>0.0</td><td>0.015</td><td>NaN</td><td>NaN</td><td>0.15</td><td>1.0</td><td>4.67269</td><td>49.185</td><td>54.9394</td><td>NaN</td><td>NaN</td><td>3.20134e-5</td><td>NaN</td><td>NaN</td><td>49.185</td><td>49.185</td><td>56.3722</td><td>56.3722</td><td>105.557</td><td>46.5956</td><td>10.9362</td><td>100.0</td><td>0.08</td><td>0.6</td><td>0.27</td><td>1.0</td><td>3.20134e-5</td><td>6.50877e-7</td><td>6.50877e-7</td><td>2.13163e-13</td></tr><tr><th>5</th><td>21</td><td>1.0</td><td>5</td><td>0.02</td><td>0.01995</td><td>5.0e-5</td><td>0.0025</td><td>NaN</td><td>NaN</td><td>0.15</td><td>1.0</td><td>4.64819</td><td>56.3375</td><td>59.8457</td><td>NaN</td><td>NaN</td><td>-0.000296972</td><td>NaN</td><td>NaN</td><td>56.3374</td><td>56.3372</td><td>55.2167</td><td>55.2165</td><td>111.554</td><td>50.5023</td><td>26.4611</td><td>100.0</td><td>0.08</td><td>0.6</td><td>0.27</td><td>1.0</td><td>0.000296972</td><td>-5.2713e-6</td><td>5.2713e-6</td><td>1.112e-12</td></tr><tr><th>6</th><td>26</td><td>1.0</td><td>6</td><td>0.02</td><td>0.0199</td><td>0.0001</td><td>0.005</td><td>NaN</td><td>NaN</td><td>0.15</td><td>1.0</td><td>4.67759</td><td>55.0246</td><td>59.1578</td><td>NaN</td><td>NaN</td><td>-6.97356e-5</td><td>NaN</td><td>NaN</td><td>55.0246</td><td>55.0245</td><td>54.9412</td><td>54.9399</td><td>109.964</td><td>50.0385</td><td>22.1553</td><td>100.0</td><td>0.08</td><td>0.6</td><td>0.27</td><td>1.0</td><td>6.97356e-5</td><td>-1.26735e-6</td><td>1.26735e-6</td><td>-3.90799e-13</td></tr><tr><th>7</th><td>31</td><td>1.0</td><td>7</td><td>0.02</td><td>0.0199</td><td>0.0001</td><td>0.01</td><td>NaN</td><td>NaN</td><td>0.15</td><td>1.0</td><td>4.70577</td><td>52.2831</td><td>57.391</td><td>NaN</td><td>NaN</td><td>2.78725e-5</td><td>NaN</td><td>NaN</td><td>52.2831</td><td>52.2832</td><td>55.1421</td><td>55.1409</td><td>107.424</td><td>48.6699</td><td>15.5585</td><td>100.0</td><td>0.08</td><td>0.6</td><td>0.27</td><td>1.0</td><td>2.78725e-5</td><td>5.33108e-7</td><td>5.33108e-7</td><td>3.2685e-13</td></tr><tr><th>8</th><td>36</td><td>1.0</td><td>8</td><td>0.02</td><td>0.0199</td><td>0.0001</td><td>0.015</td><td>NaN</td><td>NaN</td><td>0.15</td><td>1.0</td><td>4.66534</td><td>49.1077</td><td>55.0155</td><td>NaN</td><td>NaN</td><td>2.86159e-5</td><td>NaN</td><td>NaN</td><td>49.1077</td><td>49.1077</td><td>55.9405</td><td>55.9404</td><td>105.048</td><td>46.7478</td><td>9.91924</td><td>100.0</td><td>0.08</td><td>0.6</td><td>0.27</td><td>1.0</td><td>2.86159e-5</td><td>5.82717e-7</td><td>5.82717e-7</td><td>7.4607e-14</td></tr><tr><th>9</th><td>41</td><td>1.0</td><td>9</td><td>0.02</td><td>0.01995</td><td>5.0e-5</td><td>0.0025</td><td>NaN</td><td>NaN</td><td>0.15</td><td>1.0</td><td>4.64819</td><td>56.3375</td><td>59.8457</td><td>NaN</td><td>NaN</td><td>-0.000296972</td><td>NaN</td><td>NaN</td><td>56.3374</td><td>56.3372</td><td>55.2167</td><td>55.2165</td><td>111.554</td><td>50.5023</td><td>26.4611</td><td>100.0</td><td>0.08</td><td>0.6</td><td>0.27</td><td>1.0</td><td>0.000296972</td><td>-5.2713e-6</td><td>5.2713e-6</td><td>1.112e-12</td></tr><tr><th>10</th><td>46</td><td>1.0</td><td>10</td><td>0.02</td><td>0.0199</td><td>0.0001</td><td>0.005</td><td>NaN</td><td>NaN</td><td>0.15</td><td>1.0</td><td>4.67759</td><td>55.0246</td><td>59.1578</td><td>NaN</td><td>NaN</td><td>-6.97356e-5</td><td>NaN</td><td>NaN</td><td>55.0246</td><td>55.0245</td><td>54.9412</td><td>54.9399</td><td>109.964</td><td>50.0385</td><td>22.1553</td><td>100.0</td><td>0.08</td><td>0.6</td><td>0.27</td><td>1.0</td><td>6.97356e-5</td><td>-1.26735e-6</td><td>1.26735e-6</td><td>-3.90799e-13</td></tr><tr><th>11</th><td>51</td><td>1.0</td><td>11</td><td>0.02</td><td>0.0199</td><td>0.0001</td><td>0.01</td><td>NaN</td><td>NaN</td><td>0.15</td><td>1.0</td><td>4.70577</td><td>52.2831</td><td>57.391</td><td>NaN</td><td>NaN</td><td>2.78725e-5</td><td>NaN</td><td>NaN</td><td>52.2831</td><td>52.2832</td><td>55.1421</td><td>55.1409</td><td>107.424</td><td>48.6699</td><td>15.5585</td><td>100.0</td><td>0.08</td><td>0.6</td><td>0.27</td><td>1.0</td><td>2.78725e-5</td><td>5.33108e-7</td><td>5.33108e-7</td><td>3.2685e-13</td></tr><tr><th>12</th><td>56</td><td>1.0</td><td>12</td><td>0.02</td><td>0.0199</td><td>0.0001</td><td>0.015</td><td>NaN</td><td>NaN</td><td>0.15</td><td>1.0</td><td>4.66534</td><td>49.1077</td><td>55.0155</td><td>NaN</td><td>NaN</td><td>2.86159e-5</td><td>NaN</td><td>NaN</td><td>49.1077</td><td>49.1077</td><td>55.9405</td><td>55.9404</td><td>105.048</td><td>46.7478</td><td>9.91924</td><td>100.0</td><td>0.08</td><td>0.6</td><td>0.27</td><td>1.0</td><td>2.86159e-5</td><td>5.82717e-7</td><td>5.82717e-7</td><td>7.4607e-14</td></tr><tr><th>13</th><td>61</td><td>1.0</td><td>13</td><td>0.02</td><td>0.0198</td><td>0.0002</td><td>0.0025</td><td>NaN</td><td>NaN</td><td>0.15</td><td>1.0</td><td>4.63471</td><td>56.1738</td><td>59.9372</td><td>NaN</td><td>NaN</td><td>-0.000300193</td><td>NaN</td><td>NaN</td><td>56.1737</td><td>56.1735</td><td>54.5972</td><td>54.5973</td><td>110.771</td><td>50.7115</td><td>24.576</td><td>100.0</td><td>0.08</td><td>0.6</td><td>0.27</td><td>1.0</td><td>0.000300193</td><td>-5.34401e-6</td><td>5.34401e-6</td><td>1.75504e-12</td></tr><tr><th>14</th><td>66</td><td>1.0</td><td>14</td><td>0.02</td><td>0.0198</td><td>0.0002</td><td>0.005</td><td>NaN</td><td>NaN</td><td>0.15</td><td>1.0</td><td>4.66902</td><td>54.9233</td><td>59.224</td><td>NaN</td><td>NaN</td><td>-6.02599e-5</td><td>NaN</td><td>NaN</td><td>54.9233</td><td>54.9232</td><td>54.5235</td><td>54.5223</td><td>109.446</td><td>50.1831</td><td>20.9543</td><td>100.0</td><td>0.08</td><td>0.6</td><td>0.27</td><td>1.0</td><td>6.02599e-5</td><td>-1.09717e-6</td><td>1.09717e-6</td><td>2.94875e-13</td></tr><tr><th>15</th><td>71</td><td>1.0</td><td>15</td><td>0.02</td><td>0.01985</td><td>0.00015</td><td>0.01</td><td>NaN</td><td>NaN</td><td>0.15</td><td>1.0</td><td>4.70087</td><td>52.2297</td><td>57.4174</td><td>NaN</td><td>NaN</td><td>-1.67075e-5</td><td>NaN</td><td>NaN</td><td>52.2296</td><td>52.2297</td><td>54.9383</td><td>54.9372</td><td>107.167</td><td>48.7367</td><td>15.0028</td><td>100.0</td><td>0.08</td><td>0.6</td><td>0.27</td><td>1.0</td><td>1.67075e-5</td><td>-3.19885e-7</td><td>3.19885e-7</td><td>3.41061e-13</td></tr><tr><th>16</th><td>76</td><td>1.0</td><td>16</td><td>0.02</td><td>0.01985</td><td>0.00015</td><td>0.015</td><td>NaN</td><td>NaN</td><td>0.15</td><td>1.0</td><td>4.66534</td><td>49.1054</td><td>55.0942</td><td>NaN</td><td>NaN</td><td>0.000133841</td><td>NaN</td><td>NaN</td><td>49.1055</td><td>49.1055</td><td>55.6891</td><td>55.6888</td><td>104.794</td><td>46.8589</td><td>9.42014</td><td>100.0</td><td>0.08</td><td>0.6</td><td>0.27</td><td>1.0</td><td>0.000133841</td><td>2.72558e-6</td><td>2.72558e-6</td><td>7.4607e-14</td></tr><tr><th>17</th><td>81</td><td>1.0</td><td>17</td><td>0.02</td><td>0.0198</td><td>0.0002</td><td>0.0025</td><td>NaN</td><td>NaN</td><td>0.15</td><td>1.0</td><td>4.63471</td><td>56.1738</td><td>59.9372</td><td>NaN</td><td>NaN</td><td>-0.000300193</td><td>NaN</td><td>NaN</td><td>56.1737</td><td>56.1735</td><td>54.5972</td><td>54.5973</td><td>110.771</td><td>50.7115</td><td>24.576</td><td>100.0</td><td>0.08</td><td>0.6</td><td>0.27</td><td>1.0</td><td>0.000300193</td><td>-5.34401e-6</td><td>5.34401e-6</td><td>1.75504e-12</td></tr><tr><th>18</th><td>86</td><td>1.0</td><td>18</td><td>0.02</td><td>0.0198</td><td>0.0002</td><td>0.005</td><td>NaN</td><td>NaN</td><td>0.15</td><td>1.0</td><td>4.66902</td><td>54.9233</td><td>59.224</td><td>NaN</td><td>NaN</td><td>-6.02599e-5</td><td>NaN</td><td>NaN</td><td>54.9233</td><td>54.9232</td><td>54.5235</td><td>54.5223</td><td>109.446</td><td>50.1831</td><td>20.9543</td><td>100.0</td><td>0.08</td><td>0.6</td><td>0.27</td><td>1.0</td><td>6.02599e-5</td><td>-1.09717e-6</td><td>1.09717e-6</td><td>2.94875e-13</td></tr><tr><th>19</th><td>91</td><td>1.0</td><td>19</td><td>0.02</td><td>0.01985</td><td>0.00015</td><td>0.01</td><td>NaN</td><td>NaN</td><td>0.15</td><td>1.0</td><td>4.70087</td><td>52.2297</td><td>57.4174</td><td>NaN</td><td>NaN</td><td>-1.67075e-5</td><td>NaN</td><td>NaN</td><td>52.2296</td><td>52.2297</td><td>54.9383</td><td>54.9372</td><td>107.167</td><td>48.7367</td><td>15.0028</td><td>100.0</td><td>0.08</td><td>0.6</td><td>0.27</td><td>1.0</td><td>1.67075e-5</td><td>-3.19885e-7</td><td>3.19885e-7</td><td>3.41061e-13</td></tr><tr><th>20</th><td>96</td><td>1.0</td><td>20</td><td>0.02</td><td>0.01985</td><td>0.00015</td><td>0.015</td><td>NaN</td><td>NaN</td><td>0.15</td><td>1.0</td><td>4.66534</td><td>49.1054</td><td>55.0942</td><td>NaN</td><td>NaN</td><td>0.000133841</td><td>NaN</td><td>NaN</td><td>49.1055</td><td>49.1055</td><td>55.6891</td><td>55.6888</td><td>104.794</td><td>46.8589</td><td>9.42014</td><td>100.0</td><td>0.08</td><td>0.6</td><td>0.27</td><td>1.0</td><td>0.000133841</td><td>2.72558e-6</td><td>2.72558e-6</td><td>7.4607e-14</td></tr><tr><th>21</th><td>101</td><td>1.0</td><td>21</td><td>0.02</td><td>0.01975</td><td>0.00025</td><td>0.0025</td><td>NaN</td><td>NaN</td><td>0.15</td><td>1.0</td><td>4.63104</td><td>56.1283</td><td>59.9775</td><td>NaN</td><td>NaN</td><td>-0.000270284</td><td>NaN</td><td>NaN</td><td>56.1283</td><td>56.1281</td><td>54.3821</td><td>54.382</td><td>110.51</td><td>50.79</td><td>23.9563</td><td>100.0</td><td>0.08</td><td>0.6</td><td>0.27</td><td>1.0</td><td>0.000270284</td><td>-4.81546e-6</td><td>4.81546e-6</td><td>1.49214e-12</td></tr><tr><th>22</th><td>106</td><td>1.0</td><td>22</td><td>0.02</td><td>0.01975</td><td>0.00025</td><td>0.005</td><td>NaN</td><td>NaN</td><td>0.15</td><td>1.0</td><td>4.66412</td><td>54.8662</td><td>59.2504</td><td>NaN</td><td>NaN</td><td>-8.95182e-5</td><td>NaN</td><td>NaN</td><td>54.8663</td><td>54.8662</td><td>54.3208</td><td>54.3197</td><td>109.186</td><td>50.2502</td><td>20.3525</td><td>100.0</td><td>0.08</td><td>0.6</td><td>0.27</td><td>1.0</td><td>8.95182e-5</td><td>-1.63157e-6</td><td>1.63157e-6</td><td>6.35936e-13</td></tr><tr><th>23</th><td>111</td><td>1.0</td><td>23</td><td>0.02</td><td>0.01975</td><td>0.00025</td><td>0.01</td><td>NaN</td><td>NaN</td><td>0.15</td><td>1.0</td><td>4.69597</td><td>52.1729</td><td>57.5253</td><td>NaN</td><td>NaN</td><td>7.66748e-5</td><td>NaN</td><td>NaN</td><td>52.173</td><td>52.173</td><td>54.4822</td><td>54.4809</td><td>106.654</td><td>48.9181</td><td>13.9124</td><td>100.0</td><td>0.08</td><td>0.6</td><td>0.27</td><td>1.0</td><td>7.66748e-5</td><td>1.46963e-6</td><td>1.46963e-6</td><td>-9.23706e-14</td></tr><tr><th>24</th><td>116</td><td>1.0</td><td>24</td><td>0.02</td><td>0.01975</td><td>0.00025</td><td>0.015</td><td>NaN</td><td>NaN</td><td>0.15</td><td>1.0</td><td>4.65799</td><td>49.0281</td><td>55.1712</td><td>NaN</td><td>NaN</td><td>0.000125287</td><td>NaN</td><td>NaN</td><td>49.0283</td><td>49.0283</td><td>55.2573</td><td>55.257</td><td>104.285</td><td>47.0136</td><td>8.40723</td><td>100.0</td><td>0.08</td><td>0.6</td><td>0.27</td><td>1.0</td><td>0.000125287</td><td>2.55541e-6</td><td>2.55541e-6</td><td>1.74083e-13</td></tr><tr><th>25</th><td>121</td><td>1.0</td><td>25</td><td>0.02</td><td>0.0195</td><td>0.0005</td><td>0.0025</td><td>NaN</td><td>NaN</td><td>0.15</td><td>1.0</td><td>4.60654</td><td>55.8275</td><td>60.1019</td><td>NaN</td><td>NaN</td><td>-0.000138541</td><td>NaN</td><td>NaN</td><td>55.8276</td><td>55.8274</td><td>53.3787</td><td>53.3795</td><td>109.207</td><td>51.1208</td><td>20.8429</td><td>100.0</td><td>0.08</td><td>0.6</td><td>0.27</td><td>1.0</td><td>0.000138541</td><td>-2.48158e-6</td><td>2.48158e-6</td><td>4.47642e-13</td></tr><tr><th>26</th><td>126</td><td>1.0</td><td>26</td><td>0.02</td><td>0.0195</td><td>0.0005</td><td>0.005</td><td>NaN</td><td>NaN</td><td>0.15</td><td>1.0</td><td>4.64206</td><td>54.6073</td><td>59.412</td><td>NaN</td><td>NaN</td><td>-0.000129783</td><td>NaN</td><td>NaN</td><td>54.6073</td><td>54.6071</td><td>53.2822</td><td>53.2815</td><td>107.889</td><td>50.6143</td><td>17.3787</td><td>100.0</td><td>0.08</td><td>0.6</td><td>0.27</td><td>1.0</td><td>0.000129783</td><td>-2.37666e-6</td><td>2.37666e-6</td><td>4.583e-13</td></tr><tr><th>27</th><td>131</td><td>1.0</td><td>27</td><td>0.02</td><td>0.0195</td><td>0.0005</td><td>0.01</td><td>NaN</td><td>NaN</td><td>0.15</td><td>1.0</td><td>4.67392</td><td>51.9302</td><td>57.6864</td><td>NaN</td><td>NaN</td><td>-2.98138e-5</td><td>NaN</td><td>NaN</td><td>51.9301</td><td>51.9301</td><td>53.4405</td><td>53.4394</td><td>105.369</td><td>49.2838</td><td>11.1702</td><td>100.0</td><td>0.08</td><td>0.6</td><td>0.27</td><td>1.0</td><td>2.98138e-5</td><td>-5.74114e-7</td><td>5.74114e-7</td><td>-1.7053e-13</td></tr><tr><th>28</th><td>136</td><td>1.0</td><td>28</td><td>0.02</td><td>0.0195</td><td>0.0005</td><td>0.015</td><td>NaN</td><td>NaN</td><td>0.15</td><td>1.0</td><td>4.63839</td><td>48.8223</td><td>55.3511</td><td>NaN</td><td>NaN</td><td>9.79872e-5</td><td>NaN</td><td>NaN</td><td>48.8224</td><td>48.8224</td><td>54.1909</td><td>54.1906</td><td>103.013</td><td>47.3944</td><td>5.88738</td><td>100.0</td><td>0.08</td><td>0.6</td><td>0.27</td><td>1.0</td><td>9.79872e-5</td><td>2.00702e-6</td><td>2.00702e-6</td><td>2.66454e-13</td></tr><tr><th>29</th><td>141</td><td>1.0</td><td>29</td><td>0.02</td><td>0.01925</td><td>0.00075</td><td>0.0025</td><td>NaN</td><td>NaN</td><td>0.15</td><td>1.0</td><td>4.58448</td><td>55.5602</td><td>60.2648</td><td>NaN</td><td>NaN</td><td>-0.000168214</td><td>NaN</td><td>NaN</td><td>55.5602</td><td>55.56</td><td>52.3421</td><td>52.3432</td><td>107.903</td><td>51.4906</td><td>17.7839</td><td>100.0</td><td>0.08</td><td>0.6</td><td>0.27</td><td>1.0</td><td>0.000168214</td><td>-3.02759e-6</td><td>3.02759e-6</td><td>3.90799e-14</td></tr><tr><th>30</th><td>146</td><td>1.0</td><td>30</td><td>0.02</td><td>0.01925</td><td>0.00075</td><td>0.005</td><td>NaN</td><td>NaN</td><td>0.15</td><td>1.0</td><td>4.62246</td><td>54.3758</td><td>59.606</td><td>NaN</td><td>NaN</td><td>-0.000122583</td><td>NaN</td><td>NaN</td><td>54.3758</td><td>54.3757</td><td>52.2171</td><td>52.2168</td><td>106.592</td><td>51.0127</td><td>14.4494</td><td>100.0</td><td>0.08</td><td>0.6</td><td>0.27</td><td>1.0</td><td>0.000122583</td><td>-2.25437e-6</td><td>2.25437e-6</td><td>-3.55271e-13</td></tr><tr><th>&vellip;</th><td>&vellip;</td><td>&vellip;</td><td>&vellip;</td><td>&vellip;</td><td>&vellip;</td><td>&vellip;</td><td>&vellip;</td><td>&vellip;</td><td>&vellip;</td><td>&vellip;</td><td>&vellip;</td><td>&vellip;</td><td>&vellip;</td><td>&vellip;</td><td>&vellip;</td><td>&vellip;</td><td>&vellip;</td><td>&vellip;</td><td>&vellip;</td><td>&vellip;</td><td>&vellip;</td><td>&vellip;</td><td>&vellip;</td><td>&vellip;</td><td>&vellip;</td><td>&vellip;</td><td>&vellip;</td><td>&vellip;</td><td>&vellip;</td><td>&vellip;</td><td>&vellip;</td><td>&vellip;</td><td>&vellip;</td><td>&vellip;</td><td>&vellip;</td></tr></tbody></table>"
      ],
      "text/latex": [
       "\\begin{tabular}{r|ccccccccccccccccccccccccccccccccccc}\n",
       "\t& comb\\_num & m & m\\_comb\\_num & gross\\_delta & delta & iota & kappa & lambda & sigmah & sigmal & mu\\_b & c & p & vb & cvml\\_vb & cvmh\\_vb & debt\\_diff & eq\\_deriv & eq\\_min\\_val & sg\\_debt & debt & sg\\_equity & equity & firm\\_value & leverage & ROE & V0 & r & alpha & pi & xi & abs\\_debt\\_diff & debt\\_per\\_diff & abs\\_debt\\_per\\_diff & eq\\_vb\\\\\n",
       "\t\\hline\n",
       "\t& Int64 & Float64 & Int64 & Float64 & Float64 & Float64 & Float64 & Float64 & Float64 & Float64 & Float64 & Float64 & Float64 & Float64 & Float64 & Float64 & Float64 & Float64 & Float64 & Float64 & Float64 & Float64 & Float64 & Float64 & Float64 & Float64 & Float64 & Float64 & Float64 & Float64 & Float64 & Float64 & Float64 & Float64 & Float64\\\\\n",
       "\t\\hline\n",
       "\t1 & 1 & 1.0 & 1 & 0.02 & 0.02 & 0.0 & 0.0025 & NaN & NaN & 0.15 & 1.0 & 4.65309 & 56.3957 & 59.8191 & NaN & NaN & -0.000242867 & NaN & NaN & 56.3956 & 56.3954 & 55.4201 & 55.4196 & 111.815 & 50.4364 & 27.0959 & 100.0 & 0.08 & 0.6 & 0.27 & 1.0 & 0.000242867 & -4.30649e-6 & 4.30649e-6 & 4.61853e-13 \\\\\n",
       "\t2 & 6 & 1.0 & 2 & 0.02 & 0.02 & 0.0 & 0.005 & NaN & NaN & 0.15 & 1.0 & 4.68739 & 55.1382 & 59.1051 & NaN & NaN & 5.40764e-6 & NaN & NaN & 55.1383 & 55.1382 & 55.3474 & 55.3458 & 110.484 & 49.9061 & 23.3696 & 100.0 & 0.08 & 0.6 & 0.27 & 1.0 & 5.40764e-6 & 9.80743e-8 & 9.80743e-8 & -5.40012e-13 \\\\\n",
       "\t3 & 11 & 1.0 & 3 & 0.02 & 0.02 & 0.0 & 0.01 & NaN & NaN & 0.15 & 1.0 & 4.71435 & 52.3777 & 57.3252 & NaN & NaN & 6.09178e-5 & NaN & NaN & 52.3777 & 52.3778 & 55.5615 & 55.5602 & 107.938 & 48.5258 & 16.6687 & 100.0 & 0.08 & 0.6 & 0.27 & 1.0 & 6.09178e-5 & 1.16305e-6 & 1.16305e-6 & 3.19744e-14 \\\\\n",
       "\t4 & 16 & 1.0 & 4 & 0.02 & 0.02 & 0.0 & 0.015 & NaN & NaN & 0.15 & 1.0 & 4.67269 & 49.185 & 54.9394 & NaN & NaN & 3.20134e-5 & NaN & NaN & 49.185 & 49.185 & 56.3722 & 56.3722 & 105.557 & 46.5956 & 10.9362 & 100.0 & 0.08 & 0.6 & 0.27 & 1.0 & 3.20134e-5 & 6.50877e-7 & 6.50877e-7 & 2.13163e-13 \\\\\n",
       "\t5 & 21 & 1.0 & 5 & 0.02 & 0.01995 & 5.0e-5 & 0.0025 & NaN & NaN & 0.15 & 1.0 & 4.64819 & 56.3375 & 59.8457 & NaN & NaN & -0.000296972 & NaN & NaN & 56.3374 & 56.3372 & 55.2167 & 55.2165 & 111.554 & 50.5023 & 26.4611 & 100.0 & 0.08 & 0.6 & 0.27 & 1.0 & 0.000296972 & -5.2713e-6 & 5.2713e-6 & 1.112e-12 \\\\\n",
       "\t6 & 26 & 1.0 & 6 & 0.02 & 0.0199 & 0.0001 & 0.005 & NaN & NaN & 0.15 & 1.0 & 4.67759 & 55.0246 & 59.1578 & NaN & NaN & -6.97356e-5 & NaN & NaN & 55.0246 & 55.0245 & 54.9412 & 54.9399 & 109.964 & 50.0385 & 22.1553 & 100.0 & 0.08 & 0.6 & 0.27 & 1.0 & 6.97356e-5 & -1.26735e-6 & 1.26735e-6 & -3.90799e-13 \\\\\n",
       "\t7 & 31 & 1.0 & 7 & 0.02 & 0.0199 & 0.0001 & 0.01 & NaN & NaN & 0.15 & 1.0 & 4.70577 & 52.2831 & 57.391 & NaN & NaN & 2.78725e-5 & NaN & NaN & 52.2831 & 52.2832 & 55.1421 & 55.1409 & 107.424 & 48.6699 & 15.5585 & 100.0 & 0.08 & 0.6 & 0.27 & 1.0 & 2.78725e-5 & 5.33108e-7 & 5.33108e-7 & 3.2685e-13 \\\\\n",
       "\t8 & 36 & 1.0 & 8 & 0.02 & 0.0199 & 0.0001 & 0.015 & NaN & NaN & 0.15 & 1.0 & 4.66534 & 49.1077 & 55.0155 & NaN & NaN & 2.86159e-5 & NaN & NaN & 49.1077 & 49.1077 & 55.9405 & 55.9404 & 105.048 & 46.7478 & 9.91924 & 100.0 & 0.08 & 0.6 & 0.27 & 1.0 & 2.86159e-5 & 5.82717e-7 & 5.82717e-7 & 7.4607e-14 \\\\\n",
       "\t9 & 41 & 1.0 & 9 & 0.02 & 0.01995 & 5.0e-5 & 0.0025 & NaN & NaN & 0.15 & 1.0 & 4.64819 & 56.3375 & 59.8457 & NaN & NaN & -0.000296972 & NaN & NaN & 56.3374 & 56.3372 & 55.2167 & 55.2165 & 111.554 & 50.5023 & 26.4611 & 100.0 & 0.08 & 0.6 & 0.27 & 1.0 & 0.000296972 & -5.2713e-6 & 5.2713e-6 & 1.112e-12 \\\\\n",
       "\t10 & 46 & 1.0 & 10 & 0.02 & 0.0199 & 0.0001 & 0.005 & NaN & NaN & 0.15 & 1.0 & 4.67759 & 55.0246 & 59.1578 & NaN & NaN & -6.97356e-5 & NaN & NaN & 55.0246 & 55.0245 & 54.9412 & 54.9399 & 109.964 & 50.0385 & 22.1553 & 100.0 & 0.08 & 0.6 & 0.27 & 1.0 & 6.97356e-5 & -1.26735e-6 & 1.26735e-6 & -3.90799e-13 \\\\\n",
       "\t11 & 51 & 1.0 & 11 & 0.02 & 0.0199 & 0.0001 & 0.01 & NaN & NaN & 0.15 & 1.0 & 4.70577 & 52.2831 & 57.391 & NaN & NaN & 2.78725e-5 & NaN & NaN & 52.2831 & 52.2832 & 55.1421 & 55.1409 & 107.424 & 48.6699 & 15.5585 & 100.0 & 0.08 & 0.6 & 0.27 & 1.0 & 2.78725e-5 & 5.33108e-7 & 5.33108e-7 & 3.2685e-13 \\\\\n",
       "\t12 & 56 & 1.0 & 12 & 0.02 & 0.0199 & 0.0001 & 0.015 & NaN & NaN & 0.15 & 1.0 & 4.66534 & 49.1077 & 55.0155 & NaN & NaN & 2.86159e-5 & NaN & NaN & 49.1077 & 49.1077 & 55.9405 & 55.9404 & 105.048 & 46.7478 & 9.91924 & 100.0 & 0.08 & 0.6 & 0.27 & 1.0 & 2.86159e-5 & 5.82717e-7 & 5.82717e-7 & 7.4607e-14 \\\\\n",
       "\t13 & 61 & 1.0 & 13 & 0.02 & 0.0198 & 0.0002 & 0.0025 & NaN & NaN & 0.15 & 1.0 & 4.63471 & 56.1738 & 59.9372 & NaN & NaN & -0.000300193 & NaN & NaN & 56.1737 & 56.1735 & 54.5972 & 54.5973 & 110.771 & 50.7115 & 24.576 & 100.0 & 0.08 & 0.6 & 0.27 & 1.0 & 0.000300193 & -5.34401e-6 & 5.34401e-6 & 1.75504e-12 \\\\\n",
       "\t14 & 66 & 1.0 & 14 & 0.02 & 0.0198 & 0.0002 & 0.005 & NaN & NaN & 0.15 & 1.0 & 4.66902 & 54.9233 & 59.224 & NaN & NaN & -6.02599e-5 & NaN & NaN & 54.9233 & 54.9232 & 54.5235 & 54.5223 & 109.446 & 50.1831 & 20.9543 & 100.0 & 0.08 & 0.6 & 0.27 & 1.0 & 6.02599e-5 & -1.09717e-6 & 1.09717e-6 & 2.94875e-13 \\\\\n",
       "\t15 & 71 & 1.0 & 15 & 0.02 & 0.01985 & 0.00015 & 0.01 & NaN & NaN & 0.15 & 1.0 & 4.70087 & 52.2297 & 57.4174 & NaN & NaN & -1.67075e-5 & NaN & NaN & 52.2296 & 52.2297 & 54.9383 & 54.9372 & 107.167 & 48.7367 & 15.0028 & 100.0 & 0.08 & 0.6 & 0.27 & 1.0 & 1.67075e-5 & -3.19885e-7 & 3.19885e-7 & 3.41061e-13 \\\\\n",
       "\t16 & 76 & 1.0 & 16 & 0.02 & 0.01985 & 0.00015 & 0.015 & NaN & NaN & 0.15 & 1.0 & 4.66534 & 49.1054 & 55.0942 & NaN & NaN & 0.000133841 & NaN & NaN & 49.1055 & 49.1055 & 55.6891 & 55.6888 & 104.794 & 46.8589 & 9.42014 & 100.0 & 0.08 & 0.6 & 0.27 & 1.0 & 0.000133841 & 2.72558e-6 & 2.72558e-6 & 7.4607e-14 \\\\\n",
       "\t17 & 81 & 1.0 & 17 & 0.02 & 0.0198 & 0.0002 & 0.0025 & NaN & NaN & 0.15 & 1.0 & 4.63471 & 56.1738 & 59.9372 & NaN & NaN & -0.000300193 & NaN & NaN & 56.1737 & 56.1735 & 54.5972 & 54.5973 & 110.771 & 50.7115 & 24.576 & 100.0 & 0.08 & 0.6 & 0.27 & 1.0 & 0.000300193 & -5.34401e-6 & 5.34401e-6 & 1.75504e-12 \\\\\n",
       "\t18 & 86 & 1.0 & 18 & 0.02 & 0.0198 & 0.0002 & 0.005 & NaN & NaN & 0.15 & 1.0 & 4.66902 & 54.9233 & 59.224 & NaN & NaN & -6.02599e-5 & NaN & NaN & 54.9233 & 54.9232 & 54.5235 & 54.5223 & 109.446 & 50.1831 & 20.9543 & 100.0 & 0.08 & 0.6 & 0.27 & 1.0 & 6.02599e-5 & -1.09717e-6 & 1.09717e-6 & 2.94875e-13 \\\\\n",
       "\t19 & 91 & 1.0 & 19 & 0.02 & 0.01985 & 0.00015 & 0.01 & NaN & NaN & 0.15 & 1.0 & 4.70087 & 52.2297 & 57.4174 & NaN & NaN & -1.67075e-5 & NaN & NaN & 52.2296 & 52.2297 & 54.9383 & 54.9372 & 107.167 & 48.7367 & 15.0028 & 100.0 & 0.08 & 0.6 & 0.27 & 1.0 & 1.67075e-5 & -3.19885e-7 & 3.19885e-7 & 3.41061e-13 \\\\\n",
       "\t20 & 96 & 1.0 & 20 & 0.02 & 0.01985 & 0.00015 & 0.015 & NaN & NaN & 0.15 & 1.0 & 4.66534 & 49.1054 & 55.0942 & NaN & NaN & 0.000133841 & NaN & NaN & 49.1055 & 49.1055 & 55.6891 & 55.6888 & 104.794 & 46.8589 & 9.42014 & 100.0 & 0.08 & 0.6 & 0.27 & 1.0 & 0.000133841 & 2.72558e-6 & 2.72558e-6 & 7.4607e-14 \\\\\n",
       "\t21 & 101 & 1.0 & 21 & 0.02 & 0.01975 & 0.00025 & 0.0025 & NaN & NaN & 0.15 & 1.0 & 4.63104 & 56.1283 & 59.9775 & NaN & NaN & -0.000270284 & NaN & NaN & 56.1283 & 56.1281 & 54.3821 & 54.382 & 110.51 & 50.79 & 23.9563 & 100.0 & 0.08 & 0.6 & 0.27 & 1.0 & 0.000270284 & -4.81546e-6 & 4.81546e-6 & 1.49214e-12 \\\\\n",
       "\t22 & 106 & 1.0 & 22 & 0.02 & 0.01975 & 0.00025 & 0.005 & NaN & NaN & 0.15 & 1.0 & 4.66412 & 54.8662 & 59.2504 & NaN & NaN & -8.95182e-5 & NaN & NaN & 54.8663 & 54.8662 & 54.3208 & 54.3197 & 109.186 & 50.2502 & 20.3525 & 100.0 & 0.08 & 0.6 & 0.27 & 1.0 & 8.95182e-5 & -1.63157e-6 & 1.63157e-6 & 6.35936e-13 \\\\\n",
       "\t23 & 111 & 1.0 & 23 & 0.02 & 0.01975 & 0.00025 & 0.01 & NaN & NaN & 0.15 & 1.0 & 4.69597 & 52.1729 & 57.5253 & NaN & NaN & 7.66748e-5 & NaN & NaN & 52.173 & 52.173 & 54.4822 & 54.4809 & 106.654 & 48.9181 & 13.9124 & 100.0 & 0.08 & 0.6 & 0.27 & 1.0 & 7.66748e-5 & 1.46963e-6 & 1.46963e-6 & -9.23706e-14 \\\\\n",
       "\t24 & 116 & 1.0 & 24 & 0.02 & 0.01975 & 0.00025 & 0.015 & NaN & NaN & 0.15 & 1.0 & 4.65799 & 49.0281 & 55.1712 & NaN & NaN & 0.000125287 & NaN & NaN & 49.0283 & 49.0283 & 55.2573 & 55.257 & 104.285 & 47.0136 & 8.40723 & 100.0 & 0.08 & 0.6 & 0.27 & 1.0 & 0.000125287 & 2.55541e-6 & 2.55541e-6 & 1.74083e-13 \\\\\n",
       "\t25 & 121 & 1.0 & 25 & 0.02 & 0.0195 & 0.0005 & 0.0025 & NaN & NaN & 0.15 & 1.0 & 4.60654 & 55.8275 & 60.1019 & NaN & NaN & -0.000138541 & NaN & NaN & 55.8276 & 55.8274 & 53.3787 & 53.3795 & 109.207 & 51.1208 & 20.8429 & 100.0 & 0.08 & 0.6 & 0.27 & 1.0 & 0.000138541 & -2.48158e-6 & 2.48158e-6 & 4.47642e-13 \\\\\n",
       "\t26 & 126 & 1.0 & 26 & 0.02 & 0.0195 & 0.0005 & 0.005 & NaN & NaN & 0.15 & 1.0 & 4.64206 & 54.6073 & 59.412 & NaN & NaN & -0.000129783 & NaN & NaN & 54.6073 & 54.6071 & 53.2822 & 53.2815 & 107.889 & 50.6143 & 17.3787 & 100.0 & 0.08 & 0.6 & 0.27 & 1.0 & 0.000129783 & -2.37666e-6 & 2.37666e-6 & 4.583e-13 \\\\\n",
       "\t27 & 131 & 1.0 & 27 & 0.02 & 0.0195 & 0.0005 & 0.01 & NaN & NaN & 0.15 & 1.0 & 4.67392 & 51.9302 & 57.6864 & NaN & NaN & -2.98138e-5 & NaN & NaN & 51.9301 & 51.9301 & 53.4405 & 53.4394 & 105.369 & 49.2838 & 11.1702 & 100.0 & 0.08 & 0.6 & 0.27 & 1.0 & 2.98138e-5 & -5.74114e-7 & 5.74114e-7 & -1.7053e-13 \\\\\n",
       "\t28 & 136 & 1.0 & 28 & 0.02 & 0.0195 & 0.0005 & 0.015 & NaN & NaN & 0.15 & 1.0 & 4.63839 & 48.8223 & 55.3511 & NaN & NaN & 9.79872e-5 & NaN & NaN & 48.8224 & 48.8224 & 54.1909 & 54.1906 & 103.013 & 47.3944 & 5.88738 & 100.0 & 0.08 & 0.6 & 0.27 & 1.0 & 9.79872e-5 & 2.00702e-6 & 2.00702e-6 & 2.66454e-13 \\\\\n",
       "\t29 & 141 & 1.0 & 29 & 0.02 & 0.01925 & 0.00075 & 0.0025 & NaN & NaN & 0.15 & 1.0 & 4.58448 & 55.5602 & 60.2648 & NaN & NaN & -0.000168214 & NaN & NaN & 55.5602 & 55.56 & 52.3421 & 52.3432 & 107.903 & 51.4906 & 17.7839 & 100.0 & 0.08 & 0.6 & 0.27 & 1.0 & 0.000168214 & -3.02759e-6 & 3.02759e-6 & 3.90799e-14 \\\\\n",
       "\t30 & 146 & 1.0 & 30 & 0.02 & 0.01925 & 0.00075 & 0.005 & NaN & NaN & 0.15 & 1.0 & 4.62246 & 54.3758 & 59.606 & NaN & NaN & -0.000122583 & NaN & NaN & 54.3758 & 54.3757 & 52.2171 & 52.2168 & 106.592 & 51.0127 & 14.4494 & 100.0 & 0.08 & 0.6 & 0.27 & 1.0 & 0.000122583 & -2.25437e-6 & 2.25437e-6 & -3.55271e-13 \\\\\n",
       "\t$\\dots$ & $\\dots$ & $\\dots$ & $\\dots$ & $\\dots$ & $\\dots$ & $\\dots$ & $\\dots$ & $\\dots$ & $\\dots$ & $\\dots$ & $\\dots$ & $\\dots$ & $\\dots$ & $\\dots$ & $\\dots$ & $\\dots$ & $\\dots$ & $\\dots$ & $\\dots$ & $\\dots$ & $\\dots$ & $\\dots$ & $\\dots$ & $\\dots$ & $\\dots$ & $\\dots$ & $\\dots$ & $\\dots$ & $\\dots$ & $\\dots$ & $\\dots$ & $\\dots$ & $\\dots$ & $\\dots$ & $\\dots$ \\\\\n",
       "\\end{tabular}\n"
      ],
      "text/plain": [
       "1040×35 DataFrame. Omitted printing of 29 columns\n",
       "│ Row  │ comb_num │ m       │ m_comb_num │ gross_delta │ delta   │ iota    │\n",
       "│      │ \u001b[90mInt64\u001b[39m    │ \u001b[90mFloat64\u001b[39m │ \u001b[90mInt64\u001b[39m      │ \u001b[90mFloat64\u001b[39m     │ \u001b[90mFloat64\u001b[39m │ \u001b[90mFloat64\u001b[39m │\n",
       "├──────┼──────────┼─────────┼────────────┼─────────────┼─────────┼─────────┤\n",
       "│ 1    │ 1        │ 1.0     │ 1          │ 0.02        │ 0.02    │ 0.0     │\n",
       "│ 2    │ 6        │ 1.0     │ 2          │ 0.02        │ 0.02    │ 0.0     │\n",
       "│ 3    │ 11       │ 1.0     │ 3          │ 0.02        │ 0.02    │ 0.0     │\n",
       "│ 4    │ 16       │ 1.0     │ 4          │ 0.02        │ 0.02    │ 0.0     │\n",
       "│ 5    │ 21       │ 1.0     │ 5          │ 0.02        │ 0.01995 │ 5.0e-5  │\n",
       "│ 6    │ 26       │ 1.0     │ 6          │ 0.02        │ 0.0199  │ 0.0001  │\n",
       "│ 7    │ 31       │ 1.0     │ 7          │ 0.02        │ 0.0199  │ 0.0001  │\n",
       "│ 8    │ 36       │ 1.0     │ 8          │ 0.02        │ 0.0199  │ 0.0001  │\n",
       "│ 9    │ 41       │ 1.0     │ 9          │ 0.02        │ 0.01995 │ 5.0e-5  │\n",
       "│ 10   │ 46       │ 1.0     │ 10         │ 0.02        │ 0.0199  │ 0.0001  │\n",
       "⋮\n",
       "│ 1030 │ 990      │ 10.0    │ 198        │ 0.02        │ 0.018   │ 0.002   │\n",
       "│ 1031 │ 995      │ 10.0    │ 199        │ 0.02        │ 0.018   │ 0.002   │\n",
       "│ 1032 │ 1000     │ 10.0    │ 200        │ 0.02        │ 0.018   │ 0.002   │\n",
       "│ 1033 │ 1005     │ 10.0    │ 201        │ 0.02        │ 0.0175  │ 0.0025  │\n",
       "│ 1034 │ 1010     │ 10.0    │ 202        │ 0.02        │ 0.0175  │ 0.0025  │\n",
       "│ 1035 │ 1015     │ 10.0    │ 203        │ 0.02        │ 0.0175  │ 0.0025  │\n",
       "│ 1036 │ 1020     │ 10.0    │ 204        │ 0.02        │ 0.0175  │ 0.0025  │\n",
       "│ 1037 │ 1025     │ 10.0    │ 205        │ 0.02        │ 0.015   │ 0.005   │\n",
       "│ 1038 │ 1030     │ 10.0    │ 206        │ 0.02        │ 0.015   │ 0.005   │\n",
       "│ 1039 │ 1035     │ 10.0    │ 207        │ 0.02        │ 0.015   │ 0.005   │\n",
       "│ 1040 │ 1040     │ 10.0    │ 208        │ 0.02        │ 0.015   │ 0.005   │"
      ]
     },
     "execution_count": 4,
     "metadata": {},
     "output_type": "execute_result"
    }
   ],
   "source": [
    "cvmOptDf = Batch.load_cvm_opt_results_df()"
   ]
  },
  {
   "cell_type": "code",
   "execution_count": 26,
   "metadata": {},
   "outputs": [
    {
     "name": "stdout",
     "output_type": "stream",
     "text": [
      "Setting parameter dictionary using (m, m_comb_num) ID pair...\n",
      "Loading optimal results dataframe...\n"
     ]
    },
    {
     "data": {
      "text/html": [
       "<table class=\"data-frame\"><thead><tr><th></th><th>comb_num</th><th>m</th><th>m_comb_num</th><th>gross_delta</th><th>delta</th><th>iota</th><th>kappa</th><th>lambda</th><th>sigmah</th><th>sigmal</th><th>mu_b</th><th>c</th><th>p</th><th>vb</th><th>cvml_vb</th><th>cvmh_vb</th><th>debt_diff</th><th>eq_deriv</th><th>eq_min_val</th><th>sg_debt</th><th>debt</th><th>sg_equity</th><th>equity</th><th>firm_value</th><th>leverage</th><th>ROE</th><th>V0</th><th>r</th><th>alpha</th><th>pi</th><th>xi</th><th>abs_debt_diff</th><th>debt_per_diff</th><th>abs_debt_per_diff</th><th>eq_deriv_min_val</th><th>eq_negative</th><th>eq_vb</th></tr><tr><th></th><th>Int64</th><th>Float64</th><th>Int64</th><th>Float64</th><th>Float64</th><th>Float64</th><th>Float64</th><th>Float64</th><th>Float64</th><th>Float64</th><th>Float64</th><th>Float64</th><th>Float64</th><th>Float64</th><th>Float64</th><th>Float64</th><th>Float64</th><th>Float64</th><th>Float64</th><th>Float64</th><th>Float64</th><th>Float64</th><th>Float64</th><th>Float64</th><th>Float64</th><th>Float64</th><th>Float64</th><th>Float64</th><th>Float64</th><th>Float64</th><th>Float64</th><th>Float64</th><th>Float64</th><th>Float64</th><th>Float64</th><th>Bool</th><th>Float64</th></tr></thead><tbody><p>150 rows × 37 columns</p><tr><th>1</th><td>1</td><td>1.0</td><td>1</td><td>0.02</td><td>0.02</td><td>0.0</td><td>0.001</td><td>0.1</td><td>0.2</td><td>0.15</td><td>1.0</td><td>4.18587</td><td>51.6686</td><td>55.84</td><td>54.4563</td><td>55.3432</td><td>4.58361e-5</td><td>-8.02022e-5</td><td>0.000982615</td><td>51.6686</td><td>51.6686</td><td>58.4297</td><td>58.4263</td><td>110.095</td><td>46.931</td><td>20.8868</td><td>100.0</td><td>0.08</td><td>0.6</td><td>0.27</td><td>1.0</td><td>4.58361e-5</td><td>8.87118e-7</td><td>8.87118e-7</td><td>-8.02022e-5</td><td>false</td><td>0.0</td></tr><tr><th>2</th><td>6</td><td>1.0</td><td>2</td><td>0.02</td><td>0.02</td><td>0.0</td><td>0.0025</td><td>0.1</td><td>0.2</td><td>0.15</td><td>1.0</td><td>4.18587</td><td>50.7305</td><td>55.17</td><td>53.8099</td><td>54.6194</td><td>3.62471e-5</td><td>-0.000190157</td><td>0.000907118</td><td>50.7305</td><td>50.7306</td><td>58.5856</td><td>58.5927</td><td>109.323</td><td>46.4042</td><td>18.9229</td><td>100.0</td><td>0.08</td><td>0.6</td><td>0.27</td><td>1.0</td><td>3.62471e-5</td><td>7.14503e-7</td><td>7.14503e-7</td><td>-0.000190157</td><td>false</td><td>0.0</td></tr><tr><th>3</th><td>11</td><td>1.0</td><td>3</td><td>0.02</td><td>0.02</td><td>0.0</td><td>0.003</td><td>0.1</td><td>0.2</td><td>0.15</td><td>1.0</td><td>4.18587</td><td>50.4254</td><td>54.952</td><td>53.5996</td><td>54.3839</td><td>2.89736e-5</td><td>-0.000178977</td><td>0.000904435</td><td>50.4254</td><td>50.4254</td><td>58.6316</td><td>58.6387</td><td>109.064</td><td>46.2347</td><td>18.2838</td><td>100.0</td><td>0.08</td><td>0.6</td><td>0.27</td><td>1.0</td><td>2.89736e-5</td><td>5.74582e-7</td><td>5.74582e-7</td><td>-0.000178977</td><td>false</td><td>0.0</td></tr><tr><th>4</th><td>16</td><td>1.0</td><td>4</td><td>0.02</td><td>0.02</td><td>0.0</td><td>0.004</td><td>0.1</td><td>0.2</td><td>0.15</td><td>1.0</td><td>4.18377</td><td>49.8008</td><td>54.4968</td><td>53.1598</td><td>53.8942</td><td>2.14237e-5</td><td>-0.000103069</td><td>0.000902167</td><td>49.8008</td><td>49.8009</td><td>58.7532</td><td>58.749</td><td>108.55</td><td>45.8783</td><td>17.0318</td><td>100.0</td><td>0.08</td><td>0.6</td><td>0.27</td><td>1.0</td><td>2.14237e-5</td><td>4.30188e-7</td><td>4.30188e-7</td><td>-0.000103069</td><td>false</td><td>0.0</td></tr><tr><th>5</th><td>21</td><td>1.0</td><td>5</td><td>0.02</td><td>0.02</td><td>0.0</td><td>0.005</td><td>0.1</td><td>0.2</td><td>0.15</td><td>1.0</td><td>4.19952</td><td>49.4023</td><td>54.284</td><td>52.9568</td><td>53.6456</td><td>-5.52506e-5</td><td>-0.000123883</td><td>0.00089333</td><td>49.4023</td><td>49.4023</td><td>58.6444</td><td>58.6415</td><td>108.044</td><td>45.7243</td><td>15.8975</td><td>100.0</td><td>0.08</td><td>0.6</td><td>0.27</td><td>1.0</td><td>5.52506e-5</td><td>-1.11838e-6</td><td>1.11838e-6</td><td>-0.000123883</td><td>false</td><td>0.0</td></tr><tr><th>6</th><td>26</td><td>1.0</td><td>6</td><td>0.02</td><td>0.02</td><td>0.0</td><td>0.001</td><td>0.2</td><td>0.2</td><td>0.15</td><td>1.0</td><td>3.82778</td><td>47.2455</td><td>52.3175</td><td>49.7944</td><td>50.6054</td><td>1.0582e-5</td><td>-0.000122554</td><td>0.00082287</td><td>47.2455</td><td>47.2455</td><td>59.9178</td><td>59.917</td><td>107.163</td><td>44.0877</td><td>13.5771</td><td>100.0</td><td>0.08</td><td>0.6</td><td>0.27</td><td>1.0</td><td>1.0582e-5</td><td>2.23979e-7</td><td>2.23979e-7</td><td>-0.000122554</td><td>false</td><td>0.0</td></tr><tr><th>7</th><td>31</td><td>1.0</td><td>7</td><td>0.02</td><td>0.02</td><td>0.0</td><td>0.0025</td><td>0.2</td><td>0.2</td><td>0.15</td><td>1.0</td><td>3.87399</td><td>46.9471</td><td>52.296</td><td>49.7965</td><td>50.5457</td><td>-9.53816e-6</td><td>-0.00017364</td><td>0.000808699</td><td>46.9471</td><td>46.9471</td><td>59.4986</td><td>59.4995</td><td>106.447</td><td>44.1039</td><td>12.1511</td><td>100.0</td><td>0.08</td><td>0.6</td><td>0.27</td><td>1.0</td><td>9.53816e-6</td><td>-2.03168e-7</td><td>2.03168e-7</td><td>-0.00017364</td><td>false</td><td>0.0</td></tr><tr><th>8</th><td>36</td><td>1.0</td><td>8</td><td>0.02</td><td>0.02</td><td>0.0</td><td>0.003</td><td>0.2</td><td>0.2</td><td>0.15</td><td>1.0</td><td>3.87399</td><td>46.6643</td><td>52.0839</td><td>49.6015</td><td>50.3274</td><td>-6.37403e-6</td><td>-0.000183098</td><td>0.000805295</td><td>46.6643</td><td>46.6643</td><td>59.5425</td><td>59.5423</td><td>106.207</td><td>43.9373</td><td>11.6369</td><td>100.0</td><td>0.08</td><td>0.6</td><td>0.27</td><td>1.0</td><td>6.37403e-6</td><td>-1.36593e-7</td><td>1.36593e-7</td><td>-0.000183098</td><td>false</td><td>0.0</td></tr><tr><th>9</th><td>41</td><td>1.0</td><td>9</td><td>0.02</td><td>0.02</td><td>0.0</td><td>0.004</td><td>0.2</td><td>0.2</td><td>0.15</td><td>1.0</td><td>3.86979</td><td>46.0593</td><td>51.6092</td><td>49.1655</td><td>49.8449</td><td>-1.70511e-5</td><td>-0.000520222</td><td>0.000781677</td><td>46.0593</td><td>46.0593</td><td>59.7034</td><td>59.6755</td><td>105.735</td><td>43.5611</td><td>10.6316</td><td>100.0</td><td>0.08</td><td>0.6</td><td>0.27</td><td>1.0</td><td>1.70511e-5</td><td>-3.70199e-7</td><td>3.70199e-7</td><td>-0.000520222</td><td>false</td><td>0.0</td></tr><tr><th>10</th><td>46</td><td>1.0</td><td>10</td><td>0.02</td><td>0.02</td><td>0.0</td><td>0.005</td><td>0.2</td><td>0.2</td><td>0.15</td><td>1.0</td><td>3.78998</td><td>44.5794</td><td>50.1483</td><td>47.7864</td><td>48.4081</td><td>-3.1737e-5</td><td>-0.000177845</td><td>0.000750471</td><td>44.5794</td><td>44.5793</td><td>60.7183</td><td>60.7137</td><td>105.293</td><td>42.3383</td><td>9.55077</td><td>100.0</td><td>0.08</td><td>0.6</td><td>0.27</td><td>1.0</td><td>3.1737e-5</td><td>-7.11921e-7</td><td>7.11921e-7</td><td>-0.000177845</td><td>false</td><td>0.0</td></tr><tr><th>11</th><td>51</td><td>1.0</td><td>11</td><td>0.02</td><td>0.02</td><td>0.0</td><td>0.001</td><td>0.3</td><td>0.2</td><td>0.15</td><td>1.0</td><td>3.64926</td><td>45.0338</td><td>50.6694</td><td>47.4627</td><td>48.236</td><td>-9.25426e-6</td><td>-6.45243e-5</td><td>0.000747167</td><td>45.0338</td><td>45.0338</td><td>60.0896</td><td>60.078</td><td>105.112</td><td>42.8437</td><td>9.2998</td><td>100.0</td><td>0.08</td><td>0.6</td><td>0.27</td><td>1.0</td><td>9.25426e-6</td><td>-2.05496e-7</td><td>2.05496e-7</td><td>-6.45243e-5</td><td>false</td><td>0.0</td></tr><tr><th>12</th><td>56</td><td>1.0</td><td>12</td><td>0.02</td><td>0.02</td><td>0.0</td><td>0.0025</td><td>0.3</td><td>0.2</td><td>0.15</td><td>1.0</td><td>3.68077</td><td>44.597</td><td>50.4663</td><td>47.3031</td><td>48.015</td><td>-1.03954e-5</td><td>1.07512e-5</td><td>0.000741642</td><td>44.597</td><td>44.597</td><td>59.8309</td><td>59.84</td><td>104.437</td><td>42.7023</td><td>8.00864</td><td>100.0</td><td>0.08</td><td>0.6</td><td>0.27</td><td>1.0</td><td>1.03954e-5</td><td>-2.33097e-7</td><td>2.33097e-7</td><td>1.07512e-5</td><td>false</td><td>0.0</td></tr><tr><th>13</th><td>61</td><td>1.0</td><td>13</td><td>0.02</td><td>0.02</td><td>0.0</td><td>0.003</td><td>0.3</td><td>0.2</td><td>0.15</td><td>1.0</td><td>3.67867</td><td>44.3032</td><td>50.2293</td><td>47.0911</td><td>47.7805</td><td>-1.18236e-5</td><td>5.7718e-6</td><td>0.000738974</td><td>44.3032</td><td>44.3032</td><td>59.9005</td><td>59.9083</td><td>104.212</td><td>42.5127</td><td>7.5615</td><td>100.0</td><td>0.08</td><td>0.6</td><td>0.27</td><td>1.0</td><td>1.18236e-5</td><td>-2.6688e-7</td><td>2.6688e-7</td><td>5.7718e-6</td><td>false</td><td>0.0</td></tr><tr><th>14</th><td>66</td><td>1.0</td><td>14</td><td>0.02</td><td>0.02</td><td>0.0</td><td>0.004</td><td>0.3</td><td>0.2</td><td>0.15</td><td>1.0</td><td>3.64086</td><td>43.3266</td><td>49.3072</td><td>46.2479</td><td>46.8872</td><td>-3.00813e-5</td><td>0.00010878</td><td>0.000696229</td><td>43.3266</td><td>43.3265</td><td>60.4653</td><td>60.488</td><td>103.815</td><td>41.7345</td><td>6.73084</td><td>100.0</td><td>0.08</td><td>0.6</td><td>0.27</td><td>1.0</td><td>3.00813e-5</td><td>-6.94292e-7</td><td>6.94292e-7</td><td>0.00010878</td><td>false</td><td>0.0</td></tr><tr><th>15</th><td>71</td><td>1.0</td><td>15</td><td>0.02</td><td>0.02</td><td>0.0</td><td>0.005</td><td>0.3</td><td>0.2</td><td>0.15</td><td>1.0</td><td>3.5432</td><td>41.6686</td><td>47.5988</td><td>44.6656</td><td>45.2469</td><td>-3.35963e-5</td><td>0.000115511</td><td>0.000654616</td><td>41.6686</td><td>41.6686</td><td>61.7211</td><td>61.7362</td><td>103.405</td><td>40.2966</td><td>5.83703</td><td>100.0</td><td>0.08</td><td>0.6</td><td>0.27</td><td>1.0</td><td>3.35963e-5</td><td>-8.06273e-7</td><td>8.06273e-7</td><td>0.000115511</td><td>false</td><td>0.0</td></tr><tr><th>16</th><td>76</td><td>1.0</td><td>16</td><td>0.02</td><td>0.02</td><td>0.0</td><td>0.001</td><td>0.5</td><td>0.2</td><td>0.15</td><td>1.0</td><td>3.5173</td><td>43.3813</td><td>49.7005</td><td>45.7192</td><td>46.4647</td><td>-4.21918e-5</td><td>0.000844455</td><td>0.00071256</td><td>43.3813</td><td>43.3813</td><td>59.3617</td><td>59.3621</td><td>102.743</td><td>42.2229</td><td>4.84545</td><td>100.0</td><td>0.08</td><td>0.6</td><td>0.27</td><td>1.0</td><td>4.21918e-5</td><td>-9.7258e-7</td><td>9.7258e-7</td><td>0.000844455</td><td>false</td><td>0.0</td></tr><tr><th>17</th><td>81</td><td>1.0</td><td>17</td><td>0.02</td><td>0.02</td><td>0.0</td><td>0.0025</td><td>0.5</td><td>0.2</td><td>0.15</td><td>1.0</td><td>3.4697</td><td>42.0169</td><td>48.4011</td><td>44.5646</td><td>45.2359</td><td>-4.74264e-5</td><td>0.000817257</td><td>0.000707243</td><td>42.0169</td><td>42.0169</td><td>60.0889</td><td>60.0839</td><td>102.101</td><td>41.1524</td><td>3.62299</td><td>100.0</td><td>0.08</td><td>0.6</td><td>0.27</td><td>1.0</td><td>4.74264e-5</td><td>-1.12875e-6</td><td>1.12875e-6</td><td>0.000817257</td><td>false</td><td>0.0</td></tr><tr><th>18</th><td>86</td><td>1.0</td><td>18</td><td>0.02</td><td>0.02</td><td>0.0</td><td>0.003</td><td>0.5</td><td>0.2</td><td>0.15</td><td>1.0</td><td>3.4655</td><td>41.7134</td><td>48.1388</td><td>44.3365</td><td>44.9862</td><td>-4.59094e-5</td><td>0.000936633</td><td>0.000668412</td><td>41.7134</td><td>41.7134</td><td>60.1858</td><td>60.2246</td><td>101.938</td><td>40.9203</td><td>3.32495</td><td>100.0</td><td>0.08</td><td>0.6</td><td>0.27</td><td>1.0</td><td>4.59094e-5</td><td>-1.10059e-6</td><td>1.10059e-6</td><td>0.000936633</td><td>false</td><td>0.0</td></tr><tr><th>19</th><td>91</td><td>1.0</td><td>19</td><td>0.02</td><td>0.02</td><td>0.0</td><td>0.004</td><td>0.5</td><td>0.2</td><td>0.15</td><td>1.0</td><td>3.39619</td><td>40.3931</td><td>46.7837</td><td>43.1148</td><td>43.7114</td><td>-4.9269e-5</td><td>0.000800761</td><td>0.000661653</td><td>40.3931</td><td>40.393</td><td>61.134</td><td>61.109</td><td>101.502</td><td>39.7953</td><td>2.5199</td><td>100.0</td><td>0.08</td><td>0.6</td><td>0.27</td><td>1.0</td><td>4.9269e-5</td><td>-1.21974e-6</td><td>1.21974e-6</td><td>0.000800761</td><td>false</td><td>0.0</td></tr><tr><th>20</th><td>96</td><td>1.0</td><td>20</td><td>0.02</td><td>0.02</td><td>0.0</td><td>0.005</td><td>0.5</td><td>0.2</td><td>0.15</td><td>1.0</td><td>3.39304</td><td>39.8808</td><td>46.3566</td><td>42.7475</td><td>43.3044</td><td>-3.39058e-5</td><td>0.000663759</td><td>0.000651216</td><td>39.8808</td><td>39.8808</td><td>61.2689</td><td>61.2198</td><td>101.101</td><td>39.4467</td><td>1.83067</td><td>100.0</td><td>0.08</td><td>0.6</td><td>0.27</td><td>1.0</td><td>3.39058e-5</td><td>-8.50178e-7</td><td>8.50178e-7</td><td>0.000663759</td><td>false</td><td>0.0</td></tr><tr><th>21</th><td>101</td><td>1.0</td><td>21</td><td>0.02</td><td>0.02</td><td>0.0</td><td>0.001</td><td>0.75</td><td>0.2</td><td>0.15</td><td>1.0</td><td>3.44554</td><td>42.4554</td><td>49.1891</td><td>44.7403</td><td>45.4709</td><td>-3.76007e-5</td><td>0.00148977</td><td>0.000722999</td><td>42.4554</td><td>42.4554</td><td>58.8109</td><td>58.8053</td><td>101.261</td><td>41.9268</td><td>2.19078</td><td>100.0</td><td>0.08</td><td>0.6</td><td>0.27</td><td>1.0</td><td>3.76007e-5</td><td>-8.85651e-7</td><td>8.85651e-7</td><td>0.00148977</td><td>false</td><td>0.0</td></tr><tr><th>22</th><td>106</td><td>1.0</td><td>22</td><td>0.02</td><td>0.02</td><td>0.0</td><td>0.0025</td><td>0.75</td><td>0.2</td><td>0.15</td><td>1.0</td><td>3.39724</td><td>41.1007</td><td>47.8726</td><td>43.5898</td><td>44.2475</td><td>-4.84165e-5</td><td>0.00153424</td><td>0.000678835</td><td>41.1007</td><td>41.1007</td><td>59.5729</td><td>59.5794</td><td>100.68</td><td>40.8231</td><td>1.15457</td><td>100.0</td><td>0.08</td><td>0.6</td><td>0.27</td><td>1.0</td><td>4.84165e-5</td><td>-1.178e-6</td><td>1.178e-6</td><td>0.00153424</td><td>false</td><td>0.0</td></tr><tr><th>23</th><td>111</td><td>1.0</td><td>23</td><td>0.02</td><td>0.02</td><td>0.0</td><td>0.003</td><td>0.75</td><td>0.2</td><td>0.15</td><td>1.0</td><td>3.39619</td><td>40.841</td><td>47.6541</td><td>43.4062</td><td>44.0433</td><td>-5.20586e-5</td><td>0.00152908</td><td>0.000676684</td><td>40.841</td><td>40.841</td><td>59.6363</td><td>59.6425</td><td>100.483</td><td>40.6445</td><td>0.817254</td><td>100.0</td><td>0.08</td><td>0.6</td><td>0.27</td><td>1.0</td><td>5.20586e-5</td><td>-1.27466e-6</td><td>1.27466e-6</td><td>0.00152908</td><td>false</td><td>0.0</td></tr><tr><th>24</th><td>116</td><td>1.0</td><td>24</td><td>0.02</td><td>0.02</td><td>0.0</td><td>0.004</td><td>0.75</td><td>0.2</td><td>0.15</td><td>1.0</td><td>3.36364</td><td>39.969</td><td>46.7995</td><td>42.6592</td><td>43.2504</td><td>-5.55605e-5</td><td>0.00133333</td><td>0.000665101</td><td>39.969</td><td>39.9689</td><td>60.1474</td><td>60.1202</td><td>100.089</td><td>39.9333</td><td>0.148349</td><td>100.0</td><td>0.08</td><td>0.6</td><td>0.27</td><td>1.0</td><td>5.55605e-5</td><td>-1.39009e-6</td><td>1.39009e-6</td><td>0.00133333</td><td>false</td><td>0.0</td></tr><tr><th>25</th><td>121</td><td>1.0</td><td>25</td><td>0.02</td><td>0.02</td><td>0.0</td><td>0.005</td><td>0.75</td><td>0.2</td><td>0.15</td><td>1.0</td><td>3.36469</td><td>39.5116</td><td>46.4261</td><td>42.3487</td><td>42.9014</td><td>-4.26051e-5</td><td>0.0014184</td><td>0.000625537</td><td>39.5116</td><td>39.5115</td><td>60.2314</td><td>60.2283</td><td>99.7398</td><td>39.6146</td><td>-0.430182</td><td>100.0</td><td>0.08</td><td>0.6</td><td>0.27</td><td>1.0</td><td>4.26051e-5</td><td>-1.07829e-6</td><td>1.07829e-6</td><td>0.0014184</td><td>false</td><td>0.0</td></tr><tr><th>26</th><td>126</td><td>1.0</td><td>26</td><td>0.02</td><td>0.02</td><td>0.0</td><td>0.001</td><td>0.1</td><td>0.225</td><td>0.15</td><td>1.0</td><td>3.92754</td><td>48.4816</td><td>53.3286</td><td>51.0976</td><td>51.9203</td><td>-1.16498e-6</td><td>-3.48957e-5</td><td>0.00118747</td><td>48.4816</td><td>48.4816</td><td>59.2841</td><td>59.2934</td><td>107.775</td><td>44.9841</td><td>15.0917</td><td>100.0</td><td>0.08</td><td>0.6</td><td>0.27</td><td>1.0</td><td>1.16498e-6</td><td>-2.40294e-8</td><td>2.40294e-8</td><td>-3.48957e-5</td><td>false</td><td>0.0</td></tr><tr><th>27</th><td>131</td><td>1.0</td><td>27</td><td>0.02</td><td>0.02</td><td>0.0</td><td>0.0025</td><td>0.1</td><td>0.225</td><td>0.15</td><td>1.0</td><td>3.89079</td><td>47.156</td><td>52.1895</td><td>50.0185</td><td>50.7398</td><td>-5.13864e-6</td><td>8.16463e-6</td><td>0.00111454</td><td>47.156</td><td>47.156</td><td>59.8755</td><td>59.8858</td><td>107.042</td><td>44.0538</td><td>13.3257</td><td>100.0</td><td>0.08</td><td>0.6</td><td>0.27</td><td>1.0</td><td>5.13864e-6</td><td>-1.08971e-7</td><td>1.08971e-7</td><td>8.16463e-6</td><td>false</td><td>0.0</td></tr><tr><th>28</th><td>136</td><td>1.0</td><td>28</td><td>0.02</td><td>0.02</td><td>0.0</td><td>0.003</td><td>0.1</td><td>0.225</td><td>0.15</td><td>1.0</td><td>3.88869</td><td>46.847</td><td>51.9543</td><td>49.796</td><td>50.4864</td><td>-8.42786e-6</td><td>7.51957e-5</td><td>0.00111384</td><td>46.847</td><td>46.8469</td><td>59.9291</td><td>59.9435</td><td>106.79</td><td>43.8681</td><td>12.7753</td><td>100.0</td><td>0.08</td><td>0.6</td><td>0.27</td><td>1.0</td><td>8.42786e-6</td><td>-1.79902e-7</td><td>1.79902e-7</td><td>7.51957e-5</td><td>false</td><td>0.0</td></tr><tr><th>29</th><td>141</td><td>1.0</td><td>29</td><td>0.02</td><td>0.02</td><td>0.0</td><td>0.004</td><td>0.1</td><td>0.225</td><td>0.15</td><td>1.0</td><td>3.90129</td><td>46.4395</td><td>51.712</td><td>49.5718</td><td>50.2044</td><td>-8.77657e-6</td><td>-6.74843e-5</td><td>0.00109484</td><td>46.4395</td><td>46.4395</td><td>59.8576</td><td>59.8599</td><td>106.299</td><td>43.6875</td><td>11.7612</td><td>100.0</td><td>0.08</td><td>0.6</td><td>0.27</td><td>1.0</td><td>8.77657e-6</td><td>-1.88989e-7</td><td>1.88989e-7</td><td>-6.74843e-5</td><td>false</td><td>0.0</td></tr><tr><th>30</th><td>146</td><td>1.0</td><td>30</td><td>0.02</td><td>0.02</td><td>0.0</td><td>0.005</td><td>0.1</td><td>0.225</td><td>0.15</td><td>1.0</td><td>3.90129</td><td>45.8934</td><td>51.3127</td><td>49.1954</td><td>49.7694</td><td>-9.41812e-6</td><td>-5.79855e-5</td><td>0.00108562</td><td>45.8934</td><td>45.8934</td><td>59.9134</td><td>59.9169</td><td>105.81</td><td>43.3733</td><td>10.7386</td><td>100.0</td><td>0.08</td><td>0.6</td><td>0.27</td><td>1.0</td><td>9.41812e-6</td><td>-2.05217e-7</td><td>2.05217e-7</td><td>-5.79855e-5</td><td>false</td><td>0.0</td></tr><tr><th>31</th><td>151</td><td>1.0</td><td>31</td><td>0.02</td><td>0.02</td><td>0.0</td><td>0.001</td><td>0.2</td><td>0.225</td><td>0.15</td><td>1.0</td><td>3.41509</td><td>42.1527</td><td>48.013</td><td>44.4269</td><td>45.1423</td><td>-1.73466e-5</td><td>0.000485129</td><td>0.000952232</td><td>42.1527</td><td>42.1527</td><td>61.2315</td><td>61.2584</td><td>103.411</td><td>40.7622</td><td>5.89678</td><td>100.0</td><td>0.08</td><td>0.6</td><td>0.27</td><td>1.0</td><td>1.73466e-5</td><td>-4.11518e-7</td><td>4.11518e-7</td><td>0.000485129</td><td>false</td><td>0.0</td></tr><tr><th>32</th><td>156</td><td>1.0</td><td>32</td><td>0.02</td><td>0.02</td><td>0.0</td><td>0.0025</td><td>0.2</td><td>0.225</td><td>0.15</td><td>1.0</td><td>3.42454</td><td>41.5009</td><td>47.5387</td><td>44.0198</td><td>44.6547</td><td>-1.28717e-5</td><td>8.25401e-6</td><td>0.000913207</td><td>41.5009</td><td>41.5009</td><td>61.2826</td><td>61.2525</td><td>102.753</td><td>40.3888</td><td>4.70668</td><td>100.0</td><td>0.08</td><td>0.6</td><td>0.27</td><td>1.0</td><td>1.28717e-5</td><td>-3.10154e-7</td><td>3.10154e-7</td><td>8.25401e-6</td><td>false</td><td>0.0</td></tr><tr><th>33</th><td>161</td><td>1.0</td><td>33</td><td>0.02</td><td>0.02</td><td>0.0</td><td>0.003</td><td>0.2</td><td>0.225</td><td>0.15</td><td>1.0</td><td>3.43819</td><td>41.4154</td><td>47.5314</td><td>44.0222</td><td>44.6327</td><td>-1.23871e-5</td><td>5.06269e-5</td><td>0.00091131</td><td>41.4154</td><td>41.4154</td><td>61.1464</td><td>61.1225</td><td>102.538</td><td>40.3903</td><td>4.33191</td><td>100.0</td><td>0.08</td><td>0.6</td><td>0.27</td><td>1.0</td><td>1.23871e-5</td><td>-2.99095e-7</td><td>2.99095e-7</td><td>5.06269e-5</td><td>false</td><td>0.0</td></tr><tr><th>34</th><td>166</td><td>1.0</td><td>34</td><td>0.02</td><td>0.02</td><td>0.0</td><td>0.004</td><td>0.2</td><td>0.225</td><td>0.15</td><td>1.0</td><td>3.44764</td><td>41.0349</td><td>47.2757</td><td>43.8023</td><td>44.3615</td><td>-1.1603e-5</td><td>0.000225869</td><td>0.00091308</td><td>41.0349</td><td>41.0349</td><td>61.075</td><td>61.0679</td><td>102.103</td><td>40.1898</td><td>3.56609</td><td>100.0</td><td>0.08</td><td>0.6</td><td>0.27</td><td>1.0</td><td>1.1603e-5</td><td>-2.8276e-7</td><td>2.8276e-7</td><td>0.000225869</td><td>false</td><td>0.0</td></tr><tr><th>35</th><td>171</td><td>1.0</td><td>35</td><td>0.02</td><td>0.02</td><td>0.0</td><td>0.005</td><td>0.2</td><td>0.225</td><td>0.15</td><td>1.0</td><td>3.30483</td><td>38.8725</td><td>44.954</td><td>41.669</td><td>42.1553</td><td>-1.13774e-5</td><td>0.000168437</td><td>0.000858541</td><td>38.8725</td><td>38.8725</td><td>62.8257</td><td>62.8121</td><td>101.685</td><td>38.2285</td><td>2.75585</td><td>100.0</td><td>0.08</td><td>0.6</td><td>0.27</td><td>1.0</td><td>1.13774e-5</td><td>-2.92685e-7</td><td>2.92685e-7</td><td>0.000168437</td><td>false</td><td>0.0</td></tr><tr><th>36</th><td>176</td><td>1.0</td><td>36</td><td>0.02</td><td>0.02</td><td>0.0</td><td>0.001</td><td>0.3</td><td>0.225</td><td>0.15</td><td>1.0</td><td>3.18617</td><td>39.3197</td><td>45.7614</td><td>41.4405</td><td>42.1081</td><td>-3.68638e-5</td><td>0.000826205</td><td>0.000868472</td><td>39.3197</td><td>39.3197</td><td>61.3352</td><td>61.3201</td><td>100.64</td><td>39.0697</td><td>1.05428</td><td>100.0</td><td>0.08</td><td>0.6</td><td>0.27</td><td>1.0</td><td>3.68638e-5</td><td>-9.37539e-7</td><td>9.37539e-7</td><td>0.000826205</td><td>false</td><td>0.0</td></tr><tr><th>37</th><td>181</td><td>1.0</td><td>37</td><td>0.02</td><td>0.02</td><td>0.0</td><td>0.0025</td><td>0.3</td><td>0.225</td><td>0.15</td><td>1.0</td><td>3.17882</td><td>38.5159</td><td>45.0677</td><td>40.8531</td><td>41.4426</td><td>-3.31529e-5</td><td>0.000570017</td><td>0.000800435</td><td>38.5159</td><td>38.5159</td><td>61.5727</td><td>61.5777</td><td>100.094</td><td>38.4799</td><td>0.152283</td><td>100.0</td><td>0.08</td><td>0.6</td><td>0.27</td><td>1.0</td><td>3.31529e-5</td><td>-8.60757e-7</td><td>8.60757e-7</td><td>0.000570017</td><td>false</td><td>0.0</td></tr><tr><th>38</th><td>186</td><td>1.0</td><td>38</td><td>0.02</td><td>0.02</td><td>0.0</td><td>0.003</td><td>0.3</td><td>0.225</td><td>0.15</td><td>1.0</td><td>3.17987</td><td>38.2966</td><td>44.8924</td><td>40.7066</td><td>41.2713</td><td>-3.18415e-5</td><td>0.000585871</td><td>0.000798034</td><td>38.2966</td><td>38.2966</td><td>61.5792</td><td>61.5977</td><td>99.8943</td><td>38.3371</td><td>-0.171324</td><td>100.0</td><td>0.08</td><td>0.6</td><td>0.27</td><td>1.0</td><td>3.18415e-5</td><td>-8.31445e-7</td><td>8.31445e-7</td><td>0.000585871</td><td>false</td><td>0.0</td></tr><tr><th>39</th><td>191</td><td>1.0</td><td>39</td><td>0.02</td><td>0.02</td><td>0.0</td><td>0.004</td><td>0.3</td><td>0.225</td><td>0.15</td><td>1.0</td><td>3.06016</td><td>36.4161</td><td>42.842</td><td>38.8715</td><td>39.368</td><td>-2.36932e-5</td><td>0.00053901</td><td>0.000750776</td><td>36.4161</td><td>36.4161</td><td>63.053</td><td>63.0972</td><td>99.5133</td><td>36.5942</td><td>-0.765444</td><td>100.0</td><td>0.08</td><td>0.6</td><td>0.27</td><td>1.0</td><td>2.36932e-5</td><td>-6.50625e-7</td><td>6.50625e-7</td><td>0.00053901</td><td>false</td><td>0.0</td></tr><tr><th>40</th><td>196</td><td>1.0</td><td>40</td><td>0.02</td><td>0.02</td><td>0.0</td><td>0.005</td><td>0.3</td><td>0.225</td><td>0.15</td><td>1.0</td><td>2.9961</td><td>35.2344</td><td>41.6004</td><td>37.7686</td><td>38.2096</td><td>-1.74348e-5</td><td>0.000523614</td><td>0.000706299</td><td>35.2344</td><td>35.2344</td><td>63.904</td><td>63.938</td><td>99.1724</td><td>35.5284</td><td>-1.27784</td><td>100.0</td><td>0.08</td><td>0.6</td><td>0.27</td><td>1.0</td><td>1.74348e-5</td><td>-4.94823e-7</td><td>4.94823e-7</td><td>0.000523614</td><td>false</td><td>0.0</td></tr><tr><th>41</th><td>201</td><td>1.0</td><td>41</td><td>0.02</td><td>0.02</td><td>0.0</td><td>0.001</td><td>0.5</td><td>0.225</td><td>0.15</td><td>1.0</td><td>3.0444</td><td>37.5491</td><td>44.7742</td><td>39.5727</td><td>40.2109</td><td>-4.83407e-5</td><td>8.81315e-5</td><td>0.000726508</td><td>37.5491</td><td>37.549</td><td>60.0632</td><td>60.0517</td><td>97.6007</td><td>38.4721</td><td>-3.84185</td><td>100.0</td><td>0.08</td><td>0.6</td><td>0.27</td><td>1.0</td><td>4.83407e-5</td><td>-1.2874e-6</td><td>1.2874e-6</td><td>8.81315e-5</td><td>false</td><td>0.0</td></tr><tr><th>42</th><td>206</td><td>1.0</td><td>42</td><td>0.02</td><td>0.02</td><td>0.0</td><td>0.0025</td><td>0.5</td><td>0.225</td><td>0.15</td><td>1.0</td><td>2.9919</td><td>36.2308</td><td>43.4239</td><td>38.4276</td><td>38.9829</td><td>-3.16184e-5</td><td>6.41133e-5</td><td>0.000679808</td><td>36.2308</td><td>36.2307</td><td>60.8568</td><td>60.8504</td><td>97.0811</td><td>37.3201</td><td>-4.57722</td><td>100.0</td><td>0.08</td><td>0.6</td><td>0.27</td><td>1.0</td><td>3.16184e-5</td><td>-8.72694e-7</td><td>8.72694e-7</td><td>6.41133e-5</td><td>false</td><td>0.0</td></tr><tr><th>43</th><td>211</td><td>1.0</td><td>43</td><td>0.02</td><td>0.02</td><td>0.0</td><td>0.003</td><td>0.5</td><td>0.225</td><td>0.15</td><td>1.0</td><td>2.92259</td><td>35.1778</td><td>42.2333</td><td>37.3899</td><td>37.9094</td><td>-4.30455e-6</td><td>-2.08262e-5</td><td>0.00063847</td><td>35.1778</td><td>35.1778</td><td>61.7327</td><td>61.746</td><td>96.9238</td><td>36.2943</td><td>-4.74562</td><td>100.0</td><td>0.08</td><td>0.6</td><td>0.27</td><td>1.0</td><td>4.30455e-6</td><td>-1.22366e-7</td><td>1.22366e-7</td><td>-2.08262e-5</td><td>false</td><td>0.0</td></tr><tr><th>44</th><td>216</td><td>1.0</td><td>44</td><td>0.02</td><td>0.02</td><td>0.0</td><td>0.004</td><td>0.5</td><td>0.225</td><td>0.15</td><td>1.0</td><td>2.86274</td><td>34.0469</td><td>41.0142</td><td>36.3409</td><td>36.8058</td><td>1.98681e-5</td><td>4.16166e-5</td><td>0.000638403</td><td>34.0469</td><td>34.0469</td><td>62.5147</td><td>62.4983</td><td>96.5452</td><td>35.2652</td><td>-5.23822</td><td>100.0</td><td>0.08</td><td>0.6</td><td>0.27</td><td>1.0</td><td>1.98681e-5</td><td>5.8355e-7</td><td>5.8355e-7</td><td>4.16166e-5</td><td>false</td><td>0.0</td></tr><tr><th>45</th><td>221</td><td>1.0</td><td>45</td><td>0.02</td><td>0.02</td><td>0.0</td><td>0.005</td><td>0.5</td><td>0.225</td><td>0.15</td><td>1.0</td><td>2.89424</td><td>34.0173</td><td>41.1177</td><td>36.4624</td><td>36.8888</td><td>6.59841e-6</td><td>7.61145e-5</td><td>0.000634044</td><td>34.0173</td><td>34.0173</td><td>62.2243</td><td>62.1995</td><td>96.2168</td><td>35.3548</td><td>-5.73369</td><td>100.0</td><td>0.08</td><td>0.6</td><td>0.27</td><td>1.0</td><td>6.59841e-6</td><td>1.93972e-7</td><td>1.93972e-7</td><td>7.61145e-5</td><td>false</td><td>0.0</td></tr><tr><th>46</th><td>226</td><td>1.0</td><td>46</td><td>0.02</td><td>0.02</td><td>0.0</td><td>0.001</td><td>0.75</td><td>0.225</td><td>0.15</td><td>1.0</td><td>2.9667</td><td>36.5543</td><td>44.2829</td><td>38.5214</td><td>39.144</td><td>4.62023e-6</td><td>-0.000382752</td><td>0.000627807</td><td>36.5543</td><td>36.5543</td><td>59.1503</td><td>59.1536</td><td>95.7079</td><td>38.1936</td><td>-6.76499</td><td>100.0</td><td>0.08</td><td>0.6</td><td>0.27</td><td>1.0</td><td>4.62023e-6</td><td>1.26394e-7</td><td>1.26394e-7</td><td>-0.000382752</td><td>false</td><td>0.0</td></tr><tr><th>47</th><td>231</td><td>1.0</td><td>47</td><td>0.02</td><td>0.02</td><td>0.0</td><td>0.0025</td><td>0.75</td><td>0.225</td><td>0.15</td><td>1.0</td><td>2.92154</td><td>35.3441</td><td>43.0265</td><td>37.4844</td><td>38.0272</td><td>2.3565e-5</td><td>-0.00030566</td><td>0.000626018</td><td>35.3441</td><td>35.3441</td><td>59.8708</td><td>59.8566</td><td>95.2007</td><td>37.1259</td><td>-7.42287</td><td>100.0</td><td>0.08</td><td>0.6</td><td>0.27</td><td>1.0</td><td>2.3565e-5</td><td>6.66731e-7</td><td>6.66731e-7</td><td>-0.00030566</td><td>false</td><td>0.0</td></tr><tr><th>48</th><td>236</td><td>1.0</td><td>48</td><td>0.02</td><td>0.02</td><td>0.0</td><td>0.003</td><td>0.75</td><td>0.225</td><td>0.15</td><td>1.0</td><td>2.89529</td><td>34.8154</td><td>42.4495</td><td>37.002</td><td>37.5173</td><td>4.05683e-5</td><td>-0.000634208</td><td>0.000574351</td><td>34.8154</td><td>34.8154</td><td>60.2423</td><td>60.2413</td><td>95.0567</td><td>36.626</td><td>-7.58352</td><td>100.0</td><td>0.08</td><td>0.6</td><td>0.27</td><td>1.0</td><td>4.05683e-5</td><td>1.16524e-6</td><td>1.16524e-6</td><td>-0.000634208</td><td>false</td><td>0.0</td></tr><tr><th>49</th><td>241</td><td>1.0</td><td>49</td><td>0.02</td><td>0.02</td><td>0.0</td><td>0.004</td><td>0.75</td><td>0.225</td><td>0.15</td><td>1.0</td><td>2.86799</td><td>34.0763</td><td>41.6852</td><td>36.3697</td><td>36.836</td><td>7.81842e-5</td><td>-0.000383982</td><td>0.000582813</td><td>34.0763</td><td>34.0764</td><td>60.6524</td><td>60.644</td><td>94.7204</td><td>35.9758</td><td>-8.00873</td><td>100.0</td><td>0.08</td><td>0.6</td><td>0.27</td><td>1.0</td><td>7.81842e-5</td><td>2.29439e-6</td><td>2.29439e-6</td><td>-0.000383982</td><td>false</td><td>0.0</td></tr><tr><th>50</th><td>246</td><td>1.0</td><td>50</td><td>0.02</td><td>0.02</td><td>0.0</td><td>0.005</td><td>0.75</td><td>0.225</td><td>0.15</td><td>1.0</td><td>2.88059</td><td>33.8242</td><td>41.5092</td><td>36.2528</td><td>36.678</td><td>7.02828e-5</td><td>-0.000542034</td><td>0.000570359</td><td>33.8242</td><td>33.8243</td><td>60.5991</td><td>60.5824</td><td>94.4067</td><td>35.8283</td><td>-8.45224</td><td>100.0</td><td>0.08</td><td>0.6</td><td>0.27</td><td>1.0</td><td>7.02828e-5</td><td>2.07788e-6</td><td>2.07788e-6</td><td>-0.000542034</td><td>false</td><td>0.0</td></tr><tr><th>51</th><td>251</td><td>1.0</td><td>51</td><td>0.02</td><td>0.02</td><td>0.0</td><td>0.001</td><td>0.1</td><td>0.25</td><td>0.15</td><td>1.0</td><td>3.63981</td><td>44.9304</td><td>50.3376</td><td>47.3547</td><td>47.9345</td><td>2.26841e-6</td><td>-7.54723e-5</td><td>0.00137303</td><td>44.9304</td><td>44.9304</td><td>60.1673</td><td>60.1613</td><td>105.092</td><td>42.7535</td><td>9.24594</td><td>100.0</td><td>0.08</td><td>0.6</td><td>0.27</td><td>1.0</td><td>2.26841e-6</td><td>5.04873e-8</td><td>5.04873e-8</td><td>-7.54723e-5</td><td>false</td><td>0.0</td></tr><tr><th>52</th><td>256</td><td>1.0</td><td>52</td><td>0.02</td><td>0.02</td><td>0.0</td><td>0.0025</td><td>0.1</td><td>0.25</td><td>0.15</td><td>1.0</td><td>3.65872</td><td>44.3432</td><td>49.9799</td><td>47.0349</td><td>47.5152</td><td>-6.51966e-6</td><td>-0.000438899</td><td>0.00132743</td><td>44.3431</td><td>44.3431</td><td>60.0553</td><td>60.0273</td><td>104.37</td><td>42.4863</td><td>7.85244</td><td>100.0</td><td>0.08</td><td>0.6</td><td>0.27</td><td>1.0</td><td>6.51966e-6</td><td>-1.47027e-7</td><td>1.47027e-7</td><td>-0.000438899</td><td>false</td><td>0.0</td></tr><tr><th>53</th><td>261</td><td>1.0</td><td>53</td><td>0.02</td><td>0.02</td><td>0.0</td><td>0.003</td><td>0.1</td><td>0.25</td><td>0.15</td><td>1.0</td><td>3.64716</td><td>43.9372</td><td>49.6228</td><td>46.7031</td><td>47.1486</td><td>-7.36469e-6</td><td>0.000176948</td><td>0.00130098</td><td>43.9372</td><td>43.9371</td><td>60.2188</td><td>60.2338</td><td>104.171</td><td>42.1779</td><td>7.43981</td><td>100.0</td><td>0.08</td><td>0.6</td><td>0.27</td><td>1.0</td><td>7.36469e-6</td><td>-1.67619e-7</td><td>1.67619e-7</td><td>0.000176948</td><td>false</td><td>0.0</td></tr><tr><th>54</th><td>266</td><td>1.0</td><td>54</td><td>0.02</td><td>0.02</td><td>0.0</td><td>0.004</td><td>0.1</td><td>0.25</td><td>0.15</td><td>1.0</td><td>3.57471</td><td>42.5523</td><td>48.2509</td><td>45.4224</td><td>45.7951</td><td>-7.14497e-6</td><td>-0.000401884</td><td>0.00124844</td><td>42.5523</td><td>42.5522</td><td>61.1589</td><td>61.1295</td><td>103.682</td><td>41.0412</td><td>6.40895</td><td>100.0</td><td>0.08</td><td>0.6</td><td>0.27</td><td>1.0</td><td>7.14497e-6</td><td>-1.6791e-7</td><td>1.6791e-7</td><td>-0.000401884</td><td>false</td><td>0.0</td></tr><tr><th>55</th><td>271</td><td>1.0</td><td>55</td><td>0.02</td><td>0.02</td><td>0.0</td><td>0.005</td><td>0.1</td><td>0.25</td><td>0.15</td><td>1.0</td><td>3.58626</td><td>42.1877</td><td>48.0306</td><td>45.223</td><td>45.5342</td><td>-7.97737e-6</td><td>0.000403328</td><td>0.00123042</td><td>42.1877</td><td>42.1877</td><td>61.0563</td><td>61.0795</td><td>103.267</td><td>40.8529</td><td>5.65137</td><td>100.0</td><td>0.08</td><td>0.6</td><td>0.27</td><td>1.0</td><td>7.97737e-6</td><td>-1.89092e-7</td><td>1.89092e-7</td><td>0.000403328</td><td>false</td><td>0.0</td></tr><tr><th>56</th><td>276</td><td>1.0</td><td>56</td><td>0.02</td><td>0.02</td><td>0.0</td><td>0.001</td><td>0.2</td><td>0.25</td><td>0.15</td><td>1.0</td><td>3.09061</td><td>38.1477</td><td>44.6467</td><td>40.2059</td><td>40.6983</td><td>-1.85776e-5</td><td>0.000403699</td><td>0.00106782</td><td>38.1477</td><td>38.1477</td><td>61.4087</td><td>61.3908</td><td>99.5385</td><td>38.3246</td><td>-0.746056</td><td>100.0</td><td>0.08</td><td>0.6</td><td>0.27</td><td>1.0</td><td>1.85776e-5</td><td>-4.8699e-7</td><td>4.8699e-7</td><td>0.000403699</td><td>false</td><td>0.0</td></tr><tr><th>57</th><td>281</td><td>1.0</td><td>57</td><td>0.02</td><td>0.02</td><td>0.0</td><td>0.0025</td><td>0.2</td><td>0.25</td><td>0.15</td><td>1.0</td><td>3.07591</td><td>37.2761</td><td>43.8683</td><td>39.5386</td><td>39.9425</td><td>-1.6167e-5</td><td>0.000421995</td><td>0.00100512</td><td>37.2761</td><td>37.2761</td><td>61.7148</td><td>61.7066</td><td>98.9827</td><td>37.6592</td><td>-1.62191</td><td>100.0</td><td>0.08</td><td>0.6</td><td>0.27</td><td>1.0</td><td>1.6167e-5</td><td>-4.3371e-7</td><td>4.3371e-7</td><td>0.000421995</td><td>false</td><td>0.0</td></tr><tr><th>58</th><td>286</td><td>1.0</td><td>58</td><td>0.02</td><td>0.02</td><td>0.0</td><td>0.003</td><td>0.2</td><td>0.25</td><td>0.15</td><td>1.0</td><td>3.01815</td><td>36.3558</td><td>42.8631</td><td>38.6442</td><td>39.013</td><td>-1.12341e-5</td><td>0.000443263</td><td>0.000954681</td><td>36.3558</td><td>36.3558</td><td>62.4701</td><td>62.4727</td><td>98.8285</td><td>36.7868</td><td>-1.84072</td><td>100.0</td><td>0.08</td><td>0.6</td><td>0.27</td><td>1.0</td><td>1.12341e-5</td><td>-3.09004e-7</td><td>3.09004e-7</td><td>0.000443263</td><td>false</td><td>0.0</td></tr><tr><th>59</th><td>291</td><td>1.0</td><td>59</td><td>0.02</td><td>0.02</td><td>0.0</td><td>0.004</td><td>0.2</td><td>0.25</td><td>0.15</td><td>1.0</td><td>2.94989</td><td>35.1105</td><td>41.5463</td><td>37.4784</td><td>37.7861</td><td>-4.53745e-6</td><td>5.83841e-5</td><td>0.000923458</td><td>35.1105</td><td>35.1105</td><td>63.3278</td><td>63.2983</td><td>98.4088</td><td>35.6782</td><td>-2.45214</td><td>100.0</td><td>0.08</td><td>0.6</td><td>0.27</td><td>1.0</td><td>4.53745e-6</td><td>-1.29233e-7</td><td>1.29233e-7</td><td>5.83841e-5</td><td>false</td><td>0.0</td></tr><tr><th>60</th><td>296</td><td>1.0</td><td>60</td><td>0.02</td><td>0.02</td><td>0.0</td><td>0.005</td><td>0.2</td><td>0.25</td><td>0.15</td><td>1.0</td><td>2.24212</td><td>26.3753</td><td>31.3259</td><td>28.273</td><td>28.4676</td><td>-5.62926e-5</td><td>0.000278284</td><td>0.000691792</td><td>26.3753</td><td>26.3753</td><td>71.6825</td><td>71.5563</td><td>97.9316</td><td>26.9323</td><td>-2.80943</td><td>100.0</td><td>0.08</td><td>0.6</td><td>0.27</td><td>1.0</td><td>5.62926e-5</td><td>-2.13429e-6</td><td>2.13429e-6</td><td>0.000278284</td><td>false</td><td>0.0</td></tr><tr><th>61</th><td>301</td><td>1.0</td><td>61</td><td>0.02</td><td>0.02</td><td>0.0</td><td>0.001</td><td>0.3</td><td>0.25</td><td>0.15</td><td>1.0</td><td>2.80603</td><td>34.6274</td><td>41.6003</td><td>36.495</td><td>36.9423</td><td>1.26875e-5</td><td>-9.20668e-5</td><td>0.000863426</td><td>34.6274</td><td>34.6275</td><td>61.6831</td><td>61.6739</td><td>96.3013</td><td>35.9574</td><td>-5.65781</td><td>100.0</td><td>0.08</td><td>0.6</td><td>0.27</td><td>1.0</td><td>1.26875e-5</td><td>3.664e-7</td><td>3.664e-7</td><td>-9.20668e-5</td><td>false</td><td>0.0</td></tr><tr><th>62</th><td>306</td><td>1.0</td><td>62</td><td>0.02</td><td>0.02</td><td>0.0</td><td>0.0025</td><td>0.3</td><td>0.25</td><td>0.15</td><td>1.0</td><td>2.25053</td><td>27.2726</td><td>32.9356</td><td>28.9278</td><td>29.2234</td><td>-0.000164802</td><td>-0.000134161</td><td>0.000665193</td><td>27.2726</td><td>27.2724</td><td>68.501</td><td>68.3758</td><td>95.6483</td><td>28.5132</td><td>-5.98361</td><td>100.0</td><td>0.08</td><td>0.6</td><td>0.27</td><td>1.0</td><td>0.000164802</td><td>-6.04277e-6</td><td>6.04277e-6</td><td>-0.000134161</td><td>false</td><td>0.0</td></tr><tr><th>63</th><td>311</td><td>1.0</td><td>63</td><td>0.02</td><td>0.02</td><td>0.0</td><td>0.003</td><td>0.3</td><td>0.25</td><td>0.15</td><td>1.0</td><td>2.33033</td><td>28.068</td><td>33.9552</td><td>29.8345</td><td>30.1194</td><td>-0.000120781</td><td>-0.000184107</td><td>0.000659872</td><td>28.068</td><td>28.0679</td><td>67.5659</td><td>67.517</td><td>95.5849</td><td>29.3644</td><td>-6.13793</td><td>100.0</td><td>0.08</td><td>0.6</td><td>0.27</td><td>1.0</td><td>0.000120781</td><td>-4.30314e-6</td><td>4.30314e-6</td><td>-0.000184107</td><td>false</td><td>0.0</td></tr><tr><th>64</th><td>316</td><td>1.0</td><td>64</td><td>0.02</td><td>0.02</td><td>0.0</td><td>0.004</td><td>0.3</td><td>0.25</td><td>0.15</td><td>1.0</td><td>2.37759</td><td>28.2955</td><td>34.3487</td><td>30.2035</td><td>30.4517</td><td>-9.14681e-5</td><td>-0.000232531</td><td>0.000651352</td><td>28.2955</td><td>28.2954</td><td>67.0479</td><td>67.0167</td><td>95.3122</td><td>29.6871</td><td>-6.53769</td><td>100.0</td><td>0.08</td><td>0.6</td><td>0.27</td><td>1.0</td><td>9.14681e-5</td><td>-3.2326e-6</td><td>3.2326e-6</td><td>-0.000232531</td><td>false</td><td>0.0</td></tr><tr><th>65</th><td>321</td><td>1.0</td><td>65</td><td>0.02</td><td>0.02</td><td>0.0</td><td>0.005</td><td>0.3</td><td>0.25</td><td>0.15</td><td>1.0</td><td>2.19382</td><td>25.8053</td><td>31.4342</td><td>27.6617</td><td>27.8522</td><td>-0.000172585</td><td>-0.00021115</td><td>0.000585876</td><td>25.8053</td><td>25.8051</td><td>69.2795</td><td>69.2237</td><td>95.0288</td><td>27.155</td><td>-6.70017</td><td>100.0</td><td>0.08</td><td>0.6</td><td>0.27</td><td>1.0</td><td>0.000172585</td><td>-6.68796e-6</td><td>6.68796e-6</td><td>-0.00021115</td><td>false</td><td>0.0</td></tr><tr><th>66</th><td>326</td><td>1.0</td><td>66</td><td>0.02</td><td>0.02</td><td>0.0</td><td>0.001</td><td>0.5</td><td>0.25</td><td>0.15</td><td>1.0</td><td>2.56661</td><td>31.6553</td><td>39.1836</td><td>33.3613</td><td>33.7709</td><td>-1.15027e-5</td><td>-0.000127993</td><td>0.000702189</td><td>31.6553</td><td>31.6553</td><td>61.1246</td><td>61.1153</td><td>92.7706</td><td>34.1221</td><td>-10.5779</td><td>100.0</td><td>0.08</td><td>0.6</td><td>0.27</td><td>1.0</td><td>1.15027e-5</td><td>-3.63374e-7</td><td>3.63374e-7</td><td>-0.000127993</td><td>false</td><td>0.0</td></tr><tr><th>67</th><td>331</td><td>1.0</td><td>67</td><td>0.02</td><td>0.02</td><td>0.0</td><td>0.0025</td><td>0.5</td><td>0.25</td><td>0.15</td><td>1.0</td><td>2.38919</td><td>28.933</td><td>35.9852</td><td>30.6875</td><td>31.0019</td><td>-5.43042e-5</td><td>-0.000301366</td><td>0.000619967</td><td>28.933</td><td>28.933</td><td>63.3859</td><td>63.36</td><td>92.293</td><td>31.3491</td><td>-10.8447</td><td>100.0</td><td>0.08</td><td>0.6</td><td>0.27</td><td>1.0</td><td>5.43042e-5</td><td>-1.87689e-6</td><td>1.87689e-6</td><td>-0.000301366</td><td>false</td><td>0.0</td></tr><tr><th>68</th><td>336</td><td>1.0</td><td>68</td><td>0.02</td><td>0.02</td><td>0.0</td><td>0.003</td><td>0.5</td><td>0.25</td><td>0.15</td><td>1.0</td><td>2.43219</td><td>29.2763</td><td>36.4715</td><td>31.1174</td><td>31.4153</td><td>-4.72752e-5</td><td>-0.000225773</td><td>0.000620438</td><td>29.2763</td><td>29.2763</td><td>62.9127</td><td>62.8921</td><td>92.1683</td><td>31.7639</td><td>-11.0736</td><td>100.0</td><td>0.08</td><td>0.6</td><td>0.27</td><td>1.0</td><td>4.72752e-5</td><td>-1.61479e-6</td><td>1.61479e-6</td><td>-0.000225773</td><td>false</td><td>0.0</td></tr><tr><th>69</th><td>341</td><td>1.0</td><td>69</td><td>0.02</td><td>0.02</td><td>0.0</td><td>0.004</td><td>0.5</td><td>0.25</td><td>0.15</td><td>1.0</td><td>2.42274</td><td>28.8174</td><td>36.0151</td><td>30.7594</td><td>31.0127</td><td>-0.000117121</td><td>-7.94902e-6</td><td>0.000625043</td><td>28.8174</td><td>28.8173</td><td>63.0932</td><td>63.0483</td><td>91.8656</td><td>31.369</td><td>-11.4275</td><td>100.0</td><td>0.08</td><td>0.6</td><td>0.27</td><td>1.0</td><td>0.000117121</td><td>-4.06425e-6</td><td>4.06425e-6</td><td>-7.94902e-6</td><td>false</td><td>0.0</td></tr><tr><th>70</th><td>346</td><td>1.0</td><td>70</td><td>0.02</td><td>0.02</td><td>0.0</td><td>0.005</td><td>0.5</td><td>0.25</td><td>0.15</td><td>1.0</td><td>2.25893</td><td>26.5588</td><td>33.2985</td><td>28.4685</td><td>28.665</td><td>-0.000324856</td><td>-7.42606e-5</td><td>0.000558689</td><td>26.5588</td><td>26.5585</td><td>65.0918</td><td>65.0208</td><td>91.5792</td><td>29.0005</td><td>-11.4659</td><td>100.0</td><td>0.08</td><td>0.6</td><td>0.27</td><td>1.0</td><td>0.000324856</td><td>-1.22316e-5</td><td>1.22316e-5</td><td>-7.42606e-5</td><td>false</td><td>0.0</td></tr><tr><th>71</th><td>351</td><td>1.0</td><td>71</td><td>0.02</td><td>0.02</td><td>0.0</td><td>0.001</td><td>0.75</td><td>0.25</td><td>0.15</td><td>1.0</td><td>2.5057</td><td>30.8746</td><td>38.9808</td><td>32.5361</td><td>32.9368</td><td>-1.40932e-5</td><td>6.10181e-5</td><td>0.000628711</td><td>30.8746</td><td>30.8746</td><td>59.6991</td><td>59.6987</td><td>90.5732</td><td>34.0879</td><td>-13.6372</td><td>100.0</td><td>0.08</td><td>0.6</td><td>0.27</td><td>1.0</td><td>1.40932e-5</td><td>-4.56466e-7</td><td>4.56466e-7</td><td>6.10181e-5</td><td>false</td><td>0.0</td></tr><tr><th>72</th><td>356</td><td>1.0</td><td>72</td><td>0.02</td><td>0.02</td><td>0.0</td><td>0.0025</td><td>0.75</td><td>0.25</td><td>0.15</td><td>1.0</td><td>2.4616</td><td>29.7798</td><td>37.7672</td><td>31.5832</td><td>31.9081</td><td>2.00764e-5</td><td>-0.000178684</td><td>0.000579126</td><td>29.7798</td><td>29.7798</td><td>60.3779</td><td>60.3853</td><td>90.1651</td><td>33.0281</td><td>-14.0058</td><td>100.0</td><td>0.08</td><td>0.6</td><td>0.27</td><td>1.0</td><td>2.00764e-5</td><td>6.74162e-7</td><td>6.74162e-7</td><td>-0.000178684</td><td>false</td><td>0.0</td></tr><tr><th>73</th><td>361</td><td>1.0</td><td>73</td><td>0.02</td><td>0.02</td><td>0.0</td><td>0.003</td><td>0.75</td><td>0.25</td><td>0.15</td><td>1.0</td><td>2.4574</td><td>29.5502</td><td>37.534</td><td>31.4061</td><td>31.7081</td><td>2.06114e-5</td><td>5.55597e-5</td><td>0.000587844</td><td>29.5502</td><td>29.5502</td><td>60.4776</td><td>60.4729</td><td>90.0231</td><td>32.8252</td><td>-14.1618</td><td>100.0</td><td>0.08</td><td>0.6</td><td>0.27</td><td>1.0</td><td>2.06114e-5</td><td>6.97506e-7</td><td>6.97506e-7</td><td>5.55597e-5</td><td>false</td><td>0.0</td></tr><tr><th>74</th><td>366</td><td>1.0</td><td>74</td><td>0.02</td><td>0.02</td><td>0.0</td><td>0.004</td><td>0.75</td><td>0.25</td><td>0.15</td><td>1.0</td><td>2.4511</td><td>29.1271</td><td>37.1082</td><td>31.0877</td><td>31.3449</td><td>-9.74856e-5</td><td>0.000212252</td><td>0.000590226</td><td>29.1271</td><td>29.127</td><td>60.6347</td><td>60.6218</td><td>89.7487</td><td>32.4539</td><td>-14.4643</td><td>100.0</td><td>0.08</td><td>0.6</td><td>0.27</td><td>1.0</td><td>9.74856e-5</td><td>-3.34691e-6</td><td>3.34691e-6</td><td>0.000212252</td><td>false</td><td>0.0</td></tr><tr><th>75</th><td>371</td><td>1.0</td><td>75</td><td>0.02</td><td>0.02</td><td>0.0</td><td>0.005</td><td>0.75</td><td>0.25</td><td>0.15</td><td>1.0</td><td>2.36919</td><td>27.8277</td><td>35.5587</td><td>29.8264</td><td>30.0335</td><td>-0.000279166</td><td>0.000168757</td><td>0.00055512</td><td>27.8277</td><td>27.8274</td><td>61.6767</td><td>61.6524</td><td>89.4798</td><td>31.0991</td><td>-14.5764</td><td>100.0</td><td>0.08</td><td>0.6</td><td>0.27</td><td>1.0</td><td>0.000279166</td><td>-1.0032e-5</td><td>1.0032e-5</td><td>0.000168757</td><td>false</td><td>0.0</td></tr><tr><th>76</th><td>376</td><td>1.0</td><td>76</td><td>0.02</td><td>0.02</td><td>0.0</td><td>0.001</td><td>0.1</td><td>0.275</td><td>0.15</td><td>1.0</td><td>3.41929</td><td>42.2082</td><td>48.1669</td><td>44.4857</td><td>44.7367</td><td>-9.22286e-6</td><td>-8.85405e-5</td><td>0.00154313</td><td>42.2082</td><td>42.2082</td><td>60.0529</td><td>60.0284</td><td>102.237</td><td>41.2848</td><td>3.87007</td><td>100.0</td><td>0.08</td><td>0.6</td><td>0.27</td><td>1.0</td><td>9.22286e-6</td><td>-2.18509e-7</td><td>2.18509e-7</td><td>-8.85405e-5</td><td>false</td><td>0.0</td></tr><tr><th>77</th><td>381</td><td>1.0</td><td>77</td><td>0.02</td><td>0.02</td><td>0.0</td><td>0.0025</td><td>0.1</td><td>0.275</td><td>0.15</td><td>1.0</td><td>3.30693</td><td>40.0803</td><td>46.015</td><td>42.5133</td><td>42.6547</td><td>-9.37896e-6</td><td>0.000180101</td><td>0.00146723</td><td>40.0803</td><td>40.0803</td><td>61.485</td><td>61.4732</td><td>101.553</td><td>39.4672</td><td>2.59257</td><td>100.0</td><td>0.08</td><td>0.6</td><td>0.27</td><td>1.0</td><td>9.37896e-6</td><td>-2.34004e-7</td><td>2.34004e-7</td><td>0.000180101</td><td>false</td><td>0.0</td></tr><tr><th>78</th><td>386</td><td>1.0</td><td>78</td><td>0.02</td><td>0.02</td><td>0.0</td><td>0.003</td><td>0.1</td><td>0.275</td><td>0.15</td><td>1.0</td><td>3.33633</td><td>40.193</td><td>46.2348</td><td>42.7232</td><td>42.8325</td><td>-7.14059e-6</td><td>5.08676e-5</td><td>0.00145194</td><td>40.193</td><td>40.193</td><td>61.1662</td><td>61.147</td><td>101.34</td><td>39.6615</td><td>2.24049</td><td>100.0</td><td>0.08</td><td>0.6</td><td>0.27</td><td>1.0</td><td>7.14059e-6</td><td>-1.77658e-7</td><td>1.77658e-7</td><td>5.08676e-5</td><td>false</td><td>0.0</td></tr><tr><th>79</th><td>391</td><td>1.0</td><td>79</td><td>0.02</td><td>0.02</td><td>0.0</td><td>0.004</td><td>0.1</td><td>0.275</td><td>0.15</td><td>1.0</td><td>3.30798</td><td>39.3773</td><td>45.473</td><td>42.0332</td><td>42.0768</td><td>-5.72575e-6</td><td>4.86115e-5</td><td>0.00137528</td><td>39.3773</td><td>39.3772</td><td>61.5776</td><td>61.5642</td><td>100.941</td><td>39.01</td><td>1.55293</td><td>100.0</td><td>0.08</td><td>0.6</td><td>0.27</td><td>1.0</td><td>5.72575e-6</td><td>-1.45408e-7</td><td>1.45408e-7</td><td>4.86115e-5</td><td>false</td><td>0.0</td></tr><tr><th>80</th><td>396</td><td>1.0</td><td>80</td><td>0.02</td><td>0.02</td><td>0.0</td><td>0.005</td><td>0.1</td><td>0.275</td><td>0.15</td><td>1.0</td><td>3.30693</td><td>38.9017</td><td>45.1046</td><td>41.7006</td><td>41.6809</td><td>-3.0698e-6</td><td>0.000276992</td><td>0.00137551</td><td>38.9017</td><td>38.9017</td><td>61.5966</td><td>61.5954</td><td>100.497</td><td>38.7093</td><td>0.813627</td><td>100.0</td><td>0.08</td><td>0.6</td><td>0.27</td><td>1.0</td><td>3.0698e-6</td><td>-7.89117e-8</td><td>7.89117e-8</td><td>0.000276992</td><td>false</td><td>0.0</td></tr><tr><th>81</th><td>401</td><td>1.0</td><td>81</td><td>0.02</td><td>0.02</td><td>0.0</td><td>0.001</td><td>0.2</td><td>0.275</td><td>0.15</td><td>1.0</td><td>2.66532</td><td>32.8977</td><td>39.5115</td><td>34.6726</td><td>34.8684</td><td>1.12293e-5</td><td>-0.000228878</td><td>0.00102397</td><td>32.8977</td><td>32.8978</td><td>62.9489</td><td>62.8953</td><td>95.793</td><td>34.3425</td><td>-6.26949</td><td>100.0</td><td>0.08</td><td>0.6</td><td>0.27</td><td>1.0</td><td>1.12293e-5</td><td>3.41339e-7</td><td>3.41339e-7</td><td>-0.000228878</td><td>false</td><td>0.0</td></tr><tr><th>82</th><td>406</td><td>1.0</td><td>82</td><td>0.02</td><td>0.02</td><td>0.0</td><td>0.0025</td><td>0.2</td><td>0.275</td><td>0.15</td><td>1.0</td><td>2.67162</td><td>32.3761</td><td>39.095</td><td>34.3411</td><td>34.4555</td><td>1.12173e-5</td><td>-0.000175408</td><td>0.000968127</td><td>32.3761</td><td>32.3761</td><td>62.9042</td><td>62.9319</td><td>95.308</td><td>33.97</td><td>-6.93842</td><td>100.0</td><td>0.08</td><td>0.6</td><td>0.27</td><td>1.0</td><td>1.12173e-5</td><td>3.4647e-7</td><td>3.4647e-7</td><td>-0.000175408</td><td>false</td><td>0.0</td></tr><tr><th>83</th><td>411</td><td>1.0</td><td>83</td><td>0.02</td><td>0.02</td><td>0.0</td><td>0.003</td><td>0.2</td><td>0.275</td><td>0.15</td><td>1.0</td><td>2.62121</td><td>31.5739</td><td>38.1947</td><td>33.5613</td><td>33.6473</td><td>1.11685e-5</td><td>-0.000220327</td><td>0.000958205</td><td>31.5739</td><td>31.5739</td><td>63.5259</td><td>63.5317</td><td>95.1057</td><td>33.1988</td><td>-7.15275</td><td>100.0</td><td>0.08</td><td>0.6</td><td>0.27</td><td>1.0</td><td>1.11685e-5</td><td>3.53727e-7</td><td>3.53727e-7</td><td>-0.000220327</td><td>false</td><td>0.0</td></tr><tr><th>84</th><td>416</td><td>1.0</td><td>84</td><td>0.02</td><td>0.02</td><td>0.0</td><td>0.004</td><td>0.2</td><td>0.275</td><td>0.15</td><td>1.0</td><td>1.87144</td><td>22.2795</td><td>27.0485</td><td>23.7824</td><td>23.807</td><td>-1.98078e-5</td><td>-4.69241e-5</td><td>0.000652061</td><td>22.2795</td><td>22.2795</td><td>72.4495</td><td>72.5567</td><td>94.8362</td><td>23.4926</td><td>-6.64403</td><td>100.0</td><td>0.08</td><td>0.6</td><td>0.27</td><td>1.0</td><td>1.98078e-5</td><td>-8.89059e-7</td><td>8.89059e-7</td><td>-4.69241e-5</td><td>false</td><td>0.0</td></tr><tr><th>85</th><td>421</td><td>1.0</td><td>85</td><td>0.02</td><td>0.02</td><td>0.0</td><td>0.005</td><td>0.2</td><td>0.275</td><td>0.15</td><td>1.0</td><td>2.30303</td><td>27.0911</td><td>33.0055</td><td>29.0401</td><td>29.0265</td><td>-7.2096e-5</td><td>-0.000292363</td><td>0.000773327</td><td>27.0911</td><td>27.091</td><td>67.4213</td><td>67.4428</td><td>94.5338</td><td>28.6574</td><td>-7.49725</td><td>100.0</td><td>0.08</td><td>0.6</td><td>0.27</td><td>1.0</td><td>7.2096e-5</td><td>-2.66125e-6</td><td>2.66125e-6</td><td>-0.000292363</td><td>false</td><td>0.0</td></tr><tr><th>86</th><td>426</td><td>1.0</td><td>86</td><td>0.02</td><td>0.02</td><td>0.0</td><td>0.001</td><td>0.3</td><td>0.275</td><td>0.15</td><td>1.0</td><td>2.51305</td><td>31.0127</td><td>38.3822</td><td>32.6854</td><td>32.8702</td><td>-1.60237e-5</td><td>-0.000139611</td><td>0.000845616</td><td>31.0127</td><td>31.0127</td><td>61.2298</td><td>61.2306</td><td>92.2432</td><td>33.6205</td><td>-11.2438</td><td>100.0</td><td>0.08</td><td>0.6</td><td>0.27</td><td>1.0</td><td>1.60237e-5</td><td>-5.16681e-7</td><td>5.16681e-7</td><td>-0.000139611</td><td>false</td><td>0.0</td></tr><tr><th>87</th><td>431</td><td>1.0</td><td>87</td><td>0.02</td><td>0.02</td><td>0.0</td><td>0.0025</td><td>0.3</td><td>0.275</td><td>0.15</td><td>1.0</td><td>2.29618</td><td>27.8223</td><td>34.6047</td><td>29.5106</td><td>29.609</td><td>-4.4254e-5</td><td>-0.000186861</td><td>0.000753165</td><td>27.8223</td><td>27.8222</td><td>63.9524</td><td>63.9624</td><td>91.7846</td><td>30.3125</td><td>-11.3821</td><td>100.0</td><td>0.08</td><td>0.6</td><td>0.27</td><td>1.0</td><td>4.4254e-5</td><td>-1.5906e-6</td><td>1.5906e-6</td><td>-0.000186861</td><td>false</td><td>0.0</td></tr><tr><th>88</th><td>436</td><td>1.0</td><td>88</td><td>0.02</td><td>0.02</td><td>0.0</td><td>0.003</td><td>0.3</td><td>0.275</td><td>0.15</td><td>1.0</td><td>2.22427</td><td>26.792</td><td>33.3787</td><td>28.4783</td><td>28.5513</td><td>-0.000165315</td><td>-0.000253315</td><td>0.000711405</td><td>26.792</td><td>26.7918</td><td>64.8331</td><td>64.8596</td><td>91.6514</td><td>29.2323</td><td>-11.4038</td><td>100.0</td><td>0.08</td><td>0.6</td><td>0.27</td><td>1.0</td><td>0.000165315</td><td>-6.17033e-6</td><td>6.17033e-6</td><td>-0.000253315</td><td>false</td><td>0.0</td></tr><tr><th>89</th><td>441</td><td>1.0</td><td>89</td><td>0.02</td><td>0.02</td><td>0.0</td><td>0.004</td><td>0.3</td><td>0.275</td><td>0.15</td><td>1.0</td><td>1.83678</td><td>21.8663</td><td>27.3324</td><td>23.3413</td><td>23.3654</td><td>8.8568e-6</td><td>-0.00021544</td><td>0.000580785</td><td>21.8663</td><td>21.8663</td><td>69.4642</td><td>69.5046</td><td>91.3709</td><td>23.9313</td><td>-11.044</td><td>100.0</td><td>0.08</td><td>0.6</td><td>0.27</td><td>1.0</td><td>8.8568e-6</td><td>4.05044e-7</td><td>4.05044e-7</td><td>-0.00021544</td><td>false</td><td>0.0</td></tr><tr><th>90</th><td>446</td><td>1.0</td><td>90</td><td>0.02</td><td>0.02</td><td>0.0</td><td>0.005</td><td>0.3</td><td>0.275</td><td>0.15</td><td>1.0</td><td>1.87039</td><td>22.0063</td><td>27.5988</td><td>23.5899</td><td>23.5786</td><td>-7.07351e-5</td><td>-0.000175812</td><td>0.00057716</td><td>22.0063</td><td>22.0062</td><td>69.1071</td><td>69.1384</td><td>91.1446</td><td>24.1443</td><td>-11.3539</td><td>100.0</td><td>0.08</td><td>0.6</td><td>0.27</td><td>1.0</td><td>7.07351e-5</td><td>-3.21432e-6</td><td>3.21432e-6</td><td>-0.000175812</td><td>false</td><td>0.0</td></tr><tr><th>91</th><td>451</td><td>1.0</td><td>91</td><td>0.02</td><td>0.02</td><td>0.0</td><td>0.001</td><td>0.5</td><td>0.275</td><td>0.15</td><td>1.0</td><td>2.32403</td><td>28.662</td><td>36.685</td><td>30.2066</td><td>30.3782</td><td>5.10928e-5</td><td>0.000298687</td><td>0.000730402</td><td>28.662</td><td>28.6621</td><td>59.7581</td><td>59.7648</td><td>88.4269</td><td>32.4133</td><td>-16.2229</td><td>100.0</td><td>0.08</td><td>0.6</td><td>0.27</td><td>1.0</td><td>5.10928e-5</td><td>1.78259e-6</td><td>1.78259e-6</td><td>0.000298687</td><td>false</td><td>0.0</td></tr><tr><th>92</th><td>456</td><td>1.0</td><td>92</td><td>0.02</td><td>0.02</td><td>0.0</td><td>0.0025</td><td>0.5</td><td>0.275</td><td>0.15</td><td>1.0</td><td>2.21902</td><td>26.8697</td><td>34.5455</td><td>28.4988</td><td>28.5948</td><td>5.90961e-5</td><td>-0.000100987</td><td>0.000636269</td><td>26.8697</td><td>26.8698</td><td>61.1755</td><td>61.1888</td><td>88.0585</td><td>30.5135</td><td>-16.3291</td><td>100.0</td><td>0.08</td><td>0.6</td><td>0.27</td><td>1.0</td><td>5.90961e-5</td><td>2.19936e-6</td><td>2.19936e-6</td><td>-0.000100987</td><td>false</td><td>0.0</td></tr><tr><th>93</th><td>461</td><td>1.0</td><td>93</td><td>0.02</td><td>0.02</td><td>0.0</td><td>0.003</td><td>0.5</td><td>0.275</td><td>0.15</td><td>1.0</td><td>2.20537</td><td>26.5498</td><td>34.1856</td><td>28.2197</td><td>28.2928</td><td>-0.00018474</td><td>2.70719e-5</td><td>0.000639026</td><td>26.5498</td><td>26.5496</td><td>61.3654</td><td>61.3736</td><td>87.9232</td><td>30.1963</td><td>-16.4421</td><td>100.0</td><td>0.08</td><td>0.6</td><td>0.27</td><td>1.0</td><td>0.00018474</td><td>-6.95824e-6</td><td>6.95824e-6</td><td>2.70719e-5</td><td>false</td><td>0.0</td></tr><tr><th>94</th><td>466</td><td>1.0</td><td>94</td><td>0.02</td><td>0.02</td><td>0.0</td><td>0.004</td><td>0.5</td><td>0.275</td><td>0.15</td><td>1.0</td><td>2.19802</td><td>26.1473</td><td>33.7677</td><td>27.9095</td><td>27.9393</td><td>-0.000209562</td><td>0.000120327</td><td>0.000637007</td><td>26.1473</td><td>26.1471</td><td>61.5116</td><td>61.5187</td><td>87.6658</td><td>29.8259</td><td>-16.701</td><td>100.0</td><td>0.08</td><td>0.6</td><td>0.27</td><td>1.0</td><td>0.000209562</td><td>-8.01469e-6</td><td>8.01469e-6</td><td>0.000120327</td><td>false</td><td>0.0</td></tr><tr><th>95</th><td>471</td><td>1.0</td><td>95</td><td>0.02</td><td>0.02</td><td>0.0</td><td>0.005</td><td>0.5</td><td>0.275</td><td>0.15</td><td>1.0</td><td>2.09721</td><td>24.6616</td><td>31.9457</td><td>26.4353</td><td>26.4232</td><td>-0.000425365</td><td>0.000386206</td><td>0.000612926</td><td>24.6616</td><td>24.6612</td><td>62.7726</td><td>62.7485</td><td>87.4097</td><td>28.2134</td><td>-16.7116</td><td>100.0</td><td>0.08</td><td>0.6</td><td>0.27</td><td>1.0</td><td>0.000425365</td><td>-1.7248e-5</td><td>1.7248e-5</td><td>0.000386206</td><td>false</td><td>0.0</td></tr><tr><th>96</th><td>476</td><td>1.0</td><td>96</td><td>0.02</td><td>0.02</td><td>0.0</td><td>0.001</td><td>0.75</td><td>0.275</td><td>0.15</td><td>1.0</td><td>2.18857</td><td>26.9628</td><td>35.271</td><td>28.4135</td><td>28.5764</td><td>0.000157739</td><td>0.000188947</td><td>0.0006307</td><td>26.9628</td><td>26.963</td><td>59.145</td><td>59.1517</td><td>86.1146</td><td>31.3105</td><td>-19.0114</td><td>100.0</td><td>0.08</td><td>0.6</td><td>0.27</td><td>1.0</td><td>0.000157739</td><td>5.85025e-6</td><td>5.85025e-6</td><td>0.000188947</td><td>false</td><td>0.0</td></tr><tr><th>97</th><td>481</td><td>1.0</td><td>97</td><td>0.02</td><td>0.02</td><td>0.0</td><td>0.0025</td><td>0.75</td><td>0.275</td><td>0.15</td><td>1.0</td><td>2.16232</td><td>26.1566</td><td>34.3611</td><td>27.7404</td><td>27.8351</td><td>0.000128084</td><td>0.000127746</td><td>0.000590968</td><td>26.1566</td><td>26.1568</td><td>59.6089</td><td>59.6093</td><td>85.7661</td><td>30.4978</td><td>-19.2758</td><td>100.0</td><td>0.08</td><td>0.6</td><td>0.27</td><td>1.0</td><td>0.000128084</td><td>4.8968e-6</td><td>4.8968e-6</td><td>0.000127746</td><td>false</td><td>0.0</td></tr><tr><th>98</th><td>486</td><td>1.0</td><td>98</td><td>0.02</td><td>0.02</td><td>0.0</td><td>0.003</td><td>0.75</td><td>0.275</td><td>0.15</td><td>1.0</td><td>2.15392</td><td>25.902</td><td>34.074</td><td>27.5289</td><td>27.6016</td><td>-1.76109e-5</td><td>0.000196979</td><td>0.000591268</td><td>25.902</td><td>25.902</td><td>59.7485</td><td>59.7474</td><td>85.6494</td><td>30.2419</td><td>-19.3671</td><td>100.0</td><td>0.08</td><td>0.6</td><td>0.27</td><td>1.0</td><td>1.76109e-5</td><td>-6.79906e-7</td><td>6.79906e-7</td><td>0.000196979</td><td>false</td><td>0.0</td></tr><tr><th>99</th><td>491</td><td>1.0</td><td>99</td><td>0.02</td><td>0.02</td><td>0.0</td><td>0.004</td><td>0.75</td><td>0.275</td><td>0.15</td><td>1.0</td><td>2.13186</td><td>25.333</td><td>33.4178</td><td>27.0382</td><td>27.0684</td><td>-4.48264e-5</td><td>-9.7854e-5</td><td>0.000545584</td><td>25.333</td><td>25.333</td><td>60.0897</td><td>60.0985</td><td>85.4315</td><td>29.653</td><td>-19.5113</td><td>100.0</td><td>0.08</td><td>0.6</td><td>0.27</td><td>1.0</td><td>4.48264e-5</td><td>-1.76948e-6</td><td>1.76948e-6</td><td>-9.7854e-5</td><td>false</td><td>0.0</td></tr><tr><th>100</th><td>496</td><td>1.0</td><td>100</td><td>0.02</td><td>0.02</td><td>0.0</td><td>0.005</td><td>0.75</td><td>0.275</td><td>0.15</td><td>1.0</td><td>2.09721</td><td>24.6324</td><td>32.5856</td><td>26.4015</td><td>26.391</td><td>-0.000176946</td><td>-7.32603e-5</td><td>0.000516697</td><td>24.6324</td><td>24.6322</td><td>60.5755</td><td>60.581</td><td>85.2132</td><td>28.9066</td><td>-19.6196</td><td>100.0</td><td>0.08</td><td>0.6</td><td>0.27</td><td>1.0</td><td>0.000176946</td><td>-7.18347e-6</td><td>7.18347e-6</td><td>-7.32603e-5</td><td>false</td><td>0.0</td></tr><tr><th>101</th><td>501</td><td>1.0</td><td>101</td><td>0.02</td><td>0.02</td><td>0.0</td><td>0.001</td><td>0.1</td><td>0.3</td><td>0.15</td><td>1.0</td><td>3.18302</td><td>39.2919</td><td>45.6627</td><td>41.4121</td><td>41.2867</td><td>-1.62938e-5</td><td>0.000237638</td><td>0.00165445</td><td>39.2919</td><td>39.2919</td><td>60.0485</td><td>60.0635</td><td>99.3554</td><td>39.5468</td><td>-1.06185</td><td>100.0</td><td>0.08</td><td>0.6</td><td>0.27</td><td>1.0</td><td>1.62938e-5</td><td>-4.14685e-7</td><td>4.14685e-7</td><td>0.000237638</td><td>false</td><td>0.0</td></tr><tr><th>102</th><td>506</td><td>1.0</td><td>102</td><td>0.02</td><td>0.02</td><td>0.0</td><td>0.0025</td><td>0.1</td><td>0.3</td><td>0.15</td><td>1.0</td><td>3.08956</td><td>37.4457</td><td>43.7743</td><td>39.7188</td><td>39.4973</td><td>-9.01171e-6</td><td>0.000159296</td><td>0.00154857</td><td>37.4457</td><td>37.4457</td><td>61.2715</td><td>61.2782</td><td>98.7239</td><td>37.9297</td><td>-2.03997</td><td>100.0</td><td>0.08</td><td>0.6</td><td>0.27</td><td>1.0</td><td>9.01171e-6</td><td>-2.40661e-7</td><td>2.40661e-7</td><td>0.000159296</td><td>false</td><td>0.0</td></tr><tr><th>103</th><td>511</td><td>1.0</td><td>103</td><td>0.02</td><td>0.02</td><td>0.0</td><td>0.003</td><td>0.1</td><td>0.3</td><td>0.15</td><td>1.0</td><td>3.07696</td><td>37.0684</td><td>43.4153</td><td>39.4019</td><td>39.149</td><td>-7.28114e-6</td><td>-0.000437452</td><td>0.00149487</td><td>37.0684</td><td>37.0684</td><td>61.4755</td><td>61.4425</td><td>98.5109</td><td>37.6287</td><td>-2.36619</td><td>100.0</td><td>0.08</td><td>0.6</td><td>0.27</td><td>1.0</td><td>7.28114e-6</td><td>-1.96424e-7</td><td>1.96424e-7</td><td>-0.000437452</td><td>false</td><td>0.0</td></tr><tr><th>104</th><td>516</td><td>1.0</td><td>104</td><td>0.02</td><td>0.02</td><td>0.0</td><td>0.004</td><td>0.1</td><td>0.3</td><td>0.15</td><td>1.0</td><td>2.94149</td><td>35.015</td><td>41.1731</td><td>37.3767</td><td>37.0742</td><td>-8.97434e-7</td><td>-0.000294809</td><td>0.00141728</td><td>35.015</td><td>35.015</td><td>63.1011</td><td>63.0739</td><td>98.0888</td><td>35.6972</td><td>-2.94093</td><td>100.0</td><td>0.08</td><td>0.6</td><td>0.27</td><td>1.0</td><td>8.97434e-7</td><td>-2.563e-8</td><td>2.563e-8</td><td>-0.000294809</td><td>false</td><td>0.0</td></tr><tr><th>105</th><td>521</td><td>1.0</td><td>105</td><td>0.02</td><td>0.02</td><td>0.0</td><td>0.005</td><td>0.1</td><td>0.3</td><td>0.15</td><td>1.0</td><td>1.77378</td><td>20.8682</td><td>24.6321</td><td>22.3698</td><td>22.1514</td><td>-7.84505e-6</td><td>-0.000574694</td><td>0.000812696</td><td>20.8682</td><td>20.8682</td><td>76.6894</td><td>76.5472</td><td>97.4154</td><td>21.4218</td><td>-3.26624</td><td>100.0</td><td>0.08</td><td>0.6</td><td>0.27</td><td>1.0</td><td>7.84505e-6</td><td>-3.75934e-7</td><td>3.75934e-7</td><td>-0.000574694</td><td>false</td><td>0.0</td></tr><tr><th>106</th><td>526</td><td>1.0</td><td>106</td><td>0.02</td><td>0.02</td><td>0.0</td><td>0.001</td><td>0.2</td><td>0.3</td><td>0.15</td><td>1.0</td><td>2.42379</td><td>29.9173</td><td>36.8203</td><td>31.5314</td><td>31.4361</td><td>-1.50035e-5</td><td>-1.51265e-6</td><td>0.00106407</td><td>29.9173</td><td>29.9173</td><td>62.3328</td><td>62.2999</td><td>92.2172</td><td>32.4422</td><td>-11.1051</td><td>100.0</td><td>0.08</td><td>0.6</td><td>0.27</td><td>1.0</td><td>1.50035e-5</td><td>-5.01498e-7</td><td>5.01498e-7</td><td>-1.51265e-6</td><td>false</td><td>0.0</td></tr><tr><th>107</th><td>531</td><td>1.0</td><td>107</td><td>0.02</td><td>0.02</td><td>0.0</td><td>0.0025</td><td>0.2</td><td>0.3</td><td>0.15</td><td>1.0</td><td>1.64251</td><td>19.9094</td><td>24.6324</td><td>21.1181</td><td>21.0002</td><td>-4.75667e-6</td><td>6.46095e-5</td><td>0.000683237</td><td>19.9094</td><td>19.9094</td><td>72.01</td><td>71.8614</td><td>91.7707</td><td>21.6947</td><td>-10.2749</td><td>100.0</td><td>0.08</td><td>0.6</td><td>0.27</td><td>1.0</td><td>4.75667e-6</td><td>-2.38916e-7</td><td>2.38916e-7</td><td>6.46095e-5</td><td>false</td><td>0.0</td></tr><tr><th>108</th><td>536</td><td>1.0</td><td>108</td><td>0.02</td><td>0.02</td><td>0.0</td><td>0.003</td><td>0.2</td><td>0.3</td><td>0.15</td><td>1.0</td><td>1.63096</td><td>19.6503</td><td>24.354</td><td>20.8875</td><td>20.7533</td><td>-5.50041e-6</td><td>6.31303e-5</td><td>0.000678255</td><td>19.6503</td><td>19.6503</td><td>72.1139</td><td>71.9689</td><td>91.6192</td><td>21.4478</td><td>-10.4304</td><td>100.0</td><td>0.08</td><td>0.6</td><td>0.27</td><td>1.0</td><td>5.50041e-6</td><td>-2.79915e-7</td><td>2.79915e-7</td><td>6.31303e-5</td><td>false</td><td>0.0</td></tr><tr><th>109</th><td>541</td><td>1.0</td><td>109</td><td>0.02</td><td>0.02</td><td>0.0</td><td>0.004</td><td>0.2</td><td>0.3</td><td>0.15</td><td>1.0</td><td>1.64041</td><td>19.5292</td><td>24.2879</td><td>20.8466</td><td>20.6777</td><td>-1.77377e-5</td><td>6.74294e-5</td><td>0.000671276</td><td>19.5292</td><td>19.5292</td><td>71.9676</td><td>71.8379</td><td>91.3671</td><td>21.3744</td><td>-10.728</td><td>100.0</td><td>0.08</td><td>0.6</td><td>0.27</td><td>1.0</td><td>1.77377e-5</td><td>-9.08267e-7</td><td>9.08267e-7</td><td>6.74294e-5</td><td>false</td><td>0.0</td></tr><tr><th>110</th><td>546</td><td>1.0</td><td>110</td><td>0.02</td><td>0.02</td><td>0.0</td><td>0.005</td><td>0.2</td><td>0.3</td><td>0.15</td><td>1.0</td><td>1.60891</td><td>18.9287</td><td>23.6227</td><td>20.2907</td><td>20.0927</td><td>-1.22039e-5</td><td>6.36404e-5</td><td>0.000635349</td><td>18.9287</td><td>18.9286</td><td>72.42</td><td>72.2826</td><td>91.2112</td><td>20.7525</td><td>-10.8408</td><td>100.0</td><td>0.08</td><td>0.6</td><td>0.27</td><td>1.0</td><td>1.22039e-5</td><td>-6.4473e-7</td><td>6.4473e-7</td><td>6.36404e-5</td><td>false</td><td>0.0</td></tr><tr><th>111</th><td>551</td><td>1.0</td><td>111</td><td>0.02</td><td>0.02</td><td>0.0</td><td>0.001</td><td>0.3</td><td>0.3</td><td>0.15</td><td>1.0</td><td>1.97855</td><td>24.4176</td><td>31.0438</td><td>25.7347</td><td>25.6571</td><td>4.047e-5</td><td>-4.40271e-5</td><td>0.000746134</td><td>24.4176</td><td>24.4177</td><td>64.0561</td><td>64.0651</td><td>88.4828</td><td>27.596</td><td>-15.238</td><td>100.0</td><td>0.08</td><td>0.6</td><td>0.27</td><td>1.0</td><td>4.047e-5</td><td>1.65741e-6</td><td>1.65741e-6</td><td>-4.40271e-5</td><td>false</td><td>0.0</td></tr><tr><th>112</th><td>556</td><td>1.0</td><td>112</td><td>0.02</td><td>0.02</td><td>0.0</td><td>0.0025</td><td>0.3</td><td>0.3</td><td>0.15</td><td>1.0</td><td>1.67087</td><td>20.2516</td><td>25.8724</td><td>21.481</td><td>21.3612</td><td>5.40509e-5</td><td>0.000229953</td><td>0.000617403</td><td>20.2516</td><td>20.2516</td><td>67.9342</td><td>67.8491</td><td>88.1007</td><td>22.9869</td><td>-14.9211</td><td>100.0</td><td>0.08</td><td>0.6</td><td>0.27</td><td>1.0</td><td>5.40509e-5</td><td>2.66897e-6</td><td>2.66897e-6</td><td>0.000229953</td><td>false</td><td>0.0</td></tr><tr><th>113</th><td>561</td><td>1.0</td><td>113</td><td>0.02</td><td>0.02</td><td>0.0</td><td>0.003</td><td>0.3</td><td>0.3</td><td>0.15</td><td>1.0</td><td>1.66142</td><td>20.0158</td><td>25.6112</td><td>21.2759</td><td>21.1393</td><td>4.89814e-5</td><td>0.000217139</td><td>0.000612807</td><td>20.0158</td><td>20.0159</td><td>68.0343</td><td>67.9535</td><td>87.9694</td><td>22.7532</td><td>-15.0412</td><td>100.0</td><td>0.08</td><td>0.6</td><td>0.27</td><td>1.0</td><td>4.89814e-5</td><td>2.44713e-6</td><td>2.44713e-6</td><td>0.000217139</td><td>false</td><td>0.0</td></tr><tr><th>114</th><td>566</td><td>1.0</td><td>114</td><td>0.02</td><td>0.02</td><td>0.0</td><td>0.004</td><td>0.3</td><td>0.3</td><td>0.15</td><td>1.0</td><td>1.66562</td><td>19.8283</td><td>25.4514</td><td>21.1658</td><td>20.9944</td><td>2.10437e-5</td><td>0.000236034</td><td>0.000606983</td><td>19.8283</td><td>19.8283</td><td>67.9811</td><td>67.9053</td><td>87.7336</td><td>22.6006</td><td>-15.3002</td><td>100.0</td><td>0.08</td><td>0.6</td><td>0.27</td><td>1.0</td><td>2.10437e-5</td><td>1.0613e-6</td><td>1.0613e-6</td><td>0.000236034</td><td>false</td><td>0.0</td></tr><tr><th>115</th><td>571</td><td>1.0</td><td>115</td><td>0.02</td><td>0.02</td><td>0.0</td><td>0.005</td><td>0.3</td><td>0.3</td><td>0.15</td><td>1.0</td><td>1.62046</td><td>19.064</td><td>24.5484</td><td>20.4358</td><td>20.2363</td><td>1.0138e-5</td><td>0.000270779</td><td>0.000575156</td><td>19.064</td><td>19.064</td><td>68.5922</td><td>68.4937</td><td>87.5577</td><td>21.7731</td><td>-15.373</td><td>100.0</td><td>0.08</td><td>0.6</td><td>0.27</td><td>1.0</td><td>1.0138e-5</td><td>5.31787e-7</td><td>5.31787e-7</td><td>0.000270779</td><td>false</td><td>0.0</td></tr><tr><th>116</th><td>576</td><td>1.0</td><td>116</td><td>0.02</td><td>0.02</td><td>0.0</td><td>0.001</td><td>0.5</td><td>0.3</td><td>0.15</td><td>1.0</td><td>1.94284</td><td>23.966</td><td>31.5778</td><td>25.2578</td><td>25.1823</td><td>-6.8832e-5</td><td>6.61739e-5</td><td>0.000649624</td><td>23.966</td><td>23.9659</td><td>60.6319</td><td>60.624</td><td>84.5899</td><td>28.3319</td><td>-20.2673</td><td>100.0</td><td>0.08</td><td>0.6</td><td>0.27</td><td>1.0</td><td>6.8832e-5</td><td>-2.87207e-6</td><td>2.87207e-6</td><td>6.61739e-5</td><td>false</td><td>0.0</td></tr><tr><th>117</th><td>581</td><td>1.0</td><td>117</td><td>0.02</td><td>0.02</td><td>0.0</td><td>0.0025</td><td>0.5</td><td>0.3</td><td>0.15</td><td>1.0</td><td>1.80843</td><td>21.9065</td><td>28.9893</td><td>23.2354</td><td>23.1064</td><td>0.000556898</td><td>0.000284707</td><td>0.000592112</td><td>21.9065</td><td>21.9071</td><td>62.3781</td><td>62.3352</td><td>84.2423</td><td>26.0048</td><td>-20.1782</td><td>100.0</td><td>0.08</td><td>0.6</td><td>0.27</td><td>1.0</td><td>0.000556898</td><td>2.54216e-5</td><td>2.54216e-5</td><td>0.000284707</td><td>false</td><td>0.0</td></tr><tr><th>118</th><td>586</td><td>1.0</td><td>118</td><td>0.02</td><td>0.02</td><td>0.0</td><td>0.003</td><td>0.5</td><td>0.3</td><td>0.15</td><td>1.0</td><td>1.80213</td><td>21.6993</td><td>28.7545</td><td>23.0644</td><td>22.9169</td><td>0.000530908</td><td>0.000196516</td><td>0.000584573</td><td>21.6993</td><td>21.6998</td><td>62.4749</td><td>62.4339</td><td>84.1337</td><td>25.792</td><td>-20.2634</td><td>100.0</td><td>0.08</td><td>0.6</td><td>0.27</td><td>1.0</td><td>0.000530908</td><td>2.44666e-5</td><td>2.44666e-5</td><td>0.000196516</td><td>false</td><td>0.0</td></tr><tr><th>119</th><td>591</td><td>1.0</td><td>119</td><td>0.02</td><td>0.02</td><td>0.0</td><td>0.004</td><td>0.5</td><td>0.3</td><td>0.15</td><td>1.0</td><td>1.79058</td><td>21.3043</td><td>28.3111</td><td>22.7404</td><td>22.5569</td><td>0.000496627</td><td>-7.41836e-5</td><td>0.00054272</td><td>21.3043</td><td>21.3048</td><td>62.6602</td><td>62.6403</td><td>83.9451</td><td>25.3794</td><td>-20.4014</td><td>100.0</td><td>0.08</td><td>0.6</td><td>0.27</td><td>1.0</td><td>0.000496627</td><td>2.33112e-5</td><td>2.33112e-5</td><td>-7.41836e-5</td><td>false</td><td>0.0</td></tr><tr><th>120</th><td>596</td><td>1.0</td><td>120</td><td>0.02</td><td>0.02</td><td>0.0</td><td>0.005</td><td>0.5</td><td>0.3</td><td>0.15</td><td>1.0</td><td>1.71497</td><td>20.168</td><td>26.8785</td><td>21.6186</td><td>21.408</td><td>0.000335289</td><td>0.000237505</td><td>0.000524715</td><td>20.168</td><td>20.1684</td><td>63.6157</td><td>63.564</td><td>83.7324</td><td>24.0867</td><td>-20.3774</td><td>100.0</td><td>0.08</td><td>0.6</td><td>0.27</td><td>1.0</td><td>0.000335289</td><td>1.66248e-5</td><td>1.66248e-5</td><td>0.000237505</td><td>false</td><td>0.0</td></tr><tr><th>121</th><td>601</td><td>1.0</td><td>121</td><td>0.02</td><td>0.02</td><td>0.0</td><td>0.001</td><td>0.75</td><td>0.3</td><td>0.15</td><td>1.0</td><td>1.88824</td><td>23.2755</td><td>31.3874</td><td>24.5288</td><td>24.4563</td><td>-0.000259172</td><td>-7.64214e-5</td><td>0.00055257</td><td>23.2755</td><td>23.2752</td><td>58.9654</td><td>58.9632</td><td>82.2385</td><td>28.3021</td><td>-23.1497</td><td>100.0</td><td>0.08</td><td>0.6</td><td>0.27</td><td>1.0</td><td>0.000259172</td><td>-1.1135e-5</td><td>1.1135e-5</td><td>-7.64214e-5</td><td>false</td><td>0.0</td></tr><tr><th>122</th><td>606</td><td>1.0</td><td>122</td><td>0.02</td><td>0.02</td><td>0.0</td><td>0.0025</td><td>0.75</td><td>0.3</td><td>0.15</td><td>1.0</td><td>1.84518</td><td>22.3321</td><td>30.2352</td><td>23.6853</td><td>23.5549</td><td>-0.000152403</td><td>3.12876e-5</td><td>0.00052492</td><td>22.3321</td><td>22.332</td><td>59.6188</td><td>59.6091</td><td>81.9411</td><td>27.2537</td><td>-23.2514</td><td>100.0</td><td>0.08</td><td>0.6</td><td>0.27</td><td>1.0</td><td>0.000152403</td><td>-6.82439e-6</td><td>6.82439e-6</td><td>3.12876e-5</td><td>false</td><td>0.0</td></tr><tr><th>123</th><td>611</td><td>1.0</td><td>123</td><td>0.02</td><td>0.02</td><td>0.0</td><td>0.003</td><td>0.75</td><td>0.3</td><td>0.15</td><td>1.0</td><td>1.83888</td><td>22.1229</td><td>29.9895</td><td>23.5132</td><td>23.3639</td><td>0.00130452</td><td>-9.0982e-5</td><td>0.000516214</td><td>22.1229</td><td>22.1242</td><td>59.7336</td><td>59.7246</td><td>81.8488</td><td>27.0306</td><td>-23.3079</td><td>100.0</td><td>0.08</td><td>0.6</td><td>0.27</td><td>1.0</td><td>0.00130452</td><td>5.8967e-5</td><td>5.8967e-5</td><td>-9.0982e-5</td><td>false</td><td>0.0</td></tr><tr><th>124</th><td>616</td><td>1.0</td><td>124</td><td>0.02</td><td>0.02</td><td>0.0</td><td>0.004</td><td>0.75</td><td>0.3</td><td>0.15</td><td>1.0</td><td>1.82103</td><td>21.6488</td><td>29.4238</td><td>23.1067</td><td>22.9213</td><td>0.00123185</td><td>0.00015403</td><td>0.000521205</td><td>21.6488</td><td>21.65</td><td>60.0174</td><td>60.0037</td><td>81.6537</td><td>26.5144</td><td>-23.4158</td><td>100.0</td><td>0.08</td><td>0.6</td><td>0.27</td><td>1.0</td><td>0.00123185</td><td>5.69015e-5</td><td>5.69015e-5</td><td>0.00015403</td><td>false</td><td>0.0</td></tr><tr><th>125</th><td>621</td><td>1.0</td><td>125</td><td>0.02</td><td>0.02</td><td>0.0</td><td>0.005</td><td>0.75</td><td>0.3</td><td>0.15</td><td>1.0</td><td>1.77693</td><td>20.8803</td><td>28.4553</td><td>22.3807</td><td>22.1637</td><td>0.00102303</td><td>0.000313032</td><td>0.000500049</td><td>20.8803</td><td>20.8813</td><td>60.6036</td><td>60.5818</td><td>81.4631</td><td>25.6328</td><td>-23.4293</td><td>100.0</td><td>0.08</td><td>0.6</td><td>0.27</td><td>1.0</td><td>0.00102303</td><td>4.8995e-5</td><td>4.8995e-5</td><td>0.000313032</td><td>false</td><td>0.0</td></tr><tr><th>126</th><td>626</td><td>1.0</td><td>126</td><td>0.02</td><td>0.02</td><td>0.0</td><td>0.001</td><td>0.1</td><td>0.35</td><td>0.15</td><td>1.0</td><td>1.24557</td><td>15.3774</td><td>18.5036</td><td>16.2073</td><td>15.8073</td><td>2.26072e-6</td><td>0.000125641</td><td>0.000805446</td><td>15.3774</td><td>15.3774</td><td>78.0222</td><td>77.9711</td><td>93.3485</td><td>16.4731</td><td>-7.86019</td><td>100.0</td><td>0.08</td><td>0.6</td><td>0.27</td><td>1.0</td><td>2.26072e-6</td><td>1.47016e-7</td><td>1.47016e-7</td><td>0.000125641</td><td>false</td><td>0.0</td></tr><tr><th>127</th><td>631</td><td>1.0</td><td>127</td><td>0.02</td><td>0.02</td><td>0.0</td><td>0.0025</td><td>0.1</td><td>0.35</td><td>0.15</td><td>1.0</td><td>1.22457</td><td>14.8432</td><td>17.9643</td><td>15.7444</td><td>15.3102</td><td>3.07134e-6</td><td>0.000403311</td><td>0.000769346</td><td>14.8432</td><td>14.8432</td><td>78.2092</td><td>78.2363</td><td>93.0795</td><td>15.9468</td><td>-8.12674</td><td>100.0</td><td>0.08</td><td>0.6</td><td>0.27</td><td>1.0</td><td>3.07134e-6</td><td>2.06919e-7</td><td>2.06919e-7</td><td>0.000403311</td><td>false</td><td>0.0</td></tr><tr><th>128</th><td>636</td><td>1.0</td><td>128</td><td>0.02</td><td>0.02</td><td>0.0</td><td>0.003</td><td>0.1</td><td>0.35</td><td>0.15</td><td>1.0</td><td>1.18992</td><td>14.3363</td><td>17.3845</td><td>15.2389</td><td>14.8041</td><td>2.47039e-6</td><td>0.000777605</td><td>0.00074515</td><td>14.3363</td><td>14.3363</td><td>78.5863</td><td>78.7191</td><td>93.0554</td><td>15.4062</td><td>-8.10682</td><td>100.0</td><td>0.08</td><td>0.6</td><td>0.27</td><td>1.0</td><td>2.47039e-6</td><td>1.72317e-7</td><td>1.72317e-7</td><td>0.000777605</td><td>false</td><td>0.0</td></tr><tr><th>129</th><td>641</td><td>1.0</td><td>129</td><td>0.02</td><td>0.02</td><td>0.0</td><td>0.004</td><td>0.1</td><td>0.35</td><td>0.15</td><td>1.0</td><td>1.21197</td><td>14.4282</td><td>17.5626</td><td>15.4014</td><td>14.9327</td><td>2.69855e-6</td><td>0.000796629</td><td>0.000740613</td><td>14.4282</td><td>14.4282</td><td>78.2884</td><td>78.428</td><td>92.8561</td><td>15.5382</td><td>-8.34837</td><td>100.0</td><td>0.08</td><td>0.6</td><td>0.27</td><td>1.0</td><td>2.69855e-6</td><td>1.87034e-7</td><td>1.87034e-7</td><td>0.000796629</td><td>false</td><td>0.0</td></tr><tr><th>130</th><td>646</td><td>1.0</td><td>130</td><td>0.02</td><td>0.02</td><td>0.0</td><td>0.005</td><td>0.1</td><td>0.35</td><td>0.15</td><td>1.0</td><td>1.23927</td><td>14.5796</td><td>17.8141</td><td>15.6287</td><td>15.1236</td><td>2.75612e-6</td><td>0.000800068</td><td>0.000736547</td><td>14.5796</td><td>14.5796</td><td>77.939</td><td>78.0853</td><td>92.665</td><td>15.7337</td><td>-8.58697</td><td>100.0</td><td>0.08</td><td>0.6</td><td>0.27</td><td>1.0</td><td>2.75612e-6</td><td>1.89039e-7</td><td>1.89039e-7</td><td>0.000800068</td><td>false</td><td>0.0</td></tr><tr><th>131</th><td>651</td><td>1.0</td><td>131</td><td>0.02</td><td>0.02</td><td>0.0</td><td>0.001</td><td>0.2</td><td>0.35</td><td>0.15</td><td>1.0</td><td>1.15422</td><td>14.2499</td><td>18.3068</td><td>15.019</td><td>14.6483</td><td>-1.34241e-5</td><td>-0.0001871</td><td>0.000579708</td><td>14.2499</td><td>14.2499</td><td>71.7048</td><td>71.7639</td><td>86.0138</td><td>16.567</td><td>-16.3104</td><td>100.0</td><td>0.08</td><td>0.6</td><td>0.27</td><td>1.0</td><td>1.34241e-5</td><td>-9.42047e-7</td><td>9.42047e-7</td><td>-0.0001871</td><td>false</td><td>0.0</td></tr><tr><th>132</th><td>656</td><td>1.0</td><td>132</td><td>0.02</td><td>0.02</td><td>0.0</td><td>0.0025</td><td>0.2</td><td>0.35</td><td>0.15</td><td>1.0</td><td>1.13941</td><td>13.8113</td><td>17.8307</td><td>14.6499</td><td>14.2459</td><td>-1.03132e-5</td><td>-0.000338485</td><td>0.000542018</td><td>13.8113</td><td>13.8113</td><td>71.8429</td><td>72.0227</td><td>85.834</td><td>16.0907</td><td>-16.436</td><td>100.0</td><td>0.08</td><td>0.6</td><td>0.27</td><td>1.0</td><td>1.03132e-5</td><td>-7.46723e-7</td><td>7.46723e-7</td><td>-0.000338485</td><td>false</td><td>0.0</td></tr><tr><th>133</th><td>661</td><td>1.0</td><td>133</td><td>0.02</td><td>0.02</td><td>0.0</td><td>0.003</td><td>0.2</td><td>0.35</td><td>0.15</td><td>1.0</td><td>1.11756</td><td>13.4648</td><td>17.4116</td><td>14.3126</td><td>13.9042</td><td>-8.09348e-6</td><td>-0.000292818</td><td>0.00053687</td><td>13.4648</td><td>13.4648</td><td>72.084</td><td>72.2351</td><td>85.6999</td><td>15.7116</td><td>-16.5252</td><td>100.0</td><td>0.08</td><td>0.6</td><td>0.27</td><td>1.0</td><td>8.09348e-6</td><td>-6.01084e-7</td><td>6.01084e-7</td><td>-0.000292818</td><td>false</td><td>0.0</td></tr><tr><th>134</th><td>666</td><td>1.0</td><td>134</td><td>0.02</td><td>0.02</td><td>0.0</td><td>0.004</td><td>0.2</td><td>0.35</td><td>0.15</td><td>1.0</td><td>1.12691</td><td>13.4159</td><td>17.4051</td><td>14.3209</td><td>13.885</td><td>-9.69921e-6</td><td>-0.000271247</td><td>0.000531774</td><td>13.4159</td><td>13.4159</td><td>71.9465</td><td>72.0953</td><td>85.5112</td><td>15.689</td><td>-16.7338</td><td>100.0</td><td>0.08</td><td>0.6</td><td>0.27</td><td>1.0</td><td>9.69921e-6</td><td>-7.22966e-7</td><td>7.22966e-7</td><td>-0.000271247</td><td>false</td><td>0.0</td></tr><tr><th>135</th><td>671</td><td>1.0</td><td>135</td><td>0.02</td><td>0.02</td><td>0.0</td><td>0.005</td><td>0.2</td><td>0.35</td><td>0.15</td><td>1.0</td><td>1.13951</td><td>13.4061</td><td>17.4492</td><td>14.3707</td><td>13.9063</td><td>-1.91725e-6</td><td>-0.000257112</td><td>0.000526925</td><td>13.4061</td><td>13.4061</td><td>71.7745</td><td>71.9217</td><td>85.3278</td><td>15.7113</td><td>-16.9437</td><td>100.0</td><td>0.08</td><td>0.6</td><td>0.27</td><td>1.0</td><td>1.91725e-6</td><td>-1.43013e-7</td><td>1.43013e-7</td><td>-0.000257112</td><td>false</td><td>0.0</td></tr><tr><th>136</th><td>676</td><td>1.0</td><td>136</td><td>0.02</td><td>0.02</td><td>0.0</td><td>0.001</td><td>0.3</td><td>0.35</td><td>0.15</td><td>1.0</td><td>1.29283</td><td>15.962</td><td>21.2413</td><td>16.8235</td><td>16.4082</td><td>-4.55605e-5</td><td>0.00012418</td><td>0.000588659</td><td>15.962</td><td>15.962</td><td>66.0275</td><td>65.9666</td><td>81.9285</td><td>19.4828</td><td>-21.5039</td><td>100.0</td><td>0.08</td><td>0.6</td><td>0.27</td><td>1.0</td><td>4.55605e-5</td><td>-2.85431e-6</td><td>2.85431e-6</td><td>0.00012418</td><td>false</td><td>0.0</td></tr><tr><th>137</th><td>681</td><td>1.0</td><td>137</td><td>0.02</td><td>0.02</td><td>0.0</td><td>0.0025</td><td>0.3</td><td>0.35</td><td>0.15</td><td>1.0</td><td>1.24557</td><td>15.0989</td><td>20.1814</td><td>16.0157</td><td>15.574</td><td>-4.21582e-5</td><td>-0.000325425</td><td>0.000516458</td><td>15.0989</td><td>15.0989</td><td>66.6149</td><td>66.6359</td><td>81.7348</td><td>18.473</td><td>-21.5135</td><td>100.0</td><td>0.08</td><td>0.6</td><td>0.27</td><td>1.0</td><td>4.21582e-5</td><td>-2.79213e-6</td><td>2.79213e-6</td><td>-0.000325425</td><td>false</td><td>0.0</td></tr><tr><th>138</th><td>686</td><td>1.0</td><td>138</td><td>0.02</td><td>0.02</td><td>0.0</td><td>0.003</td><td>0.3</td><td>0.35</td><td>0.15</td><td>1.0</td><td>1.21827</td><td>14.6789</td><td>19.6485</td><td>15.6032</td><td>15.1579</td><td>-3.88132e-5</td><td>-0.000185914</td><td>0.000514995</td><td>14.6789</td><td>14.6789</td><td>66.9385</td><td>66.9356</td><td>81.6145</td><td>17.9857</td><td>-21.5486</td><td>100.0</td><td>0.08</td><td>0.6</td><td>0.27</td><td>1.0</td><td>3.88132e-5</td><td>-2.64414e-6</td><td>2.64414e-6</td><td>-0.000185914</td><td>false</td><td>0.0</td></tr><tr><th>139</th><td>691</td><td>1.0</td><td>139</td><td>0.02</td><td>0.02</td><td>0.0</td><td>0.004</td><td>0.3</td><td>0.35</td><td>0.15</td><td>1.0</td><td>1.21092</td><td>14.4166</td><td>19.3542</td><td>15.3892</td><td>14.9208</td><td>-3.73773e-5</td><td>-0.000437447</td><td>0.000481114</td><td>14.4166</td><td>14.4166</td><td>67.0319</td><td>67.0965</td><td>81.5131</td><td>17.6862</td><td>-21.601</td><td>100.0</td><td>0.08</td><td>0.6</td><td>0.27</td><td>1.0</td><td>3.73773e-5</td><td>-2.59265e-6</td><td>2.59265e-6</td><td>-0.000437447</td><td>false</td><td>0.0</td></tr><tr><th>140</th><td>696</td><td>1.0</td><td>140</td><td>0.02</td><td>0.02</td><td>0.0</td><td>0.005</td><td>0.3</td><td>0.35</td><td>0.15</td><td>1.0</td><td>1.20567</td><td>14.1851</td><td>19.0992</td><td>15.2059</td><td>14.7144</td><td>-3.09394e-5</td><td>-0.000304663</td><td>0.000478941</td><td>14.1851</td><td>14.1851</td><td>67.0987</td><td>67.1423</td><td>81.3274</td><td>17.4419</td><td>-21.7592</td><td>100.0</td><td>0.08</td><td>0.6</td><td>0.27</td><td>1.0</td><td>3.09394e-5</td><td>-2.18112e-6</td><td>2.18112e-6</td><td>-0.000304663</td><td>false</td><td>0.0</td></tr><tr><th>141</th><td>701</td><td>1.0</td><td>141</td><td>0.02</td><td>0.02</td><td>0.0</td><td>0.001</td><td>0.5</td><td>0.35</td><td>0.15</td><td>1.0</td><td>1.4724</td><td>18.1784</td><td>25.1325</td><td>19.1595</td><td>18.6866</td><td>-2.72526e-5</td><td>-4.66126e-5</td><td>0.000542152</td><td>18.1784</td><td>18.1784</td><td>59.9044</td><td>59.9032</td><td>78.0817</td><td>23.2813</td><td>-26.788</td><td>100.0</td><td>0.08</td><td>0.6</td><td>0.27</td><td>1.0</td><td>2.72526e-5</td><td>-1.49917e-6</td><td>1.49917e-6</td><td>-4.66126e-5</td><td>false</td><td>0.0</td></tr><tr><th>142</th><td>706</td><td>1.0</td><td>142</td><td>0.02</td><td>0.02</td><td>0.0</td><td>0.0025</td><td>0.5</td><td>0.35</td><td>0.15</td><td>1.0</td><td>1.44504</td><td>17.583</td><td>24.4475</td><td>18.6558</td><td>18.1372</td><td>-0.00270021</td><td>0.00700597</td><td>0.000822105</td><td>17.5817</td><td>17.5803</td><td>60.1538</td><td>60.1115</td><td>77.6918</td><td>22.6282</td><td>-27.0666</td><td>100.0</td><td>0.08</td><td>0.6</td><td>0.27</td><td>1.0</td><td>0.00270021</td><td>-0.000153569</td><td>0.000153569</td><td>0.00700597</td><td>false</td><td>0.0</td></tr><tr><th>143</th><td>711</td><td>1.0</td><td>143</td><td>0.02</td><td>0.02</td><td>0.0</td><td>0.003</td><td>0.5</td><td>0.35</td><td>0.15</td><td>1.0</td><td>1.40414</td><td>16.9194</td><td>23.5125</td><td>17.9849</td><td>17.4716</td><td>-8.45501e-5</td><td>6.76475e-5</td><td>0.000508556</td><td>16.9194</td><td>16.9194</td><td>60.8313</td><td>60.8219</td><td>77.7412</td><td>21.7637</td><td>-26.7918</td><td>100.0</td><td>0.08</td><td>0.6</td><td>0.27</td><td>1.0</td><td>8.45501e-5</td><td>-4.99722e-6</td><td>4.99722e-6</td><td>6.76475e-5</td><td>false</td><td>0.0</td></tr><tr><th>144</th><td>716</td><td>1.0</td><td>144</td><td>0.02</td><td>0.02</td><td>0.0</td><td>0.004</td><td>0.5</td><td>0.35</td><td>0.15</td><td>1.0</td><td>1.36949</td><td>16.3049</td><td>22.7179</td><td>17.4049</td><td>16.8752</td><td>-6.24537e-5</td><td>0.000157311</td><td>0.000485224</td><td>16.3049</td><td>16.3049</td><td>61.2888</td><td>61.2777</td><td>77.5825</td><td>21.0162</td><td>-26.7847</td><td>100.0</td><td>0.08</td><td>0.6</td><td>0.27</td><td>1.0</td><td>6.24537e-5</td><td>-3.83036e-6</td><td>3.83036e-6</td><td>0.000157311</td><td>false</td><td>0.0</td></tr><tr><th>145</th><td>721</td><td>1.0</td><td>145</td><td>0.02</td><td>0.02</td><td>0.0</td><td>0.005</td><td>0.5</td><td>0.35</td><td>0.15</td><td>1.0</td><td>1.33588</td><td>15.719</td><td>21.9579</td><td>16.8503</td><td>16.3055</td><td>-0.00011335</td><td>6.37808e-5</td><td>0.000455732</td><td>15.719</td><td>15.7189</td><td>61.7223</td><td>61.716</td><td>77.4349</td><td>20.2995</td><td>-26.7736</td><td>100.0</td><td>0.08</td><td>0.6</td><td>0.27</td><td>1.0</td><td>0.00011335</td><td>-7.21098e-6</td><td>7.21098e-6</td><td>6.37808e-5</td><td>false</td><td>0.0</td></tr><tr><th>146</th><td>726</td><td>1.0</td><td>146</td><td>0.02</td><td>0.02</td><td>0.0</td><td>0.001</td><td>0.75</td><td>0.35</td><td>0.15</td><td>1.0</td><td>1.33063</td><td>16.421</td><td>23.2963</td><td>17.3068</td><td>16.88</td><td>0.000257051</td><td>0.004293</td><td>0.000612146</td><td>16.4217</td><td>16.4213</td><td>59.2644</td><td>59.2294</td><td>75.6507</td><td>21.7068</td><td>-29.1334</td><td>100.0</td><td>0.08</td><td>0.6</td><td>0.27</td><td>1.0</td><td>0.000257051</td><td>1.56538e-5</td><td>1.56538e-5</td><td>0.004293</td><td>false</td><td>0.0</td></tr><tr><th>147</th><td>731</td><td>1.0</td><td>147</td><td>0.02</td><td>0.02</td><td>0.0</td><td>0.0025</td><td>0.75</td><td>0.35</td><td>0.15</td><td>1.0</td><td>1.39364</td><td>16.8972</td><td>24.0285</td><td>17.9234</td><td>17.4289</td><td>-0.000185336</td><td>0.000128371</td><td>0.000450248</td><td>16.8972</td><td>16.897</td><td>58.6345</td><td>58.631</td><td>75.528</td><td>22.3719</td><td>-29.4478</td><td>100.0</td><td>0.08</td><td>0.6</td><td>0.27</td><td>1.0</td><td>0.000185336</td><td>-1.09684e-5</td><td>1.09684e-5</td><td>0.000128371</td><td>false</td><td>0.0</td></tr><tr><th>148</th><td>736</td><td>1.0</td><td>148</td><td>0.02</td><td>0.02</td><td>0.0</td><td>0.003</td><td>0.75</td><td>0.35</td><td>0.15</td><td>1.0</td><td>1.26553</td><td>15.2866</td><td>21.7831</td><td>16.2522</td><td>15.7861</td><td>-0.00158838</td><td>0.00304393</td><td>0.000505132</td><td>15.2853</td><td>15.2851</td><td>60.1114</td><td>60.0936</td><td>75.3786</td><td>20.2777</td><td>-29.0638</td><td>100.0</td><td>0.08</td><td>0.6</td><td>0.27</td><td>1.0</td><td>0.00158838</td><td>-0.000103906</td><td>0.000103906</td><td>0.00304393</td><td>false</td><td>0.0</td></tr><tr><th>149</th><td>741</td><td>1.0</td><td>149</td><td>0.02</td><td>0.02</td><td>0.0</td><td>0.004</td><td>0.75</td><td>0.35</td><td>0.15</td><td>1.0</td><td>1.25398</td><td>14.9431</td><td>21.343</td><td>15.9523</td><td>15.4659</td><td>-0.000606379</td><td>0.00312111</td><td>0.000500913</td><td>14.9428</td><td>14.9425</td><td>60.3257</td><td>60.304</td><td>75.2465</td><td>19.8581</td><td>-29.1021</td><td>100.0</td><td>0.08</td><td>0.6</td><td>0.27</td><td>1.0</td><td>0.000606379</td><td>-4.05792e-5</td><td>4.05792e-5</td><td>0.00312111</td><td>false</td><td>0.0</td></tr><tr><th>150</th><td>746</td><td>1.0</td><td>150</td><td>0.02</td><td>0.02</td><td>0.0</td><td>0.005</td><td>0.75</td><td>0.35</td><td>0.15</td><td>1.0</td><td>1.23727</td><td>14.554</td><td>20.834</td><td>15.6011</td><td>15.097</td><td>8.95455e-5</td><td>0.00261802</td><td>0.000459174</td><td>14.5543</td><td>14.5541</td><td>60.5916</td><td>60.5754</td><td>75.1295</td><td>19.372</td><td>-29.1068</td><td>100.0</td><td>0.08</td><td>0.6</td><td>0.27</td><td>1.0</td><td>8.95455e-5</td><td>6.15264e-6</td><td>6.15264e-6</td><td>0.00261802</td><td>false</td><td>0.0</td></tr></tbody></table>"
      ],
      "text/latex": [
       "\\begin{tabular}{r|ccccccccccccccccccccccccccccccccccccc}\n",
       "\t& comb\\_num & m & m\\_comb\\_num & gross\\_delta & delta & iota & kappa & lambda & sigmah & sigmal & mu\\_b & c & p & vb & cvml\\_vb & cvmh\\_vb & debt\\_diff & eq\\_deriv & eq\\_min\\_val & sg\\_debt & debt & sg\\_equity & equity & firm\\_value & leverage & ROE & V0 & r & alpha & pi & xi & abs\\_debt\\_diff & debt\\_per\\_diff & abs\\_debt\\_per\\_diff & eq\\_deriv\\_min\\_val & eq\\_negative & eq\\_vb\\\\\n",
       "\t\\hline\n",
       "\t& Int64 & Float64 & Int64 & Float64 & Float64 & Float64 & Float64 & Float64 & Float64 & Float64 & Float64 & Float64 & Float64 & Float64 & Float64 & Float64 & Float64 & Float64 & Float64 & Float64 & Float64 & Float64 & Float64 & Float64 & Float64 & Float64 & Float64 & Float64 & Float64 & Float64 & Float64 & Float64 & Float64 & Float64 & Float64 & Bool & Float64\\\\\n",
       "\t\\hline\n",
       "\t1 & 1 & 1.0 & 1 & 0.02 & 0.02 & 0.0 & 0.001 & 0.1 & 0.2 & 0.15 & 1.0 & 4.18587 & 51.6686 & 55.84 & 54.4563 & 55.3432 & 4.58361e-5 & -8.02022e-5 & 0.000982615 & 51.6686 & 51.6686 & 58.4297 & 58.4263 & 110.095 & 46.931 & 20.8868 & 100.0 & 0.08 & 0.6 & 0.27 & 1.0 & 4.58361e-5 & 8.87118e-7 & 8.87118e-7 & -8.02022e-5 & false & 0.0 \\\\\n",
       "\t2 & 6 & 1.0 & 2 & 0.02 & 0.02 & 0.0 & 0.0025 & 0.1 & 0.2 & 0.15 & 1.0 & 4.18587 & 50.7305 & 55.17 & 53.8099 & 54.6194 & 3.62471e-5 & -0.000190157 & 0.000907118 & 50.7305 & 50.7306 & 58.5856 & 58.5927 & 109.323 & 46.4042 & 18.9229 & 100.0 & 0.08 & 0.6 & 0.27 & 1.0 & 3.62471e-5 & 7.14503e-7 & 7.14503e-7 & -0.000190157 & false & 0.0 \\\\\n",
       "\t3 & 11 & 1.0 & 3 & 0.02 & 0.02 & 0.0 & 0.003 & 0.1 & 0.2 & 0.15 & 1.0 & 4.18587 & 50.4254 & 54.952 & 53.5996 & 54.3839 & 2.89736e-5 & -0.000178977 & 0.000904435 & 50.4254 & 50.4254 & 58.6316 & 58.6387 & 109.064 & 46.2347 & 18.2838 & 100.0 & 0.08 & 0.6 & 0.27 & 1.0 & 2.89736e-5 & 5.74582e-7 & 5.74582e-7 & -0.000178977 & false & 0.0 \\\\\n",
       "\t4 & 16 & 1.0 & 4 & 0.02 & 0.02 & 0.0 & 0.004 & 0.1 & 0.2 & 0.15 & 1.0 & 4.18377 & 49.8008 & 54.4968 & 53.1598 & 53.8942 & 2.14237e-5 & -0.000103069 & 0.000902167 & 49.8008 & 49.8009 & 58.7532 & 58.749 & 108.55 & 45.8783 & 17.0318 & 100.0 & 0.08 & 0.6 & 0.27 & 1.0 & 2.14237e-5 & 4.30188e-7 & 4.30188e-7 & -0.000103069 & false & 0.0 \\\\\n",
       "\t5 & 21 & 1.0 & 5 & 0.02 & 0.02 & 0.0 & 0.005 & 0.1 & 0.2 & 0.15 & 1.0 & 4.19952 & 49.4023 & 54.284 & 52.9568 & 53.6456 & -5.52506e-5 & -0.000123883 & 0.00089333 & 49.4023 & 49.4023 & 58.6444 & 58.6415 & 108.044 & 45.7243 & 15.8975 & 100.0 & 0.08 & 0.6 & 0.27 & 1.0 & 5.52506e-5 & -1.11838e-6 & 1.11838e-6 & -0.000123883 & false & 0.0 \\\\\n",
       "\t6 & 26 & 1.0 & 6 & 0.02 & 0.02 & 0.0 & 0.001 & 0.2 & 0.2 & 0.15 & 1.0 & 3.82778 & 47.2455 & 52.3175 & 49.7944 & 50.6054 & 1.0582e-5 & -0.000122554 & 0.00082287 & 47.2455 & 47.2455 & 59.9178 & 59.917 & 107.163 & 44.0877 & 13.5771 & 100.0 & 0.08 & 0.6 & 0.27 & 1.0 & 1.0582e-5 & 2.23979e-7 & 2.23979e-7 & -0.000122554 & false & 0.0 \\\\\n",
       "\t7 & 31 & 1.0 & 7 & 0.02 & 0.02 & 0.0 & 0.0025 & 0.2 & 0.2 & 0.15 & 1.0 & 3.87399 & 46.9471 & 52.296 & 49.7965 & 50.5457 & -9.53816e-6 & -0.00017364 & 0.000808699 & 46.9471 & 46.9471 & 59.4986 & 59.4995 & 106.447 & 44.1039 & 12.1511 & 100.0 & 0.08 & 0.6 & 0.27 & 1.0 & 9.53816e-6 & -2.03168e-7 & 2.03168e-7 & -0.00017364 & false & 0.0 \\\\\n",
       "\t8 & 36 & 1.0 & 8 & 0.02 & 0.02 & 0.0 & 0.003 & 0.2 & 0.2 & 0.15 & 1.0 & 3.87399 & 46.6643 & 52.0839 & 49.6015 & 50.3274 & -6.37403e-6 & -0.000183098 & 0.000805295 & 46.6643 & 46.6643 & 59.5425 & 59.5423 & 106.207 & 43.9373 & 11.6369 & 100.0 & 0.08 & 0.6 & 0.27 & 1.0 & 6.37403e-6 & -1.36593e-7 & 1.36593e-7 & -0.000183098 & false & 0.0 \\\\\n",
       "\t9 & 41 & 1.0 & 9 & 0.02 & 0.02 & 0.0 & 0.004 & 0.2 & 0.2 & 0.15 & 1.0 & 3.86979 & 46.0593 & 51.6092 & 49.1655 & 49.8449 & -1.70511e-5 & -0.000520222 & 0.000781677 & 46.0593 & 46.0593 & 59.7034 & 59.6755 & 105.735 & 43.5611 & 10.6316 & 100.0 & 0.08 & 0.6 & 0.27 & 1.0 & 1.70511e-5 & -3.70199e-7 & 3.70199e-7 & -0.000520222 & false & 0.0 \\\\\n",
       "\t10 & 46 & 1.0 & 10 & 0.02 & 0.02 & 0.0 & 0.005 & 0.2 & 0.2 & 0.15 & 1.0 & 3.78998 & 44.5794 & 50.1483 & 47.7864 & 48.4081 & -3.1737e-5 & -0.000177845 & 0.000750471 & 44.5794 & 44.5793 & 60.7183 & 60.7137 & 105.293 & 42.3383 & 9.55077 & 100.0 & 0.08 & 0.6 & 0.27 & 1.0 & 3.1737e-5 & -7.11921e-7 & 7.11921e-7 & -0.000177845 & false & 0.0 \\\\\n",
       "\t11 & 51 & 1.0 & 11 & 0.02 & 0.02 & 0.0 & 0.001 & 0.3 & 0.2 & 0.15 & 1.0 & 3.64926 & 45.0338 & 50.6694 & 47.4627 & 48.236 & -9.25426e-6 & -6.45243e-5 & 0.000747167 & 45.0338 & 45.0338 & 60.0896 & 60.078 & 105.112 & 42.8437 & 9.2998 & 100.0 & 0.08 & 0.6 & 0.27 & 1.0 & 9.25426e-6 & -2.05496e-7 & 2.05496e-7 & -6.45243e-5 & false & 0.0 \\\\\n",
       "\t12 & 56 & 1.0 & 12 & 0.02 & 0.02 & 0.0 & 0.0025 & 0.3 & 0.2 & 0.15 & 1.0 & 3.68077 & 44.597 & 50.4663 & 47.3031 & 48.015 & -1.03954e-5 & 1.07512e-5 & 0.000741642 & 44.597 & 44.597 & 59.8309 & 59.84 & 104.437 & 42.7023 & 8.00864 & 100.0 & 0.08 & 0.6 & 0.27 & 1.0 & 1.03954e-5 & -2.33097e-7 & 2.33097e-7 & 1.07512e-5 & false & 0.0 \\\\\n",
       "\t13 & 61 & 1.0 & 13 & 0.02 & 0.02 & 0.0 & 0.003 & 0.3 & 0.2 & 0.15 & 1.0 & 3.67867 & 44.3032 & 50.2293 & 47.0911 & 47.7805 & -1.18236e-5 & 5.7718e-6 & 0.000738974 & 44.3032 & 44.3032 & 59.9005 & 59.9083 & 104.212 & 42.5127 & 7.5615 & 100.0 & 0.08 & 0.6 & 0.27 & 1.0 & 1.18236e-5 & -2.6688e-7 & 2.6688e-7 & 5.7718e-6 & false & 0.0 \\\\\n",
       "\t14 & 66 & 1.0 & 14 & 0.02 & 0.02 & 0.0 & 0.004 & 0.3 & 0.2 & 0.15 & 1.0 & 3.64086 & 43.3266 & 49.3072 & 46.2479 & 46.8872 & -3.00813e-5 & 0.00010878 & 0.000696229 & 43.3266 & 43.3265 & 60.4653 & 60.488 & 103.815 & 41.7345 & 6.73084 & 100.0 & 0.08 & 0.6 & 0.27 & 1.0 & 3.00813e-5 & -6.94292e-7 & 6.94292e-7 & 0.00010878 & false & 0.0 \\\\\n",
       "\t15 & 71 & 1.0 & 15 & 0.02 & 0.02 & 0.0 & 0.005 & 0.3 & 0.2 & 0.15 & 1.0 & 3.5432 & 41.6686 & 47.5988 & 44.6656 & 45.2469 & -3.35963e-5 & 0.000115511 & 0.000654616 & 41.6686 & 41.6686 & 61.7211 & 61.7362 & 103.405 & 40.2966 & 5.83703 & 100.0 & 0.08 & 0.6 & 0.27 & 1.0 & 3.35963e-5 & -8.06273e-7 & 8.06273e-7 & 0.000115511 & false & 0.0 \\\\\n",
       "\t16 & 76 & 1.0 & 16 & 0.02 & 0.02 & 0.0 & 0.001 & 0.5 & 0.2 & 0.15 & 1.0 & 3.5173 & 43.3813 & 49.7005 & 45.7192 & 46.4647 & -4.21918e-5 & 0.000844455 & 0.00071256 & 43.3813 & 43.3813 & 59.3617 & 59.3621 & 102.743 & 42.2229 & 4.84545 & 100.0 & 0.08 & 0.6 & 0.27 & 1.0 & 4.21918e-5 & -9.7258e-7 & 9.7258e-7 & 0.000844455 & false & 0.0 \\\\\n",
       "\t17 & 81 & 1.0 & 17 & 0.02 & 0.02 & 0.0 & 0.0025 & 0.5 & 0.2 & 0.15 & 1.0 & 3.4697 & 42.0169 & 48.4011 & 44.5646 & 45.2359 & -4.74264e-5 & 0.000817257 & 0.000707243 & 42.0169 & 42.0169 & 60.0889 & 60.0839 & 102.101 & 41.1524 & 3.62299 & 100.0 & 0.08 & 0.6 & 0.27 & 1.0 & 4.74264e-5 & -1.12875e-6 & 1.12875e-6 & 0.000817257 & false & 0.0 \\\\\n",
       "\t18 & 86 & 1.0 & 18 & 0.02 & 0.02 & 0.0 & 0.003 & 0.5 & 0.2 & 0.15 & 1.0 & 3.4655 & 41.7134 & 48.1388 & 44.3365 & 44.9862 & -4.59094e-5 & 0.000936633 & 0.000668412 & 41.7134 & 41.7134 & 60.1858 & 60.2246 & 101.938 & 40.9203 & 3.32495 & 100.0 & 0.08 & 0.6 & 0.27 & 1.0 & 4.59094e-5 & -1.10059e-6 & 1.10059e-6 & 0.000936633 & false & 0.0 \\\\\n",
       "\t19 & 91 & 1.0 & 19 & 0.02 & 0.02 & 0.0 & 0.004 & 0.5 & 0.2 & 0.15 & 1.0 & 3.39619 & 40.3931 & 46.7837 & 43.1148 & 43.7114 & -4.9269e-5 & 0.000800761 & 0.000661653 & 40.3931 & 40.393 & 61.134 & 61.109 & 101.502 & 39.7953 & 2.5199 & 100.0 & 0.08 & 0.6 & 0.27 & 1.0 & 4.9269e-5 & -1.21974e-6 & 1.21974e-6 & 0.000800761 & false & 0.0 \\\\\n",
       "\t20 & 96 & 1.0 & 20 & 0.02 & 0.02 & 0.0 & 0.005 & 0.5 & 0.2 & 0.15 & 1.0 & 3.39304 & 39.8808 & 46.3566 & 42.7475 & 43.3044 & -3.39058e-5 & 0.000663759 & 0.000651216 & 39.8808 & 39.8808 & 61.2689 & 61.2198 & 101.101 & 39.4467 & 1.83067 & 100.0 & 0.08 & 0.6 & 0.27 & 1.0 & 3.39058e-5 & -8.50178e-7 & 8.50178e-7 & 0.000663759 & false & 0.0 \\\\\n",
       "\t21 & 101 & 1.0 & 21 & 0.02 & 0.02 & 0.0 & 0.001 & 0.75 & 0.2 & 0.15 & 1.0 & 3.44554 & 42.4554 & 49.1891 & 44.7403 & 45.4709 & -3.76007e-5 & 0.00148977 & 0.000722999 & 42.4554 & 42.4554 & 58.8109 & 58.8053 & 101.261 & 41.9268 & 2.19078 & 100.0 & 0.08 & 0.6 & 0.27 & 1.0 & 3.76007e-5 & -8.85651e-7 & 8.85651e-7 & 0.00148977 & false & 0.0 \\\\\n",
       "\t22 & 106 & 1.0 & 22 & 0.02 & 0.02 & 0.0 & 0.0025 & 0.75 & 0.2 & 0.15 & 1.0 & 3.39724 & 41.1007 & 47.8726 & 43.5898 & 44.2475 & -4.84165e-5 & 0.00153424 & 0.000678835 & 41.1007 & 41.1007 & 59.5729 & 59.5794 & 100.68 & 40.8231 & 1.15457 & 100.0 & 0.08 & 0.6 & 0.27 & 1.0 & 4.84165e-5 & -1.178e-6 & 1.178e-6 & 0.00153424 & false & 0.0 \\\\\n",
       "\t23 & 111 & 1.0 & 23 & 0.02 & 0.02 & 0.0 & 0.003 & 0.75 & 0.2 & 0.15 & 1.0 & 3.39619 & 40.841 & 47.6541 & 43.4062 & 44.0433 & -5.20586e-5 & 0.00152908 & 0.000676684 & 40.841 & 40.841 & 59.6363 & 59.6425 & 100.483 & 40.6445 & 0.817254 & 100.0 & 0.08 & 0.6 & 0.27 & 1.0 & 5.20586e-5 & -1.27466e-6 & 1.27466e-6 & 0.00152908 & false & 0.0 \\\\\n",
       "\t24 & 116 & 1.0 & 24 & 0.02 & 0.02 & 0.0 & 0.004 & 0.75 & 0.2 & 0.15 & 1.0 & 3.36364 & 39.969 & 46.7995 & 42.6592 & 43.2504 & -5.55605e-5 & 0.00133333 & 0.000665101 & 39.969 & 39.9689 & 60.1474 & 60.1202 & 100.089 & 39.9333 & 0.148349 & 100.0 & 0.08 & 0.6 & 0.27 & 1.0 & 5.55605e-5 & -1.39009e-6 & 1.39009e-6 & 0.00133333 & false & 0.0 \\\\\n",
       "\t25 & 121 & 1.0 & 25 & 0.02 & 0.02 & 0.0 & 0.005 & 0.75 & 0.2 & 0.15 & 1.0 & 3.36469 & 39.5116 & 46.4261 & 42.3487 & 42.9014 & -4.26051e-5 & 0.0014184 & 0.000625537 & 39.5116 & 39.5115 & 60.2314 & 60.2283 & 99.7398 & 39.6146 & -0.430182 & 100.0 & 0.08 & 0.6 & 0.27 & 1.0 & 4.26051e-5 & -1.07829e-6 & 1.07829e-6 & 0.0014184 & false & 0.0 \\\\\n",
       "\t26 & 126 & 1.0 & 26 & 0.02 & 0.02 & 0.0 & 0.001 & 0.1 & 0.225 & 0.15 & 1.0 & 3.92754 & 48.4816 & 53.3286 & 51.0976 & 51.9203 & -1.16498e-6 & -3.48957e-5 & 0.00118747 & 48.4816 & 48.4816 & 59.2841 & 59.2934 & 107.775 & 44.9841 & 15.0917 & 100.0 & 0.08 & 0.6 & 0.27 & 1.0 & 1.16498e-6 & -2.40294e-8 & 2.40294e-8 & -3.48957e-5 & false & 0.0 \\\\\n",
       "\t27 & 131 & 1.0 & 27 & 0.02 & 0.02 & 0.0 & 0.0025 & 0.1 & 0.225 & 0.15 & 1.0 & 3.89079 & 47.156 & 52.1895 & 50.0185 & 50.7398 & -5.13864e-6 & 8.16463e-6 & 0.00111454 & 47.156 & 47.156 & 59.8755 & 59.8858 & 107.042 & 44.0538 & 13.3257 & 100.0 & 0.08 & 0.6 & 0.27 & 1.0 & 5.13864e-6 & -1.08971e-7 & 1.08971e-7 & 8.16463e-6 & false & 0.0 \\\\\n",
       "\t28 & 136 & 1.0 & 28 & 0.02 & 0.02 & 0.0 & 0.003 & 0.1 & 0.225 & 0.15 & 1.0 & 3.88869 & 46.847 & 51.9543 & 49.796 & 50.4864 & -8.42786e-6 & 7.51957e-5 & 0.00111384 & 46.847 & 46.8469 & 59.9291 & 59.9435 & 106.79 & 43.8681 & 12.7753 & 100.0 & 0.08 & 0.6 & 0.27 & 1.0 & 8.42786e-6 & -1.79902e-7 & 1.79902e-7 & 7.51957e-5 & false & 0.0 \\\\\n",
       "\t29 & 141 & 1.0 & 29 & 0.02 & 0.02 & 0.0 & 0.004 & 0.1 & 0.225 & 0.15 & 1.0 & 3.90129 & 46.4395 & 51.712 & 49.5718 & 50.2044 & -8.77657e-6 & -6.74843e-5 & 0.00109484 & 46.4395 & 46.4395 & 59.8576 & 59.8599 & 106.299 & 43.6875 & 11.7612 & 100.0 & 0.08 & 0.6 & 0.27 & 1.0 & 8.77657e-6 & -1.88989e-7 & 1.88989e-7 & -6.74843e-5 & false & 0.0 \\\\\n",
       "\t30 & 146 & 1.0 & 30 & 0.02 & 0.02 & 0.0 & 0.005 & 0.1 & 0.225 & 0.15 & 1.0 & 3.90129 & 45.8934 & 51.3127 & 49.1954 & 49.7694 & -9.41812e-6 & -5.79855e-5 & 0.00108562 & 45.8934 & 45.8934 & 59.9134 & 59.9169 & 105.81 & 43.3733 & 10.7386 & 100.0 & 0.08 & 0.6 & 0.27 & 1.0 & 9.41812e-6 & -2.05217e-7 & 2.05217e-7 & -5.79855e-5 & false & 0.0 \\\\\n",
       "\t31 & 151 & 1.0 & 31 & 0.02 & 0.02 & 0.0 & 0.001 & 0.2 & 0.225 & 0.15 & 1.0 & 3.41509 & 42.1527 & 48.013 & 44.4269 & 45.1423 & -1.73466e-5 & 0.000485129 & 0.000952232 & 42.1527 & 42.1527 & 61.2315 & 61.2584 & 103.411 & 40.7622 & 5.89678 & 100.0 & 0.08 & 0.6 & 0.27 & 1.0 & 1.73466e-5 & -4.11518e-7 & 4.11518e-7 & 0.000485129 & false & 0.0 \\\\\n",
       "\t32 & 156 & 1.0 & 32 & 0.02 & 0.02 & 0.0 & 0.0025 & 0.2 & 0.225 & 0.15 & 1.0 & 3.42454 & 41.5009 & 47.5387 & 44.0198 & 44.6547 & -1.28717e-5 & 8.25401e-6 & 0.000913207 & 41.5009 & 41.5009 & 61.2826 & 61.2525 & 102.753 & 40.3888 & 4.70668 & 100.0 & 0.08 & 0.6 & 0.27 & 1.0 & 1.28717e-5 & -3.10154e-7 & 3.10154e-7 & 8.25401e-6 & false & 0.0 \\\\\n",
       "\t33 & 161 & 1.0 & 33 & 0.02 & 0.02 & 0.0 & 0.003 & 0.2 & 0.225 & 0.15 & 1.0 & 3.43819 & 41.4154 & 47.5314 & 44.0222 & 44.6327 & -1.23871e-5 & 5.06269e-5 & 0.00091131 & 41.4154 & 41.4154 & 61.1464 & 61.1225 & 102.538 & 40.3903 & 4.33191 & 100.0 & 0.08 & 0.6 & 0.27 & 1.0 & 1.23871e-5 & -2.99095e-7 & 2.99095e-7 & 5.06269e-5 & false & 0.0 \\\\\n",
       "\t34 & 166 & 1.0 & 34 & 0.02 & 0.02 & 0.0 & 0.004 & 0.2 & 0.225 & 0.15 & 1.0 & 3.44764 & 41.0349 & 47.2757 & 43.8023 & 44.3615 & -1.1603e-5 & 0.000225869 & 0.00091308 & 41.0349 & 41.0349 & 61.075 & 61.0679 & 102.103 & 40.1898 & 3.56609 & 100.0 & 0.08 & 0.6 & 0.27 & 1.0 & 1.1603e-5 & -2.8276e-7 & 2.8276e-7 & 0.000225869 & false & 0.0 \\\\\n",
       "\t35 & 171 & 1.0 & 35 & 0.02 & 0.02 & 0.0 & 0.005 & 0.2 & 0.225 & 0.15 & 1.0 & 3.30483 & 38.8725 & 44.954 & 41.669 & 42.1553 & -1.13774e-5 & 0.000168437 & 0.000858541 & 38.8725 & 38.8725 & 62.8257 & 62.8121 & 101.685 & 38.2285 & 2.75585 & 100.0 & 0.08 & 0.6 & 0.27 & 1.0 & 1.13774e-5 & -2.92685e-7 & 2.92685e-7 & 0.000168437 & false & 0.0 \\\\\n",
       "\t36 & 176 & 1.0 & 36 & 0.02 & 0.02 & 0.0 & 0.001 & 0.3 & 0.225 & 0.15 & 1.0 & 3.18617 & 39.3197 & 45.7614 & 41.4405 & 42.1081 & -3.68638e-5 & 0.000826205 & 0.000868472 & 39.3197 & 39.3197 & 61.3352 & 61.3201 & 100.64 & 39.0697 & 1.05428 & 100.0 & 0.08 & 0.6 & 0.27 & 1.0 & 3.68638e-5 & -9.37539e-7 & 9.37539e-7 & 0.000826205 & false & 0.0 \\\\\n",
       "\t37 & 181 & 1.0 & 37 & 0.02 & 0.02 & 0.0 & 0.0025 & 0.3 & 0.225 & 0.15 & 1.0 & 3.17882 & 38.5159 & 45.0677 & 40.8531 & 41.4426 & -3.31529e-5 & 0.000570017 & 0.000800435 & 38.5159 & 38.5159 & 61.5727 & 61.5777 & 100.094 & 38.4799 & 0.152283 & 100.0 & 0.08 & 0.6 & 0.27 & 1.0 & 3.31529e-5 & -8.60757e-7 & 8.60757e-7 & 0.000570017 & false & 0.0 \\\\\n",
       "\t38 & 186 & 1.0 & 38 & 0.02 & 0.02 & 0.0 & 0.003 & 0.3 & 0.225 & 0.15 & 1.0 & 3.17987 & 38.2966 & 44.8924 & 40.7066 & 41.2713 & -3.18415e-5 & 0.000585871 & 0.000798034 & 38.2966 & 38.2966 & 61.5792 & 61.5977 & 99.8943 & 38.3371 & -0.171324 & 100.0 & 0.08 & 0.6 & 0.27 & 1.0 & 3.18415e-5 & -8.31445e-7 & 8.31445e-7 & 0.000585871 & false & 0.0 \\\\\n",
       "\t39 & 191 & 1.0 & 39 & 0.02 & 0.02 & 0.0 & 0.004 & 0.3 & 0.225 & 0.15 & 1.0 & 3.06016 & 36.4161 & 42.842 & 38.8715 & 39.368 & -2.36932e-5 & 0.00053901 & 0.000750776 & 36.4161 & 36.4161 & 63.053 & 63.0972 & 99.5133 & 36.5942 & -0.765444 & 100.0 & 0.08 & 0.6 & 0.27 & 1.0 & 2.36932e-5 & -6.50625e-7 & 6.50625e-7 & 0.00053901 & false & 0.0 \\\\\n",
       "\t40 & 196 & 1.0 & 40 & 0.02 & 0.02 & 0.0 & 0.005 & 0.3 & 0.225 & 0.15 & 1.0 & 2.9961 & 35.2344 & 41.6004 & 37.7686 & 38.2096 & -1.74348e-5 & 0.000523614 & 0.000706299 & 35.2344 & 35.2344 & 63.904 & 63.938 & 99.1724 & 35.5284 & -1.27784 & 100.0 & 0.08 & 0.6 & 0.27 & 1.0 & 1.74348e-5 & -4.94823e-7 & 4.94823e-7 & 0.000523614 & false & 0.0 \\\\\n",
       "\t41 & 201 & 1.0 & 41 & 0.02 & 0.02 & 0.0 & 0.001 & 0.5 & 0.225 & 0.15 & 1.0 & 3.0444 & 37.5491 & 44.7742 & 39.5727 & 40.2109 & -4.83407e-5 & 8.81315e-5 & 0.000726508 & 37.5491 & 37.549 & 60.0632 & 60.0517 & 97.6007 & 38.4721 & -3.84185 & 100.0 & 0.08 & 0.6 & 0.27 & 1.0 & 4.83407e-5 & -1.2874e-6 & 1.2874e-6 & 8.81315e-5 & false & 0.0 \\\\\n",
       "\t42 & 206 & 1.0 & 42 & 0.02 & 0.02 & 0.0 & 0.0025 & 0.5 & 0.225 & 0.15 & 1.0 & 2.9919 & 36.2308 & 43.4239 & 38.4276 & 38.9829 & -3.16184e-5 & 6.41133e-5 & 0.000679808 & 36.2308 & 36.2307 & 60.8568 & 60.8504 & 97.0811 & 37.3201 & -4.57722 & 100.0 & 0.08 & 0.6 & 0.27 & 1.0 & 3.16184e-5 & -8.72694e-7 & 8.72694e-7 & 6.41133e-5 & false & 0.0 \\\\\n",
       "\t43 & 211 & 1.0 & 43 & 0.02 & 0.02 & 0.0 & 0.003 & 0.5 & 0.225 & 0.15 & 1.0 & 2.92259 & 35.1778 & 42.2333 & 37.3899 & 37.9094 & -4.30455e-6 & -2.08262e-5 & 0.00063847 & 35.1778 & 35.1778 & 61.7327 & 61.746 & 96.9238 & 36.2943 & -4.74562 & 100.0 & 0.08 & 0.6 & 0.27 & 1.0 & 4.30455e-6 & -1.22366e-7 & 1.22366e-7 & -2.08262e-5 & false & 0.0 \\\\\n",
       "\t44 & 216 & 1.0 & 44 & 0.02 & 0.02 & 0.0 & 0.004 & 0.5 & 0.225 & 0.15 & 1.0 & 2.86274 & 34.0469 & 41.0142 & 36.3409 & 36.8058 & 1.98681e-5 & 4.16166e-5 & 0.000638403 & 34.0469 & 34.0469 & 62.5147 & 62.4983 & 96.5452 & 35.2652 & -5.23822 & 100.0 & 0.08 & 0.6 & 0.27 & 1.0 & 1.98681e-5 & 5.8355e-7 & 5.8355e-7 & 4.16166e-5 & false & 0.0 \\\\\n",
       "\t45 & 221 & 1.0 & 45 & 0.02 & 0.02 & 0.0 & 0.005 & 0.5 & 0.225 & 0.15 & 1.0 & 2.89424 & 34.0173 & 41.1177 & 36.4624 & 36.8888 & 6.59841e-6 & 7.61145e-5 & 0.000634044 & 34.0173 & 34.0173 & 62.2243 & 62.1995 & 96.2168 & 35.3548 & -5.73369 & 100.0 & 0.08 & 0.6 & 0.27 & 1.0 & 6.59841e-6 & 1.93972e-7 & 1.93972e-7 & 7.61145e-5 & false & 0.0 \\\\\n",
       "\t46 & 226 & 1.0 & 46 & 0.02 & 0.02 & 0.0 & 0.001 & 0.75 & 0.225 & 0.15 & 1.0 & 2.9667 & 36.5543 & 44.2829 & 38.5214 & 39.144 & 4.62023e-6 & -0.000382752 & 0.000627807 & 36.5543 & 36.5543 & 59.1503 & 59.1536 & 95.7079 & 38.1936 & -6.76499 & 100.0 & 0.08 & 0.6 & 0.27 & 1.0 & 4.62023e-6 & 1.26394e-7 & 1.26394e-7 & -0.000382752 & false & 0.0 \\\\\n",
       "\t47 & 231 & 1.0 & 47 & 0.02 & 0.02 & 0.0 & 0.0025 & 0.75 & 0.225 & 0.15 & 1.0 & 2.92154 & 35.3441 & 43.0265 & 37.4844 & 38.0272 & 2.3565e-5 & -0.00030566 & 0.000626018 & 35.3441 & 35.3441 & 59.8708 & 59.8566 & 95.2007 & 37.1259 & -7.42287 & 100.0 & 0.08 & 0.6 & 0.27 & 1.0 & 2.3565e-5 & 6.66731e-7 & 6.66731e-7 & -0.00030566 & false & 0.0 \\\\\n",
       "\t48 & 236 & 1.0 & 48 & 0.02 & 0.02 & 0.0 & 0.003 & 0.75 & 0.225 & 0.15 & 1.0 & 2.89529 & 34.8154 & 42.4495 & 37.002 & 37.5173 & 4.05683e-5 & -0.000634208 & 0.000574351 & 34.8154 & 34.8154 & 60.2423 & 60.2413 & 95.0567 & 36.626 & -7.58352 & 100.0 & 0.08 & 0.6 & 0.27 & 1.0 & 4.05683e-5 & 1.16524e-6 & 1.16524e-6 & -0.000634208 & false & 0.0 \\\\\n",
       "\t49 & 241 & 1.0 & 49 & 0.02 & 0.02 & 0.0 & 0.004 & 0.75 & 0.225 & 0.15 & 1.0 & 2.86799 & 34.0763 & 41.6852 & 36.3697 & 36.836 & 7.81842e-5 & -0.000383982 & 0.000582813 & 34.0763 & 34.0764 & 60.6524 & 60.644 & 94.7204 & 35.9758 & -8.00873 & 100.0 & 0.08 & 0.6 & 0.27 & 1.0 & 7.81842e-5 & 2.29439e-6 & 2.29439e-6 & -0.000383982 & false & 0.0 \\\\\n",
       "\t50 & 246 & 1.0 & 50 & 0.02 & 0.02 & 0.0 & 0.005 & 0.75 & 0.225 & 0.15 & 1.0 & 2.88059 & 33.8242 & 41.5092 & 36.2528 & 36.678 & 7.02828e-5 & -0.000542034 & 0.000570359 & 33.8242 & 33.8243 & 60.5991 & 60.5824 & 94.4067 & 35.8283 & -8.45224 & 100.0 & 0.08 & 0.6 & 0.27 & 1.0 & 7.02828e-5 & 2.07788e-6 & 2.07788e-6 & -0.000542034 & false & 0.0 \\\\\n",
       "\t51 & 251 & 1.0 & 51 & 0.02 & 0.02 & 0.0 & 0.001 & 0.1 & 0.25 & 0.15 & 1.0 & 3.63981 & 44.9304 & 50.3376 & 47.3547 & 47.9345 & 2.26841e-6 & -7.54723e-5 & 0.00137303 & 44.9304 & 44.9304 & 60.1673 & 60.1613 & 105.092 & 42.7535 & 9.24594 & 100.0 & 0.08 & 0.6 & 0.27 & 1.0 & 2.26841e-6 & 5.04873e-8 & 5.04873e-8 & -7.54723e-5 & false & 0.0 \\\\\n",
       "\t52 & 256 & 1.0 & 52 & 0.02 & 0.02 & 0.0 & 0.0025 & 0.1 & 0.25 & 0.15 & 1.0 & 3.65872 & 44.3432 & 49.9799 & 47.0349 & 47.5152 & -6.51966e-6 & -0.000438899 & 0.00132743 & 44.3431 & 44.3431 & 60.0553 & 60.0273 & 104.37 & 42.4863 & 7.85244 & 100.0 & 0.08 & 0.6 & 0.27 & 1.0 & 6.51966e-6 & -1.47027e-7 & 1.47027e-7 & -0.000438899 & false & 0.0 \\\\\n",
       "\t53 & 261 & 1.0 & 53 & 0.02 & 0.02 & 0.0 & 0.003 & 0.1 & 0.25 & 0.15 & 1.0 & 3.64716 & 43.9372 & 49.6228 & 46.7031 & 47.1486 & -7.36469e-6 & 0.000176948 & 0.00130098 & 43.9372 & 43.9371 & 60.2188 & 60.2338 & 104.171 & 42.1779 & 7.43981 & 100.0 & 0.08 & 0.6 & 0.27 & 1.0 & 7.36469e-6 & -1.67619e-7 & 1.67619e-7 & 0.000176948 & false & 0.0 \\\\\n",
       "\t54 & 266 & 1.0 & 54 & 0.02 & 0.02 & 0.0 & 0.004 & 0.1 & 0.25 & 0.15 & 1.0 & 3.57471 & 42.5523 & 48.2509 & 45.4224 & 45.7951 & -7.14497e-6 & -0.000401884 & 0.00124844 & 42.5523 & 42.5522 & 61.1589 & 61.1295 & 103.682 & 41.0412 & 6.40895 & 100.0 & 0.08 & 0.6 & 0.27 & 1.0 & 7.14497e-6 & -1.6791e-7 & 1.6791e-7 & -0.000401884 & false & 0.0 \\\\\n",
       "\t55 & 271 & 1.0 & 55 & 0.02 & 0.02 & 0.0 & 0.005 & 0.1 & 0.25 & 0.15 & 1.0 & 3.58626 & 42.1877 & 48.0306 & 45.223 & 45.5342 & -7.97737e-6 & 0.000403328 & 0.00123042 & 42.1877 & 42.1877 & 61.0563 & 61.0795 & 103.267 & 40.8529 & 5.65137 & 100.0 & 0.08 & 0.6 & 0.27 & 1.0 & 7.97737e-6 & -1.89092e-7 & 1.89092e-7 & 0.000403328 & false & 0.0 \\\\\n",
       "\t56 & 276 & 1.0 & 56 & 0.02 & 0.02 & 0.0 & 0.001 & 0.2 & 0.25 & 0.15 & 1.0 & 3.09061 & 38.1477 & 44.6467 & 40.2059 & 40.6983 & -1.85776e-5 & 0.000403699 & 0.00106782 & 38.1477 & 38.1477 & 61.4087 & 61.3908 & 99.5385 & 38.3246 & -0.746056 & 100.0 & 0.08 & 0.6 & 0.27 & 1.0 & 1.85776e-5 & -4.8699e-7 & 4.8699e-7 & 0.000403699 & false & 0.0 \\\\\n",
       "\t57 & 281 & 1.0 & 57 & 0.02 & 0.02 & 0.0 & 0.0025 & 0.2 & 0.25 & 0.15 & 1.0 & 3.07591 & 37.2761 & 43.8683 & 39.5386 & 39.9425 & -1.6167e-5 & 0.000421995 & 0.00100512 & 37.2761 & 37.2761 & 61.7148 & 61.7066 & 98.9827 & 37.6592 & -1.62191 & 100.0 & 0.08 & 0.6 & 0.27 & 1.0 & 1.6167e-5 & -4.3371e-7 & 4.3371e-7 & 0.000421995 & false & 0.0 \\\\\n",
       "\t58 & 286 & 1.0 & 58 & 0.02 & 0.02 & 0.0 & 0.003 & 0.2 & 0.25 & 0.15 & 1.0 & 3.01815 & 36.3558 & 42.8631 & 38.6442 & 39.013 & -1.12341e-5 & 0.000443263 & 0.000954681 & 36.3558 & 36.3558 & 62.4701 & 62.4727 & 98.8285 & 36.7868 & -1.84072 & 100.0 & 0.08 & 0.6 & 0.27 & 1.0 & 1.12341e-5 & -3.09004e-7 & 3.09004e-7 & 0.000443263 & false & 0.0 \\\\\n",
       "\t59 & 291 & 1.0 & 59 & 0.02 & 0.02 & 0.0 & 0.004 & 0.2 & 0.25 & 0.15 & 1.0 & 2.94989 & 35.1105 & 41.5463 & 37.4784 & 37.7861 & -4.53745e-6 & 5.83841e-5 & 0.000923458 & 35.1105 & 35.1105 & 63.3278 & 63.2983 & 98.4088 & 35.6782 & -2.45214 & 100.0 & 0.08 & 0.6 & 0.27 & 1.0 & 4.53745e-6 & -1.29233e-7 & 1.29233e-7 & 5.83841e-5 & false & 0.0 \\\\\n",
       "\t60 & 296 & 1.0 & 60 & 0.02 & 0.02 & 0.0 & 0.005 & 0.2 & 0.25 & 0.15 & 1.0 & 2.24212 & 26.3753 & 31.3259 & 28.273 & 28.4676 & -5.62926e-5 & 0.000278284 & 0.000691792 & 26.3753 & 26.3753 & 71.6825 & 71.5563 & 97.9316 & 26.9323 & -2.80943 & 100.0 & 0.08 & 0.6 & 0.27 & 1.0 & 5.62926e-5 & -2.13429e-6 & 2.13429e-6 & 0.000278284 & false & 0.0 \\\\\n",
       "\t61 & 301 & 1.0 & 61 & 0.02 & 0.02 & 0.0 & 0.001 & 0.3 & 0.25 & 0.15 & 1.0 & 2.80603 & 34.6274 & 41.6003 & 36.495 & 36.9423 & 1.26875e-5 & -9.20668e-5 & 0.000863426 & 34.6274 & 34.6275 & 61.6831 & 61.6739 & 96.3013 & 35.9574 & -5.65781 & 100.0 & 0.08 & 0.6 & 0.27 & 1.0 & 1.26875e-5 & 3.664e-7 & 3.664e-7 & -9.20668e-5 & false & 0.0 \\\\\n",
       "\t62 & 306 & 1.0 & 62 & 0.02 & 0.02 & 0.0 & 0.0025 & 0.3 & 0.25 & 0.15 & 1.0 & 2.25053 & 27.2726 & 32.9356 & 28.9278 & 29.2234 & -0.000164802 & -0.000134161 & 0.000665193 & 27.2726 & 27.2724 & 68.501 & 68.3758 & 95.6483 & 28.5132 & -5.98361 & 100.0 & 0.08 & 0.6 & 0.27 & 1.0 & 0.000164802 & -6.04277e-6 & 6.04277e-6 & -0.000134161 & false & 0.0 \\\\\n",
       "\t63 & 311 & 1.0 & 63 & 0.02 & 0.02 & 0.0 & 0.003 & 0.3 & 0.25 & 0.15 & 1.0 & 2.33033 & 28.068 & 33.9552 & 29.8345 & 30.1194 & -0.000120781 & -0.000184107 & 0.000659872 & 28.068 & 28.0679 & 67.5659 & 67.517 & 95.5849 & 29.3644 & -6.13793 & 100.0 & 0.08 & 0.6 & 0.27 & 1.0 & 0.000120781 & -4.30314e-6 & 4.30314e-6 & -0.000184107 & false & 0.0 \\\\\n",
       "\t64 & 316 & 1.0 & 64 & 0.02 & 0.02 & 0.0 & 0.004 & 0.3 & 0.25 & 0.15 & 1.0 & 2.37759 & 28.2955 & 34.3487 & 30.2035 & 30.4517 & -9.14681e-5 & -0.000232531 & 0.000651352 & 28.2955 & 28.2954 & 67.0479 & 67.0167 & 95.3122 & 29.6871 & -6.53769 & 100.0 & 0.08 & 0.6 & 0.27 & 1.0 & 9.14681e-5 & -3.2326e-6 & 3.2326e-6 & -0.000232531 & false & 0.0 \\\\\n",
       "\t65 & 321 & 1.0 & 65 & 0.02 & 0.02 & 0.0 & 0.005 & 0.3 & 0.25 & 0.15 & 1.0 & 2.19382 & 25.8053 & 31.4342 & 27.6617 & 27.8522 & -0.000172585 & -0.00021115 & 0.000585876 & 25.8053 & 25.8051 & 69.2795 & 69.2237 & 95.0288 & 27.155 & -6.70017 & 100.0 & 0.08 & 0.6 & 0.27 & 1.0 & 0.000172585 & -6.68796e-6 & 6.68796e-6 & -0.00021115 & false & 0.0 \\\\\n",
       "\t66 & 326 & 1.0 & 66 & 0.02 & 0.02 & 0.0 & 0.001 & 0.5 & 0.25 & 0.15 & 1.0 & 2.56661 & 31.6553 & 39.1836 & 33.3613 & 33.7709 & -1.15027e-5 & -0.000127993 & 0.000702189 & 31.6553 & 31.6553 & 61.1246 & 61.1153 & 92.7706 & 34.1221 & -10.5779 & 100.0 & 0.08 & 0.6 & 0.27 & 1.0 & 1.15027e-5 & -3.63374e-7 & 3.63374e-7 & -0.000127993 & false & 0.0 \\\\\n",
       "\t67 & 331 & 1.0 & 67 & 0.02 & 0.02 & 0.0 & 0.0025 & 0.5 & 0.25 & 0.15 & 1.0 & 2.38919 & 28.933 & 35.9852 & 30.6875 & 31.0019 & -5.43042e-5 & -0.000301366 & 0.000619967 & 28.933 & 28.933 & 63.3859 & 63.36 & 92.293 & 31.3491 & -10.8447 & 100.0 & 0.08 & 0.6 & 0.27 & 1.0 & 5.43042e-5 & -1.87689e-6 & 1.87689e-6 & -0.000301366 & false & 0.0 \\\\\n",
       "\t68 & 336 & 1.0 & 68 & 0.02 & 0.02 & 0.0 & 0.003 & 0.5 & 0.25 & 0.15 & 1.0 & 2.43219 & 29.2763 & 36.4715 & 31.1174 & 31.4153 & -4.72752e-5 & -0.000225773 & 0.000620438 & 29.2763 & 29.2763 & 62.9127 & 62.8921 & 92.1683 & 31.7639 & -11.0736 & 100.0 & 0.08 & 0.6 & 0.27 & 1.0 & 4.72752e-5 & -1.61479e-6 & 1.61479e-6 & -0.000225773 & false & 0.0 \\\\\n",
       "\t69 & 341 & 1.0 & 69 & 0.02 & 0.02 & 0.0 & 0.004 & 0.5 & 0.25 & 0.15 & 1.0 & 2.42274 & 28.8174 & 36.0151 & 30.7594 & 31.0127 & -0.000117121 & -7.94902e-6 & 0.000625043 & 28.8174 & 28.8173 & 63.0932 & 63.0483 & 91.8656 & 31.369 & -11.4275 & 100.0 & 0.08 & 0.6 & 0.27 & 1.0 & 0.000117121 & -4.06425e-6 & 4.06425e-6 & -7.94902e-6 & false & 0.0 \\\\\n",
       "\t70 & 346 & 1.0 & 70 & 0.02 & 0.02 & 0.0 & 0.005 & 0.5 & 0.25 & 0.15 & 1.0 & 2.25893 & 26.5588 & 33.2985 & 28.4685 & 28.665 & -0.000324856 & -7.42606e-5 & 0.000558689 & 26.5588 & 26.5585 & 65.0918 & 65.0208 & 91.5792 & 29.0005 & -11.4659 & 100.0 & 0.08 & 0.6 & 0.27 & 1.0 & 0.000324856 & -1.22316e-5 & 1.22316e-5 & -7.42606e-5 & false & 0.0 \\\\\n",
       "\t71 & 351 & 1.0 & 71 & 0.02 & 0.02 & 0.0 & 0.001 & 0.75 & 0.25 & 0.15 & 1.0 & 2.5057 & 30.8746 & 38.9808 & 32.5361 & 32.9368 & -1.40932e-5 & 6.10181e-5 & 0.000628711 & 30.8746 & 30.8746 & 59.6991 & 59.6987 & 90.5732 & 34.0879 & -13.6372 & 100.0 & 0.08 & 0.6 & 0.27 & 1.0 & 1.40932e-5 & -4.56466e-7 & 4.56466e-7 & 6.10181e-5 & false & 0.0 \\\\\n",
       "\t72 & 356 & 1.0 & 72 & 0.02 & 0.02 & 0.0 & 0.0025 & 0.75 & 0.25 & 0.15 & 1.0 & 2.4616 & 29.7798 & 37.7672 & 31.5832 & 31.9081 & 2.00764e-5 & -0.000178684 & 0.000579126 & 29.7798 & 29.7798 & 60.3779 & 60.3853 & 90.1651 & 33.0281 & -14.0058 & 100.0 & 0.08 & 0.6 & 0.27 & 1.0 & 2.00764e-5 & 6.74162e-7 & 6.74162e-7 & -0.000178684 & false & 0.0 \\\\\n",
       "\t73 & 361 & 1.0 & 73 & 0.02 & 0.02 & 0.0 & 0.003 & 0.75 & 0.25 & 0.15 & 1.0 & 2.4574 & 29.5502 & 37.534 & 31.4061 & 31.7081 & 2.06114e-5 & 5.55597e-5 & 0.000587844 & 29.5502 & 29.5502 & 60.4776 & 60.4729 & 90.0231 & 32.8252 & -14.1618 & 100.0 & 0.08 & 0.6 & 0.27 & 1.0 & 2.06114e-5 & 6.97506e-7 & 6.97506e-7 & 5.55597e-5 & false & 0.0 \\\\\n",
       "\t74 & 366 & 1.0 & 74 & 0.02 & 0.02 & 0.0 & 0.004 & 0.75 & 0.25 & 0.15 & 1.0 & 2.4511 & 29.1271 & 37.1082 & 31.0877 & 31.3449 & -9.74856e-5 & 0.000212252 & 0.000590226 & 29.1271 & 29.127 & 60.6347 & 60.6218 & 89.7487 & 32.4539 & -14.4643 & 100.0 & 0.08 & 0.6 & 0.27 & 1.0 & 9.74856e-5 & -3.34691e-6 & 3.34691e-6 & 0.000212252 & false & 0.0 \\\\\n",
       "\t75 & 371 & 1.0 & 75 & 0.02 & 0.02 & 0.0 & 0.005 & 0.75 & 0.25 & 0.15 & 1.0 & 2.36919 & 27.8277 & 35.5587 & 29.8264 & 30.0335 & -0.000279166 & 0.000168757 & 0.00055512 & 27.8277 & 27.8274 & 61.6767 & 61.6524 & 89.4798 & 31.0991 & -14.5764 & 100.0 & 0.08 & 0.6 & 0.27 & 1.0 & 0.000279166 & -1.0032e-5 & 1.0032e-5 & 0.000168757 & false & 0.0 \\\\\n",
       "\t76 & 376 & 1.0 & 76 & 0.02 & 0.02 & 0.0 & 0.001 & 0.1 & 0.275 & 0.15 & 1.0 & 3.41929 & 42.2082 & 48.1669 & 44.4857 & 44.7367 & -9.22286e-6 & -8.85405e-5 & 0.00154313 & 42.2082 & 42.2082 & 60.0529 & 60.0284 & 102.237 & 41.2848 & 3.87007 & 100.0 & 0.08 & 0.6 & 0.27 & 1.0 & 9.22286e-6 & -2.18509e-7 & 2.18509e-7 & -8.85405e-5 & false & 0.0 \\\\\n",
       "\t77 & 381 & 1.0 & 77 & 0.02 & 0.02 & 0.0 & 0.0025 & 0.1 & 0.275 & 0.15 & 1.0 & 3.30693 & 40.0803 & 46.015 & 42.5133 & 42.6547 & -9.37896e-6 & 0.000180101 & 0.00146723 & 40.0803 & 40.0803 & 61.485 & 61.4732 & 101.553 & 39.4672 & 2.59257 & 100.0 & 0.08 & 0.6 & 0.27 & 1.0 & 9.37896e-6 & -2.34004e-7 & 2.34004e-7 & 0.000180101 & false & 0.0 \\\\\n",
       "\t78 & 386 & 1.0 & 78 & 0.02 & 0.02 & 0.0 & 0.003 & 0.1 & 0.275 & 0.15 & 1.0 & 3.33633 & 40.193 & 46.2348 & 42.7232 & 42.8325 & -7.14059e-6 & 5.08676e-5 & 0.00145194 & 40.193 & 40.193 & 61.1662 & 61.147 & 101.34 & 39.6615 & 2.24049 & 100.0 & 0.08 & 0.6 & 0.27 & 1.0 & 7.14059e-6 & -1.77658e-7 & 1.77658e-7 & 5.08676e-5 & false & 0.0 \\\\\n",
       "\t79 & 391 & 1.0 & 79 & 0.02 & 0.02 & 0.0 & 0.004 & 0.1 & 0.275 & 0.15 & 1.0 & 3.30798 & 39.3773 & 45.473 & 42.0332 & 42.0768 & -5.72575e-6 & 4.86115e-5 & 0.00137528 & 39.3773 & 39.3772 & 61.5776 & 61.5642 & 100.941 & 39.01 & 1.55293 & 100.0 & 0.08 & 0.6 & 0.27 & 1.0 & 5.72575e-6 & -1.45408e-7 & 1.45408e-7 & 4.86115e-5 & false & 0.0 \\\\\n",
       "\t80 & 396 & 1.0 & 80 & 0.02 & 0.02 & 0.0 & 0.005 & 0.1 & 0.275 & 0.15 & 1.0 & 3.30693 & 38.9017 & 45.1046 & 41.7006 & 41.6809 & -3.0698e-6 & 0.000276992 & 0.00137551 & 38.9017 & 38.9017 & 61.5966 & 61.5954 & 100.497 & 38.7093 & 0.813627 & 100.0 & 0.08 & 0.6 & 0.27 & 1.0 & 3.0698e-6 & -7.89117e-8 & 7.89117e-8 & 0.000276992 & false & 0.0 \\\\\n",
       "\t81 & 401 & 1.0 & 81 & 0.02 & 0.02 & 0.0 & 0.001 & 0.2 & 0.275 & 0.15 & 1.0 & 2.66532 & 32.8977 & 39.5115 & 34.6726 & 34.8684 & 1.12293e-5 & -0.000228878 & 0.00102397 & 32.8977 & 32.8978 & 62.9489 & 62.8953 & 95.793 & 34.3425 & -6.26949 & 100.0 & 0.08 & 0.6 & 0.27 & 1.0 & 1.12293e-5 & 3.41339e-7 & 3.41339e-7 & -0.000228878 & false & 0.0 \\\\\n",
       "\t82 & 406 & 1.0 & 82 & 0.02 & 0.02 & 0.0 & 0.0025 & 0.2 & 0.275 & 0.15 & 1.0 & 2.67162 & 32.3761 & 39.095 & 34.3411 & 34.4555 & 1.12173e-5 & -0.000175408 & 0.000968127 & 32.3761 & 32.3761 & 62.9042 & 62.9319 & 95.308 & 33.97 & -6.93842 & 100.0 & 0.08 & 0.6 & 0.27 & 1.0 & 1.12173e-5 & 3.4647e-7 & 3.4647e-7 & -0.000175408 & false & 0.0 \\\\\n",
       "\t83 & 411 & 1.0 & 83 & 0.02 & 0.02 & 0.0 & 0.003 & 0.2 & 0.275 & 0.15 & 1.0 & 2.62121 & 31.5739 & 38.1947 & 33.5613 & 33.6473 & 1.11685e-5 & -0.000220327 & 0.000958205 & 31.5739 & 31.5739 & 63.5259 & 63.5317 & 95.1057 & 33.1988 & -7.15275 & 100.0 & 0.08 & 0.6 & 0.27 & 1.0 & 1.11685e-5 & 3.53727e-7 & 3.53727e-7 & -0.000220327 & false & 0.0 \\\\\n",
       "\t84 & 416 & 1.0 & 84 & 0.02 & 0.02 & 0.0 & 0.004 & 0.2 & 0.275 & 0.15 & 1.0 & 1.87144 & 22.2795 & 27.0485 & 23.7824 & 23.807 & -1.98078e-5 & -4.69241e-5 & 0.000652061 & 22.2795 & 22.2795 & 72.4495 & 72.5567 & 94.8362 & 23.4926 & -6.64403 & 100.0 & 0.08 & 0.6 & 0.27 & 1.0 & 1.98078e-5 & -8.89059e-7 & 8.89059e-7 & -4.69241e-5 & false & 0.0 \\\\\n",
       "\t85 & 421 & 1.0 & 85 & 0.02 & 0.02 & 0.0 & 0.005 & 0.2 & 0.275 & 0.15 & 1.0 & 2.30303 & 27.0911 & 33.0055 & 29.0401 & 29.0265 & -7.2096e-5 & -0.000292363 & 0.000773327 & 27.0911 & 27.091 & 67.4213 & 67.4428 & 94.5338 & 28.6574 & -7.49725 & 100.0 & 0.08 & 0.6 & 0.27 & 1.0 & 7.2096e-5 & -2.66125e-6 & 2.66125e-6 & -0.000292363 & false & 0.0 \\\\\n",
       "\t86 & 426 & 1.0 & 86 & 0.02 & 0.02 & 0.0 & 0.001 & 0.3 & 0.275 & 0.15 & 1.0 & 2.51305 & 31.0127 & 38.3822 & 32.6854 & 32.8702 & -1.60237e-5 & -0.000139611 & 0.000845616 & 31.0127 & 31.0127 & 61.2298 & 61.2306 & 92.2432 & 33.6205 & -11.2438 & 100.0 & 0.08 & 0.6 & 0.27 & 1.0 & 1.60237e-5 & -5.16681e-7 & 5.16681e-7 & -0.000139611 & false & 0.0 \\\\\n",
       "\t87 & 431 & 1.0 & 87 & 0.02 & 0.02 & 0.0 & 0.0025 & 0.3 & 0.275 & 0.15 & 1.0 & 2.29618 & 27.8223 & 34.6047 & 29.5106 & 29.609 & -4.4254e-5 & -0.000186861 & 0.000753165 & 27.8223 & 27.8222 & 63.9524 & 63.9624 & 91.7846 & 30.3125 & -11.3821 & 100.0 & 0.08 & 0.6 & 0.27 & 1.0 & 4.4254e-5 & -1.5906e-6 & 1.5906e-6 & -0.000186861 & false & 0.0 \\\\\n",
       "\t88 & 436 & 1.0 & 88 & 0.02 & 0.02 & 0.0 & 0.003 & 0.3 & 0.275 & 0.15 & 1.0 & 2.22427 & 26.792 & 33.3787 & 28.4783 & 28.5513 & -0.000165315 & -0.000253315 & 0.000711405 & 26.792 & 26.7918 & 64.8331 & 64.8596 & 91.6514 & 29.2323 & -11.4038 & 100.0 & 0.08 & 0.6 & 0.27 & 1.0 & 0.000165315 & -6.17033e-6 & 6.17033e-6 & -0.000253315 & false & 0.0 \\\\\n",
       "\t89 & 441 & 1.0 & 89 & 0.02 & 0.02 & 0.0 & 0.004 & 0.3 & 0.275 & 0.15 & 1.0 & 1.83678 & 21.8663 & 27.3324 & 23.3413 & 23.3654 & 8.8568e-6 & -0.00021544 & 0.000580785 & 21.8663 & 21.8663 & 69.4642 & 69.5046 & 91.3709 & 23.9313 & -11.044 & 100.0 & 0.08 & 0.6 & 0.27 & 1.0 & 8.8568e-6 & 4.05044e-7 & 4.05044e-7 & -0.00021544 & false & 0.0 \\\\\n",
       "\t90 & 446 & 1.0 & 90 & 0.02 & 0.02 & 0.0 & 0.005 & 0.3 & 0.275 & 0.15 & 1.0 & 1.87039 & 22.0063 & 27.5988 & 23.5899 & 23.5786 & -7.07351e-5 & -0.000175812 & 0.00057716 & 22.0063 & 22.0062 & 69.1071 & 69.1384 & 91.1446 & 24.1443 & -11.3539 & 100.0 & 0.08 & 0.6 & 0.27 & 1.0 & 7.07351e-5 & -3.21432e-6 & 3.21432e-6 & -0.000175812 & false & 0.0 \\\\\n",
       "\t91 & 451 & 1.0 & 91 & 0.02 & 0.02 & 0.0 & 0.001 & 0.5 & 0.275 & 0.15 & 1.0 & 2.32403 & 28.662 & 36.685 & 30.2066 & 30.3782 & 5.10928e-5 & 0.000298687 & 0.000730402 & 28.662 & 28.6621 & 59.7581 & 59.7648 & 88.4269 & 32.4133 & -16.2229 & 100.0 & 0.08 & 0.6 & 0.27 & 1.0 & 5.10928e-5 & 1.78259e-6 & 1.78259e-6 & 0.000298687 & false & 0.0 \\\\\n",
       "\t92 & 456 & 1.0 & 92 & 0.02 & 0.02 & 0.0 & 0.0025 & 0.5 & 0.275 & 0.15 & 1.0 & 2.21902 & 26.8697 & 34.5455 & 28.4988 & 28.5948 & 5.90961e-5 & -0.000100987 & 0.000636269 & 26.8697 & 26.8698 & 61.1755 & 61.1888 & 88.0585 & 30.5135 & -16.3291 & 100.0 & 0.08 & 0.6 & 0.27 & 1.0 & 5.90961e-5 & 2.19936e-6 & 2.19936e-6 & -0.000100987 & false & 0.0 \\\\\n",
       "\t93 & 461 & 1.0 & 93 & 0.02 & 0.02 & 0.0 & 0.003 & 0.5 & 0.275 & 0.15 & 1.0 & 2.20537 & 26.5498 & 34.1856 & 28.2197 & 28.2928 & -0.00018474 & 2.70719e-5 & 0.000639026 & 26.5498 & 26.5496 & 61.3654 & 61.3736 & 87.9232 & 30.1963 & -16.4421 & 100.0 & 0.08 & 0.6 & 0.27 & 1.0 & 0.00018474 & -6.95824e-6 & 6.95824e-6 & 2.70719e-5 & false & 0.0 \\\\\n",
       "\t94 & 466 & 1.0 & 94 & 0.02 & 0.02 & 0.0 & 0.004 & 0.5 & 0.275 & 0.15 & 1.0 & 2.19802 & 26.1473 & 33.7677 & 27.9095 & 27.9393 & -0.000209562 & 0.000120327 & 0.000637007 & 26.1473 & 26.1471 & 61.5116 & 61.5187 & 87.6658 & 29.8259 & -16.701 & 100.0 & 0.08 & 0.6 & 0.27 & 1.0 & 0.000209562 & -8.01469e-6 & 8.01469e-6 & 0.000120327 & false & 0.0 \\\\\n",
       "\t95 & 471 & 1.0 & 95 & 0.02 & 0.02 & 0.0 & 0.005 & 0.5 & 0.275 & 0.15 & 1.0 & 2.09721 & 24.6616 & 31.9457 & 26.4353 & 26.4232 & -0.000425365 & 0.000386206 & 0.000612926 & 24.6616 & 24.6612 & 62.7726 & 62.7485 & 87.4097 & 28.2134 & -16.7116 & 100.0 & 0.08 & 0.6 & 0.27 & 1.0 & 0.000425365 & -1.7248e-5 & 1.7248e-5 & 0.000386206 & false & 0.0 \\\\\n",
       "\t96 & 476 & 1.0 & 96 & 0.02 & 0.02 & 0.0 & 0.001 & 0.75 & 0.275 & 0.15 & 1.0 & 2.18857 & 26.9628 & 35.271 & 28.4135 & 28.5764 & 0.000157739 & 0.000188947 & 0.0006307 & 26.9628 & 26.963 & 59.145 & 59.1517 & 86.1146 & 31.3105 & -19.0114 & 100.0 & 0.08 & 0.6 & 0.27 & 1.0 & 0.000157739 & 5.85025e-6 & 5.85025e-6 & 0.000188947 & false & 0.0 \\\\\n",
       "\t97 & 481 & 1.0 & 97 & 0.02 & 0.02 & 0.0 & 0.0025 & 0.75 & 0.275 & 0.15 & 1.0 & 2.16232 & 26.1566 & 34.3611 & 27.7404 & 27.8351 & 0.000128084 & 0.000127746 & 0.000590968 & 26.1566 & 26.1568 & 59.6089 & 59.6093 & 85.7661 & 30.4978 & -19.2758 & 100.0 & 0.08 & 0.6 & 0.27 & 1.0 & 0.000128084 & 4.8968e-6 & 4.8968e-6 & 0.000127746 & false & 0.0 \\\\\n",
       "\t98 & 486 & 1.0 & 98 & 0.02 & 0.02 & 0.0 & 0.003 & 0.75 & 0.275 & 0.15 & 1.0 & 2.15392 & 25.902 & 34.074 & 27.5289 & 27.6016 & -1.76109e-5 & 0.000196979 & 0.000591268 & 25.902 & 25.902 & 59.7485 & 59.7474 & 85.6494 & 30.2419 & -19.3671 & 100.0 & 0.08 & 0.6 & 0.27 & 1.0 & 1.76109e-5 & -6.79906e-7 & 6.79906e-7 & 0.000196979 & false & 0.0 \\\\\n",
       "\t99 & 491 & 1.0 & 99 & 0.02 & 0.02 & 0.0 & 0.004 & 0.75 & 0.275 & 0.15 & 1.0 & 2.13186 & 25.333 & 33.4178 & 27.0382 & 27.0684 & -4.48264e-5 & -9.7854e-5 & 0.000545584 & 25.333 & 25.333 & 60.0897 & 60.0985 & 85.4315 & 29.653 & -19.5113 & 100.0 & 0.08 & 0.6 & 0.27 & 1.0 & 4.48264e-5 & -1.76948e-6 & 1.76948e-6 & -9.7854e-5 & false & 0.0 \\\\\n",
       "\t100 & 496 & 1.0 & 100 & 0.02 & 0.02 & 0.0 & 0.005 & 0.75 & 0.275 & 0.15 & 1.0 & 2.09721 & 24.6324 & 32.5856 & 26.4015 & 26.391 & -0.000176946 & -7.32603e-5 & 0.000516697 & 24.6324 & 24.6322 & 60.5755 & 60.581 & 85.2132 & 28.9066 & -19.6196 & 100.0 & 0.08 & 0.6 & 0.27 & 1.0 & 0.000176946 & -7.18347e-6 & 7.18347e-6 & -7.32603e-5 & false & 0.0 \\\\\n",
       "\t101 & 501 & 1.0 & 101 & 0.02 & 0.02 & 0.0 & 0.001 & 0.1 & 0.3 & 0.15 & 1.0 & 3.18302 & 39.2919 & 45.6627 & 41.4121 & 41.2867 & -1.62938e-5 & 0.000237638 & 0.00165445 & 39.2919 & 39.2919 & 60.0485 & 60.0635 & 99.3554 & 39.5468 & -1.06185 & 100.0 & 0.08 & 0.6 & 0.27 & 1.0 & 1.62938e-5 & -4.14685e-7 & 4.14685e-7 & 0.000237638 & false & 0.0 \\\\\n",
       "\t102 & 506 & 1.0 & 102 & 0.02 & 0.02 & 0.0 & 0.0025 & 0.1 & 0.3 & 0.15 & 1.0 & 3.08956 & 37.4457 & 43.7743 & 39.7188 & 39.4973 & -9.01171e-6 & 0.000159296 & 0.00154857 & 37.4457 & 37.4457 & 61.2715 & 61.2782 & 98.7239 & 37.9297 & -2.03997 & 100.0 & 0.08 & 0.6 & 0.27 & 1.0 & 9.01171e-6 & -2.40661e-7 & 2.40661e-7 & 0.000159296 & false & 0.0 \\\\\n",
       "\t103 & 511 & 1.0 & 103 & 0.02 & 0.02 & 0.0 & 0.003 & 0.1 & 0.3 & 0.15 & 1.0 & 3.07696 & 37.0684 & 43.4153 & 39.4019 & 39.149 & -7.28114e-6 & -0.000437452 & 0.00149487 & 37.0684 & 37.0684 & 61.4755 & 61.4425 & 98.5109 & 37.6287 & -2.36619 & 100.0 & 0.08 & 0.6 & 0.27 & 1.0 & 7.28114e-6 & -1.96424e-7 & 1.96424e-7 & -0.000437452 & false & 0.0 \\\\\n",
       "\t104 & 516 & 1.0 & 104 & 0.02 & 0.02 & 0.0 & 0.004 & 0.1 & 0.3 & 0.15 & 1.0 & 2.94149 & 35.015 & 41.1731 & 37.3767 & 37.0742 & -8.97434e-7 & -0.000294809 & 0.00141728 & 35.015 & 35.015 & 63.1011 & 63.0739 & 98.0888 & 35.6972 & -2.94093 & 100.0 & 0.08 & 0.6 & 0.27 & 1.0 & 8.97434e-7 & -2.563e-8 & 2.563e-8 & -0.000294809 & false & 0.0 \\\\\n",
       "\t105 & 521 & 1.0 & 105 & 0.02 & 0.02 & 0.0 & 0.005 & 0.1 & 0.3 & 0.15 & 1.0 & 1.77378 & 20.8682 & 24.6321 & 22.3698 & 22.1514 & -7.84505e-6 & -0.000574694 & 0.000812696 & 20.8682 & 20.8682 & 76.6894 & 76.5472 & 97.4154 & 21.4218 & -3.26624 & 100.0 & 0.08 & 0.6 & 0.27 & 1.0 & 7.84505e-6 & -3.75934e-7 & 3.75934e-7 & -0.000574694 & false & 0.0 \\\\\n",
       "\t106 & 526 & 1.0 & 106 & 0.02 & 0.02 & 0.0 & 0.001 & 0.2 & 0.3 & 0.15 & 1.0 & 2.42379 & 29.9173 & 36.8203 & 31.5314 & 31.4361 & -1.50035e-5 & -1.51265e-6 & 0.00106407 & 29.9173 & 29.9173 & 62.3328 & 62.2999 & 92.2172 & 32.4422 & -11.1051 & 100.0 & 0.08 & 0.6 & 0.27 & 1.0 & 1.50035e-5 & -5.01498e-7 & 5.01498e-7 & -1.51265e-6 & false & 0.0 \\\\\n",
       "\t107 & 531 & 1.0 & 107 & 0.02 & 0.02 & 0.0 & 0.0025 & 0.2 & 0.3 & 0.15 & 1.0 & 1.64251 & 19.9094 & 24.6324 & 21.1181 & 21.0002 & -4.75667e-6 & 6.46095e-5 & 0.000683237 & 19.9094 & 19.9094 & 72.01 & 71.8614 & 91.7707 & 21.6947 & -10.2749 & 100.0 & 0.08 & 0.6 & 0.27 & 1.0 & 4.75667e-6 & -2.38916e-7 & 2.38916e-7 & 6.46095e-5 & false & 0.0 \\\\\n",
       "\t108 & 536 & 1.0 & 108 & 0.02 & 0.02 & 0.0 & 0.003 & 0.2 & 0.3 & 0.15 & 1.0 & 1.63096 & 19.6503 & 24.354 & 20.8875 & 20.7533 & -5.50041e-6 & 6.31303e-5 & 0.000678255 & 19.6503 & 19.6503 & 72.1139 & 71.9689 & 91.6192 & 21.4478 & -10.4304 & 100.0 & 0.08 & 0.6 & 0.27 & 1.0 & 5.50041e-6 & -2.79915e-7 & 2.79915e-7 & 6.31303e-5 & false & 0.0 \\\\\n",
       "\t109 & 541 & 1.0 & 109 & 0.02 & 0.02 & 0.0 & 0.004 & 0.2 & 0.3 & 0.15 & 1.0 & 1.64041 & 19.5292 & 24.2879 & 20.8466 & 20.6777 & -1.77377e-5 & 6.74294e-5 & 0.000671276 & 19.5292 & 19.5292 & 71.9676 & 71.8379 & 91.3671 & 21.3744 & -10.728 & 100.0 & 0.08 & 0.6 & 0.27 & 1.0 & 1.77377e-5 & -9.08267e-7 & 9.08267e-7 & 6.74294e-5 & false & 0.0 \\\\\n",
       "\t110 & 546 & 1.0 & 110 & 0.02 & 0.02 & 0.0 & 0.005 & 0.2 & 0.3 & 0.15 & 1.0 & 1.60891 & 18.9287 & 23.6227 & 20.2907 & 20.0927 & -1.22039e-5 & 6.36404e-5 & 0.000635349 & 18.9287 & 18.9286 & 72.42 & 72.2826 & 91.2112 & 20.7525 & -10.8408 & 100.0 & 0.08 & 0.6 & 0.27 & 1.0 & 1.22039e-5 & -6.4473e-7 & 6.4473e-7 & 6.36404e-5 & false & 0.0 \\\\\n",
       "\t111 & 551 & 1.0 & 111 & 0.02 & 0.02 & 0.0 & 0.001 & 0.3 & 0.3 & 0.15 & 1.0 & 1.97855 & 24.4176 & 31.0438 & 25.7347 & 25.6571 & 4.047e-5 & -4.40271e-5 & 0.000746134 & 24.4176 & 24.4177 & 64.0561 & 64.0651 & 88.4828 & 27.596 & -15.238 & 100.0 & 0.08 & 0.6 & 0.27 & 1.0 & 4.047e-5 & 1.65741e-6 & 1.65741e-6 & -4.40271e-5 & false & 0.0 \\\\\n",
       "\t112 & 556 & 1.0 & 112 & 0.02 & 0.02 & 0.0 & 0.0025 & 0.3 & 0.3 & 0.15 & 1.0 & 1.67087 & 20.2516 & 25.8724 & 21.481 & 21.3612 & 5.40509e-5 & 0.000229953 & 0.000617403 & 20.2516 & 20.2516 & 67.9342 & 67.8491 & 88.1007 & 22.9869 & -14.9211 & 100.0 & 0.08 & 0.6 & 0.27 & 1.0 & 5.40509e-5 & 2.66897e-6 & 2.66897e-6 & 0.000229953 & false & 0.0 \\\\\n",
       "\t113 & 561 & 1.0 & 113 & 0.02 & 0.02 & 0.0 & 0.003 & 0.3 & 0.3 & 0.15 & 1.0 & 1.66142 & 20.0158 & 25.6112 & 21.2759 & 21.1393 & 4.89814e-5 & 0.000217139 & 0.000612807 & 20.0158 & 20.0159 & 68.0343 & 67.9535 & 87.9694 & 22.7532 & -15.0412 & 100.0 & 0.08 & 0.6 & 0.27 & 1.0 & 4.89814e-5 & 2.44713e-6 & 2.44713e-6 & 0.000217139 & false & 0.0 \\\\\n",
       "\t114 & 566 & 1.0 & 114 & 0.02 & 0.02 & 0.0 & 0.004 & 0.3 & 0.3 & 0.15 & 1.0 & 1.66562 & 19.8283 & 25.4514 & 21.1658 & 20.9944 & 2.10437e-5 & 0.000236034 & 0.000606983 & 19.8283 & 19.8283 & 67.9811 & 67.9053 & 87.7336 & 22.6006 & -15.3002 & 100.0 & 0.08 & 0.6 & 0.27 & 1.0 & 2.10437e-5 & 1.0613e-6 & 1.0613e-6 & 0.000236034 & false & 0.0 \\\\\n",
       "\t115 & 571 & 1.0 & 115 & 0.02 & 0.02 & 0.0 & 0.005 & 0.3 & 0.3 & 0.15 & 1.0 & 1.62046 & 19.064 & 24.5484 & 20.4358 & 20.2363 & 1.0138e-5 & 0.000270779 & 0.000575156 & 19.064 & 19.064 & 68.5922 & 68.4937 & 87.5577 & 21.7731 & -15.373 & 100.0 & 0.08 & 0.6 & 0.27 & 1.0 & 1.0138e-5 & 5.31787e-7 & 5.31787e-7 & 0.000270779 & false & 0.0 \\\\\n",
       "\t116 & 576 & 1.0 & 116 & 0.02 & 0.02 & 0.0 & 0.001 & 0.5 & 0.3 & 0.15 & 1.0 & 1.94284 & 23.966 & 31.5778 & 25.2578 & 25.1823 & -6.8832e-5 & 6.61739e-5 & 0.000649624 & 23.966 & 23.9659 & 60.6319 & 60.624 & 84.5899 & 28.3319 & -20.2673 & 100.0 & 0.08 & 0.6 & 0.27 & 1.0 & 6.8832e-5 & -2.87207e-6 & 2.87207e-6 & 6.61739e-5 & false & 0.0 \\\\\n",
       "\t117 & 581 & 1.0 & 117 & 0.02 & 0.02 & 0.0 & 0.0025 & 0.5 & 0.3 & 0.15 & 1.0 & 1.80843 & 21.9065 & 28.9893 & 23.2354 & 23.1064 & 0.000556898 & 0.000284707 & 0.000592112 & 21.9065 & 21.9071 & 62.3781 & 62.3352 & 84.2423 & 26.0048 & -20.1782 & 100.0 & 0.08 & 0.6 & 0.27 & 1.0 & 0.000556898 & 2.54216e-5 & 2.54216e-5 & 0.000284707 & false & 0.0 \\\\\n",
       "\t118 & 586 & 1.0 & 118 & 0.02 & 0.02 & 0.0 & 0.003 & 0.5 & 0.3 & 0.15 & 1.0 & 1.80213 & 21.6993 & 28.7545 & 23.0644 & 22.9169 & 0.000530908 & 0.000196516 & 0.000584573 & 21.6993 & 21.6998 & 62.4749 & 62.4339 & 84.1337 & 25.792 & -20.2634 & 100.0 & 0.08 & 0.6 & 0.27 & 1.0 & 0.000530908 & 2.44666e-5 & 2.44666e-5 & 0.000196516 & false & 0.0 \\\\\n",
       "\t119 & 591 & 1.0 & 119 & 0.02 & 0.02 & 0.0 & 0.004 & 0.5 & 0.3 & 0.15 & 1.0 & 1.79058 & 21.3043 & 28.3111 & 22.7404 & 22.5569 & 0.000496627 & -7.41836e-5 & 0.00054272 & 21.3043 & 21.3048 & 62.6602 & 62.6403 & 83.9451 & 25.3794 & -20.4014 & 100.0 & 0.08 & 0.6 & 0.27 & 1.0 & 0.000496627 & 2.33112e-5 & 2.33112e-5 & -7.41836e-5 & false & 0.0 \\\\\n",
       "\t120 & 596 & 1.0 & 120 & 0.02 & 0.02 & 0.0 & 0.005 & 0.5 & 0.3 & 0.15 & 1.0 & 1.71497 & 20.168 & 26.8785 & 21.6186 & 21.408 & 0.000335289 & 0.000237505 & 0.000524715 & 20.168 & 20.1684 & 63.6157 & 63.564 & 83.7324 & 24.0867 & -20.3774 & 100.0 & 0.08 & 0.6 & 0.27 & 1.0 & 0.000335289 & 1.66248e-5 & 1.66248e-5 & 0.000237505 & false & 0.0 \\\\\n",
       "\t121 & 601 & 1.0 & 121 & 0.02 & 0.02 & 0.0 & 0.001 & 0.75 & 0.3 & 0.15 & 1.0 & 1.88824 & 23.2755 & 31.3874 & 24.5288 & 24.4563 & -0.000259172 & -7.64214e-5 & 0.00055257 & 23.2755 & 23.2752 & 58.9654 & 58.9632 & 82.2385 & 28.3021 & -23.1497 & 100.0 & 0.08 & 0.6 & 0.27 & 1.0 & 0.000259172 & -1.1135e-5 & 1.1135e-5 & -7.64214e-5 & false & 0.0 \\\\\n",
       "\t122 & 606 & 1.0 & 122 & 0.02 & 0.02 & 0.0 & 0.0025 & 0.75 & 0.3 & 0.15 & 1.0 & 1.84518 & 22.3321 & 30.2352 & 23.6853 & 23.5549 & -0.000152403 & 3.12876e-5 & 0.00052492 & 22.3321 & 22.332 & 59.6188 & 59.6091 & 81.9411 & 27.2537 & -23.2514 & 100.0 & 0.08 & 0.6 & 0.27 & 1.0 & 0.000152403 & -6.82439e-6 & 6.82439e-6 & 3.12876e-5 & false & 0.0 \\\\\n",
       "\t123 & 611 & 1.0 & 123 & 0.02 & 0.02 & 0.0 & 0.003 & 0.75 & 0.3 & 0.15 & 1.0 & 1.83888 & 22.1229 & 29.9895 & 23.5132 & 23.3639 & 0.00130452 & -9.0982e-5 & 0.000516214 & 22.1229 & 22.1242 & 59.7336 & 59.7246 & 81.8488 & 27.0306 & -23.3079 & 100.0 & 0.08 & 0.6 & 0.27 & 1.0 & 0.00130452 & 5.8967e-5 & 5.8967e-5 & -9.0982e-5 & false & 0.0 \\\\\n",
       "\t124 & 616 & 1.0 & 124 & 0.02 & 0.02 & 0.0 & 0.004 & 0.75 & 0.3 & 0.15 & 1.0 & 1.82103 & 21.6488 & 29.4238 & 23.1067 & 22.9213 & 0.00123185 & 0.00015403 & 0.000521205 & 21.6488 & 21.65 & 60.0174 & 60.0037 & 81.6537 & 26.5144 & -23.4158 & 100.0 & 0.08 & 0.6 & 0.27 & 1.0 & 0.00123185 & 5.69015e-5 & 5.69015e-5 & 0.00015403 & false & 0.0 \\\\\n",
       "\t125 & 621 & 1.0 & 125 & 0.02 & 0.02 & 0.0 & 0.005 & 0.75 & 0.3 & 0.15 & 1.0 & 1.77693 & 20.8803 & 28.4553 & 22.3807 & 22.1637 & 0.00102303 & 0.000313032 & 0.000500049 & 20.8803 & 20.8813 & 60.6036 & 60.5818 & 81.4631 & 25.6328 & -23.4293 & 100.0 & 0.08 & 0.6 & 0.27 & 1.0 & 0.00102303 & 4.8995e-5 & 4.8995e-5 & 0.000313032 & false & 0.0 \\\\\n",
       "\t126 & 626 & 1.0 & 126 & 0.02 & 0.02 & 0.0 & 0.001 & 0.1 & 0.35 & 0.15 & 1.0 & 1.24557 & 15.3774 & 18.5036 & 16.2073 & 15.8073 & 2.26072e-6 & 0.000125641 & 0.000805446 & 15.3774 & 15.3774 & 78.0222 & 77.9711 & 93.3485 & 16.4731 & -7.86019 & 100.0 & 0.08 & 0.6 & 0.27 & 1.0 & 2.26072e-6 & 1.47016e-7 & 1.47016e-7 & 0.000125641 & false & 0.0 \\\\\n",
       "\t127 & 631 & 1.0 & 127 & 0.02 & 0.02 & 0.0 & 0.0025 & 0.1 & 0.35 & 0.15 & 1.0 & 1.22457 & 14.8432 & 17.9643 & 15.7444 & 15.3102 & 3.07134e-6 & 0.000403311 & 0.000769346 & 14.8432 & 14.8432 & 78.2092 & 78.2363 & 93.0795 & 15.9468 & -8.12674 & 100.0 & 0.08 & 0.6 & 0.27 & 1.0 & 3.07134e-6 & 2.06919e-7 & 2.06919e-7 & 0.000403311 & false & 0.0 \\\\\n",
       "\t128 & 636 & 1.0 & 128 & 0.02 & 0.02 & 0.0 & 0.003 & 0.1 & 0.35 & 0.15 & 1.0 & 1.18992 & 14.3363 & 17.3845 & 15.2389 & 14.8041 & 2.47039e-6 & 0.000777605 & 0.00074515 & 14.3363 & 14.3363 & 78.5863 & 78.7191 & 93.0554 & 15.4062 & -8.10682 & 100.0 & 0.08 & 0.6 & 0.27 & 1.0 & 2.47039e-6 & 1.72317e-7 & 1.72317e-7 & 0.000777605 & false & 0.0 \\\\\n",
       "\t129 & 641 & 1.0 & 129 & 0.02 & 0.02 & 0.0 & 0.004 & 0.1 & 0.35 & 0.15 & 1.0 & 1.21197 & 14.4282 & 17.5626 & 15.4014 & 14.9327 & 2.69855e-6 & 0.000796629 & 0.000740613 & 14.4282 & 14.4282 & 78.2884 & 78.428 & 92.8561 & 15.5382 & -8.34837 & 100.0 & 0.08 & 0.6 & 0.27 & 1.0 & 2.69855e-6 & 1.87034e-7 & 1.87034e-7 & 0.000796629 & false & 0.0 \\\\\n",
       "\t130 & 646 & 1.0 & 130 & 0.02 & 0.02 & 0.0 & 0.005 & 0.1 & 0.35 & 0.15 & 1.0 & 1.23927 & 14.5796 & 17.8141 & 15.6287 & 15.1236 & 2.75612e-6 & 0.000800068 & 0.000736547 & 14.5796 & 14.5796 & 77.939 & 78.0853 & 92.665 & 15.7337 & -8.58697 & 100.0 & 0.08 & 0.6 & 0.27 & 1.0 & 2.75612e-6 & 1.89039e-7 & 1.89039e-7 & 0.000800068 & false & 0.0 \\\\\n",
       "\t131 & 651 & 1.0 & 131 & 0.02 & 0.02 & 0.0 & 0.001 & 0.2 & 0.35 & 0.15 & 1.0 & 1.15422 & 14.2499 & 18.3068 & 15.019 & 14.6483 & -1.34241e-5 & -0.0001871 & 0.000579708 & 14.2499 & 14.2499 & 71.7048 & 71.7639 & 86.0138 & 16.567 & -16.3104 & 100.0 & 0.08 & 0.6 & 0.27 & 1.0 & 1.34241e-5 & -9.42047e-7 & 9.42047e-7 & -0.0001871 & false & 0.0 \\\\\n",
       "\t132 & 656 & 1.0 & 132 & 0.02 & 0.02 & 0.0 & 0.0025 & 0.2 & 0.35 & 0.15 & 1.0 & 1.13941 & 13.8113 & 17.8307 & 14.6499 & 14.2459 & -1.03132e-5 & -0.000338485 & 0.000542018 & 13.8113 & 13.8113 & 71.8429 & 72.0227 & 85.834 & 16.0907 & -16.436 & 100.0 & 0.08 & 0.6 & 0.27 & 1.0 & 1.03132e-5 & -7.46723e-7 & 7.46723e-7 & -0.000338485 & false & 0.0 \\\\\n",
       "\t133 & 661 & 1.0 & 133 & 0.02 & 0.02 & 0.0 & 0.003 & 0.2 & 0.35 & 0.15 & 1.0 & 1.11756 & 13.4648 & 17.4116 & 14.3126 & 13.9042 & -8.09348e-6 & -0.000292818 & 0.00053687 & 13.4648 & 13.4648 & 72.084 & 72.2351 & 85.6999 & 15.7116 & -16.5252 & 100.0 & 0.08 & 0.6 & 0.27 & 1.0 & 8.09348e-6 & -6.01084e-7 & 6.01084e-7 & -0.000292818 & false & 0.0 \\\\\n",
       "\t134 & 666 & 1.0 & 134 & 0.02 & 0.02 & 0.0 & 0.004 & 0.2 & 0.35 & 0.15 & 1.0 & 1.12691 & 13.4159 & 17.4051 & 14.3209 & 13.885 & -9.69921e-6 & -0.000271247 & 0.000531774 & 13.4159 & 13.4159 & 71.9465 & 72.0953 & 85.5112 & 15.689 & -16.7338 & 100.0 & 0.08 & 0.6 & 0.27 & 1.0 & 9.69921e-6 & -7.22966e-7 & 7.22966e-7 & -0.000271247 & false & 0.0 \\\\\n",
       "\t135 & 671 & 1.0 & 135 & 0.02 & 0.02 & 0.0 & 0.005 & 0.2 & 0.35 & 0.15 & 1.0 & 1.13951 & 13.4061 & 17.4492 & 14.3707 & 13.9063 & -1.91725e-6 & -0.000257112 & 0.000526925 & 13.4061 & 13.4061 & 71.7745 & 71.9217 & 85.3278 & 15.7113 & -16.9437 & 100.0 & 0.08 & 0.6 & 0.27 & 1.0 & 1.91725e-6 & -1.43013e-7 & 1.43013e-7 & -0.000257112 & false & 0.0 \\\\\n",
       "\t136 & 676 & 1.0 & 136 & 0.02 & 0.02 & 0.0 & 0.001 & 0.3 & 0.35 & 0.15 & 1.0 & 1.29283 & 15.962 & 21.2413 & 16.8235 & 16.4082 & -4.55605e-5 & 0.00012418 & 0.000588659 & 15.962 & 15.962 & 66.0275 & 65.9666 & 81.9285 & 19.4828 & -21.5039 & 100.0 & 0.08 & 0.6 & 0.27 & 1.0 & 4.55605e-5 & -2.85431e-6 & 2.85431e-6 & 0.00012418 & false & 0.0 \\\\\n",
       "\t137 & 681 & 1.0 & 137 & 0.02 & 0.02 & 0.0 & 0.0025 & 0.3 & 0.35 & 0.15 & 1.0 & 1.24557 & 15.0989 & 20.1814 & 16.0157 & 15.574 & -4.21582e-5 & -0.000325425 & 0.000516458 & 15.0989 & 15.0989 & 66.6149 & 66.6359 & 81.7348 & 18.473 & -21.5135 & 100.0 & 0.08 & 0.6 & 0.27 & 1.0 & 4.21582e-5 & -2.79213e-6 & 2.79213e-6 & -0.000325425 & false & 0.0 \\\\\n",
       "\t138 & 686 & 1.0 & 138 & 0.02 & 0.02 & 0.0 & 0.003 & 0.3 & 0.35 & 0.15 & 1.0 & 1.21827 & 14.6789 & 19.6485 & 15.6032 & 15.1579 & -3.88132e-5 & -0.000185914 & 0.000514995 & 14.6789 & 14.6789 & 66.9385 & 66.9356 & 81.6145 & 17.9857 & -21.5486 & 100.0 & 0.08 & 0.6 & 0.27 & 1.0 & 3.88132e-5 & -2.64414e-6 & 2.64414e-6 & -0.000185914 & false & 0.0 \\\\\n",
       "\t139 & 691 & 1.0 & 139 & 0.02 & 0.02 & 0.0 & 0.004 & 0.3 & 0.35 & 0.15 & 1.0 & 1.21092 & 14.4166 & 19.3542 & 15.3892 & 14.9208 & -3.73773e-5 & -0.000437447 & 0.000481114 & 14.4166 & 14.4166 & 67.0319 & 67.0965 & 81.5131 & 17.6862 & -21.601 & 100.0 & 0.08 & 0.6 & 0.27 & 1.0 & 3.73773e-5 & -2.59265e-6 & 2.59265e-6 & -0.000437447 & false & 0.0 \\\\\n",
       "\t140 & 696 & 1.0 & 140 & 0.02 & 0.02 & 0.0 & 0.005 & 0.3 & 0.35 & 0.15 & 1.0 & 1.20567 & 14.1851 & 19.0992 & 15.2059 & 14.7144 & -3.09394e-5 & -0.000304663 & 0.000478941 & 14.1851 & 14.1851 & 67.0987 & 67.1423 & 81.3274 & 17.4419 & -21.7592 & 100.0 & 0.08 & 0.6 & 0.27 & 1.0 & 3.09394e-5 & -2.18112e-6 & 2.18112e-6 & -0.000304663 & false & 0.0 \\\\\n",
       "\t141 & 701 & 1.0 & 141 & 0.02 & 0.02 & 0.0 & 0.001 & 0.5 & 0.35 & 0.15 & 1.0 & 1.4724 & 18.1784 & 25.1325 & 19.1595 & 18.6866 & -2.72526e-5 & -4.66126e-5 & 0.000542152 & 18.1784 & 18.1784 & 59.9044 & 59.9032 & 78.0817 & 23.2813 & -26.788 & 100.0 & 0.08 & 0.6 & 0.27 & 1.0 & 2.72526e-5 & -1.49917e-6 & 1.49917e-6 & -4.66126e-5 & false & 0.0 \\\\\n",
       "\t142 & 706 & 1.0 & 142 & 0.02 & 0.02 & 0.0 & 0.0025 & 0.5 & 0.35 & 0.15 & 1.0 & 1.44504 & 17.583 & 24.4475 & 18.6558 & 18.1372 & -0.00270021 & 0.00700597 & 0.000822105 & 17.5817 & 17.5803 & 60.1538 & 60.1115 & 77.6918 & 22.6282 & -27.0666 & 100.0 & 0.08 & 0.6 & 0.27 & 1.0 & 0.00270021 & -0.000153569 & 0.000153569 & 0.00700597 & false & 0.0 \\\\\n",
       "\t143 & 711 & 1.0 & 143 & 0.02 & 0.02 & 0.0 & 0.003 & 0.5 & 0.35 & 0.15 & 1.0 & 1.40414 & 16.9194 & 23.5125 & 17.9849 & 17.4716 & -8.45501e-5 & 6.76475e-5 & 0.000508556 & 16.9194 & 16.9194 & 60.8313 & 60.8219 & 77.7412 & 21.7637 & -26.7918 & 100.0 & 0.08 & 0.6 & 0.27 & 1.0 & 8.45501e-5 & -4.99722e-6 & 4.99722e-6 & 6.76475e-5 & false & 0.0 \\\\\n",
       "\t144 & 716 & 1.0 & 144 & 0.02 & 0.02 & 0.0 & 0.004 & 0.5 & 0.35 & 0.15 & 1.0 & 1.36949 & 16.3049 & 22.7179 & 17.4049 & 16.8752 & -6.24537e-5 & 0.000157311 & 0.000485224 & 16.3049 & 16.3049 & 61.2888 & 61.2777 & 77.5825 & 21.0162 & -26.7847 & 100.0 & 0.08 & 0.6 & 0.27 & 1.0 & 6.24537e-5 & -3.83036e-6 & 3.83036e-6 & 0.000157311 & false & 0.0 \\\\\n",
       "\t145 & 721 & 1.0 & 145 & 0.02 & 0.02 & 0.0 & 0.005 & 0.5 & 0.35 & 0.15 & 1.0 & 1.33588 & 15.719 & 21.9579 & 16.8503 & 16.3055 & -0.00011335 & 6.37808e-5 & 0.000455732 & 15.719 & 15.7189 & 61.7223 & 61.716 & 77.4349 & 20.2995 & -26.7736 & 100.0 & 0.08 & 0.6 & 0.27 & 1.0 & 0.00011335 & -7.21098e-6 & 7.21098e-6 & 6.37808e-5 & false & 0.0 \\\\\n",
       "\t146 & 726 & 1.0 & 146 & 0.02 & 0.02 & 0.0 & 0.001 & 0.75 & 0.35 & 0.15 & 1.0 & 1.33063 & 16.421 & 23.2963 & 17.3068 & 16.88 & 0.000257051 & 0.004293 & 0.000612146 & 16.4217 & 16.4213 & 59.2644 & 59.2294 & 75.6507 & 21.7068 & -29.1334 & 100.0 & 0.08 & 0.6 & 0.27 & 1.0 & 0.000257051 & 1.56538e-5 & 1.56538e-5 & 0.004293 & false & 0.0 \\\\\n",
       "\t147 & 731 & 1.0 & 147 & 0.02 & 0.02 & 0.0 & 0.0025 & 0.75 & 0.35 & 0.15 & 1.0 & 1.39364 & 16.8972 & 24.0285 & 17.9234 & 17.4289 & -0.000185336 & 0.000128371 & 0.000450248 & 16.8972 & 16.897 & 58.6345 & 58.631 & 75.528 & 22.3719 & -29.4478 & 100.0 & 0.08 & 0.6 & 0.27 & 1.0 & 0.000185336 & -1.09684e-5 & 1.09684e-5 & 0.000128371 & false & 0.0 \\\\\n",
       "\t148 & 736 & 1.0 & 148 & 0.02 & 0.02 & 0.0 & 0.003 & 0.75 & 0.35 & 0.15 & 1.0 & 1.26553 & 15.2866 & 21.7831 & 16.2522 & 15.7861 & -0.00158838 & 0.00304393 & 0.000505132 & 15.2853 & 15.2851 & 60.1114 & 60.0936 & 75.3786 & 20.2777 & -29.0638 & 100.0 & 0.08 & 0.6 & 0.27 & 1.0 & 0.00158838 & -0.000103906 & 0.000103906 & 0.00304393 & false & 0.0 \\\\\n",
       "\t149 & 741 & 1.0 & 149 & 0.02 & 0.02 & 0.0 & 0.004 & 0.75 & 0.35 & 0.15 & 1.0 & 1.25398 & 14.9431 & 21.343 & 15.9523 & 15.4659 & -0.000606379 & 0.00312111 & 0.000500913 & 14.9428 & 14.9425 & 60.3257 & 60.304 & 75.2465 & 19.8581 & -29.1021 & 100.0 & 0.08 & 0.6 & 0.27 & 1.0 & 0.000606379 & -4.05792e-5 & 4.05792e-5 & 0.00312111 & false & 0.0 \\\\\n",
       "\t150 & 746 & 1.0 & 150 & 0.02 & 0.02 & 0.0 & 0.005 & 0.75 & 0.35 & 0.15 & 1.0 & 1.23727 & 14.554 & 20.834 & 15.6011 & 15.097 & 8.95455e-5 & 0.00261802 & 0.000459174 & 14.5543 & 14.5541 & 60.5916 & 60.5754 & 75.1295 & 19.372 & -29.1068 & 100.0 & 0.08 & 0.6 & 0.27 & 1.0 & 8.95455e-5 & 6.15264e-6 & 6.15264e-6 & 0.00261802 & false & 0.0 \\\\\n",
       "\\end{tabular}\n"
      ],
      "text/plain": [
       "150×37 DataFrame. Omitted printing of 31 columns\n",
       "│ Row │ comb_num │ m       │ m_comb_num │ gross_delta │ delta   │ iota    │\n",
       "│     │ \u001b[90mInt64\u001b[39m    │ \u001b[90mFloat64\u001b[39m │ \u001b[90mInt64\u001b[39m      │ \u001b[90mFloat64\u001b[39m     │ \u001b[90mFloat64\u001b[39m │ \u001b[90mFloat64\u001b[39m │\n",
       "├─────┼──────────┼─────────┼────────────┼─────────────┼─────────┼─────────┤\n",
       "│ 1   │ 1        │ 1.0     │ 1          │ 0.02        │ 0.02    │ 0.0     │\n",
       "│ 2   │ 6        │ 1.0     │ 2          │ 0.02        │ 0.02    │ 0.0     │\n",
       "│ 3   │ 11       │ 1.0     │ 3          │ 0.02        │ 0.02    │ 0.0     │\n",
       "│ 4   │ 16       │ 1.0     │ 4          │ 0.02        │ 0.02    │ 0.0     │\n",
       "│ 5   │ 21       │ 1.0     │ 5          │ 0.02        │ 0.02    │ 0.0     │\n",
       "│ 6   │ 26       │ 1.0     │ 6          │ 0.02        │ 0.02    │ 0.0     │\n",
       "│ 7   │ 31       │ 1.0     │ 7          │ 0.02        │ 0.02    │ 0.0     │\n",
       "│ 8   │ 36       │ 1.0     │ 8          │ 0.02        │ 0.02    │ 0.0     │\n",
       "│ 9   │ 41       │ 1.0     │ 9          │ 0.02        │ 0.02    │ 0.0     │\n",
       "│ 10  │ 46       │ 1.0     │ 10         │ 0.02        │ 0.02    │ 0.0     │\n",
       "│ 11  │ 51       │ 1.0     │ 11         │ 0.02        │ 0.02    │ 0.0     │\n",
       "│ 12  │ 56       │ 1.0     │ 12         │ 0.02        │ 0.02    │ 0.0     │\n",
       "│ 13  │ 61       │ 1.0     │ 13         │ 0.02        │ 0.02    │ 0.0     │\n",
       "│ 14  │ 66       │ 1.0     │ 14         │ 0.02        │ 0.02    │ 0.0     │\n",
       "│ 15  │ 71       │ 1.0     │ 15         │ 0.02        │ 0.02    │ 0.0     │\n",
       "│ 16  │ 76       │ 1.0     │ 16         │ 0.02        │ 0.02    │ 0.0     │\n",
       "│ 17  │ 81       │ 1.0     │ 17         │ 0.02        │ 0.02    │ 0.0     │\n",
       "│ 18  │ 86       │ 1.0     │ 18         │ 0.02        │ 0.02    │ 0.0     │\n",
       "│ 19  │ 91       │ 1.0     │ 19         │ 0.02        │ 0.02    │ 0.0     │\n",
       "│ 20  │ 96       │ 1.0     │ 20         │ 0.02        │ 0.02    │ 0.0     │\n",
       "│ 21  │ 101      │ 1.0     │ 21         │ 0.02        │ 0.02    │ 0.0     │\n",
       "│ 22  │ 106      │ 1.0     │ 22         │ 0.02        │ 0.02    │ 0.0     │\n",
       "│ 23  │ 111      │ 1.0     │ 23         │ 0.02        │ 0.02    │ 0.0     │\n",
       "│ 24  │ 116      │ 1.0     │ 24         │ 0.02        │ 0.02    │ 0.0     │\n",
       "│ 25  │ 121      │ 1.0     │ 25         │ 0.02        │ 0.02    │ 0.0     │\n",
       "│ 26  │ 126      │ 1.0     │ 26         │ 0.02        │ 0.02    │ 0.0     │\n",
       "│ 27  │ 131      │ 1.0     │ 27         │ 0.02        │ 0.02    │ 0.0     │\n",
       "│ 28  │ 136      │ 1.0     │ 28         │ 0.02        │ 0.02    │ 0.0     │\n",
       "│ 29  │ 141      │ 1.0     │ 29         │ 0.02        │ 0.02    │ 0.0     │\n",
       "│ 30  │ 146      │ 1.0     │ 30         │ 0.02        │ 0.02    │ 0.0     │\n",
       "│ 31  │ 151      │ 1.0     │ 31         │ 0.02        │ 0.02    │ 0.0     │\n",
       "│ 32  │ 156      │ 1.0     │ 32         │ 0.02        │ 0.02    │ 0.0     │\n",
       "│ 33  │ 161      │ 1.0     │ 33         │ 0.02        │ 0.02    │ 0.0     │\n",
       "│ 34  │ 166      │ 1.0     │ 34         │ 0.02        │ 0.02    │ 0.0     │\n",
       "│ 35  │ 171      │ 1.0     │ 35         │ 0.02        │ 0.02    │ 0.0     │\n",
       "│ 36  │ 176      │ 1.0     │ 36         │ 0.02        │ 0.02    │ 0.0     │\n",
       "│ 37  │ 181      │ 1.0     │ 37         │ 0.02        │ 0.02    │ 0.0     │\n",
       "│ 38  │ 186      │ 1.0     │ 38         │ 0.02        │ 0.02    │ 0.0     │\n",
       "│ 39  │ 191      │ 1.0     │ 39         │ 0.02        │ 0.02    │ 0.0     │\n",
       "│ 40  │ 196      │ 1.0     │ 40         │ 0.02        │ 0.02    │ 0.0     │\n",
       "│ 41  │ 201      │ 1.0     │ 41         │ 0.02        │ 0.02    │ 0.0     │\n",
       "│ 42  │ 206      │ 1.0     │ 42         │ 0.02        │ 0.02    │ 0.0     │\n",
       "│ 43  │ 211      │ 1.0     │ 43         │ 0.02        │ 0.02    │ 0.0     │\n",
       "│ 44  │ 216      │ 1.0     │ 44         │ 0.02        │ 0.02    │ 0.0     │\n",
       "│ 45  │ 221      │ 1.0     │ 45         │ 0.02        │ 0.02    │ 0.0     │\n",
       "│ 46  │ 226      │ 1.0     │ 46         │ 0.02        │ 0.02    │ 0.0     │\n",
       "│ 47  │ 231      │ 1.0     │ 47         │ 0.02        │ 0.02    │ 0.0     │\n",
       "│ 48  │ 236      │ 1.0     │ 48         │ 0.02        │ 0.02    │ 0.0     │\n",
       "│ 49  │ 241      │ 1.0     │ 49         │ 0.02        │ 0.02    │ 0.0     │\n",
       "│ 50  │ 246      │ 1.0     │ 50         │ 0.02        │ 0.02    │ 0.0     │\n",
       "│ 51  │ 251      │ 1.0     │ 51         │ 0.02        │ 0.02    │ 0.0     │\n",
       "│ 52  │ 256      │ 1.0     │ 52         │ 0.02        │ 0.02    │ 0.0     │\n",
       "│ 53  │ 261      │ 1.0     │ 53         │ 0.02        │ 0.02    │ 0.0     │\n",
       "│ 54  │ 266      │ 1.0     │ 54         │ 0.02        │ 0.02    │ 0.0     │\n",
       "│ 55  │ 271      │ 1.0     │ 55         │ 0.02        │ 0.02    │ 0.0     │\n",
       "│ 56  │ 276      │ 1.0     │ 56         │ 0.02        │ 0.02    │ 0.0     │\n",
       "│ 57  │ 281      │ 1.0     │ 57         │ 0.02        │ 0.02    │ 0.0     │\n",
       "│ 58  │ 286      │ 1.0     │ 58         │ 0.02        │ 0.02    │ 0.0     │\n",
       "│ 59  │ 291      │ 1.0     │ 59         │ 0.02        │ 0.02    │ 0.0     │\n",
       "│ 60  │ 296      │ 1.0     │ 60         │ 0.02        │ 0.02    │ 0.0     │\n",
       "│ 61  │ 301      │ 1.0     │ 61         │ 0.02        │ 0.02    │ 0.0     │\n",
       "│ 62  │ 306      │ 1.0     │ 62         │ 0.02        │ 0.02    │ 0.0     │\n",
       "│ 63  │ 311      │ 1.0     │ 63         │ 0.02        │ 0.02    │ 0.0     │\n",
       "│ 64  │ 316      │ 1.0     │ 64         │ 0.02        │ 0.02    │ 0.0     │\n",
       "│ 65  │ 321      │ 1.0     │ 65         │ 0.02        │ 0.02    │ 0.0     │\n",
       "│ 66  │ 326      │ 1.0     │ 66         │ 0.02        │ 0.02    │ 0.0     │\n",
       "│ 67  │ 331      │ 1.0     │ 67         │ 0.02        │ 0.02    │ 0.0     │\n",
       "│ 68  │ 336      │ 1.0     │ 68         │ 0.02        │ 0.02    │ 0.0     │\n",
       "│ 69  │ 341      │ 1.0     │ 69         │ 0.02        │ 0.02    │ 0.0     │\n",
       "│ 70  │ 346      │ 1.0     │ 70         │ 0.02        │ 0.02    │ 0.0     │\n",
       "│ 71  │ 351      │ 1.0     │ 71         │ 0.02        │ 0.02    │ 0.0     │\n",
       "│ 72  │ 356      │ 1.0     │ 72         │ 0.02        │ 0.02    │ 0.0     │\n",
       "│ 73  │ 361      │ 1.0     │ 73         │ 0.02        │ 0.02    │ 0.0     │\n",
       "│ 74  │ 366      │ 1.0     │ 74         │ 0.02        │ 0.02    │ 0.0     │\n",
       "│ 75  │ 371      │ 1.0     │ 75         │ 0.02        │ 0.02    │ 0.0     │\n",
       "│ 76  │ 376      │ 1.0     │ 76         │ 0.02        │ 0.02    │ 0.0     │\n",
       "│ 77  │ 381      │ 1.0     │ 77         │ 0.02        │ 0.02    │ 0.0     │\n",
       "│ 78  │ 386      │ 1.0     │ 78         │ 0.02        │ 0.02    │ 0.0     │\n",
       "│ 79  │ 391      │ 1.0     │ 79         │ 0.02        │ 0.02    │ 0.0     │\n",
       "│ 80  │ 396      │ 1.0     │ 80         │ 0.02        │ 0.02    │ 0.0     │\n",
       "│ 81  │ 401      │ 1.0     │ 81         │ 0.02        │ 0.02    │ 0.0     │\n",
       "│ 82  │ 406      │ 1.0     │ 82         │ 0.02        │ 0.02    │ 0.0     │\n",
       "│ 83  │ 411      │ 1.0     │ 83         │ 0.02        │ 0.02    │ 0.0     │\n",
       "│ 84  │ 416      │ 1.0     │ 84         │ 0.02        │ 0.02    │ 0.0     │\n",
       "│ 85  │ 421      │ 1.0     │ 85         │ 0.02        │ 0.02    │ 0.0     │\n",
       "│ 86  │ 426      │ 1.0     │ 86         │ 0.02        │ 0.02    │ 0.0     │\n",
       "│ 87  │ 431      │ 1.0     │ 87         │ 0.02        │ 0.02    │ 0.0     │\n",
       "│ 88  │ 436      │ 1.0     │ 88         │ 0.02        │ 0.02    │ 0.0     │\n",
       "│ 89  │ 441      │ 1.0     │ 89         │ 0.02        │ 0.02    │ 0.0     │\n",
       "│ 90  │ 446      │ 1.0     │ 90         │ 0.02        │ 0.02    │ 0.0     │\n",
       "│ 91  │ 451      │ 1.0     │ 91         │ 0.02        │ 0.02    │ 0.0     │\n",
       "│ 92  │ 456      │ 1.0     │ 92         │ 0.02        │ 0.02    │ 0.0     │\n",
       "│ 93  │ 461      │ 1.0     │ 93         │ 0.02        │ 0.02    │ 0.0     │\n",
       "│ 94  │ 466      │ 1.0     │ 94         │ 0.02        │ 0.02    │ 0.0     │\n",
       "│ 95  │ 471      │ 1.0     │ 95         │ 0.02        │ 0.02    │ 0.0     │\n",
       "│ 96  │ 476      │ 1.0     │ 96         │ 0.02        │ 0.02    │ 0.0     │\n",
       "│ 97  │ 481      │ 1.0     │ 97         │ 0.02        │ 0.02    │ 0.0     │\n",
       "│ 98  │ 486      │ 1.0     │ 98         │ 0.02        │ 0.02    │ 0.0     │\n",
       "│ 99  │ 491      │ 1.0     │ 99         │ 0.02        │ 0.02    │ 0.0     │\n",
       "│ 100 │ 496      │ 1.0     │ 100        │ 0.02        │ 0.02    │ 0.0     │\n",
       "│ 101 │ 501      │ 1.0     │ 101        │ 0.02        │ 0.02    │ 0.0     │\n",
       "│ 102 │ 506      │ 1.0     │ 102        │ 0.02        │ 0.02    │ 0.0     │\n",
       "│ 103 │ 511      │ 1.0     │ 103        │ 0.02        │ 0.02    │ 0.0     │\n",
       "│ 104 │ 516      │ 1.0     │ 104        │ 0.02        │ 0.02    │ 0.0     │\n",
       "│ 105 │ 521      │ 1.0     │ 105        │ 0.02        │ 0.02    │ 0.0     │\n",
       "│ 106 │ 526      │ 1.0     │ 106        │ 0.02        │ 0.02    │ 0.0     │\n",
       "│ 107 │ 531      │ 1.0     │ 107        │ 0.02        │ 0.02    │ 0.0     │\n",
       "│ 108 │ 536      │ 1.0     │ 108        │ 0.02        │ 0.02    │ 0.0     │\n",
       "│ 109 │ 541      │ 1.0     │ 109        │ 0.02        │ 0.02    │ 0.0     │\n",
       "│ 110 │ 546      │ 1.0     │ 110        │ 0.02        │ 0.02    │ 0.0     │\n",
       "│ 111 │ 551      │ 1.0     │ 111        │ 0.02        │ 0.02    │ 0.0     │\n",
       "│ 112 │ 556      │ 1.0     │ 112        │ 0.02        │ 0.02    │ 0.0     │\n",
       "│ 113 │ 561      │ 1.0     │ 113        │ 0.02        │ 0.02    │ 0.0     │\n",
       "│ 114 │ 566      │ 1.0     │ 114        │ 0.02        │ 0.02    │ 0.0     │\n",
       "│ 115 │ 571      │ 1.0     │ 115        │ 0.02        │ 0.02    │ 0.0     │\n",
       "│ 116 │ 576      │ 1.0     │ 116        │ 0.02        │ 0.02    │ 0.0     │\n",
       "│ 117 │ 581      │ 1.0     │ 117        │ 0.02        │ 0.02    │ 0.0     │\n",
       "│ 118 │ 586      │ 1.0     │ 118        │ 0.02        │ 0.02    │ 0.0     │\n",
       "│ 119 │ 591      │ 1.0     │ 119        │ 0.02        │ 0.02    │ 0.0     │\n",
       "│ 120 │ 596      │ 1.0     │ 120        │ 0.02        │ 0.02    │ 0.0     │\n",
       "│ 121 │ 601      │ 1.0     │ 121        │ 0.02        │ 0.02    │ 0.0     │\n",
       "│ 122 │ 606      │ 1.0     │ 122        │ 0.02        │ 0.02    │ 0.0     │\n",
       "│ 123 │ 611      │ 1.0     │ 123        │ 0.02        │ 0.02    │ 0.0     │\n",
       "│ 124 │ 616      │ 1.0     │ 124        │ 0.02        │ 0.02    │ 0.0     │\n",
       "│ 125 │ 621      │ 1.0     │ 125        │ 0.02        │ 0.02    │ 0.0     │\n",
       "│ 126 │ 626      │ 1.0     │ 126        │ 0.02        │ 0.02    │ 0.0     │\n",
       "│ 127 │ 631      │ 1.0     │ 127        │ 0.02        │ 0.02    │ 0.0     │\n",
       "│ 128 │ 636      │ 1.0     │ 128        │ 0.02        │ 0.02    │ 0.0     │\n",
       "│ 129 │ 641      │ 1.0     │ 129        │ 0.02        │ 0.02    │ 0.0     │\n",
       "│ 130 │ 646      │ 1.0     │ 130        │ 0.02        │ 0.02    │ 0.0     │\n",
       "│ 131 │ 651      │ 1.0     │ 131        │ 0.02        │ 0.02    │ 0.0     │\n",
       "│ 132 │ 656      │ 1.0     │ 132        │ 0.02        │ 0.02    │ 0.0     │\n",
       "│ 133 │ 661      │ 1.0     │ 133        │ 0.02        │ 0.02    │ 0.0     │\n",
       "│ 134 │ 666      │ 1.0     │ 134        │ 0.02        │ 0.02    │ 0.0     │\n",
       "│ 135 │ 671      │ 1.0     │ 135        │ 0.02        │ 0.02    │ 0.0     │\n",
       "│ 136 │ 676      │ 1.0     │ 136        │ 0.02        │ 0.02    │ 0.0     │\n",
       "│ 137 │ 681      │ 1.0     │ 137        │ 0.02        │ 0.02    │ 0.0     │\n",
       "│ 138 │ 686      │ 1.0     │ 138        │ 0.02        │ 0.02    │ 0.0     │\n",
       "│ 139 │ 691      │ 1.0     │ 139        │ 0.02        │ 0.02    │ 0.0     │\n",
       "│ 140 │ 696      │ 1.0     │ 140        │ 0.02        │ 0.02    │ 0.0     │\n",
       "│ 141 │ 701      │ 1.0     │ 141        │ 0.02        │ 0.02    │ 0.0     │\n",
       "│ 142 │ 706      │ 1.0     │ 142        │ 0.02        │ 0.02    │ 0.0     │\n",
       "│ 143 │ 711      │ 1.0     │ 143        │ 0.02        │ 0.02    │ 0.0     │\n",
       "│ 144 │ 716      │ 1.0     │ 144        │ 0.02        │ 0.02    │ 0.0     │\n",
       "│ 145 │ 721      │ 1.0     │ 145        │ 0.02        │ 0.02    │ 0.0     │\n",
       "│ 146 │ 726      │ 1.0     │ 146        │ 0.02        │ 0.02    │ 0.0     │\n",
       "│ 147 │ 731      │ 1.0     │ 147        │ 0.02        │ 0.02    │ 0.0     │\n",
       "│ 148 │ 736      │ 1.0     │ 148        │ 0.02        │ 0.02    │ 0.0     │\n",
       "│ 149 │ 741      │ 1.0     │ 149        │ 0.02        │ 0.02    │ 0.0     │\n",
       "│ 150 │ 746      │ 1.0     │ 150        │ 0.02        │ 0.02    │ 0.0     │"
      ]
     },
     "execution_count": 26,
     "metadata": {},
     "output_type": "execute_result"
    }
   ],
   "source": [
    "ENV[\"LINES\"] = 750\n",
    "sbt = Batch.BatchObj()\n",
    "#optDf = Batch.compile_opt_results(bt)\n",
    "svmOptDf = Batch.load_svm_opt_results_df(sbt;m =1.)"
   ]
  },
  {
   "cell_type": "markdown",
   "metadata": {},
   "source": [
    "# Set Optimal Capital Structures"
   ]
  },
  {
   "cell_type": "code",
   "execution_count": 68,
   "metadata": {
    "scrolled": true
   },
   "outputs": [
    {
     "name": "stderr",
     "output_type": "stream",
     "text": [
      "WARNING: replacing module Batch.\n",
      "WARNING: replacing module ModelObj.\n",
      "WARNING: replacing module AnalyticFunctions.\n",
      "WARNING: replacing module BondPrInterp.\n",
      "WARNING: replacing module EqFinDiff.\n"
     ]
    }
   ],
   "source": [
    "modls = [\"Batch\", \"ModelObj\", \"AnalyticFunctions\", \n",
    "         \"BondPrInterp\", \"EqFinDiff\"]\n",
    "for modl in modls\n",
    "    include(string(joinpath(module_path, modl), \"/\", modl, \".jl\"))\n",
    "end\n",
    "\n",
    "ENV[\"LINES\"] = 750"
   ]
  },
  {
   "cell_type": "code",
   "execution_count": 69,
   "metadata": {},
   "outputs": [
    {
     "name": "stdout",
     "output_type": "stream",
     "text": [
      "Setting parameter dictionary using (m, m_comb_num) ID pair...\n",
      "Batch object exists: true\n",
      "Loading SVM object...\n",
      "Unable to load batch object file.\n",
      "Batch Object is incompatible! Loading surfaces only instead.\n",
      "Setting initial vbl value to NaN\n",
      "Setting initial vbh value to NaN\n",
      "Setting initial c value to NaN\n",
      "Setting initial p value to NaN\n",
      "Interpolating Bond Pricing Surfaces...\n",
      "  0.210702 seconds (811.42 k allocations: 137.113 MiB, 13.59% gc time)\n",
      "Interpolating bond pricing surfaces...\n",
      "  0.197494 seconds (811.42 k allocations: 137.112 MiB, 9.33% gc time)\n",
      "Setting parameter dictionary using (m, m_comb_num) ID pair...\n",
      "Setting initial vbl value to NaN\n",
      "Setting initial vbh value to NaN\n",
      "Setting initial c value to NaN\n",
      "Setting initial p value to NaN\n",
      "Constant Volatility Model: setting vbh to vbl, lambda to NaN\n"
     ]
    },
    {
     "data": {
      "text/plain": [
       "(Main.Batch.BatchStruct\n",
       "  model: String \"cvm\"\n",
       "  dfn: Main.Batch.DirFileNames\n",
       "  dfc: Main.Batch.BatchDFColumns\n",
       "  mi: Main.Batch.ModelInputs\n",
       "  bp: Main.Batch.BatchParams\n",
       "  coupon_grid: Array{Float64}((26,)) [0.25, 0.5, 1.0, 1.5, 2.0, 2.5, 3.0, 3.5, 4.0, 4.5  …  8.0, 8.5, 9.0, 9.5, 10.0, 10.5, 11.0, 11.5, 12.0, 12.5]\n",
       "  pvb_tol_vec: Array{Float64}((0,)) Float64[]\n",
       ", ModelObj.Firm\n",
       "  mu_b: Float64 1.0\n",
       "  m: Float64 1.0\n",
       "  c: Float64 NaN\n",
       "  p: Float64 NaN\n",
       "  vbl: Float64 NaN\n",
       "  vbh: Float64 NaN\n",
       "  pm: ModelObj.FirmParams\n",
       "  model: String \"cvm\"\n",
       "  bi: ModelObj.BPrInputs\n",
       "  bs: ModelObj.BPrSurfs\n",
       "  bf: ModelObj.BPrInterpFuns\n",
       "  optKS: ModelObj.KStruct\n",
       ")"
      ]
     },
     "execution_count": 69,
     "metadata": {},
     "output_type": "execute_result"
    }
   ],
   "source": [
    "sbt, svm = Batch.get_bt_svm(; m=1., m_comb_num=35)\n",
    "cbt, cvm = Batch.get_bt_cvm(;  m=1., m_comb_num=45)"
   ]
  },
  {
   "cell_type": "code",
   "execution_count": 70,
   "metadata": {},
   "outputs": [
    {
     "data": {
      "text/plain": [
       "ModelObj.KStruct\n",
       "  mu_b: Float64 1.0\n",
       "  m: Float64 1.0\n",
       "  c: Float64 3.304830483048305\n",
       "  p: Float64 38.872534568433146\n",
       "  vbl: Float64 44.95401009031197\n"
      ]
     },
     "execution_count": 70,
     "metadata": {},
     "output_type": "execute_result"
    }
   ],
   "source": [
    "svm = ModelObj.set_opt_k_struct(svm, svmOptDf; m=1.)\n",
    "svm.optKS"
   ]
  },
  {
   "cell_type": "code",
   "execution_count": 71,
   "metadata": {},
   "outputs": [
    {
     "data": {
      "text/plain": [
       "ModelObj.KStruct\n",
       "  mu_b: Float64 1.0\n",
       "  m: Float64 1.0\n",
       "  c: Float64 4.4472697269726975\n",
       "  p: Float64 53.886122643014666\n",
       "  vbl: Float64 61.70293553108389\n"
      ]
     },
     "execution_count": 71,
     "metadata": {},
     "output_type": "execute_result"
    }
   ],
   "source": [
    "cvm = ModelObj.set_opt_k_struct(cvm, cvmOptDf; m=1.)\n",
    "cvm.optKS"
   ]
  },
  {
   "cell_type": "markdown",
   "metadata": {},
   "source": [
    "# Match SVM to CVM Parameter Combinations"
   ]
  },
  {
   "cell_type": "code",
   "execution_count": 74,
   "metadata": {},
   "outputs": [
    {
     "name": "stderr",
     "output_type": "stream",
     "text": [
      "WARNING: replacing module Batch.\n",
      "WARNING: replacing module ModelObj.\n",
      "WARNING: replacing module AnalyticFunctions.\n",
      "WARNING: replacing module BondPrInterp.\n",
      "WARNING: replacing module EqFinDiff.\n"
     ]
    },
    {
     "data": {
      "text/plain": [
       "750"
      ]
     },
     "execution_count": 74,
     "metadata": {},
     "output_type": "execute_result"
    }
   ],
   "source": [
    "modls = [\"Batch\", \"ModelObj\", \"AnalyticFunctions\", \n",
    "         \"BondPrInterp\", \"EqFinDiff\"]\n",
    "for modl in modls\n",
    "    include(string(joinpath(module_path, modl), \"/\", modl, \".jl\"))\n",
    "end\n",
    "\n",
    "ENV[\"LINES\"] = 750"
   ]
  },
  {
   "cell_type": "code",
   "execution_count": 7,
   "metadata": {},
   "outputs": [
    {
     "name": "stdout",
     "output_type": "stream",
     "text": [
      "Setting parameter dictionary using unique combination ID...\n",
      "Setting parameter dictionary using unique combination ID...\n"
     ]
    },
    {
     "data": {
      "text/plain": [
       "Main.Batch.BatchStruct\n",
       "  model: String \"cvm\"\n",
       "  dfn: Main.Batch.DirFileNames\n",
       "  dfc: Main.Batch.BatchDFColumns\n",
       "  mi: Main.Batch.ModelInputs\n",
       "  bp: Main.Batch.BatchParams\n",
       "  coupon_grid: Array{Float64}((26,)) [0.25, 0.5, 1.0, 1.5, 2.0, 2.5, 3.0, 3.5, 4.0, 4.5  …  8.0, 8.5, 9.0, 9.5, 10.0, 10.5, 11.0, 11.5, 12.0, 12.5]\n",
       "  pvb_tol_vec: Array{Float64}((0,)) Float64[]\n"
      ]
     },
     "execution_count": 7,
     "metadata": {},
     "output_type": "execute_result"
    }
   ],
   "source": [
    "sbt = Batch.get_bt(; comb_num=1)\n",
    "cbt = Batch.get_bt(; model=\"cvm\", comb_num=1)"
   ]
  },
  {
   "cell_type": "code",
   "execution_count": 8,
   "metadata": {},
   "outputs": [
    {
     "data": {
      "text/html": [
       "<table class=\"data-frame\"><thead><tr><th></th><th>comb_num</th><th>m</th><th>m_comb_num</th><th>mu_b</th><th>xi</th><th>kappa</th><th>gross_delta</th><th>lambda</th><th>iota</th><th>sigmal</th><th>sigmah</th></tr><tr><th></th><th>Int64</th><th>Float64</th><th>Int64</th><th>Float64</th><th>Float64</th><th>Float64</th><th>Float64</th><th>Float64</th><th>Float64</th><th>Float64</th><th>Float64</th></tr></thead><tbody><p>750 rows × 11 columns</p><tr><th>1</th><td>1</td><td>1.0</td><td>1</td><td>1.0</td><td>1.0</td><td>0.001</td><td>0.02</td><td>0.1</td><td>0.0</td><td>0.15</td><td>0.2</td></tr><tr><th>2</th><td>6</td><td>1.0</td><td>2</td><td>1.0</td><td>1.0</td><td>0.0025</td><td>0.02</td><td>0.1</td><td>0.0</td><td>0.15</td><td>0.2</td></tr><tr><th>3</th><td>11</td><td>1.0</td><td>3</td><td>1.0</td><td>1.0</td><td>0.003</td><td>0.02</td><td>0.1</td><td>0.0</td><td>0.15</td><td>0.2</td></tr><tr><th>4</th><td>16</td><td>1.0</td><td>4</td><td>1.0</td><td>1.0</td><td>0.004</td><td>0.02</td><td>0.1</td><td>0.0</td><td>0.15</td><td>0.2</td></tr><tr><th>5</th><td>21</td><td>1.0</td><td>5</td><td>1.0</td><td>1.0</td><td>0.005</td><td>0.02</td><td>0.1</td><td>0.0</td><td>0.15</td><td>0.2</td></tr><tr><th>6</th><td>26</td><td>1.0</td><td>6</td><td>1.0</td><td>1.0</td><td>0.001</td><td>0.02</td><td>0.2</td><td>0.0</td><td>0.15</td><td>0.2</td></tr><tr><th>7</th><td>31</td><td>1.0</td><td>7</td><td>1.0</td><td>1.0</td><td>0.0025</td><td>0.02</td><td>0.2</td><td>0.0</td><td>0.15</td><td>0.2</td></tr><tr><th>8</th><td>36</td><td>1.0</td><td>8</td><td>1.0</td><td>1.0</td><td>0.003</td><td>0.02</td><td>0.2</td><td>0.0</td><td>0.15</td><td>0.2</td></tr><tr><th>9</th><td>41</td><td>1.0</td><td>9</td><td>1.0</td><td>1.0</td><td>0.004</td><td>0.02</td><td>0.2</td><td>0.0</td><td>0.15</td><td>0.2</td></tr><tr><th>10</th><td>46</td><td>1.0</td><td>10</td><td>1.0</td><td>1.0</td><td>0.005</td><td>0.02</td><td>0.2</td><td>0.0</td><td>0.15</td><td>0.2</td></tr><tr><th>11</th><td>51</td><td>1.0</td><td>11</td><td>1.0</td><td>1.0</td><td>0.001</td><td>0.02</td><td>0.3</td><td>0.0</td><td>0.15</td><td>0.2</td></tr><tr><th>12</th><td>56</td><td>1.0</td><td>12</td><td>1.0</td><td>1.0</td><td>0.0025</td><td>0.02</td><td>0.3</td><td>0.0</td><td>0.15</td><td>0.2</td></tr><tr><th>13</th><td>61</td><td>1.0</td><td>13</td><td>1.0</td><td>1.0</td><td>0.003</td><td>0.02</td><td>0.3</td><td>0.0</td><td>0.15</td><td>0.2</td></tr><tr><th>14</th><td>66</td><td>1.0</td><td>14</td><td>1.0</td><td>1.0</td><td>0.004</td><td>0.02</td><td>0.3</td><td>0.0</td><td>0.15</td><td>0.2</td></tr><tr><th>15</th><td>71</td><td>1.0</td><td>15</td><td>1.0</td><td>1.0</td><td>0.005</td><td>0.02</td><td>0.3</td><td>0.0</td><td>0.15</td><td>0.2</td></tr><tr><th>16</th><td>76</td><td>1.0</td><td>16</td><td>1.0</td><td>1.0</td><td>0.001</td><td>0.02</td><td>0.5</td><td>0.0</td><td>0.15</td><td>0.2</td></tr><tr><th>17</th><td>81</td><td>1.0</td><td>17</td><td>1.0</td><td>1.0</td><td>0.0025</td><td>0.02</td><td>0.5</td><td>0.0</td><td>0.15</td><td>0.2</td></tr><tr><th>18</th><td>86</td><td>1.0</td><td>18</td><td>1.0</td><td>1.0</td><td>0.003</td><td>0.02</td><td>0.5</td><td>0.0</td><td>0.15</td><td>0.2</td></tr><tr><th>19</th><td>91</td><td>1.0</td><td>19</td><td>1.0</td><td>1.0</td><td>0.004</td><td>0.02</td><td>0.5</td><td>0.0</td><td>0.15</td><td>0.2</td></tr><tr><th>20</th><td>96</td><td>1.0</td><td>20</td><td>1.0</td><td>1.0</td><td>0.005</td><td>0.02</td><td>0.5</td><td>0.0</td><td>0.15</td><td>0.2</td></tr><tr><th>21</th><td>101</td><td>1.0</td><td>21</td><td>1.0</td><td>1.0</td><td>0.001</td><td>0.02</td><td>0.75</td><td>0.0</td><td>0.15</td><td>0.2</td></tr><tr><th>22</th><td>106</td><td>1.0</td><td>22</td><td>1.0</td><td>1.0</td><td>0.0025</td><td>0.02</td><td>0.75</td><td>0.0</td><td>0.15</td><td>0.2</td></tr><tr><th>23</th><td>111</td><td>1.0</td><td>23</td><td>1.0</td><td>1.0</td><td>0.003</td><td>0.02</td><td>0.75</td><td>0.0</td><td>0.15</td><td>0.2</td></tr><tr><th>24</th><td>116</td><td>1.0</td><td>24</td><td>1.0</td><td>1.0</td><td>0.004</td><td>0.02</td><td>0.75</td><td>0.0</td><td>0.15</td><td>0.2</td></tr><tr><th>25</th><td>121</td><td>1.0</td><td>25</td><td>1.0</td><td>1.0</td><td>0.005</td><td>0.02</td><td>0.75</td><td>0.0</td><td>0.15</td><td>0.2</td></tr><tr><th>26</th><td>126</td><td>1.0</td><td>26</td><td>1.0</td><td>1.0</td><td>0.001</td><td>0.02</td><td>0.1</td><td>0.0</td><td>0.15</td><td>0.225</td></tr><tr><th>27</th><td>131</td><td>1.0</td><td>27</td><td>1.0</td><td>1.0</td><td>0.0025</td><td>0.02</td><td>0.1</td><td>0.0</td><td>0.15</td><td>0.225</td></tr><tr><th>28</th><td>136</td><td>1.0</td><td>28</td><td>1.0</td><td>1.0</td><td>0.003</td><td>0.02</td><td>0.1</td><td>0.0</td><td>0.15</td><td>0.225</td></tr><tr><th>29</th><td>141</td><td>1.0</td><td>29</td><td>1.0</td><td>1.0</td><td>0.004</td><td>0.02</td><td>0.1</td><td>0.0</td><td>0.15</td><td>0.225</td></tr><tr><th>30</th><td>146</td><td>1.0</td><td>30</td><td>1.0</td><td>1.0</td><td>0.005</td><td>0.02</td><td>0.1</td><td>0.0</td><td>0.15</td><td>0.225</td></tr><tr><th>&vellip;</th><td>&vellip;</td><td>&vellip;</td><td>&vellip;</td><td>&vellip;</td><td>&vellip;</td><td>&vellip;</td><td>&vellip;</td><td>&vellip;</td><td>&vellip;</td><td>&vellip;</td><td>&vellip;</td></tr></tbody></table>"
      ],
      "text/latex": [
       "\\begin{tabular}{r|ccccccccccc}\n",
       "\t& comb\\_num & m & m\\_comb\\_num & mu\\_b & xi & kappa & gross\\_delta & lambda & iota & sigmal & sigmah\\\\\n",
       "\t\\hline\n",
       "\t& Int64 & Float64 & Int64 & Float64 & Float64 & Float64 & Float64 & Float64 & Float64 & Float64 & Float64\\\\\n",
       "\t\\hline\n",
       "\t1 & 1 & 1.0 & 1 & 1.0 & 1.0 & 0.001 & 0.02 & 0.1 & 0.0 & 0.15 & 0.2 \\\\\n",
       "\t2 & 6 & 1.0 & 2 & 1.0 & 1.0 & 0.0025 & 0.02 & 0.1 & 0.0 & 0.15 & 0.2 \\\\\n",
       "\t3 & 11 & 1.0 & 3 & 1.0 & 1.0 & 0.003 & 0.02 & 0.1 & 0.0 & 0.15 & 0.2 \\\\\n",
       "\t4 & 16 & 1.0 & 4 & 1.0 & 1.0 & 0.004 & 0.02 & 0.1 & 0.0 & 0.15 & 0.2 \\\\\n",
       "\t5 & 21 & 1.0 & 5 & 1.0 & 1.0 & 0.005 & 0.02 & 0.1 & 0.0 & 0.15 & 0.2 \\\\\n",
       "\t6 & 26 & 1.0 & 6 & 1.0 & 1.0 & 0.001 & 0.02 & 0.2 & 0.0 & 0.15 & 0.2 \\\\\n",
       "\t7 & 31 & 1.0 & 7 & 1.0 & 1.0 & 0.0025 & 0.02 & 0.2 & 0.0 & 0.15 & 0.2 \\\\\n",
       "\t8 & 36 & 1.0 & 8 & 1.0 & 1.0 & 0.003 & 0.02 & 0.2 & 0.0 & 0.15 & 0.2 \\\\\n",
       "\t9 & 41 & 1.0 & 9 & 1.0 & 1.0 & 0.004 & 0.02 & 0.2 & 0.0 & 0.15 & 0.2 \\\\\n",
       "\t10 & 46 & 1.0 & 10 & 1.0 & 1.0 & 0.005 & 0.02 & 0.2 & 0.0 & 0.15 & 0.2 \\\\\n",
       "\t11 & 51 & 1.0 & 11 & 1.0 & 1.0 & 0.001 & 0.02 & 0.3 & 0.0 & 0.15 & 0.2 \\\\\n",
       "\t12 & 56 & 1.0 & 12 & 1.0 & 1.0 & 0.0025 & 0.02 & 0.3 & 0.0 & 0.15 & 0.2 \\\\\n",
       "\t13 & 61 & 1.0 & 13 & 1.0 & 1.0 & 0.003 & 0.02 & 0.3 & 0.0 & 0.15 & 0.2 \\\\\n",
       "\t14 & 66 & 1.0 & 14 & 1.0 & 1.0 & 0.004 & 0.02 & 0.3 & 0.0 & 0.15 & 0.2 \\\\\n",
       "\t15 & 71 & 1.0 & 15 & 1.0 & 1.0 & 0.005 & 0.02 & 0.3 & 0.0 & 0.15 & 0.2 \\\\\n",
       "\t16 & 76 & 1.0 & 16 & 1.0 & 1.0 & 0.001 & 0.02 & 0.5 & 0.0 & 0.15 & 0.2 \\\\\n",
       "\t17 & 81 & 1.0 & 17 & 1.0 & 1.0 & 0.0025 & 0.02 & 0.5 & 0.0 & 0.15 & 0.2 \\\\\n",
       "\t18 & 86 & 1.0 & 18 & 1.0 & 1.0 & 0.003 & 0.02 & 0.5 & 0.0 & 0.15 & 0.2 \\\\\n",
       "\t19 & 91 & 1.0 & 19 & 1.0 & 1.0 & 0.004 & 0.02 & 0.5 & 0.0 & 0.15 & 0.2 \\\\\n",
       "\t20 & 96 & 1.0 & 20 & 1.0 & 1.0 & 0.005 & 0.02 & 0.5 & 0.0 & 0.15 & 0.2 \\\\\n",
       "\t21 & 101 & 1.0 & 21 & 1.0 & 1.0 & 0.001 & 0.02 & 0.75 & 0.0 & 0.15 & 0.2 \\\\\n",
       "\t22 & 106 & 1.0 & 22 & 1.0 & 1.0 & 0.0025 & 0.02 & 0.75 & 0.0 & 0.15 & 0.2 \\\\\n",
       "\t23 & 111 & 1.0 & 23 & 1.0 & 1.0 & 0.003 & 0.02 & 0.75 & 0.0 & 0.15 & 0.2 \\\\\n",
       "\t24 & 116 & 1.0 & 24 & 1.0 & 1.0 & 0.004 & 0.02 & 0.75 & 0.0 & 0.15 & 0.2 \\\\\n",
       "\t25 & 121 & 1.0 & 25 & 1.0 & 1.0 & 0.005 & 0.02 & 0.75 & 0.0 & 0.15 & 0.2 \\\\\n",
       "\t26 & 126 & 1.0 & 26 & 1.0 & 1.0 & 0.001 & 0.02 & 0.1 & 0.0 & 0.15 & 0.225 \\\\\n",
       "\t27 & 131 & 1.0 & 27 & 1.0 & 1.0 & 0.0025 & 0.02 & 0.1 & 0.0 & 0.15 & 0.225 \\\\\n",
       "\t28 & 136 & 1.0 & 28 & 1.0 & 1.0 & 0.003 & 0.02 & 0.1 & 0.0 & 0.15 & 0.225 \\\\\n",
       "\t29 & 141 & 1.0 & 29 & 1.0 & 1.0 & 0.004 & 0.02 & 0.1 & 0.0 & 0.15 & 0.225 \\\\\n",
       "\t30 & 146 & 1.0 & 30 & 1.0 & 1.0 & 0.005 & 0.02 & 0.1 & 0.0 & 0.15 & 0.225 \\\\\n",
       "\t$\\dots$ & $\\dots$ & $\\dots$ & $\\dots$ & $\\dots$ & $\\dots$ & $\\dots$ & $\\dots$ & $\\dots$ & $\\dots$ & $\\dots$ & $\\dots$ \\\\\n",
       "\\end{tabular}\n"
      ],
      "text/plain": [
       "750×11 DataFrame. Omitted printing of 5 columns\n",
       "│ Row │ comb_num │ m       │ m_comb_num │ mu_b    │ xi      │ kappa   │\n",
       "│     │ \u001b[90mInt64\u001b[39m    │ \u001b[90mFloat64\u001b[39m │ \u001b[90mInt64\u001b[39m      │ \u001b[90mFloat64\u001b[39m │ \u001b[90mFloat64\u001b[39m │ \u001b[90mFloat64\u001b[39m │\n",
       "├─────┼──────────┼─────────┼────────────┼─────────┼─────────┼─────────┤\n",
       "│ 1   │ 1        │ 1.0     │ 1          │ 1.0     │ 1.0     │ 0.001   │\n",
       "│ 2   │ 6        │ 1.0     │ 2          │ 1.0     │ 1.0     │ 0.0025  │\n",
       "│ 3   │ 11       │ 1.0     │ 3          │ 1.0     │ 1.0     │ 0.003   │\n",
       "│ 4   │ 16       │ 1.0     │ 4          │ 1.0     │ 1.0     │ 0.004   │\n",
       "│ 5   │ 21       │ 1.0     │ 5          │ 1.0     │ 1.0     │ 0.005   │\n",
       "│ 6   │ 26       │ 1.0     │ 6          │ 1.0     │ 1.0     │ 0.001   │\n",
       "│ 7   │ 31       │ 1.0     │ 7          │ 1.0     │ 1.0     │ 0.0025  │\n",
       "│ 8   │ 36       │ 1.0     │ 8          │ 1.0     │ 1.0     │ 0.003   │\n",
       "│ 9   │ 41       │ 1.0     │ 9          │ 1.0     │ 1.0     │ 0.004   │\n",
       "│ 10  │ 46       │ 1.0     │ 10         │ 1.0     │ 1.0     │ 0.005   │\n",
       "⋮\n",
       "│ 740 │ 700      │ 10.0    │ 140        │ 1.0     │ 1.0     │ 0.005   │\n",
       "│ 741 │ 705      │ 10.0    │ 141        │ 1.0     │ 1.0     │ 0.001   │\n",
       "│ 742 │ 710      │ 10.0    │ 142        │ 1.0     │ 1.0     │ 0.0025  │\n",
       "│ 743 │ 715      │ 10.0    │ 143        │ 1.0     │ 1.0     │ 0.003   │\n",
       "│ 744 │ 720      │ 10.0    │ 144        │ 1.0     │ 1.0     │ 0.004   │\n",
       "│ 745 │ 725      │ 10.0    │ 145        │ 1.0     │ 1.0     │ 0.005   │\n",
       "│ 746 │ 730      │ 10.0    │ 146        │ 1.0     │ 1.0     │ 0.001   │\n",
       "│ 747 │ 735      │ 10.0    │ 147        │ 1.0     │ 1.0     │ 0.0025  │\n",
       "│ 748 │ 740      │ 10.0    │ 148        │ 1.0     │ 1.0     │ 0.003   │\n",
       "│ 749 │ 745      │ 10.0    │ 149        │ 1.0     │ 1.0     │ 0.004   │\n",
       "│ 750 │ 750      │ 10.0    │ 150        │ 1.0     │ 1.0     │ 0.005   │"
      ]
     },
     "execution_count": 8,
     "metadata": {},
     "output_type": "execute_result"
    }
   ],
   "source": [
    "sbt.bp.df"
   ]
  },
  {
   "cell_type": "code",
   "execution_count": 9,
   "metadata": {},
   "outputs": [
    {
     "data": {
      "text/html": [
       "<table class=\"data-frame\"><thead><tr><th></th><th>comb_num</th><th>m</th><th>m_comb_num</th><th>mu_b</th><th>xi</th><th>kappa</th><th>gross_delta</th><th>lambda</th><th>iota</th><th>sigmal</th><th>sigmah</th></tr><tr><th></th><th>Int64</th><th>Float64</th><th>Int64</th><th>Float64</th><th>Float64</th><th>Float64</th><th>Float64</th><th>Float64</th><th>Float64</th><th>Float64</th><th>Float64</th></tr></thead><tbody><p>52 rows × 11 columns</p><tr><th>1</th><td>1</td><td>1.0</td><td>1</td><td>1.0</td><td>1.0</td><td>0.0025</td><td>0.02</td><td>NaN</td><td>0.0</td><td>0.15</td><td>NaN</td></tr><tr><th>2</th><td>6</td><td>1.0</td><td>2</td><td>1.0</td><td>1.0</td><td>0.005</td><td>0.02</td><td>NaN</td><td>0.0</td><td>0.15</td><td>NaN</td></tr><tr><th>3</th><td>11</td><td>1.0</td><td>3</td><td>1.0</td><td>1.0</td><td>0.01</td><td>0.02</td><td>NaN</td><td>0.0</td><td>0.15</td><td>NaN</td></tr><tr><th>4</th><td>16</td><td>1.0</td><td>4</td><td>1.0</td><td>1.0</td><td>0.015</td><td>0.02</td><td>NaN</td><td>0.0</td><td>0.15</td><td>NaN</td></tr><tr><th>5</th><td>21</td><td>1.0</td><td>5</td><td>1.0</td><td>1.0</td><td>0.0025</td><td>0.02</td><td>NaN</td><td>5.0e-5</td><td>0.15</td><td>NaN</td></tr><tr><th>6</th><td>26</td><td>1.0</td><td>6</td><td>1.0</td><td>1.0</td><td>0.005</td><td>0.02</td><td>NaN</td><td>5.0e-5</td><td>0.15</td><td>NaN</td></tr><tr><th>7</th><td>31</td><td>1.0</td><td>7</td><td>1.0</td><td>1.0</td><td>0.01</td><td>0.02</td><td>NaN</td><td>5.0e-5</td><td>0.15</td><td>NaN</td></tr><tr><th>8</th><td>36</td><td>1.0</td><td>8</td><td>1.0</td><td>1.0</td><td>0.015</td><td>0.02</td><td>NaN</td><td>5.0e-5</td><td>0.15</td><td>NaN</td></tr><tr><th>9</th><td>41</td><td>1.0</td><td>9</td><td>1.0</td><td>1.0</td><td>0.0025</td><td>0.02</td><td>NaN</td><td>0.0001</td><td>0.15</td><td>NaN</td></tr><tr><th>10</th><td>46</td><td>1.0</td><td>10</td><td>1.0</td><td>1.0</td><td>0.005</td><td>0.02</td><td>NaN</td><td>0.0001</td><td>0.15</td><td>NaN</td></tr><tr><th>11</th><td>51</td><td>1.0</td><td>11</td><td>1.0</td><td>1.0</td><td>0.01</td><td>0.02</td><td>NaN</td><td>0.0001</td><td>0.15</td><td>NaN</td></tr><tr><th>12</th><td>56</td><td>1.0</td><td>12</td><td>1.0</td><td>1.0</td><td>0.015</td><td>0.02</td><td>NaN</td><td>0.0001</td><td>0.15</td><td>NaN</td></tr><tr><th>13</th><td>61</td><td>1.0</td><td>13</td><td>1.0</td><td>1.0</td><td>0.0025</td><td>0.02</td><td>NaN</td><td>0.00015</td><td>0.15</td><td>NaN</td></tr><tr><th>14</th><td>66</td><td>1.0</td><td>14</td><td>1.0</td><td>1.0</td><td>0.005</td><td>0.02</td><td>NaN</td><td>0.00015</td><td>0.15</td><td>NaN</td></tr><tr><th>15</th><td>71</td><td>1.0</td><td>15</td><td>1.0</td><td>1.0</td><td>0.01</td><td>0.02</td><td>NaN</td><td>0.00015</td><td>0.15</td><td>NaN</td></tr><tr><th>16</th><td>76</td><td>1.0</td><td>16</td><td>1.0</td><td>1.0</td><td>0.015</td><td>0.02</td><td>NaN</td><td>0.00015</td><td>0.15</td><td>NaN</td></tr><tr><th>17</th><td>81</td><td>1.0</td><td>17</td><td>1.0</td><td>1.0</td><td>0.0025</td><td>0.02</td><td>NaN</td><td>0.0002</td><td>0.15</td><td>NaN</td></tr><tr><th>18</th><td>86</td><td>1.0</td><td>18</td><td>1.0</td><td>1.0</td><td>0.005</td><td>0.02</td><td>NaN</td><td>0.0002</td><td>0.15</td><td>NaN</td></tr><tr><th>19</th><td>91</td><td>1.0</td><td>19</td><td>1.0</td><td>1.0</td><td>0.01</td><td>0.02</td><td>NaN</td><td>0.0002</td><td>0.15</td><td>NaN</td></tr><tr><th>20</th><td>96</td><td>1.0</td><td>20</td><td>1.0</td><td>1.0</td><td>0.015</td><td>0.02</td><td>NaN</td><td>0.0002</td><td>0.15</td><td>NaN</td></tr><tr><th>21</th><td>101</td><td>1.0</td><td>21</td><td>1.0</td><td>1.0</td><td>0.0025</td><td>0.02</td><td>NaN</td><td>0.00025</td><td>0.15</td><td>NaN</td></tr><tr><th>22</th><td>106</td><td>1.0</td><td>22</td><td>1.0</td><td>1.0</td><td>0.005</td><td>0.02</td><td>NaN</td><td>0.00025</td><td>0.15</td><td>NaN</td></tr><tr><th>23</th><td>111</td><td>1.0</td><td>23</td><td>1.0</td><td>1.0</td><td>0.01</td><td>0.02</td><td>NaN</td><td>0.00025</td><td>0.15</td><td>NaN</td></tr><tr><th>24</th><td>116</td><td>1.0</td><td>24</td><td>1.0</td><td>1.0</td><td>0.015</td><td>0.02</td><td>NaN</td><td>0.00025</td><td>0.15</td><td>NaN</td></tr><tr><th>25</th><td>121</td><td>1.0</td><td>25</td><td>1.0</td><td>1.0</td><td>0.0025</td><td>0.02</td><td>NaN</td><td>0.0005</td><td>0.15</td><td>NaN</td></tr><tr><th>26</th><td>126</td><td>1.0</td><td>26</td><td>1.0</td><td>1.0</td><td>0.005</td><td>0.02</td><td>NaN</td><td>0.0005</td><td>0.15</td><td>NaN</td></tr><tr><th>27</th><td>131</td><td>1.0</td><td>27</td><td>1.0</td><td>1.0</td><td>0.01</td><td>0.02</td><td>NaN</td><td>0.0005</td><td>0.15</td><td>NaN</td></tr><tr><th>28</th><td>136</td><td>1.0</td><td>28</td><td>1.0</td><td>1.0</td><td>0.015</td><td>0.02</td><td>NaN</td><td>0.0005</td><td>0.15</td><td>NaN</td></tr><tr><th>29</th><td>141</td><td>1.0</td><td>29</td><td>1.0</td><td>1.0</td><td>0.0025</td><td>0.02</td><td>NaN</td><td>0.00075</td><td>0.15</td><td>NaN</td></tr><tr><th>30</th><td>146</td><td>1.0</td><td>30</td><td>1.0</td><td>1.0</td><td>0.005</td><td>0.02</td><td>NaN</td><td>0.00075</td><td>0.15</td><td>NaN</td></tr><tr><th>&vellip;</th><td>&vellip;</td><td>&vellip;</td><td>&vellip;</td><td>&vellip;</td><td>&vellip;</td><td>&vellip;</td><td>&vellip;</td><td>&vellip;</td><td>&vellip;</td><td>&vellip;</td><td>&vellip;</td></tr></tbody></table>"
      ],
      "text/latex": [
       "\\begin{tabular}{r|ccccccccccc}\n",
       "\t& comb\\_num & m & m\\_comb\\_num & mu\\_b & xi & kappa & gross\\_delta & lambda & iota & sigmal & sigmah\\\\\n",
       "\t\\hline\n",
       "\t& Int64 & Float64 & Int64 & Float64 & Float64 & Float64 & Float64 & Float64 & Float64 & Float64 & Float64\\\\\n",
       "\t\\hline\n",
       "\t1 & 1 & 1.0 & 1 & 1.0 & 1.0 & 0.0025 & 0.02 & NaN & 0.0 & 0.15 & NaN \\\\\n",
       "\t2 & 6 & 1.0 & 2 & 1.0 & 1.0 & 0.005 & 0.02 & NaN & 0.0 & 0.15 & NaN \\\\\n",
       "\t3 & 11 & 1.0 & 3 & 1.0 & 1.0 & 0.01 & 0.02 & NaN & 0.0 & 0.15 & NaN \\\\\n",
       "\t4 & 16 & 1.0 & 4 & 1.0 & 1.0 & 0.015 & 0.02 & NaN & 0.0 & 0.15 & NaN \\\\\n",
       "\t5 & 21 & 1.0 & 5 & 1.0 & 1.0 & 0.0025 & 0.02 & NaN & 5.0e-5 & 0.15 & NaN \\\\\n",
       "\t6 & 26 & 1.0 & 6 & 1.0 & 1.0 & 0.005 & 0.02 & NaN & 5.0e-5 & 0.15 & NaN \\\\\n",
       "\t7 & 31 & 1.0 & 7 & 1.0 & 1.0 & 0.01 & 0.02 & NaN & 5.0e-5 & 0.15 & NaN \\\\\n",
       "\t8 & 36 & 1.0 & 8 & 1.0 & 1.0 & 0.015 & 0.02 & NaN & 5.0e-5 & 0.15 & NaN \\\\\n",
       "\t9 & 41 & 1.0 & 9 & 1.0 & 1.0 & 0.0025 & 0.02 & NaN & 0.0001 & 0.15 & NaN \\\\\n",
       "\t10 & 46 & 1.0 & 10 & 1.0 & 1.0 & 0.005 & 0.02 & NaN & 0.0001 & 0.15 & NaN \\\\\n",
       "\t11 & 51 & 1.0 & 11 & 1.0 & 1.0 & 0.01 & 0.02 & NaN & 0.0001 & 0.15 & NaN \\\\\n",
       "\t12 & 56 & 1.0 & 12 & 1.0 & 1.0 & 0.015 & 0.02 & NaN & 0.0001 & 0.15 & NaN \\\\\n",
       "\t13 & 61 & 1.0 & 13 & 1.0 & 1.0 & 0.0025 & 0.02 & NaN & 0.00015 & 0.15 & NaN \\\\\n",
       "\t14 & 66 & 1.0 & 14 & 1.0 & 1.0 & 0.005 & 0.02 & NaN & 0.00015 & 0.15 & NaN \\\\\n",
       "\t15 & 71 & 1.0 & 15 & 1.0 & 1.0 & 0.01 & 0.02 & NaN & 0.00015 & 0.15 & NaN \\\\\n",
       "\t16 & 76 & 1.0 & 16 & 1.0 & 1.0 & 0.015 & 0.02 & NaN & 0.00015 & 0.15 & NaN \\\\\n",
       "\t17 & 81 & 1.0 & 17 & 1.0 & 1.0 & 0.0025 & 0.02 & NaN & 0.0002 & 0.15 & NaN \\\\\n",
       "\t18 & 86 & 1.0 & 18 & 1.0 & 1.0 & 0.005 & 0.02 & NaN & 0.0002 & 0.15 & NaN \\\\\n",
       "\t19 & 91 & 1.0 & 19 & 1.0 & 1.0 & 0.01 & 0.02 & NaN & 0.0002 & 0.15 & NaN \\\\\n",
       "\t20 & 96 & 1.0 & 20 & 1.0 & 1.0 & 0.015 & 0.02 & NaN & 0.0002 & 0.15 & NaN \\\\\n",
       "\t21 & 101 & 1.0 & 21 & 1.0 & 1.0 & 0.0025 & 0.02 & NaN & 0.00025 & 0.15 & NaN \\\\\n",
       "\t22 & 106 & 1.0 & 22 & 1.0 & 1.0 & 0.005 & 0.02 & NaN & 0.00025 & 0.15 & NaN \\\\\n",
       "\t23 & 111 & 1.0 & 23 & 1.0 & 1.0 & 0.01 & 0.02 & NaN & 0.00025 & 0.15 & NaN \\\\\n",
       "\t24 & 116 & 1.0 & 24 & 1.0 & 1.0 & 0.015 & 0.02 & NaN & 0.00025 & 0.15 & NaN \\\\\n",
       "\t25 & 121 & 1.0 & 25 & 1.0 & 1.0 & 0.0025 & 0.02 & NaN & 0.0005 & 0.15 & NaN \\\\\n",
       "\t26 & 126 & 1.0 & 26 & 1.0 & 1.0 & 0.005 & 0.02 & NaN & 0.0005 & 0.15 & NaN \\\\\n",
       "\t27 & 131 & 1.0 & 27 & 1.0 & 1.0 & 0.01 & 0.02 & NaN & 0.0005 & 0.15 & NaN \\\\\n",
       "\t28 & 136 & 1.0 & 28 & 1.0 & 1.0 & 0.015 & 0.02 & NaN & 0.0005 & 0.15 & NaN \\\\\n",
       "\t29 & 141 & 1.0 & 29 & 1.0 & 1.0 & 0.0025 & 0.02 & NaN & 0.00075 & 0.15 & NaN \\\\\n",
       "\t30 & 146 & 1.0 & 30 & 1.0 & 1.0 & 0.005 & 0.02 & NaN & 0.00075 & 0.15 & NaN \\\\\n",
       "\t$\\dots$ & $\\dots$ & $\\dots$ & $\\dots$ & $\\dots$ & $\\dots$ & $\\dots$ & $\\dots$ & $\\dots$ & $\\dots$ & $\\dots$ & $\\dots$ \\\\\n",
       "\\end{tabular}\n"
      ],
      "text/plain": [
       "52×11 DataFrame. Omitted printing of 5 columns\n",
       "│ Row │ comb_num │ m       │ m_comb_num │ mu_b    │ xi      │ kappa   │\n",
       "│     │ \u001b[90mInt64\u001b[39m    │ \u001b[90mFloat64\u001b[39m │ \u001b[90mInt64\u001b[39m      │ \u001b[90mFloat64\u001b[39m │ \u001b[90mFloat64\u001b[39m │ \u001b[90mFloat64\u001b[39m │\n",
       "├─────┼──────────┼─────────┼────────────┼─────────┼─────────┼─────────┤\n",
       "│ 1   │ 1        │ 1.0     │ 1          │ 1.0     │ 1.0     │ 0.0025  │\n",
       "│ 2   │ 6        │ 1.0     │ 2          │ 1.0     │ 1.0     │ 0.005   │\n",
       "│ 3   │ 11       │ 1.0     │ 3          │ 1.0     │ 1.0     │ 0.01    │\n",
       "│ 4   │ 16       │ 1.0     │ 4          │ 1.0     │ 1.0     │ 0.015   │\n",
       "│ 5   │ 21       │ 1.0     │ 5          │ 1.0     │ 1.0     │ 0.0025  │\n",
       "│ 6   │ 26       │ 1.0     │ 6          │ 1.0     │ 1.0     │ 0.005   │\n",
       "│ 7   │ 31       │ 1.0     │ 7          │ 1.0     │ 1.0     │ 0.01    │\n",
       "│ 8   │ 36       │ 1.0     │ 8          │ 1.0     │ 1.0     │ 0.015   │\n",
       "│ 9   │ 41       │ 1.0     │ 9          │ 1.0     │ 1.0     │ 0.0025  │\n",
       "│ 10  │ 46       │ 1.0     │ 10         │ 1.0     │ 1.0     │ 0.005   │\n",
       "⋮\n",
       "│ 42  │ 206      │ 1.0     │ 42         │ 1.0     │ 1.0     │ 0.005   │\n",
       "│ 43  │ 211      │ 1.0     │ 43         │ 1.0     │ 1.0     │ 0.01    │\n",
       "│ 44  │ 216      │ 1.0     │ 44         │ 1.0     │ 1.0     │ 0.015   │\n",
       "│ 45  │ 221      │ 1.0     │ 45         │ 1.0     │ 1.0     │ 0.0025  │\n",
       "│ 46  │ 226      │ 1.0     │ 46         │ 1.0     │ 1.0     │ 0.005   │\n",
       "│ 47  │ 231      │ 1.0     │ 47         │ 1.0     │ 1.0     │ 0.01    │\n",
       "│ 48  │ 236      │ 1.0     │ 48         │ 1.0     │ 1.0     │ 0.015   │\n",
       "│ 49  │ 241      │ 1.0     │ 49         │ 1.0     │ 1.0     │ 0.0025  │\n",
       "│ 50  │ 246      │ 1.0     │ 50         │ 1.0     │ 1.0     │ 0.005   │\n",
       "│ 51  │ 251      │ 1.0     │ 51         │ 1.0     │ 1.0     │ 0.01    │\n",
       "│ 52  │ 256      │ 1.0     │ 52         │ 1.0     │ 1.0     │ 0.015   │"
      ]
     },
     "execution_count": 9,
     "metadata": {},
     "output_type": "execute_result"
    }
   ],
   "source": [
    "id_cols = [:comb_num, :m_comb_num]\n",
    "common_vars = [x for x in names(sbt.bp.df) if !(x in [:comb_num, :m_comb_num, :iota, :kappa, :lambda, :sigmah])]       \n",
    "LL = [cbt.bp.df[var] .== sbt.mi._svm_dict[var]  for var in common_vars]\n",
    "\n",
    "cbt.bp.df[.&(LL...), :]"
   ]
  },
  {
   "cell_type": "code",
   "execution_count": 17,
   "metadata": {},
   "outputs": [
    {
     "data": {
      "text/plain": [
       "ModelObj.FirmParams\n",
       "  V0: Float64 100.0\n",
       "  alpha: Float64 0.6\n",
       "  pi: Float64 0.27\n",
       "  r: Float64 0.08\n",
       "  gross_delta: Float64 0.02\n",
       "  iota: Float64 0.0\n",
       "  xi: Float64 1.0\n",
       "  kappa: Float64 0.001\n",
       "  lambda: Float64 0.1\n",
       "  sigmal: Float64 0.15\n",
       "  sigmah: Float64 0.2\n"
      ]
     },
     "execution_count": 17,
     "metadata": {},
     "output_type": "execute_result"
    }
   ],
   "source": [
    "svm.pm"
   ]
  },
  {
   "cell_type": "code",
   "execution_count": 18,
   "metadata": {},
   "outputs": [
    {
     "data": {
      "text/plain": [
       "(:V0, :alpha, :pi, :r, :gross_delta, :iota, :xi, :kappa, :lambda, :sigmal, :sigmah)"
      ]
     },
     "execution_count": 18,
     "metadata": {},
     "output_type": "execute_result"
    }
   ],
   "source": [
    "fieldnames(ModelObj.FirmParams)"
   ]
  },
  {
   "cell_type": "code",
   "execution_count": null,
   "metadata": {},
   "outputs": [],
   "source": [
    "# HERE"
   ]
  },
  {
   "cell_type": "code",
   "execution_count": 10,
   "metadata": {},
   "outputs": [
    {
     "name": "stdout",
     "output_type": "stream",
     "text": [
      "Setting parameter dictionary using unique combination ID...\n",
      "Batch object exists: true\n",
      "Loading SVM object...\n",
      "Unable to load batch object file.\n",
      "Batch Object is incompatible! Loading surfaces only instead.\n",
      "Setting initial vbl value to NaN\n",
      "Setting initial vbh value to NaN\n",
      "Setting initial c value to NaN\n",
      "Setting initial p value to NaN\n",
      "Interpolating Bond Pricing Surfaces...\n",
      "  4.886946 seconds (10.06 M allocations: 592.892 MiB, 8.83% gc time)\n",
      "Interpolating bond pricing surfaces...\n",
      "  0.407339 seconds (811.43 k allocations: 137.112 MiB, 52.09% gc time)\n"
     ]
    },
    {
     "data": {
      "text/plain": [
       "(Main.Batch.BatchStruct\n",
       "  model: String \"svm\"\n",
       "  dfn: Main.Batch.DirFileNames\n",
       "  dfc: Main.Batch.BatchDFColumns\n",
       "  mi: Main.Batch.ModelInputs\n",
       "  bp: Main.Batch.BatchParams\n",
       "  coupon_grid: Array{Float64}((22,)) [0.5, 1.0, 1.5, 2.0, 2.5, 3.0, 3.5, 4.0, 4.5, 5.0  …  6.5, 7.0, 7.5, 8.0, 8.5, 9.0, 9.5, 10.0, 10.5, 11.0]\n",
       "  pvb_tol_vec: Array{Float64}((4,)) [1.0e-6, 1.0e-5, 0.0001, 0.001]\n",
       ", ModelObj.Firm\n",
       "  mu_b: Float64 1.0\n",
       "  m: Float64 1.0\n",
       "  c: Float64 NaN\n",
       "  p: Float64 NaN\n",
       "  vbl: Float64 NaN\n",
       "  vbh: Float64 NaN\n",
       "  pm: ModelObj.FirmParams\n",
       "  model: String \"svm\"\n",
       "  bi: ModelObj.BPrInputs\n",
       "  bs: ModelObj.BPrSurfs\n",
       "  bf: ModelObj.BPrInterpFuns\n",
       "  optKS: ModelObj.KStruct\n",
       ")"
      ]
     },
     "execution_count": 10,
     "metadata": {},
     "output_type": "execute_result"
    }
   ],
   "source": [
    "sbt, svm = Batch.get_bt_svm(; comb_num=1)"
   ]
  },
  {
   "cell_type": "code",
   "execution_count": null,
   "metadata": {},
   "outputs": [],
   "source": []
  },
  {
   "cell_type": "code",
   "execution_count": 80,
   "metadata": {},
   "outputs": [
    {
     "name": "stdout",
     "output_type": "stream",
     "text": [
      "Dict{Symbol,Real}(:m=>1.0,:m_comb_num=>30,:comb_num=>0)\n",
      "Setting parameter dictionary using (m, m_comb_num) ID pair...\n",
      "Batch object exists: true\n",
      "Loading SVM object...\n",
      "Unable to load batch object file.\n",
      "Batch Object is incompatible! Loading surfaces only instead.\n",
      "Setting initial vbl value to NaN\n",
      "Setting initial vbh value to NaN\n",
      "Setting initial c value to NaN\n",
      "Setting initial p value to NaN\n",
      "Interpolating Bond Pricing Surfaces...\n",
      "  0.246440 seconds (811.43 k allocations: 137.114 MiB, 19.80% gc time)\n",
      "Interpolating bond pricing surfaces...\n",
      "  0.195420 seconds (811.42 k allocations: 137.112 MiB, 7.79% gc time)\n",
      "Constructing Risky Firm 1\n",
      "Risky Firm will be constructed by modifying Safe Firm's parameters!\n",
      "Setting parameter dictionary to batch object's parameter dictionary\n",
      "Setting parameter values... \n",
      "Setting parameter dictionary using unique combination ID...\n",
      "Batch object exists: true\n",
      "Loading SVM object...\n",
      "Unable to load batch object file.\n",
      "Batch Object is incompatible! Loading surfaces only instead.\n",
      "Setting initial vbl value to NaN\n",
      "Setting initial vbh value to NaN\n",
      "Setting initial c value to NaN\n",
      "Setting initial p value to NaN\n",
      "Interpolating Bond Pricing Surfaces...\n",
      "  0.398126 seconds (811.43 k allocations: 137.113 MiB, 52.01% gc time)\n",
      "Interpolating bond pricing surfaces...\n",
      "  0.195521 seconds (811.42 k allocations: 137.112 MiB, 7.77% gc time)\n",
      "Setting parameter dictionary using (m, m_comb_num) ID pair...\n",
      "Loading optimal results dataframe...\n"
     ]
    },
    {
     "data": {
      "text/plain": [
       "Main.JointEq.JointFirms\n",
       "  s: Main.JointEq.FirmObj\n",
       "  r: Dict{Any,Any}\n",
       "  mu: Float64 0.5\n",
       "  svmdf: DataFrame  150 observations of 37 variables\n",
       "\n"
      ]
     },
     "execution_count": 80,
     "metadata": {},
     "output_type": "execute_result"
    }
   ],
   "source": [
    "ids = Dict(:m => 1., :m_comb_num => 30)\n",
    "idr1 = Dict(:sigmah => Batch.svm_param_values_dict[:sigmah][4])\n",
    "idrl = [idr1]\n",
    "jf = JointEq.joint_firm_constructor(ids, idrl;mu=.5, set_opt_k_struct=true)"
   ]
  },
  {
   "cell_type": "code",
   "execution_count": 88,
   "metadata": {},
   "outputs": [
    {
     "data": {
      "text/plain": [
       "Main.JointEq.JointKStruct\n",
       "  mu_b: Float64 1.0\n",
       "  m: Float64 1.0\n",
       "  c: Float64 3.901290129012901\n",
       "  p: Float64 45.89342618036354\n",
       "  vbls: Float64 51.31268360196496\n",
       "  vblr: Float64 49.17214773927121\n"
      ]
     },
     "execution_count": 88,
     "metadata": {},
     "output_type": "execute_result"
    }
   ],
   "source": [
    "mu_b = jf.s.svm.optSVM.mu_b\n",
    "m = jf.s.svm.optSVM.m\n",
    "c = jf.s.svm.optSVM.c\n",
    "p = jf.s.svm.optSVM.p\n",
    "vbls = jf.s.svm.optSVM.vbl \n",
    "# vbls = AnalyticFunctions.get_cvm_vb(jf.s.svm, jf.s.svm.pm.sigmal; \n",
    "#                                     mu_b=mu_b, c=c, p=p)\n",
    "rkey = [x for x in keys(jf.r)][1]\n",
    "vblr = AnalyticFunctions.get_cvm_vb(jf.r[rkey].svm, \n",
    "                                    jf.r[rkey].svm.pm.sigmah; \n",
    "                                    mu_b=mu_b, c=c, p=p)\n",
    "jks = JointEq.JointKStruct(mu_b, m, c, p, vbls, vblr)"
   ]
  },
  {
   "cell_type": "code",
   "execution_count": 89,
   "metadata": {},
   "outputs": [
    {
     "data": {
      "text/plain": [
       "45.89176765795668"
      ]
     },
     "execution_count": 89,
     "metadata": {},
     "output_type": "execute_result"
    }
   ],
   "source": [
    "JointEq.joint_bond_price(jf.s.svm, jf.r[rkey].svm, jf.s.svm.m, jks, .5)"
   ]
  },
  {
   "cell_type": "code",
   "execution_count": 95,
   "metadata": {},
   "outputs": [
    {
     "data": {
      "text/plain": [
       "45.89323374937659"
      ]
     },
     "execution_count": 95,
     "metadata": {},
     "output_type": "execute_result"
    }
   ],
   "source": [
    "JointEq.joint_debt_price(jf.s.svm, jf.r[rkey].svm, jks, .5)"
   ]
  },
  {
   "cell_type": "code",
   "execution_count": 103,
   "metadata": {},
   "outputs": [
    {
     "data": {
      "text/plain": [
       "ModelObj.FirmParams\n",
       "  V0: Float32 100.0f0\n",
       "  alpha: Float32 0.6f0\n",
       "  pi: Float32 0.27f0\n",
       "  r: Float32 0.08f0\n",
       "  gross_delta: Float32 0.02f0\n",
       "  iota: Float32 0.0f0\n",
       "  xi: Float32 1.0f0\n",
       "  kappa: Float32 0.005f0\n",
       "  lambda: Float32 0.1f0\n",
       "  sigmal: Float32 0.15f0\n",
       "  sigmah: Float32 0.225f0\n"
      ]
     },
     "execution_count": 103,
     "metadata": {},
     "output_type": "execute_result"
    }
   ],
   "source": [
    "jf.s.svm.pm"
   ]
  },
  {
   "cell_type": "code",
   "execution_count": 104,
   "metadata": {},
   "outputs": [
    {
     "data": {
      "text/plain": [
       "ModelObj.FirmParams\n",
       "  V0: Float32 100.0f0\n",
       "  alpha: Float32 0.6f0\n",
       "  pi: Float32 0.27f0\n",
       "  r: Float32 0.08f0\n",
       "  gross_delta: Float32 0.02f0\n",
       "  iota: Float32 0.0f0\n",
       "  xi: Float32 1.0f0\n",
       "  kappa: Float32 0.005f0\n",
       "  lambda: Float32 0.1f0\n",
       "  sigmal: Float32 0.15f0\n",
       "  sigmah: Float32 0.275f0\n"
      ]
     },
     "execution_count": 104,
     "metadata": {},
     "output_type": "execute_result"
    }
   ],
   "source": [
    "jf.r[rkey].svm.pm"
   ]
  },
  {
   "cell_type": "code",
   "execution_count": 96,
   "metadata": {},
   "outputs": [
    {
     "data": {
      "text/plain": [
       "51.31268360196496"
      ]
     },
     "execution_count": 96,
     "metadata": {},
     "output_type": "execute_result"
    }
   ],
   "source": [
    "jks2 = jks\n",
    "jks2.vblr = jks.vbls"
   ]
  },
  {
   "cell_type": "code",
   "execution_count": 98,
   "metadata": {},
   "outputs": [
    {
     "data": {
      "text/plain": [
       "45.89341676224195"
      ]
     },
     "execution_count": 98,
     "metadata": {},
     "output_type": "execute_result"
    }
   ],
   "source": [
    "JointEq.joint_debt_price(jf.s.svm, jf.s.svm, jks2, .5)"
   ]
  },
  {
   "cell_type": "code",
   "execution_count": 102,
   "metadata": {},
   "outputs": [
    {
     "data": {
      "text/plain": [
       "45.89341676224195"
      ]
     },
     "execution_count": 102,
     "metadata": {},
     "output_type": "execute_result"
    }
   ],
   "source": [
    "BondPrInterp.get_svm_debt_price(jf.s.svm, jf.s.svm.optSVM.vbl; Vt=jf.s.svm.pm.V0, \n",
    "                                mu_b=jf.s.svm.optSVM.mu_b, \n",
    "                                c=jf.s.svm.optSVM.c, p=jf.s.svm.optSVM.p)"
   ]
  },
  {
   "cell_type": "code",
   "execution_count": null,
   "metadata": {},
   "outputs": [],
   "source": []
  },
  {
   "cell_type": "code",
   "execution_count": null,
   "metadata": {},
   "outputs": [],
   "source": []
  },
  {
   "cell_type": "code",
   "execution_count": 74,
   "metadata": {},
   "outputs": [
    {
     "name": "stdout",
     "output_type": "stream",
     "text": [
      "Unable to load batch object file.\n",
      "Batch Object is incompatible! Loading surfaces only instead.\n",
      "Setting initial vbl value to NaN\n",
      "Setting initial vbh value to NaN\n",
      "Setting initial c value to NaN\n",
      "Setting initial p value to NaN\n",
      "Interpolating Bond Pricing Surfaces...\n",
      "  0.209573 seconds (811.43 k allocations: 137.113 MiB, 13.28% gc time)\n"
     ]
    },
    {
     "data": {
      "text/plain": [
       "ModelObj.Firm\n",
       "  mu_b: Float64 1.0\n",
       "  m: Float64 1.0\n",
       "  c: Float64 NaN\n",
       "  p: Float64 NaN\n",
       "  vbl: Float64 NaN\n",
       "  vbh: Float64 NaN\n",
       "  pm: ModelObj.FirmParams\n",
       "  bi: ModelObj.BPrInputs\n",
       "  bs: ModelObj.BPrSurfs\n",
       "  bf: ModelObj.BPrInterpFuns\n",
       "  optCVM: ModelObj.OptKStruct\n",
       "  optSVM: ModelObj.OptKStruct\n"
      ]
     },
     "execution_count": 74,
     "metadata": {},
     "output_type": "execute_result"
    }
   ],
   "source": [
    "comb_num = 101\n",
    "\n",
    "# Set Parameters\n",
    "bt = Batch.set_par_dict(bt, comb_num)\n",
    "\n",
    "# Set Directories & Paths (Main, Batch, Maturity, Combination)\n",
    "bt = Batch.set_comb_res_paths(bt)\n",
    "\n",
    "# Construct Firm Object\n",
    "svm1 = Batch.load_bpr_surfs(bt)\n",
    "\n",
    "# Extract Optimal Capital Structure\n",
    "svm1 = ModelObj.set_svm_opt_k_struct(svm1, optDf)"
   ]
  },
  {
   "cell_type": "code",
   "execution_count": null,
   "metadata": {},
   "outputs": [],
   "source": [
    "x = x-> "
   ]
  },
  {
   "cell_type": "code",
   "execution_count": 3,
   "metadata": {},
   "outputs": [
    {
     "data": {
      "text/plain": [
       "1-element Array{Symbol,1}:\n",
       " :vbl"
      ]
     },
     "execution_count": 3,
     "metadata": {},
     "output_type": "execute_result"
    }
   ],
   "source": [
    "[:vbl] "
   ]
  },
  {
   "cell_type": "code",
   "execution_count": 64,
   "metadata": {},
   "outputs": [
    {
     "name": "stdout",
     "output_type": "stream",
     "text": [
      "Unable to load batch object file.\n",
      "Batch Object is incompatible! Loading surfaces only instead.\n",
      "Setting initial vbl value to NaN\n",
      "Setting initial vbh value to NaN\n",
      "Setting initial c value to NaN\n",
      "Setting initial p value to NaN\n",
      "Interpolating Bond Pricing Surfaces...\n",
      "  0.396683 seconds (811.44 k allocations: 137.113 MiB, 47.60% gc time)\n"
     ]
    },
    {
     "data": {
      "text/plain": [
       "ModelObj.Firm\n",
       "  mu_b: Float64 1.0\n",
       "  m: Float64 1.0\n",
       "  c: Float64 NaN\n",
       "  p: Float64 NaN\n",
       "  vbl: Float64 NaN\n",
       "  vbh: Float64 NaN\n",
       "  pm: ModelObj.FirmParams\n",
       "  bi: ModelObj.BPrInputs\n",
       "  bs: ModelObj.BPrSurfs\n",
       "  bf: ModelObj.BPrInterpFuns\n",
       "  optCVM: ModelObj.OptKStruct\n",
       "  optSVM: ModelObj.OptKStruct\n"
      ]
     },
     "execution_count": 64,
     "metadata": {},
     "output_type": "execute_result"
    }
   ],
   "source": [
    "comb_num = 55\n",
    "# Set Parameters\n",
    "bt = Batch.set_par_dict(bt, comb_num)\n",
    "\n",
    "# Set Directories & Paths (Main, Batch, Maturity, Combination)\n",
    "bt = Batch.set_comb_res_paths(bt)\n",
    "\n",
    "# Construct Firm Object\n",
    "svm2 = Batch.load_bpr_surfs(bt)\n",
    "\n",
    "# Extract Optimal Capital Structure\n",
    "svm2 = ModelObj.set_svm_opt_k_struct(svm2, optDf)"
   ]
  },
  {
   "cell_type": "code",
   "execution_count": 53,
   "metadata": {},
   "outputs": [
    {
     "ename": "UndefVarError",
     "evalue": "UndefVarError: JointKStruct not defined",
     "output_type": "error",
     "traceback": [
      "UndefVarError: JointKStruct not defined",
      "",
      "Stacktrace:",
      " [1] top-level scope at In[53]:1"
     ]
    }
   ],
   "source": [
    "\n",
    "function joint_bond_price(svm1, svm2, jks,\n",
    "                          μ::Float64, Vt::Float64, ttm::Float64)\n",
    "    \n",
    "    # Compute Bond Prices\n",
    "    bpr1 = BondPrInterp.get_svm_bond_price(svm1, vbl1, ttm; Vt=Vt, \n",
    "                                              mu_b=jks.mu_b, c=jks.c, p=jks.p)\n",
    "    \n",
    "    bpr2 = BondPrInterp.get_svm_bond_price(svm2, vbl2, ttm; Vt=Vt, \n",
    "                                           mu_b=jks.mu_b, c=jks.c, p=jks.p)\n",
    "    # Joint Price\n",
    "    return μ * bpr1 + (1-μ) * bpr2\n",
    "    \n",
    "end\n",
    "\n",
    "function joint_debt_price(svm1, svm2, jks,\n",
    "                          μ::Float64, Vt::Float64, ttm::Float64; ttmN=10^4)\n",
    "    \n",
    "    # Compute Bond Prices\n",
    "    dpr1 = BondPrInterp.get_svm_debt_price(svm1, vbl1; Vt=Vt, \n",
    "                                              mu_b=jks.mu_b, c=jks.c, p=jks.p, ttmN=ttmN)\n",
    "    \n",
    "    dpr2 = BondPrInterp.get_svm_debt_price(svm2, vbl2; Vt=Vt, \n",
    "                                           mu_b=jks.mu_b, c=jks.c, p=jks.p, ttmN=ttmN)\n",
    "    # Joint Price\n",
    "    return μ * dpr1 + (1-μ) * dpr2\n",
    "    \n",
    "end"
   ]
  },
  {
   "cell_type": "code",
   "execution_count": 52,
   "metadata": {},
   "outputs": [
    {
     "data": {
      "text/latex": [
       "No documentation found.\n",
       "\n",
       "\\texttt{Main.BondPrInterp.get\\_svm\\_debt\\_price} is a \\texttt{Function}.\n",
       "\n",
       "\\begin{verbatim}\n",
       "# 1 method for generic function \"get_svm_debt_price\":\n",
       "[1] get_svm_debt_price(svm, vbl; Vt, mu_b, c, p, ttmN) in Main.BondPrInterp at /home/artur/BondPricing/Julia/modules/BondPrInterp/debtpr_funs.jl:69\n",
       "\\end{verbatim}\n"
      ],
      "text/markdown": [
       "No documentation found.\n",
       "\n",
       "`Main.BondPrInterp.get_svm_debt_price` is a `Function`.\n",
       "\n",
       "```\n",
       "# 1 method for generic function \"get_svm_debt_price\":\n",
       "[1] get_svm_debt_price(svm, vbl; Vt, mu_b, c, p, ttmN) in Main.BondPrInterp at /home/artur/BondPricing/Julia/modules/BondPrInterp/debtpr_funs.jl:69\n",
       "```\n"
      ],
      "text/plain": [
       "  No documentation found.\n",
       "\n",
       "  \u001b[36mMain.BondPrInterp.get_svm_debt_price\u001b[39m is a \u001b[36mFunction\u001b[39m.\n",
       "\n",
       "\u001b[36m  # 1 method for generic function \"get_svm_debt_price\":\u001b[39m\n",
       "\u001b[36m  [1] get_svm_debt_price(svm, vbl; Vt, mu_b, c, p, ttmN) in Main.BondPrInterp at /home/artur/BondPricing/Julia/modules/BondPrInterp/debtpr_funs.jl:69\u001b[39m"
      ]
     },
     "execution_count": 52,
     "metadata": {},
     "output_type": "execute_result"
    }
   ],
   "source": [
    "?BondPrInterp.get_svm_debt_price()"
   ]
  },
  {
   "cell_type": "code",
   "execution_count": 70,
   "metadata": {},
   "outputs": [
    {
     "data": {
      "text/plain": [
       "44.27806526251869"
      ]
     },
     "execution_count": 70,
     "metadata": {},
     "output_type": "execute_result"
    }
   ],
   "source": [
    "AnalyticFunctions.get_cvm_vb(svm1, svm1.pm.sigmah;mu_b=mu_b, c=c, p=p)"
   ]
  },
  {
   "cell_type": "code",
   "execution_count": 41,
   "metadata": {},
   "outputs": [
    {
     "data": {
      "text/plain": [
       "ModelObj.OptKStruct\n",
       "  mu_b: Float64 1.0\n",
       "  m: Float64 1.0\n",
       "  c: Float64 3.3069306930693068\n",
       "  p: Float64 38.9017192366007\n",
       "  vbl: Float64 45.10464917295181\n"
      ]
     },
     "execution_count": 41,
     "metadata": {},
     "output_type": "execute_result"
    }
   ],
   "source": [
    "# jf.r[].svm.optSVM\n",
    "jf.r[396].svm.optSVM"
   ]
  },
  {
   "cell_type": "code",
   "execution_count": 46,
   "metadata": {},
   "outputs": [
    {
     "data": {
      "text/plain": [
       "Float32"
      ]
     },
     "execution_count": 46,
     "metadata": {},
     "output_type": "execute_result"
    }
   ],
   "source": [
    "typeof(jf.s.svm.pm.V0)"
   ]
  },
  {
   "cell_type": "code",
   "execution_count": 50,
   "metadata": {},
   "outputs": [
    {
     "name": "stdout",
     "output_type": "stream",
     "text": [
      "  bpr1: 45.89296104109053\n",
      "  bpr2: 45.890574274822825\n"
     ]
    },
    {
     "data": {
      "text/plain": [
       "45.89176765795668"
      ]
     },
     "execution_count": 50,
     "metadata": {},
     "output_type": "execute_result"
    }
   ],
   "source": [
    "mu_b = jf.s.svm.optSVM.mu_b\n",
    "m = jf.s.svm.optSVM.m\n",
    "c = jf.s.svm.optSVM.c\n",
    "p = jf.s.svm.optSVM.p\n",
    "vbl = jf.s.svm.optSVM.vbl #svm1.optSVM.vbl\n",
    "vbl2 = AnalyticFunctions.get_cvm_vb(jf.r[396].svm, jf.r[396].svm.pm.sigmah;mu_b=mu_b, c=c, p=p)\n",
    "#55. #AnalyticFunctions.get_cvm_vb(svm2, svm2.pm.sigmah;mu_b=mu_b, c=c, p=p)\n",
    "\n",
    "get_bond_price(jf.s.svm, jf.r[396].svm, \n",
    "               jf.mu, convert(Float64, jf.s.svm.pm.V0), jf.s.svm.optSVM.m;\n",
    "               vbl1=vbl, \n",
    "               vbl2=vbl2,\n",
    "               mu_b=mu_b, \n",
    "               m=m,\n",
    "               c=c, \n",
    "               p=p)"
   ]
  },
  {
   "cell_type": "code",
   "execution_count": 51,
   "metadata": {},
   "outputs": [
    {
     "data": {
      "text/plain": [
       "49.17214773927121"
      ]
     },
     "execution_count": 51,
     "metadata": {},
     "output_type": "execute_result"
    }
   ],
   "source": [
    "vbl2"
   ]
  },
  {
   "cell_type": "code",
   "execution_count": 101,
   "metadata": {},
   "outputs": [
    {
     "data": {
      "text/plain": [
       "45.89341676224195"
      ]
     },
     "execution_count": 101,
     "metadata": {},
     "output_type": "execute_result"
    }
   ],
   "source": [
    "BondPrInterp.get_svm_debt_price(jf.s.svm, jf.s.svm.optSVM.vbl; Vt=jf.s.svm.pm.V0, \n",
    "                                mu_b=jf.s.svm.optSVM.mu_b, \n",
    "                                c=jf.s.svm.optSVM.c, p=jf.s.svm.optSVM.p)"
   ]
  },
  {
   "cell_type": "code",
   "execution_count": 17,
   "metadata": {},
   "outputs": [
    {
     "data": {
      "text/plain": [
       "0.08:0.08:1.2"
      ]
     },
     "execution_count": 17,
     "metadata": {},
     "output_type": "execute_result"
    }
   ],
   "source": [
    "svm.bs.vtgrid"
   ]
  },
  {
   "cell_type": "code",
   "execution_count": 20,
   "metadata": {},
   "outputs": [
    {
     "data": {
      "text/plain": [
       "get_surfs_debt (generic function with 1 method)"
      ]
     },
     "execution_count": 20,
     "metadata": {},
     "output_type": "execute_result"
    }
   ],
   "source": [
    "function get_surfs_debt(svm)\n",
    "#     svm.bs.ttmgrid = svm.m:svm.m\n",
    "    v0 = log(svm.pm.V0/svm.vbl)\n",
    "    svm.bs.vtgrid = v0:v0\n",
    "    \n",
    "    vbh = AnalyticFunctions.get_cvm_vb(svm, svm.pm.sigmah)\n",
    "    vbhl = (vbh/svm.vbl)\n",
    "    svm.bs.vbhlgrid = vbhl:vbhl\n",
    "    \n",
    "    vbh = AnalyticFunctions.get_cvm_vb(svm, svm.pm.sigmah)\n",
    "    \n",
    "    f11_surf = fetch(@spawn BondPrInterp.f11_inputs(svm))\n",
    "    f12_surf = fetch(@spawn BondPrInterp.f12_inputs(svm))\n",
    "    f13_surf = fetch(@spawn BondPrInterp.f13_inputs(svm))\n",
    "    f21_surf = fetch(@spawn BondPrInterp.f21_inputs(svm))\n",
    "    f22_surf = fetch(@spawn BondPrInterp.f22_inputs(svm))\n",
    "\n",
    "    return Dict(:f11_surf => f11_surf,\n",
    "                :f12_surf => f12_surf,\n",
    "                :f13_surf => f13_surf,\n",
    "                :f21_surf => f21_surf,\n",
    "                :f22_surf => f22_surf)\n",
    "end"
   ]
  },
  {
   "cell_type": "code",
   "execution_count": 22,
   "metadata": {},
   "outputs": [
    {
     "name": "stdout",
     "output_type": "stream",
     "text": [
      "  8.335829 seconds (610.23 k allocations: 261.412 MiB, 2.54% gc time)\n"
     ]
    },
    {
     "data": {
      "text/plain": [
       "Dict{Symbol,Array{Float64,N} where N} with 5 entries:\n",
       "  :f11_surf => [0.00990995 0.019642 … 0.0830446 0.0914624]\n",
       "  :f12_surf => [0.00986985 0.0194829 … 0.0799902 0.0877059]\n",
       "  :f13_surf => [2.68017e-24 3.89076e-14 … 2.35059e-5 4.6956e-5]\n",
       "  :f21_surf => [1.89177e-38 2.80314e-21 … 5.38632e-7 1.56147e-6]\n",
       "  :f22_surf => [1.92931e-38 2.91366e-21 … 6.3181e-7 1.8611e-6]"
      ]
     },
     "execution_count": 22,
     "metadata": {},
     "output_type": "execute_result"
    }
   ],
   "source": [
    "dsurfs = @time get_surfs_debt(svm)"
   ]
  },
  {
   "cell_type": "code",
   "execution_count": null,
   "metadata": {},
   "outputs": [],
   "source": [
    "function get_surfs(svm)\n",
    "#     svm.bs.ttmgrid = svm.m:svm.m\n",
    "    svm.bs.ttmgrid = svm.m:svm.m\n",
    "    svm.bs.ttmgrid = svm.m:svm.m\n",
    "    \n",
    "    vbh = AnalyticFunctions.get_cvm_vb(svm, svm.pm.sigmah)\n",
    "    \n",
    "    f11_surf = fetch(@spawn BondPrInterp.f11_inputs(svm))\n",
    "    f12_surf = fetch(@spawn BondPrInterp.f12_inputs(svm))\n",
    "    f13_surf = fetch(@spawn BondPrInterp.f13_inputs(svm))\n",
    "    f21_surf = fetch(@spawn BondPrInterp.f21_inputs(svm))\n",
    "    f22_surf = fetch(@spawn BondPrInterp.f22_inputs(svm))\n",
    "\n",
    "    return Dict(:f11_surf => f11_surf,\n",
    "                :f12_surf => f12_surf,\n",
    "                :f13_surf => f13_surf,\n",
    "                :f21_surf => f21_surf,\n",
    "                :f22_surf => f22_surf)\n",
    "end"
   ]
  },
  {
   "cell_type": "code",
   "execution_count": 100,
   "metadata": {},
   "outputs": [
    {
     "data": {
      "text/plain": [
       "get_surfs (generic function with 1 method)"
      ]
     },
     "execution_count": 100,
     "metadata": {},
     "output_type": "execute_result"
    }
   ],
   "source": [
    "function get_surfs(svm)\n",
    "    svm.bs.ttmgrid = svm.m:svm.m\n",
    "    f11_surf = fetch(@spawn BondPrInterp.f11_inputs(svm))\n",
    "    f12_surf = fetch(@spawn BondPrInterp.f12_inputs(svm))\n",
    "    f13_surf = fetch(@spawn BondPrInterp.f13_inputs(svm))\n",
    "    f21_surf = fetch(@spawn BondPrInterp.f21_inputs(svm))\n",
    "    f22_surf = fetch(@spawn BondPrInterp.f22_inputs(svm))\n",
    "\n",
    "    return Dict(:f11_surf => f11_surf,\n",
    "                :f12_surf => f12_surf,\n",
    "                :f13_surf => f13_surf,\n",
    "                :f21_surf => f21_surf,\n",
    "                :f22_surf => f22_surf)\n",
    "end\n"
   ]
  },
  {
   "cell_type": "code",
   "execution_count": 101,
   "metadata": {},
   "outputs": [
    {
     "name": "stdout",
     "output_type": "stream",
     "text": [
      "127.782789 seconds (13.17 M allocations: 3.196 GiB, 1.53% gc time)\n"
     ]
    },
    {
     "data": {
      "text/plain": [
       "Dict{Symbol,Array{Float64,N} where N} with 5 entries:\n",
       "  :f11_surf => [0.0622176; 0.0835569; … ; 0.0912468; 0.0904588]\n",
       "  :f12_surf => [0.0586514; 0.0795579; … ; 0.0875394; 0.0867639]…\n",
       "  :f13_surf => [0.000770761; 0.000482304; … ; 2.76679e-10; 5.44506e-11]…\n",
       "  :f21_surf => [5.46482e-23; 7.35334e-21; … ; 0.000219994; 0.00101671]\n",
       "  :f22_surf => [6.63675e-23; 8.92457e-21; … ; 0.000257835; 0.00117892]"
      ]
     },
     "execution_count": 101,
     "metadata": {},
     "output_type": "execute_result"
    }
   ],
   "source": [
    "bs_tau =  @time get_surfs(svm1)"
   ]
  },
  {
   "cell_type": "code",
   "execution_count": 105,
   "metadata": {},
   "outputs": [
    {
     "data": {
      "text/plain": [
       "Dict{String,StepRangeLen{Float64,Base.TwicePrecision{Float64},Base.TwicePrecision{Float64}}} with 3 entries:\n",
       "  \"ttmgrid_ref\"  => 1.0:0.0:1.0\n",
       "  \"vtgrid_ref\"   => 0.08:0.0018697829716193656:1.2\n",
       "  \"vbhlgrid_ref\" => 0.6:0.0014571948998178506:1.4"
      ]
     },
     "execution_count": 105,
     "metadata": {},
     "output_type": "execute_result"
    }
   ],
   "source": [
    "ref_surfs"
   ]
  },
  {
   "cell_type": "code",
   "execution_count": 209,
   "metadata": {},
   "outputs": [
    {
     "data": {
      "text/plain": [
       "interp_bs_tau (generic function with 1 method)"
      ]
     },
     "execution_count": 209,
     "metadata": {},
     "output_type": "execute_result"
    }
   ],
   "source": [
    "function interp_bs_tau(svm, bs_tau; fixed_tau=true)\n",
    "    xvec = svm.bs.vtgrid\n",
    "    if !fixed_tau\n",
    "        xvec = svm.bs.ttmgrid\n",
    "    end\n",
    "    xN = size(xvec, 1)\n",
    "    \n",
    "    bs_tau2 = Dict()\n",
    "    bs_tau2[:f11] = Dierckx.Spline1D(xvec, bs_tau[:f11_surf][:]; \n",
    "                           k=3, bc=\"extrapolate\")\n",
    "    bs_tau2[:f12] = Dierckx.Spline2D(xvec, svm.bs.vbhlgrid, \n",
    "                           bs_tau[:f12_surf][:, 1, :]; \n",
    "                           kx=3, ky=3, s=xN)\n",
    "    bs_tau2[:f13] = Dierckx.Spline2D(xvec, svm.bs.vbhlgrid, \n",
    "                           bs_tau[:f13_surf][:, 1, :]; \n",
    "                           kx=3, ky=3, s=xN)\n",
    "    bs_tau2[:f21] = Dierckx.Spline1D(xvec, bs_tau[:f21_surf][:]; \n",
    "                           k=3, bc=\"extrapolate\")\n",
    "    bs_tau2[:f22] = Dierckx.Spline1D(xvec, bs_tau[:f22_surf][:]; \n",
    "                           k=3, bc=\"extrapolate\")\n",
    "    return bs_tau2\n",
    "end"
   ]
  },
  {
   "cell_type": "code",
   "execution_count": 210,
   "metadata": {},
   "outputs": [
    {
     "data": {
      "text/plain": [
       "Dict{Any,Any} with 5 entries:\n",
       "  :f22 => Spline1D(knots=[0.08,0.24 … 1.04,1.2] (13 elements), k=3, extrapolati…\n",
       "  :f12 => Spline2D([0.08, 0.08, 0.08, 0.08, 1.2, 1.2, 1.2, 1.2], [0.6, 0.6, 0.6…\n",
       "  :f21 => Spline1D(knots=[0.08,0.24 … 1.04,1.2] (13 elements), k=3, extrapolati…\n",
       "  :f13 => Spline2D([0.08, 0.08, 0.08, 0.08, 1.2, 1.2, 1.2, 1.2], [0.6, 0.6, 0.6…\n",
       "  :f11 => Spline1D(knots=[0.08,0.24 … 1.04,1.2] (13 elements), k=3, extrapolati…"
      ]
     },
     "execution_count": 210,
     "metadata": {},
     "output_type": "execute_result"
    }
   ],
   "source": [
    "bs_tau2 = interp_bs_tau(svm1, bs_tau)"
   ]
  },
  {
   "cell_type": "code",
   "execution_count": 208,
   "metadata": {},
   "outputs": [
    {
     "data": {
      "text/plain": [
       "-0.00036416572421531164"
      ]
     },
     "execution_count": 208,
     "metadata": {},
     "output_type": "execute_result"
    }
   ],
   "source": [
    "bs_tau2[:f13](.7, .7)"
   ]
  },
  {
   "cell_type": "code",
   "execution_count": 201,
   "metadata": {},
   "outputs": [
    {
     "data": {
      "text/plain": [
       "Dict{Symbol,Array{Float64,N} where N} with 6 entries:\n",
       "  :f11_surf => [0.0622176; 0.0835569; … ; 0.0912468; 0.0904588]\n",
       "  :f12_surf => [0.0586514; 0.0795579; … ; 0.0875394; 0.0867639]…\n",
       "  :f13_surf => [0.000770761; 0.000482304; … ; 2.76679e-10; 5.44506e-11]…\n",
       "  :f21_surf => [5.46482e-23; 7.35334e-21; … ; 0.000219994; 0.00101671]\n",
       "  :f13      => [0.000770761 0.00232793 … 0.0031617 0.00130908; 0.000482304 0.00…\n",
       "  :f22_surf => [6.63675e-23; 8.92457e-21; … ; 0.000257835; 0.00117892]"
      ]
     },
     "execution_count": 201,
     "metadata": {},
     "output_type": "execute_result"
    }
   ],
   "source": [
    "bs_tau"
   ]
  },
  {
   "cell_type": "code",
   "execution_count": 200,
   "metadata": {},
   "outputs": [
    {
     "ename": "MethodError",
     "evalue": "MethodError: Cannot `convert` an object of type Nothing to an object of type Array{Float64,N} where N\nClosest candidates are:\n  convert(::Type{Array{T,N} where N}, !Matched::StaticArrays.SizedArray{S,T,N,M} where M where N) where {T, S} at /home/artur/.julia/packages/StaticArrays/mcf7t/src/SizedArray.jl:79\n  convert(::Type{Array{S,N} where N}, !Matched::DataValues.DataValueArray{T,N}) where {S, T, N} at /home/artur/.julia/packages/DataValues/74mqv/src/array/primitives.jl:280\n  convert(::Type{T<:Array}, !Matched::AbstractArray) where T<:Array at array.jl:474\n  ...",
     "output_type": "error",
     "traceback": [
      "MethodError: Cannot `convert` an object of type Nothing to an object of type Array{Float64,N} where N\nClosest candidates are:\n  convert(::Type{Array{T,N} where N}, !Matched::StaticArrays.SizedArray{S,T,N,M} where M where N) where {T, S} at /home/artur/.julia/packages/StaticArrays/mcf7t/src/SizedArray.jl:79\n  convert(::Type{Array{S,N} where N}, !Matched::DataValues.DataValueArray{T,N}) where {S, T, N} at /home/artur/.julia/packages/DataValues/74mqv/src/array/primitives.jl:280\n  convert(::Type{T<:Array}, !Matched::AbstractArray) where T<:Array at array.jl:474\n  ...",
      "",
      "Stacktrace:",
      " [1] setindex!(::Dict{Symbol,Array{Float64,N} where N}, ::Nothing, ::Symbol) at ./dict.jl:381",
      " [2] top-level scope at In[200]:6"
     ]
    }
   ],
   "source": [
    "#  bs_tau[:f13] = Dierckx.Spline2D(svm1.bs.vtgrid, svm1.bs.vbhlgrid, \n",
    "#                            bs_tau[:f13_surf][:, 1, :];  s=size(svm1.bs.vtgrid, 1))\n",
    "\n",
    "f_itp = Interpolations.interpolate(bs_tau[:f13_surf][:, 1, :], \n",
    "                                 BSpline(Cubic(Line(Interpolations.OnGrid()))))\n",
    "bs_tau[:f13] = nothing\n",
    "bs_tau[:f13] = Interpolations.scale(f_itp, svm1.bs.vtgrid, svm1.bs.vbhlgrid)"
   ]
  },
  {
   "cell_type": "code",
   "execution_count": 199,
   "metadata": {},
   "outputs": [
    {
     "ename": "MethodError",
     "evalue": "MethodError: objects of type Array{Float64,2} are not callable\nUse square brackets [] for indexing an Array.",
     "output_type": "error",
     "traceback": [
      "MethodError: objects of type Array{Float64,2} are not callable\nUse square brackets [] for indexing an Array.",
      "",
      "Stacktrace:",
      " [1] top-level scope at In[199]:1"
     ]
    }
   ],
   "source": [
    "bs_tau[:f13](.7, .9)"
   ]
  },
  {
   "cell_type": "code",
   "execution_count": 158,
   "metadata": {},
   "outputs": [
    {
     "ename": "MethodError",
     "evalue": "MethodError: Cannot `convert` an object of type Spline1D to an object of type Array{Float64,N} where N\nClosest candidates are:\n  convert(::Type{Array{T,N} where N}, !Matched::StaticArrays.SizedArray{S,T,N,M} where M where N) where {T, S} at /home/artur/.julia/packages/StaticArrays/mcf7t/src/SizedArray.jl:79\n  convert(::Type{Array{S,N} where N}, !Matched::DataValues.DataValueArray{T,N}) where {S, T, N} at /home/artur/.julia/packages/DataValues/74mqv/src/array/primitives.jl:280\n  convert(::Type{T<:Array}, !Matched::AbstractArray) where T<:Array at array.jl:474\n  ...",
     "output_type": "error",
     "traceback": [
      "MethodError: Cannot `convert` an object of type Spline1D to an object of type Array{Float64,N} where N\nClosest candidates are:\n  convert(::Type{Array{T,N} where N}, !Matched::StaticArrays.SizedArray{S,T,N,M} where M where N) where {T, S} at /home/artur/.julia/packages/StaticArrays/mcf7t/src/SizedArray.jl:79\n  convert(::Type{Array{S,N} where N}, !Matched::DataValues.DataValueArray{T,N}) where {S, T, N} at /home/artur/.julia/packages/DataValues/74mqv/src/array/primitives.jl:280\n  convert(::Type{T<:Array}, !Matched::AbstractArray) where T<:Array at array.jl:474\n  ...",
      "",
      "Stacktrace:",
      " [1] setindex!(::Dict{Symbol,Array{Float64,N} where N}, ::Spline1D, ::Symbol) at ./dict.jl:381",
      " [2] interp_bs_tau(::ModelObj.Firm, ::Dict{Symbol,Array{Float64,N} where N}) at ./In[157]:2",
      " [3] top-level scope at In[158]:1"
     ]
    }
   ],
   "source": [
    "bs_tau = interp_bs_tau(svm1, bs_tau)"
   ]
  },
  {
   "cell_type": "code",
   "execution_count": 484,
   "metadata": {},
   "outputs": [
    {
     "data": {
      "text/plain": [
       "34.13617797275895"
      ]
     },
     "execution_count": 484,
     "metadata": {},
     "output_type": "execute_result"
    }
   ],
   "source": [
    "BondPrInterp.get_svm_bond_price(svm1, svm1.vbl, ttm; Vt=50)"
   ]
  },
  {
   "cell_type": "code",
   "execution_count": 493,
   "metadata": {},
   "outputs": [
    {
     "data": {
      "text/plain": [
       "41.75504620307912"
      ]
     },
     "execution_count": 493,
     "metadata": {},
     "output_type": "execute_result"
    }
   ],
   "source": [
    "vbh = AnalyticFunctions.get_cvm_vb(svm2, svm2.pm.sigmah; c=svm1.c, p=svm1.p)"
   ]
  },
  {
   "cell_type": "code",
   "execution_count": 494,
   "metadata": {},
   "outputs": [
    {
     "data": {
      "text/plain": [
       "1.5534758331595935"
      ]
     },
     "execution_count": 494,
     "metadata": {},
     "output_type": "execute_result"
    }
   ],
   "source": [
    "vbh/svm2.vbl"
   ]
  },
  {
   "cell_type": "code",
   "execution_count": 489,
   "metadata": {},
   "outputs": [
    {
     "ename": "BoundsError",
     "evalue": "BoundsError: attempt to access 15×10×11 scale(interpolate(OffsetArray(::Array{Float64,3}, 0:16, 0:11, 0:12), BSpline(Cubic(Line(OnGrid())))), (0.08:0.08:1.2, 0.1:0.1:1.0, 0.6:0.08:1.4)) with element type Float64 at index [0.6206975876428453, 1.0, 1.5534758331595935]",
     "output_type": "error",
     "traceback": [
      "BoundsError: attempt to access 15×10×11 scale(interpolate(OffsetArray(::Array{Float64,3}, 0:16, 0:11, 0:12), BSpline(Cubic(Line(OnGrid())))), (0.08:0.08:1.2, 0.1:0.1:1.0, 0.6:0.08:1.4)) with element type Float64 at index [0.6206975876428453, 1.0, 1.5534758331595935]",
      "",
      "Stacktrace:",
      " [1] throw_boundserror(::ScaledInterpolation{Float64,3,Interpolations.BSplineInterpolation{Float64,3,OffsetArrays.OffsetArray{Float64,3,Array{Float64,3}},BSpline{Cubic{Line{OnGrid}}},Tuple{Base.OneTo{Int64},Base.OneTo{Int64},Base.OneTo{Int64}}},BSpline{Cubic{Line{OnGrid}}},Tuple{StepRangeLen{Float64,Base.TwicePrecision{Float64},Base.TwicePrecision{Float64}},StepRangeLen{Float64,Base.TwicePrecision{Float64},Base.TwicePrecision{Float64}},StepRangeLen{Float64,Base.TwicePrecision{Float64},Base.TwicePrecision{Float64}}}}, ::Tuple{Float64,Float64,Float64}) at ./abstractarray.jl:484",
      " [2] (::ScaledInterpolation{Float64,3,Interpolations.BSplineInterpolation{Float64,3,OffsetArrays.OffsetArray{Float64,3,Array{Float64,3}},BSpline{Cubic{Line{OnGrid}}},Tuple{Base.OneTo{Int64},Base.OneTo{Int64},Base.OneTo{Int64}}},BSpline{Cubic{Line{OnGrid}}},Tuple{StepRangeLen{Float64,Base.TwicePrecision{Float64},Base.TwicePrecision{Float64}},StepRangeLen{Float64,Base.TwicePrecision{Float64},Base.TwicePrecision{Float64}},StepRangeLen{Float64,Base.TwicePrecision{Float64},Base.TwicePrecision{Float64}}}})(::Float64, ::Float64, ::Float64) at /home/artur/.julia/packages/Interpolations/0OnYb/src/scaling/scaling.jl:66",
      " [3] get_interp_values(::Main.ModelObj.Firm, ::Float64, ::Float64, ::Float64) at /home/artur/BondPricing/Julia/modules/BondPrInterp/bondpr_funs.jl:79",
      " [4] #get_svm_bond_price#67(::Int64, ::Nothing, ::Float64, ::Float64, ::Function, ::Main.ModelObj.Firm, ::Float64, ::Float64) at /home/artur/BondPricing/Julia/modules/BondPrInterp/bondpr_funs.jl:135",
      " [5] (::getfield(Main.BondPrInterp, Symbol(\"#kw##get_svm_bond_price\")))(::NamedTuple{(:Vt, :c, :p),Tuple{Int64,Float64,Float64}}, ::typeof(Main.BondPrInterp.get_svm_bond_price), ::Main.ModelObj.Firm, ::Float64, ::Float64) at ./none:0",
      " [6] top-level scope at In[489]:1"
     ]
    }
   ],
   "source": [
    "BondPrInterp.get_svm_bond_price(svm2, svm2.vbl, ttm; Vt=50, c=svm1.c, p=svm1.p)"
   ]
  },
  {
   "cell_type": "code",
   "execution_count": null,
   "metadata": {},
   "outputs": [],
   "source": []
  }
 ],
 "metadata": {
  "kernelspec": {
   "display_name": "Julia 1.1.0",
   "language": "julia",
   "name": "julia-1.1"
  },
  "language_info": {
   "file_extension": ".jl",
   "mimetype": "application/julia",
   "name": "julia",
   "version": "1.1.0"
  }
 },
 "nbformat": 4,
 "nbformat_minor": 2
}
