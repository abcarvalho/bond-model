{
 "cells": [
  {
   "cell_type": "code",
   "execution_count": null,
   "metadata": {
    "autoscroll": false,
    "collapsed": false,
    "ein.hycell": false,
    "ein.tags": "worksheet-0",
    "slideshow": {
     "slide_type": "-"
    }
   },
   "outputs": [],
   "source": [
    "module_path = \"/home/artur/BondPricing/Julia/modules/\"\n",
    "include(string(module_path, \"/\", \"ModelObj.jl\"))\n",
    "modnames = [\"AnalyticFunctions\", \"BondPrInterp\", \"EqFinDiff\"]\n",
    "for modl in modnames\n",
    "    include(string(joinpath(module_path, modl), \"/\", modl, \".jl\"))\n",
    "end"
   ]
  },
  {
   "cell_type": "code",
   "execution_count": null,
   "metadata": {
    "autoscroll": false,
    "collapsed": false,
    "ein.hycell": false,
    "ein.tags": "worksheet-0",
    "slideshow": {
     "slide_type": "-"
    }
   },
   "outputs": [],
   "source": [
    "using Revise\n",
    "\n",
    "include(string(module_path, \"/\", \"ModelObj.jl\"))\n",
    "\n",
    "for modl in modnames\n",
    "    include(string(joinpath(module_path, modl), \"/\", modl, \".jl\"))\n",
    "end\n"
   ]
  },
  {
   "cell_type": "code",
   "execution_count": null,
   "metadata": {
    "autoscroll": false,
    "collapsed": false,
    "ein.hycell": false,
    "ein.tags": "worksheet-0",
    "slideshow": {
     "slide_type": "-"
    }
   },
   "outputs": [],
   "source": [
    "pardict = Dict(\"V0\" => 100, \n",
    "               \"vbl\" => 60, \n",
    "               \"vbh\" => 62, \n",
    "                \"m\" => 1.,\n",
    "                \"c\" => 6.39,\n",
    "                \"p\" => 61.68,\n",
    "                \"sigmal\" => .25,\n",
    "                \"sigmah\" => .25,\n",
    "                \"r\" => .08,\n",
    "                \"gross_delta\" => .02,\n",
    "                \"iota\" => .0,\n",
    "                \"xi\" => 1.,\n",
    "                \"kappa\" => .015,\n",
    "                \"alpha\" => .6,\n",
    "                \"pi\" => .27,\n",
    "                \"lambda\" => .3)\n",
    "\n",
    "svm = ModelObj.firm_constructor(pardict)"
   ]
  },
  {
   "cell_type": "code",
   "execution_count": 35,
   "metadata": {
    "autoscroll": false,
    "collapsed": false,
    "ein.hycell": false,
    "ein.tags": "worksheet-0",
    "slideshow": {
     "slide_type": "-"
    }
   },
   "outputs": [],
   "source": [
    "edit(BondPrInterp.fd_interp)"
   ]
  },
  {
   "cell_type": "code",
   "execution_count": 38,
   "metadata": {
    "autoscroll": false,
    "collapsed": false,
    "ein.hycell": false,
    "ein.tags": "worksheet-0",
    "slideshow": {
     "slide_type": "-"
    }
   },
   "outputs": [
    {
     "name": "stderr",
     "output_type": "stream",
     "text": [
      "┌ Warning: interpolate(A, BSpline(Cubic(Line())), Interpolations.OnGrid()) is deprecated, use interpolate(A, BSpline(Cubic(Line(Interpolations.OnGrid()))))\n",
      "│   caller = macro expansion at macros.jl:46 [inlined]\n",
      "└ @ Core /buildworker/worker/package_linux64/build/usr/share/julia/stdlib/v1.0/Distributed/src/macros.jl:46\n",
      "┌ Warning: interpolate(A, BSpline(Cubic(Line())), Interpolations.OnGrid()) is deprecated, use interpolate(A, BSpline(Cubic(Line(Interpolations.OnGrid()))))\n",
      "│   caller = macro expansion at macros.jl:46 [inlined]\n",
      "└ @ Core /buildworker/worker/package_linux64/build/usr/share/julia/stdlib/v1.0/Distributed/src/macros.jl:46\n",
      "┌ Warning: `getindex(itp::AbstractInterpolation{T, N}, i::Vararg{Number, N}) where {T, N}` is deprecated, use `itp(i...)` instead.\n",
      "│   caller = #4 at none:0 [inlined]\n",
      "└ @ Core ./none:0\n"
     ]
    },
    {
     "name": "stderr",
     "output_type": "stream",
     "text": [
      "┌ Warning: `getindex(itp::AbstractInterpolation{T, N}, i::Vararg{Number, N}) where {T, N}` is deprecated, use `itp(i...)` instead.\n",
      "│   caller = #11 at none:0 [inlined]\n",
      "└ @ Core ./none:0\n"
     ]
    },
    {
     "name": "stdout",
     "output_type": "stream",
     "text": [
      "103.324383 seconds (7.33 M allocations: 1.990 GiB, 1.54% gc time)\n"
     ]
    },
    {
     "data": {
      "text/plain": [
       "([0.0637043, 0.112906, 0.150307, 0.178345, 0.199057, 0.214121, 0.224899, 0.23248, 0.237716, 0.241262, 0.24361, 0.245118, 0.246039, 0.246543, 0.246732, 0.24665, 0.246297, 0.245625, 0.244541, 0.242905], [0.0566754 0.0488486 … 0.0176997 0.0088096; 0.101968 0.0900789 … 0.0356983 0.0179562; … ; 0.232474 0.232435 … 0.230826 0.227038; 0.23088 0.230859 … 0.229864 0.227321], [0.00328925 0.0114956 … 0.0175978 0.00876891; 0.00451994 0.016928 … 0.035561 0.0178967; … ; 2.80072e-6 4.28151e-5 … 0.00157795 0.004994; 1.36551e-6 2.28481e-5 … 0.000975106 0.00329437], Distributed.RemoteException(1, CapturedException(MethodError(Interpolations.interpolate, (Distributed.RemoteException(1, CapturedException(BoundsError([-3.30197e-134, -8.80525e-134, -1.76105e-133, 7.0442e-133, 0.0, 0.0, 4.50829e-131, 0.0, 3.60663e-130, -1.44265e-129  …  4.42853e-7, 4.47592e-7, 4.52372e-7, 4.57193e-7, 4.62055e-7, 4.66958e-7, 4.71902e-7, 4.76889e-7, 4.81917e-7, 4.86988e-7], (0.00019999,)), Any[(throw_boundserror(::ScaledInterpolation{Float64,1,BSplineInterpolation{Float64,1,OffsetArray{Float64,1,Array{Float64,1}},BSpline{Cubic{Line{OnGrid}}},Tuple{OneTo{Int64}}},BSpline{Cubic{Line{OnGrid}}},Tuple{StepRangeLen{Float64,TwicePrecision{Float64},TwicePrecision{Float64}}}}, ::Tuple{Float64}) at abstractarray.jl:484, 1), (ScaledInterpolation at scaling.jl:66 [inlined], 1), (getindex(::ScaledInterpolation{Float64,1,BSplineInterpolation{Float64,1,OffsetArray{Float64,1,Array{Float64,1}},BSpline{Cubic{Line{OnGrid}}},Tuple{OneTo{Int64}}},BSpline{Cubic{Line{OnGrid}}},Tuple{StepRangeLen{Float64,TwicePrecision{Float64},TwicePrecision{Float64}}}}, ::Float64) at deprecated.jl:55, 1), (#4 at none:0 [inlined], 1), (iterate at generator.jl:47 [inlined], 1), (collect(::Generator{StepRangeLen{Float64,TwicePrecision{Float64},TwicePrecision{Float64}},##4#7{ScaledInterpolation{Float64,1,BSplineInterpolation{Float64,1,OffsetArray{Float64,1,Array{Float64,1}},BSpline{Cubic{Line{OnGrid}}},Tuple{OneTo{Int64}}},BSpline{Cubic{Line{OnGrid}}},Tuple{StepRangeLen{Float64,TwicePrecision{Float64},TwicePrecision{Float64}}}}}}) at array.jl:619, 1), (macro expansion at macros.jl:50 [inlined], 1), (#f21_int#1(::Float64, ::Int64, ::StepRangeLen{Float64,TwicePrecision{Float64},TwicePrecision{Float64}}, ::Function, ::Float64, ::Float64, ::Float32, ::Float32, ::Float32, ::Float32, ::Float32, ::Float32) at svm_interp_funs.jl:56, 1), (#f21_int at none:0 [inlined], 1), (#44 at none:0 [inlined], 1), (iterate at generator.jl:47 [inlined], 1), (collect(::Generator{StepRangeLen{Float64,TwicePrecision{Float64},TwicePrecision{Float64}},##44#46{Float64,Float32,Float32,Float32,Float32,Float32,Float32,StepRangeLen{Float64,TwicePrecision{Float64},TwicePrecision{Float64}}}}) at array.jl:619, 1), (#43 at macros.jl:43 [inlined], 1), (run_work_thunk(::##43#45{StepRangeLen{Float64,TwicePrecision{Float64},TwicePrecision{Float64}},Float64,Float32,Float32,Float32,Float32,Float32,Float32,StepRangeLen{Float64,TwicePrecision{Float64},TwicePrecision{Float64}}}, ::Bool) at process_messages.jl:56, 1), (run_work_thunk(::RemoteValue, ::Function) at process_messages.jl:65, 1), ((::##102#104{RemoteValue,##43#45{StepRangeLen{Float64,TwicePrecision{Float64},TwicePrecision{Float64}},Float64,Float32,Float32,Float32,Float32,Float32,Float32,StepRangeLen{Float64,TwicePrecision{Float64},TwicePrecision{Float64}}}})() at task.jl:259, 1)])), BSpline(Cubic(Line(Interpolations.OnGrid())))), 0x0000000000006998), Any[(macro expansion at macros.jl:46 [inlined], 1), (#f21_fd#42(::Int64, ::Function, ::StepRangeLen{Float64,TwicePrecision{Float64},TwicePrecision{Float64}}, ::Float32, ::Float64, ::Float32, ::Float32, ::Float32, ::Float32, ::Float32, ::Float32) at svm_interp_fin_diff_funs.jl:24, 1), ((::#kw##f21_fd)(::NamedTuple{(:uN,),Tuple{Int64}}, ::typeof(f21_fd), ::StepRangeLen{Float64,TwicePrecision{Float64},TwicePrecision{Float64}}, ::Float32, ::Float64, ::Float32, ::Float32, ::Float32, ::Float32, ::Float32, ::Float32) at none:0, 1), ((::##99#104{Float64,Int64,Float32,Float32,Float32,Float32,Float32,Float32,Float32})() at macros.jl:43, 1), (run_work_thunk(::##99#104{Float64,Int64,Float32,Float32,Float32,Float32,Float32,Float32,Float32}, ::Bool) at process_messages.jl:56, 1), (run_work_thunk(::RemoteValue, ::Function) at process_messages.jl:65, 1), ((::##102#104{RemoteValue,##99#104{Float64,Int64,Float32,Float32,Float32,Float32,Float32,Float32,Float32}})() at task.jl:259, 1)])), 22)"
      ]
     },
     "execution_count": 38,
     "metadata": {},
     "output_type": "execute_result"
    }
   ],
   "source": [
    "f0fd, f1fd, f2fd, f3fd = @time BondPrInterp.fd_interp(svm)"
   ]
  },
  {
   "cell_type": "code",
   "execution_count": 10,
   "metadata": {
    "autoscroll": false,
    "collapsed": false,
    "ein.hycell": false,
    "ein.tags": "worksheet-0",
    "slideshow": {
     "slide_type": "-"
    }
   },
   "outputs": [
    {
     "ename": "MethodError",
     "evalue": "MethodError: no method matching getindex(::Distributed.RemoteException, ::Float64, ::Float64)",
     "output_type": "error",
     "traceback": [
      "MethodError: no method matching getindex(::Distributed.RemoteException, ::Float64, ::Float64)",
      "",
      "Stacktrace:",
      " [1] top-level scope at In[10]:1"
     ]
    }
   ],
   "source": [
    "f3fd[.5, .8]"
   ]
  },
  {
   "cell_type": "code",
   "execution_count": 15,
   "metadata": {
    "autoscroll": false,
    "collapsed": false,
    "ein.hycell": false,
    "ein.tags": "worksheet-0",
    "slideshow": {
     "slide_type": "-"
    }
   },
   "outputs": [
    {
     "name": "stderr",
     "output_type": "stream",
     "text": [
      "┌ Warning: `getindex(itp::AbstractInterpolation{T, N}, i::Vararg{Number, N}) where {T, N}` is deprecated, use `itp(i...)` instead.\n",
      "│   caller = top-level scope at In[15]:1\n",
      "└ @ Core In[15]:1\n"
     ]
    },
    {
     "data": {
      "text/plain": [
       "0.00039521579082840236"
      ]
     },
     "execution_count": 15,
     "metadata": {},
     "output_type": "execute_result"
    }
   ],
   "source": [
    "f2fd[.5, .8]"
   ]
  },
  {
   "cell_type": "code",
   "execution_count": 14,
   "metadata": {
    "autoscroll": false,
    "collapsed": false,
    "ein.hycell": false,
    "ein.tags": "worksheet-0",
    "slideshow": {
     "slide_type": "-"
    }
   },
   "outputs": [
    {
     "data": {
      "text/plain": [
       "1.0836709442108965"
      ]
     },
     "execution_count": 14,
     "metadata": {},
     "output_type": "execute_result"
    }
   ],
   "source": [
    "vbl = float(63)\n",
    "vbh = AnalyticFunctions.zhi_vb(svm.m, svm.c, svm.p, svm.pm.sigmah, svm.pm.r, \n",
    "                               svm.pm.gross_delta, svm.pm.iota, svm.pm.xi, \n",
    "                               svm.pm.kappa, svm.pm.alpha, svm.pm.pi)\n",
    "vt = log(svm.pm.V0/vbl)\n",
    "vbhl = vbh/vbl"
   ]
  },
  {
   "cell_type": "code",
   "execution_count": null,
   "metadata": {
    "autoscroll": false,
    "collapsed": false,
    "ein.hycell": false,
    "ein.tags": "worksheet-0",
    "slideshow": {
     "slide_type": "-"
    }
   },
   "outputs": [],
   "source": []
  }
 ],
 "metadata": {
  "kernelspec": {
   "display_name": "Julia 1.0.0",
   "name": "julia-1.0"
  },
  "language_info": {
   "file_extension": ".jl",
   "mimetype": "application/julia",
   "name": "julia",
   "version": "1.0.0"
  },
  "name": "Untitled8.ipynb"
 },
 "nbformat": 4,
 "nbformat_minor": 2
}
