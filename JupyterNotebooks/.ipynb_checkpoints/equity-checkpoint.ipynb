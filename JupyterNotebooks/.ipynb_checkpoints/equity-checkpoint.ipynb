{
 "cells": [
  {
   "cell_type": "code",
   "execution_count": null,
   "metadata": {
    "collapsed": true
   },
   "outputs": [],
   "source": []
  },
  {
   "cell_type": "code",
   "execution_count": 5,
   "metadata": {},
   "outputs": [
    {
     "data": {
      "text/plain": [
       "Firm\n",
       "  V0: Float16 100.0\n",
       "  c: Float16 6.39\n",
       "  p: Float16 61.7\n",
       "  vbl: Float32 60.0\n",
       "  vbh: Float32 62.0\n",
       "  pm: FirmParams\n"
      ]
     },
     "execution_count": 5,
     "metadata": {},
     "output_type": "execute_result"
    }
   ],
   "source": [
    "pardict = Dict(\"V0\" => 100, \n",
    "               \"vbl\" => 60, \n",
    "               \"vbh\" => 62, \n",
    "                \"m\" => 1.,\n",
    "                \"c\" => 6.39,\n",
    "                \"p\" => 61.68,\n",
    "                \"sigmal\" => .25,\n",
    "                \"sigmah\" => .25,\n",
    "                \"r\" => .08,\n",
    "                \"gross_delta\" => .02,\n",
    "                \"iota\" => .0,\n",
    "                \"xi\" => 1.,\n",
    "                \"kappa\" => .015,\n",
    "                \"alpha\" => .6,\n",
    "                \"pi\" => .27,\n",
    "                \"lambda\" => .3)\n",
    "\n",
    "using Parameters\n",
    "\n",
    "# @with_kw mutable struct Firm\n",
    "#     V0::Float16\n",
    "#     c::Float16\n",
    "#     p::Float16\n",
    "#     vbl::Float32\n",
    "#     vbh::Float32\n",
    "\n",
    "#     pm::FirmParams\n",
    "\n",
    "# end\n",
    "\n",
    "@with_kw struct FirmParams\n",
    "    m::Float16\n",
    "    alpha::Float16\n",
    "    pi::Float16\n",
    "    \n",
    "    r::Float16\n",
    "    gross_delta::Float16\n",
    "    iota::Float16\n",
    "\n",
    "    xi::UInt8\n",
    "    kappa::Float16\n",
    "    \n",
    "    lambda::Float16\n",
    "    sigmal::Float16\n",
    "    sigmah::Float16\n",
    "    \n",
    "#     fc::FirmChoices\n",
    "\n",
    "end\n",
    "\n",
    "@with_kw mutable struct Firm\n",
    "    V0::Float16\n",
    "    c::Float16\n",
    "    p::Float16\n",
    "    vbl::Float32\n",
    "    vbh::Float32\n",
    "\n",
    "    pm::FirmParams\n",
    "\n",
    "end\n",
    "\n",
    "function firm_constructor(dict)\n",
    "    \n",
    "    return Firm(dict[\"V0\"], dict[\"c\"], dict[\"p\"],\n",
    "                   dict[\"vbl\"], dict[\"vbh\"],\n",
    "                FirmParams(dict[\"m\"], dict[\"alpha\"], dict[\"pi\"],\n",
    "                dict[\"r\"], dict[\"gross_delta\"], dict[\"iota\"],\n",
    "                dict[\"xi\"], dict[\"kappa\"],\n",
    "                dict[\"lambda\"], dict[\"sigmal\"], dict[\"sigmah\"]))\n",
    "end\n",
    "\n",
    "\n",
    "svm = firm_constructor(pardict)"
   ]
  },
  {
   "cell_type": "code",
   "execution_count": 81,
   "metadata": {},
   "outputs": [
    {
     "data": {
      "text/plain": [
       "true"
      ]
     },
     "execution_count": 81,
     "metadata": {},
     "output_type": "execute_result"
    }
   ],
   "source": [
    "'a' in ['a', 'b', 'c']"
   ]
  },
  {
   "cell_type": "code",
   "execution_count": 179,
   "metadata": {},
   "outputs": [
    {
     "name": "stdout",
     "output_type": "stream",
     "text": [
      "P\n"
     ]
    }
   ],
   "source": [
    "param = \"P\"\n",
    "\n",
    "if param == \"C\"\n",
    "    println(true)\n",
    "elseif  param == \"P\"\n",
    "    println(\"P\")\n",
    "end"
   ]
  },
  {
   "cell_type": "code",
   "execution_count": 221,
   "metadata": {},
   "outputs": [
    {
     "data": {
      "text/plain": [
       "Float16(0.6)"
      ]
     },
     "execution_count": 221,
     "metadata": {},
     "output_type": "execute_result"
    }
   ],
   "source": [
    "get_param(svm, \"alpha\")"
   ]
  },
  {
   "cell_type": "code",
   "execution_count": null,
   "metadata": {
    "collapsed": true
   },
   "outputs": [],
   "source": [
    "# Wrappers\n",
    "# get_eq\n",
    "# get_rgrow\n",
    "# get_pv_rfdebt(svm)\n",
    "\n",
    "# => should be parameter extractor:\n",
    "# get_param(container, param_name)\n",
    "# get_sigmal()\n",
    "# get_delta()\n",
    "# get_pi()\n",
    "# get_C()\n",
    "# get_p()\n",
    "# get_r()\n",
    "# get_lambda()\n",
    "# get_alpha()\n",
    "# get_V0()"
   ]
  },
  {
   "cell_type": "code",
   "execution_count": 1,
   "metadata": {},
   "outputs": [
    {
     "data": {
      "text/plain": [
       "AnalyticFunctions2"
      ]
     },
     "execution_count": 1,
     "metadata": {},
     "output_type": "execute_result"
    }
   ],
   "source": [
    "push!(LOAD_PATH, \"/home/artur/BondPricing/Julia/modules/\")\n",
    "include(string(LOAD_PATH[end], \"AnalyticFunctions2.jl\"))"
   ]
  },
  {
   "cell_type": "code",
   "execution_count": null,
   "metadata": {
    "collapsed": true
   },
   "outputs": [],
   "source": []
  },
  {
   "cell_type": "code",
   "execution_count": 25,
   "metadata": {},
   "outputs": [
    {
     "data": {
      "text/plain": [
       "get_param (generic function with 1 method)"
      ]
     },
     "execution_count": 25,
     "metadata": {},
     "output_type": "execute_result"
    }
   ],
   "source": [
    "\n",
    "\n",
    "# Call Analytic Functions module \"af\":\n",
    "function get_rgrow(svm)\n",
    "   return AnalyticFunctions2.rgrow(svm.pm.r, svm.pm.gross_delta) \n",
    "end\n",
    "\n",
    "function get_pv_rfdebt(svm)\n",
    "   return AnalyticFunctions2.rf_debt(svm.pm.m, svm.c, svm.p, \n",
    "                     svm.pm.r, svm.pm.xi, svm.pm.kappa)\n",
    "end\n",
    "\n",
    "function get_cvm_vb(svm, sigma)\n",
    "    return AnalyticFunctions2.zhi_vb(svm.pm.m, svm.c, svm.p, \n",
    "                                     sigma, svm.pm.r, svm.pm.gross_delta, \n",
    "                                     svm.pm.iota, svm.pm.xi, svm.pm.kappa,\n",
    "                                     svm.pm.alpha, svm.pm.pi)\n",
    "end\n",
    "\n",
    "function get_cvm_eq(V, sigma, svm) \n",
    "   v = log(V/get_cvm_vb(svm, sigma))\n",
    "   return AnalyticFunctions2.zhi_eq(v, svm.pm.m, svm.c, svm.p, \n",
    "                 sigma, svm.pm.r, svm.pm.gross_delta, \n",
    "                 svm.pm.iota, svm.pm.xi, svm.pm.kappa, \n",
    "                 svm.pm.alpha, svm.pm.pi)\n",
    "end\n",
    "\n",
    "\n",
    "# ############################################################\n",
    "function deriv(f, x, h)\n",
    "    return (f[x+h] - f[x])/h\n",
    "end\n",
    "\n",
    "function get_param(svm, pname)\n",
    "    val = NaN\n",
    "    svm_pos = findin([string(x) for x in fieldnames(svm)], [pname])\n",
    "    svm_pm_pos = findin([string(x) for x in fieldnames(svm.pm)], [pname])\n",
    "\n",
    "    if pname == \"C\"\n",
    "        return svm.c * svm.pm.m\n",
    "    elseif pname == \"P\"\n",
    "        return svm.p * svm.pm.m    \n",
    "    elseif length(svm_pos) > 0\n",
    "        return getfield(svm, fieldnames(svm)[svm_pos[1]])\n",
    "    else\n",
    "        return getfield(svm.pm, fieldnames(svm.pm)[svm_pm_pos[1]])\n",
    "    end\n",
    "end"
   ]
  },
  {
   "cell_type": "code",
   "execution_count": null,
   "metadata": {
    "collapsed": true
   },
   "outputs": [],
   "source": [
    "function eq_fin_diff_core(cvm, svm, vbl, v_grid, v_sub_grid, bond_prices)\n",
    "        V_sub_grid = vbl * exp.(v_sub_grid)\n",
    "       \n",
    "        # #################################\n",
    "        # ######### Equity Values #########\n",
    "        # #################################\n",
    "        # Upper Barrier: Value of Equity\n",
    "        eq_max = get_cvm_eq(vbl * exp(v_grid[1]), svm.pm.sigmah, svm)\n",
    "\n",
    "        # Note: I can use the CVM value here because both \n",
    "        # the cvm and svm equity values will have converged \n",
    "        # to the credit-risk-free equity value in the upper\n",
    "        # barrier.\n",
    "        \n",
    "        # ##################################\n",
    "        # ##### Baseline Model Equity Values #####\n",
    "        # ##################################\n",
    "        print(\"Computing Constant Volatility Equity Values\")\n",
    "        tic_bsm_eq = tic()\n",
    "        bsm_eqh_sub_vals_Future = @spawn [get_bsm_eq_vals(cvm, V) for V in V_sub_grid]\n",
    "        bsm_eqh_sub_vals = fetch(bsm_eqh_sub_vals_Future)\n",
    "    \n",
    "        # Interpolate\n",
    "        itp = interpolate(reverse(bsm_eqh_sub_vals), BSpline(Cubic(Line())), OnGrid())\n",
    "        bsm_interp_eqh = Interpolations.scale(itp, reverse(v_sub_grid))  # Scale\n",
    "\n",
    "        # Equity Values\n",
    "        bsm_eqh = bsm_interp_eqh(v_grid[2:end-1])\n",
    "        println(\"Finished computing Constant Volatility Equity Values\")\n",
    "        println(\"Time to compute Constant Volatility Equity Values: \", string(tic() - tic_bsm_eq))\n",
    "        println(\"\")\n",
    "                    \n",
    "        # #################################\n",
    "        # ######### Coefficients: #########\n",
    "        # #################################\n",
    "        deltav = v_grid[1] - v_grid[2] # or v_grid[-2] # v_grid[0] / np.float(len(v_grid))\n",
    "        nu = get_rgrow(svm) - .5 * get_param(svm, \"sigmal\")^2\n",
    "\n",
    "        qu = .5 * (nu / deltav + get_param(svm, \"sigmal\") ^ 2 / (deltav ^ 2))\n",
    "        qd = .5 * (-nu / deltav + get_param(svm, \"sigmal\") ^ 2 / (deltav ^ 2))\n",
    "        qm = -(get_param(svm, \"r\") + get_param(svm, \"lambda\") + \n",
    "                                    get_param(svm, \"sigmal\") ^ 2 / (deltav ^ 2))\n",
    "\n",
    "        # Present Value of Debt:\n",
    "        pv_debt = get_pv_rfdebt(svm)\n",
    "                    \n",
    "        # Gamma Vector:\n",
    "        Gamma = get_param(svm, \"delta\") * vbl * exp(reverse(v_grid)) - \\\n",
    "                (1 - get_param(svm, \"pi\")) * get_param(svm, \"C\") + \\\n",
    "                bond_prices - get_param(svm, \"p\") + \\\n",
    "                get_param(svm, \"lambda\") * bsm_eqh\n",
    "\n",
    "        println(\"Shape of Gamma matrix: \", string(Gamma.shape))\n",
    "        Gamma[1] += qu * eq_max\n",
    "\n",
    "        eq_vbl = max(0., get_param(svm, \"alpha\") * vbl - pv_debt)\n",
    "        println(\"eq_vbl: \", string(eq_vbl))\n",
    "        Gamma[end] += qd * eq_vbl\n",
    "\n",
    "        # A Matrix:\n",
    "        A = (qm * Array(Diagonal(ones(length(Gamma)))) +\n",
    "             qd * Array(LowerTriangular(ones(length(Gamma), length(Gamma))) - \n",
    "                            Diagonal(ones(length(Gamma)))) +\n",
    "             qu * Array(UpperTriangular(ones(length(Gamma), length(Gamma))) - \n",
    "                            Diagonal(ones(length(Gamma)))))\n",
    "\n",
    "    \n",
    "        # ###### Compute Pre-Volatility Shock Equity Function: ######\n",
    "        # Form Function and add lim_v->infty E(v)\n",
    "        eq_vals = vcat(eq_max, - inv(A) * Gamma, eq_vbl)\n",
    "\n",
    "        # Interpolate to back-out equity value at VB:\n",
    "        eq_interp_itp = interpolate(reverse(eq_vals), BSpline(Cubic(Line())), OnGrid())\n",
    "        eq_pchip = Interpolations.scale(itp, vbl * exp(reverse(v_grid)))  # Scale\n",
    "\n",
    "        # Compute Derivative at Default Barrier:\n",
    "        h = 10.0^(-5)\n",
    "        eq_pchip_deriv = [deriv(eq_pchip, V, h) for V in vbl * exp(reverse(v_grid))]\n",
    "        #eq_deriv = (eq_pchip[vbl + h] - eq_pchip[vbl])/h\n",
    "        eq_deriv = eq_pchip_deriv[1]\n",
    "\n",
    "        # Equity Values\n",
    "\n",
    "        # Equity set as function of V:\n",
    "        e0 = np.float(eq_pchip(self.V0))\n",
    "\n",
    "        # Look for negative values\n",
    "        eq_min_val = minimum( reverse(eq_vals)[2:end])  # interpolate in a neighborhood\n",
    "        eq_negative = eq_min_val .< -0.1  # & (np.abs(np.min(eq_vals)) > .025)\n",
    "        eq_deriv_min_val = minimum(eq_pchip_deriv)\n",
    "\n",
    "                                                        \n",
    "        # Equity set as function of V:\n",
    "        e0 = float(eq_pchip[get_V0(svm)])\n",
    "\n",
    "\n",
    "        # Look for negative values\n",
    "        eq_min_val = minimum(reverse(eq_vals)[2:end])  # interpolate in a neighborhood\n",
    "        eq_negative = eq_min_val .< -0.1  # & (np.abs(np.min(eq_vals)) > .025)\n",
    "        eq_deriv_min_val = minimum(eq_pchip_deriv) \n",
    "\n",
    "        eq_dict = Dict(\"e0\" => e0,\n",
    "                       \"eq_max\" => eq_max,\n",
    "                       \"eq_vals\"=>  eq_vals,\n",
    "                       \"eq_pchip\" =>  eq_pchip,\n",
    "                       \"eq_deriv\" => eq_deriv,\n",
    "                       \"eq_pchip_deriv\" => eq_pchip_deriv,\n",
    "                       \"eq_vb\" => eq_vbl,\n",
    "                       \"eq_min_val\" => eq_min_val,\n",
    "                       \"eq_negative\" => eq_negative,\n",
    "                       \"eq_deriv_min_val\" => eq_deriv_min_val}\n",
    "\n",
    "        println(\"Total Equity Core Function Computation Time: \", \n",
    "                string(tic() - tic_bsm_eq))\n",
    "                                                                \n",
    "        return Gamma, A, eq_dict\n",
    "end\n"
   ]
  },
  {
   "cell_type": "code",
   "execution_count": null,
   "metadata": {
    "collapsed": true
   },
   "outputs": [],
   "source": []
  },
  {
   "cell_type": "code",
   "execution_count": null,
   "metadata": {
    "collapsed": true
   },
   "outputs": [],
   "source": []
  },
  {
   "cell_type": "code",
   "execution_count": null,
   "metadata": {
    "collapsed": true
   },
   "outputs": [],
   "source": []
  },
  {
   "cell_type": "code",
   "execution_count": null,
   "metadata": {
    "collapsed": true
   },
   "outputs": [],
   "source": []
  },
  {
   "cell_type": "code",
   "execution_count": null,
   "metadata": {
    "collapsed": true
   },
   "outputs": [],
   "source": []
  },
  {
   "cell_type": "code",
   "execution_count": null,
   "metadata": {
    "collapsed": true
   },
   "outputs": [],
   "source": []
  },
  {
   "cell_type": "code",
   "execution_count": null,
   "metadata": {
    "collapsed": true
   },
   "outputs": [],
   "source": []
  },
  {
   "cell_type": "code",
   "execution_count": null,
   "metadata": {
    "collapsed": true
   },
   "outputs": [],
   "source": []
  },
  {
   "cell_type": "code",
   "execution_count": null,
   "metadata": {
    "collapsed": true
   },
   "outputs": [],
   "source": []
  },
  {
   "cell_type": "code",
   "execution_count": null,
   "metadata": {
    "collapsed": true
   },
   "outputs": [],
   "source": []
  },
  {
   "cell_type": "code",
   "execution_count": 43,
   "metadata": {},
   "outputs": [
    {
     "data": {
      "text/plain": [
       "diff (generic function with 1 method)"
      ]
     },
     "execution_count": 43,
     "metadata": {},
     "output_type": "execute_result"
    }
   ],
   "source": [
    "function diff(f, x, h)\n",
    "    return (f[x+h] - f[x])/h\n",
    "end"
   ]
  },
  {
   "cell_type": "code",
   "execution_count": 75,
   "metadata": {},
   "outputs": [
    {
     "data": {
      "text/plain": [
       "20.000009998000223"
      ]
     },
     "execution_count": 75,
     "metadata": {},
     "output_type": "execute_result"
    }
   ],
   "source": [
    "using Interpolations\n",
    "\n",
    "vgrid = linspace(.0, 20.0, 100)\n",
    "a = vgrid.^2\n",
    "itp = interpolate(a, BSpline(Cubic(Line())), OnGrid())\n",
    "aitp = Interpolations.scale(itp, vgrid)\n",
    "\n",
    "# vgrid2 = linspace(0, 10, 1000)\n",
    "\n",
    "h = 10.0^(-5)\n",
    "diff(aitp, 10., h)\n",
    "\n"
   ]
  },
  {
   "cell_type": "code",
   "execution_count": 78,
   "metadata": {},
   "outputs": [
    {
     "data": {
      "text/plain": [
       "0.11663641822735457"
      ]
     },
     "execution_count": 78,
     "metadata": {},
     "output_type": "execute_result"
    }
   ],
   "source": [
    "z = [diff(aitp, v, h) for v in vgrid]\n",
    "\n",
    "z[1]"
   ]
  },
  {
   "cell_type": "code",
   "execution_count": 73,
   "metadata": {},
   "outputs": [
    {
     "data": {
      "text/plain": [
       "3-element Array{Int64,1}:\n",
       " 1\n",
       " 2\n",
       " 4"
      ]
     },
     "execution_count": 73,
     "metadata": {},
     "output_type": "execute_result"
    }
   ],
   "source": [
    "a = Array([1, 2, 4])"
   ]
  },
  {
   "cell_type": "code",
   "execution_count": 74,
   "metadata": {},
   "outputs": [
    {
     "data": {
      "text/plain": [
       "3-element BitArray{1}:\n",
       " false\n",
       " false\n",
       " false"
      ]
     },
     "execution_count": 74,
     "metadata": {},
     "output_type": "execute_result"
    }
   ],
   "source": [
    "a .< -0.1"
   ]
  },
  {
   "cell_type": "code",
   "execution_count": 65,
   "metadata": {},
   "outputs": [
    {
     "data": {
      "text/plain": [
       "3-element Array{Float64,1}:\n",
       " 7.0\n",
       " 7.0\n",
       " 7.0"
      ]
     },
     "execution_count": 65,
     "metadata": {},
     "output_type": "execute_result"
    }
   ],
   "source": [
    "ones(3, 3)*Array([1, 2, 4])"
   ]
  },
  {
   "cell_type": "code",
   "execution_count": 60,
   "metadata": {},
   "outputs": [
    {
     "data": {
      "text/plain": [
       "-5"
      ]
     },
     "execution_count": 60,
     "metadata": {},
     "output_type": "execute_result"
    }
   ],
   "source": [
    "a[1]  = -5"
   ]
  },
  {
   "cell_type": "code",
   "execution_count": 66,
   "metadata": {},
   "outputs": [
    {
     "data": {
      "text/plain": [
       "1.0"
      ]
     },
     "execution_count": 66,
     "metadata": {},
     "output_type": "execute_result"
    }
   ],
   "source": [
    "a = linspace(1, 5, 10)\n",
    "minimum(reverse(a)[2:end])"
   ]
  },
  {
   "cell_type": "code",
   "execution_count": 58,
   "metadata": {},
   "outputs": [
    {
     "data": {
      "text/plain": [
       "1.4444444444444444:0.4444444444444444:4.555555555555555"
      ]
     },
     "execution_count": 58,
     "metadata": {},
     "output_type": "execute_result"
    }
   ],
   "source": [
    "a[2:end-1]"
   ]
  },
  {
   "cell_type": "code",
   "execution_count": 55,
   "metadata": {},
   "outputs": [
    {
     "ename": "LoadError",
     "evalue": "\u001b[91mMethodError: no method matching min(::Array{Float64,1})\u001b[0m\nClosest candidates are:\n  min(::AbstractArray{T1<:Real,N} where N, \u001b[91m::Real\u001b[39m) where T1<:Real at deprecated.jl:56\n  min(::AbstractArray{T1<:Real,N} where N, \u001b[91m::AbstractArray{T2<:Real,N} where N\u001b[39m) where {T1<:Real, T2<:Real} at deprecated.jl:56\n  min(::Any, \u001b[91m::Any\u001b[39m) at operators.jl:361\n  ...\u001b[39m",
     "output_type": "error",
     "traceback": [
      "\u001b[91mMethodError: no method matching min(::Array{Float64,1})\u001b[0m\nClosest candidates are:\n  min(::AbstractArray{T1<:Real,N} where N, \u001b[91m::Real\u001b[39m) where T1<:Real at deprecated.jl:56\n  min(::AbstractArray{T1<:Real,N} where N, \u001b[91m::AbstractArray{T2<:Real,N} where N\u001b[39m) where {T1<:Real, T2<:Real} at deprecated.jl:56\n  min(::Any, \u001b[91m::Any\u001b[39m) at operators.jl:361\n  ...\u001b[39m",
      ""
     ]
    }
   ],
   "source": [
    "min(Array(reverse(a)[2:end]))"
   ]
  },
  {
   "cell_type": "code",
   "execution_count": 57,
   "metadata": {},
   "outputs": [
    {
     "data": {
      "text/plain": [
       "5×5 Array{Float64,2}:\n",
       " -2.67906     2.77246    1.10953    3.65881   -2.10791 \n",
       "  0.482179    0.292567   1.7704    -0.604347  -0.765836\n",
       "  1.24898    -0.566295  -2.71818   -2.58469    2.81763 \n",
       " -0.244485   -0.908828  -0.253154  -0.184022   1.671   \n",
       "  0.0888412   0.563003   1.32185    3.10805   -3.63415 "
      ]
     },
     "execution_count": 57,
     "metadata": {},
     "output_type": "execute_result"
    }
   ],
   "source": [
    "B = inv(A)"
   ]
  },
  {
   "cell_type": "code",
   "execution_count": 58,
   "metadata": {},
   "outputs": [
    {
     "data": {
      "text/plain": [
       "5×5 Array{Float64,2}:\n",
       " 0.183351   0.861084  0.948829   0.730934  0.783926 \n",
       " 0.427853   0.644053  0.676808   0.108715  0.19084  \n",
       " 0.0862672  0.588832  0.0447957  0.473261  0.0782152\n",
       " 0.228764   0.309322  0.495732   0.844661  0.574856 \n",
       " 0.29779    0.599546  0.568306   0.929232  0.293647 "
      ]
     },
     "execution_count": 58,
     "metadata": {},
     "output_type": "execute_result"
    }
   ],
   "source": [
    "inv(B)"
   ]
  },
  {
   "cell_type": "code",
   "execution_count": 9,
   "metadata": {},
   "outputs": [
    {
     "name": "stdout",
     "output_type": "stream",
     "text": [
      "Shape of Gamma matrix: 3\n"
     ]
    }
   ],
   "source": [
    "println(\"Shape of Gamma matrix: \" , string(3))"
   ]
  },
  {
   "cell_type": "code",
   "execution_count": 16,
   "metadata": {},
   "outputs": [
    {
     "data": {
      "text/plain": [
       "1×1 Array{Float64,2}:\n",
       " 4.0"
      ]
     },
     "execution_count": 16,
     "metadata": {},
     "output_type": "execute_result"
    }
   ],
   "source": [
    "4 * Array(Diagonal(ones(length(Gamma))))"
   ]
  },
  {
   "cell_type": "code",
   "execution_count": 31,
   "metadata": {},
   "outputs": [
    {
     "data": {
      "text/plain": [
       "3-element Array{Int64,1}:\n",
       " 1\n",
       " 2\n",
       " 3"
      ]
     },
     "execution_count": 31,
     "metadata": {},
     "output_type": "execute_result"
    }
   ],
   "source": [
    "Gamma = Array([1, 2, 3])"
   ]
  },
  {
   "cell_type": "code",
   "execution_count": 25,
   "metadata": {},
   "outputs": [
    {
     "data": {
      "text/plain": [
       "3×3 Array{Float64,2}:\n",
       " 1.0  1.0  0.0\n",
       " 0.0  1.0  1.0\n",
       " 0.0  0.0  1.0"
      ]
     },
     "execution_count": 25,
     "metadata": {},
     "output_type": "execute_result"
    }
   ],
   "source": [
    "Array(Bidiagonal(ones(3, 3), true))"
   ]
  },
  {
   "cell_type": "code",
   "execution_count": 35,
   "metadata": {},
   "outputs": [
    {
     "data": {
      "text/plain": [
       "3"
      ]
     },
     "execution_count": 35,
     "metadata": {},
     "output_type": "execute_result"
    }
   ],
   "source": [
    "length(Gamma)"
   ]
  },
  {
   "cell_type": "code",
   "execution_count": 40,
   "metadata": {},
   "outputs": [
    {
     "ename": "LoadError",
     "evalue": "\u001b[91mMethodError: Cannot `convert` an object of type Array{Float64,1} to an object of type UpperTriangular\nThis may have arisen from a call to the constructor UpperTriangular(...),\nsince type constructors fall back to convert methods.\u001b[39m",
     "output_type": "error",
     "traceback": [
      "\u001b[91mMethodError: Cannot `convert` an object of type Array{Float64,1} to an object of type UpperTriangular\nThis may have arisen from a call to the constructor UpperTriangular(...),\nsince type constructors fall back to convert methods.\u001b[39m",
      "",
      "Stacktrace:",
      " [1] \u001b[1mUpperTriangular\u001b[22m\u001b[22m\u001b[1m(\u001b[22m\u001b[22m::Array{Float64,1}\u001b[1m)\u001b[22m\u001b[22m at \u001b[1m./sysimg.jl:24\u001b[22m\u001b[22m"
     ]
    }
   ],
   "source": [
    "UpperTriangular(ones(3))"
   ]
  },
  {
   "cell_type": "code",
   "execution_count": 42,
   "metadata": {},
   "outputs": [
    {
     "data": {
      "text/plain": [
       "3×3 Array{Float64,2}:\n",
       " 0.0  0.0  0.0\n",
       " 1.0  0.0  0.0\n",
       " 1.0  1.0  0.0"
      ]
     },
     "execution_count": 42,
     "metadata": {},
     "output_type": "execute_result"
    }
   ],
   "source": [
    "Array(UpperTriangular(ones(length(Gamma), length(Gamma))) - Diagonal(ones(length(Gamma))))\n",
    "Array(LowerTriangular(ones(length(Gamma), length(Gamma))) - Diagonal(ones(length(Gamma))))"
   ]
  },
  {
   "cell_type": "code",
   "execution_count": 24,
   "metadata": {},
   "outputs": [
    {
     "ename": "LoadError",
     "evalue": "\u001b[91mMethodError: no method matching Array(::Diagonal{Float64}, ::Int64)\u001b[0m\nClosest candidates are:\n  Array(\u001b[91m::Type{T}\u001b[39m, ::Int64) where T at deprecated.jl:56\n  Array(\u001b[91m::Type{T}\u001b[39m, ::Int64, \u001b[91m::Int64\u001b[39m) where T at deprecated.jl:56\n  Array(\u001b[91m::Type{T}\u001b[39m, ::Int64, \u001b[91m::Int64\u001b[39m, \u001b[91m::Int64\u001b[39m) where T at deprecated.jl:56\n  ...\u001b[39m",
     "output_type": "error",
     "traceback": [
      "\u001b[91mMethodError: no method matching Array(::Diagonal{Float64}, ::Int64)\u001b[0m\nClosest candidates are:\n  Array(\u001b[91m::Type{T}\u001b[39m, ::Int64) where T at deprecated.jl:56\n  Array(\u001b[91m::Type{T}\u001b[39m, ::Int64, \u001b[91m::Int64\u001b[39m) where T at deprecated.jl:56\n  Array(\u001b[91m::Type{T}\u001b[39m, ::Int64, \u001b[91m::Int64\u001b[39m, \u001b[91m::Int64\u001b[39m) where T at deprecated.jl:56\n  ...\u001b[39m",
      ""
     ]
    }
   ],
   "source": [
    "Array(Diagonal(ones(length(a)-1)), 1)"
   ]
  },
  {
   "cell_type": "code",
   "execution_count": null,
   "metadata": {
    "collapsed": true
   },
   "outputs": [],
   "source": [
    "function eq_fin_diff_core(self, vbl, v_grid, v_sub_grid, bond_prices):\n",
    "        V_sub_grid = vbl * exp(v_sub_grid)\n",
    "\n",
    "        # #################################\n",
    "        # ######### Equity Values #########\n",
    "        # #################################\n",
    "        # Upper Barrier: Value of Equity\n",
    "        eq_max = self._bsml.get_eq(V=vbl * np.exp(v_grid[0]))\n",
    "\n",
    "        # ##################################\n",
    "        # ##### Baseline Model Equity Values #####\n",
    "        # ##################################\n",
    "        println(\"Computing Constant Volatility Equity Values\")\n",
    "        tic_bsm_eq = time()\n",
    "\n",
    "        # with Parallel(n_jobs=5, backend='multiprocessing') as parallel:\n",
    "        bsm_eqh_sub_vals = @spawn [get_bsm_eq_vals(cvm, V) for V in V_sub_grid]\n",
    "        # Interpolate\n",
    "        bsm_interp_eqh = sp.interpolate.PchipInterpolator(v_sub_grid[::-1],\n",
    "                                                          bsm_eqh_sub_vals[::-1])\n",
    "\n",
    "        # Equity Values\n",
    "        bsm_eqh = bsm_interp_eqh(v_grid[1:-1])\n",
    "        print(\"Finished computing Constant Volatility Equity Values\")\n",
    "        print(\"Time to compute Constant Volatility Equity Values: \" + str(time() - tic_bsm_eq))\n",
    "        print(\"\")\n",
    "\n",
    "        # #################################\n",
    "        # ######### Coefficients: #########\n",
    "        # #################################\n",
    "        deltav = v_grid[0] - v_grid[1] # or v_grid[-2] # v_grid[0] / np.float(len(v_grid))\n",
    "        nu = self.get_rgrow() - .5 * self.get_sigmal() ** 2\n",
    "\n",
    "        qu = .5 * (nu / deltav + self.get_sigmal() ** 2 / (deltav ** 2))\n",
    "        qd = .5 * (-nu / deltav + self.get_sigmal() ** 2 / (deltav ** 2))\n",
    "        qm = -(self.r + self._lambda + self.get_sigmal() ** 2 / (deltav ** 2))\n",
    "\n",
    "        # Present Value of Debt:\n",
    "        pv_debt = self.get_pv_rfdebt()\n",
    "\n",
    "        # Gamma Vector:\n",
    "        Gamma = self.get_delta() * vbl * np.exp(v_grid[1:-1]) - \\\n",
    "                (1 - self.pi) * self.get_C() + \\\n",
    "                bond_prices - self.get_p() + \\\n",
    "                self._lambda * bsm_eqh\n",
    "\n",
    "        print('Shape of Gamma matrix: ' + str(Gamma.shape))\n",
    "        Gamma[0] += qu * eq_max\n",
    "\n",
    "        # eq_vbl = np.max([0., self.alpha * vbl - pv_debt,\n",
    "        #                  np.min([self._bsml.get_eq(V=vbl),\n",
    "        #                          self._bsmh.get_eq(V=vbl)])])\n",
    "        eq_vbl = np.max([0., self.alpha * vbl - pv_debt])\n",
    "        print('eq_vbl: ' + str(eq_vbl))\n",
    "        Gamma[-1] += qd * eq_vbl\n",
    "\n",
    "        # A Matrix:\n",
    "        A = (qm * np.diag(np.ones(len(Gamma))) +\n",
    "             qd * np.diag(np.ones(len(Gamma) - 1), 1) +\n",
    "             qu * np.diag(np.ones(len(Gamma) - 1), -1))\n",
    "\n",
    "        # ###### Compute Pre-Volatility Shock Equity Function: ######\n",
    "        # Form Function and add lim_v->infty E(v)\n",
    "        eq_vals = np.concatenate([[eq_max], - sp.linalg.inv(A).dot(Gamma), [eq_vbl]])\n",
    "\n",
    "        # Interpolate to back-out equity value at VB:\n",
    "        eq_pchip = sp.interpolate.PchipInterpolator(vbl * np.exp(v_grid[::-1]),\n",
    "                                                    eq_vals[::-1])\n",
    "\n",
    "        # Compute Derivative at Default Barrier:\n",
    "        eq_pchip_deriv = eq_pchip.derivative()(vbl * np.exp(v_grid[::-1]))\n",
    "        eq_deriv = eq_pchip_deriv[0]\n",
    "\n",
    "        # Equity Values\n",
    "\n",
    "        # Equity set as function of V:\n",
    "        e0 = np.float(eq_pchip(self.V0))\n",
    "\n",
    "        # Look for negative values\n",
    "        eq_min_val = np.min(eq_vals[::-1][1:])  # interpolate in a neighborhood\n",
    "        eq_negative = (eq_min_val < -0.1)  # & (np.abs(np.min(eq_vals)) > .025)\n",
    "        eq_deriv_min_val = np.min(eq_pchip_deriv)\n",
    "\n",
    "        eq_dict = {'e0': e0,\n",
    "                   'eq_max': eq_max,\n",
    "                   'eq_vals': eq_vals,\n",
    "                   'eq_pchip': eq_pchip,\n",
    "                   'eq_deriv': eq_deriv,\n",
    "                   'eq_pchip_deriv': eq_pchip_deriv,\n",
    "                   'eq_vb': eq_vbl,\n",
    "                   'eq_min_val': eq_min_val,\n",
    "                   'eq_negative': eq_negative,\n",
    "                   'eq_deriv_min_val': eq_deriv_min_val}\n",
    "\n",
    "        print('Total Equity Core Function Computation Time: '\n",
    "              + str(time() - tic_bsm_eq))\n",
    "\n",
    "        return Gamma, A, eq_dict"
   ]
  },
  {
   "cell_type": "code",
   "execution_count": null,
   "metadata": {
    "collapsed": true
   },
   "outputs": [],
   "source": []
  },
  {
   "cell_type": "code",
   "execution_count": null,
   "metadata": {
    "collapsed": true
   },
   "outputs": [],
   "source": [
    "   def eq_fin_diff_core(self, vbl, v_grid, v_sub_grid, bond_prices):\n",
    "        V_sub_grid = vbl * np.exp(v_sub_grid)\n",
    "\n",
    "        # #################################\n",
    "        # ######### Equity Values #########\n",
    "        # #################################\n",
    "        # Upper Barrier: Value of Equity\n",
    "        eq_max = self._bsml.get_eq(V=vbl * np.exp(v_grid[0]))\n",
    "\n",
    "        # ##################################\n",
    "        # ##### Baseline Model Equity Values #####\n",
    "        # ##################################\n",
    "        print(\"Computing Constant Volatility Equity Values\")\n",
    "        tic_bsm_eq = time()\n",
    "\n",
    "        # with Parallel(n_jobs=5, backend='multiprocessing') as parallel:\n",
    "        with Parallel(n_jobs=5, backend='threading') as parallel:\n",
    "            acc = 0  # accumulator\n",
    "            while acc < len(V_sub_grid):\n",
    "                bsm_eqh_sub_vals = parallel(delayed(get_bsm_eq_vals)(self, V)\n",
    "                                            for V in V_sub_grid)\n",
    "                acc = len(bsm_eqh_sub_vals)  # synchronization barrier\n",
    "\n",
    "        # Interpolate\n",
    "        bsm_interp_eqh = sp.interpolate.PchipInterpolator(v_sub_grid[::-1],\n",
    "                                                          bsm_eqh_sub_vals[::-1])\n",
    "\n",
    "        # Equity Values\n",
    "        bsm_eqh = bsm_interp_eqh(v_grid[1:-1])\n",
    "        print(\"Finished computing Constant Volatility Equity Values\")\n",
    "        print(\"Time to compute Constant Volatility Equity Values: \" + str(time() - tic_bsm_eq))\n",
    "        print('')\n",
    "\n",
    "        # #################################\n",
    "        # ######### Coefficients: #########\n",
    "        # #################################\n",
    "        deltav = v_grid[0] - v_grid[1] # or v_grid[-2] # v_grid[0] / np.float(len(v_grid))\n",
    "        nu = self.get_rgrow() - .5 * self.get_sigmal() ** 2\n",
    "\n",
    "        qu = .5 * (nu / deltav + self.get_sigmal() ** 2 / (deltav ** 2))\n",
    "        qd = .5 * (-nu / deltav + self.get_sigmal() ** 2 / (deltav ** 2))\n",
    "        qm = -(self.r + self._lambda + self.get_sigmal() ** 2 / (deltav ** 2))\n",
    "\n",
    "        # Present Value of Debt:\n",
    "        pv_debt = self.get_pv_rfdebt()\n",
    "\n",
    "        # Gamma Vector:\n",
    "        Gamma = self.get_delta() * vbl * np.exp(v_grid[1:-1]) - \\\n",
    "                (1 - self.pi) * self.get_C() + \\\n",
    "                bond_prices - self.get_p() + \\\n",
    "                self._lambda * bsm_eqh\n",
    "\n",
    "        print('Shape of Gamma matrix: ' + str(Gamma.shape))\n",
    "        Gamma[0] += qu * eq_max\n",
    "\n",
    "        # eq_vbl = np.max([0., self.alpha * vbl - pv_debt,\n",
    "        #                  np.min([self._bsml.get_eq(V=vbl),\n",
    "        #                          self._bsmh.get_eq(V=vbl)])])\n",
    "        eq_vbl = np.max([0., self.alpha * vbl - pv_debt])\n",
    "        print('eq_vbl: ' + str(eq_vbl))\n",
    "        Gamma[-1] += qd * eq_vbl\n",
    "\n",
    "        # A Matrix:\n",
    "        A = (qm * np.diag(np.ones(len(Gamma))) +\n",
    "             qd * np.diag(np.ones(len(Gamma) - 1), 1) +\n",
    "             qu * np.diag(np.ones(len(Gamma) - 1), -1))\n",
    "\n",
    "        # ###### Compute Pre-Volatility Shock Equity Function: ######\n",
    "        # Form Function and add lim_v->infty E(v)\n",
    "        eq_vals = np.concatenate([[eq_max], - sp.linalg.inv(A).dot(Gamma), [eq_vbl]])\n",
    "\n",
    "        # Interpolate to back-out equity value at VB:\n",
    "        eq_pchip = sp.interpolate.PchipInterpolator(vbl * np.exp(v_grid[::-1]),\n",
    "                                                    eq_vals[::-1])\n",
    "\n",
    "        # Compute Derivative at Default Barrier:\n",
    "        eq_pchip_deriv = eq_pchip.derivative()(vbl * np.exp(v_grid[::-1]))\n",
    "        eq_deriv = eq_pchip_deriv[0]\n",
    "\n",
    "        # Equity Values\n",
    "\n",
    "        # Equity set as function of V:\n",
    "        e0 = np.float(eq_pchip(self.V0))\n",
    "\n",
    "        # Look for negative values\n",
    "        eq_min_val = np.min(eq_vals[::-1][1:])  # interpolate in a neighborhood\n",
    "        eq_negative = (eq_min_val < -0.1)  # & (np.abs(np.min(eq_vals)) > .025)\n",
    "        eq_deriv_min_val = np.min(eq_pchip_deriv)\n",
    "\n",
    "        eq_dict = {'e0': e0,\n",
    "                   'eq_max': eq_max,\n",
    "                   'eq_vals': eq_vals,\n",
    "                   'eq_pchip': eq_pchip,\n",
    "                   'eq_deriv': eq_deriv,\n",
    "                   'eq_pchip_deriv': eq_pchip_deriv,\n",
    "                   'eq_vb': eq_vbl,\n",
    "                   'eq_min_val': eq_min_val,\n",
    "                   'eq_negative': eq_negative,\n",
    "                   'eq_deriv_min_val': eq_deriv_min_val}\n",
    "\n",
    "        print('Total Equity Core Function Computation Time: '\n",
    "              + str(time() - tic_bsm_eq))\n",
    "\n",
    "        return Gamma, A, eq_dict\n",
    "\n",
    "    def equity_fin_diff(self, vbl, p=None, debt=None, full_output=False):\n",
    "        tic = time()\n",
    "\n",
    "        # VB:\n",
    "        self.set_vb(vbl)\n",
    "\n",
    "        # p\n",
    "        if p is not None:\n",
    "            self.set_p(p)\n",
    "\n",
    "        # V MAX:\n",
    "        print('Computing Equity Vmax')\n",
    "        eq_Vmax = self.get_eq_vmax_upper_bound()\n",
    "        print('Equity Vmax: ' + str(eq_Vmax))\n",
    "        print('')\n",
    "\n",
    "        print('Computing Bond Vmax')\n",
    "        bond_Vmax = self.get_bond_vmax()\n",
    "        print('Bond Vmax: ' + str(bond_Vmax))\n",
    "        print('')\n",
    "\n",
    "        # Ensure eq_vmax > bond_vmax\n",
    "        eq_Vmax = np.max([1.25 * bond_Vmax, eq_Vmax])\n",
    "        print('Adjusted Equity Vmax: ' + str(eq_Vmax))\n",
    "\n",
    "        # v max\n",
    "        #v_max = np.log(V_max / self.get_vb())\n",
    "\n",
    "        # #################################\n",
    "        # ###### Newly-Issued Bonds #######\n",
    "        # #################################\n",
    "        # Newly-Issued Bond Prices\n",
    "        v_grid, v_sub_grid, bond_pr, bpr, bond_prices = self.bond_price_fun(vbl,\n",
    "                                                                            bond_Vmax,\n",
    "                                                                            eq_Vmax,\n",
    "                                                                            njobs=1)\n",
    "\n",
    "        # #################################\n",
    "        # ######### Equity Values #########\n",
    "        # #################################\n",
    "        if full_output:\n",
    "            Gamma, A, eq_dict = self.eq_fin_diff_core(vbl, v_grid, v_sub_grid, bond_prices)\n",
    "\n",
    "            res_dict = {'vb': vbl,\n",
    "                        'Vmax': eq_Vmax,\n",
    "                        'eq_max': eq_dict['eq_max'],\n",
    "                        'v_grid': v_grid,\n",
    "                        'v_sub_grid': v_sub_grid,\n",
    "                        'v_sub_bond_pr': bond_pr,\n",
    "                        'bpr_interp': bpr,\n",
    "                        'bondPr': bond_prices,\n",
    "                        'Gamma': Gamma,\n",
    "                        'A': A,\n",
    "                        'eq_vals': eq_dict['eq_vals'],\n",
    "                        'eq_pchip': eq_dict['eq_pchip'],\n",
    "                        'eq_pchip_deriv': eq_dict['eq_pchip_deriv']}\n",
    "\n",
    "            _, df = export_equity_fin_diff_results(self, vbl,\n",
    "                                                   eq_dict,\n",
    "                                                   debt=debt)\n",
    "\n",
    "            print('Total computation time: ' + str(time() - tic))\n",
    "            return res_dict, df\n",
    "\n",
    "        else:\n",
    "            _, _, eq_dict = self.eq_fin_diff_core(vbl, v_grid, v_sub_grid, bond_prices)\n",
    "            _, df = export_equity_fin_diff_results(self, vbl,\n",
    "                                                   eq_dict,\n",
    "                                                   debt=debt)\n",
    "\n",
    "            print('Total computation time: ' + str(time() - tic))\n",
    "            return df\n",
    "\n",
    "    # ####################################################################\n",
    "    "
   ]
  },
  {
   "cell_type": "code",
   "execution_count": null,
   "metadata": {
    "collapsed": true
   },
   "outputs": [],
   "source": []
  }
 ],
 "metadata": {
  "kernelspec": {
   "display_name": "Julia 0.6.0",
   "language": "julia",
   "name": "julia-0.6"
  },
  "language_info": {
   "file_extension": ".jl",
   "mimetype": "application/julia",
   "name": "julia",
   "version": "0.6.0"
  }
 },
 "nbformat": 4,
 "nbformat_minor": 2
}
