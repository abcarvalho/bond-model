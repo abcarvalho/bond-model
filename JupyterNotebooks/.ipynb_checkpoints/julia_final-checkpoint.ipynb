{
 "cells": [
  {
   "cell_type": "code",
   "execution_count": 11,
   "metadata": {},
   "outputs": [
    {
     "name": "stderr",
     "output_type": "stream",
     "text": [
      "WARNING: replacing module TestFunctions.\n",
      "WARNING: replacing module ModelObj.\n",
      "WARNING: replacing module AnalyticFunctions.\n",
      "WARNING: replacing module BondPrInterp.\n",
      "WARNING: replacing module EqFinDiff.\n",
      "WARNING: replacing module Batch.\n",
      "WARNING: replacing module ModelPlots.\n"
     ]
    },
    {
     "ename": "LoadError",
     "evalue": "LoadError: KeyError: key :mu_b not found\nin expression starting at /home/artur/BondPricing/Julia/modules/ModelPlots/_plots_inputs.jl:28",
     "output_type": "error",
     "traceback": [
      "LoadError: KeyError: key :mu_b not found\nin expression starting at /home/artur/BondPricing/Julia/modules/ModelPlots/_plots_inputs.jl:28",
      "",
      "Stacktrace:",
      " [1] getindex(::Dict{Symbol,Array{String,1}}, ::Symbol) at ./dict.jl:478",
      " [2] top-level scope at none:0",
      " [3] include at ./boot.jl:326 [inlined]",
      " [4] include_relative(::Module, ::String) at ./loading.jl:1038",
      " [5] include at ./sysimg.jl:29 [inlined]",
      " [6] include(::String) at /home/artur/BondPricing/Julia/modules/ModelPlots/ModelPlots.jl:10",
      " [7] top-level scope at none:0",
      " [8] include at ./boot.jl:326 [inlined]",
      " [9] include_relative(::Module, ::String) at ./loading.jl:1038",
      " [10] include(::Module, ::String) at ./sysimg.jl:29",
      " [11] include(::String) at ./client.jl:403",
      " [12] top-level scope at ./In[11]:20"
     ]
    }
   ],
   "source": [
    "using Distributions\n",
    "using Interpolations\n",
    "using Distributed\n",
    "using DataFrames\n",
    "using Printf\n",
    "using JLD\n",
    "using CSV\n",
    "using Dierckx\n",
    "using Dates\n",
    "# using PyPlot\n",
    "# using Seaborn\n",
    "\n",
    "main_path = \"/home/artur/BondPricing\"\n",
    "module_path = string(main_path, \"/\", \"Julia/modules/\")\n",
    "include(string(module_path, \"/\", \"TestFunctions.jl\"))\n",
    "modls = [\"ModelObj\", \"AnalyticFunctions\", \n",
    "         \"BondPrInterp\", \"EqFinDiff\", \n",
    "         \"Batch\", \"ModelPlots\"] #,\"FullInfoEq\"]#, \"JointEq\"]\n",
    "for modl in modls\n",
    "    include(string(joinpath(module_path, modl), \"/\", modl, \".jl\"))\n",
    "end\n",
    "\n",
    "ENV[\"LINES\"] = 750"
   ]
  },
  {
   "cell_type": "markdown",
   "metadata": {},
   "source": [
    "# CVM adn SVM Diagnostics and Compilation"
   ]
  },
  {
   "cell_type": "code",
   "execution_count": 6,
   "metadata": {},
   "outputs": [
    {
     "name": "stdout",
     "output_type": "stream",
     "text": [
      "Loading optimal results dataframe...\n",
      "Loading optimal results dataframe...\n"
     ]
    },
    {
     "name": "stderr",
     "output_type": "stream",
     "text": [
      "WARNING: replacing module ModelObj.\n",
      "WARNING: replacing module AnalyticFunctions.\n",
      "WARNING: replacing module BondPrInterp.\n",
      "WARNING: replacing module EqFinDiff.\n",
      "WARNING: replacing module Batch.\n"
     ]
    },
    {
     "data": {
      "text/plain": [
       "Dict{Symbol,Any} with 5 entries:\n",
       "  :m       => 1.0\n",
       "  :opt_mbr => 208×36 DataFrame. Omitted printing of 30 columns…\n",
       "  :model   => \"cvm\"\n",
       "  :diag    => 1040×17 DataFrame. Omitted printing of 12 columns…\n",
       "  :opt_fv  => 208×36 DataFrame. Omitted printing of 30 columns…"
      ]
     },
     "execution_count": 6,
     "metadata": {},
     "output_type": "execute_result"
    }
   ],
   "source": [
    "# Set m=1. and model = \"cvm\"\n",
    "plot_script_path = string(main_path, \"/Julia/Batch/\")\n",
    "plot_script_name = \"diag_compilation.jl\"\n",
    "cvm_res = include(string(plot_script_path, \"/\", plot_script_name))"
   ]
  },
  {
   "cell_type": "code",
   "execution_count": 5,
   "metadata": {},
   "outputs": [
    {
     "name": "stderr",
     "output_type": "stream",
     "text": [
      "WARNING: replacing module ModelObj.\n",
      "WARNING: replacing module AnalyticFunctions.\n",
      "WARNING: replacing module BondPrInterp.\n",
      "WARNING: replacing module EqFinDiff.\n",
      "WARNING: replacing module Batch.\n"
     ]
    },
    {
     "name": "stdout",
     "output_type": "stream",
     "text": [
      "  6.213834 seconds (7.33 M allocations: 386.871 MiB, 4.47% gc time)\n",
      "Saving compiled results...\n",
      "  6.383233 seconds (7.75 M allocations: 406.892 MiB, 4.58% gc time)\n",
      "  4.364536 seconds (1.27 M allocations: 83.573 MiB, 1.10% gc time)\n",
      "Saving compiled results...\n",
      "  4.383851 seconds (1.29 M allocations: 84.622 MiB, 1.10% gc time)\n"
     ]
    },
    {
     "data": {
      "text/plain": [
       "Dict{Symbol,Any} with 5 entries:\n",
       "  :m       => 1.0\n",
       "  :opt_mbr => 150×38 DataFrame. Omitted printing of 32 columns…\n",
       "  :model   => \"svm\"\n",
       "  :diag    => 150×17 DataFrame. Omitted printing of 12 columns…\n",
       "  :opt_fv  => 150×38 DataFrame. Omitted printing of 32 columns…"
      ]
     },
     "execution_count": 5,
     "metadata": {},
     "output_type": "execute_result"
    }
   ],
   "source": [
    "# Set m=1. and model = \"svm\"\n",
    "plot_script_path = string(main_path, \"/Julia/Batch/\")\n",
    "plot_script_name = \"diag_compilation.jl\"\n",
    "svm_res = include(string(plot_script_path, \"/\", plot_script_name))"
   ]
  },
  {
   "cell_type": "markdown",
   "metadata": {},
   "source": [
    "# CVM Plots"
   ]
  },
  {
   "cell_type": "code",
   "execution_count": 8,
   "metadata": {},
   "outputs": [
    {
     "name": "stderr",
     "output_type": "stream",
     "text": [
      "┌ Info: Recompiling stale cache file /home/artur/.julia/compiled/v1.1/PyPlot/oatAj.ji for PyPlot [d330b81b-6aea-500a-939a-2ce795aea3ee]\n",
      "└ @ Base loading.jl:1184\n",
      "┌ Info: Recompiling stale cache file /home/artur/.julia/compiled/v1.1/Seaborn/AnPQn.ji for Seaborn [d2ef9438-c967-53ab-8060-373fdd9e13eb]\n",
      "└ @ Base loading.jl:1184\n",
      "┌ Warning: No working GUI backend found for matplotlib\n",
      "└ @ PyPlot ~/.julia/packages/PyPlot/cdCMF/src/init.jl:155\n",
      "WARNING: replacing module Batch.\n",
      "WARNING: replacing module ModelObj.\n",
      "WARNING: replacing module AnalyticFunctions.\n",
      "WARNING: replacing module BondPrInterp.\n",
      "WARNING: replacing module EqFinDiff.\n"
     ]
    },
    {
     "ename": "LoadError",
     "evalue": "LoadError: LoadError: KeyError: key :mu_b not found\nin expression starting at /home/artur/BondPricing/Julia/modules/ModelPlots/_plots_inputs.jl:28\nin expression starting at /home/artur/BondPricing/Julia/modules/ModelPlots/ModelPlots.jl:35",
     "output_type": "error",
     "traceback": [
      "LoadError: LoadError: KeyError: key :mu_b not found\nin expression starting at /home/artur/BondPricing/Julia/modules/ModelPlots/_plots_inputs.jl:28\nin expression starting at /home/artur/BondPricing/Julia/modules/ModelPlots/ModelPlots.jl:35",
      "",
      "Stacktrace:",
      " [1] getindex(::Dict{Symbol,Array{String,1}}, ::Symbol) at ./dict.jl:478",
      " [2] top-level scope at none:0",
      " [3] include at ./boot.jl:326 [inlined]",
      " [4] include_relative(::Module, ::String) at ./loading.jl:1038",
      " [5] include at ./sysimg.jl:29 [inlined]",
      " [6] include(::String) at /home/artur/BondPricing/Julia/modules/ModelPlots/ModelPlots.jl:10",
      " [7] top-level scope at none:0",
      " [8] include at ./boot.jl:326 [inlined]",
      " [9] include_relative(::Module, ::String) at ./loading.jl:1038",
      " [10] include(::Module, ::String) at ./sysimg.jl:29",
      " [11] include(::String) at ./client.jl:403",
      " [12] top-level scope at /home/artur/BondPricing/Julia/Batch/plot_scripts/cvm_plots_script.jl:20 [inlined]",
      " [13] top-level scope at ./none:0",
      " [14] include at ./boot.jl:326 [inlined]",
      " [15] include_relative(::Module, ::String) at ./loading.jl:1038",
      " [16] include(::Module, ::String) at ./sysimg.jl:29",
      " [17] include(::String) at ./client.jl:403",
      " [18] top-level scope at In[8]:2"
     ]
    }
   ],
   "source": [
    "plot_script_path = string(main_path, \"/Julia/Batch/plot_scripts\")\n",
    "include(string(plot_script_path, \"/\", \"cvm_plots_script.jl\"))"
   ]
  },
  {
   "cell_type": "code",
   "execution_count": null,
   "metadata": {},
   "outputs": [],
   "source": [
    "# SVM Plots"
   ]
  }
 ],
 "metadata": {
  "kernelspec": {
   "display_name": "Julia 1.1.0",
   "language": "julia",
   "name": "julia-1.1"
  },
  "language_info": {
   "file_extension": ".jl",
   "mimetype": "application/julia",
   "name": "julia",
   "version": "1.1.0"
  }
 },
 "nbformat": 4,
 "nbformat_minor": 2
}
