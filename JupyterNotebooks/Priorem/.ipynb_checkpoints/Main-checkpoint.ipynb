{
 "cells": [
  {
   "cell_type": "code",
   "execution_count": 1,
   "metadata": {},
   "outputs": [
    {
     "data": {
      "text/plain": [
       "4-element Array{String,1}:\n",
       " \"@\"                                     \n",
       " \"@v#.#\"                                 \n",
       " \"@stdlib\"                               \n",
       " \"/home/artur/BondPricing/Julia/modules/\""
      ]
     },
     "execution_count": 1,
     "metadata": {},
     "output_type": "execute_result"
    }
   ],
   "source": [
    "push!(LOAD_PATH, \"/home/artur/BondPricing/Julia/modules/\")"
   ]
  },
  {
   "cell_type": "code",
   "execution_count": 2,
   "metadata": {},
   "outputs": [],
   "source": [
    "using Revise"
   ]
  },
  {
   "cell_type": "code",
   "execution_count": 3,
   "metadata": {},
   "outputs": [
    {
     "name": "stderr",
     "output_type": "stream",
     "text": [
      "┌ Info: Recompiling stale cache file /home/artur/.julia/compiled/v1.0/BondPrInterp.ji for BondPrInterp [top-level]\n",
      "└ @ Base loading.jl:1184\n"
     ]
    },
    {
     "data": {
      "text/plain": [
       "Main.EqFinDiff"
      ]
     },
     "execution_count": 3,
     "metadata": {},
     "output_type": "execute_result"
    }
   ],
   "source": [
    "include(string(LOAD_PATH[end], \"ModelObj.jl\"))\n",
    "include(string(LOAD_PATH[end], \"AnalyticFunctions.jl\"))\n",
    "include(string(LOAD_PATH[end], \"BondPrInterp.jl\"))\n",
    "include(string(LOAD_PATH[end], \"EqFinDiff.jl\"))"
   ]
  },
  {
   "cell_type": "code",
   "execution_count": 4,
   "metadata": {},
   "outputs": [
    {
     "data": {
      "text/plain": [
       "Main.ModelObj.Firm\n",
       "  V0: Float32 100.0f0\n",
       "  c: Float32 6.39f0\n",
       "  p: Float32 61.68f0\n",
       "  vbl: Float32 60.0f0\n",
       "  vbh: Float32 62.0f0\n",
       "  pm: Main.ModelObj.FirmParams\n"
      ]
     },
     "execution_count": 4,
     "metadata": {},
     "output_type": "execute_result"
    }
   ],
   "source": [
    "pardict = Dict(\"V0\" => 100, \n",
    "               \"vbl\" => 60, \n",
    "               \"vbh\" => 62, \n",
    "                \"m\" => 1.,\n",
    "                \"c\" => 6.39,\n",
    "                \"p\" => 61.68,\n",
    "                \"sigmal\" => .25,\n",
    "                \"sigmah\" => .25,\n",
    "                \"r\" => .08,\n",
    "                \"gross_delta\" => .02,\n",
    "                \"iota\" => .0,\n",
    "                \"xi\" => 1.,\n",
    "                \"kappa\" => .015,\n",
    "                \"alpha\" => .6,\n",
    "                \"pi\" => .27,\n",
    "                \"lambda\" => .3)\n",
    "\n",
    "svm = ModelObj.firm_constructor(pardict)"
   ]
  },
  {
   "cell_type": "code",
   "execution_count": 5,
   "metadata": {},
   "outputs": [],
   "source": [
    "using Distributed"
   ]
  },
  {
   "cell_type": "code",
   "execution_count": 19,
   "metadata": {},
   "outputs": [
    {
     "name": "stderr",
     "output_type": "stream",
     "text": [
      "WARNING: replacing module BondPrInterp.\n"
     ]
    },
    {
     "name": "stdout",
     "output_type": "stream",
     "text": [
      "292.461179 seconds (7.14 M allocations: 5.047 GiB, 0.14% gc time)\n"
     ]
    },
    {
     "data": {
      "text/plain": [
       "Dict{String,AbstractArray{Float64,N} where N} with 7 entries:\n",
       "  \"vtgrid\"   => 0.02666666666666667:0.02666666666666667:0.8\n",
       "  \"f12\"      => [0.0391049 0.0371445 … 0.00804377 0.00586765; 0.0729671 0.06972…\n",
       "  \"f13\"      => [0.00246826 0.00451337 … 0.00805377 0.00583913; 0.00388055 0.00…\n",
       "  \"f22\"      => [4.32046e-8, 9.8056e-8, 1.79811e-7, 3.09838e-7, 5.20269e-7, 8.6…\n",
       "  \"f21\"      => [2.48671e-8, 5.64879e-8, 1.03722e-7, 1.79013e-7, 3.01132e-7, 4.…\n",
       "  \"f11\"      => [0.0441969, 0.0815842, 0.112906, 0.138992, 0.160585, 0.178345, …\n",
       "  \"vbhlgrid\" => 0.75:0.05555555555555555:1.25"
      ]
     },
     "execution_count": 19,
     "metadata": {},
     "output_type": "execute_result"
    }
   ],
   "source": [
    "include(string(LOAD_PATH[end], \"BondPrInterp.jl\"))\n",
    "bprd = @time BondPrInterp.fd_interp_input(svm, vtN=30, vbhlN=10)"
   ]
  },
  {
   "cell_type": "code",
   "execution_count": 32,
   "metadata": {},
   "outputs": [
    {
     "name": "stderr",
     "output_type": "stream",
     "text": [
      "WARNING: replacing module BondPrInterp.\n"
     ]
    },
    {
     "data": {
      "text/plain": [
       "Main.BondPrInterp"
      ]
     },
     "execution_count": 32,
     "metadata": {},
     "output_type": "execute_result"
    }
   ],
   "source": [
    "include(string(LOAD_PATH[end], \"BondPrInterp.jl\"))"
   ]
  },
  {
   "cell_type": "code",
   "execution_count": 22,
   "metadata": {},
   "outputs": [
    {
     "name": "stdout",
     "output_type": "stream",
     "text": [
      "  1.253564 seconds (1.97 M allocations: 97.112 MiB)\n"
     ]
    },
    {
     "data": {
      "text/plain": [
       "([0.258876, 5.61424, 33.579, 102.994, 232.701, 441.541, 748.354, 1171.98, 1731.27, 2445.05  …  25882.0, 29919.4, 34356.2, 39211.2, 44503.4, 50251.5, 56474.5, 63191.0, 70420.1, 78180.4], [0.249629 -0.694767 … -1228.14 -1768.11; 6.06831 -160.795 … -2.18272e5 -3.14223e5; … ; 76406.4 -2.05843e6 … -2.79482e9 -4.02341e9; 84826.4 -2.28527e6 … -3.1028e9 -4.46678e9], [-0.00334199 0.57279 … 788.301 1134.9; -0.635532 97.1824 … 1.35722e5 1.95399e5; … ; -8202.7 1.23661e6 … 1.73066e9 2.49164e9; -9106.63 1.37288e6 … 1.92137e9 2.76621e9], [-0.0104912, -5.26053, -32.682, -100.751, -227.944, -432.737, -733.606, -1149.03, -1697.48, -2397.43  …  -25380.4, -29339.6, -33690.4, -38451.5, -43641.1, -49277.9, -55380.3, -61966.8, -69055.8, -76665.8], [-0.0144799, -7.72342, -47.9982, -147.977, -334.799, -635.6, -1077.52, -1687.7, -2493.27, -3521.38  …  -37279.3, -43094.6, -49485.2, -56478.3, -64101.0, -72380.4, -81343.8, -91018.1, -1.01431e5, -1.12608e5])"
      ]
     },
     "execution_count": 22,
     "metadata": {},
     "output_type": "execute_result"
    }
   ],
   "source": [
    "f11fd, f12fd, f13fd, f21fd, f22fd = @time BondPrInterp.fd_input_interp(bprd)"
   ]
  },
  {
   "cell_type": "code",
   "execution_count": 39,
   "metadata": {},
   "outputs": [
    {
     "data": {
      "text/plain": [
       "Dict{String,AbstractArray{Float64,N} where N} with 7 entries:\n",
       "  \"vtgrid\"   => 0.02666666666666667:0.02666666666666667:0.8\n",
       "  \"f12\"      => [0.0391049 0.0371445 … 0.00804377 0.00586765; 0.0729671 0.06972…\n",
       "  \"f13\"      => [0.00246826 0.00451337 … 0.00805377 0.00583913; 0.00388055 0.00…\n",
       "  \"f22\"      => [4.32046e-8, 9.8056e-8, 1.79811e-7, 3.09838e-7, 5.20269e-7, 8.6…\n",
       "  \"f21\"      => [2.48671e-8, 5.64879e-8, 1.03722e-7, 1.79013e-7, 3.01132e-7, 4.…\n",
       "  \"f11\"      => [0.0441969, 0.0815842, 0.112906, 0.138992, 0.160585, 0.178345, …\n",
       "  \"vbhlgrid\" => 0.75:0.05555555555555555:1.25"
      ]
     },
     "execution_count": 39,
     "metadata": {},
     "output_type": "execute_result"
    }
   ],
   "source": [
    "bprd"
   ]
  },
  {
   "cell_type": "code",
   "execution_count": null,
   "metadata": {},
   "outputs": [],
   "source": [
    "# f0fd, f1fd, f2fd, f3fd = @time BondPrInterp.fd_input_interp(bprd)"
   ]
  },
  {
   "cell_type": "code",
   "execution_count": 25,
   "metadata": {},
   "outputs": [
    {
     "data": {
      "text/plain": [
       "0.2522257175202425"
      ]
     },
     "execution_count": 25,
     "metadata": {},
     "output_type": "execute_result"
    }
   ],
   "source": [
    "f12fd[.3, .5]"
   ]
  },
  {
   "cell_type": "code",
   "execution_count": 6,
   "metadata": {},
   "outputs": [],
   "source": [
    "using JLD2, FileIO"
   ]
  },
  {
   "cell_type": "code",
   "execution_count": 7,
   "metadata": {},
   "outputs": [
    {
     "data": {
      "text/plain": [
       "\"fd_funs.jld2\""
      ]
     },
     "execution_count": 7,
     "metadata": {},
     "output_type": "execute_result"
    }
   ],
   "source": [
    "DATA_PATH=\"/home/artur/BondPricing/Julia/Data/\"\n",
    "data_file=\"fd_funs.jld2\"\n",
    "\n",
    "\n",
    "@save string(DATA_PATH, data_file) bprd"
   ]
  },
  {
   "cell_type": "code",
   "execution_count": 8,
   "metadata": {},
   "outputs": [
    {
     "data": {
      "text/plain": [
       "1-element Array{Symbol,1}:\n",
       " :bprd"
      ]
     },
     "execution_count": 8,
     "metadata": {},
     "output_type": "execute_result"
    }
   ],
   "source": [
    "@load string(DATA_PATH, data_file) bprd"
   ]
  },
  {
   "cell_type": "code",
   "execution_count": 12,
   "metadata": {},
   "outputs": [
    {
     "data": {
      "text/plain": [
       "Dict{String,AbstractArray{Float64,N} where N} with 7 entries:\n",
       "  \"vtgrid\"   => 0.02666666666666667:0.02666666666666667:0.8\n",
       "  \"f12\"      => [0.0391049 0.0371445 … 0.00804377 0.00586765; 0.0729671 0.06972…\n",
       "  \"f13\"      => [0.00246826 0.00451337 … 0.00805377 0.00583913; 0.00388055 0.00…\n",
       "  \"f22\"      => [4.32046e-8, 9.8056e-8, 1.79811e-7, 3.09838e-7, 5.20269e-7, 8.6…\n",
       "  \"f21\"      => [2.48671e-8, 5.64879e-8, 1.03722e-7, 1.79013e-7, 3.01132e-7, 4.…\n",
       "  \"f11\"      => [0.0441969, 0.0815842, 0.112906, 0.138992, 0.160585, 0.178345, …\n",
       "  \"vbhlgrid\" => 0.75:0.05555555555555555:1.25"
      ]
     },
     "execution_count": 12,
     "metadata": {},
     "output_type": "execute_result"
    }
   ],
   "source": [
    "bprd"
   ]
  },
  {
   "cell_type": "code",
   "execution_count": 13,
   "metadata": {},
   "outputs": [
    {
     "name": "stdout",
     "output_type": "stream",
     "text": [
      "  3.291772 seconds (9.03 M allocations: 454.726 MiB, 5.38% gc time)\n"
     ]
    },
    {
     "data": {
      "text/plain": [
       "([0.258876, 5.61424, 33.579, 102.994, 232.701, 441.541, 748.354, 1171.98, 1731.27, 2445.05  …  25882.0, 29919.4, 34356.2, 39211.2, 44503.4, 50251.5, 56474.5, 63191.0, 70420.1, 78180.4], [0.249629 -0.694767 … -1228.14 -1768.11; 6.06831 -160.795 … -2.18272e5 -3.14223e5; … ; 76406.4 -2.05843e6 … -2.79482e9 -4.02341e9; 84826.4 -2.28527e6 … -3.1028e9 -4.46678e9], [-0.00334199 0.57279 … 788.301 1134.9; -0.635532 97.1824 … 1.35722e5 1.95399e5; … ; -8202.7 1.23661e6 … 1.73066e9 2.49164e9; -9106.63 1.37288e6 … 1.92137e9 2.76621e9], [-0.0104912, -5.26053, -32.682, -100.751, -227.944, -432.737, -733.606, -1149.03, -1697.48, -2397.43  …  -25380.4, -29339.6, -33690.4, -38451.5, -43641.1, -49277.9, -55380.3, -61966.8, -69055.8, -76665.8], [-0.0144799, -7.72342, -47.9982, -147.977, -334.799, -635.6, -1077.52, -1687.7, -2493.27, -3521.38  …  -37279.3, -43094.6, -49485.2, -56478.3, -64101.0, -72380.4, -81343.8, -91018.1, -1.01431e5, -1.12608e5])"
      ]
     },
     "execution_count": 13,
     "metadata": {},
     "output_type": "execute_result"
    }
   ],
   "source": [
    "f11fd, f12fd, f13fd, f21fd, f22fd = @time BondPrInterp.fd_input_interp(bprd)"
   ]
  },
  {
   "cell_type": "code",
   "execution_count": 10,
   "metadata": {},
   "outputs": [
    {
     "data": {
      "text/plain": [
       "2"
      ]
     },
     "execution_count": 10,
     "metadata": {},
     "output_type": "execute_result"
    }
   ],
   "source": []
  },
  {
   "cell_type": "code",
   "execution_count": null,
   "metadata": {},
   "outputs": [],
   "source": []
  },
  {
   "cell_type": "code",
   "execution_count": 18,
   "metadata": {},
   "outputs": [
    {
     "data": {
      "text/plain": [
       "68.27126948528648"
      ]
     },
     "execution_count": 18,
     "metadata": {},
     "output_type": "execute_result"
    }
   ],
   "source": [
    "vbl = AnalyticFunctions.get_cvm_vb(svm, svm.pm.sigmah)\n",
    "\n",
    "vbl"
   ]
  },
  {
   "cell_type": "code",
   "execution_count": 19,
   "metadata": {},
   "outputs": [
    {
     "data": {
      "text/plain": [
       "1000-element Array{Float64,1}:\n",
       " 40.9627633188858  \n",
       " 41.02282902074883 \n",
       " 41.082816551696695\n",
       " 41.142725742731855\n",
       " 41.20255642506315 \n",
       " 41.26230843011283 \n",
       " 41.321981589523745\n",
       " 41.38157573516632 \n",
       " 41.44109069914578 \n",
       " 41.50052631380899 \n",
       " 41.55988241175167 \n",
       " 41.61915882582532 \n",
       " 41.67835538914419 \n",
       "  ⋮                \n",
       " 62.107828450661096\n",
       " 62.108525514101444\n",
       " 62.10921691217895 \n",
       " 62.10990268564172 \n",
       " 62.110582874992716\n",
       " 62.11125752049074 \n",
       " 62.11192666215156 \n",
       " 62.11259033974898 \n",
       " 62.11324859281584 \n",
       " 62.11390146064515 \n",
       " 62.11454898229111 \n",
       " 62.11519119657017 "
      ]
     },
     "execution_count": 19,
     "metadata": {},
     "output_type": "execute_result"
    }
   ],
   "source": [
    "v_grid = range(0.0, stop=.7, length=1000)\n",
    "cvm_bpr = fetch(@spawn [BondPrInterp.get_cvm_bond_price(svm, vbl * exp(v), \n",
    "                                1.0, svm.pm.sigmah, vb=vbl) for v=v_grid])"
   ]
  },
  {
   "cell_type": "code",
   "execution_count": 21,
   "metadata": {},
   "outputs": [
    {
     "data": {
      "text/plain": [
       "1000-element Array{Float64,1}:\n",
       " 41.29342509062655 \n",
       " 41.33805643473332 \n",
       " 41.383064283960174\n",
       " 41.428441834697125\n",
       " 41.474182285346885\n",
       " 41.52027883632702 \n",
       " 41.56672469007194 \n",
       " 41.613513051035135\n",
       " 41.66063712569112 \n",
       " 41.708090122537634\n",
       " 41.755865252097685\n",
       " 41.803955726921636\n",
       " 41.852354761589275\n",
       "  ⋮                \n",
       " 62.09814317754716 \n",
       " 62.098803954046666\n",
       " 62.09945882987543 \n",
       " 62.100107844074635\n",
       " 62.10075103306716 \n",
       " 62.10138843303831 \n",
       " 62.10202008003695 \n",
       " 62.10264600997605 \n",
       " 62.10326625863311 \n",
       " 62.103880861650666\n",
       " 62.104489854536716\n",
       " 62.10509327266521 "
      ]
     },
     "execution_count": 21,
     "metadata": {},
     "output_type": "execute_result"
    }
   ],
   "source": [
    "bondpr_grid_fut = @spawn [BondPrInterp.bondpr(svm, vbl * exp(v), vbl, \n",
    "                                     1., .8, \n",
    "                                     f11fd, f12fd, f13fd, f21fd, f22fd) for v=v_grid]\n",
    "bpr_sitp = fetch(bondpr_grid_fut)"
   ]
  },
  {
   "cell_type": "code",
   "execution_count": 22,
   "metadata": {},
   "outputs": [
    {
     "data": {
      "text/plain": [
       "1000-element Array{Float64,1}:\n",
       "  0.3306617717407505  \n",
       "  0.3152274139844877  \n",
       "  0.3002477322634789  \n",
       "  0.2857160919652699  \n",
       "  0.27162586028373426 \n",
       "  0.25797040621419143 \n",
       "  0.2447431005481988  \n",
       "  0.23193731586881228 \n",
       "  0.2195464265453353  \n",
       "  0.20756380872864355 \n",
       "  0.1959828403460122  \n",
       "  0.18479690109631264 \n",
       "  0.17399937244508834 \n",
       "  ⋮                   \n",
       " -0.009685273113937853\n",
       " -0.009721560054778422\n",
       " -0.009758082303520155\n",
       " -0.009794841567085655\n",
       " -0.00983184192555342 \n",
       " -0.009869087452429426\n",
       " -0.009906582114609819\n",
       " -0.009944329772928029\n",
       " -0.009982334182730312\n",
       " -0.010020598994486818\n",
       " -0.010059127754395547\n",
       " -0.010097923904965   "
      ]
     },
     "execution_count": 22,
     "metadata": {},
     "output_type": "execute_result"
    }
   ],
   "source": [
    "bpr_sitp - cvm_bpr"
   ]
  },
  {
   "cell_type": "code",
   "execution_count": null,
   "metadata": {},
   "outputs": [],
   "source": [
    "bpr_sitp - cvm_bpr"
   ]
  },
  {
   "cell_type": "code",
   "execution_count": null,
   "metadata": {},
   "outputs": [],
   "source": [
    "bpr_sitp - cvm_bpr"
   ]
  },
  {
   "cell_type": "code",
   "execution_count": 30,
   "metadata": {},
   "outputs": [
    {
     "data": {
      "text/markdown": [
       "No documentation found.\n",
       "\n",
       "`Main.AnalyticFunctions.get_cvm_vb` is a `Function`.\n",
       "\n",
       "```\n",
       "# 1 method for generic function \"get_cvm_vb\":\n",
       "[1] get_cvm_vb(svm, sigma) in Main.AnalyticFunctions at /home/artur/BondPricing/Julia/functions/AnalyticFunctions/af_get_methods.jl:8\n",
       "```\n"
      ],
      "text/plain": [
       "  No documentation found.\n",
       "\n",
       "  \u001b[36mMain.AnalyticFunctions.get_cvm_vb\u001b[39m is a \u001b[36mFunction\u001b[39m.\n",
       "\n",
       "\u001b[36m  # 1 method for generic function \"get_cvm_vb\":\u001b[39m\n",
       "\u001b[36m  [1] get_cvm_vb(svm, sigma) in Main.AnalyticFunctions at /home/artur/BondPricing/Julia/functions/AnalyticFunctions/af_get_methods.jl:8\u001b[39m"
      ]
     },
     "execution_count": 30,
     "metadata": {},
     "output_type": "execute_result"
    }
   ],
   "source": []
  },
  {
   "cell_type": "code",
   "execution_count": 34,
   "metadata": {},
   "outputs": [
    {
     "data": {
      "text/plain": [
       "0.3816811596628747"
      ]
     },
     "execution_count": 34,
     "metadata": {},
     "output_type": "execute_result"
    }
   ],
   "source": [
    "vbh = AnalyticFunctions.get_cvm_vb(svm, svm.pm.sigmah) \n",
    "vbl = AnalyticFunctions.get_cvm_vb(svm, svm.pm.sigmal) \n",
    "vbhl = vbh/vbl\n",
    "vt = log(svm.V0/vbl)"
   ]
  },
  {
   "cell_type": "code",
   "execution_count": 68,
   "metadata": {},
   "outputs": [
    {
     "name": "stderr",
     "output_type": "stream",
     "text": [
      "WARNING: replacing module BondPrInterp.\n"
     ]
    },
    {
     "data": {
      "text/plain": [
       "Main.BondPrInterp"
      ]
     },
     "execution_count": 68,
     "metadata": {},
     "output_type": "execute_result"
    }
   ],
   "source": [
    "include(string(LOAD_PATH[end], \"BondPrInterp.jl\"))"
   ]
  },
  {
   "cell_type": "code",
   "execution_count": 40,
   "metadata": {},
   "outputs": [
    {
     "name": "stdout",
     "output_type": "stream",
     "text": [
      " 15.798386 seconds (6.19 M allocations: 683.697 MiB, 1.31% gc time)\n"
     ]
    },
    {
     "data": {
      "text/plain": [
       "Dict{String,Interpolations.ScaledInterpolation{Float64,1,Interpolations.BSplineInterpolation{Float64,1,Array{Float64,1},Interpolations.BSpline{Interpolations.Cubic{Interpolations.Line}},Interpolations.OnGrid,1},Interpolations.BSpline{Interpolations.Cubic{Interpolations.Line}},Interpolations.OnGrid,Tuple{StepRangeLen{Float64,Base.TwicePrecision{Float64},Base.TwicePrecision{Float64}}}}} with 5 entries:\n",
       "  \"f12\" => [0.20678, 0.509991, 2.81723, 9.63077, 23.4541, 46.7908, 82.1442, 132…\n",
       "  \"f13\" => [0.0176855, 0.04323, -0.0582298, -0.44532, -1.27672, -2.71112, -4.90…\n",
       "  \"f22\" => [0.00628527, -0.0424027, -0.813995, -3.211, -8.13641, -16.4932, -29.…\n",
       "  \"f21\" => [0.00400727, -0.00682293, -0.255906, -1.04071, -2.65886, -5.40798, -…\n",
       "  \"f11\" => [0.235926, 9.78956, 107.661, 403.923, 1008.79, 2032.48, 3585.21, 577…"
      ]
     },
     "execution_count": 40,
     "metadata": {},
     "output_type": "execute_result"
    }
   ],
   "source": [
    "matfuns = @time BondPrInterp.mat_interp(vt, vbhl, svm, vmax=.8)"
   ]
  },
  {
   "cell_type": "code",
   "execution_count": 41,
   "metadata": {},
   "outputs": [
    {
     "data": {
      "text/plain": [
       "Dict{String,Interpolations.ScaledInterpolation{Float64,1,Interpolations.BSplineInterpolation{Float64,1,Array{Float64,1},Interpolations.BSpline{Interpolations.Cubic{Interpolations.Line}},Interpolations.OnGrid,1},Interpolations.BSpline{Interpolations.Cubic{Interpolations.Line}},Interpolations.OnGrid,Tuple{StepRangeLen{Float64,Base.TwicePrecision{Float64},Base.TwicePrecision{Float64}}}}} with 5 entries:\n",
       "  \"f12\" => [0.20678, 0.509991, 2.81723, 9.63077, 23.4541, 46.7908, 82.1442, 132…\n",
       "  \"f13\" => [0.0176855, 0.04323, -0.0582298, -0.44532, -1.27672, -2.71112, -4.90…\n",
       "  \"f22\" => [0.00628527, -0.0424027, -0.813995, -3.211, -8.13641, -16.4932, -29.…\n",
       "  \"f21\" => [0.00400727, -0.00682293, -0.255906, -1.04071, -2.65886, -5.40798, -…\n",
       "  \"f11\" => [0.235926, 9.78956, 107.661, 403.923, 1008.79, 2032.48, 3585.21, 577…"
      ]
     },
     "execution_count": 41,
     "metadata": {},
     "output_type": "execute_result"
    }
   ],
   "source": [
    "matfuns"
   ]
  },
  {
   "cell_type": "code",
   "execution_count": 70,
   "metadata": {},
   "outputs": [
    {
     "name": "stderr",
     "output_type": "stream",
     "text": [
      "WARNING: replacing module BondPrInterp.\n"
     ]
    },
    {
     "data": {
      "text/plain": [
       "Main.BondPrInterp"
      ]
     },
     "execution_count": 70,
     "metadata": {},
     "output_type": "execute_result"
    }
   ],
   "source": [
    "include(string(LOAD_PATH[end], \"BondPrInterp.jl\"))"
   ]
  },
  {
   "cell_type": "code",
   "execution_count": 75,
   "metadata": {},
   "outputs": [
    {
     "data": {
      "text/plain": [
       "61.68f0"
      ]
     },
     "execution_count": 75,
     "metadata": {},
     "output_type": "execute_result"
    }
   ],
   "source": [
    "svm.p = 61.68f0"
   ]
  },
  {
   "cell_type": "code",
   "execution_count": 76,
   "metadata": {},
   "outputs": [
    {
     "data": {
      "text/plain": [
       "61.22842519858072"
      ]
     },
     "execution_count": 76,
     "metadata": {},
     "output_type": "execute_result"
    }
   ],
   "source": [
    "cvm_debt = BondPrInterp.get_svm_debt_price(svm, vbl, matfuns[\"f11\"], matfuns[\"f12\"], \n",
    "                                 matfuns[\"f13\"], matfuns[\"f21\"], matfuns[\"f22\"], vmax=.8, c=svm.c, p=)"
   ]
  },
  {
   "cell_type": "code",
   "execution_count": 63,
   "metadata": {},
   "outputs": [
    {
     "data": {
      "text/plain": [
       "61.230785187985184"
      ]
     },
     "execution_count": 63,
     "metadata": {},
     "output_type": "execute_result"
    }
   ],
   "source": [
    "svm_debt = BondPrInterp.get_cvm_debt_price(svm, svm.pm.sigmal)"
   ]
  },
  {
   "cell_type": "code",
   "execution_count": 64,
   "metadata": {},
   "outputs": [
    {
     "data": {
      "text/plain": [
       "0.002359989404460805"
      ]
     },
     "execution_count": 64,
     "metadata": {},
     "output_type": "execute_result"
    }
   ],
   "source": [
    "svm_debt - cvm_debt"
   ]
  },
  {
   "cell_type": "code",
   "execution_count": 80,
   "metadata": {},
   "outputs": [],
   "source": [
    "import AnalyticFunctions: get_param"
   ]
  },
  {
   "cell_type": "code",
   "execution_count": 83,
   "metadata": {},
   "outputs": [
    {
     "data": {
      "text/plain": [
       "0.27f0"
      ]
     },
     "execution_count": 83,
     "metadata": {},
     "output_type": "execute_result"
    }
   ],
   "source": [
    "pii = get_param(svm, \"pi\")"
   ]
  },
  {
   "cell_type": "code",
   "execution_count": 79,
   "metadata": {},
   "outputs": [
    {
     "data": {
      "text/markdown": [
       "No documentation found.\n",
       "\n",
       "`Main.AnalyticFunctions.zhi_vb` is a `Function`.\n",
       "\n",
       "```\n",
       "# 1 method for generic function \"zhi_vb\":\n",
       "[1] zhi_vb(m, c, p, sigma, r, gross_delta, iota, xi, k, alpha, pi) in Main.AnalyticFunctions at /home/artur/BondPricing/Julia/functions/AnalyticFunctions/cvm_funs.jl:112\n",
       "```\n"
      ],
      "text/plain": [
       "  No documentation found.\n",
       "\n",
       "  \u001b[36mMain.AnalyticFunctions.zhi_vb\u001b[39m is a \u001b[36mFunction\u001b[39m.\n",
       "\n",
       "\u001b[36m  # 1 method for generic function \"zhi_vb\":\u001b[39m\n",
       "\u001b[36m  [1] zhi_vb(m, c, p, sigma, r, gross_delta, iota, xi, k, alpha, pi) in Main.AnalyticFunctions at /home/artur/BondPricing/Julia/functions/AnalyticFunctions/cvm_funs.jl:112\u001b[39m"
      ]
     },
     "execution_count": 79,
     "metadata": {},
     "output_type": "execute_result"
    }
   ],
   "source": [
    "?AnalyticFunctions.zhi_vb()"
   ]
  },
  {
   "cell_type": "code",
   "execution_count": 109,
   "metadata": {},
   "outputs": [
    {
     "data": {
      "text/plain": [
       "pvbfun (generic function with 1 method)"
      ]
     },
     "execution_count": 109,
     "metadata": {},
     "output_type": "execute_result"
    }
   ],
   "source": [
    "import AnalyticFunctions: get_param\n",
    "\n",
    "function pvbfun(svm, f11, f12, f13, f22, f23; \n",
    "                c=nothing, p=nothing,\n",
    "                vbmin=nothing, vbmax=nothing, vbN=10)\n",
    "    # ########################################        \n",
    "    if c==nothing\n",
    "        c = svm.c\n",
    "    end\n",
    "    if p==nothing\n",
    "        p = svm.p\n",
    "    end\n",
    "    # ########################################\n",
    "   \n",
    "    cvmvbl = AnalyticFunctions.zhi_vb(get_param(svm, \"m\"), \n",
    "                    c, p, \n",
    "                    get_param(svm, \"sigmal\"),\n",
    "                    get_param(svm, \"r\"), \n",
    "                    get_param(svm, \"gross_delta\"), \n",
    "                    get_param(svm, \"iota\"), \n",
    "                    get_param(svm, \"xi\"), \n",
    "                    get_param(svm, \"kappa\"), \n",
    "                    get_param(svm, \"alpha\"), \n",
    "                    get_param(svm, \"pi\"))\n",
    "    \n",
    "    cvmvbh = AnalyticFunctions.zhi_vb(get_param(svm, \"m\"), \n",
    "                    c, p, \n",
    "                    get_param(svm, \"sigmah\"), \n",
    "                    get_param(svm, \"r\"), \n",
    "                    get_param(svm, \"gross_delta\"), \n",
    "                    get_param(svm, \"iota\"), \n",
    "                    get_param(svm, \"xi\"), \n",
    "                    get_param(svm, \"kappa\"), \n",
    "                    get_param(svm, \"alpha\"), \n",
    "                    get_param(svm, \"pi\"))   \n",
    "    \n",
    "    if vbmin==nothing\n",
    "        vbmin = .9 * min(cvmvbl, cvmvbh)\n",
    "    end\n",
    "    \n",
    "    if vbmin==nothing\n",
    "        vbmax = 1.1 * max(cvmvbl, cvmvbh)\n",
    "    end\n",
    "    \n",
    "    vb_grid = range(vbmin, stop=vbmax, length=vbN)\n",
    "    \n",
    "    \n",
    "    return vb_grid\n",
    "    \n",
    "end"
   ]
  },
  {
   "cell_type": "code",
   "execution_count": 110,
   "metadata": {},
   "outputs": [
    {
     "data": {
      "text/plain": [
       "61.44414253675784:1.0:70.44414253675784"
      ]
     },
     "execution_count": 110,
     "metadata": {},
     "output_type": "execute_result"
    }
   ],
   "source": [
    "pvbfun(svm, matfuns[\"f11\"], matfuns[\"f12\"], matfuns[\"f13\"], matfuns[\"f21\"], matfuns[\"f22\"])"
   ]
  },
  {
   "cell_type": "code",
   "execution_count": 67,
   "metadata": {},
   "outputs": [
    {
     "data": {
      "text/plain": [
       "0.7"
      ]
     },
     "execution_count": 67,
     "metadata": {},
     "output_type": "execute_result"
    }
   ],
   "source": [
    "svm.p = .70"
   ]
  },
  {
   "cell_type": "code",
   "execution_count": 111,
   "metadata": {},
   "outputs": [
    {
     "data": {
      "text/plain": [
       "68.27126948528648"
      ]
     },
     "execution_count": 111,
     "metadata": {},
     "output_type": "execute_result"
    }
   ],
   "source": []
  },
  {
   "cell_type": "code",
   "execution_count": 108,
   "metadata": {},
   "outputs": [
    {
     "data": {
      "text/plain": [
       "0.6f0"
      ]
     },
     "execution_count": 108,
     "metadata": {},
     "output_type": "execute_result"
    }
   ],
   "source": [
    "get_param(svm, \"pii\")"
   ]
  },
  {
   "cell_type": "code",
   "execution_count": null,
   "metadata": {},
   "outputs": [],
   "source": []
  },
  {
   "cell_type": "code",
   "execution_count": null,
   "metadata": {},
   "outputs": [],
   "source": []
  },
  {
   "cell_type": "code",
   "execution_count": null,
   "metadata": {},
   "outputs": [],
   "source": []
  },
  {
   "cell_type": "code",
   "execution_count": null,
   "metadata": {},
   "outputs": [],
   "source": [
    "using JLD2, FileIO"
   ]
  },
  {
   "cell_type": "code",
   "execution_count": null,
   "metadata": {},
   "outputs": [],
   "source": [
    "DATA_PATH=\"/home/artur/BondPricing/Julia/Data/\"\n",
    "data_file=\"fd_funs.jld2\"\n",
    "\n",
    "\n",
    "# @save string(DATA_PATH, data_file) f0fd f1fd f2fd f3fd"
   ]
  },
  {
   "cell_type": "code",
   "execution_count": null,
   "metadata": {},
   "outputs": [],
   "source": [
    "save(string(DATA_PATH, data_file), Dict(\"f0fd\" => f0fd, \n",
    "                                        \"f1fd\" => f1fd,\n",
    "                                        \"f2fd\" => f2fd,\n",
    "                                        \"f3fd\" => f3fd))"
   ]
  },
  {
   "cell_type": "code",
   "execution_count": null,
   "metadata": {},
   "outputs": [],
   "source": [
    "using HDF5"
   ]
  },
  {
   "cell_type": "code",
   "execution_count": null,
   "metadata": {},
   "outputs": [],
   "source": [
    "h5open(string(DATA_PATH, data_file), \"w\") do file\n",
    "    write(file, \"myf\", myf)  # alternatively, say \"@write file A\"\n",
    "end"
   ]
  },
  {
   "cell_type": "code",
   "execution_count": null,
   "metadata": {},
   "outputs": [],
   "source": []
  },
  {
   "cell_type": "code",
   "execution_count": null,
   "metadata": {},
   "outputs": [],
   "source": []
  },
  {
   "cell_type": "code",
   "execution_count": null,
   "metadata": {},
   "outputs": [],
   "source": []
  },
  {
   "cell_type": "code",
   "execution_count": 36,
   "metadata": {},
   "outputs": [
    {
     "data": {
      "text/plain": [
       "1.0"
      ]
     },
     "execution_count": 36,
     "metadata": {},
     "output_type": "execute_result"
    }
   ],
   "source": [
    "vbh = AnalyticFunctions.zhi_vb(svm.pm.m, svm.c, svm.p, svm.pm.sigmah, svm.pm.r, \n",
    "                               svm.pm.gross_delta, svm.pm.iota, svm.pm.xi, \n",
    "                               svm.pm.kappa, svm.pm.alpha, svm.pm.pi)\n",
    "vbl = vbh\n",
    "\n",
    "vt = log(svm.V0/vbl)\n",
    "vbhl = vbh/vbl"
   ]
  },
  {
   "cell_type": "code",
   "execution_count": 43,
   "metadata": {},
   "outputs": [
    {
     "name": "stderr",
     "output_type": "stream",
     "text": [
      "WARNING: replacing module EqFinDiff.\n"
     ]
    },
    {
     "data": {
      "text/plain": [
       "Main.EqFinDiff"
      ]
     },
     "execution_count": 43,
     "metadata": {},
     "output_type": "execute_result"
    }
   ],
   "source": [
    "include(string(LOAD_PATH[end], \"EqFinDiff.jl\"))"
   ]
  },
  {
   "cell_type": "code",
   "execution_count": 44,
   "metadata": {},
   "outputs": [
    {
     "name": "stdout",
     "output_type": "stream",
     "text": [
      "Computing Equity Vmax\n",
      "Vmax: 125.0\n",
      "phi0: -51.98393\n",
      "phi1: 1.0\n",
      "pv_rfdebt: 61.937\n",
      "debt_abs_per_diff: 3.7604253121443025e-7\n",
      "eq_abs_per_diff:0.0009374844976252713\n",
      "Equity Vmax: 540.2427968938333\n",
      " \n",
      "Computing Bond Vmax\n",
      "Bond Vmax: 148.58571920852654\n",
      " \n",
      "Adjusted Equity Vmax: 540.2427968938333\n",
      "eq_vmax: 2.068529636060046\n",
      "Finished computing bondpr_grid\n",
      "Computing Constant Volatility Equity Values\n",
      "Finished computing Constant Volatility Equity Values\n",
      "deltav: 0.0013799397171849748\n",
      "nu: 0.028749998658895493\n",
      "qu: 16421.21862242176\n",
      "qm: -32821.983002370864\n",
      "qd: 16400.384379953874\n",
      "Finished computing pv rfdebt\n",
      "Shape of Gamma matrix: (1498,)\n",
      "eq_vbl: 0.0\n",
      "Exporting results... \n",
      "WARNING: Assuming debt is issued at par\n",
      "   ===>  Setting debt = P\n",
      "  6.593535 seconds (9.96 M allocations: 660.687 MiB)\n"
     ]
    },
    {
     "data": {
      "text/plain": [
       "(2.068529636060046:-0.0013799397171848204:0.0, Dict{String,Any}(\"eq_min_val\"=>0.000784724,\"invA_Gamma\"=>[487.055, 486.309, 485.565, 484.822, 484.08, 483.338, 482.598, 481.859, 481.121, 480.384  …  0.0715633, 0.0581267, 0.0460651, 0.0353864, 0.0260983, 0.0182085, 0.0117248, 0.00665452, 0.00300536, 0.000784724],\"eq_vals\"=>[487.801, 487.055, 486.309, 485.565, 484.822, 484.08, 483.338, 482.598, 481.859, 481.121  …  0.0581267, 0.0460651, 0.0353864, 0.0260983, 0.0182085, 0.0117248, 0.00665452, 0.00300536, 0.000784724, 0.0],\"eq_deriv\"=>0.00510525,\"eq_deriv_min_val\"=>0.00510525,\"eq_vb\"=>0.0,\"eq_sitp\"=>[129.165, 451.947, -65542.3, -5.91666e5, -2.07185e6, -5.00005e6, -9.87022e6, -1.71763e7, -2.74123e7, -4.10721e7  …  -2.71744e14, -2.72292e14, -2.72841e14, -2.7339e14, -2.7394e14, -2.74491e14, -2.75043e14, -2.75595e14, -2.76148e14, -2.76702e14],\"eq_sitp_deriv\"=>[0.00510525, 0.0148279, 0.0314474, 0.046069, 0.0610726, 0.0758209, 0.0904842, 0.105017, 0.11943, 0.133722  …  1.00188, 1.00187, 1.00186, 1.00185, 1.00184, 1.00183, 1.00184, 1.00179, 1.00192, 1.0014],\"e0\"=>32.2206,\"eq_max\"=>487.801…), [8.01044e6, 152.509, 152.271, 152.033, 151.796, 151.559, 151.322, 151.085, 150.849, 150.613  …  -22.7045, -22.8098, -22.9136, -23.0159, -23.1167, -23.2159, -23.3134, -23.4092, -23.5033, -23.5955], [-32822.0 16400.4 … 0.0 0.0; 16421.2 -32822.0 … 0.0 0.0; … ; 0.0 0.0 … -32822.0 16400.4; 0.0 0.0 … 16421.2 -32822.0], 1×26 DataFrames.DataFrame. Omitted printing of 19 columns\n",
       "│ Row │ ROE      │ V0    │ alpha │ c    │ debt  │ delta │ eq_deriv   │\n",
       "├─────┼──────────┼───────┼───────┼──────┼───────┼───────┼────────────┤\n",
       "│ 1   │ -15.9171 │ 100.0 │ 0.6   │ 6.39 │ 61.68 │ 0.02  │ 0.00510525 │)"
      ]
     },
     "execution_count": 44,
     "metadata": {},
     "output_type": "execute_result"
    }
   ],
   "source": [
    "v_grid, eq_dict, Gamma, A, df = @time EqFinDiff.equity_fin_diff(svm, vbl, f11fd, f12fd, f13fd, f21fd, f22fd)"
   ]
  },
  {
   "cell_type": "code",
   "execution_count": null,
   "metadata": {},
   "outputs": [],
   "source": [
    "include(string(LOAD_PATH[end], \"BondPrInterp.jl\"))\n",
    "\n",
    "f0mat, f1mat, f2mat, f3mat = @time BondPrInterp.mat_interp(vt, vbhl, svm)"
   ]
  },
  {
   "cell_type": "code",
   "execution_count": null,
   "metadata": {},
   "outputs": [],
   "source": [
    "bprfs = Dict(\"f0mat\" => f0mat, \n",
    "                    \"f1mat\" => f1mat,\n",
    "                    \"f2mat\" => f2mat,\n",
    "                    \"f3mat\" => f3mat)"
   ]
  },
  {
   "cell_type": "code",
   "execution_count": null,
   "metadata": {},
   "outputs": [],
   "source": []
  },
  {
   "cell_type": "code",
   "execution_count": null,
   "metadata": {},
   "outputs": [],
   "source": []
  },
  {
   "cell_type": "code",
   "execution_count": null,
   "metadata": {},
   "outputs": [],
   "source": [
    "include(string(LOAD_PATH[end], \"EqFinDiff.jl\"))\n",
    "using EqFinDiff"
   ]
  },
  {
   "cell_type": "code",
   "execution_count": null,
   "metadata": {},
   "outputs": [],
   "source": [
    "v_grid, eq_dict, Gamma, A, df = @time EqFinDiff.equity_fin_diff(svm, vbl, f0fd, f1fd, \n",
    "                                                                f2fd, f3fd, \n",
    "                                                                debt=nothing,\n",
    "                                                                bprfs=bprfs)"
   ]
  },
  {
   "cell_type": "code",
   "execution_count": null,
   "metadata": {},
   "outputs": [],
   "source": [
    "v_grid, eq_dict, Gamma, A, df = @time EqFinDiff.equity_fin_diff(svm, vbl, f0fd, f1fd, \n",
    "                                                                f2fd, f3fd, \n",
    "                                                                debt=nothing,\n",
    "                                                                bprfs=bprfs)"
   ]
  },
  {
   "cell_type": "code",
   "execution_count": null,
   "metadata": {},
   "outputs": [],
   "source": [
    "transpose(df)"
   ]
  },
  {
   "cell_type": "code",
   "execution_count": null,
   "metadata": {},
   "outputs": [],
   "source": [
    "using DataFrames\n",
    "stack(df)"
   ]
  },
  {
   "cell_type": "code",
   "execution_count": null,
   "metadata": {},
   "outputs": [],
   "source": [
    "stack(df, 1:length(df))"
   ]
  },
  {
   "cell_type": "code",
   "execution_count": null,
   "metadata": {},
   "outputs": [],
   "source": [
    "\n",
    "A= (qm * Array(Diagonal(ones(length(Gamma)6))) +\n",
    "             qu * [1. *(y==x-1) for x in 1:length(Gamma), y in 1:length(Gamma)] +\n",
    "             qd * [1. *(y==x+1) for x in 1:length(Gamma), y in 1:length(Gamma)])\n",
    "        \n"
   ]
  },
  {
   "cell_type": "code",
   "execution_count": null,
   "metadata": {},
   "outputs": [],
   "source": [
    "function mf(x, ret_inputs=false)\n",
    "    if ret_inputs\n",
    "        return x, x^2\n",
    "    else\n",
    "        return x^2\n",
    "    end\n",
    "end"
   ]
  },
  {
   "cell_type": "code",
   "execution_count": null,
   "metadata": {},
   "outputs": [],
   "source": [
    "mf(25)"
   ]
  },
  {
   "cell_type": "code",
   "execution_count": null,
   "metadata": {},
   "outputs": [],
   "source": [
    "mf(25, true)"
   ]
  },
  {
   "cell_type": "code",
   "execution_count": null,
   "metadata": {},
   "outputs": [],
   "source": []
  },
  {
   "cell_type": "code",
   "execution_count": null,
   "metadata": {},
   "outputs": [],
   "source": []
  },
  {
   "cell_type": "code",
   "execution_count": null,
   "metadata": {},
   "outputs": [],
   "source": []
  },
  {
   "cell_type": "code",
   "execution_count": null,
   "metadata": {},
   "outputs": [],
   "source": [
    "BondPrInterp.get_svm_debt_price(svm, vbl, f0mat, f1mat, f2mat, f3mat)"
   ]
  },
  {
   "cell_type": "code",
   "execution_count": null,
   "metadata": {},
   "outputs": [],
   "source": [
    "a = nothing\n",
    "z = nothing\n",
    "\n",
    "bprfs = Dict(\"f0mat\" => f0mat, \n",
    "                    \"f1mat\" => f1mat,\n",
    "                    \"f2mat\" => f2mat,\n",
    "                    \"f3mat\" => f3mat)\n",
    "\n",
    "bprfs = nothing"
   ]
  },
  {
   "cell_type": "code",
   "execution_count": null,
   "metadata": {},
   "outputs": [],
   "source": [
    "debt = nothing\n",
    "if bprfs!=nothing\n",
    "    debt = BondPrInterp.get_svm_debt_price(svm, vbl, bprfs[\"f0mat\"], \n",
    "                                                     bprfs[\"f1mat\"], \n",
    "                                                     bprfs[\"f2mat\"], \n",
    "                                                     bprfs[\"f3mat\"])\n",
    "elseif debt==nothing\n",
    "    println(\"WARNING: Assuming debt is issued at par\")\n",
    "    println(\"   ===>  Setting debt = P\")\n",
    "    debt = AnalyticFunctions.get_param(svm, \"P\")\n",
    "end"
   ]
  },
  {
   "cell_type": "code",
   "execution_count": null,
   "metadata": {},
   "outputs": [],
   "source": [
    "debt"
   ]
  },
  {
   "cell_type": "code",
   "execution_count": null,
   "metadata": {},
   "outputs": [],
   "source": [
    "using JLD2, FileIO\n",
    "\n",
    "string(LOAD_PATH[end], \"BondPrInterp.jl\")"
   ]
  },
  {
   "cell_type": "code",
   "execution_count": null,
   "metadata": {},
   "outputs": [],
   "source": []
  },
  {
   "cell_type": "code",
   "execution_count": null,
   "metadata": {},
   "outputs": [],
   "source": [
    "include(string(LOAD_PATH[end], \"BondPrInterp.jl\"))\n",
    "\n",
    "vmax = .8\n",
    "Vt = svm.V0\n",
    "vbl = float(63)\n",
    "\n",
    "# Here, Vt and vbl should default to the ones used to \n",
    "# compute the f functions!\n",
    "# vmax can be either the value used to compute the f functions \n",
    "# or the value given by get_bond_vmax function, if smaller.\n",
    "\n",
    "BondPrInterp.get_svm_debt_price(svm, vbl, f0mat, f1mat, f2mat, f3mat)"
   ]
  },
  {
   "cell_type": "code",
   "execution_count": null,
   "metadata": {},
   "outputs": [],
   "source": [
    "include(string(LOAD_PATH[end], \"BondPrInterp.jl\"))\n",
    "BondPrInterp.get_bond_Vmax(svm; print=true)"
   ]
  },
  {
   "cell_type": "code",
   "execution_count": null,
   "metadata": {},
   "outputs": [],
   "source": [
    "include(string(LOAD_PATH[end], \"BondPrInterp.jl\"))\n",
    "@time BondPrInterp.get_cvm_debt_price(svm, svm.pm.sigmah)"
   ]
  },
  {
   "cell_type": "code",
   "execution_count": null,
   "metadata": {},
   "outputs": [],
   "source": [
    "include(string(LOAD_PATH[end], \"EqFinDiff.jl\"))"
   ]
  },
  {
   "cell_type": "code",
   "execution_count": null,
   "metadata": {},
   "outputs": [],
   "source": [
    "@time EqFinDiff.get_eq_Vmax(svm)"
   ]
  },
  {
   "cell_type": "code",
   "execution_count": null,
   "metadata": {},
   "outputs": [],
   "source": [
    "using Revise\n",
    "edit(\"AnalyticFunctions\")"
   ]
  },
  {
   "cell_type": "code",
   "execution_count": null,
   "metadata": {},
   "outputs": [],
   "source": [
    "varinfo()"
   ]
  },
  {
   "cell_type": "code",
   "execution_count": null,
   "metadata": {},
   "outputs": [],
   "source": [
    "using AnalyticFunctions\n",
    "using EqFinDiff"
   ]
  },
  {
   "cell_type": "code",
   "execution_count": null,
   "metadata": {},
   "outputs": [],
   "source": [
    "include(string(LOAD_PATH[end], \"AnalyticFunctions.jl\"))"
   ]
  },
  {
   "cell_type": "code",
   "execution_count": null,
   "metadata": {},
   "outputs": [],
   "source": [
    "AnalyticFunctions.get_param(svm, \"delta\")"
   ]
  },
  {
   "cell_type": "code",
   "execution_count": null,
   "metadata": {},
   "outputs": [],
   "source": [
    "function get_param2(svm, pname)\n",
    "\tval = NaN\n",
    "       \t# svm_pos = findin([string(x) for x in fieldnames(svm)], [pname])\n",
    "\t# svm_pm_pos = findin([string(x) for x in fieldnames(svm.pm)], [pname])\n",
    "\t\n",
    "\tsvm_pos = findall(x -> x==pname, [string(x) for x in fieldnames(typeof(svm))])\n",
    "\tsvm_pm_pos = findall(x -> x==pname, [string(x) for x in fieldnames(typeof(svm.pm))])\n",
    "\n",
    "\tif pname == \"C\"\n",
    "\t    return svm.c * svm.pm.m\n",
    "\telseif pname == \"P\"\n",
    "\t    return svm.p * svm.pm.m\n",
    "\telseif pname == \"delta\"\n",
    "\t    return svm.pm.gross_delta - svm.pm.iota\n",
    "\telseif length(svm_pos) > 0\n",
    "\t    return getfield(svm, fieldnames(typeof(svm))[svm_pos[1]])\n",
    "\telse\n",
    "\t    return getfield(svm.pm, fieldnames(typeof(svm.pm))[svm_pm_pos[1]])\n",
    "\tend\n",
    "end\n",
    "\n"
   ]
  },
  {
   "cell_type": "code",
   "execution_count": null,
   "metadata": {},
   "outputs": [],
   "source": [
    "AnalyticFunctions.get_param(svm, \"iota\")"
   ]
  },
  {
   "cell_type": "code",
   "execution_count": null,
   "metadata": {},
   "outputs": [],
   "source": [
    "get_param2(svm, \"iota\")"
   ]
  },
  {
   "cell_type": "code",
   "execution_count": null,
   "metadata": {},
   "outputs": [],
   "source": [
    "pname = \"m\"\n",
    "\tsvm_pos = findall(x -> x==pname, [string(x) for x in fieldnames(typeof(svm))])\n",
    "\tsvm_pm_pos = findall(x -> x==pname, [string(x) for x in fieldnames(typeof(svm.pm))])"
   ]
  },
  {
   "cell_type": "code",
   "execution_count": null,
   "metadata": {},
   "outputs": [],
   "source": [
    "svm_pm_pos"
   ]
  },
  {
   "cell_type": "code",
   "execution_count": null,
   "metadata": {},
   "outputs": [],
   "source": []
  },
  {
   "cell_type": "code",
   "execution_count": null,
   "metadata": {},
   "outputs": [],
   "source": [
    "include(string(LOAD_PATH[end], \"AnalyticFunctions.jl\"))"
   ]
  },
  {
   "cell_type": "code",
   "execution_count": null,
   "metadata": {},
   "outputs": [],
   "source": [
    "AnalyticFunctions.get_param(svm, \"iota\")"
   ]
  },
  {
   "cell_type": "code",
   "execution_count": null,
   "metadata": {},
   "outputs": [],
   "source": []
  },
  {
   "cell_type": "code",
   "execution_count": null,
   "metadata": {},
   "outputs": [],
   "source": [
    "pname = \"p\"\n",
    "findall(x -> x==pname, [string(x) for x in fieldnames(typeof(svm))])"
   ]
  },
  {
   "cell_type": "code",
   "execution_count": null,
   "metadata": {},
   "outputs": [],
   "source": [
    "fieldnames(typeof(svm))"
   ]
  },
  {
   "cell_type": "code",
   "execution_count": null,
   "metadata": {},
   "outputs": [],
   "source": [
    "findall(x -> x==\"c\", [string(x) for x in fieldnames(typeof(svm))])"
   ]
  },
  {
   "cell_type": "code",
   "execution_count": null,
   "metadata": {},
   "outputs": [],
   "source": [
    "findall(x -> x==\"c\", fieldnames(typeof(svm)))"
   ]
  },
  {
   "cell_type": "code",
   "execution_count": null,
   "metadata": {},
   "outputs": [],
   "source": [
    "[string(x) for x in fieldnames(typeof(svm))]"
   ]
  },
  {
   "cell_type": "code",
   "execution_count": null,
   "metadata": {},
   "outputs": [],
   "source": []
  },
  {
   "cell_type": "code",
   "execution_count": null,
   "metadata": {},
   "outputs": [],
   "source": [
    "using Interpolations\n",
    "using Distributions\n",
    "using Distributed\n",
    "using Parameters\n",
    "\n",
    "BondPrInterp.f0_mat(log(100.0/63.), 1.5, svm.pm.lambda, svm.pm.sigmal, \n",
    "                svm.c, svm.p, svm.pm.r, svm.pm.gross_delta, \n",
    "    svm.pm.xi, svm.pm.kappa; ttm_max=1.2, ttmN=20, uN=10^3)"
   ]
  },
  {
   "cell_type": "code",
   "execution_count": null,
   "metadata": {},
   "outputs": [],
   "source": [
    "vtgrid = range(0.0, stop=1.5, length=100)\n",
    "BondPrInterp.f0_fd(vtgrid, 1.0, 1.5, svm.pm.lambda, svm.pm.sigmal, \n",
    "                svm.c, svm.p, svm.pm.r, svm.pm.gross_delta, \n",
    "    svm.pm.xi, svm.pm.kappa, uN=10^3)"
   ]
  },
  {
   "cell_type": "code",
   "execution_count": null,
   "metadata": {},
   "outputs": [],
   "source": [
    "du, ugrid = BondPrInterp.grid_creator(1e-4, svm.pm.m, 10)"
   ]
  },
  {
   "cell_type": "code",
   "execution_count": null,
   "metadata": {},
   "outputs": [],
   "source": [
    "ugrid"
   ]
  },
  {
   "cell_type": "code",
   "execution_count": null,
   "metadata": {},
   "outputs": [],
   "source": [
    "range(0.0, stop=1.5, length=100)"
   ]
  },
  {
   "cell_type": "code",
   "execution_count": null,
   "metadata": {},
   "outputs": [],
   "source": [
    "include(string(LOAD_PATH[end], \"ModelObj.jl\"))\n",
    "include(string(LOAD_PATH[end], \"AnalyticFunctions.jl\"))\n",
    "include(string(LOAD_PATH[end], \"BondPrInterp.jl\"))\n",
    "include(string(LOAD_PATH[end], \"EqFinDiff.jl\"))"
   ]
  },
  {
   "cell_type": "code",
   "execution_count": null,
   "metadata": {},
   "outputs": [],
   "source": [
    "using Distributed\n",
    "# using Parameters\n",
    "# using Distributions\n",
    "using Interpolations\n",
    "using LinearAlgebra\n",
    "# using DataFrames\n",
    "\n",
    "import AnalyticFunctions: get_rgrow, get_param, get_cvm_vb\n",
    "import BondPrInterp: get_pv_rfdebt, bondpr\n",
    "import EqFinDiff: get_cvm_eq, deriv, eq_fin_diff_core, eq_export_fin_diff_res"
   ]
  },
  {
   "cell_type": "code",
   "execution_count": null,
   "metadata": {},
   "outputs": [],
   "source": [
    "edit(eq_export_fin_diff_res)"
   ]
  },
  {
   "cell_type": "code",
   "execution_count": null,
   "metadata": {},
   "outputs": [],
   "source": [
    "vbl = get_cvm_vb(svm, svm.pm.sigmah)"
   ]
  },
  {
   "cell_type": "code",
   "execution_count": null,
   "metadata": {},
   "outputs": [],
   "source": [
    "v_grid = range(0.0, stop=.5, length=1000)\n",
    "bsm_eqh_vals_Future = @spawn [get_cvm_eq(vbl * exp(v), svm.pm.sigmah, svm) for v=v_grid]\n",
    "bsm_eqh_vals = fetch(bsm_eqh_vals_Future)\n",
    "    "
   ]
  },
  {
   "cell_type": "code",
   "execution_count": null,
   "metadata": {},
   "outputs": [],
   "source": []
  },
  {
   "cell_type": "code",
   "execution_count": null,
   "metadata": {},
   "outputs": [],
   "source": [
    "using DataFrames"
   ]
  },
  {
   "cell_type": "code",
   "execution_count": null,
   "metadata": {},
   "outputs": [],
   "source": [
    "function equity_fin_diff(svm, vbl, f0fd, f1fd, f2fd, f3fd; \n",
    "                         p=nothing, debt=nothing, full_output=false)\n",
    "    \n",
    "    if p==nothing\n",
    "        p = svm.p\n",
    "    end\n",
    "\n",
    "    # V MAX:\n",
    "    println(\"Computing Equity Vmax\")\n",
    "    eqVmax = EqFinDiff.get_eq_Vmax(svm)\n",
    "    println(\"Equity Vmax: \", string(eqVmax))\n",
    "    println(\" \")\n",
    "\n",
    "    println(\"Computing Bond Vmax\")\n",
    "    bondVmax = BondPrInterp.get_bond_Vmax(svm)\n",
    "    println(\"Bond Vmax: \", string(bondVmax))\n",
    "    println(\" \")\n",
    "\n",
    "    # Ensure eq_vmax > bond_vmax\n",
    "    eqVmax = max(1.25 * bondVmax, eqVmax)\n",
    "    println(\"Adjusted Equity Vmax: \", string(eqVmax))\n",
    "    \n",
    "    # v max\n",
    "    eq_vmax = log(eqVmax / vbl)\n",
    "    bond_vmax = log(bondVmax / vbl)\n",
    "\n",
    "    # Ensure eq_vmax > bond_vmax\n",
    "    if bond_vmax >= eq_vmax\n",
    "        eq_vmax = 1.1 * bond_vmax\n",
    "    end\n",
    "    println(\"eq_vmax: \", string(eq_vmax)) \n",
    "    # #######################################\n",
    "    # ####### Form grid of v values #########\n",
    "    # #######################################\n",
    "    lenv = 1500\n",
    "    v_grid = range(eq_vmax, stop=0.0, length=lenv)\n",
    "    \n",
    "    bondpr_grid_fut = @spawn [bondpr(svm, vbl * exp(v), vbl, \n",
    "                                     svm.pm.m, bond_vmax, \n",
    "                                     f0fd, f1fd, f2fd, f3fd) for v=v_grid]\n",
    "    bondpr_grid = fetch(bondpr_grid_fut)\n",
    "    \n",
    "    # refine grids\n",
    "#     v_grid_ref = range(v_grid[1], stop=v_grid[end], length=10^4)\n",
    "#     bondpr_itp = interpolate(reverse(bondpr_grid), BSpline(Cubic(Line())), OnGrid())\n",
    "#     bondpr_sitp = Interpolations.scale(bondpr_itp, reverse(v_grid))  # Scale\n",
    "#     bondpr_ref = fetch(@spawn [bondpr_sitp[v] for v=v_grid_ref])\n",
    "\n",
    "    # #################################\n",
    "    # ######### Equity Values #########\n",
    "    # #################################\n",
    "    println(\"Finished computing bondpr_grid\")\n",
    "    Gamma, A, eq_dict = EqFinDiff.eq_fin_diff_core(svm, vbl, v_grid, bondpr_grid)\n",
    "    \n",
    "    println(\"Exporting results... \")\n",
    "    _, df = EqFinDiff.eq_export_fin_diff_res(svm, vbl, eq_dict)\n",
    "    \n",
    "    return v_grid, eq_dict, Gamma, A, df\n",
    "end\n",
    "\n",
    "# ####################################################################\n",
    "# ####################################################################\n"
   ]
  },
  {
   "cell_type": "code",
   "execution_count": null,
   "metadata": {},
   "outputs": [],
   "source": [
    "vbl"
   ]
  },
  {
   "cell_type": "code",
   "execution_count": null,
   "metadata": {},
   "outputs": [],
   "source": [
    "get_param(svm, \"delta\")/Float64(get_param(svm, \"r\") - get_rgrow(svm))"
   ]
  },
  {
   "cell_type": "code",
   "execution_count": null,
   "metadata": {},
   "outputs": [],
   "source": [
    "Gamma = ones(5)\n",
    "qd = 1\n",
    "qm = 2\n",
    "qu = 3\n",
    "\n",
    "A = (qm * Array(Diagonal(ones(length(Gamma)))) +\n",
    "     qu * [1. *(y==x-1) for x in 1:length(Gamma), y in 1:length(Gamma)] +\n",
    "     qd * [1. *(y==x+1) for x in 1:length(Gamma), y in 1:length(Gamma)])\n",
    " \n",
    "A"
   ]
  },
  {
   "cell_type": "code",
   "execution_count": null,
   "metadata": {},
   "outputs": [],
   "source": [
    "using AbstractArray"
   ]
  },
  {
   "cell_type": "code",
   "execution_count": null,
   "metadata": {},
   "outputs": [],
   "source": [
    "get_param(svm, \"delta\")"
   ]
  },
  {
   "cell_type": "code",
   "execution_count": null,
   "metadata": {},
   "outputs": [],
   "source": [
    "BondPrInterp.get_pv_rfdebt(svm)"
   ]
  },
  {
   "cell_type": "code",
   "execution_count": null,
   "metadata": {},
   "outputs": [],
   "source": [
    "v_grid, eq_dict, Gamma, A, df = @time equity_fin_diff(svm, vbl, f0fd, f1fd, f2fd, f3fd)"
   ]
  },
  {
   "cell_type": "code",
   "execution_count": null,
   "metadata": {},
   "outputs": [],
   "source": [
    "df"
   ]
  },
  {
   "cell_type": "code",
   "execution_count": null,
   "metadata": {},
   "outputs": [],
   "source": [
    "eq_dict[\"eq_vals\"]"
   ]
  },
  {
   "cell_type": "code",
   "execution_count": null,
   "metadata": {},
   "outputs": [],
   "source": [
    "Array(v_grid[end-100:end-90])"
   ]
  },
  {
   "cell_type": "code",
   "execution_count": null,
   "metadata": {},
   "outputs": [],
   "source": [
    "using DataFrames"
   ]
  },
  {
   "cell_type": "code",
   "execution_count": null,
   "metadata": {},
   "outputs": [],
   "source": [
    "DataFrame([Array(v_grid[end-100:end-90]), eq_dict[\"eq_vals\"][end-100:end-90]])"
   ]
  },
  {
   "cell_type": "code",
   "execution_count": null,
   "metadata": {},
   "outputs": [],
   "source": [
    "length(eq_dict[\"eq_vals\"])"
   ]
  },
  {
   "cell_type": "code",
   "execution_count": null,
   "metadata": {},
   "outputs": [],
   "source": [
    "vbl"
   ]
  },
  {
   "cell_type": "code",
   "execution_count": null,
   "metadata": {},
   "outputs": [],
   "source": [
    "vbl * exp(.13)"
   ]
  },
  {
   "cell_type": "code",
   "execution_count": null,
   "metadata": {},
   "outputs": [],
   "source": [
    "le\n",
    "findall(x -> [(eq_dict[\"eq_vals\"][x] - 0.008928131815073551)^2 < 1e-7], for x=range(1, stop=length)"
   ]
  },
  {
   "cell_type": "code",
   "execution_count": null,
   "metadata": {},
   "outputs": [],
   "source": [
    "v_grid_ref = range(v_grid[1], stop=v_grid[end], length=10^4)"
   ]
  },
  {
   "cell_type": "code",
   "execution_count": null,
   "metadata": {},
   "outputs": [],
   "source": [
    "using Plots, GR"
   ]
  },
  {
   "cell_type": "code",
   "execution_count": null,
   "metadata": {},
   "outputs": [],
   "source": [
    "x = 1000\n",
    "plot(v_grid_ref[end-x:end], eq_dict[\"eq_vals\"][end-x:end])"
   ]
  },
  {
   "cell_type": "code",
   "execution_count": null,
   "metadata": {},
   "outputs": [],
   "source": [
    "v_grid_ref[end-x:end]"
   ]
  },
  {
   "cell_type": "code",
   "execution_count": null,
   "metadata": {},
   "outputs": [],
   "source": [
    "vbl*exp(.13)"
   ]
  },
  {
   "cell_type": "code",
   "execution_count": null,
   "metadata": {},
   "outputs": [],
   "source": [
    "plot( eq_dict[\"eq_vals\"][end-x:end])"
   ]
  },
  {
   "cell_type": "code",
   "execution_count": null,
   "metadata": {},
   "outputs": [],
   "source": []
  },
  {
   "cell_type": "code",
   "execution_count": null,
   "metadata": {},
   "outputs": [],
   "source": []
  },
  {
   "cell_type": "code",
   "execution_count": null,
   "metadata": {},
   "outputs": [],
   "source": []
  },
  {
   "cell_type": "code",
   "execution_count": null,
   "metadata": {},
   "outputs": [],
   "source": [
    "v_grid = range(10.0, stop=0.0, length=20)"
   ]
  },
  {
   "cell_type": "code",
   "execution_count": null,
   "metadata": {},
   "outputs": [],
   "source": [
    "function ff(x)\n",
    "    return x^2\n",
    "end"
   ]
  },
  {
   "cell_type": "code",
   "execution_count": null,
   "metadata": {},
   "outputs": [],
   "source": [
    "deriv_fun(ff , 10)"
   ]
  },
  {
   "cell_type": "code",
   "execution_count": null,
   "metadata": {},
   "outputs": [],
   "source": [
    "get_param(svm, \"C\")"
   ]
  },
  {
   "cell_type": "code",
   "execution_count": null,
   "metadata": {},
   "outputs": [],
   "source": [
    "eq_dict[\"eq_vals\"]"
   ]
  },
  {
   "cell_type": "code",
   "execution_count": null,
   "metadata": {},
   "outputs": [],
   "source": [
    "(1. - get_param(svm, \"pi\"))"
   ]
  },
  {
   "cell_type": "code",
   "execution_count": null,
   "metadata": {},
   "outputs": [],
   "source": [
    "get_param(svm, \"delta\") * vbl * exp.(v_grid[2:end-1]) - (1. - get_param(svm, \"pi\"))"
   ]
  },
  {
   "cell_type": "code",
   "execution_count": null,
   "metadata": {},
   "outputs": [],
   "source": [
    "(get_param(svm, \"delta\") * vbl * exp.(v_grid[2:end-1]) .- \n",
    "                (1 - get_param(svm, \"pi\"))) .* get_param(svm, \"C\")"
   ]
  },
  {
   "cell_type": "code",
   "execution_count": null,
   "metadata": {},
   "outputs": [],
   "source": [
    "(get_param(svm, \"delta\") * vbl * exp.(v_grid[2:end-1]) .- \n",
    "                    (1 - get_param(svm, \"pi\")) .* get_param(svm, \"C\") + \n",
    "                v_grid[2:end-1] .- get_param(svm, \"p\") .+\n",
    "                    get_param(svm, \"lambda\") * v_grid[2:end-1])"
   ]
  },
  {
   "cell_type": "code",
   "execution_count": null,
   "metadata": {},
   "outputs": [],
   "source": [
    "v_grid"
   ]
  },
  {
   "cell_type": "code",
   "execution_count": null,
   "metadata": {},
   "outputs": [],
   "source": [
    "eq_vmax = 2.\n",
    "bond_vmax = .9\n",
    "lenv = 1500\n",
    "v_grid = range(eq_vmax, stop=0.0, length=lenv)\n",
    "\n",
    "\n",
    "bondpr_grid_fut = @spawn [BondPrInterp.bondpr(svm, vbl * exp(v), vbl, \n",
    "                                     svm.pm.m, bond_vmax, \n",
    "                                     f0fd, f1fd, f2fd, f3fd) for v=v_grid]\n",
    "bondpr_grid = fetch(bondpr_grid_fut)"
   ]
  },
  {
   "cell_type": "code",
   "execution_count": null,
   "metadata": {},
   "outputs": [],
   "source": [
    "bondpr_grid"
   ]
  },
  {
   "cell_type": "code",
   "execution_count": null,
   "metadata": {},
   "outputs": [],
   "source": [
    "include(string(LOAD_PATH[end], \"BondPrInterp.jl\"))\n",
    "using Distributed"
   ]
  },
  {
   "cell_type": "code",
   "execution_count": null,
   "metadata": {},
   "outputs": [],
   "source": [
    "f2fd[.3]"
   ]
  },
  {
   "cell_type": "code",
   "execution_count": null,
   "metadata": {},
   "outputs": [],
   "source": [
    "BondPrInterp.bondpr(svm, vbl * exp(.1), vbl, \n",
    "                    svm.pm.m, bond_vmax, \n",
    "                    f0fd, f1fd, f2fd, f3fd, fd_method=true)"
   ]
  },
  {
   "cell_type": "code",
   "execution_count": null,
   "metadata": {},
   "outputs": [],
   "source": [
    "using LinearAlgebra\n",
    "\n",
    "Array(Diagonal(ones(3)))"
   ]
  },
  {
   "cell_type": "code",
   "execution_count": null,
   "metadata": {},
   "outputs": [],
   "source": [
    "3*2"
   ]
  },
  {
   "cell_type": "code",
   "execution_count": null,
   "metadata": {},
   "outputs": [],
   "source": []
  },
  {
   "cell_type": "code",
   "execution_count": null,
   "metadata": {},
   "outputs": [],
   "source": []
  },
  {
   "cell_type": "code",
   "execution_count": null,
   "metadata": {},
   "outputs": [],
   "source": []
  }
 ],
 "metadata": {
  "kernelspec": {
   "display_name": "Julia 1.0.0",
   "language": "julia",
   "name": "julia-1.0"
  },
  "language_info": {
   "file_extension": ".jl",
   "mimetype": "application/julia",
   "name": "julia",
   "version": "1.0.0"
  }
 },
 "nbformat": 4,
 "nbformat_minor": 2
}
