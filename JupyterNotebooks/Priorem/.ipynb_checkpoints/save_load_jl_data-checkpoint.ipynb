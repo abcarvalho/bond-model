{
 "cells": [
  {
   "cell_type": "code",
   "execution_count": 11,
   "metadata": {},
   "outputs": [
    {
     "name": "stderr",
     "output_type": "stream",
     "text": [
      "┌ Info: Recompiling stale cache file /home/artur/.julia/compiled/v1.0/Distributions/xILW0.ji for Distributions [31c24e10-a181-5473-b8eb-7969acd0382f]\n",
      "└ @ Base loading.jl:1184\n",
      "┌ Info: Recompiling stale cache file /home/artur/.julia/compiled/v1.0/AnalyticFunctions.ji for AnalyticFunctions [top-level]\n",
      "└ @ Base loading.jl:1184\n"
     ]
    },
    {
     "data": {
      "text/plain": [
       "Main.BondPrInterp"
      ]
     },
     "execution_count": 11,
     "metadata": {},
     "output_type": "execute_result"
    }
   ],
   "source": [
    "using Revise, JLD2, FileIO\n",
    "\n",
    "push!(LOAD_PATH, \"/home/artur/BondPricing/Julia/modules/\")\n",
    "include(string(LOAD_PATH[end], \"ModelObj.jl\"))\n",
    "include(string(LOAD_PATH[end], \"AnalyticFunctions.jl\"))\n",
    "include(string(LOAD_PATH[end], \"BondPrInterp.jl\"))"
   ]
  },
  {
   "cell_type": "code",
   "execution_count": 3,
   "metadata": {},
   "outputs": [],
   "source": [
    "# Test -> save dictionary"
   ]
  },
  {
   "cell_type": "code",
   "execution_count": 12,
   "metadata": {},
   "outputs": [
    {
     "data": {
      "text/plain": [
       "Main.ModelObj.Firm\n",
       "  V0: Float32 100.0f0\n",
       "  c: Float32 6.39f0\n",
       "  p: Float32 61.68f0\n",
       "  vbl: Float32 60.0f0\n",
       "  vbh: Float32 62.0f0\n",
       "  pm: Main.ModelObj.FirmParams\n"
      ]
     },
     "execution_count": 12,
     "metadata": {},
     "output_type": "execute_result"
    }
   ],
   "source": [
    "pardict = Dict(\"V0\" => 100, \n",
    "               \"vbl\" => 60, \n",
    "               \"vbh\" => 62, \n",
    "                \"m\" => 1.,\n",
    "                \"c\" => 6.39,\n",
    "                \"p\" => 61.68,\n",
    "                \"sigmal\" => .25,\n",
    "                \"sigmah\" => .25,\n",
    "                \"r\" => .08,\n",
    "                \"gross_delta\" => .02,\n",
    "                \"iota\" => .0,\n",
    "                \"xi\" => 1.,\n",
    "                \"kappa\" => .015,\n",
    "                \"alpha\" => .6,\n",
    "                \"pi\" => .27,\n",
    "                \"lambda\" => .3)\n",
    "\n",
    "svm = ModelObj.firm_constructor(pardict)"
   ]
  },
  {
   "cell_type": "code",
   "execution_count": 13,
   "metadata": {},
   "outputs": [],
   "source": [
    "@save string(DATA_PATH, \"data_obj.jld2\") svm"
   ]
  },
  {
   "cell_type": "code",
   "execution_count": 15,
   "metadata": {},
   "outputs": [
    {
     "data": {
      "text/plain": [
       "1-element Array{Symbol,1}:\n",
       " :svm"
      ]
     },
     "execution_count": 15,
     "metadata": {},
     "output_type": "execute_result"
    }
   ],
   "source": [
    "@load string(DATA_PATH, \"data_obj.jld2\") svm"
   ]
  },
  {
   "cell_type": "code",
   "execution_count": 16,
   "metadata": {},
   "outputs": [
    {
     "data": {
      "text/plain": [
       "Main.ModelObj.Firm\n",
       "  V0: Float32 100.0f0\n",
       "  c: Float32 6.39f0\n",
       "  p: Float32 61.68f0\n",
       "  vbl: Float32 60.0f0\n",
       "  vbh: Float32 62.0f0\n",
       "  pm: Main.ModelObj.FirmParams\n"
      ]
     },
     "execution_count": 16,
     "metadata": {},
     "output_type": "execute_result"
    }
   ],
   "source": [
    "svm"
   ]
  },
  {
   "cell_type": "code",
   "execution_count": 8,
   "metadata": {},
   "outputs": [],
   "source": [
    "# Load Bond Pricing Data"
   ]
  },
  {
   "cell_type": "code",
   "execution_count": 6,
   "metadata": {},
   "outputs": [
    {
     "data": {
      "text/plain": [
       "\"fd_funs.jld2\""
      ]
     },
     "execution_count": 6,
     "metadata": {},
     "output_type": "execute_result"
    }
   ],
   "source": [
    "DATA_PATH=\"/home/artur/BondPricing/Julia/Data/\"\n",
    "data_file=\"fd_funs.jld2\""
   ]
  },
  {
   "cell_type": "code",
   "execution_count": 7,
   "metadata": {},
   "outputs": [
    {
     "data": {
      "text/plain": [
       "1-element Array{Symbol,1}:\n",
       " :bprd"
      ]
     },
     "execution_count": 7,
     "metadata": {},
     "output_type": "execute_result"
    }
   ],
   "source": [
    "@load string(DATA_PATH, data_file) bprd"
   ]
  },
  {
   "cell_type": "code",
   "execution_count": 10,
   "metadata": {},
   "outputs": [
    {
     "data": {
      "text/plain": [
       "Dict{String,AbstractArray{Float64,N} where N} with 7 entries:\n",
       "  \"vtgrid\"   => 0.02666666666666667:0.02666666666666667:0.8\n",
       "  \"f12\"      => [0.0391049 0.0371445 … 0.00804377 0.00586765; 0.0729671 0.06972…\n",
       "  \"f13\"      => [0.00246826 0.00451337 … 0.00805377 0.00583913; 0.00388055 0.00…\n",
       "  \"f22\"      => [4.32046e-8, 9.8056e-8, 1.79811e-7, 3.09838e-7, 5.20269e-7, 8.6…\n",
       "  \"f21\"      => [2.48671e-8, 5.64879e-8, 1.03722e-7, 1.79013e-7, 3.01132e-7, 4.…\n",
       "  \"f11\"      => [0.0441969, 0.0815842, 0.112906, 0.138992, 0.160585, 0.178345, …\n",
       "  \"vbhlgrid\" => 0.75:0.05555555555555555:1.25"
      ]
     },
     "execution_count": 10,
     "metadata": {},
     "output_type": "execute_result"
    }
   ],
   "source": [
    "bprd"
   ]
  },
  {
   "cell_type": "code",
   "execution_count": null,
   "metadata": {},
   "outputs": [],
   "source": []
  }
 ],
 "metadata": {
  "kernelspec": {
   "display_name": "Julia 1.0.0",
   "language": "julia",
   "name": "julia-1.0"
  },
  "language_info": {
   "file_extension": ".jl",
   "mimetype": "application/julia",
   "name": "julia",
   "version": "1.0.0"
  }
 },
 "nbformat": 4,
 "nbformat_minor": 2
}
