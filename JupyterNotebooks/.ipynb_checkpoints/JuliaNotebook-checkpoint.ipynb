{
 "cells": [
  {
   "cell_type": "code",
   "execution_count": null,
   "metadata": {
    "collapsed": true
   },
   "outputs": [],
   "source": [
    "workspace()"
   ]
  },
  {
   "cell_type": "code",
   "execution_count": null,
   "metadata": {
    "collapsed": true
   },
   "outputs": [],
   "source": [
    "function count_heads(n)\n",
    "    c::Int = 0\n",
    "    for i = 1:n\n",
    "        c += rand(Bool)\n",
    "    end\n",
    "    c\n",
    "end"
   ]
  },
  {
   "cell_type": "code",
   "execution_count": null,
   "metadata": {
    "collapsed": true
   },
   "outputs": [],
   "source": []
  },
  {
   "cell_type": "code",
   "execution_count": null,
   "metadata": {
    "collapsed": true
   },
   "outputs": [],
   "source": [
    "using ProgressMeter\n",
    "function tt(y; p=nothing)\n",
    "    if p != nothing\n",
    "        next!(p)\n",
    "    end\n",
    "    sleep(1)\n",
    "    return y^3\n",
    "end\n",
    "n = 10^5\n",
    "dt = .001\n",
    "p1 = Progress(n, dt)\n",
    "p2 = Progress(n, dt)\n",
    "[ tt(y) for y=linspace(0, 5, n)]\n",
    "a = @spawn [ tt(y, p=p2) for y=linspace(0, 5, n)]\n",
    "fetch(a)\n"
   ]
  },
  {
   "cell_type": "code",
   "execution_count": 2,
   "metadata": {},
   "outputs": [
    {
     "data": {
      "text/plain": [
       "5"
      ]
     },
     "execution_count": 2,
     "metadata": {},
     "output_type": "execute_result"
    }
   ],
   "source": [
    "length(linspace(0, 5, 5))"
   ]
  },
  {
   "cell_type": "code",
   "execution_count": null,
   "metadata": {
    "collapsed": true
   },
   "outputs": [],
   "source": []
  },
  {
   "cell_type": "code",
   "execution_count": null,
   "metadata": {
    "collapsed": true
   },
   "outputs": [],
   "source": [
    "tic()\n",
    "a = @spawn count_heads(100000000)\n",
    "toc()"
   ]
  },
  {
   "cell_type": "code",
   "execution_count": null,
   "metadata": {
    "collapsed": true
   },
   "outputs": [],
   "source": [
    "tic()\n",
    "b = fetch(a)\n",
    "toc()\n",
    "\n",
    "b"
   ]
  },
  {
   "cell_type": "code",
   "execution_count": null,
   "metadata": {
    "collapsed": true
   },
   "outputs": [],
   "source": [
    "push!(LOAD_PATH, \"/home/artur/BondPricing/Julia\")\n",
    "include(\"analytic_functions.jl\")"
   ]
  },
  {
   "cell_type": "code",
   "execution_count": null,
   "metadata": {
    "collapsed": true
   },
   "outputs": [],
   "source": [
    "\n",
    "# Pkg.add(\"analytic_functions\")\n",
    "# using analytic_functions\n",
    "\n",
    "# workspace()\n",
    "# workspace()\n",
    "reload(\"analytic_functions\")\n",
    "using analytic_functions\n",
    "# const af = analytic_functions\n",
    " "
   ]
  },
  {
   "cell_type": "code",
   "execution_count": null,
   "metadata": {
    "collapsed": true
   },
   "outputs": [],
   "source": [
    "pardict = Dict(\"vb\" => 60, \n",
    "               \"vbh\" => 62, \n",
    "                \"m\" => 1.,\n",
    "                \"c\" => 6.39,\n",
    "                \"p\" => 61.68,\n",
    "                \"sigmal\" => .25,\n",
    "                \"sigmah\" => .25,\n",
    "                \"r\" => .08,\n",
    "                \"gross_delta\" => .02,\n",
    "                \"iota\" => .0,\n",
    "                \"xi\" => 1.,\n",
    "                \"kappa\" => .015,\n",
    "                \"alpha\" => .6,\n",
    "                \"pi\" => .27,\n",
    "                \"lambda\" => .3)"
   ]
  },
  {
   "cell_type": "code",
   "execution_count": null,
   "metadata": {
    "collapsed": true
   },
   "outputs": [],
   "source": [
    "struct Overarching(V0, m, c, p, \n",
    "                           alpha, pi, \n",
    "                           r, gross_Delta, iota, \n",
    "                           xi, k, \n",
    "                           lambda, sigmal, sigmah)\n",
    "    m::Float64\n",
    "    \n",
    "end\n",
    "    "
   ]
  },
  {
   "cell_type": "code",
   "execution_count": null,
   "metadata": {
    "collapsed": true
   },
   "outputs": [],
   "source": []
  },
  {
   "cell_type": "code",
   "execution_count": null,
   "metadata": {
    "collapsed": true
   },
   "outputs": [],
   "source": []
  },
  {
   "cell_type": "code",
   "execution_count": null,
   "metadata": {
    "collapsed": true
   },
   "outputs": [],
   "source": [
    "pardict.a"
   ]
  },
  {
   "cell_type": "code",
   "execution_count": null,
   "metadata": {
    "collapsed": true
   },
   "outputs": [],
   "source": [
    "?afun.zhi_vb()"
   ]
  },
  {
   "cell_type": "code",
   "execution_count": null,
   "metadata": {
    "collapsed": true
   },
   "outputs": [],
   "source": [
    "function fun_wrapper(V0, vb, dict)\n",
    "    m = dict[\"m\"]\n",
    "    c = dict[\"c\"]\n",
    "    p = dict[\"p\"]\n",
    "    \n",
    "    r = dict[\"r\"]\n",
    "    gross_delta = dict[\"gross_delta\"]\n",
    "    iota = dict[\"iota\"]\n",
    "    \n",
    "    xi = dict[\"xi\"]\n",
    "    k = dict[\"kappa\"]\n",
    "    \n",
    "    alpha = dict[\"alpha\"]\n",
    "    pi = dict[\"pi\"]\n",
    "    \n",
    "    _lambda = dict[\"lambda\"]\n",
    "    \n",
    "    sigmal = dict[\"sigmal\"]\n",
    "    sigmah = dict[\"sigmah\"]\n",
    "    \n",
    "    sigma = dict[\"sigmal\"]\n",
    "    \n",
    "#     vb = afun.zhi_vb(m, c, p, sigma, r, gross_delta, iota, xi, k, alpha, pi)\n",
    "    \n",
    "    vt = log(V0/vb) \n",
    "    \n",
    "    # afun.zhi_bond_price(vb, v, ttm, m, c, p, sigma, r, gross_delta, xi, k, alpha, pi)\n",
    "    \n",
    "    vbh = vb\n",
    "    println(string(\"VBl: \", vb))\n",
    "#     return afun.bond_pr_main(vt, ttm, vb, vbh,\n",
    "#                           m, c, p,\n",
    "#                           r, gross_delta, iota,\n",
    "#                           xi, k, alpha, pi,\n",
    "#                           _lambda, sigmal, sigmah)\n",
    "    ttm_grid_size = 20\n",
    "    return afun.get_debt_price(vt, vb, vbh, ttm_grid_size, \n",
    "                                m, c, p, \n",
    "                                r, gross_delta, iota, \n",
    "                                xi, k, \n",
    "                                alpha, pi, \n",
    "                                _lambda, sigmal, sigmah)\n",
    "    \n",
    "end"
   ]
  },
  {
   "cell_type": "code",
   "execution_count": null,
   "metadata": {
    "collapsed": true
   },
   "outputs": [],
   "source": [
    "tic()\n",
    "pardict[\"p\"] = 58.80649063906391\n",
    "debtpr = fun_wrapper(100, 64.96307165308276, pardict)\n",
    "toc()"
   ]
  },
  {
   "cell_type": "code",
   "execution_count": 3,
   "metadata": {},
   "outputs": [
    {
     "data": {
      "text/plain": [
       "2-element Array{Any,1}:\n",
       " \"/usr/local/julia/0.6.0/local/share/julia/site/v0.6\"\n",
       " \"/usr/local/julia/0.6.0/share/julia/site/v0.6\"      "
      ]
     },
     "execution_count": 3,
     "metadata": {},
     "output_type": "execute_result"
    }
   ],
   "source": [
    "LOAD_PATH"
   ]
  },
  {
   "cell_type": "code",
   "execution_count": null,
   "metadata": {
    "collapsed": true
   },
   "outputs": [],
   "source": [
    "function bond_surf_wrapper(V0, pmin, pmax, pN, vN,\n",
    "                            vbmin, vbmax, vbN, dict)\n",
    "    m = dict[\"m\"]\n",
    "    c = dict[\"c\"]\n",
    "    p = dict[\"p\"]\n",
    "    \n",
    "    r = dict[\"r\"]\n",
    "    gross_delta = dict[\"gross_delta\"]\n",
    "    iota = dict[\"iota\"]\n",
    "    \n",
    "    xi = dict[\"xi\"]\n",
    "    k = dict[\"kappa\"]\n",
    "    \n",
    "    alpha = dict[\"alpha\"]\n",
    "    pi = dict[\"pi\"]\n",
    "    \n",
    "    _lambda = dict[\"lambda\"]\n",
    "    \n",
    "    sigmal = dict[\"sigmal\"]\n",
    "    sigmah = dict[\"sigmah\"]\n",
    "    \n",
    "    sigma = dict[\"sigmal\"]\n",
    "    \n",
    "    \n",
    "#     pgrid = linspace(50, 70, 5)\n",
    "#     vgrid = linspace(0, log(800/50), 125)\n",
    "#     vbgrid = linspace(50, 65, 5)\n",
    "    \n",
    "    \n",
    "#     bondVmax = afun.get_bond_vmax(V0, m, c, p, sigmah, r,\n",
    "#                             gross_delta, iota, xi, k,\n",
    "#                             alpha, pi)\n",
    "    \n",
    "    \n",
    "    \n",
    "#     cube_future = @spawn [afun.bond_pr_main(v, m, vb, vb, m, c, p,\n",
    "#                               r, gross_delta, iota,xi, k, alpha, pi, _lambda,\n",
    "#                               sigmal, sigmah, log(bondVmax/vb)) for p=pgrid, v=vgrid, vb=vbgrid]\n",
    "#     return fetch(cube_future)\n",
    "    cube = afun.pvvb_bond_surf(V0, pmin, pmax, pN, vN,\n",
    "                            vbmin, vbmax, vbN,\n",
    "                            m, c, p,\n",
    "                            r, gross_delta, iota,\n",
    "                            xi, k,\n",
    "                            alpha, pi,\n",
    "                            _lambda, sigmal, sigmah)\n",
    "end"
   ]
  },
  {
   "cell_type": "code",
   "execution_count": null,
   "metadata": {
    "collapsed": true
   },
   "outputs": [],
   "source": [
    "tic()\n",
    "cube = bond_surf_wrapper(100, 50, 70, 5, 100,\n",
    "                          50, 70, 5, pardict)\n",
    "toc()"
   ]
  },
  {
   "cell_type": "code",
   "execution_count": null,
   "metadata": {
    "collapsed": true
   },
   "outputs": [],
   "source": [
    "ls"
   ]
  },
  {
   "cell_type": "code",
   "execution_count": null,
   "metadata": {
    "collapsed": true
   },
   "outputs": [],
   "source": [
    "cube"
   ]
  },
  {
   "cell_type": "code",
   "execution_count": null,
   "metadata": {
    "collapsed": true
   },
   "outputs": [],
   "source": [
    "pgrid = linspace(50, 70, 5)\n",
    "vgrid = linspace(0, log(800/50), 125)\n",
    "vbgrid = linspace(50, 65, 5)\n",
    "itpc = interpolate(cube, BSpline(Cubic(Line())), OnGrid())\n",
    "# sitpc = scale(itpc, ...)"
   ]
  },
  {
   "cell_type": "code",
   "execution_count": null,
   "metadata": {
    "collapsed": true
   },
   "outputs": [],
   "source": [
    "tmp =RectangleGrid(pgrid, vgrid, vbgrid)\n",
    "\n",
    "tmp"
   ]
  },
  {
   "cell_type": "code",
   "execution_count": null,
   "metadata": {
    "collapsed": true
   },
   "outputs": [],
   "source": [
    "using GridInterpolations"
   ]
  },
  {
   "cell_type": "code",
   "execution_count": null,
   "metadata": {
    "collapsed": true
   },
   "outputs": [],
   "source": [
    "[pgrid, vgrid, vbgrid]"
   ]
  },
  {
   "cell_type": "code",
   "execution_count": null,
   "metadata": {
    "collapsed": true
   },
   "outputs": [],
   "source": [
    "sitpc(58.80649063906391, )"
   ]
  },
  {
   "cell_type": "code",
   "execution_count": null,
   "metadata": {
    "collapsed": true
   },
   "outputs": [],
   "source": [
    "V0 = 100\n",
    "p = 58.80649063906391\n",
    "vb = 64.96307165308276\n",
    "v = log(100/vb)\n",
    "\n",
    "sitpc[p, v, vb]"
   ]
  },
  {
   "cell_type": "code",
   "execution_count": null,
   "metadata": {
    "collapsed": true
   },
   "outputs": [],
   "source": [
    "sitpc = scale(itpc, pgrid, vgrid, vbgrid)"
   ]
  },
  {
   "cell_type": "code",
   "execution_count": null,
   "metadata": {
    "collapsed": true
   },
   "outputs": [],
   "source": [
    "mgrid = [(p, v, vb) for p=pgrid, v=vgrid, vb=vbgrid]"
   ]
  },
  {
   "cell_type": "code",
   "execution_count": null,
   "metadata": {
    "collapsed": true
   },
   "outputs": [],
   "source": [
    "grid = RectangleGrid([0., 0.5, 1.],[0., 0.5, 1.])"
   ]
  },
  {
   "cell_type": "code",
   "execution_count": null,
   "metadata": {
    "collapsed": true
   },
   "outputs": [],
   "source": []
  },
  {
   "cell_type": "code",
   "execution_count": null,
   "metadata": {
    "collapsed": true
   },
   "outputs": [],
   "source": []
  },
  {
   "cell_type": "code",
   "execution_count": null,
   "metadata": {
    "collapsed": true
   },
   "outputs": [],
   "source": [
    "using JLD"
   ]
  },
  {
   "cell_type": "code",
   "execution_count": null,
   "metadata": {
    "collapsed": true
   },
   "outputs": [],
   "source": [
    "save(\"data.jld\", \"data\", cube)\n"
   ]
  },
  {
   "cell_type": "code",
   "execution_count": null,
   "metadata": {
    "collapsed": true
   },
   "outputs": [],
   "source": [
    "cube2 = load(\"data.jld\")[\"data\"]"
   ]
  },
  {
   "cell_type": "code",
   "execution_count": null,
   "metadata": {
    "collapsed": true
   },
   "outputs": [],
   "source": []
  },
  {
   "cell_type": "code",
   "execution_count": null,
   "metadata": {
    "collapsed": true
   },
   "outputs": [],
   "source": [
    "using Interpolations\n",
    "# Maybe pass a single vmax\n",
    "tic()\n",
    "vbgrid = linspace(50, 70, 5)\n",
    "debtgrid = @spawn [fun_wrapper(100, vb, pardict) for vb=vbgrid]\n",
    "debtvec = fetch(debtgrid)\n",
    "itp = interpolate(debtvec, BSpline(Cubic(Line())), OnGrid())\n",
    "sitp = Interpolations.scale(itp, vbgrid) # Scale\n",
    "vbgrid_refined_size = 10^4\n",
    "vbgrid_refined = linspace(vbgrid[1], vbgrid[end], vbgrid_refined_size)\n",
    "debtref = [sitp[x] for x in vbgrid_refined]\n",
    "toc()"
   ]
  },
  {
   "cell_type": "code",
   "execution_count": null,
   "metadata": {
    "collapsed": true
   },
   "outputs": [],
   "source": [
    "using Plots\n",
    "plot(vbgrid_refined, debtref - pardict[\"p\"] * pardict[\"m\"]) "
   ]
  },
  {
   "cell_type": "code",
   "execution_count": null,
   "metadata": {
    "collapsed": true
   },
   "outputs": [],
   "source": [
    "tmp = debtref - pardict[\"p\"] * pardict[\"m\"]\n",
    "# minimum(abs.(tmp))\n",
    "vbgrid_refined[findmin(abs.(tmp))[2]]"
   ]
  },
  {
   "cell_type": "code",
   "execution_count": null,
   "metadata": {
    "collapsed": true
   },
   "outputs": [],
   "source": [
    "vbgrid_refined[findmin(abs.(tmp))[2]]"
   ]
  },
  {
   "cell_type": "code",
   "execution_count": null,
   "metadata": {
    "collapsed": true
   },
   "outputs": [],
   "source": [
    "minimum(abs.(tmp))"
   ]
  },
  {
   "cell_type": "code",
   "execution_count": null,
   "metadata": {
    "collapsed": true
   },
   "outputs": [],
   "source": []
  },
  {
   "cell_type": "code",
   "execution_count": null,
   "metadata": {
    "collapsed": true
   },
   "outputs": [],
   "source": []
  },
  {
   "cell_type": "code",
   "execution_count": null,
   "metadata": {
    "collapsed": true
   },
   "outputs": [],
   "source": [
    "?afun.get_debt_price()"
   ]
  },
  {
   "cell_type": "code",
   "execution_count": null,
   "metadata": {
    "collapsed": true
   },
   "outputs": [],
   "source": [
    "fun_wrapper(pardict)"
   ]
  },
  {
   "cell_type": "code",
   "execution_count": null,
   "metadata": {
    "collapsed": true
   },
   "outputs": [],
   "source": [
    "fun_wrapper(100, 1, pardict)"
   ]
  },
  {
   "cell_type": "code",
   "execution_count": null,
   "metadata": {
    "collapsed": true
   },
   "outputs": [],
   "source": [
    "fun_wrapper(100, .5, pardict)"
   ]
  },
  {
   "cell_type": "code",
   "execution_count": null,
   "metadata": {
    "collapsed": true
   },
   "outputs": [],
   "source": [
    "fun_wrapper(100, 1, pardict)"
   ]
  },
  {
   "cell_type": "code",
   "execution_count": null,
   "metadata": {
    "collapsed": true
   },
   "outputs": [],
   "source": [
    "fun_wrapper(100, .5, pardict)"
   ]
  },
  {
   "cell_type": "code",
   "execution_count": null,
   "metadata": {
    "collapsed": true
   },
   "outputs": [],
   "source": [
    "pardict[\"p\"]=58.806491\n",
    "pardict"
   ]
  },
  {
   "cell_type": "code",
   "execution_count": null,
   "metadata": {
    "collapsed": true
   },
   "outputs": [],
   "source": [
    "fun_wrapper(100, 1, pardict)"
   ]
  },
  {
   "cell_type": "code",
   "execution_count": null,
   "metadata": {
    "collapsed": true
   },
   "outputs": [],
   "source": []
  },
  {
   "cell_type": "code",
   "execution_count": null,
   "metadata": {
    "collapsed": true
   },
   "outputs": [],
   "source": []
  },
  {
   "cell_type": "code",
   "execution_count": null,
   "metadata": {
    "collapsed": true
   },
   "outputs": [],
   "source": []
  },
  {
   "cell_type": "code",
   "execution_count": null,
   "metadata": {
    "collapsed": true
   },
   "outputs": [],
   "source": []
  },
  {
   "cell_type": "code",
   "execution_count": null,
   "metadata": {
    "collapsed": true
   },
   "outputs": [],
   "source": [
    "?afun.zhi_bond_price()"
   ]
  },
  {
   "cell_type": "code",
   "execution_count": null,
   "metadata": {
    "collapsed": true
   },
   "outputs": [],
   "source": []
  },
  {
   "cell_type": "code",
   "execution_count": null,
   "metadata": {
    "collapsed": true
   },
   "outputs": [],
   "source": []
  },
  {
   "cell_type": "code",
   "execution_count": null,
   "metadata": {
    "collapsed": true
   },
   "outputs": [],
   "source": []
  },
  {
   "cell_type": "code",
   "execution_count": null,
   "metadata": {
    "collapsed": true
   },
   "outputs": [],
   "source": []
  },
  {
   "cell_type": "code",
   "execution_count": null,
   "metadata": {
    "collapsed": true
   },
   "outputs": [],
   "source": [
    "function debt_pr_wrapper(vt, vmax, vb, vbh, ttm_grid_size, dict)\n",
    "   return afun.get_debt_price(vt, vb, vbh, ttm_grid_size,\n",
    "                            dict[\"m\"], dict[\"c\"], dict[\"p\"], \n",
    "                            dict[\"r\"], dict[\"gross_delta\"], dict[\"iota\"], \n",
    "                            dict[\"xi\"], dict[\"kappa\"], dict[\"alpha\"], dict[\"pi\"],\n",
    "                            dict[\"lambda\"], dict[\"sigmal\"], dict[\"sigmah\"]) \n",
    "    \n",
    "end"
   ]
  },
  {
   "cell_type": "code",
   "execution_count": null,
   "metadata": {
    "collapsed": true
   },
   "outputs": [],
   "source": [
    "tic()\n",
    "a = debt_pr_wrapper(.5, 1.2, 60, 62, 25, pardict)\n",
    "toc()\n",
    "a"
   ]
  },
  {
   "cell_type": "code",
   "execution_count": null,
   "metadata": {
    "collapsed": true
   },
   "outputs": [],
   "source": [
    "tic()\n",
    "a = debt_pr_wrapper(.5, 1.2, 60, 62, 25, pardict)\n",
    "toc()\n",
    "a"
   ]
  },
  {
   "cell_type": "code",
   "execution_count": null,
   "metadata": {
    "collapsed": true
   },
   "outputs": [],
   "source": [
    "?Interpolations.scale"
   ]
  },
  {
   "cell_type": "code",
   "execution_count": null,
   "metadata": {
    "collapsed": true
   },
   "outputs": [],
   "source": [
    "print(string(\"shgjrhgfkj: \" , 3.545))"
   ]
  },
  {
   "cell_type": "code",
   "execution_count": null,
   "metadata": {
    "collapsed": true
   },
   "outputs": [],
   "source": [
    "function bond_vmax_wrapper(V0, dict)\n",
    "    return afun.get_bond_vmax(V0, dict[\"m\"], dict[\"c\"], dict[\"p\"], \n",
    "                         dict[\"sigmah\"], dict[\"r\"], \n",
    "                         dict[\"gross_delta\"], dict[\"iota\"], \n",
    "                         dict[\"xi\"], dict[\"kappa\"],\n",
    "                         dict[\"alpha\"], dict[\"pi\"],)\n",
    "end"
   ]
  },
  {
   "cell_type": "code",
   "execution_count": null,
   "metadata": {
    "collapsed": true
   },
   "outputs": [],
   "source": [
    "bond_vmax_wrapper(100, pardict)"
   ]
  },
  {
   "cell_type": "code",
   "execution_count": null,
   "metadata": {
    "collapsed": true
   },
   "outputs": [],
   "source": [
    "?afun.get_bond_vmax"
   ]
  },
  {
   "cell_type": "code",
   "execution_count": null,
   "metadata": {
    "collapsed": true
   },
   "outputs": [],
   "source": [
    "println(string(\"Bond Percentage Difference: \", per_diff))"
   ]
  },
  {
   "cell_type": "code",
   "execution_count": null,
   "metadata": {
    "collapsed": true
   },
   "outputs": [],
   "source": [
    "function tmp(a, vmax=NaN)\n",
    "    if !isnan(vmax)\n",
    "        println(\"Returning vmax\")\n",
    "        return a, vmax\n",
    "    else\n",
    "        return a\n",
    "    end\n",
    "end"
   ]
  },
  {
   "cell_type": "code",
   "execution_count": null,
   "metadata": {
    "collapsed": true
   },
   "outputs": [],
   "source": [
    "tmp(3)"
   ]
  },
  {
   "cell_type": "code",
   "execution_count": null,
   "metadata": {
    "collapsed": true
   },
   "outputs": [],
   "source": [
    "a, vmax= tmp(4, 6)"
   ]
  },
  {
   "cell_type": "code",
   "execution_count": null,
   "metadata": {
    "collapsed": true
   },
   "outputs": [],
   "source": [
    "a"
   ]
  },
  {
   "cell_type": "code",
   "execution_count": null,
   "metadata": {
    "collapsed": true
   },
   "outputs": [],
   "source": [
    "vmax"
   ]
  },
  {
   "cell_type": "code",
   "execution_count": null,
   "metadata": {
    "collapsed": true
   },
   "outputs": [],
   "source": [
    "_, vmax = tmp(5, 7)"
   ]
  },
  {
   "cell_type": "code",
   "execution_count": null,
   "metadata": {
    "collapsed": true
   },
   "outputs": [],
   "source": [
    "vmax"
   ]
  },
  {
   "cell_type": "code",
   "execution_count": null,
   "metadata": {
    "collapsed": true
   },
   "outputs": [],
   "source": []
  },
  {
   "cell_type": "code",
   "execution_count": null,
   "metadata": {
    "collapsed": true
   },
   "outputs": [],
   "source": []
  },
  {
   "cell_type": "code",
   "execution_count": null,
   "metadata": {
    "collapsed": true
   },
   "outputs": [],
   "source": []
  },
  {
   "cell_type": "code",
   "execution_count": null,
   "metadata": {
    "collapsed": true
   },
   "outputs": [],
   "source": []
  },
  {
   "cell_type": "code",
   "execution_count": null,
   "metadata": {
    "collapsed": true
   },
   "outputs": [],
   "source": []
  },
  {
   "cell_type": "code",
   "execution_count": null,
   "metadata": {
    "collapsed": true
   },
   "outputs": [],
   "source": []
  },
  {
   "cell_type": "code",
   "execution_count": null,
   "metadata": {
    "collapsed": true
   },
   "outputs": [],
   "source": [
    "function vol_shock_cf_integrand_wrapper(vt, v, u, ttm, vb, vbh, dict)\n",
    "    return afun.vol_shock_cf_integrand(vt, v,\n",
    "                                      v - log(vbh / vb),\n",
    "                                      vb, vbh, \n",
    "                                      u, ttm,\n",
    "                                      dict[\"c\"], dict[\"p\"],\n",
    "                                      dict[\"sigmal\"], dict[\"sigmah\"], \n",
    "                                      dict[\"r\"], dict[\"gross_delta\"],\n",
    "                                      dict[\"xi\"], dict[\"kappa\"],\n",
    "                                      dict[\"alpha\"], dict[\"pi\"],\n",
    "                                      dict[\"lambda\"]) * vb * exp(v) * (v > 0)\n",
    "end\n",
    "\n",
    "function approx_bond_int2(vt, v_upper_thresh, ttm, rdisc, rfbond_ttm, dict)\n",
    "    return dict[\"lambda\"] * exp(-(rdisc + dict[\"lambda\"]) * ttm) * \n",
    "           rfbond_ttm * afun.psi_v_td(vt, v_upper_thresh, ttm, dict[\"sigmal\"], \n",
    "                                              dict[\"r\"], dict[\"gross_delta\"])\n",
    "end"
   ]
  },
  {
   "cell_type": "code",
   "execution_count": null,
   "metadata": {
    "collapsed": true
   },
   "outputs": [],
   "source": [
    "# function bond_pr_vol_cf(v, ttm, vb, vbh, dict)\n",
    "#     tmp = @spawn [ vol_shock_cf_integrand_wrapper(vt, v, u, ttm, dict)*(1/1000)^2 for \n",
    "#                     u=linspace(0.0001, ttm, 1000), vt=linspace(0.0, 1, 1000)]\n",
    "\n",
    "#     return  sum(fetch(tmp))\n",
    "# end"
   ]
  },
  {
   "cell_type": "code",
   "execution_count": null,
   "metadata": {
    "collapsed": true
   },
   "outputs": [],
   "source": [
    "approx_bond_int2(.5, 1.2, .7, \n",
    "                 afun.rdisc(pardict[\"r\"], pardict[\"xi\"], pardict[\"kappa\"]),\n",
    "                 afun.rfbond_price(.7, pardict[\"c\"], pardict[\"p\"], pardict[\"r\"], \n",
    "                                        pardict[\"xi\"], pardict[\"kappa\"]),\n",
    "                 pardict)"
   ]
  },
  {
   "cell_type": "code",
   "execution_count": null,
   "metadata": {
    "collapsed": true
   },
   "outputs": [],
   "source": [
    "function bond_pr_vol_cf2(vt, ttm, vmax, vb, vbh, dict)\n",
    "    tauN = 10^3\n",
    "    vN = 10^3\n",
    "    dt1 = (ttm - 1e-4)/tauN\n",
    "    dv = vmax/vN\n",
    "    cf1_mat = @spawn [vol_shock_cf_integrand_wrapper(vt, v, u, ttm, vb, vbh, dict) for \n",
    "                    u=linspace(1e-4, ttm, tauN), v=linspace(0.0, vmax, vN)]\n",
    "    cf1 = sum(fetch(cf1_mat)) * dt1 * dv\n",
    "    \n",
    "    N = 10^4\n",
    "    dt2 = ttm/N\n",
    "    rdisc = afun.rdisc(dict[\"r\"], dict[\"xi\"], dict[\"kappa\"])\n",
    "    # Define auxiliary function:\n",
    "    get_rfbond(ttm) = afun.rfbond_price(ttm, dict[\"c\"], dict[\"p\"], dict[\"r\"], \n",
    "                                        dict[\"xi\"], dict[\"kappa\"])\n",
    "    cf2_vec = @spawn [approx_bond_int2(vt, vmax, tau, rdisc, get_rfbond(tau), dict) for \n",
    "            tau=linspace(dt2, ttm, N)]\n",
    "    cf2 = sum(fetch(cf2_vec)) * dt2\n",
    "#     cf2 = sum(cf2_vec) * dt2\n",
    "#     return sum(fetch(cf1_mat)) * dt1 * dv + cf2 \n",
    "#     return sum(fetch(cf1_mat)) * dt1 * dv + sum(fetch(cf2_vec)) * dt2\n",
    "    return cf1 + cf2\n",
    "end"
   ]
  },
  {
   "cell_type": "code",
   "execution_count": null,
   "metadata": {
    "collapsed": true
   },
   "outputs": [],
   "source": [
    "tic()\n",
    "a = bond_pr_vol_cf2(.5, .7, 1.2, 60, 62, pardict)\n",
    "toc()\n",
    "a"
   ]
  },
  {
   "cell_type": "code",
   "execution_count": null,
   "metadata": {
    "collapsed": true
   },
   "outputs": [],
   "source": [
    "sum(fetch(a))"
   ]
  },
  {
   "cell_type": "code",
   "execution_count": null,
   "metadata": {
    "collapsed": true
   },
   "outputs": [],
   "source": [
    "function bond_pr_main(vt, ttm, vmax, vb, vbh, dict)\n",
    "    \n",
    "    if vt <= 0\n",
    "        return afun.on_default_payoff(vt, vb, ttm,\n",
    "                                      dict[\"m\"], dict[\"c\"], dict[\"p\"],\n",
    "                                      dict[\"r\"], dict[\"xi\"], dict[\"kappa\"], dict[\"alpha\"])\n",
    "    else\n",
    "        # function to get vmax\n",
    "        # function to get rfbond\n",
    "        rfbond = afun.rfbond_price(ttm, dict[\"c\"], dict[\"p\"], dict[\"r\"], \n",
    "                                        dict[\"xi\"], dict[\"kappa\"])\n",
    "        \n",
    "        if vt > vmax\n",
    "            return rfbond\n",
    "        else\n",
    "            cf0 = afun.no_vol_shock_cf_pv(vt, vb, ttm,\n",
    "                         dict[\"m\"], dict[\"c\"], dict[\"p\"],\n",
    "                         dict[\"sigmal\"], dict[\"r\"],\n",
    "                         dict[\"gross_delta\"],\n",
    "                         dict[\"xi\"], dict[\"kappa\"], \n",
    "                         dict[\"alpha\"], dict[\"lambda\"])\n",
    "            \n",
    "            cf1 = bond_pr_vol_cf2(vt, ttm, vmax, vb, vbh, dict)\n",
    "            \n",
    "            price = min(cf0 + cf1, rfbond)\n",
    "            \n",
    "            return price\n",
    "        end\n",
    "    end\n",
    "end"
   ]
  },
  {
   "cell_type": "code",
   "execution_count": null,
   "metadata": {
    "collapsed": true
   },
   "outputs": [],
   "source": [
    "tic()\n",
    "a = bond_pr_main(.5, 1, 1.2, 60, 62, pardict)\n",
    "toc()\n",
    "a"
   ]
  },
  {
   "cell_type": "code",
   "execution_count": null,
   "metadata": {
    "collapsed": true
   },
   "outputs": [],
   "source": [
    "function bond_pr_wrapper(vt, ttm, vmax, vb, vbh, dict)\n",
    "   return afun.bond_pr_main(vt, ttm, vmax, vb, vbh,\n",
    "                            dict[\"m\"], dict[\"c\"], dict[\"p\"], \n",
    "                            dict[\"r\"], dict[\"gross_delta\"], \n",
    "                            dict[\"xi\"], dict[\"kappa\"], dict[\"alpha\"], dict[\"pi\"],\n",
    "                            dict[\"lambda\"], dict[\"sigmal\"], dict[\"sigmah\"]) \n",
    "    \n",
    "end"
   ]
  },
  {
   "cell_type": "code",
   "execution_count": null,
   "metadata": {
    "collapsed": true
   },
   "outputs": [],
   "source": [
    "tic()\n",
    "a = bond_pr_wrapper(.5, .11, 1.2, 60, 62, pardict)\n",
    "toc()\n",
    "a"
   ]
  },
  {
   "cell_type": "code",
   "execution_count": null,
   "metadata": {
    "collapsed": true
   },
   "outputs": [],
   "source": [
    "tic()\n",
    "tmp = @spawn [bond_pr_wrapper(v, 1, 1.2, 60, 62, pardict) for v=linspace(.0, .5,100)]\n",
    "toc()"
   ]
  },
  {
   "cell_type": "code",
   "execution_count": null,
   "metadata": {
    "collapsed": true
   },
   "outputs": [],
   "source": [
    "tic()\n",
    "bpvec = fetch(tmp)\n",
    "toc()"
   ]
  },
  {
   "cell_type": "code",
   "execution_count": null,
   "metadata": {
    "collapsed": true
   },
   "outputs": [],
   "source": [
    "tic()\n",
    "tmp = @spawn [bond_pr_main(v, 1, 1.2, 60, 62, pardict) for v=linspace(.0, .5,100)]\n",
    "toc()"
   ]
  },
  {
   "cell_type": "code",
   "execution_count": null,
   "metadata": {
    "collapsed": true
   },
   "outputs": [],
   "source": [
    "tic()\n",
    "bpvec = fetch(tmp)\n",
    "toc()"
   ]
  },
  {
   "cell_type": "code",
   "execution_count": null,
   "metadata": {
    "collapsed": true
   },
   "outputs": [],
   "source": [
    "# Missing:\n",
    "# function to get vmax\n",
    "# interpolate bond_pr(tau)\n",
    "# compute debt price"
   ]
  },
  {
   "cell_type": "code",
   "execution_count": null,
   "metadata": {
    "collapsed": true
   },
   "outputs": [],
   "source": [
    "tic()\n",
    "ttm_grid = linspace(.001, 1,20)\n",
    "tmp = @spawn [bond_pr_wrapper(.5, ttm, 1.2, 60, 62, pardict) for ttm=ttm_grid]\n",
    "ttmvec = fetch(tmp)\n",
    "toc()"
   ]
  },
  {
   "cell_type": "code",
   "execution_count": null,
   "metadata": {
    "collapsed": true
   },
   "outputs": [],
   "source": [
    "using Interpolations"
   ]
  },
  {
   "cell_type": "code",
   "execution_count": null,
   "metadata": {
    "collapsed": true
   },
   "outputs": [],
   "source": [
    "itp = interpolate(ttmvec, BSpline(Cubic(Line())), OnGrid())\n",
    "sitp = scale(itp, ttm_grid)"
   ]
  },
  {
   "cell_type": "code",
   "execution_count": null,
   "metadata": {
    "collapsed": true
   },
   "outputs": [],
   "source": [
    "# Get Debt Price\n",
    "\n",
    "tic()\n",
    "\n",
    "m = pardict[\"m\"]\n",
    "t0 = .0001\n",
    "\n",
    "# Grid for Interpolation\n",
    "N1 = 25\n",
    "ttm_grid = linspace(t0, m, N1)\n",
    "\n",
    "# Refined Grid\n",
    "N2 = 10^3\n",
    "ttm_grid_refined = linspace(t0, m, N2)\n",
    "dt = (m - t0)/N2\n",
    "\n",
    "tmp = @spawn [bond_pr_wrapper(.5, ttm, 1.2, 60, 62, pardict) for ttm=ttm_grid]\n",
    "ttmvec = fetch(tmp)\n",
    "\n",
    "# Interpolate\n",
    "itp = interpolate(ttmvec, BSpline(Cubic(Line())), OnGrid())\n",
    "sitp = scale(itp, ttm_grid) # Scale\n",
    "\n",
    "# Integrate\n",
    "tbp = (1/m) * sum([sitp[x] for x=ttm_grid_refined]) * dt\n",
    "\n",
    "toc()\n",
    "\n",
    "tbp"
   ]
  },
  {
   "cell_type": "code",
   "execution_count": null,
   "metadata": {
    "collapsed": true
   },
   "outputs": [],
   "source": [
    "using Plots"
   ]
  },
  {
   "cell_type": "code",
   "execution_count": null,
   "metadata": {
    "collapsed": true
   },
   "outputs": [],
   "source": [
    "plot(linspace(.001, 1., 1000), tbp)"
   ]
  },
  {
   "cell_type": "code",
   "execution_count": null,
   "metadata": {
    "collapsed": true
   },
   "outputs": [],
   "source": [
    "ttm_grid"
   ]
  },
  {
   "cell_type": "code",
   "execution_count": null,
   "metadata": {
    "collapsed": true
   },
   "outputs": [],
   "source": []
  },
  {
   "cell_type": "code",
   "execution_count": null,
   "metadata": {
    "collapsed": true
   },
   "outputs": [],
   "source": []
  },
  {
   "cell_type": "code",
   "execution_count": null,
   "metadata": {
    "collapsed": true
   },
   "outputs": [],
   "source": [
    "ttm_grid = linspace(.001, 1,20)\n",
    "A = [ttm_grid, ttmvec]"
   ]
  },
  {
   "cell_type": "code",
   "execution_count": null,
   "metadata": {
    "collapsed": true
   },
   "outputs": [],
   "source": [
    "size(A)"
   ]
  },
  {
   "cell_type": "code",
   "execution_count": null,
   "metadata": {
    "collapsed": true
   },
   "outputs": [],
   "source": [
    "A_x = 1.:2.:40.\n",
    "B = [log(x) for x in A_x]\n",
    "\n",
    "B"
   ]
  },
  {
   "cell_type": "code",
   "execution_count": null,
   "metadata": {
    "collapsed": true
   },
   "outputs": [],
   "source": [
    "tic()\n",
    "ttmvec = fetch(tmp)\n",
    "toc()"
   ]
  },
  {
   "cell_type": "code",
   "execution_count": null,
   "metadata": {
    "collapsed": true
   },
   "outputs": [],
   "source": [
    "plot(ttmvec)"
   ]
  },
  {
   "cell_type": "code",
   "execution_count": null,
   "metadata": {
    "collapsed": true
   },
   "outputs": [],
   "source": [
    "ttmvec"
   ]
  },
  {
   "cell_type": "code",
   "execution_count": null,
   "metadata": {
    "collapsed": true
   },
   "outputs": [],
   "source": [
    "using Plots"
   ]
  },
  {
   "cell_type": "code",
   "execution_count": null,
   "metadata": {
    "collapsed": true
   },
   "outputs": [],
   "source": [
    "plot(bpvec)"
   ]
  },
  {
   "cell_type": "code",
   "execution_count": null,
   "metadata": {
    "collapsed": true
   },
   "outputs": [],
   "source": []
  },
  {
   "cell_type": "code",
   "execution_count": null,
   "metadata": {
    "collapsed": true
   },
   "outputs": [],
   "source": []
  },
  {
   "cell_type": "code",
   "execution_count": null,
   "metadata": {
    "collapsed": true
   },
   "outputs": [],
   "source": []
  },
  {
   "cell_type": "code",
   "execution_count": null,
   "metadata": {
    "collapsed": true
   },
   "outputs": [],
   "source": [
    "tic()\n",
    "b = @spawn [ vol_shock_cf_integrand_wrapper(.5, .7, u, 1, pardict)*(1/1000)^2 for \n",
    "            u=linspace(0.0001, 1, 1000), vt=linspace(0.0, 1, 1000)]\n",
    "\n",
    "toc()\n",
    "a = sum(fetch(b))"
   ]
  },
  {
   "cell_type": "code",
   "execution_count": null,
   "metadata": {
    "collapsed": true
   },
   "outputs": [],
   "source": [
    "tic()\n",
    "a = bond_pr_vol_cf(.5, .7,pardict)\n",
    "toc()"
   ]
  },
  {
   "cell_type": "code",
   "execution_count": null,
   "metadata": {
    "collapsed": true
   },
   "outputs": [],
   "source": [
    "sum(fetch(a))"
   ]
  },
  {
   "cell_type": "code",
   "execution_count": null,
   "metadata": {
    "collapsed": true
   },
   "outputs": [],
   "source": [
    "sum(fetch(a))"
   ]
  },
  {
   "cell_type": "code",
   "execution_count": null,
   "metadata": {
    "collapsed": true
   },
   "outputs": [],
   "source": [
    "Pkg.add(\"Cubature\")"
   ]
  },
  {
   "cell_type": "code",
   "execution_count": null,
   "metadata": {
    "collapsed": true
   },
   "outputs": [],
   "source": [
    "tic()\n",
    "b = @spawn [ vol_shock_cf_integrand_wrapper(vt, .5, u, .7, pardict)*(1/1000)^2 for \n",
    "            u=linspace(0.0001, .7, 1000), vt=linspace(0.0, 1, 1000)]\n",
    "\n",
    "toc()\n",
    "a = sum(fetch(b))"
   ]
  },
  {
   "cell_type": "code",
   "execution_count": null,
   "metadata": {
    "collapsed": true
   },
   "outputs": [],
   "source": []
  },
  {
   "cell_type": "code",
   "execution_count": null,
   "metadata": {
    "collapsed": true
   },
   "outputs": [],
   "source": []
  },
  {
   "cell_type": "code",
   "execution_count": null,
   "metadata": {
    "collapsed": true
   },
   "outputs": [],
   "source": [
    "fetch(a)"
   ]
  },
  {
   "cell_type": "code",
   "execution_count": null,
   "metadata": {
    "collapsed": true
   },
   "outputs": [],
   "source": [
    "linspace(0, 1, 10)"
   ]
  },
  {
   "cell_type": "code",
   "execution_count": null,
   "metadata": {
    "collapsed": true
   },
   "outputs": [],
   "source": []
  },
  {
   "cell_type": "code",
   "execution_count": null,
   "metadata": {
    "collapsed": true
   },
   "outputs": [],
   "source": [
    "struct Foo\n",
    "           bar\n",
    "           baz::Int\n",
    "           qux::Float64\n",
    "       end"
   ]
  },
  {
   "cell_type": "code",
   "execution_count": null,
   "metadata": {
    "collapsed": true
   },
   "outputs": [],
   "source": [
    "mutable struct ArturRMModel\n",
    "        \n",
    "        alpha::Float64\n",
    "        pi::Float64\n",
    "        r::Float64\n",
    "        gross_delta::Float64\n",
    "\n",
    "        vb::Float64\n",
    "        vbh::Float64\n",
    "\n",
    "        xi::Float64\n",
    "        kappa::Float64\n",
    "\n",
    "        lambda::Float64\n",
    "        sigmal::Float64\n",
    "        sigmah::Float64\n",
    "\n",
    "        m::Float64\n",
    "        c::Float64\n",
    "        p::Float64\n",
    "\n",
    "        new(alpha)\n",
    "end"
   ]
  },
  {
   "cell_type": "code",
   "execution_count": null,
   "metadata": {
    "collapsed": true
   },
   "outputs": [],
   "source": [
    "arm = ArturRMModel(ones(14,1))"
   ]
  },
  {
   "cell_type": "code",
   "execution_count": null,
   "metadata": {
    "collapsed": true
   },
   "outputs": [],
   "source": [
    "arm.m "
   ]
  },
  {
   "cell_type": "code",
   "execution_count": null,
   "metadata": {
    "collapsed": true
   },
   "outputs": [],
   "source": []
  },
  {
   "cell_type": "code",
   "execution_count": null,
   "metadata": {
    "collapsed": true
   },
   "outputs": [],
   "source": [
    "Foo(baz) = 3"
   ]
  },
  {
   "cell_type": "code",
   "execution_count": null,
   "metadata": {
    "collapsed": true
   },
   "outputs": [],
   "source": [
    "fieldnames(Foo)"
   ]
  },
  {
   "cell_type": "code",
   "execution_count": null,
   "metadata": {
    "collapsed": true
   },
   "outputs": [],
   "source": [
    "u = Foo(3, 4, 5)"
   ]
  },
  {
   "cell_type": "code",
   "execution_count": null,
   "metadata": {
    "collapsed": true
   },
   "outputs": [],
   "source": [
    "u.qux"
   ]
  },
  {
   "cell_type": "code",
   "execution_count": null,
   "metadata": {
    "collapsed": true
   },
   "outputs": [],
   "source": [
    "u = Tuple{Float64,Float64}[]"
   ]
  },
  {
   "cell_type": "code",
   "execution_count": null,
   "metadata": {
    "collapsed": true
   },
   "outputs": [],
   "source": [
    "u[1] = 3."
   ]
  },
  {
   "cell_type": "code",
   "execution_count": null,
   "metadata": {
    "collapsed": true
   },
   "outputs": [],
   "source": [
    "log(100 / pardict[\"vb\"])"
   ]
  },
  {
   "cell_type": "code",
   "execution_count": null,
   "metadata": {
    "collapsed": true
   },
   "outputs": [],
   "source": [
    "analytic_functions.vol_shock_cf_integrand(log(110/60), log(100/60), log(110/62), 60, 62, .5, .7, 3, 60,\n",
    "                                   .2, .3, .08, .02, 1, .004, .6, .27, .3)"
   ]
  },
  {
   "cell_type": "code",
   "execution_count": null,
   "metadata": {
    "collapsed": true
   },
   "outputs": [],
   "source": [
    "analytic_functions.no_vol_shock_cf_pv(log(100/60), 60, .7, 1, 3, 60, .25, .08, .02, 1, .004, .6, .3)"
   ]
  },
  {
   "cell_type": "code",
   "execution_count": null,
   "metadata": {
    "collapsed": true
   },
   "outputs": [],
   "source": [
    "analytic_functions.default_payoff_pv_fun(log(100/60), 60, .7, 1., .25, .08, .02, 1, .004, .6, .3)"
   ]
  },
  {
   "cell_type": "code",
   "execution_count": null,
   "metadata": {
    "collapsed": true
   },
   "outputs": [],
   "source": [
    "analytic_functions.maturity_payoff_pv_fun(log(100/60), .7, 60, .25, .08, .02, 1, .004,  .3)"
   ]
  },
  {
   "cell_type": "code",
   "execution_count": null,
   "metadata": {
    "collapsed": true
   },
   "outputs": [],
   "source": []
  },
  {
   "cell_type": "code",
   "execution_count": null,
   "metadata": {
    "collapsed": true
   },
   "outputs": [],
   "source": [
    "analytic_functions.coupon_pv_fun(log(100/60), .7, 3, .2, .08, .02, 1, .004, .3)"
   ]
  },
  {
   "cell_type": "code",
   "execution_count": null,
   "metadata": {
    "collapsed": true
   },
   "outputs": [],
   "source": [
    "(.6 * 60 * exp(log(100/60)) / 1)"
   ]
  },
  {
   "cell_type": "code",
   "execution_count": null,
   "metadata": {
    "collapsed": true
   },
   "outputs": [],
   "source": [
    "analytic_functions.rf_debt(1, 3, 65, .08, 1, .004)"
   ]
  },
  {
   "cell_type": "code",
   "execution_count": null,
   "metadata": {
    "collapsed": true
   },
   "outputs": [],
   "source": [
    "analytic_functions.on_default_payoff(log(120/60), 60, .7, 1, 3, 65, .08, 1, .004, .6)"
   ]
  },
  {
   "cell_type": "code",
   "execution_count": null,
   "metadata": {
    "collapsed": true
   },
   "outputs": [],
   "source": [
    "(.6 * 60 * exp(log(100/60)) / 1) * (30 > (.6 * 60 * exp(log(100/60)) / 1))"
   ]
  },
  {
   "cell_type": "code",
   "execution_count": null,
   "metadata": {
    "collapsed": true
   },
   "outputs": [],
   "source": [
    "(3 / analytic_functions.rdisc(.08, 1, .004) + exp(-analytic_functions.rdisc(.08, 1, .004) * .7)) * (65 - 3 / analytic_functions.rdisc(.08, 1, .004))"
   ]
  },
  {
   "cell_type": "code",
   "execution_count": null,
   "metadata": {
    "collapsed": true
   },
   "outputs": [],
   "source": [
    "exp(-analytic_functions.rdisc(.08, 1, .004) * .7)"
   ]
  },
  {
   "cell_type": "code",
   "execution_count": null,
   "metadata": {
    "collapsed": true
   },
   "outputs": [],
   "source": [
    "(3 / analytic_functions.rdisc(.08, 1, .004) + exp(-analytic_functions.rdisc(.08, 1, .004) * .7))"
   ]
  },
  {
   "cell_type": "code",
   "execution_count": null,
   "metadata": {
    "collapsed": true
   },
   "outputs": [],
   "source": [
    "(65 - 3 / analytic_functions.rdisc(.08, 1, .004))"
   ]
  },
  {
   "cell_type": "code",
   "execution_count": null,
   "metadata": {
    "collapsed": true
   },
   "outputs": [],
   "source": [
    "analytic_functions.rf_debt(1, 3, 65, .08, 1, .004)"
   ]
  },
  {
   "cell_type": "code",
   "execution_count": null,
   "metadata": {
    "collapsed": true
   },
   "outputs": [],
   "source": [
    "analytic_functions.dv_psi_v_td(log(120/60), log(100/60), .7, .2, .08, .02)"
   ]
  },
  {
   "cell_type": "code",
   "execution_count": null,
   "metadata": {
    "collapsed": true
   },
   "outputs": [],
   "source": [
    "using Distributions\n",
    "pdf(Normal(), 0.)"
   ]
  },
  {
   "cell_type": "code",
   "execution_count": null,
   "metadata": {
    "collapsed": true
   },
   "outputs": [],
   "source": [
    "analytic_functions.psi_v_td(log(120/60), log(100/60), .7, .2, .08, .02)"
   ]
  },
  {
   "cell_type": "code",
   "execution_count": null,
   "metadata": {
    "collapsed": true
   },
   "outputs": [],
   "source": [
    "analytic_functions.G_pvs(log(100/60), .2, .2, .08, .02, 1, .004, .3)"
   ]
  },
  {
   "cell_type": "code",
   "execution_count": null,
   "metadata": {
    "collapsed": true
   },
   "outputs": [],
   "source": [
    "analytic_functions.q1_pvs(log(100/60), .2, .2, .08, .02, 1, .004, .3)"
   ]
  },
  {
   "cell_type": "code",
   "execution_count": null,
   "metadata": {
    "collapsed": true
   },
   "outputs": [],
   "source": [
    "analytic_functions.q2_pvs(log(100/60), .2, .2, .08, .02, 1, .004, .3)"
   ]
  },
  {
   "cell_type": "code",
   "execution_count": null,
   "metadata": {
    "collapsed": true
   },
   "outputs": [],
   "source": [
    "analytic_functions.zhat_pvs(.2, .08, .02, 1, .004, .3)"
   ]
  },
  {
   "cell_type": "code",
   "execution_count": null,
   "metadata": {
    "collapsed": true
   },
   "outputs": [],
   "source": [
    "af.rdisc_pvs(.08, 1, .004, .3)"
   ]
  },
  {
   "cell_type": "code",
   "execution_count": null,
   "metadata": {
    "collapsed": true
   },
   "outputs": [],
   "source": [
    "analytic_functions.zhi_vb(1, 3, 60, .2, .08, .02, 0.0, 1, .004, .6, .27)"
   ]
  },
  {
   "cell_type": "code",
   "execution_count": null,
   "metadata": {
    "collapsed": true
   },
   "outputs": [],
   "source": [
    "analytic_functions.bsm_K(log(100/60), .2, .3, .7, .2, .9)"
   ]
  },
  {
   "cell_type": "code",
   "execution_count": null,
   "metadata": {
    "collapsed": true
   },
   "outputs": [],
   "source": [
    "analytic_functions.bsm_gamma(.2, .08, .02)"
   ]
  },
  {
   "cell_type": "code",
   "execution_count": null,
   "metadata": {
    "collapsed": true
   },
   "outputs": [],
   "source": [
    "analytic_functions.bsm_A(log(100/60), .8, .25, .08, .02, .9)"
   ]
  },
  {
   "cell_type": "code",
   "execution_count": null,
   "metadata": {
    "collapsed": true
   },
   "outputs": [],
   "source": [
    "analytic_functions.zhi_eq(log(100/60), 1, 3, 60, .2, .08, .02, .0, 1, .004, .6, .27)"
   ]
  },
  {
   "cell_type": "code",
   "execution_count": null,
   "metadata": {
    "collapsed": true
   },
   "outputs": [],
   "source": [
    "max(20, 1e-4)"
   ]
  },
  {
   "cell_type": "code",
   "execution_count": null,
   "metadata": {
    "collapsed": true
   },
   "outputs": [],
   "source": [
    "\n",
    "bsm_numerator2(1, 3, 60, .2, .08, .02, 1, .004)"
   ]
  },
  {
   "cell_type": "code",
   "execution_count": null,
   "metadata": {
    "collapsed": true
   },
   "outputs": [],
   "source": [
    "bsm_denominator(1, .2, .08, .02, 0.0, 1, .004, .6)"
   ]
  },
  {
   "cell_type": "code",
   "execution_count": null,
   "metadata": {
    "collapsed": true
   },
   "outputs": [],
   "source": [
    "bsm_numerator1(1, 3, 60, .2, .08, .02, 1, .004, .27)"
   ]
  },
  {
   "cell_type": "code",
   "execution_count": null,
   "metadata": {
    "collapsed": true
   },
   "outputs": [],
   "source": [
    "auxiliary_functions.bsm_b(x, m, sigma, r, gross_delta, xi, k)"
   ]
  },
  {
   "cell_type": "code",
   "execution_count": null,
   "metadata": {
    "collapsed": true
   },
   "outputs": [],
   "source": [
    "auxiliary_functions.bsm_B(log(100/60), 1, .2, .08, .02)"
   ]
  },
  {
   "cell_type": "code",
   "execution_count": null,
   "metadata": {
    "collapsed": true
   },
   "outputs": [],
   "source": []
  },
  {
   "cell_type": "code",
   "execution_count": null,
   "metadata": {
    "collapsed": true
   },
   "outputs": [],
   "source": []
  },
  {
   "cell_type": "code",
   "execution_count": null,
   "metadata": {
    "collapsed": true
   },
   "outputs": [],
   "source": [
    "auxiliary_functions.bsm_b(log(100/60), 1, .2, .08, .02, 1, .004)"
   ]
  },
  {
   "cell_type": "code",
   "execution_count": null,
   "metadata": {
    "collapsed": true
   },
   "outputs": [],
   "source": [
    "\n",
    "zhi_bond_price(60, log(100/60), 1, 1, 3, 69, .2, .08, .02, 1, .004, .6, .27)"
   ]
  },
  {
   "cell_type": "code",
   "execution_count": null,
   "metadata": {
    "collapsed": true
   },
   "outputs": [],
   "source": [
    "rdisc(.08, 1, .002)"
   ]
  },
  {
   "cell_type": "code",
   "execution_count": null,
   "metadata": {
    "collapsed": true
   },
   "outputs": [],
   "source": [
    "bsm_F(.5, .7, .2, .08, .02) #, 1, .004)"
   ]
  },
  {
   "cell_type": "code",
   "execution_count": null,
   "metadata": {
    "collapsed": true
   },
   "outputs": [],
   "source": [
    "bsm_G(.5, .7, .2, .08, .02, 1, .004)"
   ]
  },
  {
   "cell_type": "code",
   "execution_count": null,
   "metadata": {
    "collapsed": true
   },
   "outputs": [],
   "source": [
    "cdf(Normal(), bsm_h1(.5, .7, .2, .08, .02))"
   ]
  },
  {
   "cell_type": "code",
   "execution_count": null,
   "metadata": {
    "collapsed": true
   },
   "outputs": [],
   "source": [
    "bsm_eta(.5, .08, .02)"
   ]
  },
  {
   "cell_type": "code",
   "execution_count": null,
   "metadata": {
    "collapsed": true
   },
   "outputs": [],
   "source": [
    "using Distributions"
   ]
  },
  {
   "cell_type": "code",
   "execution_count": null,
   "metadata": {
    "collapsed": true
   },
   "outputs": [],
   "source": [
    "bsm_z(.25, .08, .02)"
   ]
  },
  {
   "cell_type": "code",
   "execution_count": null,
   "metadata": {
    "collapsed": true
   },
   "outputs": [],
   "source": [
    "quantile.(Normal(), [0.5, 0.975])"
   ]
  },
  {
   "cell_type": "code",
   "execution_count": null,
   "metadata": {
    "collapsed": true
   },
   "outputs": [],
   "source": [
    "cdf(Normal(), 1.96)"
   ]
  },
  {
   "cell_type": "code",
   "execution_count": null,
   "metadata": {
    "collapsed": true
   },
   "outputs": [],
   "source": [
    "log(100/60)"
   ]
  },
  {
   "cell_type": "code",
   "execution_count": null,
   "metadata": {
    "collapsed": true
   },
   "outputs": [],
   "source": []
  },
  {
   "cell_type": "code",
   "execution_count": null,
   "metadata": {
    "collapsed": true
   },
   "outputs": [],
   "source": []
  },
  {
   "cell_type": "code",
   "execution_count": null,
   "metadata": {
    "collapsed": true
   },
   "outputs": [],
   "source": [
    "MethodError: objects of type Symbol are not callable"
   ]
  },
  {
   "cell_type": "code",
   "execution_count": null,
   "metadata": {
    "collapsed": true
   },
   "outputs": [],
   "source": [
    "function fff(x, a=1)\n",
    "    return exp(cos(a * x))\n",
    "end\n"
   ]
  },
  {
   "cell_type": "code",
   "execution_count": null,
   "metadata": {
    "collapsed": true
   },
   "outputs": [],
   "source": [
    "fff(pi,2)"
   ]
  },
  {
   "cell_type": "code",
   "execution_count": null,
   "metadata": {
    "collapsed": true
   },
   "outputs": [],
   "source": []
  }
 ],
 "metadata": {
  "kernelspec": {
   "display_name": "Julia 0.6.0",
   "language": "julia",
   "name": "julia-0.6"
  },
  "language_info": {
   "file_extension": ".jl",
   "mimetype": "application/julia",
   "name": "julia",
   "version": "0.6.0"
  }
 },
 "nbformat": 4,
 "nbformat_minor": 2
}
